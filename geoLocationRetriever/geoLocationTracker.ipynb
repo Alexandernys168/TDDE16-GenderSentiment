{
 "cells": [
  {
   "cell_type": "code",
   "execution_count": 2,
   "metadata": {},
   "outputs": [],
   "source": [
    "import tweepy\n",
    "import pandas as pd\n",
    "import time\n",
    "\n",
    "# Twitter API credentials\n",
    "API_KEY = 'RsSlIP3FwY4f1EIMc8bebHZEG'\n",
    "API_SECRET_KEY = '673DJ5maWnRceyL6fF8BZLEayupqFBYWtLcTaBX3bBMZx7tkyq'\n",
    "ACCESS_TOKEN = '1755730867886895104-HLSkSI1ZDxdsC6CFuxMxxE94RQLFOg'\n",
    "ACCESS_TOKEN_SECRET = 'pgK7F9p2wRBDG0C3vqi1wgFFXWGHvPofLgkf79R1GNaJU'\n",
    "\n",
    "BEARER_TOKEN = 'AAAAAAAAAAAAAAAAAAAAAKiGxQEAAAAAczQM1DB71JI%2FqQty68FLJCuUylc%3Dpcmghg2Ho6Bnxwdcr2KG5mKOdBIwJtvNX90A5xyv1HcaLQDxdc'\n",
    "\n"
   ]
  },
  {
   "cell_type": "code",
   "execution_count": 3,
   "metadata": {},
   "outputs": [],
   "source": [
    "\n",
    "client = tweepy.Client(bearer_token=BEARER_TOKEN)"
   ]
  },
  {
   "cell_type": "code",
   "execution_count": 6,
   "metadata": {},
   "outputs": [
    {
     "name": "stdout",
     "output_type": "stream",
     "text": [
      "Resuming from last saved state.\n"
     ]
    }
   ],
   "source": [
    "# Cache for already processed users\n",
    "user_cache = {}\n",
    "location_cache = {}\n",
    "\n",
    "\n",
    "try:\n",
    "    progress_file = \"progress.csv\"\n",
    "    df = pd.read_csv(progress_file)\n",
    "    print(\"Resuming from last saved state.\")\n",
    "except FileNotFoundError:\n",
    "    \n",
    "    file_path = \"../dataset/predicted_stances/updated_predicted_stances.csv\"\n",
    "    df = pd.read_csv(file_path)\n",
    "    \n",
    "    if 'latitude' not in df.columns:\n",
    "        df['latitude'] = None\n",
    "        df['longitude'] = None\n",
    "        df['location_name'] = None\n",
    "\n",
    "import os\n",
    "\n",
    "def save_progress():\n",
    "    \"\"\"Update the DataFrame with cached values and save to a CSV file.\"\"\"\n",
    "    try:\n",
    "        \n",
    "        for user, location_data in user_cache.items():\n",
    "            if location_data: \n",
    "                latitude, longitude, location_name = location_data\n",
    "                df.loc[df['user'] == user, ['latitude', 'longitude', 'location_name']] = latitude, longitude, location_name\n",
    "\n",
    "       \n",
    "        temp_file = \"progress_temp.csv\"\n",
    "        df.to_csv(temp_file, index=False)\n",
    "        print(f\"[DEBUG] Temporary progress saved to '{temp_file}'.\")\n",
    "\n",
    "       \n",
    "        os.replace(temp_file, \"progress.csv\")\n",
    "        print(f\"[DEBUG] Temporary file renamed to 'progress.csv'. Progress saved.\")\n",
    "    except PermissionError as e:\n",
    "        print(f\"[ERROR] Permission error while saving progress: {e}\")\n",
    "    except Exception as e:\n",
    "        print(f\"[ERROR] Unexpected error while saving progress: {e}\")\n"
   ]
  },
  {
   "cell_type": "code",
   "execution_count": 7,
   "metadata": {},
   "outputs": [],
   "source": [
    "import time\n",
    "\n",
    "def get_user_location_cached(username):\n",
    "    \"\"\"Get user location from Twitter API with caching and rate limit handling.\"\"\"\n",
    "    if username in user_cache:\n",
    "        if user_cache[username] is not None:\n",
    "            print(f\"[DEBUG] Returning cached location for user '{username}': {user_cache[username]}\")\n",
    "            return user_cache[username]\n",
    "        else:\n",
    "            print(f\"[DEBUG] Cached value for user '{username}' is None. Retrying API call.\")\n",
    "\n",
    "    try:\n",
    "        print(f\"[DEBUG] Attempting to fetch user location for: {username}\")\n",
    "        time.sleep(1)  \n",
    "        user = client.get_user(username=username, user_fields=['location'])\n",
    "        profile_location = user.data.location if user and user.data else None\n",
    "        print(f\"[DEBUG] API response location for {username}: {profile_location}\")\n",
    "        user_cache[username] = profile_location\n",
    "        return profile_location\n",
    "\n",
    "    except tweepy.errors.TooManyRequests as e:\n",
    "        \n",
    "        reset_time = int(e.response.headers.get(\"x-rate-limit-reset\", time.time() + 60))  \n",
    "        wait_time = reset_time - int(time.time())\n",
    "        print(f\"[ERROR] Rate limit hit for Twitter API. Waiting for {wait_time} seconds...\")\n",
    "        time.sleep(max(wait_time, 0))  \n",
    "        raise  \n",
    "\n",
    "    except Exception as e:\n",
    "        print(f\"[ERROR] Unexpected error for user '{username}': {e}\")\n",
    "        user_cache[username] = None\n",
    "        return None\n"
   ]
  },
  {
   "cell_type": "code",
   "execution_count": null,
   "metadata": {},
   "outputs": [
    {
     "name": "stdout",
     "output_type": "stream",
     "text": [
      "[DEBUG] Attempting to fetch user location for: RetirePedia\n",
      "[ERROR] Rate limit hit for Twitter API. Waiting for 820 seconds...\n"
     ]
    }
   ],
   "source": [
    "print(get_user_location_cached(\"RetirePedia\"))"
   ]
  },
  {
   "cell_type": "code",
   "execution_count": 47,
   "metadata": {},
   "outputs": [],
   "source": [
    "import time\n",
    "\n",
    "def wait_on_rate_limit():\n",
    "    \"\"\"Wait for a period to recover from the API rate limit.\"\"\"\n",
    "    wait_time = 2  \n",
    "    print(\"Rate limit exceeded. Waiting...\")\n",
    "    time.sleep(wait_time) \n"
   ]
  },
  {
   "cell_type": "code",
   "execution_count": 48,
   "metadata": {},
   "outputs": [],
   "source": [
    "import requests\n",
    "\n",
    "def geocode_location_cached(location_name):\n",
    "    \"\"\"Geocode location using GeoNames API with caching.\"\"\"\n",
    "    if location_name in location_cache:\n",
    "        return location_cache[location_name]\n",
    "    username = \"alexandernys\"  \n",
    "    url = \"http://api.geonames.org/searchJSON\"\n",
    "    params = {\n",
    "        \"q\": location_name,\n",
    "        \"maxRows\": 1,\n",
    "        \"username\": username\n",
    "    }\n",
    "    try:\n",
    "        \n",
    "        time.sleep(1)  \n",
    "        response = requests.get(url, params=params)\n",
    "        if response.status_code == 200:\n",
    "            data = response.json()\n",
    "            if \"geonames\" in data and data[\"geonames\"]:\n",
    "                result = data[\"geonames\"][0]\n",
    "                lat, lng, loc_name = result[\"lat\"], result[\"lng\"], result[\"name\"]\n",
    "                location_cache[location_name] = (lat, lng, loc_name)\n",
    "                return lat, lng, loc_name\n",
    "    except requests.exceptions.HTTPError as e:\n",
    "        if e.response.status_code == 429:\n",
    "            print(f\"Rate limit hit for GeoNames API when processing location: {location_name}\")\n",
    "            raise  \n",
    "    except Exception as e:\n",
    "        print(f\"Error geocoding location with GeoNames API: {e}\")\n",
    "        return None, None, None"
   ]
  },
  {
   "cell_type": "code",
   "execution_count": null,
   "metadata": {},
   "outputs": [],
   "source": [
    "\n",
    "try:\n",
    "    total_rows = len(df)\n",
    "    for index, row in df.iterrows():\n",
    "        try:\n",
    "            \n",
    "            if pd.notna(row['latitude']):\n",
    "                print(f\"[INFO] Row {index + 1}/{total_rows}: Already processed. Skipping.\")\n",
    "                continue\n",
    "\n",
    "            username = row['user']  \n",
    "            if pd.notna(username):\n",
    "                if username in user_cache:\n",
    "                    print(f\"[CACHE] Row {index + 1}/{total_rows}: Using cached location for user '{username}'.\")\n",
    "                    profile_location = user_cache[username]\n",
    "                else:\n",
    "                    print(f\"[API] Row {index + 1}/{total_rows}: Fetching location from API for user '{username}'.\")\n",
    "                    profile_location = get_user_location_cached(username)\n",
    "                    user_cache[username] = profile_location\n",
    "                    print(f\"[INFO] Sleeping for 2 seconds to avoid hitting API rate limits...\")\n",
    "                    time.sleep(2) \n",
    "\n",
    "                if profile_location:\n",
    "                    if profile_location in location_cache:\n",
    "                        print(f\"[CACHE] Row {index + 1}/{total_rows}: Using cached geocode for location '{profile_location}'.\")\n",
    "                        lat, lng, loc_name = location_cache[profile_location]\n",
    "                    else:\n",
    "                        print(f\"[API] Row {index + 1}/{total_rows}: Fetching geocode from API for location '{profile_location}'.\")\n",
    "                        lat, lng, loc_name = geocode_location_cached(profile_location)\n",
    "                        location_cache[profile_location] = (lat, lng, loc_name)\n",
    "                        print(f\"[INFO] Sleeping for 2 seconds to avoid hitting API rate limits...\")\n",
    "                        time.sleep(2)  \n",
    "\n",
    "                    \n",
    "                    df.at[index, 'latitude'] = lat\n",
    "                    df.at[index, 'longitude'] = lng\n",
    "                    df.at[index, 'location_name'] = loc_name\n",
    "                    print(f\"[DEBUG] Updated row {index + 1}: {df.iloc[index]}\")\n",
    "\n",
    "            \n",
    "            if index % 10 == 0:\n",
    "                print(f\"[DEBUG] Attempting to save progress at row {index + 1}/{total_rows}.\")\n",
    "                save_progress()\n",
    "                print(f\"[DEBUG] Save progress completed for row {index + 1}/{total_rows}.\")\n",
    "\n",
    "        except Exception as e:\n",
    "            print(f\"[ERROR] Unexpected error for user '{username}' at row {index + 1}/{total_rows}: {e}\")\n",
    "            user_cache[username] = None\n",
    "            save_progress()\n",
    "            continue\n",
    "\n",
    "except KeyboardInterrupt:\n",
    "    print(\"[INFO] Interrupted by user. Saving progress...\")\n",
    "    save_progress()\n",
    "\n",
    "print(\"[INFO] Processing completed.\")"
   ]
  }
 ],
 "metadata": {
  "kernelspec": {
   "display_name": "twitter_env",
   "language": "python",
   "name": "python3"
  },
  "language_info": {
   "codemirror_mode": {
    "name": "ipython",
    "version": 3
   },
   "file_extension": ".py",
   "mimetype": "text/x-python",
   "name": "python",
   "nbconvert_exporter": "python",
   "pygments_lexer": "ipython3",
   "version": "3.10.15"
  }
 },
 "nbformat": 4,
 "nbformat_minor": 2
}
