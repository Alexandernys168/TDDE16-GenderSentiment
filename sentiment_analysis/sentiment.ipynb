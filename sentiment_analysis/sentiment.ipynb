{
 "cells": [
  {
   "cell_type": "code",
   "execution_count": null,
   "metadata": {},
   "outputs": [],
   "source": [
    "from vaderSentiment.vaderSentiment import SentimentIntensityAnalyzer\n",
    "from textblob import TextBlob\n",
    "from flair.models import TextClassifier\n",
    "from flair.data import Sentence\n",
    "import torch\n",
    "from senticnet.senticnet import SenticNet \n"
   ]
  },
  {
   "cell_type": "code",
   "execution_count": null,
   "metadata": {},
   "outputs": [],
   "source": [
    "import pandas as pd\n",
    "from tqdm import tqdm\n",
    "from google.colab import drive\n",
    "drive.mount('/content/drive')"
   ]
  },
  {
   "cell_type": "code",
   "execution_count": null,
   "metadata": {},
   "outputs": [],
   "source": [
    "# Initialize SenticNet\n",
    "senticnet = SenticNet()\n",
    "\n",
    "def get_senticnet_sentiment(text):\n",
    "    try:\n",
    "        \n",
    "        return float(senticnet.polarity_value(text))\n",
    "    except KeyError:\n",
    "       \n",
    "        return 0.0"
   ]
  },
  {
   "cell_type": "code",
   "execution_count": null,
   "metadata": {},
   "outputs": [],
   "source": [
    "# Initialize models\n",
    "vader_analyzer = SentimentIntensityAnalyzer()\n",
    "flair_lstm = TextClassifier.load('sentiment-fast').to('cuda')  \n",
    "flair_bert = TextClassifier.load('sentiment').to('cuda')  \n",
    "\n"
   ]
  },
  {
   "cell_type": "code",
   "execution_count": null,
   "metadata": {},
   "outputs": [],
   "source": [
    "def analyze_sentiment_with_gpu(tweet):\n",
    "   \n",
    "    vader_score = vader_analyzer.polarity_scores(tweet)['compound']\n",
    "    \n",
    "   \n",
    "    textblob_score = TextBlob(tweet).sentiment.polarity\n",
    "    \n",
    "  \n",
    "    lstm_sentence = Sentence(tweet)\n",
    "    flair_lstm.predict(lstm_sentence)\n",
    "    lstm_score = lstm_sentence.labels[0].score * (1 if \"POSITIVE\" in str(lstm_sentence.labels[0]) else -1)\n",
    "    \n",
    "  \n",
    "    bert_sentence = Sentence(tweet)\n",
    "    flair_bert.predict(bert_sentence)\n",
    "    bert_score = bert_sentence.labels[0].score * (1 if \"POSITIVE\" in str(bert_sentence.labels[0]) else -1)\n",
    "\n",
    "    \n",
    "    senticnet_score = get_senticnet_sentiment(tweet)\n",
    "    \n",
    "    \n",
    "    combined_score = (0.3*vader_score + 0.3*textblob_score + 0.85*lstm_score + 0.85*bert_score + 0.4*senticnet_score) / 5\n",
    "    \n",
    " \n",
    "    if combined_score < -0.35:\n",
    "        sentiment_label = \"Negative\"\n",
    "    elif combined_score > 0.35:\n",
    "        sentiment_label = \"Positive\"\n",
    "    else:\n",
    "        sentiment_label = \"Neutral\"\n",
    "    \n",
    "    return {\n",
    "        \"VADER\": vader_score,\n",
    "        \"TextBlob\": textblob_score,\n",
    "        \"Flair_LSTM\": lstm_score,\n",
    "        \"Flair_BERT\": bert_score,\n",
    "        \"SenticNet\": senticnet_score,\n",
    "        \"Combined_Score\": combined_score,\n",
    "        \"Sentiment_Label\": sentiment_label\n",
    "    }\n"
   ]
  },
  {
   "cell_type": "code",
   "execution_count": null,
   "metadata": {},
   "outputs": [],
   "source": [
    "\n",
    "def process_file(file_path, output_path):\n",
    "    \n",
    "    df = pd.read_csv(file_path)\n",
    "    \n",
    "    \n",
    "    if 'cleaned_tweet' not in df.columns:\n",
    "        raise ValueError(\"The file must contain a 'cleaned_tweet' column.\")\n",
    "    \n",
    "    \n",
    "    tqdm.pandas(desc=\"Analyzing Sentiments\")\n",
    "    \n",
    "    \n",
    "    df['sentiment'] = df['cleaned_tweet'].progress_apply(analyze_sentiment_with_gpu)\n",
    "    \n",
    "   \n",
    "    df.to_csv(output_path, index=False)\n",
    "    print(f\"Sentiment analysis completed. Results saved to {output_path}.\")\n",
    "\n",
    "\n",
    "file_path = \"/content/drive/MyDrive/preprocessed_data/predicted_genders_filtered.csv\"  \n",
    "output_path = \"/content/drive/MyDrive/preprocessed_data/predicted_sentiment.csv\"  #\n",
    "process_file(file_path, output_path)"
   ]
  }
 ],
 "metadata": {
  "kernelspec": {
   "display_name": "textMining2",
   "language": "python",
   "name": "python3"
  },
  "language_info": {
   "name": "python",
   "version": "3.11.10"
  }
 },
 "nbformat": 4,
 "nbformat_minor": 2
}
