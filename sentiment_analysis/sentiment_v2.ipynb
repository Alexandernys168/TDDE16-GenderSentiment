{
  "cells": [
    {
      "cell_type": "code",
      "execution_count": null,
      "metadata": {
        "colab": {
          "base_uri": "https://localhost:8080/"
        },
        "collapsed": true,
        "id": "ZNiUIzizWIoL",
        "outputId": "d140dba3-8ab1-4328-ebfb-addf31d0a91e"
      },
      "outputs": [
        {
          "name": "stdout",
          "output_type": "stream",
          "text": [
            "Collecting vaderSentiment\n",
            "  Downloading vaderSentiment-3.3.2-py2.py3-none-any.whl.metadata (572 bytes)\n",
            "Requirement already satisfied: nltk in /usr/local/lib/python3.10/dist-packages (3.9.1)\n",
            "Requirement already satisfied: requests in /usr/local/lib/python3.10/dist-packages (from vaderSentiment) (2.32.3)\n",
            "Requirement already satisfied: click in /usr/local/lib/python3.10/dist-packages (from nltk) (8.1.8)\n",
            "Requirement already satisfied: joblib in /usr/local/lib/python3.10/dist-packages (from nltk) (1.4.2)\n",
            "Requirement already satisfied: regex>=2021.8.3 in /usr/local/lib/python3.10/dist-packages (from nltk) (2024.11.6)\n",
            "Requirement already satisfied: tqdm in /usr/local/lib/python3.10/dist-packages (from nltk) (4.67.1)\n",
            "Requirement already satisfied: charset-normalizer<4,>=2 in /usr/local/lib/python3.10/dist-packages (from requests->vaderSentiment) (3.4.1)\n",
            "Requirement already satisfied: idna<4,>=2.5 in /usr/local/lib/python3.10/dist-packages (from requests->vaderSentiment) (3.10)\n",
            "Requirement already satisfied: urllib3<3,>=1.21.1 in /usr/local/lib/python3.10/dist-packages (from requests->vaderSentiment) (2.3.0)\n",
            "Requirement already satisfied: certifi>=2017.4.17 in /usr/local/lib/python3.10/dist-packages (from requests->vaderSentiment) (2024.12.14)\n",
            "Downloading vaderSentiment-3.3.2-py2.py3-none-any.whl (125 kB)\n",
            "\u001b[2K   \u001b[90m━━━━━━━━━━━━━━━━━━━━━━━━━━━━━━━━━━━━━━━━\u001b[0m \u001b[32m126.0/126.0 kB\u001b[0m \u001b[31m4.5 MB/s\u001b[0m eta \u001b[36m0:00:00\u001b[0m\n",
            "\u001b[?25hInstalling collected packages: vaderSentiment\n",
            "Successfully installed vaderSentiment-3.3.2\n",
            "Requirement already satisfied: textblob in /usr/local/lib/python3.10/dist-packages (0.17.1)\n",
            "Requirement already satisfied: nltk>=3.1 in /usr/local/lib/python3.10/dist-packages (from textblob) (3.9.1)\n",
            "Requirement already satisfied: click in /usr/local/lib/python3.10/dist-packages (from nltk>=3.1->textblob) (8.1.8)\n",
            "Requirement already satisfied: joblib in /usr/local/lib/python3.10/dist-packages (from nltk>=3.1->textblob) (1.4.2)\n",
            "Requirement already satisfied: regex>=2021.8.3 in /usr/local/lib/python3.10/dist-packages (from nltk>=3.1->textblob) (2024.11.6)\n",
            "Requirement already satisfied: tqdm in /usr/local/lib/python3.10/dist-packages (from nltk>=3.1->textblob) (4.67.1)\n",
            "[nltk_data] Downloading package brown to /root/nltk_data...\n",
            "[nltk_data]   Unzipping corpora/brown.zip.\n",
            "[nltk_data] Downloading package punkt to /root/nltk_data...\n",
            "[nltk_data]   Unzipping tokenizers/punkt.zip.\n",
            "[nltk_data] Downloading package wordnet to /root/nltk_data...\n",
            "[nltk_data] Downloading package averaged_perceptron_tagger to\n",
            "[nltk_data]     /root/nltk_data...\n",
            "[nltk_data]   Unzipping taggers/averaged_perceptron_tagger.zip.\n",
            "[nltk_data] Downloading package conll2000 to /root/nltk_data...\n",
            "[nltk_data]   Unzipping corpora/conll2000.zip.\n",
            "[nltk_data] Downloading package movie_reviews to /root/nltk_data...\n",
            "[nltk_data]   Unzipping corpora/movie_reviews.zip.\n",
            "Finished.\n",
            "Collecting flair\n",
            "  Downloading flair-0.15.0-py3-none-any.whl.metadata (12 kB)\n",
            "Collecting boto3>=1.20.27 (from flair)\n",
            "  Downloading boto3-1.35.95-py3-none-any.whl.metadata (6.7 kB)\n",
            "Collecting conllu<5.0.0,>=4.0 (from flair)\n",
            "  Downloading conllu-4.5.3-py2.py3-none-any.whl.metadata (19 kB)\n",
            "Requirement already satisfied: deprecated>=1.2.13 in /usr/local/lib/python3.10/dist-packages (from flair) (1.2.15)\n",
            "Collecting ftfy>=6.1.0 (from flair)\n",
            "  Downloading ftfy-6.3.1-py3-none-any.whl.metadata (7.3 kB)\n",
            "Requirement already satisfied: gdown>=4.4.0 in /usr/local/lib/python3.10/dist-packages (from flair) (5.2.0)\n",
            "Requirement already satisfied: huggingface-hub>=0.10.0 in /usr/local/lib/python3.10/dist-packages (from flair) (0.27.1)\n",
            "Collecting langdetect>=1.0.9 (from flair)\n",
            "  Downloading langdetect-1.0.9.tar.gz (981 kB)\n",
            "\u001b[2K     \u001b[90m━━━━━━━━━━━━━━━━━━━━━━━━━━━━━━━━━━━━━━━━\u001b[0m \u001b[32m981.5/981.5 kB\u001b[0m \u001b[31m19.0 MB/s\u001b[0m eta \u001b[36m0:00:00\u001b[0m\n",
            "\u001b[?25h  Preparing metadata (setup.py) ... \u001b[?25l\u001b[?25hdone\n",
            "Requirement already satisfied: lxml>=4.8.0 in /usr/local/lib/python3.10/dist-packages (from flair) (5.3.0)\n",
            "Requirement already satisfied: matplotlib>=2.2.3 in /usr/local/lib/python3.10/dist-packages (from flair) (3.10.0)\n",
            "Requirement already satisfied: more-itertools>=8.13.0 in /usr/local/lib/python3.10/dist-packages (from flair) (10.5.0)\n",
            "Collecting mpld3>=0.3 (from flair)\n",
            "  Downloading mpld3-0.5.10-py3-none-any.whl.metadata (5.1 kB)\n",
            "Collecting pptree>=3.1 (from flair)\n",
            "  Downloading pptree-3.1.tar.gz (3.0 kB)\n",
            "  Preparing metadata (setup.py) ... \u001b[?25l\u001b[?25hdone\n",
            "Requirement already satisfied: python-dateutil>=2.8.2 in /usr/local/lib/python3.10/dist-packages (from flair) (2.8.2)\n",
            "Collecting pytorch-revgrad>=0.2.0 (from flair)\n",
            "  Downloading pytorch_revgrad-0.2.0-py3-none-any.whl.metadata (1.7 kB)\n",
            "Requirement already satisfied: regex>=2022.1.18 in /usr/local/lib/python3.10/dist-packages (from flair) (2024.11.6)\n",
            "Requirement already satisfied: scikit-learn>=1.0.2 in /usr/local/lib/python3.10/dist-packages (from flair) (1.6.0)\n",
            "Collecting segtok>=1.5.11 (from flair)\n",
            "  Downloading segtok-1.5.11-py3-none-any.whl.metadata (9.0 kB)\n",
            "Collecting sqlitedict>=2.0.0 (from flair)\n",
            "  Downloading sqlitedict-2.1.0.tar.gz (21 kB)\n",
            "  Preparing metadata (setup.py) ... \u001b[?25l\u001b[?25hdone\n",
            "Requirement already satisfied: tabulate>=0.8.10 in /usr/local/lib/python3.10/dist-packages (from flair) (0.9.0)\n",
            "Requirement already satisfied: torch!=1.8,>=1.5.0 in /usr/local/lib/python3.10/dist-packages (from flair) (2.5.1+cu121)\n",
            "Requirement already satisfied: tqdm>=4.63.0 in /usr/local/lib/python3.10/dist-packages (from flair) (4.67.1)\n",
            "Collecting transformer-smaller-training-vocab>=0.2.3 (from flair)\n",
            "  Downloading transformer_smaller_training_vocab-0.4.0-py3-none-any.whl.metadata (8.1 kB)\n",
            "Requirement already satisfied: transformers<5.0.0,>=4.25.0 in /usr/local/lib/python3.10/dist-packages (from transformers[sentencepiece]<5.0.0,>=4.25.0->flair) (4.47.1)\n",
            "Collecting wikipedia-api>=0.5.7 (from flair)\n",
            "  Downloading wikipedia_api-0.7.3.tar.gz (17 kB)\n",
            "  Preparing metadata (setup.py) ... \u001b[?25l\u001b[?25hdone\n",
            "Collecting bioc<3.0.0,>=2.0.0 (from flair)\n",
            "  Downloading bioc-2.1-py3-none-any.whl.metadata (4.6 kB)\n",
            "Collecting jsonlines>=1.2.0 (from bioc<3.0.0,>=2.0.0->flair)\n",
            "  Downloading jsonlines-4.0.0-py3-none-any.whl.metadata (1.6 kB)\n",
            "Collecting intervaltree (from bioc<3.0.0,>=2.0.0->flair)\n",
            "  Downloading intervaltree-3.1.0.tar.gz (32 kB)\n",
            "  Preparing metadata (setup.py) ... \u001b[?25l\u001b[?25hdone\n",
            "Collecting docopt (from bioc<3.0.0,>=2.0.0->flair)\n",
            "  Downloading docopt-0.6.2.tar.gz (25 kB)\n",
            "  Preparing metadata (setup.py) ... \u001b[?25l\u001b[?25hdone\n",
            "Collecting botocore<1.36.0,>=1.35.95 (from boto3>=1.20.27->flair)\n",
            "  Downloading botocore-1.35.95-py3-none-any.whl.metadata (5.7 kB)\n",
            "Collecting jmespath<2.0.0,>=0.7.1 (from boto3>=1.20.27->flair)\n",
            "  Downloading jmespath-1.0.1-py3-none-any.whl.metadata (7.6 kB)\n",
            "Collecting s3transfer<0.11.0,>=0.10.0 (from boto3>=1.20.27->flair)\n",
            "  Downloading s3transfer-0.10.4-py3-none-any.whl.metadata (1.7 kB)\n",
            "Requirement already satisfied: wrapt<2,>=1.10 in /usr/local/lib/python3.10/dist-packages (from deprecated>=1.2.13->flair) (1.17.0)\n",
            "Requirement already satisfied: wcwidth in /usr/local/lib/python3.10/dist-packages (from ftfy>=6.1.0->flair) (0.2.13)\n",
            "Requirement already satisfied: beautifulsoup4 in /usr/local/lib/python3.10/dist-packages (from gdown>=4.4.0->flair) (4.12.3)\n",
            "Requirement already satisfied: filelock in /usr/local/lib/python3.10/dist-packages (from gdown>=4.4.0->flair) (3.16.1)\n",
            "Requirement already satisfied: requests[socks] in /usr/local/lib/python3.10/dist-packages (from gdown>=4.4.0->flair) (2.32.3)\n",
            "Requirement already satisfied: fsspec>=2023.5.0 in /usr/local/lib/python3.10/dist-packages (from huggingface-hub>=0.10.0->flair) (2024.10.0)\n",
            "Requirement already satisfied: packaging>=20.9 in /usr/local/lib/python3.10/dist-packages (from huggingface-hub>=0.10.0->flair) (24.2)\n",
            "Requirement already satisfied: pyyaml>=5.1 in /usr/local/lib/python3.10/dist-packages (from huggingface-hub>=0.10.0->flair) (6.0.2)\n",
            "Requirement already satisfied: typing-extensions>=3.7.4.3 in /usr/local/lib/python3.10/dist-packages (from huggingface-hub>=0.10.0->flair) (4.12.2)\n",
            "Requirement already satisfied: six in /usr/local/lib/python3.10/dist-packages (from langdetect>=1.0.9->flair) (1.17.0)\n",
            "Requirement already satisfied: contourpy>=1.0.1 in /usr/local/lib/python3.10/dist-packages (from matplotlib>=2.2.3->flair) (1.3.1)\n",
            "Requirement already satisfied: cycler>=0.10 in /usr/local/lib/python3.10/dist-packages (from matplotlib>=2.2.3->flair) (0.12.1)\n",
            "Requirement already satisfied: fonttools>=4.22.0 in /usr/local/lib/python3.10/dist-packages (from matplotlib>=2.2.3->flair) (4.55.3)\n",
            "Requirement already satisfied: kiwisolver>=1.3.1 in /usr/local/lib/python3.10/dist-packages (from matplotlib>=2.2.3->flair) (1.4.8)\n",
            "Requirement already satisfied: numpy>=1.23 in /usr/local/lib/python3.10/dist-packages (from matplotlib>=2.2.3->flair) (1.26.4)\n",
            "Requirement already satisfied: pillow>=8 in /usr/local/lib/python3.10/dist-packages (from matplotlib>=2.2.3->flair) (11.1.0)\n",
            "Requirement already satisfied: pyparsing>=2.3.1 in /usr/local/lib/python3.10/dist-packages (from matplotlib>=2.2.3->flair) (3.2.1)\n",
            "Requirement already satisfied: jinja2 in /usr/local/lib/python3.10/dist-packages (from mpld3>=0.3->flair) (3.1.5)\n",
            "Requirement already satisfied: scipy>=1.6.0 in /usr/local/lib/python3.10/dist-packages (from scikit-learn>=1.0.2->flair) (1.13.1)\n",
            "Requirement already satisfied: joblib>=1.2.0 in /usr/local/lib/python3.10/dist-packages (from scikit-learn>=1.0.2->flair) (1.4.2)\n",
            "Requirement already satisfied: threadpoolctl>=3.1.0 in /usr/local/lib/python3.10/dist-packages (from scikit-learn>=1.0.2->flair) (3.5.0)\n",
            "Requirement already satisfied: networkx in /usr/local/lib/python3.10/dist-packages (from torch!=1.8,>=1.5.0->flair) (3.4.2)\n",
            "Requirement already satisfied: sympy==1.13.1 in /usr/local/lib/python3.10/dist-packages (from torch!=1.8,>=1.5.0->flair) (1.13.1)\n",
            "Requirement already satisfied: mpmath<1.4,>=1.1.0 in /usr/local/lib/python3.10/dist-packages (from sympy==1.13.1->torch!=1.8,>=1.5.0->flair) (1.3.0)\n",
            "Requirement already satisfied: tokenizers<0.22,>=0.21 in /usr/local/lib/python3.10/dist-packages (from transformers<5.0.0,>=4.25.0->transformers[sentencepiece]<5.0.0,>=4.25.0->flair) (0.21.0)\n",
            "Requirement already satisfied: safetensors>=0.4.1 in /usr/local/lib/python3.10/dist-packages (from transformers<5.0.0,>=4.25.0->transformers[sentencepiece]<5.0.0,>=4.25.0->flair) (0.5.0)\n",
            "Requirement already satisfied: sentencepiece!=0.1.92,>=0.1.91 in /usr/local/lib/python3.10/dist-packages (from transformers[sentencepiece]<5.0.0,>=4.25.0->flair) (0.2.0)\n",
            "Requirement already satisfied: protobuf in /usr/local/lib/python3.10/dist-packages (from transformers[sentencepiece]<5.0.0,>=4.25.0->flair) (4.25.5)\n",
            "Requirement already satisfied: urllib3!=2.2.0,<3,>=1.25.4 in /usr/local/lib/python3.10/dist-packages (from botocore<1.36.0,>=1.35.95->boto3>=1.20.27->flair) (2.3.0)\n",
            "Requirement already satisfied: attrs>=19.2.0 in /usr/local/lib/python3.10/dist-packages (from jsonlines>=1.2.0->bioc<3.0.0,>=2.0.0->flair) (24.3.0)\n",
            "Requirement already satisfied: accelerate>=0.26.0 in /usr/local/lib/python3.10/dist-packages (from transformers[sentencepiece,torch]<5.0,>=4.1->transformer-smaller-training-vocab>=0.2.3->flair) (1.2.1)\n",
            "Requirement already satisfied: soupsieve>1.2 in /usr/local/lib/python3.10/dist-packages (from beautifulsoup4->gdown>=4.4.0->flair) (2.6)\n",
            "Collecting sortedcontainers<3.0,>=2.0 (from intervaltree->bioc<3.0.0,>=2.0.0->flair)\n",
            "  Downloading sortedcontainers-2.4.0-py2.py3-none-any.whl.metadata (10 kB)\n",
            "Requirement already satisfied: MarkupSafe>=2.0 in /usr/local/lib/python3.10/dist-packages (from jinja2->mpld3>=0.3->flair) (3.0.2)\n",
            "Requirement already satisfied: charset-normalizer<4,>=2 in /usr/local/lib/python3.10/dist-packages (from requests[socks]->gdown>=4.4.0->flair) (3.4.1)\n",
            "Requirement already satisfied: idna<4,>=2.5 in /usr/local/lib/python3.10/dist-packages (from requests[socks]->gdown>=4.4.0->flair) (3.10)\n",
            "Requirement already satisfied: certifi>=2017.4.17 in /usr/local/lib/python3.10/dist-packages (from requests[socks]->gdown>=4.4.0->flair) (2024.12.14)\n",
            "Requirement already satisfied: PySocks!=1.5.7,>=1.5.6 in /usr/local/lib/python3.10/dist-packages (from requests[socks]->gdown>=4.4.0->flair) (1.7.1)\n",
            "Requirement already satisfied: psutil in /usr/local/lib/python3.10/dist-packages (from accelerate>=0.26.0->transformers[sentencepiece,torch]<5.0,>=4.1->transformer-smaller-training-vocab>=0.2.3->flair) (5.9.5)\n",
            "Downloading flair-0.15.0-py3-none-any.whl (1.2 MB)\n",
            "\u001b[2K   \u001b[90m━━━━━━━━━━━━━━━━━━━━━━━━━━━━━━━━━━━━━━━━\u001b[0m \u001b[32m1.2/1.2 MB\u001b[0m \u001b[31m51.5 MB/s\u001b[0m eta \u001b[36m0:00:00\u001b[0m\n",
            "\u001b[?25hDownloading bioc-2.1-py3-none-any.whl (33 kB)\n",
            "Downloading boto3-1.35.95-py3-none-any.whl (139 kB)\n",
            "\u001b[2K   \u001b[90m━━━━━━━━━━━━━━━━━━━━━━━━━━━━━━━━━━━━━━━━\u001b[0m \u001b[32m139.2/139.2 kB\u001b[0m \u001b[31m13.1 MB/s\u001b[0m eta \u001b[36m0:00:00\u001b[0m\n",
            "\u001b[?25hDownloading conllu-4.5.3-py2.py3-none-any.whl (16 kB)\n",
            "Downloading ftfy-6.3.1-py3-none-any.whl (44 kB)\n",
            "\u001b[2K   \u001b[90m━━━━━━━━━━━━━━━━━━━━━━━━━━━━━━━━━━━━━━━━\u001b[0m \u001b[32m44.8/44.8 kB\u001b[0m \u001b[31m4.0 MB/s\u001b[0m eta \u001b[36m0:00:00\u001b[0m\n",
            "\u001b[?25hDownloading mpld3-0.5.10-py3-none-any.whl (202 kB)\n",
            "\u001b[2K   \u001b[90m━━━━━━━━━━━━━━━━━━━━━━━━━━━━━━━━━━━━━━━━\u001b[0m \u001b[32m202.6/202.6 kB\u001b[0m \u001b[31m19.0 MB/s\u001b[0m eta \u001b[36m0:00:00\u001b[0m\n",
            "\u001b[?25hDownloading pytorch_revgrad-0.2.0-py3-none-any.whl (4.6 kB)\n",
            "Downloading segtok-1.5.11-py3-none-any.whl (24 kB)\n",
            "Downloading transformer_smaller_training_vocab-0.4.0-py3-none-any.whl (14 kB)\n",
            "Downloading botocore-1.35.95-py3-none-any.whl (13.3 MB)\n",
            "\u001b[2K   \u001b[90m━━━━━━━━━━━━━━━━━━━━━━━━━━━━━━━━━━━━━━━━\u001b[0m \u001b[32m13.3/13.3 MB\u001b[0m \u001b[31m108.6 MB/s\u001b[0m eta \u001b[36m0:00:00\u001b[0m\n",
            "\u001b[?25hDownloading jmespath-1.0.1-py3-none-any.whl (20 kB)\n",
            "Downloading jsonlines-4.0.0-py3-none-any.whl (8.7 kB)\n",
            "Downloading s3transfer-0.10.4-py3-none-any.whl (83 kB)\n",
            "\u001b[2K   \u001b[90m━━━━━━━━━━━━━━━━━━━━━━━━━━━━━━━━━━━━━━━━\u001b[0m \u001b[32m83.2/83.2 kB\u001b[0m \u001b[31m7.9 MB/s\u001b[0m eta \u001b[36m0:00:00\u001b[0m\n",
            "\u001b[?25hDownloading sortedcontainers-2.4.0-py2.py3-none-any.whl (29 kB)\n",
            "Building wheels for collected packages: langdetect, pptree, sqlitedict, wikipedia-api, docopt, intervaltree\n",
            "  Building wheel for langdetect (setup.py) ... \u001b[?25l\u001b[?25hdone\n",
            "  Created wheel for langdetect: filename=langdetect-1.0.9-py3-none-any.whl size=993222 sha256=b5b5b56212642749966770caf217a3a99675a5f8ccbc31375c3a8a4accac6227\n",
            "  Stored in directory: /root/.cache/pip/wheels/95/03/7d/59ea870c70ce4e5a370638b5462a7711ab78fba2f655d05106\n",
            "  Building wheel for pptree (setup.py) ... \u001b[?25l\u001b[?25hdone\n",
            "  Created wheel for pptree: filename=pptree-3.1-py3-none-any.whl size=4608 sha256=9321fd84740cc7f16c2c860f5bb2713502d4ee170ce94f1fadf6221bdf941e7c\n",
            "  Stored in directory: /root/.cache/pip/wheels/9f/b6/0e/6f26eb9e6eb53ff2107a7888d72b5a6a597593956113037828\n",
            "  Building wheel for sqlitedict (setup.py) ... \u001b[?25l\u001b[?25hdone\n",
            "  Created wheel for sqlitedict: filename=sqlitedict-2.1.0-py3-none-any.whl size=16864 sha256=a7e56fae7a94daa31645bcff34a02e577fae87377ac18d7cae680826156e0417\n",
            "  Stored in directory: /root/.cache/pip/wheels/79/d6/e7/304e0e6cb2221022c26d8161f7c23cd4f259a9e41e8bbcfabd\n",
            "  Building wheel for wikipedia-api (setup.py) ... \u001b[?25l\u001b[?25hdone\n",
            "  Created wheel for wikipedia-api: filename=Wikipedia_API-0.7.3-py3-none-any.whl size=14325 sha256=c8c09e7924289336149993418b1cbfc3b274d5e6fac8c5495144d1f9b1264e60\n",
            "  Stored in directory: /root/.cache/pip/wheels/39/c8/cd/ba9a385ad2f6e457226fe2a7dceaeb0c17a19346d2e78ff4be\n",
            "  Building wheel for docopt (setup.py) ... \u001b[?25l\u001b[?25hdone\n",
            "  Created wheel for docopt: filename=docopt-0.6.2-py2.py3-none-any.whl size=13706 sha256=d8ef5b1390de36fb09df77070fc8bc0038c5beecc73f5e3392dd2c146fefb966\n",
            "  Stored in directory: /root/.cache/pip/wheels/fc/ab/d4/5da2067ac95b36618c629a5f93f809425700506f72c9732fac\n",
            "  Building wheel for intervaltree (setup.py) ... \u001b[?25l\u001b[?25hdone\n",
            "  Created wheel for intervaltree: filename=intervaltree-3.1.0-py2.py3-none-any.whl size=26097 sha256=1b5b53c615048091f6ed377c0d2591c570d7f75bb60753810f49d7332c4de445\n",
            "  Stored in directory: /root/.cache/pip/wheels/fa/80/8c/43488a924a046b733b64de3fac99252674c892a4c3801c0a61\n",
            "Successfully built langdetect pptree sqlitedict wikipedia-api docopt intervaltree\n",
            "Installing collected packages: sqlitedict, sortedcontainers, pptree, docopt, segtok, langdetect, jsonlines, jmespath, intervaltree, ftfy, conllu, wikipedia-api, botocore, bioc, s3transfer, pytorch-revgrad, mpld3, boto3, transformer-smaller-training-vocab, flair\n",
            "Successfully installed bioc-2.1 boto3-1.35.95 botocore-1.35.95 conllu-4.5.3 docopt-0.6.2 flair-0.15.0 ftfy-6.3.1 intervaltree-3.1.0 jmespath-1.0.1 jsonlines-4.0.0 langdetect-1.0.9 mpld3-0.5.10 pptree-3.1 pytorch-revgrad-0.2.0 s3transfer-0.10.4 segtok-1.5.11 sortedcontainers-2.4.0 sqlitedict-2.1.0 transformer-smaller-training-vocab-0.4.0 wikipedia-api-0.7.3\n",
            "Collecting senticnet\n",
            "  Downloading senticnet-1.6-py3-none-any.whl.metadata (2.6 kB)\n",
            "Downloading senticnet-1.6-py3-none-any.whl (51.9 MB)\n",
            "\u001b[2K   \u001b[90m━━━━━━━━━━━━━━━━━━━━━━━━━━━━━━━━━━━━━━━━\u001b[0m \u001b[32m51.9/51.9 MB\u001b[0m \u001b[31m14.3 MB/s\u001b[0m eta \u001b[36m0:00:00\u001b[0m\n",
            "\u001b[?25hInstalling collected packages: senticnet\n",
            "Successfully installed senticnet-1.6\n",
            "Looking in indexes: https://download.pytorch.org/whl/cu118\n",
            "Requirement already satisfied: torch in /usr/local/lib/python3.10/dist-packages (2.5.1+cu121)\n",
            "Requirement already satisfied: torchvision in /usr/local/lib/python3.10/dist-packages (0.20.1+cu121)\n",
            "Requirement already satisfied: torchaudio in /usr/local/lib/python3.10/dist-packages (2.5.1+cu121)\n",
            "Requirement already satisfied: filelock in /usr/local/lib/python3.10/dist-packages (from torch) (3.16.1)\n",
            "Requirement already satisfied: typing-extensions>=4.8.0 in /usr/local/lib/python3.10/dist-packages (from torch) (4.12.2)\n",
            "Requirement already satisfied: networkx in /usr/local/lib/python3.10/dist-packages (from torch) (3.4.2)\n",
            "Requirement already satisfied: jinja2 in /usr/local/lib/python3.10/dist-packages (from torch) (3.1.5)\n",
            "Requirement already satisfied: fsspec in /usr/local/lib/python3.10/dist-packages (from torch) (2024.10.0)\n",
            "Requirement already satisfied: sympy==1.13.1 in /usr/local/lib/python3.10/dist-packages (from torch) (1.13.1)\n",
            "Requirement already satisfied: mpmath<1.4,>=1.1.0 in /usr/local/lib/python3.10/dist-packages (from sympy==1.13.1->torch) (1.3.0)\n",
            "Requirement already satisfied: numpy in /usr/local/lib/python3.10/dist-packages (from torchvision) (1.26.4)\n",
            "Requirement already satisfied: pillow!=8.3.*,>=5.3.0 in /usr/local/lib/python3.10/dist-packages (from torchvision) (11.1.0)\n",
            "Requirement already satisfied: MarkupSafe>=2.0 in /usr/local/lib/python3.10/dist-packages (from jinja2->torch) (3.0.2)\n",
            "Requirement already satisfied: numpy in /usr/local/lib/python3.10/dist-packages (1.26.4)\n",
            "Requirement already satisfied: pandas in /usr/local/lib/python3.10/dist-packages (2.2.2)\n",
            "Requirement already satisfied: python-dateutil>=2.8.2 in /usr/local/lib/python3.10/dist-packages (from pandas) (2.8.2)\n",
            "Requirement already satisfied: pytz>=2020.1 in /usr/local/lib/python3.10/dist-packages (from pandas) (2024.2)\n",
            "Requirement already satisfied: tzdata>=2022.7 in /usr/local/lib/python3.10/dist-packages (from pandas) (2024.2)\n",
            "Requirement already satisfied: six>=1.5 in /usr/local/lib/python3.10/dist-packages (from python-dateutil>=2.8.2->pandas) (1.17.0)\n"
          ]
        }
      ],
      "source": [
        "!pip install vaderSentiment nltk\n",
        "!pip install textblob\n",
        "!python -m textblob.download_corpora\n",
        "!pip install flair\n",
        "!pip install senticnet\n",
        "!pip install torch torchvision torchaudio --index-url https://download.pytorch.org/whl/cu118\n",
        "!pip install numpy pandas\n"
      ]
    },
    {
      "cell_type": "code",
      "execution_count": null,
      "metadata": {
        "id": "J-0-twMO_y6q"
      },
      "outputs": [],
      "source": [
        "from vaderSentiment.vaderSentiment import SentimentIntensityAnalyzer\n",
        "from textblob import TextBlob\n",
        "from flair.models import TextClassifier\n",
        "from flair.data import Sentence\n",
        "from senticnet.senticnet import SenticNet\n",
        "import torch\n",
        "import pandas as pd\n",
        "from tqdm import tqdm\n",
        "from sklearn.metrics import f1_score\n",
        "import numpy as np\n",
        "import re\n",
        "from google.colab import drive\n",
        "import itertools\n"
      ]
    },
    {
      "cell_type": "code",
      "execution_count": null,
      "metadata": {
        "colab": {
          "base_uri": "https://localhost:8080/"
        },
        "id": "6t_aFESKa7gF",
        "outputId": "8847ffe8-bbc1-4fc9-89c8-9f64fcb1462c"
      },
      "outputs": [
        {
          "name": "stdout",
          "output_type": "stream",
          "text": [
            "Mounted at /content/drive\n"
          ]
        }
      ],
      "source": [
        "\n",
        "drive.mount('/content/drive')"
      ]
    },
    {
      "cell_type": "code",
      "execution_count": null,
      "metadata": {
        "id": "h_7LCuvbVIF6"
      },
      "outputs": [],
      "source": [
        "\n",
        "senticnet = SenticNet()\n",
        "\n",
        "def get_senticnet_sentiment(text):\n",
        "    try:\n",
        "        \n",
        "        return float(senticnet.polarity_value(text))\n",
        "    except KeyError:\n",
        "        \n",
        "        return 0.0"
      ]
    },
    {
      "cell_type": "code",
      "execution_count": null,
      "metadata": {
        "colab": {
          "base_uri": "https://localhost:8080/",
          "height": 304,
          "referenced_widgets": [
            "70a026d3c67a43e0b231a7c9ef70d845",
            "4a8d45f93f1941ff84b0d622eb0f9e4d",
            "b2facebfd4ec47b9ba64095dc9eb2045",
            "2859f012adde43058b7853e77f7295e6",
            "f2bfbbfd407d4d2284eeb097f13206dd",
            "1626cbb353044592aedb926688e13e40",
            "a7a1642c0464434489d50ec115ea9cf0",
            "a3136d71e9e9430dbca08f2389196aa7",
            "4ccbda6c734542499e2667bbb721ce42",
            "13b20bccaaef4fa0a3c666676d604611",
            "371a0cd773b44c1dbb93be87408ecbbe",
            "981b2e9dc8c0455b828fb3fa8b708b6b",
            "37e9d75f33ed41a4a2147bf08428fc54",
            "5553c57530734a69aeadaa0eefec30f2",
            "470f756dc8024b8eaad6891936d15eec",
            "7b9840e5f0a9412ea15f7f46f2533f25",
            "b44d0684ab2c44cba6899e02a3256aea",
            "d430991dcf324d1abedfa9afdd063195",
            "169e87d2874f4e43bc7cf9d60d3a42b7",
            "71f9221b389549b1a376e809e7cd296f",
            "65d65fe59cd345368fd090483df5f84d",
            "b983daea781f4ac1a13497da190dba41",
            "1b631fc5c32940dbb40425c0b0fc451a",
            "ea3da59cf9b740b789cdd8a903230eb9",
            "f4e90b0af7bb4bf396847512a0665ae4",
            "48ae192ff39449ff98bc2b9bb33684c4",
            "fd890f59a10f48739217859c3af0a67f",
            "9cff47499ecc49638bbee888c5f708aa",
            "9c004d87149340f2acde6168ea409d36",
            "c987e2eaeb1a4f4dbbb400b7a1bc7313",
            "5d42f988e29042d581de05a13307aeb3",
            "55cdab9971bf4ff5a9bc073e839ae14c",
            "e2e4074afd794847b8f5815d3e4c6d96",
            "a0740012cf654b2eb073a1c4cce11630",
            "af798ab9880c41cbb4c98ea8ddc9f8b2",
            "03a3300b616f4360ab9621c665670c14",
            "5f6cb8e79a24456b83cfd2627ab0ce14",
            "c6daddf8a69c4d5aad232bc615a78e8c",
            "384725e47e47484cb22bb4fd58117220",
            "daea035328b34a9c86d1ea8ab9bb8471",
            "e8d433a385a94abd92e9b68a29d6aeb7",
            "73a3f936b1894bfcb36d3d6e0f630a07",
            "27c880c51dae46a4a17912c1dd5c03eb",
            "c4dae6cd35774d868784b39c50d43df3"
          ]
        },
        "id": "kmmb2AzWAA74",
        "outputId": "54efb7b5-4ef6-4c6a-ff18-a766b48d3c73"
      },
      "outputs": [
        {
          "name": "stdout",
          "output_type": "stream",
          "text": [
            "2025-01-09 15:44:14,224 https://nlp.informatik.hu-berlin.de/resources/models/sentiment-curated-fasttext-rnn/sentiment-en-mix-ft-rnn_v8.pt not found in cache, downloading to /tmp/tmpdm6ajlcn\n"
          ]
        },
        {
          "name": "stderr",
          "output_type": "stream",
          "text": [
            "100%|██████████| 1.16G/1.16G [01:06<00:00, 18.7MB/s]"
          ]
        },
        {
          "name": "stdout",
          "output_type": "stream",
          "text": [
            "2025-01-09 15:45:21,095 copying /tmp/tmpdm6ajlcn to cache at /root/.flair/models/sentiment-en-mix-ft-rnn_v8.pt\n"
          ]
        },
        {
          "name": "stderr",
          "output_type": "stream",
          "text": [
            "\n"
          ]
        },
        {
          "name": "stdout",
          "output_type": "stream",
          "text": [
            "2025-01-09 15:45:26,502 removing temp file /tmp/tmpdm6ajlcn\n",
            "2025-01-09 15:45:41,019 https://nlp.informatik.hu-berlin.de/resources/models/sentiment-curated-distilbert/sentiment-en-mix-distillbert_4.pt not found in cache, downloading to /tmp/tmpeeqrldho\n"
          ]
        },
        {
          "name": "stderr",
          "output_type": "stream",
          "text": [
            "100%|██████████| 253M/253M [00:15<00:00, 17.7MB/s]"
          ]
        },
        {
          "name": "stdout",
          "output_type": "stream",
          "text": [
            "2025-01-09 15:45:56,533 copying /tmp/tmpeeqrldho to cache at /root/.flair/models/sentiment-en-mix-distillbert_4.pt\n"
          ]
        },
        {
          "name": "stderr",
          "output_type": "stream",
          "text": [
            "\n"
          ]
        },
        {
          "name": "stdout",
          "output_type": "stream",
          "text": [
            "2025-01-09 15:45:56,943 removing temp file /tmp/tmpeeqrldho\n"
          ]
        },
        {
          "data": {
            "application/vnd.jupyter.widget-view+json": {
              "model_id": "70a026d3c67a43e0b231a7c9ef70d845",
              "version_major": 2,
              "version_minor": 0
            },
            "text/plain": [
              "tokenizer_config.json:   0%|          | 0.00/48.0 [00:00<?, ?B/s]"
            ]
          },
          "metadata": {},
          "output_type": "display_data"
        },
        {
          "data": {
            "application/vnd.jupyter.widget-view+json": {
              "model_id": "981b2e9dc8c0455b828fb3fa8b708b6b",
              "version_major": 2,
              "version_minor": 0
            },
            "text/plain": [
              "config.json:   0%|          | 0.00/483 [00:00<?, ?B/s]"
            ]
          },
          "metadata": {},
          "output_type": "display_data"
        },
        {
          "data": {
            "application/vnd.jupyter.widget-view+json": {
              "model_id": "1b631fc5c32940dbb40425c0b0fc451a",
              "version_major": 2,
              "version_minor": 0
            },
            "text/plain": [
              "vocab.txt:   0%|          | 0.00/232k [00:00<?, ?B/s]"
            ]
          },
          "metadata": {},
          "output_type": "display_data"
        },
        {
          "data": {
            "application/vnd.jupyter.widget-view+json": {
              "model_id": "a0740012cf654b2eb073a1c4cce11630",
              "version_major": 2,
              "version_minor": 0
            },
            "text/plain": [
              "tokenizer.json:   0%|          | 0.00/466k [00:00<?, ?B/s]"
            ]
          },
          "metadata": {},
          "output_type": "display_data"
        }
      ],
      "source": [
        "\n",
        "vader_analyzer = SentimentIntensityAnalyzer()\n",
        "flair_lstm = TextClassifier.load('sentiment-fast').to('cuda')  \n",
        "flair_bert = TextClassifier.load('sentiment').to('cuda')  \n",
        "\n"
      ]
    },
    {
      "cell_type": "code",
      "execution_count": null,
      "metadata": {
        "id": "f6-cXwYmWZk4"
      },
      "outputs": [],
      "source": [
        "def clean_tweet(tweet):\n",
        "    tweet = re.sub(r'http\\S+|www\\S+|https\\S+', '', tweet, flags=re.MULTILINE)\n",
        "    tweet = re.sub(r'\\@\\w+|\\#', '', tweet)\n",
        "    tweet = re.sub(r'[^A-Za-z0-9 ]+', '', tweet)\n",
        "    tweet = tweet.strip().lower()\n",
        "    return tweet if tweet else \"empty\""
      ]
    },
    {
      "cell_type": "code",
      "execution_count": null,
      "metadata": {
        "id": "2A0uVttSVtHP"
      },
      "outputs": [],
      "source": [
        "def analyze_sentiment_with_gpu(tweet, weights):\n",
        "    try:\n",
        "\n",
        "        if not tweet or tweet.strip() in [\"\", \"empty\"]:\n",
        "            return \"Neutral\"\n",
        "        w_vader, w_textblob, w_lstm, w_bert, w_senticnet = weights\n",
        "\n",
        "        vader_score = vader_analyzer.polarity_scores(tweet)['compound']\n",
        "\n",
        "        textblob_score = TextBlob(tweet).sentiment.polarity\n",
        "\n",
        "        lstm_sentence = Sentence(tweet)\n",
        "        flair_lstm.predict(lstm_sentence)\n",
        "        lstm_score = lstm_sentence.labels[0].score * (1 if \"POSITIVE\" in str(lstm_sentence.labels[0]) else -1)\n",
        "\n",
        "        bert_sentence = Sentence(tweet)\n",
        "        flair_bert.predict(bert_sentence)\n",
        "        bert_score = bert_sentence.labels[0].score * (1 if \"POSITIVE\" in str(bert_sentence.labels[0]) else -1)\n",
        "\n",
        "        senticnet_score = get_senticnet_sentiment(tweet)\n",
        "\n",
        "        combined_score = (\n",
        "            w_vader * vader_score +\n",
        "            w_textblob * textblob_score +\n",
        "            w_lstm * lstm_score +\n",
        "            w_bert * bert_score +\n",
        "            w_senticnet * senticnet_score\n",
        "        ) / sum(weights)\n",
        "\n",
        "        if combined_score < -0.35:\n",
        "          sentiment_label = \"Negative\"\n",
        "        elif combined_score > 0.35:\n",
        "          sentiment_label = \"Positive\"\n",
        "        else:\n",
        "          sentiment_label = \"Neutral\"\n",
        "\n",
        "        return {\n",
        "        \"Combined_Score\": combined_score,\n",
        "        \"Sentiment_Label\": sentiment_label\n",
        "        }\n",
        "\n",
        "    except Exception as e:\n",
        "        print(f\"Error processing tweet: {tweet}\\nError: {e}\")\n",
        "        return \"Error\""
      ]
    },
    {
      "cell_type": "code",
      "execution_count": null,
      "metadata": {
        "id": "tEQfhWjDUhdz"
      },
      "outputs": [],
      "source": [
        "def evaluate_model(df, weights):\n",
        "    df['predicted_sentiment'] = df['cleaned_tweet'].apply(lambda x: analyze_sentiment_with_gpu(x, weights))\n",
        "\n",
        "    df['predicted_sentiment'] = df['predicted_sentiment'].apply(lambda x: x['Sentiment_Label'] if isinstance(x, dict) else x)\n",
        "\n",
        "\n",
        "    label_map = {\"Negative\": -1, \"Neutral\": 0, \"Positive\": 1}\n",
        "    df['predicted_sentiment'] = df['predicted_sentiment'].map(label_map)\n",
        "\n",
        "    y_true = df['sentiment']\n",
        "    y_pred = df['predicted_sentiment']\n",
        "    return f1_score(y_true, y_pred, average='weighted')"
      ]
    },
    {
      "cell_type": "code",
      "execution_count": null,
      "metadata": {
        "id": "TGRwijXNUkv2"
      },
      "outputs": [],
      "source": [
        "def optimize_weights(df, initial_weights, weight_range=(0.2, 0.8), step=0.2):\n",
        "    \"\"\"\n",
        "    Optimizes the weights for sentiment analysis models using grid search.\n",
        "\n",
        "    Args:\n",
        "        df: The DataFrame containing the tweets and sentiment labels.\n",
        "        initial_weights: The initial weights for the models.\n",
        "        weight_range: The range of values to consider for each weight.\n",
        "        step: The step size for iterating through the weight range.\n",
        "\n",
        "    Returns:\n",
        "        The optimized weights that yield the highest F1 score.\n",
        "    \"\"\"\n",
        "\n",
        "    best_f1 = 0\n",
        "    best_weights = initial_weights\n",
        "\n",
        "    weight_values = np.arange(weight_range[0], weight_range[1] + step, step)\n",
        "    all_weight_combinations = list(itertools.product(weight_values, repeat=len(initial_weights)))\n",
        "\n",
        "    with tqdm(total=len(all_weight_combinations), desc=\"Optimizing Weights\") as pbar:\n",
        "        for weights in all_weight_combinations:\n",
        "            pbar.set_description(f\"Optimizing Weights: {weights}\")\n",
        "\n",
        "            current_f1 = evaluate_model(df, weights)\n",
        "            pbar.write(f\"Weights: {weights}, F1 Score = {current_f1}\")\n",
        "\n",
        "            if current_f1 > best_f1:\n",
        "                best_f1 = current_f1\n",
        "                best_weights = weights\n",
        "\n",
        "            pbar.update(1)\n",
        "\n",
        "    return best_weights"
      ]
    },
    {
      "cell_type": "code",
      "execution_count": null,
      "metadata": {
        "id": "_JWqXn3JWlkU"
      },
      "outputs": [],
      "source": [
        "def load_sentiment140(file_path):\n",
        "    df = pd.read_csv(file_path, encoding='latin-1', header=None)\n",
        "    df.columns = ['sentiment', 'id', 'date', 'flag', 'user', 'text']\n",
        "\n",
        "    df['sentiment'] = df['sentiment'].map({0: -1, 4: 1})  \n",
        "    df['cleaned_tweet'] = df['text'].apply(clean_tweet)\n",
        "\n",
        "    negative_samples = df[df['sentiment'] == -1].sample(n=1000, random_state=42)\n",
        "    positive_samples = df[df['sentiment'] == 1].sample(n=1000, random_state=42)\n",
        "\n",
        "    sampled_df = pd.concat([negative_samples, positive_samples]).sample(frac=1, random_state=42)\n",
        "\n",
        "    train_df = sampled_df.sample(frac=0.8, random_state=42)  \n",
        "    test_df = sampled_df.drop(train_df.index)  \n",
        "    return train_df, test_df"
      ]
    },
    {
      "cell_type": "code",
      "execution_count": null,
      "metadata": {
        "id": "1JRqGFvgbL_x"
      },
      "outputs": [],
      "source": [
        "def process_file_with_optimized_weights(file_path, output_path, optimized_weights):\n",
        "    df = pd.read_csv(file_path)\n",
        "\n",
        "    if 'cleaned_tweet' not in df.columns:\n",
        "        raise ValueError(\"The file must contain a 'cleaned_tweet' column.\")\n",
        "\n",
        "    tqdm.pandas(desc=\"Applying Sentiment Analysis\")\n",
        "    df['sentiment'] = df['cleaned_tweet'].progress_apply(\n",
        "        lambda x: analyze_sentiment_with_gpu(x, optimized_weights)\n",
        "    )\n",
        "\n",
        "    df.to_csv(output_path, index=False)\n",
        "    print(f\"Sentiment analysis completed. Results saved to {output_path}.\")\n"
      ]
    },
    {
      "cell_type": "code",
      "execution_count": null,
      "metadata": {
        "colab": {
          "base_uri": "https://localhost:8080/"
        },
        "id": "Ix7rEUQaWvnU",
        "outputId": "87e5b06f-c514-43de-fe33-e935c2bbb25d"
      },
      "outputs": [
        {
          "name": "stdout",
          "output_type": "stream",
          "text": [
            "Checking for empty tweets...\n"
          ]
        }
      ],
      "source": [
        "data_path = \"/content/drive/MyDrive/preprocessed_data/sentiment140.csv\"\n",
        "train_df, test_df = load_sentiment140(data_path)\n",
        "initial_weights = [0.1, 0.1, 0.1, 0.1, 0.1]\n",
        "\n",
        "print(\"Checking for empty tweets...\")\n",
        "empty_tweets = train_df[train_df['cleaned_tweet'].str.strip() == \"\"]\n",
        "if not empty_tweets.empty:\n",
        "    print(f\"Found {len(empty_tweets)} empty tweets. Investigate further!\")\n"
      ]
    },
    {
      "cell_type": "code",
      "execution_count": null,
      "metadata": {
        "colab": {
          "base_uri": "https://localhost:8080/"
        },
        "collapsed": true,
        "id": "gyXmjJsng_Sd",
        "outputId": "94e5fb02-afeb-4467-f67a-4c2b8c9c92b7"
      },
      "outputs": [
        {
          "name": "stdout",
          "output_type": "stream",
          "text": [
            "Optimizing weights...\n"
          ]
        },
        {
          "name": "stderr",
          "output_type": "stream",
          "text": [
            "Optimizing Weights: (0.2, 0.2, 0.2, 0.2, 0.4):   0%|          | 1/1024 [00:14<4:14:11, 14.91s/it]"
          ]
        },
        {
          "name": "stdout",
          "output_type": "stream",
          "text": [
            "Weights: (0.2, 0.2, 0.2, 0.2, 0.2), F1 Score = 0.6080108988419091\n"
          ]
        },
        {
          "name": "stderr",
          "output_type": "stream",
          "text": [
            "Optimizing Weights: (0.2, 0.2, 0.2, 0.2, 0.6000000000000001):   0%|          | 2/1024 [00:26<3:44:49, 13.20s/it]"
          ]
        },
        {
          "name": "stdout",
          "output_type": "stream",
          "text": [
            "Weights: (0.2, 0.2, 0.2, 0.2, 0.4), F1 Score = 0.5120630100119749\n"
          ]
        },
        {
          "name": "stderr",
          "output_type": "stream",
          "text": [
            "Optimizing Weights: (0.2, 0.2, 0.2, 0.2, 0.8):   0%|          | 3/1024 [00:39<3:37:00, 12.75s/it]               "
          ]
        },
        {
          "name": "stdout",
          "output_type": "stream",
          "text": [
            "Weights: (0.2, 0.2, 0.2, 0.2, 0.6000000000000001), F1 Score = 0.42540834799765376\n"
          ]
        },
        {
          "name": "stderr",
          "output_type": "stream",
          "text": [
            "Optimizing Weights: (0.2, 0.2, 0.2, 0.4, 0.2):   0%|          | 4/1024 [00:51<3:34:10, 12.60s/it]"
          ]
        },
        {
          "name": "stdout",
          "output_type": "stream",
          "text": [
            "Weights: (0.2, 0.2, 0.2, 0.2, 0.8), F1 Score = 0.31212846587887055\n"
          ]
        },
        {
          "name": "stderr",
          "output_type": "stream",
          "text": [
            "Optimizing Weights: (0.2, 0.2, 0.2, 0.4, 0.4):   0%|          | 5/1024 [01:03<3:31:24, 12.45s/it]"
          ]
        },
        {
          "name": "stdout",
          "output_type": "stream",
          "text": [
            "Weights: (0.2, 0.2, 0.2, 0.4, 0.2), F1 Score = 0.670495852364954\n"
          ]
        },
        {
          "name": "stderr",
          "output_type": "stream",
          "text": [
            "Optimizing Weights: (0.2, 0.2, 0.2, 0.4, 0.6000000000000001):   1%|          | 6/1024 [01:15<3:25:52, 12.13s/it]"
          ]
        },
        {
          "name": "stdout",
          "output_type": "stream",
          "text": [
            "Weights: (0.2, 0.2, 0.2, 0.4, 0.4), F1 Score = 0.648804491533716\n"
          ]
        },
        {
          "name": "stderr",
          "output_type": "stream",
          "text": [
            "Optimizing Weights: (0.2, 0.2, 0.2, 0.4, 0.8):   1%|          | 7/1024 [01:26<3:22:06, 11.92s/it]               "
          ]
        },
        {
          "name": "stdout",
          "output_type": "stream",
          "text": [
            "Weights: (0.2, 0.2, 0.2, 0.4, 0.6000000000000001), F1 Score = 0.5881313576268821\n"
          ]
        },
        {
          "name": "stderr",
          "output_type": "stream",
          "text": [
            "Optimizing Weights: (0.2, 0.2, 0.2, 0.6000000000000001, 0.2):   1%|          | 8/1024 [01:38<3:23:26, 12.01s/it]"
          ]
        },
        {
          "name": "stdout",
          "output_type": "stream",
          "text": [
            "Weights: (0.2, 0.2, 0.2, 0.4, 0.8), F1 Score = 0.49051481543852904\n"
          ]
        },
        {
          "name": "stderr",
          "output_type": "stream",
          "text": [
            "Optimizing Weights: (0.2, 0.2, 0.2, 0.6000000000000001, 0.4):   1%|          | 9/1024 [01:51<3:26:30, 12.21s/it]"
          ]
        },
        {
          "name": "stdout",
          "output_type": "stream",
          "text": [
            "Weights: (0.2, 0.2, 0.2, 0.6000000000000001, 0.2), F1 Score = 0.6871873825855215\n"
          ]
        },
        {
          "name": "stderr",
          "output_type": "stream",
          "text": [
            "Optimizing Weights: (0.2, 0.2, 0.2, 0.6000000000000001, 0.6000000000000001):   1%|          | 10/1024 [02:03<3:26:31, 12.22s/it]"
          ]
        },
        {
          "name": "stdout",
          "output_type": "stream",
          "text": [
            "Weights: (0.2, 0.2, 0.2, 0.6000000000000001, 0.4), F1 Score = 0.6780121180492944\n"
          ]
        },
        {
          "name": "stderr",
          "output_type": "stream",
          "text": [
            "Optimizing Weights: (0.2, 0.2, 0.2, 0.6000000000000001, 0.8):   1%|          | 11/1024 [02:16<3:26:22, 12.22s/it]               "
          ]
        },
        {
          "name": "stdout",
          "output_type": "stream",
          "text": [
            "Weights: (0.2, 0.2, 0.2, 0.6000000000000001, 0.6000000000000001), F1 Score = 0.6590178221059516\n"
          ]
        },
        {
          "name": "stderr",
          "output_type": "stream",
          "text": [
            "Optimizing Weights: (0.2, 0.2, 0.2, 0.8, 0.2):   1%|          | 12/1024 [02:28<3:26:06, 12.22s/it]               "
          ]
        },
        {
          "name": "stdout",
          "output_type": "stream",
          "text": [
            "Weights: (0.2, 0.2, 0.2, 0.6000000000000001, 0.8), F1 Score = 0.6341462182361733\n"
          ]
        },
        {
          "name": "stderr",
          "output_type": "stream",
          "text": [
            "Optimizing Weights: (0.2, 0.2, 0.2, 0.8, 0.4):   1%|▏         | 13/1024 [02:40<3:24:31, 12.14s/it]"
          ]
        },
        {
          "name": "stdout",
          "output_type": "stream",
          "text": [
            "Weights: (0.2, 0.2, 0.2, 0.8, 0.2), F1 Score = 0.704532324476043\n"
          ]
        },
        {
          "name": "stderr",
          "output_type": "stream",
          "text": [
            "Optimizing Weights: (0.2, 0.2, 0.2, 0.8, 0.6000000000000001):   1%|▏         | 14/1024 [02:51<3:20:26, 11.91s/it]"
          ]
        },
        {
          "name": "stdout",
          "output_type": "stream",
          "text": [
            "Weights: (0.2, 0.2, 0.2, 0.8, 0.4), F1 Score = 0.6981645776429781\n"
          ]
        },
        {
          "name": "stderr",
          "output_type": "stream",
          "text": [
            "Optimizing Weights: (0.2, 0.2, 0.2, 0.8, 0.8):   1%|▏         | 15/1024 [03:03<3:19:48, 11.88s/it]               "
          ]
        },
        {
          "name": "stdout",
          "output_type": "stream",
          "text": [
            "Weights: (0.2, 0.2, 0.2, 0.8, 0.6000000000000001), F1 Score = 0.6840362769600072\n"
          ]
        },
        {
          "name": "stderr",
          "output_type": "stream",
          "text": [
            "Optimizing Weights: (0.2, 0.2, 0.4, 0.2, 0.2):   2%|▏         | 16/1024 [03:15<3:21:19, 11.98s/it]"
          ]
        },
        {
          "name": "stdout",
          "output_type": "stream",
          "text": [
            "Weights: (0.2, 0.2, 0.2, 0.8, 0.8), F1 Score = 0.6723229157518807\n"
          ]
        },
        {
          "name": "stderr",
          "output_type": "stream",
          "text": [
            "Optimizing Weights: (0.2, 0.2, 0.4, 0.2, 0.4):   2%|▏         | 17/1024 [03:27<3:21:36, 12.01s/it]"
          ]
        },
        {
          "name": "stdout",
          "output_type": "stream",
          "text": [
            "Weights: (0.2, 0.2, 0.4, 0.2, 0.2), F1 Score = 0.6557005025193328\n"
          ]
        },
        {
          "name": "stderr",
          "output_type": "stream",
          "text": [
            "Optimizing Weights: (0.2, 0.2, 0.4, 0.2, 0.6000000000000001):   2%|▏         | 18/1024 [03:39<3:21:34, 12.02s/it]"
          ]
        },
        {
          "name": "stdout",
          "output_type": "stream",
          "text": [
            "Weights: (0.2, 0.2, 0.4, 0.2, 0.4), F1 Score = 0.6254715510686829\n"
          ]
        },
        {
          "name": "stderr",
          "output_type": "stream",
          "text": [
            "Optimizing Weights: (0.2, 0.2, 0.4, 0.2, 0.8):   2%|▏         | 19/1024 [03:51<3:21:34, 12.03s/it]               "
          ]
        },
        {
          "name": "stdout",
          "output_type": "stream",
          "text": [
            "Weights: (0.2, 0.2, 0.4, 0.2, 0.6000000000000001), F1 Score = 0.5664156088998344\n"
          ]
        },
        {
          "name": "stderr",
          "output_type": "stream",
          "text": [
            "Optimizing Weights: (0.2, 0.2, 0.4, 0.4, 0.2):   2%|▏         | 20/1024 [04:03<3:22:16, 12.09s/it]"
          ]
        },
        {
          "name": "stdout",
          "output_type": "stream",
          "text": [
            "Weights: (0.2, 0.2, 0.4, 0.2, 0.8), F1 Score = 0.47798652078896775\n"
          ]
        },
        {
          "name": "stderr",
          "output_type": "stream",
          "text": [
            "Optimizing Weights: (0.2, 0.2, 0.4, 0.4, 0.4):   2%|▏         | 21/1024 [04:15<3:18:39, 11.88s/it]"
          ]
        },
        {
          "name": "stdout",
          "output_type": "stream",
          "text": [
            "Weights: (0.2, 0.2, 0.4, 0.4, 0.2), F1 Score = 0.670180520159781\n"
          ]
        },
        {
          "name": "stderr",
          "output_type": "stream",
          "text": [
            "Optimizing Weights: (0.2, 0.2, 0.4, 0.4, 0.6000000000000001):   2%|▏         | 22/1024 [04:27<3:17:31, 11.83s/it]"
          ]
        },
        {
          "name": "stdout",
          "output_type": "stream",
          "text": [
            "Weights: (0.2, 0.2, 0.4, 0.4, 0.4), F1 Score = 0.6652009057994016\n"
          ]
        },
        {
          "name": "stderr",
          "output_type": "stream",
          "text": [
            "Optimizing Weights: (0.2, 0.2, 0.4, 0.4, 0.8):   2%|▏         | 23/1024 [04:39<3:18:23, 11.89s/it]               "
          ]
        },
        {
          "name": "stdout",
          "output_type": "stream",
          "text": [
            "Weights: (0.2, 0.2, 0.4, 0.4, 0.6000000000000001), F1 Score = 0.6454521991771642\n"
          ]
        },
        {
          "name": "stderr",
          "output_type": "stream",
          "text": [
            "Optimizing Weights: (0.2, 0.2, 0.4, 0.6000000000000001, 0.2):   2%|▏         | 24/1024 [04:51<3:19:42, 11.98s/it]"
          ]
        },
        {
          "name": "stdout",
          "output_type": "stream",
          "text": [
            "Weights: (0.2, 0.2, 0.4, 0.4, 0.8), F1 Score = 0.6093729919372467\n"
          ]
        },
        {
          "name": "stderr",
          "output_type": "stream",
          "text": [
            "Optimizing Weights: (0.2, 0.2, 0.4, 0.6000000000000001, 0.4):   2%|▏         | 25/1024 [05:03<3:20:27, 12.04s/it]"
          ]
        },
        {
          "name": "stdout",
          "output_type": "stream",
          "text": [
            "Weights: (0.2, 0.2, 0.4, 0.6000000000000001, 0.2), F1 Score = 0.6739619333024585\n"
          ]
        },
        {
          "name": "stderr",
          "output_type": "stream",
          "text": [
            "Optimizing Weights: (0.2, 0.2, 0.4, 0.6000000000000001, 0.6000000000000001):   3%|▎         | 26/1024 [05:15<3:20:57, 12.08s/it]"
          ]
        },
        {
          "name": "stdout",
          "output_type": "stream",
          "text": [
            "Weights: (0.2, 0.2, 0.4, 0.6000000000000001, 0.4), F1 Score = 0.6711336873162659\n"
          ]
        },
        {
          "name": "stderr",
          "output_type": "stream",
          "text": [
            "Optimizing Weights: (0.2, 0.2, 0.4, 0.6000000000000001, 0.8):   3%|▎         | 27/1024 [05:27<3:20:29, 12.07s/it]               "
          ]
        },
        {
          "name": "stdout",
          "output_type": "stream",
          "text": [
            "Weights: (0.2, 0.2, 0.4, 0.6000000000000001, 0.6000000000000001), F1 Score = 0.6682150799256991\n"
          ]
        },
        {
          "name": "stderr",
          "output_type": "stream",
          "text": [
            "Optimizing Weights: (0.2, 0.2, 0.4, 0.8, 0.2):   3%|▎         | 28/1024 [05:39<3:17:27, 11.90s/it]               "
          ]
        },
        {
          "name": "stdout",
          "output_type": "stream",
          "text": [
            "Weights: (0.2, 0.2, 0.4, 0.6000000000000001, 0.8), F1 Score = 0.6632181694620353\n"
          ]
        },
        {
          "name": "stderr",
          "output_type": "stream",
          "text": [
            "Optimizing Weights: (0.2, 0.2, 0.4, 0.8, 0.4):   3%|▎         | 29/1024 [05:50<3:15:59, 11.82s/it]"
          ]
        },
        {
          "name": "stdout",
          "output_type": "stream",
          "text": [
            "Weights: (0.2, 0.2, 0.4, 0.8, 0.2), F1 Score = 0.6844866780377343\n"
          ]
        },
        {
          "name": "stderr",
          "output_type": "stream",
          "text": [
            "Optimizing Weights: (0.2, 0.2, 0.4, 0.8, 0.6000000000000001):   3%|▎         | 30/1024 [06:02<3:17:03, 11.90s/it]"
          ]
        },
        {
          "name": "stdout",
          "output_type": "stream",
          "text": [
            "Weights: (0.2, 0.2, 0.4, 0.8, 0.4), F1 Score = 0.67649836061168\n"
          ]
        },
        {
          "name": "stderr",
          "output_type": "stream",
          "text": [
            "Optimizing Weights: (0.2, 0.2, 0.4, 0.8, 0.8):   3%|▎         | 31/1024 [06:15<3:17:52, 11.96s/it]               "
          ]
        },
        {
          "name": "stdout",
          "output_type": "stream",
          "text": [
            "Weights: (0.2, 0.2, 0.4, 0.8, 0.6000000000000001), F1 Score = 0.6723113004429134\n"
          ]
        },
        {
          "name": "stderr",
          "output_type": "stream",
          "text": [
            "Optimizing Weights: (0.2, 0.2, 0.6000000000000001, 0.2, 0.2):   3%|▎         | 32/1024 [06:27<3:18:40, 12.02s/it]"
          ]
        },
        {
          "name": "stdout",
          "output_type": "stream",
          "text": [
            "Weights: (0.2, 0.2, 0.4, 0.8, 0.8), F1 Score = 0.6699339972071408\n"
          ]
        },
        {
          "name": "stderr",
          "output_type": "stream",
          "text": [
            "Optimizing Weights: (0.2, 0.2, 0.6000000000000001, 0.2, 0.4):   3%|▎         | 33/1024 [06:39<3:18:20, 12.01s/it]"
          ]
        },
        {
          "name": "stdout",
          "output_type": "stream",
          "text": [
            "Weights: (0.2, 0.2, 0.6000000000000001, 0.2, 0.2), F1 Score = 0.677732912292131\n"
          ]
        },
        {
          "name": "stderr",
          "output_type": "stream",
          "text": [
            "Optimizing Weights: (0.2, 0.2, 0.6000000000000001, 0.2, 0.6000000000000001):   3%|▎         | 34/1024 [06:51<3:18:37, 12.04s/it]"
          ]
        },
        {
          "name": "stdout",
          "output_type": "stream",
          "text": [
            "Weights: (0.2, 0.2, 0.6000000000000001, 0.2, 0.4), F1 Score = 0.6635227141828653\n"
          ]
        },
        {
          "name": "stderr",
          "output_type": "stream",
          "text": [
            "Optimizing Weights: (0.2, 0.2, 0.6000000000000001, 0.2, 0.8):   3%|▎         | 35/1024 [07:03<3:17:03, 11.95s/it]               "
          ]
        },
        {
          "name": "stdout",
          "output_type": "stream",
          "text": [
            "Weights: (0.2, 0.2, 0.6000000000000001, 0.2, 0.6000000000000001), F1 Score = 0.6300618879691219\n"
          ]
        },
        {
          "name": "stderr",
          "output_type": "stream",
          "text": [
            "Optimizing Weights: (0.2, 0.2, 0.6000000000000001, 0.4, 0.2):   4%|▎         | 36/1024 [07:15<3:18:19, 12.04s/it]"
          ]
        },
        {
          "name": "stdout",
          "output_type": "stream",
          "text": [
            "Weights: (0.2, 0.2, 0.6000000000000001, 0.2, 0.8), F1 Score = 0.5953279982581116\n"
          ]
        },
        {
          "name": "stderr",
          "output_type": "stream",
          "text": [
            "Optimizing Weights: (0.2, 0.2, 0.6000000000000001, 0.4, 0.4):   4%|▎         | 37/1024 [07:27<3:19:24, 12.12s/it]"
          ]
        },
        {
          "name": "stdout",
          "output_type": "stream",
          "text": [
            "Weights: (0.2, 0.2, 0.6000000000000001, 0.4, 0.2), F1 Score = 0.6723109799526783\n"
          ]
        },
        {
          "name": "stderr",
          "output_type": "stream",
          "text": [
            "Optimizing Weights: (0.2, 0.2, 0.6000000000000001, 0.4, 0.6000000000000001):   4%|▎         | 38/1024 [07:39<3:20:26, 12.20s/it]"
          ]
        },
        {
          "name": "stdout",
          "output_type": "stream",
          "text": [
            "Weights: (0.2, 0.2, 0.6000000000000001, 0.4, 0.4), F1 Score = 0.670425253614506\n"
          ]
        },
        {
          "name": "stderr",
          "output_type": "stream",
          "text": [
            "Optimizing Weights: (0.2, 0.2, 0.6000000000000001, 0.4, 0.8):   4%|▍         | 39/1024 [07:52<3:22:12, 12.32s/it]               "
          ]
        },
        {
          "name": "stdout",
          "output_type": "stream",
          "text": [
            "Weights: (0.2, 0.2, 0.6000000000000001, 0.4, 0.6000000000000001), F1 Score = 0.6665041354309461\n"
          ]
        },
        {
          "name": "stderr",
          "output_type": "stream",
          "text": [
            "Optimizing Weights: (0.2, 0.2, 0.6000000000000001, 0.6000000000000001, 0.2):   4%|▍         | 40/1024 [08:04<3:22:07, 12.32s/it]"
          ]
        },
        {
          "name": "stdout",
          "output_type": "stream",
          "text": [
            "Weights: (0.2, 0.2, 0.6000000000000001, 0.4, 0.8), F1 Score = 0.6496183139023961\n"
          ]
        },
        {
          "name": "stderr",
          "output_type": "stream",
          "text": [
            "Optimizing Weights: (0.2, 0.2, 0.6000000000000001, 0.6000000000000001, 0.4):   4%|▍         | 41/1024 [08:17<3:21:32, 12.30s/it]"
          ]
        },
        {
          "name": "stdout",
          "output_type": "stream",
          "text": [
            "Weights: (0.2, 0.2, 0.6000000000000001, 0.6000000000000001, 0.2), F1 Score = 0.6737404332925435\n"
          ]
        },
        {
          "name": "stderr",
          "output_type": "stream",
          "text": [
            "Optimizing Weights: (0.2, 0.2, 0.6000000000000001, 0.6000000000000001, 0.6000000000000001):   4%|▍         | 42/1024 [08:29<3:20:52, 12.27s/it]"
          ]
        },
        {
          "name": "stdout",
          "output_type": "stream",
          "text": [
            "Weights: (0.2, 0.2, 0.6000000000000001, 0.6000000000000001, 0.4), F1 Score = 0.6730414743233666\n"
          ]
        },
        {
          "name": "stderr",
          "output_type": "stream",
          "text": [
            "Optimizing Weights: (0.2, 0.2, 0.6000000000000001, 0.6000000000000001, 0.8):   4%|▍         | 43/1024 [08:40<3:16:12, 12.00s/it]               "
          ]
        },
        {
          "name": "stdout",
          "output_type": "stream",
          "text": [
            "Weights: (0.2, 0.2, 0.6000000000000001, 0.6000000000000001, 0.6000000000000001), F1 Score = 0.6713861150737043\n"
          ]
        },
        {
          "name": "stderr",
          "output_type": "stream",
          "text": [
            "Optimizing Weights: (0.2, 0.2, 0.6000000000000001, 0.8, 0.2):   4%|▍         | 44/1024 [08:52<3:15:21, 11.96s/it]               "
          ]
        },
        {
          "name": "stdout",
          "output_type": "stream",
          "text": [
            "Weights: (0.2, 0.2, 0.6000000000000001, 0.6000000000000001, 0.8), F1 Score = 0.6686929842730348\n"
          ]
        },
        {
          "name": "stderr",
          "output_type": "stream",
          "text": [
            "Optimizing Weights: (0.2, 0.2, 0.6000000000000001, 0.8, 0.4):   4%|▍         | 45/1024 [09:04<3:15:54, 12.01s/it]"
          ]
        },
        {
          "name": "stdout",
          "output_type": "stream",
          "text": [
            "Weights: (0.2, 0.2, 0.6000000000000001, 0.8, 0.2), F1 Score = 0.674433858501188\n"
          ]
        },
        {
          "name": "stderr",
          "output_type": "stream",
          "text": [
            "Optimizing Weights: (0.2, 0.2, 0.6000000000000001, 0.8, 0.6000000000000001):   4%|▍         | 46/1024 [09:16<3:16:52, 12.08s/it]"
          ]
        },
        {
          "name": "stdout",
          "output_type": "stream",
          "text": [
            "Weights: (0.2, 0.2, 0.6000000000000001, 0.8, 0.4), F1 Score = 0.6739799562211785\n"
          ]
        },
        {
          "name": "stderr",
          "output_type": "stream",
          "text": [
            "Optimizing Weights: (0.2, 0.2, 0.6000000000000001, 0.8, 0.8):   5%|▍         | 47/1024 [09:29<3:17:34, 12.13s/it]               "
          ]
        },
        {
          "name": "stdout",
          "output_type": "stream",
          "text": [
            "Weights: (0.2, 0.2, 0.6000000000000001, 0.8, 0.6000000000000001), F1 Score = 0.6725664654015717\n"
          ]
        },
        {
          "name": "stderr",
          "output_type": "stream",
          "text": [
            "Optimizing Weights: (0.2, 0.2, 0.8, 0.2, 0.2):   5%|▍         | 48/1024 [09:41<3:17:24, 12.14s/it]               "
          ]
        },
        {
          "name": "stdout",
          "output_type": "stream",
          "text": [
            "Weights: (0.2, 0.2, 0.6000000000000001, 0.8, 0.8), F1 Score = 0.6723476994211154\n"
          ]
        },
        {
          "name": "stderr",
          "output_type": "stream",
          "text": [
            "Optimizing Weights: (0.2, 0.2, 0.8, 0.2, 0.4):   5%|▍         | 49/1024 [09:53<3:18:12, 12.20s/it]"
          ]
        },
        {
          "name": "stdout",
          "output_type": "stream",
          "text": [
            "Weights: (0.2, 0.2, 0.8, 0.2, 0.2), F1 Score = 0.6903962558595476\n"
          ]
        },
        {
          "name": "stderr",
          "output_type": "stream",
          "text": [
            "Optimizing Weights: (0.2, 0.2, 0.8, 0.2, 0.6000000000000001):   5%|▍         | 50/1024 [10:05<3:15:18, 12.03s/it]"
          ]
        },
        {
          "name": "stdout",
          "output_type": "stream",
          "text": [
            "Weights: (0.2, 0.2, 0.8, 0.2, 0.4), F1 Score = 0.6765572386380613\n"
          ]
        },
        {
          "name": "stderr",
          "output_type": "stream",
          "text": [
            "Optimizing Weights: (0.2, 0.2, 0.8, 0.2, 0.8):   5%|▍         | 51/1024 [10:17<3:13:17, 11.92s/it]               "
          ]
        },
        {
          "name": "stdout",
          "output_type": "stream",
          "text": [
            "Weights: (0.2, 0.2, 0.8, 0.2, 0.6000000000000001), F1 Score = 0.6636264731655228\n"
          ]
        },
        {
          "name": "stderr",
          "output_type": "stream",
          "text": [
            "Optimizing Weights: (0.2, 0.2, 0.8, 0.4, 0.2):   5%|▌         | 52/1024 [10:29<3:14:48, 12.03s/it]"
          ]
        },
        {
          "name": "stdout",
          "output_type": "stream",
          "text": [
            "Weights: (0.2, 0.2, 0.8, 0.2, 0.8), F1 Score = 0.638990145223477\n"
          ]
        },
        {
          "name": "stderr",
          "output_type": "stream",
          "text": [
            "Optimizing Weights: (0.2, 0.2, 0.8, 0.4, 0.4):   5%|▌         | 53/1024 [10:41<3:16:10, 12.12s/it]"
          ]
        },
        {
          "name": "stdout",
          "output_type": "stream",
          "text": [
            "Weights: (0.2, 0.2, 0.8, 0.4, 0.2), F1 Score = 0.6769447290182229\n"
          ]
        },
        {
          "name": "stderr",
          "output_type": "stream",
          "text": [
            "Optimizing Weights: (0.2, 0.2, 0.8, 0.4, 0.6000000000000001):   5%|▌         | 54/1024 [10:53<3:16:44, 12.17s/it]"
          ]
        },
        {
          "name": "stdout",
          "output_type": "stream",
          "text": [
            "Weights: (0.2, 0.2, 0.8, 0.4, 0.4), F1 Score = 0.6723014922910702\n"
          ]
        },
        {
          "name": "stderr",
          "output_type": "stream",
          "text": [
            "Optimizing Weights: (0.2, 0.2, 0.8, 0.4, 0.8):   5%|▌         | 55/1024 [11:06<3:17:28, 12.23s/it]               "
          ]
        },
        {
          "name": "stdout",
          "output_type": "stream",
          "text": [
            "Weights: (0.2, 0.2, 0.8, 0.4, 0.6000000000000001), F1 Score = 0.670405254234505\n"
          ]
        },
        {
          "name": "stderr",
          "output_type": "stream",
          "text": [
            "Optimizing Weights: (0.2, 0.2, 0.8, 0.6000000000000001, 0.2):   5%|▌         | 56/1024 [11:18<3:17:50, 12.26s/it]"
          ]
        },
        {
          "name": "stdout",
          "output_type": "stream",
          "text": [
            "Weights: (0.2, 0.2, 0.8, 0.4, 0.8), F1 Score = 0.6639282476366591\n"
          ]
        },
        {
          "name": "stderr",
          "output_type": "stream",
          "text": [
            "Optimizing Weights: (0.2, 0.2, 0.8, 0.6000000000000001, 0.4):   6%|▌         | 57/1024 [11:30<3:17:50, 12.28s/it]"
          ]
        },
        {
          "name": "stdout",
          "output_type": "stream",
          "text": [
            "Weights: (0.2, 0.2, 0.8, 0.6000000000000001, 0.2), F1 Score = 0.6732651752696784\n"
          ]
        },
        {
          "name": "stderr",
          "output_type": "stream",
          "text": [
            "Optimizing Weights: (0.2, 0.2, 0.8, 0.6000000000000001, 0.6000000000000001):   6%|▌         | 58/1024 [11:42<3:14:29, 12.08s/it]"
          ]
        },
        {
          "name": "stdout",
          "output_type": "stream",
          "text": [
            "Weights: (0.2, 0.2, 0.8, 0.6000000000000001, 0.4), F1 Score = 0.6739799562211785\n"
          ]
        },
        {
          "name": "stderr",
          "output_type": "stream",
          "text": [
            "Optimizing Weights: (0.2, 0.2, 0.8, 0.6000000000000001, 0.8):   6%|▌         | 59/1024 [11:54<3:13:25, 12.03s/it]               "
          ]
        },
        {
          "name": "stdout",
          "output_type": "stream",
          "text": [
            "Weights: (0.2, 0.2, 0.8, 0.6000000000000001, 0.6000000000000001), F1 Score = 0.6716230271083957\n"
          ]
        },
        {
          "name": "stderr",
          "output_type": "stream",
          "text": [
            "Optimizing Weights: (0.2, 0.2, 0.8, 0.8, 0.2):   6%|▌         | 60/1024 [12:07<3:16:58, 12.26s/it]               "
          ]
        },
        {
          "name": "stdout",
          "output_type": "stream",
          "text": [
            "Weights: (0.2, 0.2, 0.8, 0.6000000000000001, 0.8), F1 Score = 0.671866020640743\n"
          ]
        },
        {
          "name": "stderr",
          "output_type": "stream",
          "text": [
            "Optimizing Weights: (0.2, 0.2, 0.8, 0.8, 0.4):   6%|▌         | 61/1024 [12:19<3:17:02, 12.28s/it]"
          ]
        },
        {
          "name": "stdout",
          "output_type": "stream",
          "text": [
            "Weights: (0.2, 0.2, 0.8, 0.8, 0.2), F1 Score = 0.6737404332925435\n"
          ]
        },
        {
          "name": "stderr",
          "output_type": "stream",
          "text": [
            "Optimizing Weights: (0.2, 0.2, 0.8, 0.8, 0.6000000000000001):   6%|▌         | 62/1024 [12:31<3:17:04, 12.29s/it]"
          ]
        },
        {
          "name": "stdout",
          "output_type": "stream",
          "text": [
            "Weights: (0.2, 0.2, 0.8, 0.8, 0.4), F1 Score = 0.6737404332925435\n"
          ]
        },
        {
          "name": "stderr",
          "output_type": "stream",
          "text": [
            "Optimizing Weights: (0.2, 0.2, 0.8, 0.8, 0.8):   6%|▌         | 63/1024 [12:44<3:16:59, 12.30s/it]               "
          ]
        },
        {
          "name": "stdout",
          "output_type": "stream",
          "text": [
            "Weights: (0.2, 0.2, 0.8, 0.8, 0.6000000000000001), F1 Score = 0.6744565653684867\n"
          ]
        },
        {
          "name": "stderr",
          "output_type": "stream",
          "text": [
            "Optimizing Weights: (0.2, 0.4, 0.2, 0.2, 0.2):   6%|▋         | 64/1024 [12:56<3:16:55, 12.31s/it]"
          ]
        },
        {
          "name": "stdout",
          "output_type": "stream",
          "text": [
            "Weights: (0.2, 0.2, 0.8, 0.8, 0.8), F1 Score = 0.6716230271083957\n"
          ]
        },
        {
          "name": "stderr",
          "output_type": "stream",
          "text": [
            "Optimizing Weights: (0.2, 0.4, 0.2, 0.2, 0.4):   6%|▋         | 65/1024 [13:08<3:16:13, 12.28s/it]"
          ]
        },
        {
          "name": "stdout",
          "output_type": "stream",
          "text": [
            "Weights: (0.2, 0.4, 0.2, 0.2, 0.2), F1 Score = 0.5215749892958218\n"
          ]
        },
        {
          "name": "stderr",
          "output_type": "stream",
          "text": [
            "Optimizing Weights: (0.2, 0.4, 0.2, 0.2, 0.6000000000000001):   6%|▋         | 66/1024 [13:20<3:14:01, 12.15s/it]"
          ]
        },
        {
          "name": "stdout",
          "output_type": "stream",
          "text": [
            "Weights: (0.2, 0.4, 0.2, 0.2, 0.4), F1 Score = 0.4593021381717265\n"
          ]
        },
        {
          "name": "stderr",
          "output_type": "stream",
          "text": [
            "Optimizing Weights: (0.2, 0.4, 0.2, 0.2, 0.8):   7%|▋         | 67/1024 [13:32<3:11:36, 12.01s/it]               "
          ]
        },
        {
          "name": "stdout",
          "output_type": "stream",
          "text": [
            "Weights: (0.2, 0.4, 0.2, 0.2, 0.6000000000000001), F1 Score = 0.3858507153277199\n"
          ]
        },
        {
          "name": "stderr",
          "output_type": "stream",
          "text": [
            "Optimizing Weights: (0.2, 0.4, 0.2, 0.4, 0.2):   7%|▋         | 68/1024 [13:44<3:12:13, 12.06s/it]"
          ]
        },
        {
          "name": "stdout",
          "output_type": "stream",
          "text": [
            "Weights: (0.2, 0.4, 0.2, 0.2, 0.8), F1 Score = 0.2997631407378906\n"
          ]
        },
        {
          "name": "stderr",
          "output_type": "stream",
          "text": [
            "Optimizing Weights: (0.2, 0.4, 0.2, 0.4, 0.4):   7%|▋         | 69/1024 [13:56<3:13:33, 12.16s/it]"
          ]
        },
        {
          "name": "stdout",
          "output_type": "stream",
          "text": [
            "Weights: (0.2, 0.4, 0.2, 0.4, 0.2), F1 Score = 0.6453760786443898\n"
          ]
        },
        {
          "name": "stderr",
          "output_type": "stream",
          "text": [
            "Optimizing Weights: (0.2, 0.4, 0.2, 0.4, 0.6000000000000001):   7%|▋         | 70/1024 [14:09<3:14:30, 12.23s/it]"
          ]
        },
        {
          "name": "stdout",
          "output_type": "stream",
          "text": [
            "Weights: (0.2, 0.4, 0.2, 0.4, 0.4), F1 Score = 0.5913011058184852\n"
          ]
        },
        {
          "name": "stderr",
          "output_type": "stream",
          "text": [
            "Optimizing Weights: (0.2, 0.4, 0.2, 0.4, 0.8):   7%|▋         | 71/1024 [14:21<3:14:31, 12.25s/it]               "
          ]
        },
        {
          "name": "stdout",
          "output_type": "stream",
          "text": [
            "Weights: (0.2, 0.4, 0.2, 0.4, 0.6000000000000001), F1 Score = 0.5054486710858364\n"
          ]
        },
        {
          "name": "stderr",
          "output_type": "stream",
          "text": [
            "Optimizing Weights: (0.2, 0.4, 0.2, 0.6000000000000001, 0.2):   7%|▋         | 72/1024 [14:33<3:13:56, 12.22s/it]"
          ]
        },
        {
          "name": "stdout",
          "output_type": "stream",
          "text": [
            "Weights: (0.2, 0.4, 0.2, 0.4, 0.8), F1 Score = 0.4406077200894274\n"
          ]
        },
        {
          "name": "stderr",
          "output_type": "stream",
          "text": [
            "Optimizing Weights: (0.2, 0.4, 0.2, 0.6000000000000001, 0.4):   7%|▋         | 73/1024 [14:45<3:13:36, 12.21s/it]"
          ]
        },
        {
          "name": "stdout",
          "output_type": "stream",
          "text": [
            "Weights: (0.2, 0.4, 0.2, 0.6000000000000001, 0.2), F1 Score = 0.6720137528449195\n"
          ]
        },
        {
          "name": "stderr",
          "output_type": "stream",
          "text": [
            "Optimizing Weights: (0.2, 0.4, 0.2, 0.6000000000000001, 0.6000000000000001):   7%|▋         | 74/1024 [14:57<3:10:41, 12.04s/it]"
          ]
        },
        {
          "name": "stdout",
          "output_type": "stream",
          "text": [
            "Weights: (0.2, 0.4, 0.2, 0.6000000000000001, 0.4), F1 Score = 0.6593336649904756\n"
          ]
        },
        {
          "name": "stderr",
          "output_type": "stream",
          "text": [
            "Optimizing Weights: (0.2, 0.4, 0.2, 0.6000000000000001, 0.8):   7%|▋         | 75/1024 [15:09<3:10:41, 12.06s/it]               "
          ]
        },
        {
          "name": "stdout",
          "output_type": "stream",
          "text": [
            "Weights: (0.2, 0.4, 0.2, 0.6000000000000001, 0.6000000000000001), F1 Score = 0.6335771752014607\n"
          ]
        },
        {
          "name": "stderr",
          "output_type": "stream",
          "text": [
            "Optimizing Weights: (0.2, 0.4, 0.2, 0.8, 0.2):   7%|▋         | 76/1024 [15:22<3:12:25, 12.18s/it]               "
          ]
        },
        {
          "name": "stdout",
          "output_type": "stream",
          "text": [
            "Weights: (0.2, 0.4, 0.2, 0.6000000000000001, 0.8), F1 Score = 0.5758871498426094\n"
          ]
        },
        {
          "name": "stderr",
          "output_type": "stream",
          "text": [
            "Optimizing Weights: (0.2, 0.4, 0.2, 0.8, 0.4):   8%|▊         | 77/1024 [15:34<3:13:11, 12.24s/it]"
          ]
        },
        {
          "name": "stdout",
          "output_type": "stream",
          "text": [
            "Weights: (0.2, 0.4, 0.2, 0.8, 0.2), F1 Score = 0.6970066433278572\n"
          ]
        },
        {
          "name": "stderr",
          "output_type": "stream",
          "text": [
            "Optimizing Weights: (0.2, 0.4, 0.2, 0.8, 0.6000000000000001):   8%|▊         | 78/1024 [15:46<3:13:43, 12.29s/it]"
          ]
        },
        {
          "name": "stdout",
          "output_type": "stream",
          "text": [
            "Weights: (0.2, 0.4, 0.2, 0.8, 0.4), F1 Score = 0.6838226496780873\n"
          ]
        },
        {
          "name": "stderr",
          "output_type": "stream",
          "text": [
            "Optimizing Weights: (0.2, 0.4, 0.2, 0.8, 0.8):   8%|▊         | 79/1024 [15:59<3:13:24, 12.28s/it]               "
          ]
        },
        {
          "name": "stdout",
          "output_type": "stream",
          "text": [
            "Weights: (0.2, 0.4, 0.2, 0.8, 0.6000000000000001), F1 Score = 0.6661018394961323\n"
          ]
        },
        {
          "name": "stderr",
          "output_type": "stream",
          "text": [
            "Optimizing Weights: (0.2, 0.4, 0.4, 0.2, 0.2):   8%|▊         | 80/1024 [16:11<3:13:46, 12.32s/it]"
          ]
        },
        {
          "name": "stdout",
          "output_type": "stream",
          "text": [
            "Weights: (0.2, 0.4, 0.2, 0.8, 0.8), F1 Score = 0.6541596471844359\n"
          ]
        },
        {
          "name": "stderr",
          "output_type": "stream",
          "text": [
            "Optimizing Weights: (0.2, 0.4, 0.4, 0.2, 0.4):   8%|▊         | 81/1024 [16:23<3:13:08, 12.29s/it]"
          ]
        },
        {
          "name": "stdout",
          "output_type": "stream",
          "text": [
            "Weights: (0.2, 0.4, 0.4, 0.2, 0.2), F1 Score = 0.6267515442719465\n"
          ]
        },
        {
          "name": "stderr",
          "output_type": "stream",
          "text": [
            "Optimizing Weights: (0.2, 0.4, 0.4, 0.2, 0.6000000000000001):   8%|▊         | 82/1024 [16:35<3:10:11, 12.11s/it]"
          ]
        },
        {
          "name": "stdout",
          "output_type": "stream",
          "text": [
            "Weights: (0.2, 0.4, 0.4, 0.2, 0.4), F1 Score = 0.5669425021680958\n"
          ]
        },
        {
          "name": "stderr",
          "output_type": "stream",
          "text": [
            "Optimizing Weights: (0.2, 0.4, 0.4, 0.2, 0.8):   8%|▊         | 83/1024 [16:47<3:09:56, 12.11s/it]               "
          ]
        },
        {
          "name": "stdout",
          "output_type": "stream",
          "text": [
            "Weights: (0.2, 0.4, 0.4, 0.2, 0.6000000000000001), F1 Score = 0.4951744318181818\n"
          ]
        },
        {
          "name": "stderr",
          "output_type": "stream",
          "text": [
            "Optimizing Weights: (0.2, 0.4, 0.4, 0.4, 0.2):   8%|▊         | 84/1024 [17:00<3:11:17, 12.21s/it]"
          ]
        },
        {
          "name": "stdout",
          "output_type": "stream",
          "text": [
            "Weights: (0.2, 0.4, 0.4, 0.2, 0.8), F1 Score = 0.4320790104545527\n"
          ]
        },
        {
          "name": "stderr",
          "output_type": "stream",
          "text": [
            "Optimizing Weights: (0.2, 0.4, 0.4, 0.4, 0.4):   8%|▊         | 85/1024 [17:12<3:11:54, 12.26s/it]"
          ]
        },
        {
          "name": "stdout",
          "output_type": "stream",
          "text": [
            "Weights: (0.2, 0.4, 0.4, 0.4, 0.2), F1 Score = 0.6600862473347548\n"
          ]
        },
        {
          "name": "stderr",
          "output_type": "stream",
          "text": [
            "Optimizing Weights: (0.2, 0.4, 0.4, 0.4, 0.6000000000000001):   8%|▊         | 86/1024 [17:24<3:12:20, 12.30s/it]"
          ]
        },
        {
          "name": "stdout",
          "output_type": "stream",
          "text": [
            "Weights: (0.2, 0.4, 0.4, 0.4, 0.4), F1 Score = 0.6409822318262093\n"
          ]
        },
        {
          "name": "stderr",
          "output_type": "stream",
          "text": [
            "Optimizing Weights: (0.2, 0.4, 0.4, 0.4, 0.8):   8%|▊         | 87/1024 [17:37<3:12:48, 12.35s/it]               "
          ]
        },
        {
          "name": "stdout",
          "output_type": "stream",
          "text": [
            "Weights: (0.2, 0.4, 0.4, 0.4, 0.6000000000000001), F1 Score = 0.6088534666200851\n"
          ]
        },
        {
          "name": "stderr",
          "output_type": "stream",
          "text": [
            "Optimizing Weights: (0.2, 0.4, 0.4, 0.6000000000000001, 0.2):   9%|▊         | 88/1024 [17:49<3:13:06, 12.38s/it]"
          ]
        },
        {
          "name": "stdout",
          "output_type": "stream",
          "text": [
            "Weights: (0.2, 0.4, 0.4, 0.4, 0.8), F1 Score = 0.549083357505491\n"
          ]
        },
        {
          "name": "stderr",
          "output_type": "stream",
          "text": [
            "Optimizing Weights: (0.2, 0.4, 0.4, 0.6000000000000001, 0.4):   9%|▊         | 89/1024 [18:01<3:10:29, 12.22s/it]"
          ]
        },
        {
          "name": "stdout",
          "output_type": "stream",
          "text": [
            "Weights: (0.2, 0.4, 0.4, 0.6000000000000001, 0.2), F1 Score = 0.6705022348596077\n"
          ]
        },
        {
          "name": "stderr",
          "output_type": "stream",
          "text": [
            "Optimizing Weights: (0.2, 0.4, 0.4, 0.6000000000000001, 0.6000000000000001):   9%|▉         | 90/1024 [18:13<3:08:55, 12.14s/it]"
          ]
        },
        {
          "name": "stdout",
          "output_type": "stream",
          "text": [
            "Weights: (0.2, 0.4, 0.4, 0.6000000000000001, 0.4), F1 Score = 0.6676124720387883\n"
          ]
        },
        {
          "name": "stderr",
          "output_type": "stream",
          "text": [
            "Optimizing Weights: (0.2, 0.4, 0.4, 0.6000000000000001, 0.8):   9%|▉         | 91/1024 [18:25<3:09:19, 12.18s/it]               "
          ]
        },
        {
          "name": "stdout",
          "output_type": "stream",
          "text": [
            "Weights: (0.2, 0.4, 0.4, 0.6000000000000001, 0.6000000000000001), F1 Score = 0.6569234067818974\n"
          ]
        },
        {
          "name": "stderr",
          "output_type": "stream",
          "text": [
            "Optimizing Weights: (0.2, 0.4, 0.4, 0.8, 0.2):   9%|▉         | 92/1024 [18:38<3:09:53, 12.23s/it]               "
          ]
        },
        {
          "name": "stdout",
          "output_type": "stream",
          "text": [
            "Weights: (0.2, 0.4, 0.4, 0.6000000000000001, 0.8), F1 Score = 0.632846283945305\n"
          ]
        },
        {
          "name": "stderr",
          "output_type": "stream",
          "text": [
            "Optimizing Weights: (0.2, 0.4, 0.4, 0.8, 0.4):   9%|▉         | 93/1024 [18:50<3:09:31, 12.21s/it]"
          ]
        },
        {
          "name": "stdout",
          "output_type": "stream",
          "text": [
            "Weights: (0.2, 0.4, 0.4, 0.8, 0.2), F1 Score = 0.6784573724668064\n"
          ]
        },
        {
          "name": "stderr",
          "output_type": "stream",
          "text": [
            "Optimizing Weights: (0.2, 0.4, 0.4, 0.8, 0.6000000000000001):   9%|▉         | 94/1024 [19:02<3:09:26, 12.22s/it]"
          ]
        },
        {
          "name": "stdout",
          "output_type": "stream",
          "text": [
            "Weights: (0.2, 0.4, 0.4, 0.8, 0.4), F1 Score = 0.6747908203782937\n"
          ]
        },
        {
          "name": "stderr",
          "output_type": "stream",
          "text": [
            "Optimizing Weights: (0.2, 0.4, 0.4, 0.8, 0.8):   9%|▉         | 95/1024 [19:14<3:08:38, 12.18s/it]               "
          ]
        },
        {
          "name": "stdout",
          "output_type": "stream",
          "text": [
            "Weights: (0.2, 0.4, 0.4, 0.8, 0.6000000000000001), F1 Score = 0.6697471934850517\n"
          ]
        },
        {
          "name": "stderr",
          "output_type": "stream",
          "text": [
            "Optimizing Weights: (0.2, 0.4, 0.6000000000000001, 0.2, 0.2):   9%|▉         | 96/1024 [19:26<3:07:44, 12.14s/it]"
          ]
        },
        {
          "name": "stdout",
          "output_type": "stream",
          "text": [
            "Weights: (0.2, 0.4, 0.4, 0.8, 0.8), F1 Score = 0.6636299445931111\n"
          ]
        },
        {
          "name": "stderr",
          "output_type": "stream",
          "text": [
            "Optimizing Weights: (0.2, 0.4, 0.6000000000000001, 0.2, 0.4):   9%|▉         | 97/1024 [19:38<3:04:30, 11.94s/it]"
          ]
        },
        {
          "name": "stdout",
          "output_type": "stream",
          "text": [
            "Weights: (0.2, 0.4, 0.6000000000000001, 0.2, 0.2), F1 Score = 0.658402477503798\n"
          ]
        },
        {
          "name": "stderr",
          "output_type": "stream",
          "text": [
            "Optimizing Weights: (0.2, 0.4, 0.6000000000000001, 0.2, 0.6000000000000001):  10%|▉         | 98/1024 [19:50<3:04:00, 11.92s/it]"
          ]
        },
        {
          "name": "stdout",
          "output_type": "stream",
          "text": [
            "Weights: (0.2, 0.4, 0.6000000000000001, 0.2, 0.4), F1 Score = 0.6330493700458371\n"
          ]
        },
        {
          "name": "stderr",
          "output_type": "stream",
          "text": [
            "Optimizing Weights: (0.2, 0.4, 0.6000000000000001, 0.2, 0.8):  10%|▉         | 99/1024 [20:01<3:04:03, 11.94s/it]               "
          ]
        },
        {
          "name": "stdout",
          "output_type": "stream",
          "text": [
            "Weights: (0.2, 0.4, 0.6000000000000001, 0.2, 0.6000000000000001), F1 Score = 0.5966004571963424\n"
          ]
        },
        {
          "name": "stderr",
          "output_type": "stream",
          "text": [
            "Optimizing Weights: (0.2, 0.4, 0.6000000000000001, 0.4, 0.2):  10%|▉         | 100/1024 [20:14<3:05:04, 12.02s/it]"
          ]
        },
        {
          "name": "stdout",
          "output_type": "stream",
          "text": [
            "Weights: (0.2, 0.4, 0.6000000000000001, 0.2, 0.8), F1 Score = 0.5363560052268768\n"
          ]
        },
        {
          "name": "stderr",
          "output_type": "stream",
          "text": [
            "Optimizing Weights: (0.2, 0.4, 0.6000000000000001, 0.4, 0.4):  10%|▉         | 101/1024 [20:26<3:05:36, 12.07s/it]"
          ]
        },
        {
          "name": "stdout",
          "output_type": "stream",
          "text": [
            "Weights: (0.2, 0.4, 0.6000000000000001, 0.4, 0.2), F1 Score = 0.6676946005620232\n"
          ]
        },
        {
          "name": "stderr",
          "output_type": "stream",
          "text": [
            "Optimizing Weights: (0.2, 0.4, 0.6000000000000001, 0.4, 0.6000000000000001):  10%|▉         | 102/1024 [20:38<3:06:19, 12.12s/it]"
          ]
        },
        {
          "name": "stdout",
          "output_type": "stream",
          "text": [
            "Weights: (0.2, 0.4, 0.6000000000000001, 0.4, 0.4), F1 Score = 0.6634698525562128\n"
          ]
        },
        {
          "name": "stderr",
          "output_type": "stream",
          "text": [
            "Optimizing Weights: (0.2, 0.4, 0.6000000000000001, 0.4, 0.8):  10%|█         | 103/1024 [20:50<3:06:21, 12.14s/it]               "
          ]
        },
        {
          "name": "stdout",
          "output_type": "stream",
          "text": [
            "Weights: (0.2, 0.4, 0.6000000000000001, 0.4, 0.6000000000000001), F1 Score = 0.641136232429145\n"
          ]
        },
        {
          "name": "stderr",
          "output_type": "stream",
          "text": [
            "Optimizing Weights: (0.2, 0.4, 0.6000000000000001, 0.6000000000000001, 0.2):  10%|█         | 104/1024 [21:02<3:03:19, 11.96s/it]"
          ]
        },
        {
          "name": "stdout",
          "output_type": "stream",
          "text": [
            "Weights: (0.2, 0.4, 0.6000000000000001, 0.4, 0.8), F1 Score = 0.6190741978609625\n"
          ]
        },
        {
          "name": "stderr",
          "output_type": "stream",
          "text": [
            "Optimizing Weights: (0.2, 0.4, 0.6000000000000001, 0.6000000000000001, 0.4):  10%|█         | 105/1024 [21:14<3:02:09, 11.89s/it]"
          ]
        },
        {
          "name": "stdout",
          "output_type": "stream",
          "text": [
            "Weights: (0.2, 0.4, 0.6000000000000001, 0.6000000000000001, 0.2), F1 Score = 0.67185654813196\n"
          ]
        },
        {
          "name": "stderr",
          "output_type": "stream",
          "text": [
            "Optimizing Weights: (0.2, 0.4, 0.6000000000000001, 0.6000000000000001, 0.6000000000000001):  10%|█         | 106/1024 [21:26<3:03:53, 12.02s/it]"
          ]
        },
        {
          "name": "stdout",
          "output_type": "stream",
          "text": [
            "Weights: (0.2, 0.4, 0.6000000000000001, 0.6000000000000001, 0.4), F1 Score = 0.6684642680489421\n"
          ]
        },
        {
          "name": "stderr",
          "output_type": "stream",
          "text": [
            "Optimizing Weights: (0.2, 0.4, 0.6000000000000001, 0.6000000000000001, 0.8):  10%|█         | 107/1024 [21:38<3:04:23, 12.07s/it]               "
          ]
        },
        {
          "name": "stdout",
          "output_type": "stream",
          "text": [
            "Weights: (0.2, 0.4, 0.6000000000000001, 0.6000000000000001, 0.6000000000000001), F1 Score = 0.66645448033342\n"
          ]
        },
        {
          "name": "stderr",
          "output_type": "stream",
          "text": [
            "Optimizing Weights: (0.2, 0.4, 0.6000000000000001, 0.8, 0.2):  11%|█         | 108/1024 [21:50<3:04:15, 12.07s/it]               "
          ]
        },
        {
          "name": "stdout",
          "output_type": "stream",
          "text": [
            "Weights: (0.2, 0.4, 0.6000000000000001, 0.6000000000000001, 0.8), F1 Score = 0.6582171921306894\n"
          ]
        },
        {
          "name": "stderr",
          "output_type": "stream",
          "text": [
            "Optimizing Weights: (0.2, 0.4, 0.6000000000000001, 0.8, 0.4):  11%|█         | 109/1024 [22:02<3:04:55, 12.13s/it]"
          ]
        },
        {
          "name": "stdout",
          "output_type": "stream",
          "text": [
            "Weights: (0.2, 0.4, 0.6000000000000001, 0.8, 0.2), F1 Score = 0.6739532753701806\n"
          ]
        },
        {
          "name": "stderr",
          "output_type": "stream",
          "text": [
            "Optimizing Weights: (0.2, 0.4, 0.6000000000000001, 0.8, 0.6000000000000001):  11%|█         | 110/1024 [22:15<3:07:03, 12.28s/it]"
          ]
        },
        {
          "name": "stdout",
          "output_type": "stream",
          "text": [
            "Weights: (0.2, 0.4, 0.6000000000000001, 0.8, 0.4), F1 Score = 0.6720589544757487\n"
          ]
        },
        {
          "name": "stderr",
          "output_type": "stream",
          "text": [
            "Optimizing Weights: (0.2, 0.4, 0.6000000000000001, 0.8, 0.8):  11%|█         | 111/1024 [22:27<3:05:00, 12.16s/it]               "
          ]
        },
        {
          "name": "stdout",
          "output_type": "stream",
          "text": [
            "Weights: (0.2, 0.4, 0.6000000000000001, 0.8, 0.6000000000000001), F1 Score = 0.6704175978903347\n"
          ]
        },
        {
          "name": "stderr",
          "output_type": "stream",
          "text": [
            "Optimizing Weights: (0.2, 0.4, 0.8, 0.2, 0.2):  11%|█         | 112/1024 [22:39<3:02:16, 11.99s/it]               "
          ]
        },
        {
          "name": "stdout",
          "output_type": "stream",
          "text": [
            "Weights: (0.2, 0.4, 0.6000000000000001, 0.8, 0.8), F1 Score = 0.6672473900862406\n"
          ]
        },
        {
          "name": "stderr",
          "output_type": "stream",
          "text": [
            "Optimizing Weights: (0.2, 0.4, 0.8, 0.2, 0.4):  11%|█         | 113/1024 [22:51<3:02:27, 12.02s/it]"
          ]
        },
        {
          "name": "stdout",
          "output_type": "stream",
          "text": [
            "Weights: (0.2, 0.4, 0.8, 0.2, 0.2), F1 Score = 0.6785851637868728\n"
          ]
        },
        {
          "name": "stderr",
          "output_type": "stream",
          "text": [
            "Optimizing Weights: (0.2, 0.4, 0.8, 0.2, 0.6000000000000001):  11%|█         | 114/1024 [23:03<3:03:28, 12.10s/it]"
          ]
        },
        {
          "name": "stdout",
          "output_type": "stream",
          "text": [
            "Weights: (0.2, 0.4, 0.8, 0.2, 0.4), F1 Score = 0.6610063952234152\n"
          ]
        },
        {
          "name": "stderr",
          "output_type": "stream",
          "text": [
            "Optimizing Weights: (0.2, 0.4, 0.8, 0.2, 0.8):  11%|█         | 115/1024 [23:15<3:03:57, 12.14s/it]               "
          ]
        },
        {
          "name": "stdout",
          "output_type": "stream",
          "text": [
            "Weights: (0.2, 0.4, 0.8, 0.2, 0.6000000000000001), F1 Score = 0.63520525147929\n"
          ]
        },
        {
          "name": "stderr",
          "output_type": "stream",
          "text": [
            "Optimizing Weights: (0.2, 0.4, 0.8, 0.4, 0.2):  11%|█▏        | 116/1024 [23:27<3:04:37, 12.20s/it]"
          ]
        },
        {
          "name": "stdout",
          "output_type": "stream",
          "text": [
            "Weights: (0.2, 0.4, 0.8, 0.2, 0.8), F1 Score = 0.6122891939110111\n"
          ]
        },
        {
          "name": "stderr",
          "output_type": "stream",
          "text": [
            "Optimizing Weights: (0.2, 0.4, 0.8, 0.4, 0.4):  11%|█▏        | 117/1024 [23:40<3:04:05, 12.18s/it]"
          ]
        },
        {
          "name": "stdout",
          "output_type": "stream",
          "text": [
            "Weights: (0.2, 0.4, 0.8, 0.4, 0.2), F1 Score = 0.6727220539167342\n"
          ]
        },
        {
          "name": "stderr",
          "output_type": "stream",
          "text": [
            "Optimizing Weights: (0.2, 0.4, 0.8, 0.4, 0.6000000000000001):  12%|█▏        | 118/1024 [23:51<3:02:06, 12.06s/it]"
          ]
        },
        {
          "name": "stdout",
          "output_type": "stream",
          "text": [
            "Weights: (0.2, 0.4, 0.8, 0.4, 0.4), F1 Score = 0.669188036936353\n"
          ]
        },
        {
          "name": "stderr",
          "output_type": "stream",
          "text": [
            "Optimizing Weights: (0.2, 0.4, 0.8, 0.4, 0.8):  12%|█▏        | 119/1024 [24:03<2:59:36, 11.91s/it]               "
          ]
        },
        {
          "name": "stdout",
          "output_type": "stream",
          "text": [
            "Weights: (0.2, 0.4, 0.8, 0.4, 0.6000000000000001), F1 Score = 0.6626368883136408\n"
          ]
        },
        {
          "name": "stderr",
          "output_type": "stream",
          "text": [
            "Optimizing Weights: (0.2, 0.4, 0.8, 0.6000000000000001, 0.2):  12%|█▏        | 120/1024 [24:15<3:00:19, 11.97s/it]"
          ]
        },
        {
          "name": "stdout",
          "output_type": "stream",
          "text": [
            "Weights: (0.2, 0.4, 0.8, 0.4, 0.8), F1 Score = 0.645814837129752\n"
          ]
        },
        {
          "name": "stderr",
          "output_type": "stream",
          "text": [
            "Optimizing Weights: (0.2, 0.4, 0.8, 0.6000000000000001, 0.4):  12%|█▏        | 121/1024 [24:27<3:01:47, 12.08s/it]"
          ]
        },
        {
          "name": "stdout",
          "output_type": "stream",
          "text": [
            "Weights: (0.2, 0.4, 0.8, 0.6000000000000001, 0.2), F1 Score = 0.6720717848332352\n"
          ]
        },
        {
          "name": "stderr",
          "output_type": "stream",
          "text": [
            "Optimizing Weights: (0.2, 0.4, 0.8, 0.6000000000000001, 0.6000000000000001):  12%|█▏        | 122/1024 [24:39<3:01:45, 12.09s/it]"
          ]
        },
        {
          "name": "stdout",
          "output_type": "stream",
          "text": [
            "Weights: (0.2, 0.4, 0.8, 0.6000000000000001, 0.4), F1 Score = 0.6701898703609558\n"
          ]
        },
        {
          "name": "stderr",
          "output_type": "stream",
          "text": [
            "Optimizing Weights: (0.2, 0.4, 0.8, 0.6000000000000001, 0.8):  12%|█▏        | 123/1024 [24:52<3:02:03, 12.12s/it]               "
          ]
        },
        {
          "name": "stdout",
          "output_type": "stream",
          "text": [
            "Weights: (0.2, 0.4, 0.8, 0.6000000000000001, 0.6000000000000001), F1 Score = 0.6684784671660563\n"
          ]
        },
        {
          "name": "stderr",
          "output_type": "stream",
          "text": [
            "Optimizing Weights: (0.2, 0.4, 0.8, 0.8, 0.2):  12%|█▏        | 124/1024 [25:04<3:02:19, 12.15s/it]               "
          ]
        },
        {
          "name": "stdout",
          "output_type": "stream",
          "text": [
            "Weights: (0.2, 0.4, 0.8, 0.6000000000000001, 0.8), F1 Score = 0.6687201348242777\n"
          ]
        },
        {
          "name": "stderr",
          "output_type": "stream",
          "text": [
            "Optimizing Weights: (0.2, 0.4, 0.8, 0.8, 0.4):  12%|█▏        | 125/1024 [25:16<3:00:05, 12.02s/it]"
          ]
        },
        {
          "name": "stdout",
          "output_type": "stream",
          "text": [
            "Weights: (0.2, 0.4, 0.8, 0.8, 0.2), F1 Score = 0.6730291367393956\n"
          ]
        },
        {
          "name": "stderr",
          "output_type": "stream",
          "text": [
            "Optimizing Weights: (0.2, 0.4, 0.8, 0.8, 0.6000000000000001):  12%|█▏        | 126/1024 [25:27<2:57:39, 11.87s/it]"
          ]
        },
        {
          "name": "stdout",
          "output_type": "stream",
          "text": [
            "Weights: (0.2, 0.4, 0.8, 0.8, 0.4), F1 Score = 0.6728051159738523\n"
          ]
        },
        {
          "name": "stderr",
          "output_type": "stream",
          "text": [
            "Optimizing Weights: (0.2, 0.4, 0.8, 0.8, 0.8):  12%|█▏        | 127/1024 [25:39<2:58:02, 11.91s/it]               "
          ]
        },
        {
          "name": "stdout",
          "output_type": "stream",
          "text": [
            "Weights: (0.2, 0.4, 0.8, 0.8, 0.6000000000000001), F1 Score = 0.6704304051014577\n"
          ]
        },
        {
          "name": "stderr",
          "output_type": "stream",
          "text": [
            "Optimizing Weights: (0.2, 0.6000000000000001, 0.2, 0.2, 0.2):  12%|█▎        | 128/1024 [25:51<2:58:59, 11.99s/it]"
          ]
        },
        {
          "name": "stdout",
          "output_type": "stream",
          "text": [
            "Weights: (0.2, 0.4, 0.8, 0.8, 0.8), F1 Score = 0.6716275480955111\n"
          ]
        },
        {
          "name": "stderr",
          "output_type": "stream",
          "text": [
            "Optimizing Weights: (0.2, 0.6000000000000001, 0.2, 0.2, 0.4):  13%|█▎        | 129/1024 [26:04<3:00:17, 12.09s/it]"
          ]
        },
        {
          "name": "stdout",
          "output_type": "stream",
          "text": [
            "Weights: (0.2, 0.6000000000000001, 0.2, 0.2, 0.2), F1 Score = 0.4718902207310498\n"
          ]
        },
        {
          "name": "stderr",
          "output_type": "stream",
          "text": [
            "Optimizing Weights: (0.2, 0.6000000000000001, 0.2, 0.2, 0.6000000000000001):  13%|█▎        | 130/1024 [26:16<3:00:42, 12.13s/it]"
          ]
        },
        {
          "name": "stdout",
          "output_type": "stream",
          "text": [
            "Weights: (0.2, 0.6000000000000001, 0.2, 0.2, 0.4), F1 Score = 0.4260555343834689\n"
          ]
        },
        {
          "name": "stderr",
          "output_type": "stream",
          "text": [
            "Optimizing Weights: (0.2, 0.6000000000000001, 0.2, 0.2, 0.8):  13%|█▎        | 131/1024 [26:28<3:01:07, 12.17s/it]               "
          ]
        },
        {
          "name": "stdout",
          "output_type": "stream",
          "text": [
            "Weights: (0.2, 0.6000000000000001, 0.2, 0.2, 0.6000000000000001), F1 Score = 0.3676587732477516\n"
          ]
        },
        {
          "name": "stderr",
          "output_type": "stream",
          "text": [
            "Optimizing Weights: (0.2, 0.6000000000000001, 0.2, 0.4, 0.2):  13%|█▎        | 132/1024 [26:40<2:58:53, 12.03s/it]"
          ]
        },
        {
          "name": "stdout",
          "output_type": "stream",
          "text": [
            "Weights: (0.2, 0.6000000000000001, 0.2, 0.2, 0.8), F1 Score = 0.2968122188144523\n"
          ]
        },
        {
          "name": "stderr",
          "output_type": "stream",
          "text": [
            "Optimizing Weights: (0.2, 0.6000000000000001, 0.2, 0.4, 0.4):  13%|█▎        | 133/1024 [26:51<2:56:15, 11.87s/it]"
          ]
        },
        {
          "name": "stdout",
          "output_type": "stream",
          "text": [
            "Weights: (0.2, 0.6000000000000001, 0.2, 0.4, 0.2), F1 Score = 0.5959536183072575\n"
          ]
        },
        {
          "name": "stderr",
          "output_type": "stream",
          "text": [
            "Optimizing Weights: (0.2, 0.6000000000000001, 0.2, 0.4, 0.6000000000000001):  13%|█▎        | 134/1024 [27:03<2:56:55, 11.93s/it]"
          ]
        },
        {
          "name": "stdout",
          "output_type": "stream",
          "text": [
            "Weights: (0.2, 0.6000000000000001, 0.2, 0.4, 0.4), F1 Score = 0.5153793183940243\n"
          ]
        },
        {
          "name": "stderr",
          "output_type": "stream",
          "text": [
            "Optimizing Weights: (0.2, 0.6000000000000001, 0.2, 0.4, 0.8):  13%|█▎        | 135/1024 [27:16<2:57:51, 12.00s/it]               "
          ]
        },
        {
          "name": "stdout",
          "output_type": "stream",
          "text": [
            "Weights: (0.2, 0.6000000000000001, 0.2, 0.4, 0.6000000000000001), F1 Score = 0.4617959962759173\n"
          ]
        },
        {
          "name": "stderr",
          "output_type": "stream",
          "text": [
            "Optimizing Weights: (0.2, 0.6000000000000001, 0.2, 0.6000000000000001, 0.2):  13%|█▎        | 136/1024 [27:28<2:58:59, 12.09s/it]"
          ]
        },
        {
          "name": "stdout",
          "output_type": "stream",
          "text": [
            "Weights: (0.2, 0.6000000000000001, 0.2, 0.4, 0.8), F1 Score = 0.41154776801582166\n"
          ]
        },
        {
          "name": "stderr",
          "output_type": "stream",
          "text": [
            "Optimizing Weights: (0.2, 0.6000000000000001, 0.2, 0.6000000000000001, 0.4):  13%|█▎        | 137/1024 [27:40<2:59:38, 12.15s/it]"
          ]
        },
        {
          "name": "stdout",
          "output_type": "stream",
          "text": [
            "Weights: (0.2, 0.6000000000000001, 0.2, 0.6000000000000001, 0.2), F1 Score = 0.6565251518956333\n"
          ]
        },
        {
          "name": "stderr",
          "output_type": "stream",
          "text": [
            "Optimizing Weights: (0.2, 0.6000000000000001, 0.2, 0.6000000000000001, 0.6000000000000001):  13%|█▎        | 138/1024 [27:52<2:59:22, 12.15s/it]"
          ]
        },
        {
          "name": "stdout",
          "output_type": "stream",
          "text": [
            "Weights: (0.2, 0.6000000000000001, 0.2, 0.6000000000000001, 0.4), F1 Score = 0.639951766027853\n"
          ]
        },
        {
          "name": "stderr",
          "output_type": "stream",
          "text": [
            "Optimizing Weights: (0.2, 0.6000000000000001, 0.2, 0.6000000000000001, 0.8):  14%|█▎        | 139/1024 [28:04<2:59:01, 12.14s/it]               "
          ]
        },
        {
          "name": "stdout",
          "output_type": "stream",
          "text": [
            "Weights: (0.2, 0.6000000000000001, 0.2, 0.6000000000000001, 0.6000000000000001), F1 Score = 0.582139692112299\n"
          ]
        },
        {
          "name": "stderr",
          "output_type": "stream",
          "text": [
            "Optimizing Weights: (0.2, 0.6000000000000001, 0.2, 0.8, 0.2):  14%|█▎        | 140/1024 [28:16<2:55:24, 11.91s/it]               "
          ]
        },
        {
          "name": "stdout",
          "output_type": "stream",
          "text": [
            "Weights: (0.2, 0.6000000000000001, 0.2, 0.6000000000000001, 0.8), F1 Score = 0.5020815656348467\n"
          ]
        },
        {
          "name": "stderr",
          "output_type": "stream",
          "text": [
            "Optimizing Weights: (0.2, 0.6000000000000001, 0.2, 0.8, 0.4):  14%|█▍        | 141/1024 [28:28<2:55:57, 11.96s/it]"
          ]
        },
        {
          "name": "stdout",
          "output_type": "stream",
          "text": [
            "Weights: (0.2, 0.6000000000000001, 0.2, 0.8, 0.2), F1 Score = 0.6778031493884572\n"
          ]
        },
        {
          "name": "stderr",
          "output_type": "stream",
          "text": [
            "Optimizing Weights: (0.2, 0.6000000000000001, 0.2, 0.8, 0.6000000000000001):  14%|█▍        | 142/1024 [28:40<2:57:19, 12.06s/it]"
          ]
        },
        {
          "name": "stdout",
          "output_type": "stream",
          "text": [
            "Weights: (0.2, 0.6000000000000001, 0.2, 0.8, 0.4), F1 Score = 0.6672460589865369\n"
          ]
        },
        {
          "name": "stderr",
          "output_type": "stream",
          "text": [
            "Optimizing Weights: (0.2, 0.6000000000000001, 0.2, 0.8, 0.8):  14%|█▍        | 143/1024 [28:52<2:58:08, 12.13s/it]               "
          ]
        },
        {
          "name": "stdout",
          "output_type": "stream",
          "text": [
            "Weights: (0.2, 0.6000000000000001, 0.2, 0.8, 0.6000000000000001), F1 Score = 0.6512237380720017\n"
          ]
        },
        {
          "name": "stderr",
          "output_type": "stream",
          "text": [
            "Optimizing Weights: (0.2, 0.6000000000000001, 0.4, 0.2, 0.2):  14%|█▍        | 144/1024 [29:05<2:59:29, 12.24s/it]"
          ]
        },
        {
          "name": "stdout",
          "output_type": "stream",
          "text": [
            "Weights: (0.2, 0.6000000000000001, 0.2, 0.8, 0.8), F1 Score = 0.6229080481798466\n"
          ]
        },
        {
          "name": "stderr",
          "output_type": "stream",
          "text": [
            "Optimizing Weights: (0.2, 0.6000000000000001, 0.4, 0.2, 0.4):  14%|█▍        | 145/1024 [29:17<2:58:41, 12.20s/it]"
          ]
        },
        {
          "name": "stdout",
          "output_type": "stream",
          "text": [
            "Weights: (0.2, 0.6000000000000001, 0.4, 0.2, 0.2), F1 Score = 0.5738446649410411\n"
          ]
        },
        {
          "name": "stderr",
          "output_type": "stream",
          "text": [
            "Optimizing Weights: (0.2, 0.6000000000000001, 0.4, 0.2, 0.6000000000000001):  14%|█▍        | 146/1024 [29:29<2:59:28, 12.27s/it]"
          ]
        },
        {
          "name": "stdout",
          "output_type": "stream",
          "text": [
            "Weights: (0.2, 0.6000000000000001, 0.4, 0.2, 0.4), F1 Score = 0.5042368726361464\n"
          ]
        },
        {
          "name": "stderr",
          "output_type": "stream",
          "text": [
            "Optimizing Weights: (0.2, 0.6000000000000001, 0.4, 0.2, 0.8):  14%|█▍        | 147/1024 [29:41<2:56:52, 12.10s/it]               "
          ]
        },
        {
          "name": "stdout",
          "output_type": "stream",
          "text": [
            "Weights: (0.2, 0.6000000000000001, 0.4, 0.2, 0.6000000000000001), F1 Score = 0.45113301626657076\n"
          ]
        },
        {
          "name": "stderr",
          "output_type": "stream",
          "text": [
            "Optimizing Weights: (0.2, 0.6000000000000001, 0.4, 0.4, 0.2):  14%|█▍        | 148/1024 [29:53<2:54:33, 11.96s/it]"
          ]
        },
        {
          "name": "stdout",
          "output_type": "stream",
          "text": [
            "Weights: (0.2, 0.6000000000000001, 0.4, 0.2, 0.8), F1 Score = 0.4010529376781935\n"
          ]
        },
        {
          "name": "stderr",
          "output_type": "stream",
          "text": [
            "Optimizing Weights: (0.2, 0.6000000000000001, 0.4, 0.4, 0.4):  15%|█▍        | 149/1024 [30:05<2:55:23, 12.03s/it]"
          ]
        },
        {
          "name": "stdout",
          "output_type": "stream",
          "text": [
            "Weights: (0.2, 0.6000000000000001, 0.4, 0.4, 0.2), F1 Score = 0.6373604559748428\n"
          ]
        },
        {
          "name": "stderr",
          "output_type": "stream",
          "text": [
            "Optimizing Weights: (0.2, 0.6000000000000001, 0.4, 0.4, 0.6000000000000001):  15%|█▍        | 150/1024 [30:17<2:55:57, 12.08s/it]"
          ]
        },
        {
          "name": "stdout",
          "output_type": "stream",
          "text": [
            "Weights: (0.2, 0.6000000000000001, 0.4, 0.4, 0.4), F1 Score = 0.6120587133254609\n"
          ]
        },
        {
          "name": "stderr",
          "output_type": "stream",
          "text": [
            "Optimizing Weights: (0.2, 0.6000000000000001, 0.4, 0.4, 0.8):  15%|█▍        | 151/1024 [30:30<2:57:16, 12.18s/it]               "
          ]
        },
        {
          "name": "stdout",
          "output_type": "stream",
          "text": [
            "Weights: (0.2, 0.6000000000000001, 0.4, 0.4, 0.6000000000000001), F1 Score = 0.5560343525589879\n"
          ]
        },
        {
          "name": "stderr",
          "output_type": "stream",
          "text": [
            "Optimizing Weights: (0.2, 0.6000000000000001, 0.4, 0.6000000000000001, 0.2):  15%|█▍        | 152/1024 [30:42<2:57:53, 12.24s/it]"
          ]
        },
        {
          "name": "stdout",
          "output_type": "stream",
          "text": [
            "Weights: (0.2, 0.6000000000000001, 0.4, 0.4, 0.8), F1 Score = 0.4894200817700818\n"
          ]
        },
        {
          "name": "stderr",
          "output_type": "stream",
          "text": [
            "Optimizing Weights: (0.2, 0.6000000000000001, 0.4, 0.6000000000000001, 0.4):  15%|█▍        | 153/1024 [30:54<2:57:12, 12.21s/it]"
          ]
        },
        {
          "name": "stdout",
          "output_type": "stream",
          "text": [
            "Weights: (0.2, 0.6000000000000001, 0.4, 0.6000000000000001, 0.2), F1 Score = 0.6626581939223537\n"
          ]
        },
        {
          "name": "stderr",
          "output_type": "stream",
          "text": [
            "Optimizing Weights: (0.2, 0.6000000000000001, 0.4, 0.6000000000000001, 0.6000000000000001):  15%|█▌        | 154/1024 [31:06<2:56:20, 12.16s/it]"
          ]
        },
        {
          "name": "stdout",
          "output_type": "stream",
          "text": [
            "Weights: (0.2, 0.6000000000000001, 0.4, 0.6000000000000001, 0.4), F1 Score = 0.6542097613882862\n"
          ]
        },
        {
          "name": "stderr",
          "output_type": "stream",
          "text": [
            "Optimizing Weights: (0.2, 0.6000000000000001, 0.4, 0.6000000000000001, 0.8):  15%|█▌        | 155/1024 [31:18<2:53:44, 12.00s/it]               "
          ]
        },
        {
          "name": "stdout",
          "output_type": "stream",
          "text": [
            "Weights: (0.2, 0.6000000000000001, 0.4, 0.6000000000000001, 0.6000000000000001), F1 Score = 0.6318512076566293\n"
          ]
        },
        {
          "name": "stderr",
          "output_type": "stream",
          "text": [
            "Optimizing Weights: (0.2, 0.6000000000000001, 0.4, 0.8, 0.2):  15%|█▌        | 156/1024 [31:30<2:52:38, 11.93s/it]               "
          ]
        },
        {
          "name": "stdout",
          "output_type": "stream",
          "text": [
            "Weights: (0.2, 0.6000000000000001, 0.4, 0.6000000000000001, 0.8), F1 Score = 0.5984030745145718\n"
          ]
        },
        {
          "name": "stderr",
          "output_type": "stream",
          "text": [
            "Optimizing Weights: (0.2, 0.6000000000000001, 0.4, 0.8, 0.4):  15%|█▌        | 157/1024 [31:42<2:55:02, 12.11s/it]"
          ]
        },
        {
          "name": "stdout",
          "output_type": "stream",
          "text": [
            "Weights: (0.2, 0.6000000000000001, 0.4, 0.8, 0.2), F1 Score = 0.6743917978228298\n"
          ]
        },
        {
          "name": "stderr",
          "output_type": "stream",
          "text": [
            "Optimizing Weights: (0.2, 0.6000000000000001, 0.4, 0.8, 0.6000000000000001):  15%|█▌        | 158/1024 [31:55<2:57:45, 12.32s/it]"
          ]
        },
        {
          "name": "stdout",
          "output_type": "stream",
          "text": [
            "Weights: (0.2, 0.6000000000000001, 0.4, 0.8, 0.4), F1 Score = 0.6648922073838528\n"
          ]
        },
        {
          "name": "stderr",
          "output_type": "stream",
          "text": [
            "Optimizing Weights: (0.2, 0.6000000000000001, 0.4, 0.8, 0.8):  16%|█▌        | 159/1024 [32:07<2:58:20, 12.37s/it]               "
          ]
        },
        {
          "name": "stdout",
          "output_type": "stream",
          "text": [
            "Weights: (0.2, 0.6000000000000001, 0.4, 0.8, 0.6000000000000001), F1 Score = 0.6605567957993602\n"
          ]
        },
        {
          "name": "stderr",
          "output_type": "stream",
          "text": [
            "Optimizing Weights: (0.2, 0.6000000000000001, 0.6000000000000001, 0.2, 0.2):  16%|█▌        | 160/1024 [32:21<3:01:50, 12.63s/it]"
          ]
        },
        {
          "name": "stdout",
          "output_type": "stream",
          "text": [
            "Weights: (0.2, 0.6000000000000001, 0.4, 0.8, 0.8), F1 Score = 0.6468284496604113\n"
          ]
        },
        {
          "name": "stderr",
          "output_type": "stream",
          "text": [
            "Optimizing Weights: (0.2, 0.6000000000000001, 0.6000000000000001, 0.2, 0.4):  16%|█▌        | 161/1024 [32:33<3:00:57, 12.58s/it]"
          ]
        },
        {
          "name": "stdout",
          "output_type": "stream",
          "text": [
            "Weights: (0.2, 0.6000000000000001, 0.6000000000000001, 0.2, 0.2), F1 Score = 0.6300499878356597\n"
          ]
        },
        {
          "name": "stderr",
          "output_type": "stream",
          "text": [
            "Optimizing Weights: (0.2, 0.6000000000000001, 0.6000000000000001, 0.2, 0.6000000000000001):  16%|█▌        | 162/1024 [32:45<2:59:52, 12.52s/it]"
          ]
        },
        {
          "name": "stdout",
          "output_type": "stream",
          "text": [
            "Weights: (0.2, 0.6000000000000001, 0.6000000000000001, 0.2, 0.4), F1 Score = 0.6006348280604173\n"
          ]
        },
        {
          "name": "stderr",
          "output_type": "stream",
          "text": [
            "Optimizing Weights: (0.2, 0.6000000000000001, 0.6000000000000001, 0.2, 0.8):  16%|█▌        | 163/1024 [32:58<2:59:03, 12.48s/it]               "
          ]
        },
        {
          "name": "stdout",
          "output_type": "stream",
          "text": [
            "Weights: (0.2, 0.6000000000000001, 0.6000000000000001, 0.2, 0.6000000000000001), F1 Score = 0.5432330320150659\n"
          ]
        },
        {
          "name": "stderr",
          "output_type": "stream",
          "text": [
            "Optimizing Weights: (0.2, 0.6000000000000001, 0.6000000000000001, 0.4, 0.2):  16%|█▌        | 164/1024 [33:10<2:55:50, 12.27s/it]"
          ]
        },
        {
          "name": "stdout",
          "output_type": "stream",
          "text": [
            "Weights: (0.2, 0.6000000000000001, 0.6000000000000001, 0.2, 0.8), F1 Score = 0.4861723407994377\n"
          ]
        },
        {
          "name": "stderr",
          "output_type": "stream",
          "text": [
            "Optimizing Weights: (0.2, 0.6000000000000001, 0.6000000000000001, 0.4, 0.4):  16%|█▌        | 165/1024 [33:21<2:53:35, 12.12s/it]"
          ]
        },
        {
          "name": "stdout",
          "output_type": "stream",
          "text": [
            "Weights: (0.2, 0.6000000000000001, 0.6000000000000001, 0.4, 0.2), F1 Score = 0.6605392588003548\n"
          ]
        },
        {
          "name": "stderr",
          "output_type": "stream",
          "text": [
            "Optimizing Weights: (0.2, 0.6000000000000001, 0.6000000000000001, 0.4, 0.6000000000000001):  16%|█▌        | 166/1024 [33:34<2:53:42, 12.15s/it]"
          ]
        },
        {
          "name": "stdout",
          "output_type": "stream",
          "text": [
            "Weights: (0.2, 0.6000000000000001, 0.6000000000000001, 0.4, 0.4), F1 Score = 0.63792125393338\n"
          ]
        },
        {
          "name": "stderr",
          "output_type": "stream",
          "text": [
            "Optimizing Weights: (0.2, 0.6000000000000001, 0.6000000000000001, 0.4, 0.8):  16%|█▋        | 167/1024 [33:46<2:54:16, 12.20s/it]               "
          ]
        },
        {
          "name": "stdout",
          "output_type": "stream",
          "text": [
            "Weights: (0.2, 0.6000000000000001, 0.6000000000000001, 0.4, 0.6000000000000001), F1 Score = 0.6169187403229374\n"
          ]
        },
        {
          "name": "stderr",
          "output_type": "stream",
          "text": [
            "Optimizing Weights: (0.2, 0.6000000000000001, 0.6000000000000001, 0.6000000000000001, 0.2):  16%|█▋        | 168/1024 [33:58<2:54:55, 12.26s/it]"
          ]
        },
        {
          "name": "stdout",
          "output_type": "stream",
          "text": [
            "Weights: (0.2, 0.6000000000000001, 0.6000000000000001, 0.4, 0.8), F1 Score = 0.5809678567230349\n"
          ]
        },
        {
          "name": "stderr",
          "output_type": "stream",
          "text": [
            "Optimizing Weights: (0.2, 0.6000000000000001, 0.6000000000000001, 0.6000000000000001, 0.4):  17%|█▋        | 169/1024 [34:11<2:54:43, 12.26s/it]"
          ]
        },
        {
          "name": "stdout",
          "output_type": "stream",
          "text": [
            "Weights: (0.2, 0.6000000000000001, 0.6000000000000001, 0.6000000000000001, 0.2), F1 Score = 0.6680956228879539\n"
          ]
        },
        {
          "name": "stderr",
          "output_type": "stream",
          "text": [
            "Optimizing Weights: (0.2, 0.6000000000000001, 0.6000000000000001, 0.6000000000000001, 0.6000000000000001):  17%|█▋        | 170/1024 [34:23<2:54:45, 12.28s/it]"
          ]
        },
        {
          "name": "stdout",
          "output_type": "stream",
          "text": [
            "Weights: (0.2, 0.6000000000000001, 0.6000000000000001, 0.6000000000000001, 0.4), F1 Score = 0.6611518777841421\n"
          ]
        },
        {
          "name": "stderr",
          "output_type": "stream",
          "text": [
            "Optimizing Weights: (0.2, 0.6000000000000001, 0.6000000000000001, 0.6000000000000001, 0.8):  17%|█▋        | 171/1024 [34:35<2:52:58, 12.17s/it]               "
          ]
        },
        {
          "name": "stdout",
          "output_type": "stream",
          "text": [
            "Weights: (0.2, 0.6000000000000001, 0.6000000000000001, 0.6000000000000001, 0.6000000000000001), F1 Score = 0.6524132217966323\n"
          ]
        },
        {
          "name": "stderr",
          "output_type": "stream",
          "text": [
            "Optimizing Weights: (0.2, 0.6000000000000001, 0.6000000000000001, 0.8, 0.2):  17%|█▋        | 172/1024 [34:46<2:50:14, 11.99s/it]               "
          ]
        },
        {
          "name": "stdout",
          "output_type": "stream",
          "text": [
            "Weights: (0.2, 0.6000000000000001, 0.6000000000000001, 0.6000000000000001, 0.8), F1 Score = 0.6349212860409049\n"
          ]
        },
        {
          "name": "stderr",
          "output_type": "stream",
          "text": [
            "Optimizing Weights: (0.2, 0.6000000000000001, 0.6000000000000001, 0.8, 0.4):  17%|█▋        | 173/1024 [34:59<2:51:20, 12.08s/it]"
          ]
        },
        {
          "name": "stdout",
          "output_type": "stream",
          "text": [
            "Weights: (0.2, 0.6000000000000001, 0.6000000000000001, 0.8, 0.2), F1 Score = 0.6734114516529701\n"
          ]
        },
        {
          "name": "stderr",
          "output_type": "stream",
          "text": [
            "Optimizing Weights: (0.2, 0.6000000000000001, 0.6000000000000001, 0.8, 0.6000000000000001):  17%|█▋        | 174/1024 [35:11<2:51:25, 12.10s/it]"
          ]
        },
        {
          "name": "stdout",
          "output_type": "stream",
          "text": [
            "Weights: (0.2, 0.6000000000000001, 0.6000000000000001, 0.8, 0.4), F1 Score = 0.6690956917227411\n"
          ]
        },
        {
          "name": "stderr",
          "output_type": "stream",
          "text": [
            "Optimizing Weights: (0.2, 0.6000000000000001, 0.6000000000000001, 0.8, 0.8):  17%|█▋        | 175/1024 [35:23<2:52:34, 12.20s/it]               "
          ]
        },
        {
          "name": "stdout",
          "output_type": "stream",
          "text": [
            "Weights: (0.2, 0.6000000000000001, 0.6000000000000001, 0.8, 0.6000000000000001), F1 Score = 0.666127443056576\n"
          ]
        },
        {
          "name": "stderr",
          "output_type": "stream",
          "text": [
            "Optimizing Weights: (0.2, 0.6000000000000001, 0.8, 0.2, 0.2):  17%|█▋        | 176/1024 [35:36<2:52:39, 12.22s/it]               "
          ]
        },
        {
          "name": "stdout",
          "output_type": "stream",
          "text": [
            "Weights: (0.2, 0.6000000000000001, 0.6000000000000001, 0.8, 0.8), F1 Score = 0.6596420507360731\n"
          ]
        },
        {
          "name": "stderr",
          "output_type": "stream",
          "text": [
            "Optimizing Weights: (0.2, 0.6000000000000001, 0.8, 0.2, 0.4):  17%|█▋        | 177/1024 [35:48<2:53:06, 12.26s/it]"
          ]
        },
        {
          "name": "stdout",
          "output_type": "stream",
          "text": [
            "Weights: (0.2, 0.6000000000000001, 0.8, 0.2, 0.2), F1 Score = 0.6610635798897408\n"
          ]
        },
        {
          "name": "stderr",
          "output_type": "stream",
          "text": [
            "Optimizing Weights: (0.2, 0.6000000000000001, 0.8, 0.2, 0.6000000000000001):  17%|█▋        | 178/1024 [36:00<2:52:56, 12.27s/it]"
          ]
        },
        {
          "name": "stdout",
          "output_type": "stream",
          "text": [
            "Weights: (0.2, 0.6000000000000001, 0.8, 0.2, 0.4), F1 Score = 0.6349514367895217\n"
          ]
        },
        {
          "name": "stderr",
          "output_type": "stream",
          "text": [
            "Optimizing Weights: (0.2, 0.6000000000000001, 0.8, 0.2, 0.8):  17%|█▋        | 179/1024 [36:12<2:49:34, 12.04s/it]               "
          ]
        },
        {
          "name": "stdout",
          "output_type": "stream",
          "text": [
            "Weights: (0.2, 0.6000000000000001, 0.8, 0.2, 0.6000000000000001), F1 Score = 0.6153497336503723\n"
          ]
        },
        {
          "name": "stderr",
          "output_type": "stream",
          "text": [
            "Optimizing Weights: (0.2, 0.6000000000000001, 0.8, 0.4, 0.2):  18%|█▊        | 180/1024 [36:24<2:48:44, 12.00s/it]"
          ]
        },
        {
          "name": "stdout",
          "output_type": "stream",
          "text": [
            "Weights: (0.2, 0.6000000000000001, 0.8, 0.2, 0.8), F1 Score = 0.5710240797618806\n"
          ]
        },
        {
          "name": "stderr",
          "output_type": "stream",
          "text": [
            "Optimizing Weights: (0.2, 0.6000000000000001, 0.8, 0.4, 0.4):  18%|█▊        | 181/1024 [36:36<2:49:45, 12.08s/it]"
          ]
        },
        {
          "name": "stdout",
          "output_type": "stream",
          "text": [
            "Weights: (0.2, 0.6000000000000001, 0.8, 0.4, 0.2), F1 Score = 0.6679391033697031\n"
          ]
        },
        {
          "name": "stderr",
          "output_type": "stream",
          "text": [
            "Optimizing Weights: (0.2, 0.6000000000000001, 0.8, 0.4, 0.6000000000000001):  18%|█▊        | 182/1024 [36:48<2:50:35, 12.16s/it]"
          ]
        },
        {
          "name": "stdout",
          "output_type": "stream",
          "text": [
            "Weights: (0.2, 0.6000000000000001, 0.8, 0.4, 0.4), F1 Score = 0.6600351074384753\n"
          ]
        },
        {
          "name": "stderr",
          "output_type": "stream",
          "text": [
            "Optimizing Weights: (0.2, 0.6000000000000001, 0.8, 0.4, 0.8):  18%|█▊        | 183/1024 [37:00<2:50:37, 12.17s/it]               "
          ]
        },
        {
          "name": "stdout",
          "output_type": "stream",
          "text": [
            "Weights: (0.2, 0.6000000000000001, 0.8, 0.4, 0.6000000000000001), F1 Score = 0.6398877167084857\n"
          ]
        },
        {
          "name": "stderr",
          "output_type": "stream",
          "text": [
            "Optimizing Weights: (0.2, 0.6000000000000001, 0.8, 0.6000000000000001, 0.2):  18%|█▊        | 184/1024 [37:13<2:51:31, 12.25s/it]"
          ]
        },
        {
          "name": "stdout",
          "output_type": "stream",
          "text": [
            "Weights: (0.2, 0.6000000000000001, 0.8, 0.4, 0.8), F1 Score = 0.6243443396226415\n"
          ]
        },
        {
          "name": "stderr",
          "output_type": "stream",
          "text": [
            "Optimizing Weights: (0.2, 0.6000000000000001, 0.8, 0.6000000000000001, 0.4):  18%|█▊        | 185/1024 [37:25<2:51:24, 12.26s/it]"
          ]
        },
        {
          "name": "stdout",
          "output_type": "stream",
          "text": [
            "Weights: (0.2, 0.6000000000000001, 0.8, 0.6000000000000001, 0.2), F1 Score = 0.668474003775703\n"
          ]
        },
        {
          "name": "stderr",
          "output_type": "stream",
          "text": [
            "Optimizing Weights: (0.2, 0.6000000000000001, 0.8, 0.6000000000000001, 0.6000000000000001):  18%|█▊        | 186/1024 [37:37<2:51:31, 12.28s/it]"
          ]
        },
        {
          "name": "stdout",
          "output_type": "stream",
          "text": [
            "Weights: (0.2, 0.6000000000000001, 0.8, 0.6000000000000001, 0.4), F1 Score = 0.6671904795846691\n"
          ]
        },
        {
          "name": "stderr",
          "output_type": "stream",
          "text": [
            "Optimizing Weights: (0.2, 0.6000000000000001, 0.8, 0.6000000000000001, 0.8):  18%|█▊        | 187/1024 [37:49<2:49:11, 12.13s/it]               "
          ]
        },
        {
          "name": "stdout",
          "output_type": "stream",
          "text": [
            "Weights: (0.2, 0.6000000000000001, 0.8, 0.6000000000000001, 0.6000000000000001), F1 Score = 0.6652567850371573\n"
          ]
        },
        {
          "name": "stderr",
          "output_type": "stream",
          "text": [
            "Optimizing Weights: (0.2, 0.6000000000000001, 0.8, 0.8, 0.2):  18%|█▊        | 188/1024 [38:02<2:49:51, 12.19s/it]               "
          ]
        },
        {
          "name": "stdout",
          "output_type": "stream",
          "text": [
            "Weights: (0.2, 0.6000000000000001, 0.8, 0.6000000000000001, 0.8), F1 Score = 0.6514392610313664\n"
          ]
        },
        {
          "name": "stderr",
          "output_type": "stream",
          "text": [
            "Optimizing Weights: (0.2, 0.6000000000000001, 0.8, 0.8, 0.4):  18%|█▊        | 189/1024 [38:14<2:51:16, 12.31s/it]"
          ]
        },
        {
          "name": "stdout",
          "output_type": "stream",
          "text": [
            "Weights: (0.2, 0.6000000000000001, 0.8, 0.8, 0.2), F1 Score = 0.6718322687485214\n"
          ]
        },
        {
          "name": "stderr",
          "output_type": "stream",
          "text": [
            "Optimizing Weights: (0.2, 0.6000000000000001, 0.8, 0.8, 0.6000000000000001):  19%|█▊        | 190/1024 [38:27<2:51:50, 12.36s/it]"
          ]
        },
        {
          "name": "stdout",
          "output_type": "stream",
          "text": [
            "Weights: (0.2, 0.6000000000000001, 0.8, 0.8, 0.4), F1 Score = 0.6694636752136753\n"
          ]
        },
        {
          "name": "stderr",
          "output_type": "stream",
          "text": [
            "Optimizing Weights: (0.2, 0.6000000000000001, 0.8, 0.8, 0.8):  19%|█▊        | 191/1024 [38:39<2:52:02, 12.39s/it]               "
          ]
        },
        {
          "name": "stdout",
          "output_type": "stream",
          "text": [
            "Weights: (0.2, 0.6000000000000001, 0.8, 0.8, 0.6000000000000001), F1 Score = 0.668216149088577\n"
          ]
        },
        {
          "name": "stderr",
          "output_type": "stream",
          "text": [
            "Optimizing Weights: (0.2, 0.8, 0.2, 0.2, 0.2):  19%|█▉        | 192/1024 [38:51<2:51:21, 12.36s/it]               "
          ]
        },
        {
          "name": "stdout",
          "output_type": "stream",
          "text": [
            "Weights: (0.2, 0.6000000000000001, 0.8, 0.8, 0.8), F1 Score = 0.6659965022955325\n"
          ]
        },
        {
          "name": "stderr",
          "output_type": "stream",
          "text": [
            "Optimizing Weights: (0.2, 0.8, 0.2, 0.2, 0.4):  19%|█▉        | 193/1024 [39:04<2:51:42, 12.40s/it]"
          ]
        },
        {
          "name": "stdout",
          "output_type": "stream",
          "text": [
            "Weights: (0.2, 0.8, 0.2, 0.2, 0.2), F1 Score = 0.44489070582239776\n"
          ]
        },
        {
          "name": "stderr",
          "output_type": "stream",
          "text": [
            "Optimizing Weights: (0.2, 0.8, 0.2, 0.2, 0.6000000000000001):  19%|█▉        | 194/1024 [39:16<2:50:30, 12.33s/it]"
          ]
        },
        {
          "name": "stdout",
          "output_type": "stream",
          "text": [
            "Weights: (0.2, 0.8, 0.2, 0.2, 0.4), F1 Score = 0.40587246594366067\n"
          ]
        },
        {
          "name": "stderr",
          "output_type": "stream",
          "text": [
            "Optimizing Weights: (0.2, 0.8, 0.2, 0.2, 0.8):  19%|█▉        | 195/1024 [39:28<2:48:26, 12.19s/it]               "
          ]
        },
        {
          "name": "stdout",
          "output_type": "stream",
          "text": [
            "Weights: (0.2, 0.8, 0.2, 0.2, 0.6000000000000001), F1 Score = 0.36240807327001356\n"
          ]
        },
        {
          "name": "stderr",
          "output_type": "stream",
          "text": [
            "Optimizing Weights: (0.2, 0.8, 0.2, 0.4, 0.2):  19%|█▉        | 196/1024 [39:40<2:47:47, 12.16s/it]"
          ]
        },
        {
          "name": "stdout",
          "output_type": "stream",
          "text": [
            "Weights: (0.2, 0.8, 0.2, 0.2, 0.8), F1 Score = 0.29978770237232694\n"
          ]
        },
        {
          "name": "stderr",
          "output_type": "stream",
          "text": [
            "Optimizing Weights: (0.2, 0.8, 0.2, 0.4, 0.4):  19%|█▉        | 197/1024 [39:52<2:47:59, 12.19s/it]"
          ]
        },
        {
          "name": "stdout",
          "output_type": "stream",
          "text": [
            "Weights: (0.2, 0.8, 0.2, 0.4, 0.2), F1 Score = 0.5222364289774427\n"
          ]
        },
        {
          "name": "stderr",
          "output_type": "stream",
          "text": [
            "Optimizing Weights: (0.2, 0.8, 0.2, 0.4, 0.6000000000000001):  19%|█▉        | 198/1024 [40:04<2:47:45, 12.19s/it]"
          ]
        },
        {
          "name": "stdout",
          "output_type": "stream",
          "text": [
            "Weights: (0.2, 0.8, 0.2, 0.4, 0.4), F1 Score = 0.4699809391103165\n"
          ]
        },
        {
          "name": "stderr",
          "output_type": "stream",
          "text": [
            "Optimizing Weights: (0.2, 0.8, 0.2, 0.4, 0.8):  19%|█▉        | 199/1024 [40:17<2:47:20, 12.17s/it]               "
          ]
        },
        {
          "name": "stdout",
          "output_type": "stream",
          "text": [
            "Weights: (0.2, 0.8, 0.2, 0.4, 0.6000000000000001), F1 Score = 0.4298827404479579\n"
          ]
        },
        {
          "name": "stderr",
          "output_type": "stream",
          "text": [
            "Optimizing Weights: (0.2, 0.8, 0.2, 0.6000000000000001, 0.2):  20%|█▉        | 200/1024 [40:29<2:48:29, 12.27s/it]"
          ]
        },
        {
          "name": "stdout",
          "output_type": "stream",
          "text": [
            "Weights: (0.2, 0.8, 0.2, 0.4, 0.8), F1 Score = 0.3900017527481592\n"
          ]
        },
        {
          "name": "stderr",
          "output_type": "stream",
          "text": [
            "Optimizing Weights: (0.2, 0.8, 0.2, 0.6000000000000001, 0.4):  20%|█▉        | 201/1024 [40:41<2:48:10, 12.26s/it]"
          ]
        },
        {
          "name": "stdout",
          "output_type": "stream",
          "text": [
            "Weights: (0.2, 0.8, 0.2, 0.6000000000000001, 0.2), F1 Score = 0.6363345978998592\n"
          ]
        },
        {
          "name": "stderr",
          "output_type": "stream",
          "text": [
            "Optimizing Weights: (0.2, 0.8, 0.2, 0.6000000000000001, 0.6000000000000001):  20%|█▉        | 202/1024 [40:54<2:47:52, 12.25s/it]"
          ]
        },
        {
          "name": "stdout",
          "output_type": "stream",
          "text": [
            "Weights: (0.2, 0.8, 0.2, 0.6000000000000001, 0.4), F1 Score = 0.5879241317177138\n"
          ]
        },
        {
          "name": "stderr",
          "output_type": "stream",
          "text": [
            "Optimizing Weights: (0.2, 0.8, 0.2, 0.6000000000000001, 0.8):  20%|█▉        | 203/1024 [41:05<2:45:47, 12.12s/it]               "
          ]
        },
        {
          "name": "stdout",
          "output_type": "stream",
          "text": [
            "Weights: (0.2, 0.8, 0.2, 0.6000000000000001, 0.6000000000000001), F1 Score = 0.5101961649470601\n"
          ]
        },
        {
          "name": "stderr",
          "output_type": "stream",
          "text": [
            "Optimizing Weights: (0.2, 0.8, 0.2, 0.8, 0.2):  20%|█▉        | 204/1024 [41:17<2:43:30, 11.96s/it]               "
          ]
        },
        {
          "name": "stdout",
          "output_type": "stream",
          "text": [
            "Weights: (0.2, 0.8, 0.2, 0.6000000000000001, 0.8), F1 Score = 0.4601625644541596\n"
          ]
        },
        {
          "name": "stderr",
          "output_type": "stream",
          "text": [
            "Optimizing Weights: (0.2, 0.8, 0.2, 0.8, 0.4):  20%|██        | 205/1024 [41:29<2:44:15, 12.03s/it]"
          ]
        },
        {
          "name": "stdout",
          "output_type": "stream",
          "text": [
            "Weights: (0.2, 0.8, 0.2, 0.8, 0.2), F1 Score = 0.6660375634778122\n"
          ]
        },
        {
          "name": "stderr",
          "output_type": "stream",
          "text": [
            "Optimizing Weights: (0.2, 0.8, 0.2, 0.8, 0.6000000000000001):  20%|██        | 206/1024 [41:42<2:45:37, 12.15s/it]"
          ]
        },
        {
          "name": "stdout",
          "output_type": "stream",
          "text": [
            "Weights: (0.2, 0.8, 0.2, 0.8, 0.4), F1 Score = 0.6501541335646668\n"
          ]
        },
        {
          "name": "stderr",
          "output_type": "stream",
          "text": [
            "Optimizing Weights: (0.2, 0.8, 0.2, 0.8, 0.8):  20%|██        | 207/1024 [41:54<2:46:13, 12.21s/it]               "
          ]
        },
        {
          "name": "stdout",
          "output_type": "stream",
          "text": [
            "Weights: (0.2, 0.8, 0.2, 0.8, 0.6000000000000001), F1 Score = 0.6236213687838503\n"
          ]
        },
        {
          "name": "stderr",
          "output_type": "stream",
          "text": [
            "Optimizing Weights: (0.2, 0.8, 0.4, 0.2, 0.2):  20%|██        | 208/1024 [42:06<2:47:00, 12.28s/it]"
          ]
        },
        {
          "name": "stdout",
          "output_type": "stream",
          "text": [
            "Weights: (0.2, 0.8, 0.2, 0.8, 0.8), F1 Score = 0.5757986769108236\n"
          ]
        },
        {
          "name": "stderr",
          "output_type": "stream",
          "text": [
            "Optimizing Weights: (0.2, 0.8, 0.4, 0.2, 0.4):  20%|██        | 209/1024 [42:19<2:47:03, 12.30s/it]"
          ]
        },
        {
          "name": "stdout",
          "output_type": "stream",
          "text": [
            "Weights: (0.2, 0.8, 0.4, 0.2, 0.2), F1 Score = 0.5133605719541235\n"
          ]
        },
        {
          "name": "stderr",
          "output_type": "stream",
          "text": [
            "Optimizing Weights: (0.2, 0.8, 0.4, 0.2, 0.6000000000000001):  21%|██        | 210/1024 [42:31<2:46:23, 12.26s/it]"
          ]
        },
        {
          "name": "stdout",
          "output_type": "stream",
          "text": [
            "Weights: (0.2, 0.8, 0.4, 0.2, 0.4), F1 Score = 0.46048438799340713\n"
          ]
        },
        {
          "name": "stderr",
          "output_type": "stream",
          "text": [
            "Optimizing Weights: (0.2, 0.8, 0.4, 0.2, 0.8):  21%|██        | 211/1024 [42:43<2:46:06, 12.26s/it]               "
          ]
        },
        {
          "name": "stdout",
          "output_type": "stream",
          "text": [
            "Weights: (0.2, 0.8, 0.4, 0.2, 0.6000000000000001), F1 Score = 0.424400614704321\n"
          ]
        },
        {
          "name": "stderr",
          "output_type": "stream",
          "text": [
            "Optimizing Weights: (0.2, 0.8, 0.4, 0.4, 0.2):  21%|██        | 212/1024 [42:55<2:44:18, 12.14s/it]"
          ]
        },
        {
          "name": "stdout",
          "output_type": "stream",
          "text": [
            "Weights: (0.2, 0.8, 0.4, 0.2, 0.8), F1 Score = 0.3802638083109287\n"
          ]
        },
        {
          "name": "stderr",
          "output_type": "stream",
          "text": [
            "Optimizing Weights: (0.2, 0.8, 0.4, 0.4, 0.4):  21%|██        | 213/1024 [43:07<2:44:15, 12.15s/it]"
          ]
        },
        {
          "name": "stdout",
          "output_type": "stream",
          "text": [
            "Weights: (0.2, 0.8, 0.4, 0.4, 0.2), F1 Score = 0.6109695679639822\n"
          ]
        },
        {
          "name": "stderr",
          "output_type": "stream",
          "text": [
            "Optimizing Weights: (0.2, 0.8, 0.4, 0.4, 0.6000000000000001):  21%|██        | 214/1024 [43:19<2:44:20, 12.17s/it]"
          ]
        },
        {
          "name": "stdout",
          "output_type": "stream",
          "text": [
            "Weights: (0.2, 0.8, 0.4, 0.4, 0.4), F1 Score = 0.5614092104874228\n"
          ]
        },
        {
          "name": "stderr",
          "output_type": "stream",
          "text": [
            "Optimizing Weights: (0.2, 0.8, 0.4, 0.4, 0.8):  21%|██        | 215/1024 [43:32<2:44:16, 12.18s/it]               "
          ]
        },
        {
          "name": "stdout",
          "output_type": "stream",
          "text": [
            "Weights: (0.2, 0.8, 0.4, 0.4, 0.6000000000000001), F1 Score = 0.4959236084831284\n"
          ]
        },
        {
          "name": "stderr",
          "output_type": "stream",
          "text": [
            "Optimizing Weights: (0.2, 0.8, 0.4, 0.6000000000000001, 0.2):  21%|██        | 216/1024 [43:44<2:44:45, 12.23s/it]"
          ]
        },
        {
          "name": "stdout",
          "output_type": "stream",
          "text": [
            "Weights: (0.2, 0.8, 0.4, 0.4, 0.8), F1 Score = 0.4520462530747645\n"
          ]
        },
        {
          "name": "stderr",
          "output_type": "stream",
          "text": [
            "Optimizing Weights: (0.2, 0.8, 0.4, 0.6000000000000001, 0.4):  21%|██        | 217/1024 [43:56<2:44:46, 12.25s/it]"
          ]
        },
        {
          "name": "stdout",
          "output_type": "stream",
          "text": [
            "Weights: (0.2, 0.8, 0.4, 0.6000000000000001, 0.2), F1 Score = 0.6491976431721014\n"
          ]
        },
        {
          "name": "stderr",
          "output_type": "stream",
          "text": [
            "Optimizing Weights: (0.2, 0.8, 0.4, 0.6000000000000001, 0.6000000000000001):  21%|██▏       | 218/1024 [44:08<2:44:27, 12.24s/it]"
          ]
        },
        {
          "name": "stdout",
          "output_type": "stream",
          "text": [
            "Weights: (0.2, 0.8, 0.4, 0.6000000000000001, 0.4), F1 Score = 0.6315394539925411\n"
          ]
        },
        {
          "name": "stderr",
          "output_type": "stream",
          "text": [
            "Optimizing Weights: (0.2, 0.8, 0.4, 0.6000000000000001, 0.8):  21%|██▏       | 219/1024 [44:20<2:41:02, 12.00s/it]               "
          ]
        },
        {
          "name": "stdout",
          "output_type": "stream",
          "text": [
            "Weights: (0.2, 0.8, 0.4, 0.6000000000000001, 0.6000000000000001), F1 Score = 0.5999523803804766\n"
          ]
        },
        {
          "name": "stderr",
          "output_type": "stream",
          "text": [
            "Optimizing Weights: (0.2, 0.8, 0.4, 0.8, 0.2):  21%|██▏       | 220/1024 [44:32<2:40:39, 11.99s/it]               "
          ]
        },
        {
          "name": "stdout",
          "output_type": "stream",
          "text": [
            "Weights: (0.2, 0.8, 0.4, 0.6000000000000001, 0.8), F1 Score = 0.5493827041602465\n"
          ]
        },
        {
          "name": "stderr",
          "output_type": "stream",
          "text": [
            "Optimizing Weights: (0.2, 0.8, 0.4, 0.8, 0.4):  22%|██▏       | 221/1024 [44:44<2:42:13, 12.12s/it]"
          ]
        },
        {
          "name": "stdout",
          "output_type": "stream",
          "text": [
            "Weights: (0.2, 0.8, 0.4, 0.8, 0.2), F1 Score = 0.6633419891084013\n"
          ]
        },
        {
          "name": "stderr",
          "output_type": "stream",
          "text": [
            "Optimizing Weights: (0.2, 0.8, 0.4, 0.8, 0.6000000000000001):  22%|██▏       | 222/1024 [44:57<2:42:47, 12.18s/it]"
          ]
        },
        {
          "name": "stdout",
          "output_type": "stream",
          "text": [
            "Weights: (0.2, 0.8, 0.4, 0.8, 0.4), F1 Score = 0.6572703320642147\n"
          ]
        },
        {
          "name": "stderr",
          "output_type": "stream",
          "text": [
            "Optimizing Weights: (0.2, 0.8, 0.4, 0.8, 0.8):  22%|██▏       | 223/1024 [45:09<2:43:37, 12.26s/it]               "
          ]
        },
        {
          "name": "stdout",
          "output_type": "stream",
          "text": [
            "Weights: (0.2, 0.8, 0.4, 0.8, 0.6000000000000001), F1 Score = 0.6443191696810016\n"
          ]
        },
        {
          "name": "stderr",
          "output_type": "stream",
          "text": [
            "Optimizing Weights: (0.2, 0.8, 0.6000000000000001, 0.2, 0.2):  22%|██▏       | 224/1024 [45:22<2:44:29, 12.34s/it]"
          ]
        },
        {
          "name": "stdout",
          "output_type": "stream",
          "text": [
            "Weights: (0.2, 0.8, 0.4, 0.8, 0.8), F1 Score = 0.6250800242260691\n"
          ]
        },
        {
          "name": "stderr",
          "output_type": "stream",
          "text": [
            "Optimizing Weights: (0.2, 0.8, 0.6000000000000001, 0.2, 0.4):  22%|██▏       | 225/1024 [45:34<2:44:29, 12.35s/it]"
          ]
        },
        {
          "name": "stdout",
          "output_type": "stream",
          "text": [
            "Weights: (0.2, 0.8, 0.6000000000000001, 0.2, 0.2), F1 Score = 0.6006806541807207\n"
          ]
        },
        {
          "name": "stderr",
          "output_type": "stream",
          "text": [
            "Optimizing Weights: (0.2, 0.8, 0.6000000000000001, 0.2, 0.6000000000000001):  22%|██▏       | 226/1024 [45:46<2:43:18, 12.28s/it]"
          ]
        },
        {
          "name": "stdout",
          "output_type": "stream",
          "text": [
            "Weights: (0.2, 0.8, 0.6000000000000001, 0.2, 0.4), F1 Score = 0.5502107839526025\n"
          ]
        },
        {
          "name": "stderr",
          "output_type": "stream",
          "text": [
            "Optimizing Weights: (0.2, 0.8, 0.6000000000000001, 0.2, 0.8):  22%|██▏       | 227/1024 [45:58<2:40:26, 12.08s/it]               "
          ]
        },
        {
          "name": "stdout",
          "output_type": "stream",
          "text": [
            "Weights: (0.2, 0.8, 0.6000000000000001, 0.2, 0.6000000000000001), F1 Score = 0.49207665079008633\n"
          ]
        },
        {
          "name": "stderr",
          "output_type": "stream",
          "text": [
            "Optimizing Weights: (0.2, 0.8, 0.6000000000000001, 0.4, 0.2):  22%|██▏       | 228/1024 [46:10<2:39:37, 12.03s/it]"
          ]
        },
        {
          "name": "stdout",
          "output_type": "stream",
          "text": [
            "Weights: (0.2, 0.8, 0.6000000000000001, 0.2, 0.8), F1 Score = 0.4474397642794241\n"
          ]
        },
        {
          "name": "stderr",
          "output_type": "stream",
          "text": [
            "Optimizing Weights: (0.2, 0.8, 0.6000000000000001, 0.4, 0.4):  22%|██▏       | 229/1024 [46:22<2:40:50, 12.14s/it]"
          ]
        },
        {
          "name": "stdout",
          "output_type": "stream",
          "text": [
            "Weights: (0.2, 0.8, 0.6000000000000001, 0.4, 0.2), F1 Score = 0.6377824397388419\n"
          ]
        },
        {
          "name": "stderr",
          "output_type": "stream",
          "text": [
            "Optimizing Weights: (0.2, 0.8, 0.6000000000000001, 0.4, 0.6000000000000001):  22%|██▏       | 230/1024 [46:34<2:40:47, 12.15s/it]"
          ]
        },
        {
          "name": "stdout",
          "output_type": "stream",
          "text": [
            "Weights: (0.2, 0.8, 0.6000000000000001, 0.4, 0.4), F1 Score = 0.6163850692328858\n"
          ]
        },
        {
          "name": "stderr",
          "output_type": "stream",
          "text": [
            "Optimizing Weights: (0.2, 0.8, 0.6000000000000001, 0.4, 0.8):  23%|██▎       | 231/1024 [46:47<2:41:32, 12.22s/it]               "
          ]
        },
        {
          "name": "stdout",
          "output_type": "stream",
          "text": [
            "Weights: (0.2, 0.8, 0.6000000000000001, 0.4, 0.6000000000000001), F1 Score = 0.5841977743348826\n"
          ]
        },
        {
          "name": "stderr",
          "output_type": "stream",
          "text": [
            "Optimizing Weights: (0.2, 0.8, 0.6000000000000001, 0.6000000000000001, 0.2):  23%|██▎       | 232/1024 [46:59<2:41:48, 12.26s/it]"
          ]
        },
        {
          "name": "stdout",
          "output_type": "stream",
          "text": [
            "Weights: (0.2, 0.8, 0.6000000000000001, 0.4, 0.8), F1 Score = 0.530478444682846\n"
          ]
        },
        {
          "name": "stderr",
          "output_type": "stream",
          "text": [
            "Optimizing Weights: (0.2, 0.8, 0.6000000000000001, 0.6000000000000001, 0.4):  23%|██▎       | 233/1024 [47:11<2:41:20, 12.24s/it]"
          ]
        },
        {
          "name": "stdout",
          "output_type": "stream",
          "text": [
            "Weights: (0.2, 0.8, 0.6000000000000001, 0.6000000000000001, 0.2), F1 Score = 0.659669437359228\n"
          ]
        },
        {
          "name": "stderr",
          "output_type": "stream",
          "text": [
            "Optimizing Weights: (0.2, 0.8, 0.6000000000000001, 0.6000000000000001, 0.6000000000000001):  23%|██▎       | 234/1024 [47:23<2:40:08, 12.16s/it]"
          ]
        },
        {
          "name": "stdout",
          "output_type": "stream",
          "text": [
            "Weights: (0.2, 0.8, 0.6000000000000001, 0.6000000000000001, 0.4), F1 Score = 0.6499953500346336\n"
          ]
        },
        {
          "name": "stderr",
          "output_type": "stream",
          "text": [
            "Optimizing Weights: (0.2, 0.8, 0.6000000000000001, 0.6000000000000001, 0.8):  23%|██▎       | 235/1024 [47:35<2:37:35, 11.98s/it]               "
          ]
        },
        {
          "name": "stdout",
          "output_type": "stream",
          "text": [
            "Weights: (0.2, 0.8, 0.6000000000000001, 0.6000000000000001, 0.6000000000000001), F1 Score = 0.6342875166002656\n"
          ]
        },
        {
          "name": "stderr",
          "output_type": "stream",
          "text": [
            "Optimizing Weights: (0.2, 0.8, 0.6000000000000001, 0.8, 0.2):  23%|██▎       | 236/1024 [47:47<2:37:14, 11.97s/it]               "
          ]
        },
        {
          "name": "stdout",
          "output_type": "stream",
          "text": [
            "Weights: (0.2, 0.8, 0.6000000000000001, 0.6000000000000001, 0.8), F1 Score = 0.6047485473354199\n"
          ]
        },
        {
          "name": "stderr",
          "output_type": "stream",
          "text": [
            "Optimizing Weights: (0.2, 0.8, 0.6000000000000001, 0.8, 0.4):  23%|██▎       | 237/1024 [47:59<2:38:16, 12.07s/it]"
          ]
        },
        {
          "name": "stdout",
          "output_type": "stream",
          "text": [
            "Weights: (0.2, 0.8, 0.6000000000000001, 0.8, 0.2), F1 Score = 0.6664959774203075\n"
          ]
        },
        {
          "name": "stderr",
          "output_type": "stream",
          "text": [
            "Optimizing Weights: (0.2, 0.8, 0.6000000000000001, 0.8, 0.6000000000000001):  23%|██▎       | 238/1024 [48:11<2:38:42, 12.12s/it]"
          ]
        },
        {
          "name": "stdout",
          "output_type": "stream",
          "text": [
            "Weights: (0.2, 0.8, 0.6000000000000001, 0.8, 0.4), F1 Score = 0.6615135085047984\n"
          ]
        },
        {
          "name": "stderr",
          "output_type": "stream",
          "text": [
            "Optimizing Weights: (0.2, 0.8, 0.6000000000000001, 0.8, 0.8):  23%|██▎       | 239/1024 [48:24<2:39:40, 12.20s/it]               "
          ]
        },
        {
          "name": "stdout",
          "output_type": "stream",
          "text": [
            "Weights: (0.2, 0.8, 0.6000000000000001, 0.8, 0.6000000000000001), F1 Score = 0.6577974170540466\n"
          ]
        },
        {
          "name": "stderr",
          "output_type": "stream",
          "text": [
            "Optimizing Weights: (0.2, 0.8, 0.8, 0.2, 0.2):  23%|██▎       | 240/1024 [48:36<2:39:14, 12.19s/it]               "
          ]
        },
        {
          "name": "stdout",
          "output_type": "stream",
          "text": [
            "Weights: (0.2, 0.8, 0.6000000000000001, 0.8, 0.8), F1 Score = 0.6441097178161495\n"
          ]
        },
        {
          "name": "stderr",
          "output_type": "stream",
          "text": [
            "Optimizing Weights: (0.2, 0.8, 0.8, 0.2, 0.4):  24%|██▎       | 241/1024 [48:48<2:39:08, 12.19s/it]"
          ]
        },
        {
          "name": "stdout",
          "output_type": "stream",
          "text": [
            "Weights: (0.2, 0.8, 0.8, 0.2, 0.2), F1 Score = 0.6343963538053107\n"
          ]
        },
        {
          "name": "stderr",
          "output_type": "stream",
          "text": [
            "Optimizing Weights: (0.2, 0.8, 0.8, 0.2, 0.6000000000000001):  24%|██▎       | 242/1024 [49:00<2:39:13, 12.22s/it]"
          ]
        },
        {
          "name": "stdout",
          "output_type": "stream",
          "text": [
            "Weights: (0.2, 0.8, 0.8, 0.2, 0.4), F1 Score = 0.6159507917789757\n"
          ]
        },
        {
          "name": "stderr",
          "output_type": "stream",
          "text": [
            "Optimizing Weights: (0.2, 0.8, 0.8, 0.2, 0.8):  24%|██▎       | 243/1024 [49:12<2:36:44, 12.04s/it]               "
          ]
        },
        {
          "name": "stdout",
          "output_type": "stream",
          "text": [
            "Weights: (0.2, 0.8, 0.8, 0.2, 0.6000000000000001), F1 Score = 0.5767240977069596\n"
          ]
        },
        {
          "name": "stderr",
          "output_type": "stream",
          "text": [
            "Optimizing Weights: (0.2, 0.8, 0.8, 0.4, 0.2):  24%|██▍       | 244/1024 [49:24<2:35:41, 11.98s/it]"
          ]
        },
        {
          "name": "stdout",
          "output_type": "stream",
          "text": [
            "Weights: (0.2, 0.8, 0.8, 0.2, 0.8), F1 Score = 0.5291077151904807\n"
          ]
        },
        {
          "name": "stderr",
          "output_type": "stream",
          "text": [
            "Optimizing Weights: (0.2, 0.8, 0.8, 0.4, 0.4):  24%|██▍       | 245/1024 [49:36<2:36:31, 12.06s/it]"
          ]
        },
        {
          "name": "stdout",
          "output_type": "stream",
          "text": [
            "Weights: (0.2, 0.8, 0.8, 0.4, 0.2), F1 Score = 0.6549204651006697\n"
          ]
        },
        {
          "name": "stderr",
          "output_type": "stream",
          "text": [
            "Optimizing Weights: (0.2, 0.8, 0.8, 0.4, 0.6000000000000001):  24%|██▍       | 246/1024 [49:48<2:37:29, 12.15s/it]"
          ]
        },
        {
          "name": "stdout",
          "output_type": "stream",
          "text": [
            "Weights: (0.2, 0.8, 0.8, 0.4, 0.4), F1 Score = 0.6379819187620446\n"
          ]
        },
        {
          "name": "stderr",
          "output_type": "stream",
          "text": [
            "Optimizing Weights: (0.2, 0.8, 0.8, 0.4, 0.8):  24%|██▍       | 247/1024 [50:01<2:37:59, 12.20s/it]               "
          ]
        },
        {
          "name": "stdout",
          "output_type": "stream",
          "text": [
            "Weights: (0.2, 0.8, 0.8, 0.4, 0.6000000000000001), F1 Score = 0.6227325686928162\n"
          ]
        },
        {
          "name": "stderr",
          "output_type": "stream",
          "text": [
            "Optimizing Weights: (0.2, 0.8, 0.8, 0.6000000000000001, 0.2):  24%|██▍       | 248/1024 [50:13<2:38:50, 12.28s/it]"
          ]
        },
        {
          "name": "stdout",
          "output_type": "stream",
          "text": [
            "Weights: (0.2, 0.8, 0.8, 0.4, 0.8), F1 Score = 0.5971765988372093\n"
          ]
        },
        {
          "name": "stderr",
          "output_type": "stream",
          "text": [
            "Optimizing Weights: (0.2, 0.8, 0.8, 0.6000000000000001, 0.4):  24%|██▍       | 249/1024 [50:25<2:39:25, 12.34s/it]"
          ]
        },
        {
          "name": "stdout",
          "output_type": "stream",
          "text": [
            "Weights: (0.2, 0.8, 0.8, 0.6000000000000001, 0.2), F1 Score = 0.663474924012158\n"
          ]
        },
        {
          "name": "stderr",
          "output_type": "stream",
          "text": [
            "Optimizing Weights: (0.2, 0.8, 0.8, 0.6000000000000001, 0.6000000000000001):  24%|██▍       | 250/1024 [50:37<2:37:16, 12.19s/it]"
          ]
        },
        {
          "name": "stdout",
          "output_type": "stream",
          "text": [
            "Weights: (0.2, 0.8, 0.8, 0.6000000000000001, 0.4), F1 Score = 0.6584896593945502\n"
          ]
        },
        {
          "name": "stderr",
          "output_type": "stream",
          "text": [
            "Optimizing Weights: (0.2, 0.8, 0.8, 0.6000000000000001, 0.8):  25%|██▍       | 251/1024 [50:49<2:35:16, 12.05s/it]               "
          ]
        },
        {
          "name": "stdout",
          "output_type": "stream",
          "text": [
            "Weights: (0.2, 0.8, 0.8, 0.6000000000000001, 0.6000000000000001), F1 Score = 0.6455782148268718\n"
          ]
        },
        {
          "name": "stderr",
          "output_type": "stream",
          "text": [
            "Optimizing Weights: (0.2, 0.8, 0.8, 0.8, 0.2):  25%|██▍       | 252/1024 [51:01<2:35:36, 12.09s/it]               "
          ]
        },
        {
          "name": "stdout",
          "output_type": "stream",
          "text": [
            "Weights: (0.2, 0.8, 0.8, 0.6000000000000001, 0.8), F1 Score = 0.6350502624699808\n"
          ]
        },
        {
          "name": "stderr",
          "output_type": "stream",
          "text": [
            "Optimizing Weights: (0.2, 0.8, 0.8, 0.8, 0.4):  25%|██▍       | 253/1024 [51:14<2:36:43, 12.20s/it]"
          ]
        },
        {
          "name": "stdout",
          "output_type": "stream",
          "text": [
            "Weights: (0.2, 0.8, 0.8, 0.8, 0.2), F1 Score = 0.6688706828422165\n"
          ]
        },
        {
          "name": "stderr",
          "output_type": "stream",
          "text": [
            "Optimizing Weights: (0.2, 0.8, 0.8, 0.8, 0.6000000000000001):  25%|██▍       | 254/1024 [51:26<2:36:40, 12.21s/it]"
          ]
        },
        {
          "name": "stdout",
          "output_type": "stream",
          "text": [
            "Weights: (0.2, 0.8, 0.8, 0.8, 0.4), F1 Score = 0.6676170193435849\n"
          ]
        },
        {
          "name": "stderr",
          "output_type": "stream",
          "text": [
            "Optimizing Weights: (0.2, 0.8, 0.8, 0.8, 0.8):  25%|██▍       | 255/1024 [51:38<2:36:19, 12.20s/it]               "
          ]
        },
        {
          "name": "stdout",
          "output_type": "stream",
          "text": [
            "Weights: (0.2, 0.8, 0.8, 0.8, 0.6000000000000001), F1 Score = 0.6615385982795354\n"
          ]
        },
        {
          "name": "stderr",
          "output_type": "stream",
          "text": [
            "Optimizing Weights: (0.4, 0.2, 0.2, 0.2, 0.2):  25%|██▌       | 256/1024 [51:50<2:36:35, 12.23s/it]"
          ]
        },
        {
          "name": "stdout",
          "output_type": "stream",
          "text": [
            "Weights: (0.2, 0.8, 0.8, 0.8, 0.8), F1 Score = 0.658133260542415\n"
          ]
        },
        {
          "name": "stderr",
          "output_type": "stream",
          "text": [
            "Optimizing Weights: (0.4, 0.2, 0.2, 0.2, 0.4):  25%|██▌       | 257/1024 [52:03<2:36:09, 12.22s/it]"
          ]
        },
        {
          "name": "stdout",
          "output_type": "stream",
          "text": [
            "Weights: (0.4, 0.2, 0.2, 0.2, 0.2), F1 Score = 0.5331775650346572\n"
          ]
        },
        {
          "name": "stderr",
          "output_type": "stream",
          "text": [
            "Optimizing Weights: (0.4, 0.2, 0.2, 0.2, 0.6000000000000001):  25%|██▌       | 258/1024 [52:15<2:36:19, 12.24s/it]"
          ]
        },
        {
          "name": "stdout",
          "output_type": "stream",
          "text": [
            "Weights: (0.4, 0.2, 0.2, 0.2, 0.4), F1 Score = 0.5002462982093664\n"
          ]
        },
        {
          "name": "stderr",
          "output_type": "stream",
          "text": [
            "Optimizing Weights: (0.4, 0.2, 0.2, 0.2, 0.8):  25%|██▌       | 259/1024 [52:27<2:34:14, 12.10s/it]               "
          ]
        },
        {
          "name": "stdout",
          "output_type": "stream",
          "text": [
            "Weights: (0.4, 0.2, 0.2, 0.2, 0.6000000000000001), F1 Score = 0.4389816895489419\n"
          ]
        },
        {
          "name": "stderr",
          "output_type": "stream",
          "text": [
            "Optimizing Weights: (0.4, 0.2, 0.2, 0.4, 0.2):  25%|██▌       | 260/1024 [52:39<2:34:36, 12.14s/it]"
          ]
        },
        {
          "name": "stdout",
          "output_type": "stream",
          "text": [
            "Weights: (0.4, 0.2, 0.2, 0.2, 0.8), F1 Score = 0.3640984311359179\n"
          ]
        },
        {
          "name": "stderr",
          "output_type": "stream",
          "text": [
            "Optimizing Weights: (0.4, 0.2, 0.2, 0.4, 0.4):  25%|██▌       | 261/1024 [52:52<2:37:36, 12.39s/it]"
          ]
        },
        {
          "name": "stdout",
          "output_type": "stream",
          "text": [
            "Weights: (0.4, 0.2, 0.2, 0.4, 0.2), F1 Score = 0.6455662051812925\n"
          ]
        },
        {
          "name": "stderr",
          "output_type": "stream",
          "text": [
            "Optimizing Weights: (0.4, 0.2, 0.2, 0.4, 0.6000000000000001):  26%|██▌       | 262/1024 [53:04<2:36:48, 12.35s/it]"
          ]
        },
        {
          "name": "stdout",
          "output_type": "stream",
          "text": [
            "Weights: (0.4, 0.2, 0.2, 0.4, 0.4), F1 Score = 0.5977199387796274\n"
          ]
        },
        {
          "name": "stderr",
          "output_type": "stream",
          "text": [
            "Optimizing Weights: (0.4, 0.2, 0.2, 0.4, 0.8):  26%|██▌       | 263/1024 [53:16<2:36:29, 12.34s/it]               "
          ]
        },
        {
          "name": "stdout",
          "output_type": "stream",
          "text": [
            "Weights: (0.4, 0.2, 0.2, 0.4, 0.6000000000000001), F1 Score = 0.5214082642725599\n"
          ]
        },
        {
          "name": "stderr",
          "output_type": "stream",
          "text": [
            "Optimizing Weights: (0.4, 0.2, 0.2, 0.6000000000000001, 0.2):  26%|██▌       | 264/1024 [53:29<2:36:43, 12.37s/it]"
          ]
        },
        {
          "name": "stdout",
          "output_type": "stream",
          "text": [
            "Weights: (0.4, 0.2, 0.2, 0.4, 0.8), F1 Score = 0.48360376518600107\n"
          ]
        },
        {
          "name": "stderr",
          "output_type": "stream",
          "text": [
            "Optimizing Weights: (0.4, 0.2, 0.2, 0.6000000000000001, 0.4):  26%|██▌       | 265/1024 [53:41<2:36:42, 12.39s/it]"
          ]
        },
        {
          "name": "stdout",
          "output_type": "stream",
          "text": [
            "Weights: (0.4, 0.2, 0.2, 0.6000000000000001, 0.2), F1 Score = 0.6758803329248576\n"
          ]
        },
        {
          "name": "stderr",
          "output_type": "stream",
          "text": [
            "Optimizing Weights: (0.4, 0.2, 0.2, 0.6000000000000001, 0.6000000000000001):  26%|██▌       | 266/1024 [53:53<2:35:16, 12.29s/it]"
          ]
        },
        {
          "name": "stdout",
          "output_type": "stream",
          "text": [
            "Weights: (0.4, 0.2, 0.2, 0.6000000000000001, 0.4), F1 Score = 0.6596278556011426\n"
          ]
        },
        {
          "name": "stderr",
          "output_type": "stream",
          "text": [
            "Optimizing Weights: (0.4, 0.2, 0.2, 0.6000000000000001, 0.8):  26%|██▌       | 267/1024 [54:05<2:32:55, 12.12s/it]               "
          ]
        },
        {
          "name": "stdout",
          "output_type": "stream",
          "text": [
            "Weights: (0.4, 0.2, 0.2, 0.6000000000000001, 0.6000000000000001), F1 Score = 0.6396129385964912\n"
          ]
        },
        {
          "name": "stderr",
          "output_type": "stream",
          "text": [
            "Optimizing Weights: (0.4, 0.2, 0.2, 0.8, 0.2):  26%|██▌       | 268/1024 [54:17<2:32:56, 12.14s/it]               "
          ]
        },
        {
          "name": "stdout",
          "output_type": "stream",
          "text": [
            "Weights: (0.4, 0.2, 0.2, 0.6000000000000001, 0.8), F1 Score = 0.584535545532646\n"
          ]
        },
        {
          "name": "stderr",
          "output_type": "stream",
          "text": [
            "Optimizing Weights: (0.4, 0.2, 0.2, 0.8, 0.4):  26%|██▋       | 269/1024 [54:30<2:33:28, 12.20s/it]"
          ]
        },
        {
          "name": "stdout",
          "output_type": "stream",
          "text": [
            "Weights: (0.4, 0.2, 0.2, 0.8, 0.2), F1 Score = 0.6963875339335135\n"
          ]
        },
        {
          "name": "stderr",
          "output_type": "stream",
          "text": [
            "Optimizing Weights: (0.4, 0.2, 0.2, 0.8, 0.6000000000000001):  26%|██▋       | 270/1024 [54:42<2:33:50, 12.24s/it]"
          ]
        },
        {
          "name": "stdout",
          "output_type": "stream",
          "text": [
            "Weights: (0.4, 0.2, 0.2, 0.8, 0.4), F1 Score = 0.6837616490206645\n"
          ]
        },
        {
          "name": "stderr",
          "output_type": "stream",
          "text": [
            "Optimizing Weights: (0.4, 0.2, 0.2, 0.8, 0.8):  26%|██▋       | 271/1024 [54:54<2:33:15, 12.21s/it]               "
          ]
        },
        {
          "name": "stdout",
          "output_type": "stream",
          "text": [
            "Weights: (0.4, 0.2, 0.2, 0.8, 0.6000000000000001), F1 Score = 0.6660970742287816\n"
          ]
        },
        {
          "name": "stderr",
          "output_type": "stream",
          "text": [
            "Optimizing Weights: (0.4, 0.2, 0.4, 0.2, 0.2):  27%|██▋       | 272/1024 [55:06<2:32:49, 12.19s/it]"
          ]
        },
        {
          "name": "stdout",
          "output_type": "stream",
          "text": [
            "Weights: (0.4, 0.2, 0.2, 0.8, 0.8), F1 Score = 0.653472322578795\n"
          ]
        },
        {
          "name": "stderr",
          "output_type": "stream",
          "text": [
            "Optimizing Weights: (0.4, 0.2, 0.4, 0.2, 0.4):  27%|██▋       | 273/1024 [55:19<2:33:21, 12.25s/it]"
          ]
        },
        {
          "name": "stdout",
          "output_type": "stream",
          "text": [
            "Weights: (0.4, 0.2, 0.4, 0.2, 0.2), F1 Score = 0.6263909356725147\n"
          ]
        },
        {
          "name": "stderr",
          "output_type": "stream",
          "text": [
            "Optimizing Weights: (0.4, 0.2, 0.4, 0.2, 0.6000000000000001):  27%|██▋       | 274/1024 [55:31<2:31:43, 12.14s/it]"
          ]
        },
        {
          "name": "stdout",
          "output_type": "stream",
          "text": [
            "Weights: (0.4, 0.2, 0.4, 0.2, 0.4), F1 Score = 0.5794199517951144\n"
          ]
        },
        {
          "name": "stderr",
          "output_type": "stream",
          "text": [
            "Optimizing Weights: (0.4, 0.2, 0.4, 0.2, 0.8):  27%|██▋       | 275/1024 [55:42<2:30:19, 12.04s/it]               "
          ]
        },
        {
          "name": "stdout",
          "output_type": "stream",
          "text": [
            "Weights: (0.4, 0.2, 0.4, 0.2, 0.6000000000000001), F1 Score = 0.5103094594625729\n"
          ]
        },
        {
          "name": "stderr",
          "output_type": "stream",
          "text": [
            "Optimizing Weights: (0.4, 0.2, 0.4, 0.4, 0.2):  27%|██▋       | 276/1024 [55:55<2:31:24, 12.15s/it]"
          ]
        },
        {
          "name": "stdout",
          "output_type": "stream",
          "text": [
            "Weights: (0.4, 0.2, 0.4, 0.2, 0.8), F1 Score = 0.46942031801769135\n"
          ]
        },
        {
          "name": "stderr",
          "output_type": "stream",
          "text": [
            "Optimizing Weights: (0.4, 0.2, 0.4, 0.4, 0.4):  27%|██▋       | 277/1024 [56:07<2:31:45, 12.19s/it]"
          ]
        },
        {
          "name": "stdout",
          "output_type": "stream",
          "text": [
            "Weights: (0.4, 0.2, 0.4, 0.4, 0.2), F1 Score = 0.6563555800304018\n"
          ]
        },
        {
          "name": "stderr",
          "output_type": "stream",
          "text": [
            "Optimizing Weights: (0.4, 0.2, 0.4, 0.4, 0.6000000000000001):  27%|██▋       | 278/1024 [56:19<2:32:13, 12.24s/it]"
          ]
        },
        {
          "name": "stdout",
          "output_type": "stream",
          "text": [
            "Weights: (0.4, 0.2, 0.4, 0.4, 0.4), F1 Score = 0.6374723056547136\n"
          ]
        },
        {
          "name": "stderr",
          "output_type": "stream",
          "text": [
            "Optimizing Weights: (0.4, 0.2, 0.4, 0.4, 0.8):  27%|██▋       | 279/1024 [56:31<2:31:34, 12.21s/it]               "
          ]
        },
        {
          "name": "stdout",
          "output_type": "stream",
          "text": [
            "Weights: (0.4, 0.2, 0.4, 0.4, 0.6000000000000001), F1 Score = 0.6070327025759755\n"
          ]
        },
        {
          "name": "stderr",
          "output_type": "stream",
          "text": [
            "Optimizing Weights: (0.4, 0.2, 0.4, 0.6000000000000001, 0.2):  27%|██▋       | 280/1024 [56:44<2:31:58, 12.26s/it]"
          ]
        },
        {
          "name": "stdout",
          "output_type": "stream",
          "text": [
            "Weights: (0.4, 0.2, 0.4, 0.4, 0.8), F1 Score = 0.5648073290537478\n"
          ]
        },
        {
          "name": "stderr",
          "output_type": "stream",
          "text": [
            "Optimizing Weights: (0.4, 0.2, 0.4, 0.6000000000000001, 0.4):  27%|██▋       | 281/1024 [56:56<2:31:02, 12.20s/it]"
          ]
        },
        {
          "name": "stdout",
          "output_type": "stream",
          "text": [
            "Weights: (0.4, 0.2, 0.4, 0.6000000000000001, 0.2), F1 Score = 0.6713953005748834\n"
          ]
        },
        {
          "name": "stderr",
          "output_type": "stream",
          "text": [
            "Optimizing Weights: (0.4, 0.2, 0.4, 0.6000000000000001, 0.6000000000000001):  28%|██▊       | 282/1024 [57:07<2:28:02, 11.97s/it]"
          ]
        },
        {
          "name": "stdout",
          "output_type": "stream",
          "text": [
            "Weights: (0.4, 0.2, 0.4, 0.6000000000000001, 0.4), F1 Score = 0.6624108635216266\n"
          ]
        },
        {
          "name": "stderr",
          "output_type": "stream",
          "text": [
            "Optimizing Weights: (0.4, 0.2, 0.4, 0.6000000000000001, 0.8):  28%|██▊       | 283/1024 [57:19<2:28:05, 11.99s/it]               "
          ]
        },
        {
          "name": "stdout",
          "output_type": "stream",
          "text": [
            "Weights: (0.4, 0.2, 0.4, 0.6000000000000001, 0.6000000000000001), F1 Score = 0.6510644136016654\n"
          ]
        },
        {
          "name": "stderr",
          "output_type": "stream",
          "text": [
            "Optimizing Weights: (0.4, 0.2, 0.4, 0.8, 0.2):  28%|██▊       | 284/1024 [57:32<2:28:30, 12.04s/it]               "
          ]
        },
        {
          "name": "stdout",
          "output_type": "stream",
          "text": [
            "Weights: (0.4, 0.2, 0.4, 0.6000000000000001, 0.8), F1 Score = 0.6272312236546198\n"
          ]
        },
        {
          "name": "stderr",
          "output_type": "stream",
          "text": [
            "Optimizing Weights: (0.4, 0.2, 0.4, 0.8, 0.4):  28%|██▊       | 285/1024 [57:44<2:29:18, 12.12s/it]"
          ]
        },
        {
          "name": "stdout",
          "output_type": "stream",
          "text": [
            "Weights: (0.4, 0.2, 0.4, 0.8, 0.2), F1 Score = 0.6842389009773987\n"
          ]
        },
        {
          "name": "stderr",
          "output_type": "stream",
          "text": [
            "Optimizing Weights: (0.4, 0.2, 0.4, 0.8, 0.6000000000000001):  28%|██▊       | 286/1024 [57:56<2:29:20, 12.14s/it]"
          ]
        },
        {
          "name": "stdout",
          "output_type": "stream",
          "text": [
            "Weights: (0.4, 0.2, 0.4, 0.8, 0.4), F1 Score = 0.6755995472931724\n"
          ]
        },
        {
          "name": "stderr",
          "output_type": "stream",
          "text": [
            "Optimizing Weights: (0.4, 0.2, 0.4, 0.8, 0.8):  28%|██▊       | 287/1024 [58:08<2:29:22, 12.16s/it]               "
          ]
        },
        {
          "name": "stdout",
          "output_type": "stream",
          "text": [
            "Weights: (0.4, 0.2, 0.4, 0.8, 0.6000000000000001), F1 Score = 0.6697320624661179\n"
          ]
        },
        {
          "name": "stderr",
          "output_type": "stream",
          "text": [
            "Optimizing Weights: (0.4, 0.2, 0.6000000000000001, 0.2, 0.2):  28%|██▊       | 288/1024 [58:21<2:29:52, 12.22s/it]"
          ]
        },
        {
          "name": "stdout",
          "output_type": "stream",
          "text": [
            "Weights: (0.4, 0.2, 0.4, 0.8, 0.8), F1 Score = 0.6588323674710241\n"
          ]
        },
        {
          "name": "stderr",
          "output_type": "stream",
          "text": [
            "Optimizing Weights: (0.4, 0.2, 0.6000000000000001, 0.2, 0.4):  28%|██▊       | 289/1024 [58:32<2:27:44, 12.06s/it]"
          ]
        },
        {
          "name": "stdout",
          "output_type": "stream",
          "text": [
            "Weights: (0.4, 0.2, 0.6000000000000001, 0.2, 0.2), F1 Score = 0.6598677223888056\n"
          ]
        },
        {
          "name": "stderr",
          "output_type": "stream",
          "text": [
            "Optimizing Weights: (0.4, 0.2, 0.6000000000000001, 0.2, 0.6000000000000001):  28%|██▊       | 290/1024 [58:44<2:26:37, 11.99s/it]"
          ]
        },
        {
          "name": "stdout",
          "output_type": "stream",
          "text": [
            "Weights: (0.4, 0.2, 0.6000000000000001, 0.2, 0.4), F1 Score = 0.6336649354734408\n"
          ]
        },
        {
          "name": "stderr",
          "output_type": "stream",
          "text": [
            "Optimizing Weights: (0.4, 0.2, 0.6000000000000001, 0.2, 0.8):  28%|██▊       | 291/1024 [58:56<2:27:40, 12.09s/it]               "
          ]
        },
        {
          "name": "stdout",
          "output_type": "stream",
          "text": [
            "Weights: (0.4, 0.2, 0.6000000000000001, 0.2, 0.6000000000000001), F1 Score = 0.6025471155935268\n"
          ]
        },
        {
          "name": "stderr",
          "output_type": "stream",
          "text": [
            "Optimizing Weights: (0.4, 0.2, 0.6000000000000001, 0.4, 0.2):  29%|██▊       | 292/1024 [59:09<2:28:09, 12.14s/it]"
          ]
        },
        {
          "name": "stdout",
          "output_type": "stream",
          "text": [
            "Weights: (0.4, 0.2, 0.6000000000000001, 0.2, 0.8), F1 Score = 0.5504853126291995\n"
          ]
        },
        {
          "name": "stderr",
          "output_type": "stream",
          "text": [
            "Optimizing Weights: (0.4, 0.2, 0.6000000000000001, 0.4, 0.4):  29%|██▊       | 293/1024 [59:21<2:27:51, 12.14s/it]"
          ]
        },
        {
          "name": "stdout",
          "output_type": "stream",
          "text": [
            "Weights: (0.4, 0.2, 0.6000000000000001, 0.4, 0.2), F1 Score = 0.6671466619318182\n"
          ]
        },
        {
          "name": "stderr",
          "output_type": "stream",
          "text": [
            "Optimizing Weights: (0.4, 0.2, 0.6000000000000001, 0.4, 0.6000000000000001):  29%|██▊       | 294/1024 [59:33<2:28:37, 12.22s/it]"
          ]
        },
        {
          "name": "stdout",
          "output_type": "stream",
          "text": [
            "Weights: (0.4, 0.2, 0.6000000000000001, 0.4, 0.4), F1 Score = 0.6592140113152197\n"
          ]
        },
        {
          "name": "stderr",
          "output_type": "stream",
          "text": [
            "Optimizing Weights: (0.4, 0.2, 0.6000000000000001, 0.4, 0.8):  29%|██▉       | 295/1024 [59:46<2:28:48, 12.25s/it]               "
          ]
        },
        {
          "name": "stdout",
          "output_type": "stream",
          "text": [
            "Weights: (0.4, 0.2, 0.6000000000000001, 0.4, 0.6000000000000001), F1 Score = 0.6397629206537795\n"
          ]
        },
        {
          "name": "stderr",
          "output_type": "stream",
          "text": [
            "Optimizing Weights: (0.4, 0.2, 0.6000000000000001, 0.6000000000000001, 0.2):  29%|██▉       | 296/1024 [59:58<2:27:32, 12.16s/it]"
          ]
        },
        {
          "name": "stdout",
          "output_type": "stream",
          "text": [
            "Weights: (0.4, 0.2, 0.6000000000000001, 0.4, 0.8), F1 Score = 0.6130174090904279\n"
          ]
        },
        {
          "name": "stderr",
          "output_type": "stream",
          "text": [
            "Optimizing Weights: (0.4, 0.2, 0.6000000000000001, 0.6000000000000001, 0.4):  29%|██▉       | 297/1024 [1:00:09<2:24:43, 11.94s/it]"
          ]
        },
        {
          "name": "stdout",
          "output_type": "stream",
          "text": [
            "Weights: (0.4, 0.2, 0.6000000000000001, 0.6000000000000001, 0.2), F1 Score = 0.6701688728506336\n"
          ]
        },
        {
          "name": "stderr",
          "output_type": "stream",
          "text": [
            "Optimizing Weights: (0.4, 0.2, 0.6000000000000001, 0.6000000000000001, 0.6000000000000001):  29%|██▉       | 298/1024 [1:00:21<2:25:15, 12.00s/it]"
          ]
        },
        {
          "name": "stdout",
          "output_type": "stream",
          "text": [
            "Weights: (0.4, 0.2, 0.6000000000000001, 0.6000000000000001, 0.4), F1 Score = 0.6684504730387385\n"
          ]
        },
        {
          "name": "stderr",
          "output_type": "stream",
          "text": [
            "Optimizing Weights: (0.4, 0.2, 0.6000000000000001, 0.6000000000000001, 0.8):  29%|██▉       | 299/1024 [1:00:33<2:25:24, 12.03s/it]               "
          ]
        },
        {
          "name": "stdout",
          "output_type": "stream",
          "text": [
            "Weights: (0.4, 0.2, 0.6000000000000001, 0.6000000000000001, 0.6000000000000001), F1 Score = 0.6636715706602578\n"
          ]
        },
        {
          "name": "stderr",
          "output_type": "stream",
          "text": [
            "Optimizing Weights: (0.4, 0.2, 0.6000000000000001, 0.8, 0.2):  29%|██▉       | 300/1024 [1:00:45<2:25:50, 12.09s/it]               "
          ]
        },
        {
          "name": "stdout",
          "output_type": "stream",
          "text": [
            "Weights: (0.4, 0.2, 0.6000000000000001, 0.6000000000000001, 0.8), F1 Score = 0.6561292917037338\n"
          ]
        },
        {
          "name": "stderr",
          "output_type": "stream",
          "text": [
            "Optimizing Weights: (0.4, 0.2, 0.6000000000000001, 0.8, 0.4):  29%|██▉       | 301/1024 [1:00:58<2:26:15, 12.14s/it]"
          ]
        },
        {
          "name": "stdout",
          "output_type": "stream",
          "text": [
            "Weights: (0.4, 0.2, 0.6000000000000001, 0.8, 0.2), F1 Score = 0.673739260062339\n"
          ]
        },
        {
          "name": "stderr",
          "output_type": "stream",
          "text": [
            "Optimizing Weights: (0.4, 0.2, 0.6000000000000001, 0.8, 0.6000000000000001):  29%|██▉       | 302/1024 [1:01:10<2:25:59, 12.13s/it]"
          ]
        },
        {
          "name": "stdout",
          "output_type": "stream",
          "text": [
            "Weights: (0.4, 0.2, 0.6000000000000001, 0.8, 0.4), F1 Score = 0.6708973349689933\n"
          ]
        },
        {
          "name": "stderr",
          "output_type": "stream",
          "text": [
            "Optimizing Weights: (0.4, 0.2, 0.6000000000000001, 0.8, 0.8):  30%|██▉       | 303/1024 [1:01:22<2:25:18, 12.09s/it]               "
          ]
        },
        {
          "name": "stdout",
          "output_type": "stream",
          "text": [
            "Weights: (0.4, 0.2, 0.6000000000000001, 0.8, 0.6000000000000001), F1 Score = 0.6694354071625856\n"
          ]
        },
        {
          "name": "stderr",
          "output_type": "stream",
          "text": [
            "Optimizing Weights: (0.4, 0.2, 0.8, 0.2, 0.2):  30%|██▉       | 304/1024 [1:01:33<2:22:52, 11.91s/it]               "
          ]
        },
        {
          "name": "stdout",
          "output_type": "stream",
          "text": [
            "Weights: (0.4, 0.2, 0.6000000000000001, 0.8, 0.8), F1 Score = 0.6672086274138286\n"
          ]
        },
        {
          "name": "stderr",
          "output_type": "stream",
          "text": [
            "Optimizing Weights: (0.4, 0.2, 0.8, 0.2, 0.4):  30%|██▉       | 305/1024 [1:01:45<2:22:46, 11.91s/it]"
          ]
        },
        {
          "name": "stdout",
          "output_type": "stream",
          "text": [
            "Weights: (0.4, 0.2, 0.8, 0.2, 0.2), F1 Score = 0.6781218679360219\n"
          ]
        },
        {
          "name": "stderr",
          "output_type": "stream",
          "text": [
            "Optimizing Weights: (0.4, 0.2, 0.8, 0.2, 0.6000000000000001):  30%|██▉       | 306/1024 [1:01:57<2:23:05, 11.96s/it]"
          ]
        },
        {
          "name": "stdout",
          "output_type": "stream",
          "text": [
            "Weights: (0.4, 0.2, 0.8, 0.2, 0.4), F1 Score = 0.6629809456885957\n"
          ]
        },
        {
          "name": "stderr",
          "output_type": "stream",
          "text": [
            "Optimizing Weights: (0.4, 0.2, 0.8, 0.2, 0.8):  30%|██▉       | 307/1024 [1:02:09<2:23:33, 12.01s/it]               "
          ]
        },
        {
          "name": "stdout",
          "output_type": "stream",
          "text": [
            "Weights: (0.4, 0.2, 0.8, 0.2, 0.6000000000000001), F1 Score = 0.640713720838839\n"
          ]
        },
        {
          "name": "stderr",
          "output_type": "stream",
          "text": [
            "Optimizing Weights: (0.4, 0.2, 0.8, 0.4, 0.2):  30%|███       | 308/1024 [1:02:22<2:24:01, 12.07s/it]"
          ]
        },
        {
          "name": "stdout",
          "output_type": "stream",
          "text": [
            "Weights: (0.4, 0.2, 0.8, 0.2, 0.8), F1 Score = 0.6109161621537367\n"
          ]
        },
        {
          "name": "stderr",
          "output_type": "stream",
          "text": [
            "Optimizing Weights: (0.4, 0.2, 0.8, 0.4, 0.4):  30%|███       | 309/1024 [1:02:34<2:24:45, 12.15s/it]"
          ]
        },
        {
          "name": "stdout",
          "output_type": "stream",
          "text": [
            "Weights: (0.4, 0.2, 0.8, 0.4, 0.2), F1 Score = 0.6752879993757801\n"
          ]
        },
        {
          "name": "stderr",
          "output_type": "stream",
          "text": [
            "Optimizing Weights: (0.4, 0.2, 0.8, 0.4, 0.6000000000000001):  30%|███       | 310/1024 [1:02:46<2:24:35, 12.15s/it]"
          ]
        },
        {
          "name": "stdout",
          "output_type": "stream",
          "text": [
            "Weights: (0.4, 0.2, 0.8, 0.4, 0.4), F1 Score = 0.6698460887944888\n"
          ]
        },
        {
          "name": "stderr",
          "output_type": "stream",
          "text": [
            "Optimizing Weights: (0.4, 0.2, 0.8, 0.4, 0.8):  30%|███       | 311/1024 [1:02:58<2:22:43, 12.01s/it]               "
          ]
        },
        {
          "name": "stdout",
          "output_type": "stream",
          "text": [
            "Weights: (0.4, 0.2, 0.8, 0.4, 0.6000000000000001), F1 Score = 0.6578075649703794\n"
          ]
        },
        {
          "name": "stderr",
          "output_type": "stream",
          "text": [
            "Optimizing Weights: (0.4, 0.2, 0.8, 0.6000000000000001, 0.2):  30%|███       | 312/1024 [1:03:10<2:22:49, 12.04s/it]"
          ]
        },
        {
          "name": "stdout",
          "output_type": "stream",
          "text": [
            "Weights: (0.4, 0.2, 0.8, 0.4, 0.8), F1 Score = 0.6455344223750941\n"
          ]
        },
        {
          "name": "stderr",
          "output_type": "stream",
          "text": [
            "Optimizing Weights: (0.4, 0.2, 0.8, 0.6000000000000001, 0.4):  31%|███       | 313/1024 [1:03:22<2:22:22, 12.02s/it]"
          ]
        },
        {
          "name": "stdout",
          "output_type": "stream",
          "text": [
            "Weights: (0.4, 0.2, 0.8, 0.6000000000000001, 0.2), F1 Score = 0.6742169232292607\n"
          ]
        },
        {
          "name": "stderr",
          "output_type": "stream",
          "text": [
            "Optimizing Weights: (0.4, 0.2, 0.8, 0.6000000000000001, 0.6000000000000001):  31%|███       | 314/1024 [1:03:34<2:22:17, 12.02s/it]"
          ]
        },
        {
          "name": "stdout",
          "output_type": "stream",
          "text": [
            "Weights: (0.4, 0.2, 0.8, 0.6000000000000001, 0.4), F1 Score = 0.6685041766073254\n"
          ]
        },
        {
          "name": "stderr",
          "output_type": "stream",
          "text": [
            "Optimizing Weights: (0.4, 0.2, 0.8, 0.6000000000000001, 0.8):  31%|███       | 315/1024 [1:03:46<2:22:23, 12.05s/it]               "
          ]
        },
        {
          "name": "stdout",
          "output_type": "stream",
          "text": [
            "Weights: (0.4, 0.2, 0.8, 0.6000000000000001, 0.6000000000000001), F1 Score = 0.6684800950803336\n"
          ]
        },
        {
          "name": "stderr",
          "output_type": "stream",
          "text": [
            "Optimizing Weights: (0.4, 0.2, 0.8, 0.8, 0.2):  31%|███       | 316/1024 [1:03:58<2:23:36, 12.17s/it]               "
          ]
        },
        {
          "name": "stdout",
          "output_type": "stream",
          "text": [
            "Weights: (0.4, 0.2, 0.8, 0.6000000000000001, 0.8), F1 Score = 0.6679367881247285\n"
          ]
        },
        {
          "name": "stderr",
          "output_type": "stream",
          "text": [
            "Optimizing Weights: (0.4, 0.2, 0.8, 0.8, 0.4):  31%|███       | 317/1024 [1:04:11<2:23:44, 12.20s/it]"
          ]
        },
        {
          "name": "stdout",
          "output_type": "stream",
          "text": [
            "Weights: (0.4, 0.2, 0.8, 0.8, 0.2), F1 Score = 0.6732736680476082\n"
          ]
        },
        {
          "name": "stderr",
          "output_type": "stream",
          "text": [
            "Optimizing Weights: (0.4, 0.2, 0.8, 0.8, 0.6000000000000001):  31%|███       | 318/1024 [1:04:23<2:23:18, 12.18s/it]"
          ]
        },
        {
          "name": "stdout",
          "output_type": "stream",
          "text": [
            "Weights: (0.4, 0.2, 0.8, 0.8, 0.4), F1 Score = 0.6739955434157562\n"
          ]
        },
        {
          "name": "stderr",
          "output_type": "stream",
          "text": [
            "Optimizing Weights: (0.4, 0.2, 0.8, 0.8, 0.8):  31%|███       | 319/1024 [1:04:35<2:21:30, 12.04s/it]               "
          ]
        },
        {
          "name": "stdout",
          "output_type": "stream",
          "text": [
            "Weights: (0.4, 0.2, 0.8, 0.8, 0.6000000000000001), F1 Score = 0.6706675513677663\n"
          ]
        },
        {
          "name": "stderr",
          "output_type": "stream",
          "text": [
            "Optimizing Weights: (0.4, 0.4, 0.2, 0.2, 0.2):  31%|███▏      | 320/1024 [1:04:46<2:19:38, 11.90s/it]"
          ]
        },
        {
          "name": "stdout",
          "output_type": "stream",
          "text": [
            "Weights: (0.4, 0.2, 0.8, 0.8, 0.8), F1 Score = 0.6694354071625856\n"
          ]
        },
        {
          "name": "stderr",
          "output_type": "stream",
          "text": [
            "Optimizing Weights: (0.4, 0.4, 0.2, 0.2, 0.4):  31%|███▏      | 321/1024 [1:04:58<2:20:14, 11.97s/it]"
          ]
        },
        {
          "name": "stdout",
          "output_type": "stream",
          "text": [
            "Weights: (0.4, 0.4, 0.2, 0.2, 0.2), F1 Score = 0.512063421265027\n"
          ]
        },
        {
          "name": "stderr",
          "output_type": "stream",
          "text": [
            "Optimizing Weights: (0.4, 0.4, 0.2, 0.2, 0.6000000000000001):  31%|███▏      | 322/1024 [1:05:10<2:20:56, 12.05s/it]"
          ]
        },
        {
          "name": "stdout",
          "output_type": "stream",
          "text": [
            "Weights: (0.4, 0.4, 0.2, 0.2, 0.4), F1 Score = 0.4634017898261205\n"
          ]
        },
        {
          "name": "stderr",
          "output_type": "stream",
          "text": [
            "Optimizing Weights: (0.4, 0.4, 0.2, 0.2, 0.8):  32%|███▏      | 323/1024 [1:05:23<2:21:07, 12.08s/it]               "
          ]
        },
        {
          "name": "stdout",
          "output_type": "stream",
          "text": [
            "Weights: (0.4, 0.4, 0.2, 0.2, 0.6000000000000001), F1 Score = 0.4150139329805997\n"
          ]
        },
        {
          "name": "stderr",
          "output_type": "stream",
          "text": [
            "Optimizing Weights: (0.4, 0.4, 0.2, 0.4, 0.2):  32%|███▏      | 324/1024 [1:05:35<2:21:29, 12.13s/it]"
          ]
        },
        {
          "name": "stdout",
          "output_type": "stream",
          "text": [
            "Weights: (0.4, 0.4, 0.2, 0.2, 0.8), F1 Score = 0.3468073393438286\n"
          ]
        },
        {
          "name": "stderr",
          "output_type": "stream",
          "text": [
            "Optimizing Weights: (0.4, 0.4, 0.2, 0.4, 0.4):  32%|███▏      | 325/1024 [1:05:47<2:21:13, 12.12s/it]"
          ]
        },
        {
          "name": "stdout",
          "output_type": "stream",
          "text": [
            "Weights: (0.4, 0.4, 0.2, 0.4, 0.2), F1 Score = 0.602824908453966\n"
          ]
        },
        {
          "name": "stderr",
          "output_type": "stream",
          "text": [
            "Optimizing Weights: (0.4, 0.4, 0.2, 0.4, 0.6000000000000001):  32%|███▏      | 326/1024 [1:05:59<2:19:58, 12.03s/it]"
          ]
        },
        {
          "name": "stdout",
          "output_type": "stream",
          "text": [
            "Weights: (0.4, 0.4, 0.2, 0.4, 0.4), F1 Score = 0.5326590078497732\n"
          ]
        },
        {
          "name": "stderr",
          "output_type": "stream",
          "text": [
            "Optimizing Weights: (0.4, 0.4, 0.2, 0.4, 0.8):  32%|███▏      | 327/1024 [1:06:10<2:17:34, 11.84s/it]               "
          ]
        },
        {
          "name": "stdout",
          "output_type": "stream",
          "text": [
            "Weights: (0.4, 0.4, 0.2, 0.4, 0.6000000000000001), F1 Score = 0.49662431580378624\n"
          ]
        },
        {
          "name": "stderr",
          "output_type": "stream",
          "text": [
            "Optimizing Weights: (0.4, 0.4, 0.2, 0.6000000000000001, 0.2):  32%|███▏      | 328/1024 [1:06:23<2:18:59, 11.98s/it]"
          ]
        },
        {
          "name": "stdout",
          "output_type": "stream",
          "text": [
            "Weights: (0.4, 0.4, 0.2, 0.4, 0.8), F1 Score = 0.44622595758354755\n"
          ]
        },
        {
          "name": "stderr",
          "output_type": "stream",
          "text": [
            "Optimizing Weights: (0.4, 0.4, 0.2, 0.6000000000000001, 0.4):  32%|███▏      | 329/1024 [1:06:35<2:19:42, 12.06s/it]"
          ]
        },
        {
          "name": "stdout",
          "output_type": "stream",
          "text": [
            "Weights: (0.4, 0.4, 0.2, 0.6000000000000001, 0.2), F1 Score = 0.6596278513547281\n"
          ]
        },
        {
          "name": "stderr",
          "output_type": "stream",
          "text": [
            "Optimizing Weights: (0.4, 0.4, 0.2, 0.6000000000000001, 0.6000000000000001):  32%|███▏      | 330/1024 [1:06:47<2:19:36, 12.07s/it]"
          ]
        },
        {
          "name": "stdout",
          "output_type": "stream",
          "text": [
            "Weights: (0.4, 0.4, 0.2, 0.6000000000000001, 0.4), F1 Score = 0.6377476032115372\n"
          ]
        },
        {
          "name": "stderr",
          "output_type": "stream",
          "text": [
            "Optimizing Weights: (0.4, 0.4, 0.2, 0.6000000000000001, 0.8):  32%|███▏      | 331/1024 [1:06:59<2:20:01, 12.12s/it]               "
          ]
        },
        {
          "name": "stdout",
          "output_type": "stream",
          "text": [
            "Weights: (0.4, 0.4, 0.2, 0.6000000000000001, 0.6000000000000001), F1 Score = 0.5887265165503355\n"
          ]
        },
        {
          "name": "stderr",
          "output_type": "stream",
          "text": [
            "Optimizing Weights: (0.4, 0.4, 0.2, 0.8, 0.2):  32%|███▏      | 332/1024 [1:07:11<2:20:04, 12.15s/it]               "
          ]
        },
        {
          "name": "stdout",
          "output_type": "stream",
          "text": [
            "Weights: (0.4, 0.4, 0.2, 0.6000000000000001, 0.8), F1 Score = 0.527765460539589\n"
          ]
        },
        {
          "name": "stderr",
          "output_type": "stream",
          "text": [
            "Optimizing Weights: (0.4, 0.4, 0.2, 0.8, 0.4):  33%|███▎      | 333/1024 [1:07:23<2:18:18, 12.01s/it]"
          ]
        },
        {
          "name": "stdout",
          "output_type": "stream",
          "text": [
            "Weights: (0.4, 0.4, 0.2, 0.8, 0.2), F1 Score = 0.677558770563121\n"
          ]
        },
        {
          "name": "stderr",
          "output_type": "stream",
          "text": [
            "Optimizing Weights: (0.4, 0.4, 0.2, 0.8, 0.6000000000000001):  33%|███▎      | 334/1024 [1:07:35<2:16:44, 11.89s/it]"
          ]
        },
        {
          "name": "stdout",
          "output_type": "stream",
          "text": [
            "Weights: (0.4, 0.4, 0.2, 0.8, 0.4), F1 Score = 0.6656885352942488\n"
          ]
        },
        {
          "name": "stderr",
          "output_type": "stream",
          "text": [
            "Optimizing Weights: (0.4, 0.4, 0.2, 0.8, 0.8):  33%|███▎      | 335/1024 [1:07:47<2:17:03, 11.94s/it]               "
          ]
        },
        {
          "name": "stdout",
          "output_type": "stream",
          "text": [
            "Weights: (0.4, 0.4, 0.2, 0.8, 0.6000000000000001), F1 Score = 0.6550240001303073\n"
          ]
        },
        {
          "name": "stderr",
          "output_type": "stream",
          "text": [
            "Optimizing Weights: (0.4, 0.4, 0.4, 0.2, 0.2):  33%|███▎      | 336/1024 [1:07:59<2:18:00, 12.04s/it]"
          ]
        },
        {
          "name": "stdout",
          "output_type": "stream",
          "text": [
            "Weights: (0.4, 0.4, 0.2, 0.8, 0.8), F1 Score = 0.6234994021461856\n"
          ]
        },
        {
          "name": "stderr",
          "output_type": "stream",
          "text": [
            "Optimizing Weights: (0.4, 0.4, 0.4, 0.2, 0.4):  33%|███▎      | 337/1024 [1:08:11<2:17:34, 12.01s/it]"
          ]
        },
        {
          "name": "stdout",
          "output_type": "stream",
          "text": [
            "Weights: (0.4, 0.4, 0.4, 0.2, 0.2), F1 Score = 0.5790519345905103\n"
          ]
        },
        {
          "name": "stderr",
          "output_type": "stream",
          "text": [
            "Optimizing Weights: (0.4, 0.4, 0.4, 0.2, 0.6000000000000001):  33%|███▎      | 338/1024 [1:08:23<2:18:10, 12.09s/it]"
          ]
        },
        {
          "name": "stdout",
          "output_type": "stream",
          "text": [
            "Weights: (0.4, 0.4, 0.4, 0.2, 0.4), F1 Score = 0.5205907222843547\n"
          ]
        },
        {
          "name": "stderr",
          "output_type": "stream",
          "text": [
            "Optimizing Weights: (0.4, 0.4, 0.4, 0.2, 0.8):  33%|███▎      | 339/1024 [1:08:35<2:18:38, 12.14s/it]               "
          ]
        },
        {
          "name": "stdout",
          "output_type": "stream",
          "text": [
            "Weights: (0.4, 0.4, 0.4, 0.2, 0.6000000000000001), F1 Score = 0.4812090138190955\n"
          ]
        },
        {
          "name": "stderr",
          "output_type": "stream",
          "text": [
            "Optimizing Weights: (0.4, 0.4, 0.4, 0.4, 0.2):  33%|███▎      | 340/1024 [1:08:47<2:16:28, 11.97s/it]"
          ]
        },
        {
          "name": "stdout",
          "output_type": "stream",
          "text": [
            "Weights: (0.4, 0.4, 0.4, 0.2, 0.8), F1 Score = 0.4414210596894067\n"
          ]
        },
        {
          "name": "stderr",
          "output_type": "stream",
          "text": [
            "Optimizing Weights: (0.4, 0.4, 0.4, 0.4, 0.4):  33%|███▎      | 341/1024 [1:08:59<2:15:12, 11.88s/it]"
          ]
        },
        {
          "name": "stdout",
          "output_type": "stream",
          "text": [
            "Weights: (0.4, 0.4, 0.4, 0.4, 0.2), F1 Score = 0.6385059266815695\n"
          ]
        },
        {
          "name": "stderr",
          "output_type": "stream",
          "text": [
            "Optimizing Weights: (0.4, 0.4, 0.4, 0.4, 0.6000000000000001):  33%|███▎      | 342/1024 [1:09:11<2:16:21, 12.00s/it]"
          ]
        },
        {
          "name": "stdout",
          "output_type": "stream",
          "text": [
            "Weights: (0.4, 0.4, 0.4, 0.4, 0.4), F1 Score = 0.6080108988419091\n"
          ]
        },
        {
          "name": "stderr",
          "output_type": "stream",
          "text": [
            "Optimizing Weights: (0.4, 0.4, 0.4, 0.4, 0.8):  33%|███▎      | 343/1024 [1:09:23<2:17:22, 12.10s/it]               "
          ]
        },
        {
          "name": "stdout",
          "output_type": "stream",
          "text": [
            "Weights: (0.4, 0.4, 0.4, 0.4, 0.6000000000000001), F1 Score = 0.5635246719699416\n"
          ]
        },
        {
          "name": "stderr",
          "output_type": "stream",
          "text": [
            "Optimizing Weights: (0.4, 0.4, 0.4, 0.6000000000000001, 0.2):  34%|███▎      | 344/1024 [1:09:36<2:17:46, 12.16s/it]"
          ]
        },
        {
          "name": "stdout",
          "output_type": "stream",
          "text": [
            "Weights: (0.4, 0.4, 0.4, 0.4, 0.8), F1 Score = 0.5120630100119749\n"
          ]
        },
        {
          "name": "stderr",
          "output_type": "stream",
          "text": [
            "Optimizing Weights: (0.4, 0.4, 0.4, 0.6000000000000001, 0.4):  34%|███▎      | 345/1024 [1:09:48<2:18:02, 12.20s/it]"
          ]
        },
        {
          "name": "stdout",
          "output_type": "stream",
          "text": [
            "Weights: (0.4, 0.4, 0.4, 0.6000000000000001, 0.2), F1 Score = 0.6615365779313148\n"
          ]
        },
        {
          "name": "stderr",
          "output_type": "stream",
          "text": [
            "Optimizing Weights: (0.4, 0.4, 0.4, 0.6000000000000001, 0.6000000000000001):  34%|███▍      | 346/1024 [1:10:00<2:18:07, 12.22s/it]"
          ]
        },
        {
          "name": "stdout",
          "output_type": "stream",
          "text": [
            "Weights: (0.4, 0.4, 0.4, 0.6000000000000001, 0.4), F1 Score = 0.6529459599292163\n"
          ]
        },
        {
          "name": "stderr",
          "output_type": "stream",
          "text": [
            "Optimizing Weights: (0.4, 0.4, 0.4, 0.6000000000000001, 0.8):  34%|███▍      | 347/1024 [1:10:11<2:14:53, 11.96s/it]               "
          ]
        },
        {
          "name": "stdout",
          "output_type": "stream",
          "text": [
            "Weights: (0.4, 0.4, 0.4, 0.6000000000000001, 0.6000000000000001), F1 Score = 0.629956825056396\n"
          ]
        },
        {
          "name": "stderr",
          "output_type": "stream",
          "text": [
            "Optimizing Weights: (0.4, 0.4, 0.4, 0.8, 0.2):  34%|███▍      | 348/1024 [1:10:23<2:13:59, 11.89s/it]               "
          ]
        },
        {
          "name": "stdout",
          "output_type": "stream",
          "text": [
            "Weights: (0.4, 0.4, 0.4, 0.6000000000000001, 0.8), F1 Score = 0.5986643484148152\n"
          ]
        },
        {
          "name": "stderr",
          "output_type": "stream",
          "text": [
            "Optimizing Weights: (0.4, 0.4, 0.4, 0.8, 0.4):  34%|███▍      | 349/1024 [1:10:35<2:15:05, 12.01s/it]"
          ]
        },
        {
          "name": "stdout",
          "output_type": "stream",
          "text": [
            "Weights: (0.4, 0.4, 0.4, 0.8, 0.2), F1 Score = 0.678138717967003\n"
          ]
        },
        {
          "name": "stderr",
          "output_type": "stream",
          "text": [
            "Optimizing Weights: (0.4, 0.4, 0.4, 0.8, 0.6000000000000001):  34%|███▍      | 350/1024 [1:10:48<2:15:40, 12.08s/it]"
          ]
        },
        {
          "name": "stdout",
          "output_type": "stream",
          "text": [
            "Weights: (0.4, 0.4, 0.4, 0.8, 0.4), F1 Score = 0.670495852364954\n"
          ]
        },
        {
          "name": "stderr",
          "output_type": "stream",
          "text": [
            "Optimizing Weights: (0.4, 0.4, 0.4, 0.8, 0.8):  34%|███▍      | 351/1024 [1:11:00<2:16:15, 12.15s/it]               "
          ]
        },
        {
          "name": "stdout",
          "output_type": "stream",
          "text": [
            "Weights: (0.4, 0.4, 0.4, 0.8, 0.6000000000000001), F1 Score = 0.6573653541131342\n"
          ]
        },
        {
          "name": "stderr",
          "output_type": "stream",
          "text": [
            "Optimizing Weights: (0.4, 0.4, 0.6000000000000001, 0.2, 0.2):  34%|███▍      | 352/1024 [1:11:12<2:16:11, 12.16s/it]"
          ]
        },
        {
          "name": "stdout",
          "output_type": "stream",
          "text": [
            "Weights: (0.4, 0.4, 0.4, 0.8, 0.8), F1 Score = 0.648804491533716\n"
          ]
        },
        {
          "name": "stderr",
          "output_type": "stream",
          "text": [
            "Optimizing Weights: (0.4, 0.4, 0.6000000000000001, 0.2, 0.4):  34%|███▍      | 353/1024 [1:11:24<2:16:08, 12.17s/it]"
          ]
        },
        {
          "name": "stdout",
          "output_type": "stream",
          "text": [
            "Weights: (0.4, 0.4, 0.6000000000000001, 0.2, 0.2), F1 Score = 0.6346789480710185\n"
          ]
        },
        {
          "name": "stderr",
          "output_type": "stream",
          "text": [
            "Optimizing Weights: (0.4, 0.4, 0.6000000000000001, 0.2, 0.6000000000000001):  35%|███▍      | 354/1024 [1:11:36<2:13:25, 11.95s/it]"
          ]
        },
        {
          "name": "stdout",
          "output_type": "stream",
          "text": [
            "Weights: (0.4, 0.4, 0.6000000000000001, 0.2, 0.4), F1 Score = 0.6044811057325485\n"
          ]
        },
        {
          "name": "stderr",
          "output_type": "stream",
          "text": [
            "Optimizing Weights: (0.4, 0.4, 0.6000000000000001, 0.2, 0.8):  35%|███▍      | 355/1024 [1:11:48<2:13:08, 11.94s/it]               "
          ]
        },
        {
          "name": "stdout",
          "output_type": "stream",
          "text": [
            "Weights: (0.4, 0.4, 0.6000000000000001, 0.2, 0.6000000000000001), F1 Score = 0.553595983371614\n"
          ]
        },
        {
          "name": "stderr",
          "output_type": "stream",
          "text": [
            "Optimizing Weights: (0.4, 0.4, 0.6000000000000001, 0.4, 0.2):  35%|███▍      | 356/1024 [1:12:00<2:13:57, 12.03s/it]"
          ]
        },
        {
          "name": "stdout",
          "output_type": "stream",
          "text": [
            "Weights: (0.4, 0.4, 0.6000000000000001, 0.2, 0.8), F1 Score = 0.5039622433348997\n"
          ]
        },
        {
          "name": "stderr",
          "output_type": "stream",
          "text": [
            "Optimizing Weights: (0.4, 0.4, 0.6000000000000001, 0.4, 0.4):  35%|███▍      | 357/1024 [1:12:12<2:13:49, 12.04s/it]"
          ]
        },
        {
          "name": "stdout",
          "output_type": "stream",
          "text": [
            "Weights: (0.4, 0.4, 0.6000000000000001, 0.4, 0.2), F1 Score = 0.6550699052632263\n"
          ]
        },
        {
          "name": "stderr",
          "output_type": "stream",
          "text": [
            "Optimizing Weights: (0.4, 0.4, 0.6000000000000001, 0.4, 0.6000000000000001):  35%|███▍      | 358/1024 [1:12:24<2:14:09, 12.09s/it]"
          ]
        },
        {
          "name": "stdout",
          "output_type": "stream",
          "text": [
            "Weights: (0.4, 0.4, 0.6000000000000001, 0.4, 0.4), F1 Score = 0.6406373139031522\n"
          ]
        },
        {
          "name": "stderr",
          "output_type": "stream",
          "text": [
            "Optimizing Weights: (0.4, 0.4, 0.6000000000000001, 0.4, 0.8):  35%|███▌      | 359/1024 [1:12:37<2:14:33, 12.14s/it]               "
          ]
        },
        {
          "name": "stdout",
          "output_type": "stream",
          "text": [
            "Weights: (0.4, 0.4, 0.6000000000000001, 0.4, 0.6000000000000001), F1 Score = 0.6150505153999006\n"
          ]
        },
        {
          "name": "stderr",
          "output_type": "stream",
          "text": [
            "Optimizing Weights: (0.4, 0.4, 0.6000000000000001, 0.6000000000000001, 0.2):  35%|███▌      | 360/1024 [1:12:49<2:13:55, 12.10s/it]"
          ]
        },
        {
          "name": "stdout",
          "output_type": "stream",
          "text": [
            "Weights: (0.4, 0.4, 0.6000000000000001, 0.4, 0.8), F1 Score = 0.589595782920979\n"
          ]
        },
        {
          "name": "stderr",
          "output_type": "stream",
          "text": [
            "Optimizing Weights: (0.4, 0.4, 0.6000000000000001, 0.6000000000000001, 0.4):  35%|███▌      | 361/1024 [1:13:00<2:11:29, 11.90s/it]"
          ]
        },
        {
          "name": "stdout",
          "output_type": "stream",
          "text": [
            "Weights: (0.4, 0.4, 0.6000000000000001, 0.6000000000000001, 0.2), F1 Score = 0.6669474665310965\n"
          ]
        },
        {
          "name": "stderr",
          "output_type": "stream",
          "text": [
            "Optimizing Weights: (0.4, 0.4, 0.6000000000000001, 0.6000000000000001, 0.6000000000000001):  35%|███▌      | 362/1024 [1:13:12<2:10:55, 11.87s/it]"
          ]
        },
        {
          "name": "stdout",
          "output_type": "stream",
          "text": [
            "Weights: (0.4, 0.4, 0.6000000000000001, 0.6000000000000001, 0.4), F1 Score = 0.6581548419157371\n"
          ]
        },
        {
          "name": "stderr",
          "output_type": "stream",
          "text": [
            "Optimizing Weights: (0.4, 0.4, 0.6000000000000001, 0.6000000000000001, 0.8):  35%|███▌      | 363/1024 [1:13:24<2:13:08, 12.09s/it]               "
          ]
        },
        {
          "name": "stdout",
          "output_type": "stream",
          "text": [
            "Weights: (0.4, 0.4, 0.6000000000000001, 0.6000000000000001, 0.6000000000000001), F1 Score = 0.6503945031687772\n"
          ]
        },
        {
          "name": "stderr",
          "output_type": "stream",
          "text": [
            "Optimizing Weights: (0.4, 0.4, 0.6000000000000001, 0.8, 0.2):  36%|███▌      | 364/1024 [1:13:37<2:13:19, 12.12s/it]               "
          ]
        },
        {
          "name": "stdout",
          "output_type": "stream",
          "text": [
            "Weights: (0.4, 0.4, 0.6000000000000001, 0.6000000000000001, 0.8), F1 Score = 0.6365878548303685\n"
          ]
        },
        {
          "name": "stderr",
          "output_type": "stream",
          "text": [
            "Optimizing Weights: (0.4, 0.4, 0.6000000000000001, 0.8, 0.4):  36%|███▌      | 365/1024 [1:13:49<2:12:50, 12.09s/it]"
          ]
        },
        {
          "name": "stdout",
          "output_type": "stream",
          "text": [
            "Weights: (0.4, 0.4, 0.6000000000000001, 0.8, 0.2), F1 Score = 0.6720042341364677\n"
          ]
        },
        {
          "name": "stderr",
          "output_type": "stream",
          "text": [
            "Optimizing Weights: (0.4, 0.4, 0.6000000000000001, 0.8, 0.6000000000000001):  36%|███▌      | 366/1024 [1:14:01<2:12:38, 12.09s/it]"
          ]
        },
        {
          "name": "stdout",
          "output_type": "stream",
          "text": [
            "Weights: (0.4, 0.4, 0.6000000000000001, 0.8, 0.4), F1 Score = 0.6686099865047234\n"
          ]
        },
        {
          "name": "stderr",
          "output_type": "stream",
          "text": [
            "Optimizing Weights: (0.4, 0.4, 0.6000000000000001, 0.8, 0.8):  36%|███▌      | 367/1024 [1:14:13<2:12:52, 12.13s/it]               "
          ]
        },
        {
          "name": "stdout",
          "output_type": "stream",
          "text": [
            "Weights: (0.4, 0.4, 0.6000000000000001, 0.8, 0.6000000000000001), F1 Score = 0.665937610684222\n"
          ]
        },
        {
          "name": "stderr",
          "output_type": "stream",
          "text": [
            "Optimizing Weights: (0.4, 0.4, 0.8, 0.2, 0.2):  36%|███▌      | 368/1024 [1:14:25<2:11:57, 12.07s/it]               "
          ]
        },
        {
          "name": "stdout",
          "output_type": "stream",
          "text": [
            "Weights: (0.4, 0.4, 0.6000000000000001, 0.8, 0.8), F1 Score = 0.6580550164838701\n"
          ]
        },
        {
          "name": "stderr",
          "output_type": "stream",
          "text": [
            "Optimizing Weights: (0.4, 0.4, 0.8, 0.2, 0.4):  36%|███▌      | 369/1024 [1:14:36<2:09:49, 11.89s/it]"
          ]
        },
        {
          "name": "stdout",
          "output_type": "stream",
          "text": [
            "Weights: (0.4, 0.4, 0.8, 0.2, 0.2), F1 Score = 0.6615521788220543\n"
          ]
        },
        {
          "name": "stderr",
          "output_type": "stream",
          "text": [
            "Optimizing Weights: (0.4, 0.4, 0.8, 0.2, 0.6000000000000001):  36%|███▌      | 370/1024 [1:14:48<2:10:10, 11.94s/it]"
          ]
        },
        {
          "name": "stdout",
          "output_type": "stream",
          "text": [
            "Weights: (0.4, 0.4, 0.8, 0.2, 0.4), F1 Score = 0.6404755600203488\n"
          ]
        },
        {
          "name": "stderr",
          "output_type": "stream",
          "text": [
            "Optimizing Weights: (0.4, 0.4, 0.8, 0.2, 0.8):  36%|███▌      | 371/1024 [1:15:01<2:11:20, 12.07s/it]               "
          ]
        },
        {
          "name": "stdout",
          "output_type": "stream",
          "text": [
            "Weights: (0.4, 0.4, 0.8, 0.2, 0.6000000000000001), F1 Score = 0.6175367440091992\n"
          ]
        },
        {
          "name": "stderr",
          "output_type": "stream",
          "text": [
            "Optimizing Weights: (0.4, 0.4, 0.8, 0.4, 0.2):  36%|███▋      | 372/1024 [1:15:13<2:11:07, 12.07s/it]"
          ]
        },
        {
          "name": "stdout",
          "output_type": "stream",
          "text": [
            "Weights: (0.4, 0.4, 0.8, 0.2, 0.8), F1 Score = 0.5850152138157895\n"
          ]
        },
        {
          "name": "stderr",
          "output_type": "stream",
          "text": [
            "Optimizing Weights: (0.4, 0.4, 0.8, 0.4, 0.4):  36%|███▋      | 373/1024 [1:15:25<2:11:26, 12.12s/it]"
          ]
        },
        {
          "name": "stdout",
          "output_type": "stream",
          "text": [
            "Weights: (0.4, 0.4, 0.8, 0.4, 0.2), F1 Score = 0.670439598460429\n"
          ]
        },
        {
          "name": "stderr",
          "output_type": "stream",
          "text": [
            "Optimizing Weights: (0.4, 0.4, 0.8, 0.4, 0.6000000000000001):  37%|███▋      | 374/1024 [1:15:37<2:11:43, 12.16s/it]"
          ]
        },
        {
          "name": "stdout",
          "output_type": "stream",
          "text": [
            "Weights: (0.4, 0.4, 0.8, 0.4, 0.4), F1 Score = 0.6557005025193328\n"
          ]
        },
        {
          "name": "stderr",
          "output_type": "stream",
          "text": [
            "Optimizing Weights: (0.4, 0.4, 0.8, 0.4, 0.8):  37%|███▋      | 375/1024 [1:15:49<2:10:59, 12.11s/it]               "
          ]
        },
        {
          "name": "stdout",
          "output_type": "stream",
          "text": [
            "Weights: (0.4, 0.4, 0.8, 0.4, 0.6000000000000001), F1 Score = 0.6423643031708783\n"
          ]
        },
        {
          "name": "stderr",
          "output_type": "stream",
          "text": [
            "Optimizing Weights: (0.4, 0.4, 0.8, 0.6000000000000001, 0.2):  37%|███▋      | 376/1024 [1:16:01<2:08:48, 11.93s/it]"
          ]
        },
        {
          "name": "stdout",
          "output_type": "stream",
          "text": [
            "Weights: (0.4, 0.4, 0.8, 0.4, 0.8), F1 Score = 0.6254715510686829\n"
          ]
        },
        {
          "name": "stderr",
          "output_type": "stream",
          "text": [
            "Optimizing Weights: (0.4, 0.4, 0.8, 0.6000000000000001, 0.4):  37%|███▋      | 377/1024 [1:16:12<2:07:54, 11.86s/it]"
          ]
        },
        {
          "name": "stdout",
          "output_type": "stream",
          "text": [
            "Weights: (0.4, 0.4, 0.8, 0.6000000000000001, 0.2), F1 Score = 0.670863751565152\n"
          ]
        },
        {
          "name": "stderr",
          "output_type": "stream",
          "text": [
            "Optimizing Weights: (0.4, 0.4, 0.8, 0.6000000000000001, 0.6000000000000001):  37%|███▋      | 378/1024 [1:16:25<2:08:56, 11.98s/it]"
          ]
        },
        {
          "name": "stdout",
          "output_type": "stream",
          "text": [
            "Weights: (0.4, 0.4, 0.8, 0.6000000000000001, 0.4), F1 Score = 0.6669609670021154\n"
          ]
        },
        {
          "name": "stderr",
          "output_type": "stream",
          "text": [
            "Optimizing Weights: (0.4, 0.4, 0.8, 0.6000000000000001, 0.8):  37%|███▋      | 379/1024 [1:16:37<2:09:16, 12.02s/it]               "
          ]
        },
        {
          "name": "stdout",
          "output_type": "stream",
          "text": [
            "Weights: (0.4, 0.4, 0.8, 0.6000000000000001, 0.6000000000000001), F1 Score = 0.6644381414393803\n"
          ]
        },
        {
          "name": "stderr",
          "output_type": "stream",
          "text": [
            "Optimizing Weights: (0.4, 0.4, 0.8, 0.8, 0.2):  37%|███▋      | 380/1024 [1:16:49<2:09:16, 12.04s/it]               "
          ]
        },
        {
          "name": "stdout",
          "output_type": "stream",
          "text": [
            "Weights: (0.4, 0.4, 0.8, 0.6000000000000001, 0.8), F1 Score = 0.6488295604716412\n"
          ]
        },
        {
          "name": "stderr",
          "output_type": "stream",
          "text": [
            "Optimizing Weights: (0.4, 0.4, 0.8, 0.8, 0.4):  37%|███▋      | 381/1024 [1:17:01<2:09:35, 12.09s/it]"
          ]
        },
        {
          "name": "stdout",
          "output_type": "stream",
          "text": [
            "Weights: (0.4, 0.4, 0.8, 0.8, 0.2), F1 Score = 0.6716166686409224\n"
          ]
        },
        {
          "name": "stderr",
          "output_type": "stream",
          "text": [
            "Optimizing Weights: (0.4, 0.4, 0.8, 0.8, 0.6000000000000001):  37%|███▋      | 382/1024 [1:17:13<2:09:02, 12.06s/it]"
          ]
        },
        {
          "name": "stdout",
          "output_type": "stream",
          "text": [
            "Weights: (0.4, 0.4, 0.8, 0.8, 0.4), F1 Score = 0.670180520159781\n"
          ]
        },
        {
          "name": "stderr",
          "output_type": "stream",
          "text": [
            "Optimizing Weights: (0.4, 0.4, 0.8, 0.8, 0.8):  37%|███▋      | 383/1024 [1:17:25<2:08:12, 12.00s/it]               "
          ]
        },
        {
          "name": "stdout",
          "output_type": "stream",
          "text": [
            "Weights: (0.4, 0.4, 0.8, 0.8, 0.6000000000000001), F1 Score = 0.6701595013477089\n"
          ]
        },
        {
          "name": "stderr",
          "output_type": "stream",
          "text": [
            "Optimizing Weights: (0.4, 0.6000000000000001, 0.2, 0.2, 0.2):  38%|███▊      | 384/1024 [1:17:36<2:06:15, 11.84s/it]"
          ]
        },
        {
          "name": "stdout",
          "output_type": "stream",
          "text": [
            "Weights: (0.4, 0.4, 0.8, 0.8, 0.8), F1 Score = 0.6652009057994016\n"
          ]
        },
        {
          "name": "stderr",
          "output_type": "stream",
          "text": [
            "Optimizing Weights: (0.4, 0.6000000000000001, 0.2, 0.2, 0.4):  38%|███▊      | 385/1024 [1:17:48<2:06:12, 11.85s/it]"
          ]
        },
        {
          "name": "stdout",
          "output_type": "stream",
          "text": [
            "Weights: (0.4, 0.6000000000000001, 0.2, 0.2, 0.2), F1 Score = 0.4757699218655213\n"
          ]
        },
        {
          "name": "stderr",
          "output_type": "stream",
          "text": [
            "Optimizing Weights: (0.4, 0.6000000000000001, 0.2, 0.2, 0.6000000000000001):  38%|███▊      | 386/1024 [1:18:00<2:06:40, 11.91s/it]"
          ]
        },
        {
          "name": "stdout",
          "output_type": "stream",
          "text": [
            "Weights: (0.4, 0.6000000000000001, 0.2, 0.2, 0.4), F1 Score = 0.43968568247089374\n"
          ]
        },
        {
          "name": "stderr",
          "output_type": "stream",
          "text": [
            "Optimizing Weights: (0.4, 0.6000000000000001, 0.2, 0.2, 0.8):  38%|███▊      | 387/1024 [1:18:13<2:07:19, 11.99s/it]               "
          ]
        },
        {
          "name": "stdout",
          "output_type": "stream",
          "text": [
            "Weights: (0.4, 0.6000000000000001, 0.2, 0.2, 0.6000000000000001), F1 Score = 0.3906226899869749\n"
          ]
        },
        {
          "name": "stderr",
          "output_type": "stream",
          "text": [
            "Optimizing Weights: (0.4, 0.6000000000000001, 0.2, 0.4, 0.2):  38%|███▊      | 388/1024 [1:18:25<2:07:28, 12.03s/it]"
          ]
        },
        {
          "name": "stdout",
          "output_type": "stream",
          "text": [
            "Weights: (0.4, 0.6000000000000001, 0.2, 0.2, 0.8), F1 Score = 0.3394754947433519\n"
          ]
        },
        {
          "name": "stderr",
          "output_type": "stream",
          "text": [
            "Optimizing Weights: (0.4, 0.6000000000000001, 0.2, 0.4, 0.4):  38%|███▊      | 389/1024 [1:18:37<2:08:11, 12.11s/it]"
          ]
        },
        {
          "name": "stdout",
          "output_type": "stream",
          "text": [
            "Weights: (0.4, 0.6000000000000001, 0.2, 0.4, 0.2), F1 Score = 0.5378038421043473\n"
          ]
        },
        {
          "name": "stderr",
          "output_type": "stream",
          "text": [
            "Optimizing Weights: (0.4, 0.6000000000000001, 0.2, 0.4, 0.6000000000000001):  38%|███▊      | 390/1024 [1:18:49<2:07:11, 12.04s/it]"
          ]
        },
        {
          "name": "stdout",
          "output_type": "stream",
          "text": [
            "Weights: (0.4, 0.6000000000000001, 0.2, 0.4, 0.4), F1 Score = 0.5053879801350197\n"
          ]
        },
        {
          "name": "stderr",
          "output_type": "stream",
          "text": [
            "Optimizing Weights: (0.4, 0.6000000000000001, 0.2, 0.4, 0.8):  38%|███▊      | 391/1024 [1:19:00<2:05:27, 11.89s/it]               "
          ]
        },
        {
          "name": "stdout",
          "output_type": "stream",
          "text": [
            "Weights: (0.4, 0.6000000000000001, 0.2, 0.4, 0.6000000000000001), F1 Score = 0.46523821461689424\n"
          ]
        },
        {
          "name": "stderr",
          "output_type": "stream",
          "text": [
            "Optimizing Weights: (0.4, 0.6000000000000001, 0.2, 0.6000000000000001, 0.2):  38%|███▊      | 392/1024 [1:19:12<2:05:17, 11.89s/it]"
          ]
        },
        {
          "name": "stdout",
          "output_type": "stream",
          "text": [
            "Weights: (0.4, 0.6000000000000001, 0.2, 0.4, 0.8), F1 Score = 0.425297663655378\n"
          ]
        },
        {
          "name": "stderr",
          "output_type": "stream",
          "text": [
            "Optimizing Weights: (0.4, 0.6000000000000001, 0.2, 0.6000000000000001, 0.4):  38%|███▊      | 393/1024 [1:19:24<2:05:40, 11.95s/it]"
          ]
        },
        {
          "name": "stdout",
          "output_type": "stream",
          "text": [
            "Weights: (0.4, 0.6000000000000001, 0.2, 0.6000000000000001, 0.2), F1 Score = 0.6399126963300183\n"
          ]
        },
        {
          "name": "stderr",
          "output_type": "stream",
          "text": [
            "Optimizing Weights: (0.4, 0.6000000000000001, 0.2, 0.6000000000000001, 0.6000000000000001):  38%|███▊      | 394/1024 [1:19:37<2:06:37, 12.06s/it]"
          ]
        },
        {
          "name": "stdout",
          "output_type": "stream",
          "text": [
            "Weights: (0.4, 0.6000000000000001, 0.2, 0.6000000000000001, 0.4), F1 Score = 0.5937536786267856\n"
          ]
        },
        {
          "name": "stderr",
          "output_type": "stream",
          "text": [
            "Optimizing Weights: (0.4, 0.6000000000000001, 0.2, 0.6000000000000001, 0.8):  39%|███▊      | 395/1024 [1:19:49<2:06:41, 12.09s/it]               "
          ]
        },
        {
          "name": "stdout",
          "output_type": "stream",
          "text": [
            "Weights: (0.4, 0.6000000000000001, 0.2, 0.6000000000000001, 0.6000000000000001), F1 Score = 0.532884583812789\n"
          ]
        },
        {
          "name": "stderr",
          "output_type": "stream",
          "text": [
            "Optimizing Weights: (0.4, 0.6000000000000001, 0.2, 0.8, 0.2):  39%|███▊      | 396/1024 [1:20:01<2:06:56, 12.13s/it]               "
          ]
        },
        {
          "name": "stdout",
          "output_type": "stream",
          "text": [
            "Weights: (0.4, 0.6000000000000001, 0.2, 0.6000000000000001, 0.8), F1 Score = 0.4956202666002538\n"
          ]
        },
        {
          "name": "stderr",
          "output_type": "stream",
          "text": [
            "Optimizing Weights: (0.4, 0.6000000000000001, 0.2, 0.8, 0.4):  39%|███▉      | 397/1024 [1:20:13<2:05:34, 12.02s/it]"
          ]
        },
        {
          "name": "stdout",
          "output_type": "stream",
          "text": [
            "Weights: (0.4, 0.6000000000000001, 0.2, 0.8, 0.2), F1 Score = 0.6685379027395423\n"
          ]
        },
        {
          "name": "stderr",
          "output_type": "stream",
          "text": [
            "Optimizing Weights: (0.4, 0.6000000000000001, 0.2, 0.8, 0.6000000000000001):  39%|███▉      | 398/1024 [1:20:24<2:03:53, 11.87s/it]"
          ]
        },
        {
          "name": "stdout",
          "output_type": "stream",
          "text": [
            "Weights: (0.4, 0.6000000000000001, 0.2, 0.8, 0.4), F1 Score = 0.651364106381221\n"
          ]
        },
        {
          "name": "stderr",
          "output_type": "stream",
          "text": [
            "Optimizing Weights: (0.4, 0.6000000000000001, 0.2, 0.8, 0.8):  39%|███▉      | 399/1024 [1:20:36<2:03:58, 11.90s/it]               "
          ]
        },
        {
          "name": "stdout",
          "output_type": "stream",
          "text": [
            "Weights: (0.4, 0.6000000000000001, 0.2, 0.8, 0.6000000000000001), F1 Score = 0.6269617713464696\n"
          ]
        },
        {
          "name": "stderr",
          "output_type": "stream",
          "text": [
            "Optimizing Weights: (0.4, 0.6000000000000001, 0.4, 0.2, 0.2):  39%|███▉      | 400/1024 [1:20:49<2:04:42, 11.99s/it]"
          ]
        },
        {
          "name": "stdout",
          "output_type": "stream",
          "text": [
            "Weights: (0.4, 0.6000000000000001, 0.2, 0.8, 0.8), F1 Score = 0.5792833844093238\n"
          ]
        },
        {
          "name": "stderr",
          "output_type": "stream",
          "text": [
            "Optimizing Weights: (0.4, 0.6000000000000001, 0.4, 0.2, 0.4):  39%|███▉      | 401/1024 [1:21:01<2:04:55, 12.03s/it]"
          ]
        },
        {
          "name": "stdout",
          "output_type": "stream",
          "text": [
            "Weights: (0.4, 0.6000000000000001, 0.4, 0.2, 0.2), F1 Score = 0.5234746451465202\n"
          ]
        },
        {
          "name": "stderr",
          "output_type": "stream",
          "text": [
            "Optimizing Weights: (0.4, 0.6000000000000001, 0.4, 0.2, 0.6000000000000001):  39%|███▉      | 402/1024 [1:21:13<2:04:47, 12.04s/it]"
          ]
        },
        {
          "name": "stdout",
          "output_type": "stream",
          "text": [
            "Weights: (0.4, 0.6000000000000001, 0.4, 0.2, 0.4), F1 Score = 0.4912808167742646\n"
          ]
        },
        {
          "name": "stderr",
          "output_type": "stream",
          "text": [
            "Optimizing Weights: (0.4, 0.6000000000000001, 0.4, 0.2, 0.8):  39%|███▉      | 403/1024 [1:21:25<2:04:57, 12.07s/it]               "
          ]
        },
        {
          "name": "stdout",
          "output_type": "stream",
          "text": [
            "Weights: (0.4, 0.6000000000000001, 0.4, 0.2, 0.6000000000000001), F1 Score = 0.45635394211978964\n"
          ]
        },
        {
          "name": "stderr",
          "output_type": "stream",
          "text": [
            "Optimizing Weights: (0.4, 0.6000000000000001, 0.4, 0.4, 0.2):  39%|███▉      | 404/1024 [1:21:37<2:04:45, 12.07s/it]"
          ]
        },
        {
          "name": "stdout",
          "output_type": "stream",
          "text": [
            "Weights: (0.4, 0.6000000000000001, 0.4, 0.2, 0.8), F1 Score = 0.4168288121586663\n"
          ]
        },
        {
          "name": "stderr",
          "output_type": "stream",
          "text": [
            "Optimizing Weights: (0.4, 0.6000000000000001, 0.4, 0.4, 0.4):  40%|███▉      | 405/1024 [1:21:49<2:03:04, 11.93s/it]"
          ]
        },
        {
          "name": "stdout",
          "output_type": "stream",
          "text": [
            "Weights: (0.4, 0.6000000000000001, 0.4, 0.4, 0.2), F1 Score = 0.6120245532043712\n"
          ]
        },
        {
          "name": "stderr",
          "output_type": "stream",
          "text": [
            "Optimizing Weights: (0.4, 0.6000000000000001, 0.4, 0.4, 0.6000000000000001):  40%|███▉      | 406/1024 [1:22:00<2:02:01, 11.85s/it]"
          ]
        },
        {
          "name": "stdout",
          "output_type": "stream",
          "text": [
            "Weights: (0.4, 0.6000000000000001, 0.4, 0.4, 0.4), F1 Score = 0.5695492080584539\n"
          ]
        },
        {
          "name": "stderr",
          "output_type": "stream",
          "text": [
            "Optimizing Weights: (0.4, 0.6000000000000001, 0.4, 0.4, 0.8):  40%|███▉      | 407/1024 [1:22:12<2:02:59, 11.96s/it]               "
          ]
        },
        {
          "name": "stdout",
          "output_type": "stream",
          "text": [
            "Weights: (0.4, 0.6000000000000001, 0.4, 0.4, 0.6000000000000001), F1 Score = 0.5136002559374742\n"
          ]
        },
        {
          "name": "stderr",
          "output_type": "stream",
          "text": [
            "Optimizing Weights: (0.4, 0.6000000000000001, 0.4, 0.6000000000000001, 0.2):  40%|███▉      | 408/1024 [1:22:25<2:03:11, 12.00s/it]"
          ]
        },
        {
          "name": "stdout",
          "output_type": "stream",
          "text": [
            "Weights: (0.4, 0.6000000000000001, 0.4, 0.4, 0.8), F1 Score = 0.4783000366905155\n"
          ]
        },
        {
          "name": "stderr",
          "output_type": "stream",
          "text": [
            "Optimizing Weights: (0.4, 0.6000000000000001, 0.4, 0.6000000000000001, 0.4):  40%|███▉      | 409/1024 [1:22:37<2:04:04, 12.10s/it]"
          ]
        },
        {
          "name": "stdout",
          "output_type": "stream",
          "text": [
            "Weights: (0.4, 0.6000000000000001, 0.4, 0.6000000000000001, 0.2), F1 Score = 0.6531795236664497\n"
          ]
        },
        {
          "name": "stderr",
          "output_type": "stream",
          "text": [
            "Optimizing Weights: (0.4, 0.6000000000000001, 0.4, 0.6000000000000001, 0.6000000000000001):  40%|████      | 410/1024 [1:22:49<2:04:21, 12.15s/it]"
          ]
        },
        {
          "name": "stdout",
          "output_type": "stream",
          "text": [
            "Weights: (0.4, 0.6000000000000001, 0.4, 0.6000000000000001, 0.4), F1 Score = 0.6300679880243036\n"
          ]
        },
        {
          "name": "stderr",
          "output_type": "stream",
          "text": [
            "Optimizing Weights: (0.4, 0.6000000000000001, 0.4, 0.6000000000000001, 0.8):  40%|████      | 411/1024 [1:23:01<2:04:39, 12.20s/it]               "
          ]
        },
        {
          "name": "stdout",
          "output_type": "stream",
          "text": [
            "Weights: (0.4, 0.6000000000000001, 0.4, 0.6000000000000001, 0.6000000000000001), F1 Score = 0.6028913386181425\n"
          ]
        },
        {
          "name": "stderr",
          "output_type": "stream",
          "text": [
            "Optimizing Weights: (0.4, 0.6000000000000001, 0.4, 0.8, 0.2):  40%|████      | 412/1024 [1:23:14<2:04:05, 12.17s/it]               "
          ]
        },
        {
          "name": "stdout",
          "output_type": "stream",
          "text": [
            "Weights: (0.4, 0.6000000000000001, 0.4, 0.6000000000000001, 0.8), F1 Score = 0.5558623611372623\n"
          ]
        },
        {
          "name": "stderr",
          "output_type": "stream",
          "text": [
            "Optimizing Weights: (0.4, 0.6000000000000001, 0.4, 0.8, 0.4):  40%|████      | 413/1024 [1:23:26<2:03:40, 12.15s/it]"
          ]
        },
        {
          "name": "stdout",
          "output_type": "stream",
          "text": [
            "Weights: (0.4, 0.6000000000000001, 0.4, 0.8, 0.2), F1 Score = 0.6674798904805036\n"
          ]
        },
        {
          "name": "stderr",
          "output_type": "stream",
          "text": [
            "Optimizing Weights: (0.4, 0.6000000000000001, 0.4, 0.8, 0.6000000000000001):  40%|████      | 414/1024 [1:23:37<2:01:59, 12.00s/it]"
          ]
        },
        {
          "name": "stdout",
          "output_type": "stream",
          "text": [
            "Weights: (0.4, 0.6000000000000001, 0.4, 0.8, 0.4), F1 Score = 0.6578559091536167\n"
          ]
        },
        {
          "name": "stderr",
          "output_type": "stream",
          "text": [
            "Optimizing Weights: (0.4, 0.6000000000000001, 0.4, 0.8, 0.8):  41%|████      | 415/1024 [1:23:49<2:01:45, 12.00s/it]               "
          ]
        },
        {
          "name": "stdout",
          "output_type": "stream",
          "text": [
            "Weights: (0.4, 0.6000000000000001, 0.4, 0.8, 0.6000000000000001), F1 Score = 0.6479610058309038\n"
          ]
        },
        {
          "name": "stderr",
          "output_type": "stream",
          "text": [
            "Optimizing Weights: (0.4, 0.6000000000000001, 0.6000000000000001, 0.2, 0.2):  41%|████      | 416/1024 [1:24:02<2:02:18, 12.07s/it]"
          ]
        },
        {
          "name": "stdout",
          "output_type": "stream",
          "text": [
            "Weights: (0.4, 0.6000000000000001, 0.4, 0.8, 0.8), F1 Score = 0.6264779375674879\n"
          ]
        },
        {
          "name": "stderr",
          "output_type": "stream",
          "text": [
            "Optimizing Weights: (0.4, 0.6000000000000001, 0.6000000000000001, 0.2, 0.4):  41%|████      | 417/1024 [1:24:14<2:02:32, 12.11s/it]"
          ]
        },
        {
          "name": "stdout",
          "output_type": "stream",
          "text": [
            "Weights: (0.4, 0.6000000000000001, 0.6000000000000001, 0.2, 0.2), F1 Score = 0.6075206983588016\n"
          ]
        },
        {
          "name": "stderr",
          "output_type": "stream",
          "text": [
            "Optimizing Weights: (0.4, 0.6000000000000001, 0.6000000000000001, 0.2, 0.6000000000000001):  41%|████      | 418/1024 [1:24:26<2:02:01, 12.08s/it]"
          ]
        },
        {
          "name": "stdout",
          "output_type": "stream",
          "text": [
            "Weights: (0.4, 0.6000000000000001, 0.6000000000000001, 0.2, 0.4), F1 Score = 0.5584712222234549\n"
          ]
        },
        {
          "name": "stderr",
          "output_type": "stream",
          "text": [
            "Optimizing Weights: (0.4, 0.6000000000000001, 0.6000000000000001, 0.2, 0.8):  41%|████      | 419/1024 [1:24:38<2:02:01, 12.10s/it]               "
          ]
        },
        {
          "name": "stdout",
          "output_type": "stream",
          "text": [
            "Weights: (0.4, 0.6000000000000001, 0.6000000000000001, 0.2, 0.6000000000000001), F1 Score = 0.5110563586842656\n"
          ]
        },
        {
          "name": "stderr",
          "output_type": "stream",
          "text": [
            "Optimizing Weights: (0.4, 0.6000000000000001, 0.6000000000000001, 0.4, 0.2):  41%|████      | 420/1024 [1:24:50<2:00:57, 12.02s/it]"
          ]
        },
        {
          "name": "stdout",
          "output_type": "stream",
          "text": [
            "Weights: (0.4, 0.6000000000000001, 0.6000000000000001, 0.2, 0.8), F1 Score = 0.47835690174438583\n"
          ]
        },
        {
          "name": "stderr",
          "output_type": "stream",
          "text": [
            "Optimizing Weights: (0.4, 0.6000000000000001, 0.6000000000000001, 0.4, 0.4):  41%|████      | 421/1024 [1:25:01<1:59:10, 11.86s/it]"
          ]
        },
        {
          "name": "stdout",
          "output_type": "stream",
          "text": [
            "Weights: (0.4, 0.6000000000000001, 0.6000000000000001, 0.4, 0.2), F1 Score = 0.6390712922173275\n"
          ]
        },
        {
          "name": "stderr",
          "output_type": "stream",
          "text": [
            "Optimizing Weights: (0.4, 0.6000000000000001, 0.6000000000000001, 0.4, 0.6000000000000001):  41%|████      | 422/1024 [1:25:13<1:59:42, 11.93s/it]"
          ]
        },
        {
          "name": "stdout",
          "output_type": "stream",
          "text": [
            "Weights: (0.4, 0.6000000000000001, 0.6000000000000001, 0.4, 0.4), F1 Score = 0.617757523948252\n"
          ]
        },
        {
          "name": "stderr",
          "output_type": "stream",
          "text": [
            "Optimizing Weights: (0.4, 0.6000000000000001, 0.6000000000000001, 0.4, 0.8):  41%|████▏     | 423/1024 [1:25:25<1:59:57, 11.98s/it]               "
          ]
        },
        {
          "name": "stdout",
          "output_type": "stream",
          "text": [
            "Weights: (0.4, 0.6000000000000001, 0.6000000000000001, 0.4, 0.6000000000000001), F1 Score = 0.5870328282828282\n"
          ]
        },
        {
          "name": "stderr",
          "output_type": "stream",
          "text": [
            "Optimizing Weights: (0.4, 0.6000000000000001, 0.6000000000000001, 0.6000000000000001, 0.2):  41%|████▏     | 424/1024 [1:25:38<2:00:29, 12.05s/it]"
          ]
        },
        {
          "name": "stdout",
          "output_type": "stream",
          "text": [
            "Weights: (0.4, 0.6000000000000001, 0.6000000000000001, 0.4, 0.8), F1 Score = 0.53762497388807\n"
          ]
        },
        {
          "name": "stderr",
          "output_type": "stream",
          "text": [
            "Optimizing Weights: (0.4, 0.6000000000000001, 0.6000000000000001, 0.6000000000000001, 0.4):  42%|████▏     | 425/1024 [1:25:50<2:00:49, 12.10s/it]"
          ]
        },
        {
          "name": "stdout",
          "output_type": "stream",
          "text": [
            "Weights: (0.4, 0.6000000000000001, 0.6000000000000001, 0.6000000000000001, 0.2), F1 Score = 0.6581215575620769\n"
          ]
        },
        {
          "name": "stderr",
          "output_type": "stream",
          "text": [
            "Optimizing Weights: (0.4, 0.6000000000000001, 0.6000000000000001, 0.6000000000000001, 0.6000000000000001):  42%|████▏     | 426/1024 [1:26:02<2:00:35, 12.10s/it]"
          ]
        },
        {
          "name": "stdout",
          "output_type": "stream",
          "text": [
            "Weights: (0.4, 0.6000000000000001, 0.6000000000000001, 0.6000000000000001, 0.4), F1 Score = 0.6496268181818182\n"
          ]
        },
        {
          "name": "stderr",
          "output_type": "stream",
          "text": [
            "Optimizing Weights: (0.4, 0.6000000000000001, 0.6000000000000001, 0.6000000000000001, 0.8):  42%|████▏     | 427/1024 [1:26:14<1:58:54, 11.95s/it]               "
          ]
        },
        {
          "name": "stdout",
          "output_type": "stream",
          "text": [
            "Weights: (0.4, 0.6000000000000001, 0.6000000000000001, 0.6000000000000001, 0.6000000000000001), F1 Score = 0.6339800871142296\n"
          ]
        },
        {
          "name": "stderr",
          "output_type": "stream",
          "text": [
            "Optimizing Weights: (0.4, 0.6000000000000001, 0.6000000000000001, 0.8, 0.2):  42%|████▏     | 428/1024 [1:26:25<1:57:15, 11.80s/it]               "
          ]
        },
        {
          "name": "stdout",
          "output_type": "stream",
          "text": [
            "Weights: (0.4, 0.6000000000000001, 0.6000000000000001, 0.6000000000000001, 0.8), F1 Score = 0.6102215502945044\n"
          ]
        },
        {
          "name": "stderr",
          "output_type": "stream",
          "text": [
            "Optimizing Weights: (0.4, 0.6000000000000001, 0.6000000000000001, 0.8, 0.4):  42%|████▏     | 429/1024 [1:26:37<1:58:09, 11.92s/it]"
          ]
        },
        {
          "name": "stdout",
          "output_type": "stream",
          "text": [
            "Weights: (0.4, 0.6000000000000001, 0.6000000000000001, 0.8, 0.2), F1 Score = 0.6704211866144983\n"
          ]
        },
        {
          "name": "stderr",
          "output_type": "stream",
          "text": [
            "Optimizing Weights: (0.4, 0.6000000000000001, 0.6000000000000001, 0.8, 0.6000000000000001):  42%|████▏     | 430/1024 [1:26:49<1:58:54, 12.01s/it]"
          ]
        },
        {
          "name": "stdout",
          "output_type": "stream",
          "text": [
            "Weights: (0.4, 0.6000000000000001, 0.6000000000000001, 0.8, 0.4), F1 Score = 0.6632618812023174\n"
          ]
        },
        {
          "name": "stderr",
          "output_type": "stream",
          "text": [
            "Optimizing Weights: (0.4, 0.6000000000000001, 0.6000000000000001, 0.8, 0.8):  42%|████▏     | 431/1024 [1:27:02<1:59:01, 12.04s/it]               "
          ]
        },
        {
          "name": "stdout",
          "output_type": "stream",
          "text": [
            "Weights: (0.4, 0.6000000000000001, 0.6000000000000001, 0.8, 0.6000000000000001), F1 Score = 0.6558097912847457\n"
          ]
        },
        {
          "name": "stderr",
          "output_type": "stream",
          "text": [
            "Optimizing Weights: (0.4, 0.6000000000000001, 0.8, 0.2, 0.2):  42%|████▏     | 432/1024 [1:27:14<1:59:05, 12.07s/it]               "
          ]
        },
        {
          "name": "stdout",
          "output_type": "stream",
          "text": [
            "Weights: (0.4, 0.6000000000000001, 0.6000000000000001, 0.8, 0.8), F1 Score = 0.6450715601311277\n"
          ]
        },
        {
          "name": "stderr",
          "output_type": "stream",
          "text": [
            "Optimizing Weights: (0.4, 0.6000000000000001, 0.8, 0.2, 0.4):  42%|████▏     | 433/1024 [1:27:26<1:59:17, 12.11s/it]"
          ]
        },
        {
          "name": "stdout",
          "output_type": "stream",
          "text": [
            "Weights: (0.4, 0.6000000000000001, 0.8, 0.2, 0.2), F1 Score = 0.641685987460815\n"
          ]
        },
        {
          "name": "stderr",
          "output_type": "stream",
          "text": [
            "Optimizing Weights: (0.4, 0.6000000000000001, 0.8, 0.2, 0.6000000000000001):  42%|████▏     | 434/1024 [1:27:38<1:58:39, 12.07s/it]"
          ]
        },
        {
          "name": "stdout",
          "output_type": "stream",
          "text": [
            "Weights: (0.4, 0.6000000000000001, 0.8, 0.2, 0.4), F1 Score = 0.6195586347660338\n"
          ]
        },
        {
          "name": "stderr",
          "output_type": "stream",
          "text": [
            "Optimizing Weights: (0.4, 0.6000000000000001, 0.8, 0.2, 0.8):  42%|████▏     | 435/1024 [1:27:49<1:56:17, 11.85s/it]               "
          ]
        },
        {
          "name": "stdout",
          "output_type": "stream",
          "text": [
            "Weights: (0.4, 0.6000000000000001, 0.8, 0.2, 0.6000000000000001), F1 Score = 0.5862504568351778\n"
          ]
        },
        {
          "name": "stderr",
          "output_type": "stream",
          "text": [
            "Optimizing Weights: (0.4, 0.6000000000000001, 0.8, 0.4, 0.2):  43%|████▎     | 436/1024 [1:28:01<1:56:44, 11.91s/it]"
          ]
        },
        {
          "name": "stdout",
          "output_type": "stream",
          "text": [
            "Weights: (0.4, 0.6000000000000001, 0.8, 0.2, 0.8), F1 Score = 0.5402021034215464\n"
          ]
        },
        {
          "name": "stderr",
          "output_type": "stream",
          "text": [
            "Optimizing Weights: (0.4, 0.6000000000000001, 0.8, 0.4, 0.4):  43%|████▎     | 437/1024 [1:28:13<1:57:28, 12.01s/it]"
          ]
        },
        {
          "name": "stdout",
          "output_type": "stream",
          "text": [
            "Weights: (0.4, 0.6000000000000001, 0.8, 0.4, 0.2), F1 Score = 0.6560238221199488\n"
          ]
        },
        {
          "name": "stderr",
          "output_type": "stream",
          "text": [
            "Optimizing Weights: (0.4, 0.6000000000000001, 0.8, 0.4, 0.6000000000000001):  43%|████▎     | 438/1024 [1:28:26<1:57:27, 12.03s/it]"
          ]
        },
        {
          "name": "stdout",
          "output_type": "stream",
          "text": [
            "Weights: (0.4, 0.6000000000000001, 0.8, 0.4, 0.4), F1 Score = 0.6400281825316931\n"
          ]
        },
        {
          "name": "stderr",
          "output_type": "stream",
          "text": [
            "Optimizing Weights: (0.4, 0.6000000000000001, 0.8, 0.4, 0.8):  43%|████▎     | 439/1024 [1:28:38<1:57:56, 12.10s/it]               "
          ]
        },
        {
          "name": "stdout",
          "output_type": "stream",
          "text": [
            "Weights: (0.4, 0.6000000000000001, 0.8, 0.4, 0.6000000000000001), F1 Score = 0.6297232477260567\n"
          ]
        },
        {
          "name": "stderr",
          "output_type": "stream",
          "text": [
            "Optimizing Weights: (0.4, 0.6000000000000001, 0.8, 0.6000000000000001, 0.2):  43%|████▎     | 440/1024 [1:28:50<1:57:40, 12.09s/it]"
          ]
        },
        {
          "name": "stdout",
          "output_type": "stream",
          "text": [
            "Weights: (0.4, 0.6000000000000001, 0.8, 0.4, 0.8), F1 Score = 0.6013619660649107\n"
          ]
        },
        {
          "name": "stderr",
          "output_type": "stream",
          "text": [
            "Optimizing Weights: (0.4, 0.6000000000000001, 0.8, 0.6000000000000001, 0.4):  43%|████▎     | 441/1024 [1:29:02<1:56:42, 12.01s/it]"
          ]
        },
        {
          "name": "stdout",
          "output_type": "stream",
          "text": [
            "Weights: (0.4, 0.6000000000000001, 0.8, 0.6000000000000001, 0.2), F1 Score = 0.6656906425338989\n"
          ]
        },
        {
          "name": "stderr",
          "output_type": "stream",
          "text": [
            "Optimizing Weights: (0.4, 0.6000000000000001, 0.8, 0.6000000000000001, 0.6000000000000001):  43%|████▎     | 442/1024 [1:29:13<1:54:56, 11.85s/it]"
          ]
        },
        {
          "name": "stdout",
          "output_type": "stream",
          "text": [
            "Weights: (0.4, 0.6000000000000001, 0.8, 0.6000000000000001, 0.4), F1 Score = 0.6608604895179769\n"
          ]
        },
        {
          "name": "stderr",
          "output_type": "stream",
          "text": [
            "Optimizing Weights: (0.4, 0.6000000000000001, 0.8, 0.6000000000000001, 0.8):  43%|████▎     | 443/1024 [1:29:25<1:55:27, 11.92s/it]               "
          ]
        },
        {
          "name": "stdout",
          "output_type": "stream",
          "text": [
            "Weights: (0.4, 0.6000000000000001, 0.8, 0.6000000000000001, 0.6000000000000001), F1 Score = 0.6463985669527921\n"
          ]
        },
        {
          "name": "stderr",
          "output_type": "stream",
          "text": [
            "Optimizing Weights: (0.4, 0.6000000000000001, 0.8, 0.8, 0.2):  43%|████▎     | 444/1024 [1:29:37<1:56:03, 12.01s/it]               "
          ]
        },
        {
          "name": "stdout",
          "output_type": "stream",
          "text": [
            "Weights: (0.4, 0.6000000000000001, 0.8, 0.6000000000000001, 0.8), F1 Score = 0.6376952580523362\n"
          ]
        },
        {
          "name": "stderr",
          "output_type": "stream",
          "text": [
            "Optimizing Weights: (0.4, 0.6000000000000001, 0.8, 0.8, 0.4):  43%|████▎     | 445/1024 [1:29:50<1:56:32, 12.08s/it]"
          ]
        },
        {
          "name": "stdout",
          "output_type": "stream",
          "text": [
            "Weights: (0.4, 0.6000000000000001, 0.8, 0.8, 0.2), F1 Score = 0.6686614288907475\n"
          ]
        },
        {
          "name": "stderr",
          "output_type": "stream",
          "text": [
            "Optimizing Weights: (0.4, 0.6000000000000001, 0.8, 0.8, 0.6000000000000001):  44%|████▎     | 446/1024 [1:30:02<1:56:46, 12.12s/it]"
          ]
        },
        {
          "name": "stdout",
          "output_type": "stream",
          "text": [
            "Weights: (0.4, 0.6000000000000001, 0.8, 0.8, 0.4), F1 Score = 0.6662194484070376\n"
          ]
        },
        {
          "name": "stderr",
          "output_type": "stream",
          "text": [
            "Optimizing Weights: (0.4, 0.6000000000000001, 0.8, 0.8, 0.8):  44%|████▎     | 447/1024 [1:30:14<1:56:59, 12.17s/it]               "
          ]
        },
        {
          "name": "stdout",
          "output_type": "stream",
          "text": [
            "Weights: (0.4, 0.6000000000000001, 0.8, 0.8, 0.6000000000000001), F1 Score = 0.6629666135288804\n"
          ]
        },
        {
          "name": "stderr",
          "output_type": "stream",
          "text": [
            "Optimizing Weights: (0.4, 0.8, 0.2, 0.2, 0.2):  44%|████▍     | 448/1024 [1:30:26<1:55:46, 12.06s/it]               "
          ]
        },
        {
          "name": "stdout",
          "output_type": "stream",
          "text": [
            "Weights: (0.4, 0.6000000000000001, 0.8, 0.8, 0.8), F1 Score = 0.6568688058979939\n"
          ]
        },
        {
          "name": "stderr",
          "output_type": "stream",
          "text": [
            "Optimizing Weights: (0.4, 0.8, 0.2, 0.2, 0.4):  44%|████▍     | 449/1024 [1:30:38<1:53:57, 11.89s/it]"
          ]
        },
        {
          "name": "stdout",
          "output_type": "stream",
          "text": [
            "Weights: (0.4, 0.8, 0.2, 0.2, 0.2), F1 Score = 0.45421311594397473\n"
          ]
        },
        {
          "name": "stderr",
          "output_type": "stream",
          "text": [
            "Optimizing Weights: (0.4, 0.8, 0.2, 0.2, 0.6000000000000001):  44%|████▍     | 450/1024 [1:30:49<1:53:50, 11.90s/it]"
          ]
        },
        {
          "name": "stdout",
          "output_type": "stream",
          "text": [
            "Weights: (0.4, 0.8, 0.2, 0.2, 0.4), F1 Score = 0.4203115628604383\n"
          ]
        },
        {
          "name": "stderr",
          "output_type": "stream",
          "text": [
            "Optimizing Weights: (0.4, 0.8, 0.2, 0.2, 0.8):  44%|████▍     | 451/1024 [1:31:02<1:54:15, 11.96s/it]               "
          ]
        },
        {
          "name": "stdout",
          "output_type": "stream",
          "text": [
            "Weights: (0.4, 0.8, 0.2, 0.2, 0.6000000000000001), F1 Score = 0.3789263048635824\n"
          ]
        },
        {
          "name": "stderr",
          "output_type": "stream",
          "text": [
            "Optimizing Weights: (0.4, 0.8, 0.2, 0.4, 0.2):  44%|████▍     | 452/1024 [1:31:14<1:54:49, 12.05s/it]"
          ]
        },
        {
          "name": "stdout",
          "output_type": "stream",
          "text": [
            "Weights: (0.4, 0.8, 0.2, 0.2, 0.8), F1 Score = 0.33159402078371114\n"
          ]
        },
        {
          "name": "stderr",
          "output_type": "stream",
          "text": [
            "Optimizing Weights: (0.4, 0.8, 0.2, 0.4, 0.4):  44%|████▍     | 453/1024 [1:31:26<1:54:47, 12.06s/it]"
          ]
        },
        {
          "name": "stdout",
          "output_type": "stream",
          "text": [
            "Weights: (0.4, 0.8, 0.2, 0.4, 0.2), F1 Score = 0.5149664568954567\n"
          ]
        },
        {
          "name": "stderr",
          "output_type": "stream",
          "text": [
            "Optimizing Weights: (0.4, 0.8, 0.2, 0.4, 0.6000000000000001):  44%|████▍     | 454/1024 [1:31:38<1:54:38, 12.07s/it]"
          ]
        },
        {
          "name": "stdout",
          "output_type": "stream",
          "text": [
            "Weights: (0.4, 0.8, 0.2, 0.4, 0.4), F1 Score = 0.46849904441468965\n"
          ]
        },
        {
          "name": "stderr",
          "output_type": "stream",
          "text": [
            "Optimizing Weights: (0.4, 0.8, 0.2, 0.4, 0.8):  44%|████▍     | 455/1024 [1:31:50<1:54:20, 12.06s/it]               "
          ]
        },
        {
          "name": "stdout",
          "output_type": "stream",
          "text": [
            "Weights: (0.4, 0.8, 0.2, 0.4, 0.6000000000000001), F1 Score = 0.44180009112349916\n"
          ]
        },
        {
          "name": "stderr",
          "output_type": "stream",
          "text": [
            "Optimizing Weights: (0.4, 0.8, 0.2, 0.6000000000000001, 0.2):  45%|████▍     | 456/1024 [1:32:01<1:52:01, 11.83s/it]"
          ]
        },
        {
          "name": "stdout",
          "output_type": "stream",
          "text": [
            "Weights: (0.4, 0.8, 0.2, 0.4, 0.8), F1 Score = 0.40551434834923933\n"
          ]
        },
        {
          "name": "stderr",
          "output_type": "stream",
          "text": [
            "Optimizing Weights: (0.4, 0.8, 0.2, 0.6000000000000001, 0.4):  45%|████▍     | 457/1024 [1:32:13<1:51:44, 11.82s/it]"
          ]
        },
        {
          "name": "stdout",
          "output_type": "stream",
          "text": [
            "Weights: (0.4, 0.8, 0.2, 0.6000000000000001, 0.2), F1 Score = 0.5971816991367848\n"
          ]
        },
        {
          "name": "stderr",
          "output_type": "stream",
          "text": [
            "Optimizing Weights: (0.4, 0.8, 0.2, 0.6000000000000001, 0.6000000000000001):  45%|████▍     | 458/1024 [1:32:25<1:52:23, 11.91s/it]"
          ]
        },
        {
          "name": "stdout",
          "output_type": "stream",
          "text": [
            "Weights: (0.4, 0.8, 0.2, 0.6000000000000001, 0.4), F1 Score = 0.5384524310705872\n"
          ]
        },
        {
          "name": "stderr",
          "output_type": "stream",
          "text": [
            "Optimizing Weights: (0.4, 0.8, 0.2, 0.6000000000000001, 0.8):  45%|████▍     | 459/1024 [1:32:37<1:53:01, 12.00s/it]               "
          ]
        },
        {
          "name": "stdout",
          "output_type": "stream",
          "text": [
            "Weights: (0.4, 0.8, 0.2, 0.6000000000000001, 0.6000000000000001), F1 Score = 0.49962844290387914\n"
          ]
        },
        {
          "name": "stderr",
          "output_type": "stream",
          "text": [
            "Optimizing Weights: (0.4, 0.8, 0.2, 0.8, 0.2):  45%|████▍     | 460/1024 [1:32:50<1:53:08, 12.04s/it]               "
          ]
        },
        {
          "name": "stdout",
          "output_type": "stream",
          "text": [
            "Weights: (0.4, 0.8, 0.2, 0.6000000000000001, 0.8), F1 Score = 0.465280956925543\n"
          ]
        },
        {
          "name": "stderr",
          "output_type": "stream",
          "text": [
            "Optimizing Weights: (0.4, 0.8, 0.2, 0.8, 0.4):  45%|████▌     | 461/1024 [1:33:02<1:53:19, 12.08s/it]"
          ]
        },
        {
          "name": "stdout",
          "output_type": "stream",
          "text": [
            "Weights: (0.4, 0.8, 0.2, 0.8, 0.2), F1 Score = 0.6528250450632571\n"
          ]
        },
        {
          "name": "stderr",
          "output_type": "stream",
          "text": [
            "Optimizing Weights: (0.4, 0.8, 0.2, 0.8, 0.6000000000000001):  45%|████▌     | 462/1024 [1:33:14<1:52:37, 12.02s/it]"
          ]
        },
        {
          "name": "stdout",
          "output_type": "stream",
          "text": [
            "Weights: (0.4, 0.8, 0.2, 0.8, 0.4), F1 Score = 0.6286426278650254\n"
          ]
        },
        {
          "name": "stderr",
          "output_type": "stream",
          "text": [
            "Optimizing Weights: (0.4, 0.8, 0.2, 0.8, 0.8):  45%|████▌     | 463/1024 [1:33:26<1:52:30, 12.03s/it]               "
          ]
        },
        {
          "name": "stdout",
          "output_type": "stream",
          "text": [
            "Weights: (0.4, 0.8, 0.2, 0.8, 0.6000000000000001), F1 Score = 0.5841269058055701\n"
          ]
        },
        {
          "name": "stderr",
          "output_type": "stream",
          "text": [
            "Optimizing Weights: (0.4, 0.8, 0.4, 0.2, 0.2):  45%|████▌     | 464/1024 [1:33:37<1:51:27, 11.94s/it]"
          ]
        },
        {
          "name": "stdout",
          "output_type": "stream",
          "text": [
            "Weights: (0.4, 0.8, 0.2, 0.8, 0.8), F1 Score = 0.5291513778792833\n"
          ]
        },
        {
          "name": "stderr",
          "output_type": "stream",
          "text": [
            "Optimizing Weights: (0.4, 0.8, 0.4, 0.2, 0.4):  45%|████▌     | 465/1024 [1:33:49<1:51:16, 11.94s/it]"
          ]
        },
        {
          "name": "stdout",
          "output_type": "stream",
          "text": [
            "Weights: (0.4, 0.8, 0.4, 0.2, 0.2), F1 Score = 0.5010267888105421\n"
          ]
        },
        {
          "name": "stderr",
          "output_type": "stream",
          "text": [
            "Optimizing Weights: (0.4, 0.8, 0.4, 0.2, 0.6000000000000001):  46%|████▌     | 466/1024 [1:34:01<1:51:12, 11.96s/it]"
          ]
        },
        {
          "name": "stdout",
          "output_type": "stream",
          "text": [
            "Weights: (0.4, 0.8, 0.4, 0.2, 0.4), F1 Score = 0.46689025629302244\n"
          ]
        },
        {
          "name": "stderr",
          "output_type": "stream",
          "text": [
            "Optimizing Weights: (0.4, 0.8, 0.4, 0.2, 0.8):  46%|████▌     | 467/1024 [1:34:13<1:51:23, 12.00s/it]               "
          ]
        },
        {
          "name": "stdout",
          "output_type": "stream",
          "text": [
            "Weights: (0.4, 0.8, 0.4, 0.2, 0.6000000000000001), F1 Score = 0.43513267461687294\n"
          ]
        },
        {
          "name": "stderr",
          "output_type": "stream",
          "text": [
            "Optimizing Weights: (0.4, 0.8, 0.4, 0.4, 0.2):  46%|████▌     | 468/1024 [1:34:25<1:51:19, 12.01s/it]"
          ]
        },
        {
          "name": "stdout",
          "output_type": "stream",
          "text": [
            "Weights: (0.4, 0.8, 0.4, 0.2, 0.8), F1 Score = 0.3968412162162162\n"
          ]
        },
        {
          "name": "stderr",
          "output_type": "stream",
          "text": [
            "Optimizing Weights: (0.4, 0.8, 0.4, 0.4, 0.4):  46%|████▌     | 469/1024 [1:34:38<1:51:31, 12.06s/it]"
          ]
        },
        {
          "name": "stdout",
          "output_type": "stream",
          "text": [
            "Weights: (0.4, 0.8, 0.4, 0.4, 0.2), F1 Score = 0.5755179384877228\n"
          ]
        },
        {
          "name": "stderr",
          "output_type": "stream",
          "text": [
            "Optimizing Weights: (0.4, 0.8, 0.4, 0.4, 0.6000000000000001):  46%|████▌     | 470/1024 [1:34:49<1:50:43, 11.99s/it]"
          ]
        },
        {
          "name": "stdout",
          "output_type": "stream",
          "text": [
            "Weights: (0.4, 0.8, 0.4, 0.4, 0.4), F1 Score = 0.5215749892958218\n"
          ]
        },
        {
          "name": "stderr",
          "output_type": "stream",
          "text": [
            "Optimizing Weights: (0.4, 0.8, 0.4, 0.4, 0.8):  46%|████▌     | 471/1024 [1:35:01<1:49:46, 11.91s/it]               "
          ]
        },
        {
          "name": "stdout",
          "output_type": "stream",
          "text": [
            "Weights: (0.4, 0.8, 0.4, 0.4, 0.6000000000000001), F1 Score = 0.4826884184734767\n"
          ]
        },
        {
          "name": "stderr",
          "output_type": "stream",
          "text": [
            "Optimizing Weights: (0.4, 0.8, 0.4, 0.6000000000000001, 0.2):  46%|████▌     | 472/1024 [1:35:13<1:49:58, 11.95s/it]"
          ]
        },
        {
          "name": "stdout",
          "output_type": "stream",
          "text": [
            "Weights: (0.4, 0.8, 0.4, 0.4, 0.8), F1 Score = 0.4593021381717265\n"
          ]
        },
        {
          "name": "stderr",
          "output_type": "stream",
          "text": [
            "Optimizing Weights: (0.4, 0.8, 0.4, 0.6000000000000001, 0.4):  46%|████▌     | 473/1024 [1:35:25<1:50:16, 12.01s/it]"
          ]
        },
        {
          "name": "stdout",
          "output_type": "stream",
          "text": [
            "Weights: (0.4, 0.8, 0.4, 0.6000000000000001, 0.2), F1 Score = 0.6321065003605868\n"
          ]
        },
        {
          "name": "stderr",
          "output_type": "stream",
          "text": [
            "Optimizing Weights: (0.4, 0.8, 0.4, 0.6000000000000001, 0.6000000000000001):  46%|████▋     | 474/1024 [1:35:38<1:50:30, 12.05s/it]"
          ]
        },
        {
          "name": "stdout",
          "output_type": "stream",
          "text": [
            "Weights: (0.4, 0.8, 0.4, 0.6000000000000001, 0.4), F1 Score = 0.6053599991409397\n"
          ]
        },
        {
          "name": "stderr",
          "output_type": "stream",
          "text": [
            "Optimizing Weights: (0.4, 0.8, 0.4, 0.6000000000000001, 0.8):  46%|████▋     | 475/1024 [1:35:50<1:50:28, 12.07s/it]               "
          ]
        },
        {
          "name": "stdout",
          "output_type": "stream",
          "text": [
            "Weights: (0.4, 0.8, 0.4, 0.6000000000000001, 0.6000000000000001), F1 Score = 0.5609645460523308\n"
          ]
        },
        {
          "name": "stderr",
          "output_type": "stream",
          "text": [
            "Optimizing Weights: (0.4, 0.8, 0.4, 0.8, 0.2):  46%|████▋     | 476/1024 [1:36:02<1:50:24, 12.09s/it]               "
          ]
        },
        {
          "name": "stdout",
          "output_type": "stream",
          "text": [
            "Weights: (0.4, 0.8, 0.4, 0.6000000000000001, 0.8), F1 Score = 0.515981233653424\n"
          ]
        },
        {
          "name": "stderr",
          "output_type": "stream",
          "text": [
            "Optimizing Weights: (0.4, 0.8, 0.4, 0.8, 0.4):  47%|████▋     | 477/1024 [1:36:14<1:51:06, 12.19s/it]"
          ]
        },
        {
          "name": "stdout",
          "output_type": "stream",
          "text": [
            "Weights: (0.4, 0.8, 0.4, 0.8, 0.2), F1 Score = 0.6588278439637919\n"
          ]
        },
        {
          "name": "stderr",
          "output_type": "stream",
          "text": [
            "Optimizing Weights: (0.4, 0.8, 0.4, 0.8, 0.6000000000000001):  47%|████▋     | 478/1024 [1:36:26<1:49:32, 12.04s/it]"
          ]
        },
        {
          "name": "stdout",
          "output_type": "stream",
          "text": [
            "Weights: (0.4, 0.8, 0.4, 0.8, 0.4), F1 Score = 0.6453760786443898\n"
          ]
        },
        {
          "name": "stderr",
          "output_type": "stream",
          "text": [
            "Optimizing Weights: (0.4, 0.8, 0.4, 0.8, 0.8):  47%|████▋     | 479/1024 [1:36:38<1:48:27, 11.94s/it]               "
          ]
        },
        {
          "name": "stdout",
          "output_type": "stream",
          "text": [
            "Weights: (0.4, 0.8, 0.4, 0.8, 0.6000000000000001), F1 Score = 0.627386209286887\n"
          ]
        },
        {
          "name": "stderr",
          "output_type": "stream",
          "text": [
            "Optimizing Weights: (0.4, 0.8, 0.6000000000000001, 0.2, 0.2):  47%|████▋     | 480/1024 [1:36:50<1:49:20, 12.06s/it]"
          ]
        },
        {
          "name": "stdout",
          "output_type": "stream",
          "text": [
            "Weights: (0.4, 0.8, 0.4, 0.8, 0.8), F1 Score = 0.5913011058184852\n"
          ]
        },
        {
          "name": "stderr",
          "output_type": "stream",
          "text": [
            "Optimizing Weights: (0.4, 0.8, 0.6000000000000001, 0.2, 0.4):  47%|████▋     | 481/1024 [1:37:02<1:49:07, 12.06s/it]"
          ]
        },
        {
          "name": "stdout",
          "output_type": "stream",
          "text": [
            "Weights: (0.4, 0.8, 0.6000000000000001, 0.2, 0.2), F1 Score = 0.5604272357463846\n"
          ]
        },
        {
          "name": "stderr",
          "output_type": "stream",
          "text": [
            "Optimizing Weights: (0.4, 0.8, 0.6000000000000001, 0.2, 0.6000000000000001):  47%|████▋     | 482/1024 [1:37:14<1:49:30, 12.12s/it]"
          ]
        },
        {
          "name": "stdout",
          "output_type": "stream",
          "text": [
            "Weights: (0.4, 0.8, 0.6000000000000001, 0.2, 0.4), F1 Score = 0.5189037269644037\n"
          ]
        },
        {
          "name": "stderr",
          "output_type": "stream",
          "text": [
            "Optimizing Weights: (0.4, 0.8, 0.6000000000000001, 0.2, 0.8):  47%|████▋     | 483/1024 [1:37:27<1:49:59, 12.20s/it]               "
          ]
        },
        {
          "name": "stdout",
          "output_type": "stream",
          "text": [
            "Weights: (0.4, 0.8, 0.6000000000000001, 0.2, 0.6000000000000001), F1 Score = 0.4829001609959775\n"
          ]
        },
        {
          "name": "stderr",
          "output_type": "stream",
          "text": [
            "Optimizing Weights: (0.4, 0.8, 0.6000000000000001, 0.4, 0.2):  47%|████▋     | 484/1024 [1:37:39<1:50:02, 12.23s/it]"
          ]
        },
        {
          "name": "stdout",
          "output_type": "stream",
          "text": [
            "Weights: (0.4, 0.8, 0.6000000000000001, 0.2, 0.8), F1 Score = 0.4561942151855377\n"
          ]
        },
        {
          "name": "stderr",
          "output_type": "stream",
          "text": [
            "Optimizing Weights: (0.4, 0.8, 0.6000000000000001, 0.4, 0.4):  47%|████▋     | 485/1024 [1:37:51<1:48:19, 12.06s/it]"
          ]
        },
        {
          "name": "stdout",
          "output_type": "stream",
          "text": [
            "Weights: (0.4, 0.8, 0.6000000000000001, 0.4, 0.2), F1 Score = 0.6202870781915726\n"
          ]
        },
        {
          "name": "stderr",
          "output_type": "stream",
          "text": [
            "Optimizing Weights: (0.4, 0.8, 0.6000000000000001, 0.4, 0.6000000000000001):  47%|████▋     | 486/1024 [1:38:02<1:46:50, 11.92s/it]"
          ]
        },
        {
          "name": "stdout",
          "output_type": "stream",
          "text": [
            "Weights: (0.4, 0.8, 0.6000000000000001, 0.4, 0.4), F1 Score = 0.58984520123839\n"
          ]
        },
        {
          "name": "stderr",
          "output_type": "stream",
          "text": [
            "Optimizing Weights: (0.4, 0.8, 0.6000000000000001, 0.4, 0.8):  48%|████▊     | 487/1024 [1:38:15<1:47:51, 12.05s/it]               "
          ]
        },
        {
          "name": "stdout",
          "output_type": "stream",
          "text": [
            "Weights: (0.4, 0.8, 0.6000000000000001, 0.4, 0.6000000000000001), F1 Score = 0.540094233210247\n"
          ]
        },
        {
          "name": "stderr",
          "output_type": "stream",
          "text": [
            "Optimizing Weights: (0.4, 0.8, 0.6000000000000001, 0.6000000000000001, 0.2):  48%|████▊     | 488/1024 [1:38:27<1:49:44, 12.28s/it]"
          ]
        },
        {
          "name": "stdout",
          "output_type": "stream",
          "text": [
            "Weights: (0.4, 0.8, 0.6000000000000001, 0.4, 0.8), F1 Score = 0.5029798520347939\n"
          ]
        },
        {
          "name": "stderr",
          "output_type": "stream",
          "text": [
            "Optimizing Weights: (0.4, 0.8, 0.6000000000000001, 0.6000000000000001, 0.4):  48%|████▊     | 489/1024 [1:38:40<1:51:13, 12.47s/it]"
          ]
        },
        {
          "name": "stdout",
          "output_type": "stream",
          "text": [
            "Weights: (0.4, 0.8, 0.6000000000000001, 0.6000000000000001, 0.2), F1 Score = 0.6492625174153523\n"
          ]
        },
        {
          "name": "stderr",
          "output_type": "stream",
          "text": [
            "Optimizing Weights: (0.4, 0.8, 0.6000000000000001, 0.6000000000000001, 0.6000000000000001):  48%|████▊     | 490/1024 [1:38:53<1:51:48, 12.56s/it]"
          ]
        },
        {
          "name": "stdout",
          "output_type": "stream",
          "text": [
            "Weights: (0.4, 0.8, 0.6000000000000001, 0.6000000000000001, 0.4), F1 Score = 0.6342048465530021\n"
          ]
        },
        {
          "name": "stderr",
          "output_type": "stream",
          "text": [
            "Optimizing Weights: (0.4, 0.8, 0.6000000000000001, 0.6000000000000001, 0.8):  48%|████▊     | 491/1024 [1:39:06<1:51:38, 12.57s/it]               "
          ]
        },
        {
          "name": "stdout",
          "output_type": "stream",
          "text": [
            "Weights: (0.4, 0.8, 0.6000000000000001, 0.6000000000000001, 0.6000000000000001), F1 Score = 0.6117913531123937\n"
          ]
        },
        {
          "name": "stderr",
          "output_type": "stream",
          "text": [
            "Optimizing Weights: (0.4, 0.8, 0.6000000000000001, 0.8, 0.2):  48%|████▊     | 492/1024 [1:39:18<1:51:50, 12.61s/it]               "
          ]
        },
        {
          "name": "stdout",
          "output_type": "stream",
          "text": [
            "Weights: (0.4, 0.8, 0.6000000000000001, 0.6000000000000001, 0.8), F1 Score = 0.5797053343397229\n"
          ]
        },
        {
          "name": "stderr",
          "output_type": "stream",
          "text": [
            "Optimizing Weights: (0.4, 0.8, 0.6000000000000001, 0.8, 0.4):  48%|████▊     | 493/1024 [1:39:31<1:51:21, 12.58s/it]"
          ]
        },
        {
          "name": "stdout",
          "output_type": "stream",
          "text": [
            "Weights: (0.4, 0.8, 0.6000000000000001, 0.8, 0.2), F1 Score = 0.660651117477443\n"
          ]
        },
        {
          "name": "stderr",
          "output_type": "stream",
          "text": [
            "Optimizing Weights: (0.4, 0.8, 0.6000000000000001, 0.8, 0.6000000000000001):  48%|████▊     | 494/1024 [1:39:42<1:48:18, 12.26s/it]"
          ]
        },
        {
          "name": "stdout",
          "output_type": "stream",
          "text": [
            "Weights: (0.4, 0.8, 0.6000000000000001, 0.8, 0.4), F1 Score = 0.6572805916491249\n"
          ]
        },
        {
          "name": "stderr",
          "output_type": "stream",
          "text": [
            "Optimizing Weights: (0.4, 0.8, 0.6000000000000001, 0.8, 0.8):  48%|████▊     | 495/1024 [1:39:54<1:46:49, 12.12s/it]               "
          ]
        },
        {
          "name": "stdout",
          "output_type": "stream",
          "text": [
            "Weights: (0.4, 0.8, 0.6000000000000001, 0.8, 0.6000000000000001), F1 Score = 0.6439749983959376\n"
          ]
        },
        {
          "name": "stderr",
          "output_type": "stream",
          "text": [
            "Optimizing Weights: (0.4, 0.8, 0.8, 0.2, 0.2):  48%|████▊     | 496/1024 [1:40:07<1:47:11, 12.18s/it]               "
          ]
        },
        {
          "name": "stdout",
          "output_type": "stream",
          "text": [
            "Weights: (0.4, 0.8, 0.6000000000000001, 0.8, 0.8), F1 Score = 0.6278073023658501\n"
          ]
        },
        {
          "name": "stderr",
          "output_type": "stream",
          "text": [
            "Optimizing Weights: (0.4, 0.8, 0.8, 0.2, 0.4):  49%|████▊     | 497/1024 [1:40:19<1:47:36, 12.25s/it]"
          ]
        },
        {
          "name": "stdout",
          "output_type": "stream",
          "text": [
            "Weights: (0.4, 0.8, 0.8, 0.2, 0.2), F1 Score = 0.6205183623671856\n"
          ]
        },
        {
          "name": "stderr",
          "output_type": "stream",
          "text": [
            "Optimizing Weights: (0.4, 0.8, 0.8, 0.2, 0.6000000000000001):  49%|████▊     | 498/1024 [1:40:31<1:47:30, 12.26s/it]"
          ]
        },
        {
          "name": "stdout",
          "output_type": "stream",
          "text": [
            "Weights: (0.4, 0.8, 0.8, 0.2, 0.4), F1 Score = 0.5870659246883855\n"
          ]
        },
        {
          "name": "stderr",
          "output_type": "stream",
          "text": [
            "Optimizing Weights: (0.4, 0.8, 0.8, 0.2, 0.8):  49%|████▊     | 499/1024 [1:40:43<1:47:17, 12.26s/it]               "
          ]
        },
        {
          "name": "stdout",
          "output_type": "stream",
          "text": [
            "Weights: (0.4, 0.8, 0.8, 0.2, 0.6000000000000001), F1 Score = 0.5415248670634323\n"
          ]
        },
        {
          "name": "stderr",
          "output_type": "stream",
          "text": [
            "Optimizing Weights: (0.4, 0.8, 0.8, 0.4, 0.2):  49%|████▉     | 500/1024 [1:40:56<1:46:40, 12.21s/it]"
          ]
        },
        {
          "name": "stdout",
          "output_type": "stream",
          "text": [
            "Weights: (0.4, 0.8, 0.8, 0.2, 0.8), F1 Score = 0.5070505169454314\n"
          ]
        },
        {
          "name": "stderr",
          "output_type": "stream",
          "text": [
            "Optimizing Weights: (0.4, 0.8, 0.8, 0.4, 0.4):  49%|████▉     | 501/1024 [1:41:08<1:45:42, 12.13s/it]"
          ]
        },
        {
          "name": "stdout",
          "output_type": "stream",
          "text": [
            "Weights: (0.4, 0.8, 0.8, 0.4, 0.2), F1 Score = 0.6415384234749709\n"
          ]
        },
        {
          "name": "stderr",
          "output_type": "stream",
          "text": [
            "Optimizing Weights: (0.4, 0.8, 0.8, 0.4, 0.6000000000000001):  49%|████▉     | 502/1024 [1:41:19<1:43:31, 11.90s/it]"
          ]
        },
        {
          "name": "stdout",
          "output_type": "stream",
          "text": [
            "Weights: (0.4, 0.8, 0.8, 0.4, 0.4), F1 Score = 0.6267515442719465\n"
          ]
        },
        {
          "name": "stderr",
          "output_type": "stream",
          "text": [
            "Optimizing Weights: (0.4, 0.8, 0.8, 0.4, 0.8):  49%|████▉     | 503/1024 [1:41:31<1:43:43, 11.95s/it]               "
          ]
        },
        {
          "name": "stdout",
          "output_type": "stream",
          "text": [
            "Weights: (0.4, 0.8, 0.8, 0.4, 0.6000000000000001), F1 Score = 0.6046354612981382\n"
          ]
        },
        {
          "name": "stderr",
          "output_type": "stream",
          "text": [
            "Optimizing Weights: (0.4, 0.8, 0.8, 0.6000000000000001, 0.2):  49%|████▉     | 504/1024 [1:41:43<1:44:22, 12.04s/it]"
          ]
        },
        {
          "name": "stdout",
          "output_type": "stream",
          "text": [
            "Weights: (0.4, 0.8, 0.8, 0.4, 0.8), F1 Score = 0.5669425021680958\n"
          ]
        },
        {
          "name": "stderr",
          "output_type": "stream",
          "text": [
            "Optimizing Weights: (0.4, 0.8, 0.8, 0.6000000000000001, 0.4):  49%|████▉     | 505/1024 [1:41:55<1:44:21, 12.06s/it]"
          ]
        },
        {
          "name": "stdout",
          "output_type": "stream",
          "text": [
            "Weights: (0.4, 0.8, 0.8, 0.6000000000000001, 0.2), F1 Score = 0.6577690354066033\n"
          ]
        },
        {
          "name": "stderr",
          "output_type": "stream",
          "text": [
            "Optimizing Weights: (0.4, 0.8, 0.8, 0.6000000000000001, 0.6000000000000001):  49%|████▉     | 506/1024 [1:42:08<1:44:31, 12.11s/it]"
          ]
        },
        {
          "name": "stdout",
          "output_type": "stream",
          "text": [
            "Weights: (0.4, 0.8, 0.8, 0.6000000000000001, 0.4), F1 Score = 0.643451239179361\n"
          ]
        },
        {
          "name": "stderr",
          "output_type": "stream",
          "text": [
            "Optimizing Weights: (0.4, 0.8, 0.8, 0.6000000000000001, 0.8):  50%|████▉     | 507/1024 [1:42:20<1:44:37, 12.14s/it]               "
          ]
        },
        {
          "name": "stdout",
          "output_type": "stream",
          "text": [
            "Weights: (0.4, 0.8, 0.8, 0.6000000000000001, 0.6000000000000001), F1 Score = 0.6357388592931948\n"
          ]
        },
        {
          "name": "stderr",
          "output_type": "stream",
          "text": [
            "Optimizing Weights: (0.4, 0.8, 0.8, 0.8, 0.2):  50%|████▉     | 508/1024 [1:42:31<1:43:07, 11.99s/it]               "
          ]
        },
        {
          "name": "stdout",
          "output_type": "stream",
          "text": [
            "Weights: (0.4, 0.8, 0.8, 0.6000000000000001, 0.8), F1 Score = 0.6144148764463914\n"
          ]
        },
        {
          "name": "stderr",
          "output_type": "stream",
          "text": [
            "Optimizing Weights: (0.4, 0.8, 0.8, 0.8, 0.4):  50%|████▉     | 509/1024 [1:42:43<1:41:55, 11.87s/it]"
          ]
        },
        {
          "name": "stdout",
          "output_type": "stream",
          "text": [
            "Weights: (0.4, 0.8, 0.8, 0.8, 0.2), F1 Score = 0.6641036311200523\n"
          ]
        },
        {
          "name": "stderr",
          "output_type": "stream",
          "text": [
            "Optimizing Weights: (0.4, 0.8, 0.8, 0.8, 0.6000000000000001):  50%|████▉     | 510/1024 [1:42:55<1:42:10, 11.93s/it]"
          ]
        },
        {
          "name": "stdout",
          "output_type": "stream",
          "text": [
            "Weights: (0.4, 0.8, 0.8, 0.8, 0.4), F1 Score = 0.6600862473347548\n"
          ]
        },
        {
          "name": "stderr",
          "output_type": "stream",
          "text": [
            "Optimizing Weights: (0.4, 0.8, 0.8, 0.8, 0.8):  50%|████▉     | 511/1024 [1:43:07<1:42:29, 11.99s/it]               "
          ]
        },
        {
          "name": "stdout",
          "output_type": "stream",
          "text": [
            "Weights: (0.4, 0.8, 0.8, 0.8, 0.6000000000000001), F1 Score = 0.6538318586514669\n"
          ]
        },
        {
          "name": "stderr",
          "output_type": "stream",
          "text": [
            "Optimizing Weights: (0.6000000000000001, 0.2, 0.2, 0.2, 0.2):  50%|█████     | 512/1024 [1:43:19<1:42:37, 12.03s/it]"
          ]
        },
        {
          "name": "stdout",
          "output_type": "stream",
          "text": [
            "Weights: (0.4, 0.8, 0.8, 0.8, 0.8), F1 Score = 0.6409822318262093\n"
          ]
        },
        {
          "name": "stderr",
          "output_type": "stream",
          "text": [
            "Optimizing Weights: (0.6000000000000001, 0.2, 0.2, 0.2, 0.4):  50%|█████     | 513/1024 [1:43:32<1:43:00, 12.09s/it]"
          ]
        },
        {
          "name": "stdout",
          "output_type": "stream",
          "text": [
            "Weights: (0.6000000000000001, 0.2, 0.2, 0.2, 0.2), F1 Score = 0.5243356449252344\n"
          ]
        },
        {
          "name": "stderr",
          "output_type": "stream",
          "text": [
            "Optimizing Weights: (0.6000000000000001, 0.2, 0.2, 0.2, 0.6000000000000001):  50%|█████     | 514/1024 [1:43:44<1:44:06, 12.25s/it]"
          ]
        },
        {
          "name": "stdout",
          "output_type": "stream",
          "text": [
            "Weights: (0.6000000000000001, 0.2, 0.2, 0.2, 0.4), F1 Score = 0.4970917482915006\n"
          ]
        },
        {
          "name": "stderr",
          "output_type": "stream",
          "text": [
            "Optimizing Weights: (0.6000000000000001, 0.2, 0.2, 0.2, 0.8):  50%|█████     | 515/1024 [1:43:56<1:43:22, 12.18s/it]               "
          ]
        },
        {
          "name": "stdout",
          "output_type": "stream",
          "text": [
            "Weights: (0.6000000000000001, 0.2, 0.2, 0.2, 0.6000000000000001), F1 Score = 0.44649526759856484\n"
          ]
        },
        {
          "name": "stderr",
          "output_type": "stream",
          "text": [
            "Optimizing Weights: (0.6000000000000001, 0.2, 0.2, 0.4, 0.2):  50%|█████     | 516/1024 [1:44:08<1:41:35, 12.00s/it]"
          ]
        },
        {
          "name": "stdout",
          "output_type": "stream",
          "text": [
            "Weights: (0.6000000000000001, 0.2, 0.2, 0.2, 0.8), F1 Score = 0.40105754344187966\n"
          ]
        },
        {
          "name": "stderr",
          "output_type": "stream",
          "text": [
            "Optimizing Weights: (0.6000000000000001, 0.2, 0.2, 0.4, 0.4):  50%|█████     | 517/1024 [1:44:19<1:40:22, 11.88s/it]"
          ]
        },
        {
          "name": "stdout",
          "output_type": "stream",
          "text": [
            "Weights: (0.6000000000000001, 0.2, 0.2, 0.4, 0.2), F1 Score = 0.6044230395089163\n"
          ]
        },
        {
          "name": "stderr",
          "output_type": "stream",
          "text": [
            "Optimizing Weights: (0.6000000000000001, 0.2, 0.2, 0.4, 0.6000000000000001):  51%|█████     | 518/1024 [1:44:32<1:40:56, 11.97s/it]"
          ]
        },
        {
          "name": "stdout",
          "output_type": "stream",
          "text": [
            "Weights: (0.6000000000000001, 0.2, 0.2, 0.4, 0.4), F1 Score = 0.5409344371429334\n"
          ]
        },
        {
          "name": "stderr",
          "output_type": "stream",
          "text": [
            "Optimizing Weights: (0.6000000000000001, 0.2, 0.2, 0.4, 0.8):  51%|█████     | 519/1024 [1:44:44<1:41:15, 12.03s/it]               "
          ]
        },
        {
          "name": "stdout",
          "output_type": "stream",
          "text": [
            "Weights: (0.6000000000000001, 0.2, 0.2, 0.4, 0.6000000000000001), F1 Score = 0.5140202926255423\n"
          ]
        },
        {
          "name": "stderr",
          "output_type": "stream",
          "text": [
            "Optimizing Weights: (0.6000000000000001, 0.2, 0.2, 0.6000000000000001, 0.2):  51%|█████     | 520/1024 [1:44:56<1:41:00, 12.03s/it]"
          ]
        },
        {
          "name": "stdout",
          "output_type": "stream",
          "text": [
            "Weights: (0.6000000000000001, 0.2, 0.2, 0.4, 0.8), F1 Score = 0.4820836843005506\n"
          ]
        },
        {
          "name": "stderr",
          "output_type": "stream",
          "text": [
            "Optimizing Weights: (0.6000000000000001, 0.2, 0.2, 0.6000000000000001, 0.4):  51%|█████     | 521/1024 [1:45:08<1:41:14, 12.08s/it]"
          ]
        },
        {
          "name": "stdout",
          "output_type": "stream",
          "text": [
            "Weights: (0.6000000000000001, 0.2, 0.2, 0.6000000000000001, 0.2), F1 Score = 0.6558151986693045\n"
          ]
        },
        {
          "name": "stderr",
          "output_type": "stream",
          "text": [
            "Optimizing Weights: (0.6000000000000001, 0.2, 0.2, 0.6000000000000001, 0.6000000000000001):  51%|█████     | 522/1024 [1:45:20<1:41:48, 12.17s/it]"
          ]
        },
        {
          "name": "stdout",
          "output_type": "stream",
          "text": [
            "Weights: (0.6000000000000001, 0.2, 0.2, 0.6000000000000001, 0.4), F1 Score = 0.6422479614163012\n"
          ]
        },
        {
          "name": "stderr",
          "output_type": "stream",
          "text": [
            "Optimizing Weights: (0.6000000000000001, 0.2, 0.2, 0.6000000000000001, 0.8):  51%|█████     | 523/1024 [1:45:33<1:42:09, 12.23s/it]               "
          ]
        },
        {
          "name": "stdout",
          "output_type": "stream",
          "text": [
            "Weights: (0.6000000000000001, 0.2, 0.2, 0.6000000000000001, 0.6000000000000001), F1 Score = 0.594624027484557\n"
          ]
        },
        {
          "name": "stderr",
          "output_type": "stream",
          "text": [
            "Optimizing Weights: (0.6000000000000001, 0.2, 0.2, 0.8, 0.2):  51%|█████     | 524/1024 [1:45:44<1:40:25, 12.05s/it]               "
          ]
        },
        {
          "name": "stdout",
          "output_type": "stream",
          "text": [
            "Weights: (0.6000000000000001, 0.2, 0.2, 0.6000000000000001, 0.8), F1 Score = 0.5320839832062293\n"
          ]
        },
        {
          "name": "stderr",
          "output_type": "stream",
          "text": [
            "Optimizing Weights: (0.6000000000000001, 0.2, 0.2, 0.8, 0.4):  51%|█████▏    | 525/1024 [1:45:56<1:39:27, 11.96s/it]"
          ]
        },
        {
          "name": "stdout",
          "output_type": "stream",
          "text": [
            "Weights: (0.6000000000000001, 0.2, 0.2, 0.8, 0.2), F1 Score = 0.6758746990980561\n"
          ]
        },
        {
          "name": "stderr",
          "output_type": "stream",
          "text": [
            "Optimizing Weights: (0.6000000000000001, 0.2, 0.2, 0.8, 0.6000000000000001):  51%|█████▏    | 526/1024 [1:46:09<1:40:42, 12.13s/it]"
          ]
        },
        {
          "name": "stdout",
          "output_type": "stream",
          "text": [
            "Weights: (0.6000000000000001, 0.2, 0.2, 0.8, 0.4), F1 Score = 0.6664609862050671\n"
          ]
        },
        {
          "name": "stderr",
          "output_type": "stream",
          "text": [
            "Optimizing Weights: (0.6000000000000001, 0.2, 0.2, 0.8, 0.8):  51%|█████▏    | 527/1024 [1:46:21<1:41:17, 12.23s/it]               "
          ]
        },
        {
          "name": "stdout",
          "output_type": "stream",
          "text": [
            "Weights: (0.6000000000000001, 0.2, 0.2, 0.8, 0.6000000000000001), F1 Score = 0.6501339808818994\n"
          ]
        },
        {
          "name": "stderr",
          "output_type": "stream",
          "text": [
            "Optimizing Weights: (0.6000000000000001, 0.2, 0.4, 0.2, 0.2):  52%|█████▏    | 528/1024 [1:46:33<1:41:00, 12.22s/it]"
          ]
        },
        {
          "name": "stdout",
          "output_type": "stream",
          "text": [
            "Weights: (0.6000000000000001, 0.2, 0.2, 0.8, 0.8), F1 Score = 0.6309363432635133\n"
          ]
        },
        {
          "name": "stderr",
          "output_type": "stream",
          "text": [
            "Optimizing Weights: (0.6000000000000001, 0.2, 0.4, 0.2, 0.4):  52%|█████▏    | 529/1024 [1:46:45<1:40:32, 12.19s/it]"
          ]
        },
        {
          "name": "stdout",
          "output_type": "stream",
          "text": [
            "Weights: (0.6000000000000001, 0.2, 0.4, 0.2, 0.2), F1 Score = 0.5914670372033518\n"
          ]
        },
        {
          "name": "stderr",
          "output_type": "stream",
          "text": [
            "Optimizing Weights: (0.6000000000000001, 0.2, 0.4, 0.2, 0.6000000000000001):  52%|█████▏    | 530/1024 [1:46:58<1:40:27, 12.20s/it]"
          ]
        },
        {
          "name": "stdout",
          "output_type": "stream",
          "text": [
            "Weights: (0.6000000000000001, 0.2, 0.4, 0.2, 0.4), F1 Score = 0.5292946394716189\n"
          ]
        },
        {
          "name": "stderr",
          "output_type": "stream",
          "text": [
            "Optimizing Weights: (0.6000000000000001, 0.2, 0.4, 0.2, 0.8):  52%|█████▏    | 531/1024 [1:47:10<1:40:07, 12.18s/it]               "
          ]
        },
        {
          "name": "stdout",
          "output_type": "stream",
          "text": [
            "Weights: (0.6000000000000001, 0.2, 0.4, 0.2, 0.6000000000000001), F1 Score = 0.5086461360593327\n"
          ]
        },
        {
          "name": "stderr",
          "output_type": "stream",
          "text": [
            "Optimizing Weights: (0.6000000000000001, 0.2, 0.4, 0.4, 0.2):  52%|█████▏    | 532/1024 [1:47:22<1:39:03, 12.08s/it]"
          ]
        },
        {
          "name": "stdout",
          "output_type": "stream",
          "text": [
            "Weights: (0.6000000000000001, 0.2, 0.4, 0.2, 0.8), F1 Score = 0.4662953596527491\n"
          ]
        },
        {
          "name": "stderr",
          "output_type": "stream",
          "text": [
            "Optimizing Weights: (0.6000000000000001, 0.2, 0.4, 0.4, 0.4):  52%|█████▏    | 533/1024 [1:47:33<1:37:30, 11.91s/it]"
          ]
        },
        {
          "name": "stdout",
          "output_type": "stream",
          "text": [
            "Weights: (0.6000000000000001, 0.2, 0.4, 0.4, 0.2), F1 Score = 0.6332430671761456\n"
          ]
        },
        {
          "name": "stderr",
          "output_type": "stream",
          "text": [
            "Optimizing Weights: (0.6000000000000001, 0.2, 0.4, 0.4, 0.6000000000000001):  52%|█████▏    | 534/1024 [1:47:45<1:37:49, 11.98s/it]"
          ]
        },
        {
          "name": "stdout",
          "output_type": "stream",
          "text": [
            "Weights: (0.6000000000000001, 0.2, 0.4, 0.4, 0.4), F1 Score = 0.6068877032520326\n"
          ]
        },
        {
          "name": "stderr",
          "output_type": "stream",
          "text": [
            "Optimizing Weights: (0.6000000000000001, 0.2, 0.4, 0.4, 0.8):  52%|█████▏    | 535/1024 [1:47:57<1:38:10, 12.05s/it]               "
          ]
        },
        {
          "name": "stdout",
          "output_type": "stream",
          "text": [
            "Weights: (0.6000000000000001, 0.2, 0.4, 0.4, 0.6000000000000001), F1 Score = 0.568517338995046\n"
          ]
        },
        {
          "name": "stderr",
          "output_type": "stream",
          "text": [
            "Optimizing Weights: (0.6000000000000001, 0.2, 0.4, 0.6000000000000001, 0.2):  52%|█████▏    | 536/1024 [1:48:09<1:38:01, 12.05s/it]"
          ]
        },
        {
          "name": "stdout",
          "output_type": "stream",
          "text": [
            "Weights: (0.6000000000000001, 0.2, 0.4, 0.4, 0.8), F1 Score = 0.517820617851701\n"
          ]
        },
        {
          "name": "stderr",
          "output_type": "stream",
          "text": [
            "Optimizing Weights: (0.6000000000000001, 0.2, 0.4, 0.6000000000000001, 0.4):  52%|█████▏    | 537/1024 [1:48:22<1:38:26, 12.13s/it]"
          ]
        },
        {
          "name": "stdout",
          "output_type": "stream",
          "text": [
            "Weights: (0.6000000000000001, 0.2, 0.4, 0.6000000000000001, 0.2), F1 Score = 0.6619714753822662\n"
          ]
        },
        {
          "name": "stderr",
          "output_type": "stream",
          "text": [
            "Optimizing Weights: (0.6000000000000001, 0.2, 0.4, 0.6000000000000001, 0.6000000000000001):  53%|█████▎    | 538/1024 [1:48:34<1:38:17, 12.13s/it]"
          ]
        },
        {
          "name": "stdout",
          "output_type": "stream",
          "text": [
            "Weights: (0.6000000000000001, 0.2, 0.4, 0.6000000000000001, 0.4), F1 Score = 0.6497601462079772\n"
          ]
        },
        {
          "name": "stderr",
          "output_type": "stream",
          "text": [
            "Optimizing Weights: (0.6000000000000001, 0.2, 0.4, 0.6000000000000001, 0.8):  53%|█████▎    | 539/1024 [1:48:46<1:37:30, 12.06s/it]               "
          ]
        },
        {
          "name": "stdout",
          "output_type": "stream",
          "text": [
            "Weights: (0.6000000000000001, 0.2, 0.4, 0.6000000000000001, 0.6000000000000001), F1 Score = 0.6237576606875934\n"
          ]
        },
        {
          "name": "stderr",
          "output_type": "stream",
          "text": [
            "Optimizing Weights: (0.6000000000000001, 0.2, 0.4, 0.8, 0.2):  53%|█████▎    | 540/1024 [1:48:57<1:36:06, 11.91s/it]               "
          ]
        },
        {
          "name": "stdout",
          "output_type": "stream",
          "text": [
            "Weights: (0.6000000000000001, 0.2, 0.4, 0.6000000000000001, 0.8), F1 Score = 0.5985940646563153\n"
          ]
        },
        {
          "name": "stderr",
          "output_type": "stream",
          "text": [
            "Optimizing Weights: (0.6000000000000001, 0.2, 0.4, 0.8, 0.4):  53%|█████▎    | 541/1024 [1:49:09<1:36:12, 11.95s/it]"
          ]
        },
        {
          "name": "stdout",
          "output_type": "stream",
          "text": [
            "Weights: (0.6000000000000001, 0.2, 0.4, 0.8, 0.2), F1 Score = 0.6769324647512452\n"
          ]
        },
        {
          "name": "stderr",
          "output_type": "stream",
          "text": [
            "Optimizing Weights: (0.6000000000000001, 0.2, 0.4, 0.8, 0.6000000000000001):  53%|█████▎    | 542/1024 [1:49:22<1:36:46, 12.05s/it]"
          ]
        },
        {
          "name": "stdout",
          "output_type": "stream",
          "text": [
            "Weights: (0.6000000000000001, 0.2, 0.4, 0.8, 0.4), F1 Score = 0.6692798532600688\n"
          ]
        },
        {
          "name": "stderr",
          "output_type": "stream",
          "text": [
            "Optimizing Weights: (0.6000000000000001, 0.2, 0.4, 0.8, 0.8):  53%|█████▎    | 543/1024 [1:49:34<1:36:54, 12.09s/it]               "
          ]
        },
        {
          "name": "stdout",
          "output_type": "stream",
          "text": [
            "Weights: (0.6000000000000001, 0.2, 0.4, 0.8, 0.6000000000000001), F1 Score = 0.6563963488009128\n"
          ]
        },
        {
          "name": "stderr",
          "output_type": "stream",
          "text": [
            "Optimizing Weights: (0.6000000000000001, 0.2, 0.6000000000000001, 0.2, 0.2):  53%|█████▎    | 544/1024 [1:49:46<1:37:33, 12.19s/it]"
          ]
        },
        {
          "name": "stdout",
          "output_type": "stream",
          "text": [
            "Weights: (0.6000000000000001, 0.2, 0.4, 0.8, 0.8), F1 Score = 0.641643458916667\n"
          ]
        },
        {
          "name": "stderr",
          "output_type": "stream",
          "text": [
            "Optimizing Weights: (0.6000000000000001, 0.2, 0.6000000000000001, 0.2, 0.4):  53%|█████▎    | 545/1024 [1:49:59<1:38:01, 12.28s/it]"
          ]
        },
        {
          "name": "stdout",
          "output_type": "stream",
          "text": [
            "Weights: (0.6000000000000001, 0.2, 0.6000000000000001, 0.2, 0.2), F1 Score = 0.6358034882854695\n"
          ]
        },
        {
          "name": "stderr",
          "output_type": "stream",
          "text": [
            "Optimizing Weights: (0.6000000000000001, 0.2, 0.6000000000000001, 0.2, 0.6000000000000001):  53%|█████▎    | 546/1024 [1:50:11<1:38:20, 12.34s/it]"
          ]
        },
        {
          "name": "stdout",
          "output_type": "stream",
          "text": [
            "Weights: (0.6000000000000001, 0.2, 0.6000000000000001, 0.2, 0.4), F1 Score = 0.6077070034849757\n"
          ]
        },
        {
          "name": "stderr",
          "output_type": "stream",
          "text": [
            "Optimizing Weights: (0.6000000000000001, 0.2, 0.6000000000000001, 0.2, 0.8):  53%|█████▎    | 547/1024 [1:50:24<1:38:04, 12.34s/it]               "
          ]
        },
        {
          "name": "stdout",
          "output_type": "stream",
          "text": [
            "Weights: (0.6000000000000001, 0.2, 0.6000000000000001, 0.2, 0.6000000000000001), F1 Score = 0.5667705491501477\n"
          ]
        },
        {
          "name": "stderr",
          "output_type": "stream",
          "text": [
            "Optimizing Weights: (0.6000000000000001, 0.2, 0.6000000000000001, 0.4, 0.2):  54%|█████▎    | 548/1024 [1:50:36<1:37:01, 12.23s/it]"
          ]
        },
        {
          "name": "stdout",
          "output_type": "stream",
          "text": [
            "Weights: (0.6000000000000001, 0.2, 0.6000000000000001, 0.2, 0.8), F1 Score = 0.5151973334477526\n"
          ]
        },
        {
          "name": "stderr",
          "output_type": "stream",
          "text": [
            "Optimizing Weights: (0.6000000000000001, 0.2, 0.6000000000000001, 0.4, 0.4):  54%|█████▎    | 549/1024 [1:50:48<1:37:13, 12.28s/it]"
          ]
        },
        {
          "name": "stdout",
          "output_type": "stream",
          "text": [
            "Weights: (0.6000000000000001, 0.2, 0.6000000000000001, 0.4, 0.2), F1 Score = 0.656065917545015\n"
          ]
        },
        {
          "name": "stderr",
          "output_type": "stream",
          "text": [
            "Optimizing Weights: (0.6000000000000001, 0.2, 0.6000000000000001, 0.4, 0.6000000000000001):  54%|█████▎    | 550/1024 [1:51:01<1:37:39, 12.36s/it]"
          ]
        },
        {
          "name": "stdout",
          "output_type": "stream",
          "text": [
            "Weights: (0.6000000000000001, 0.2, 0.6000000000000001, 0.4, 0.4), F1 Score = 0.6370443383514544\n"
          ]
        },
        {
          "name": "stderr",
          "output_type": "stream",
          "text": [
            "Optimizing Weights: (0.6000000000000001, 0.2, 0.6000000000000001, 0.4, 0.8):  54%|█████▍    | 551/1024 [1:51:13<1:37:36, 12.38s/it]               "
          ]
        },
        {
          "name": "stdout",
          "output_type": "stream",
          "text": [
            "Weights: (0.6000000000000001, 0.2, 0.6000000000000001, 0.4, 0.6000000000000001), F1 Score = 0.6133657771431398\n"
          ]
        },
        {
          "name": "stderr",
          "output_type": "stream",
          "text": [
            "Optimizing Weights: (0.6000000000000001, 0.2, 0.6000000000000001, 0.6000000000000001, 0.2):  54%|█████▍    | 552/1024 [1:51:26<1:37:46, 12.43s/it]"
          ]
        },
        {
          "name": "stdout",
          "output_type": "stream",
          "text": [
            "Weights: (0.6000000000000001, 0.2, 0.6000000000000001, 0.4, 0.8), F1 Score = 0.5876877729820139\n"
          ]
        },
        {
          "name": "stderr",
          "output_type": "stream",
          "text": [
            "Optimizing Weights: (0.6000000000000001, 0.2, 0.6000000000000001, 0.6000000000000001, 0.4):  54%|█████▍    | 553/1024 [1:51:38<1:37:24, 12.41s/it]"
          ]
        },
        {
          "name": "stdout",
          "output_type": "stream",
          "text": [
            "Weights: (0.6000000000000001, 0.2, 0.6000000000000001, 0.6000000000000001, 0.2), F1 Score = 0.6605740192170231\n"
          ]
        },
        {
          "name": "stderr",
          "output_type": "stream",
          "text": [
            "Optimizing Weights: (0.6000000000000001, 0.2, 0.6000000000000001, 0.6000000000000001, 0.6000000000000001):  54%|█████▍    | 554/1024 [1:51:50<1:37:03, 12.39s/it]"
          ]
        },
        {
          "name": "stdout",
          "output_type": "stream",
          "text": [
            "Weights: (0.6000000000000001, 0.2, 0.6000000000000001, 0.6000000000000001, 0.4), F1 Score = 0.6581353461564238\n"
          ]
        },
        {
          "name": "stderr",
          "output_type": "stream",
          "text": [
            "Optimizing Weights: (0.6000000000000001, 0.2, 0.6000000000000001, 0.6000000000000001, 0.8):  54%|█████▍    | 555/1024 [1:52:03<1:36:42, 12.37s/it]               "
          ]
        },
        {
          "name": "stdout",
          "output_type": "stream",
          "text": [
            "Weights: (0.6000000000000001, 0.2, 0.6000000000000001, 0.6000000000000001, 0.6000000000000001), F1 Score = 0.6480972247622532\n"
          ]
        },
        {
          "name": "stderr",
          "output_type": "stream",
          "text": [
            "Optimizing Weights: (0.6000000000000001, 0.2, 0.6000000000000001, 0.8, 0.2):  54%|█████▍    | 556/1024 [1:52:14<1:34:56, 12.17s/it]               "
          ]
        },
        {
          "name": "stdout",
          "output_type": "stream",
          "text": [
            "Weights: (0.6000000000000001, 0.2, 0.6000000000000001, 0.6000000000000001, 0.8), F1 Score = 0.6286695359281438\n"
          ]
        },
        {
          "name": "stderr",
          "output_type": "stream",
          "text": [
            "Optimizing Weights: (0.6000000000000001, 0.2, 0.6000000000000001, 0.8, 0.4):  54%|█████▍    | 557/1024 [1:52:26<1:34:43, 12.17s/it]"
          ]
        },
        {
          "name": "stdout",
          "output_type": "stream",
          "text": [
            "Weights: (0.6000000000000001, 0.2, 0.6000000000000001, 0.8, 0.2), F1 Score = 0.6714338129739406\n"
          ]
        },
        {
          "name": "stderr",
          "output_type": "stream",
          "text": [
            "Optimizing Weights: (0.6000000000000001, 0.2, 0.6000000000000001, 0.8, 0.6000000000000001):  54%|█████▍    | 558/1024 [1:52:39<1:35:19, 12.27s/it]"
          ]
        },
        {
          "name": "stdout",
          "output_type": "stream",
          "text": [
            "Weights: (0.6000000000000001, 0.2, 0.6000000000000001, 0.8, 0.4), F1 Score = 0.6686331190904526\n"
          ]
        },
        {
          "name": "stderr",
          "output_type": "stream",
          "text": [
            "Optimizing Weights: (0.6000000000000001, 0.2, 0.6000000000000001, 0.8, 0.8):  55%|█████▍    | 559/1024 [1:52:51<1:35:21, 12.30s/it]               "
          ]
        },
        {
          "name": "stdout",
          "output_type": "stream",
          "text": [
            "Weights: (0.6000000000000001, 0.2, 0.6000000000000001, 0.8, 0.6000000000000001), F1 Score = 0.6612211171334453\n"
          ]
        },
        {
          "name": "stderr",
          "output_type": "stream",
          "text": [
            "Optimizing Weights: (0.6000000000000001, 0.2, 0.8, 0.2, 0.2):  55%|█████▍    | 560/1024 [1:53:04<1:35:42, 12.38s/it]               "
          ]
        },
        {
          "name": "stdout",
          "output_type": "stream",
          "text": [
            "Weights: (0.6000000000000001, 0.2, 0.6000000000000001, 0.8, 0.8), F1 Score = 0.657760828569454\n"
          ]
        },
        {
          "name": "stderr",
          "output_type": "stream",
          "text": [
            "Optimizing Weights: (0.6000000000000001, 0.2, 0.8, 0.2, 0.4):  55%|█████▍    | 561/1024 [1:53:16<1:35:49, 12.42s/it]"
          ]
        },
        {
          "name": "stdout",
          "output_type": "stream",
          "text": [
            "Weights: (0.6000000000000001, 0.2, 0.8, 0.2, 0.2), F1 Score = 0.6617568695304746\n"
          ]
        },
        {
          "name": "stderr",
          "output_type": "stream",
          "text": [
            "Optimizing Weights: (0.6000000000000001, 0.2, 0.8, 0.2, 0.6000000000000001):  55%|█████▍    | 562/1024 [1:53:29<1:35:32, 12.41s/it]"
          ]
        },
        {
          "name": "stdout",
          "output_type": "stream",
          "text": [
            "Weights: (0.6000000000000001, 0.2, 0.8, 0.2, 0.4), F1 Score = 0.6431430150444146\n"
          ]
        },
        {
          "name": "stderr",
          "output_type": "stream",
          "text": [
            "Optimizing Weights: (0.6000000000000001, 0.2, 0.8, 0.2, 0.8):  55%|█████▍    | 563/1024 [1:53:41<1:34:55, 12.35s/it]               "
          ]
        },
        {
          "name": "stdout",
          "output_type": "stream",
          "text": [
            "Weights: (0.6000000000000001, 0.2, 0.8, 0.2, 0.6000000000000001), F1 Score = 0.6210627202197073\n"
          ]
        },
        {
          "name": "stderr",
          "output_type": "stream",
          "text": [
            "Optimizing Weights: (0.6000000000000001, 0.2, 0.8, 0.4, 0.2):  55%|█████▌    | 564/1024 [1:53:53<1:34:28, 12.32s/it]"
          ]
        },
        {
          "name": "stdout",
          "output_type": "stream",
          "text": [
            "Weights: (0.6000000000000001, 0.2, 0.8, 0.2, 0.8), F1 Score = 0.5931560762665414\n"
          ]
        },
        {
          "name": "stderr",
          "output_type": "stream",
          "text": [
            "Optimizing Weights: (0.6000000000000001, 0.2, 0.8, 0.4, 0.4):  55%|█████▌    | 565/1024 [1:54:05<1:33:35, 12.23s/it]"
          ]
        },
        {
          "name": "stdout",
          "output_type": "stream",
          "text": [
            "Weights: (0.6000000000000001, 0.2, 0.8, 0.4, 0.2), F1 Score = 0.6667741144446779\n"
          ]
        },
        {
          "name": "stderr",
          "output_type": "stream",
          "text": [
            "Optimizing Weights: (0.6000000000000001, 0.2, 0.8, 0.4, 0.6000000000000001):  55%|█████▌    | 566/1024 [1:54:18<1:33:59, 12.31s/it]"
          ]
        },
        {
          "name": "stdout",
          "output_type": "stream",
          "text": [
            "Weights: (0.6000000000000001, 0.2, 0.8, 0.4, 0.4), F1 Score = 0.6568684751446964\n"
          ]
        },
        {
          "name": "stderr",
          "output_type": "stream",
          "text": [
            "Optimizing Weights: (0.6000000000000001, 0.2, 0.8, 0.4, 0.8):  55%|█████▌    | 567/1024 [1:54:30<1:34:12, 12.37s/it]               "
          ]
        },
        {
          "name": "stdout",
          "output_type": "stream",
          "text": [
            "Weights: (0.6000000000000001, 0.2, 0.8, 0.4, 0.6000000000000001), F1 Score = 0.6403424025692354\n"
          ]
        },
        {
          "name": "stderr",
          "output_type": "stream",
          "text": [
            "Optimizing Weights: (0.6000000000000001, 0.2, 0.8, 0.6000000000000001, 0.2):  55%|█████▌    | 568/1024 [1:54:43<1:34:14, 12.40s/it]"
          ]
        },
        {
          "name": "stdout",
          "output_type": "stream",
          "text": [
            "Weights: (0.6000000000000001, 0.2, 0.8, 0.4, 0.8), F1 Score = 0.6201592612029505\n"
          ]
        },
        {
          "name": "stderr",
          "output_type": "stream",
          "text": [
            "Optimizing Weights: (0.6000000000000001, 0.2, 0.8, 0.6000000000000001, 0.4):  56%|█████▌    | 569/1024 [1:54:55<1:34:14, 12.43s/it]"
          ]
        },
        {
          "name": "stdout",
          "output_type": "stream",
          "text": [
            "Weights: (0.6000000000000001, 0.2, 0.8, 0.6000000000000001, 0.2), F1 Score = 0.6695953362518163\n"
          ]
        },
        {
          "name": "stderr",
          "output_type": "stream",
          "text": [
            "Optimizing Weights: (0.6000000000000001, 0.2, 0.8, 0.6000000000000001, 0.6000000000000001):  56%|█████▌    | 570/1024 [1:55:08<1:34:01, 12.43s/it]"
          ]
        },
        {
          "name": "stdout",
          "output_type": "stream",
          "text": [
            "Weights: (0.6000000000000001, 0.2, 0.8, 0.6000000000000001, 0.4), F1 Score = 0.6651821742749298\n"
          ]
        },
        {
          "name": "stderr",
          "output_type": "stream",
          "text": [
            "Optimizing Weights: (0.6000000000000001, 0.2, 0.8, 0.6000000000000001, 0.8):  56%|█████▌    | 571/1024 [1:55:20<1:33:17, 12.36s/it]               "
          ]
        },
        {
          "name": "stdout",
          "output_type": "stream",
          "text": [
            "Weights: (0.6000000000000001, 0.2, 0.8, 0.6000000000000001, 0.6000000000000001), F1 Score = 0.6587039579099053\n"
          ]
        },
        {
          "name": "stderr",
          "output_type": "stream",
          "text": [
            "Optimizing Weights: (0.6000000000000001, 0.2, 0.8, 0.8, 0.2):  56%|█████▌    | 572/1024 [1:55:32<1:31:42, 12.17s/it]               "
          ]
        },
        {
          "name": "stdout",
          "output_type": "stream",
          "text": [
            "Weights: (0.6000000000000001, 0.2, 0.8, 0.6000000000000001, 0.8), F1 Score = 0.6472912130410836\n"
          ]
        },
        {
          "name": "stderr",
          "output_type": "stream",
          "text": [
            "Optimizing Weights: (0.6000000000000001, 0.2, 0.8, 0.8, 0.4):  56%|█████▌    | 573/1024 [1:55:44<1:31:23, 12.16s/it]"
          ]
        },
        {
          "name": "stdout",
          "output_type": "stream",
          "text": [
            "Weights: (0.6000000000000001, 0.2, 0.8, 0.8, 0.2), F1 Score = 0.6692163030717085\n"
          ]
        },
        {
          "name": "stderr",
          "output_type": "stream",
          "text": [
            "Optimizing Weights: (0.6000000000000001, 0.2, 0.8, 0.8, 0.6000000000000001):  56%|█████▌    | 574/1024 [1:55:56<1:31:56, 12.26s/it]"
          ]
        },
        {
          "name": "stdout",
          "output_type": "stream",
          "text": [
            "Weights: (0.6000000000000001, 0.2, 0.8, 0.8, 0.4), F1 Score = 0.6677448727298233\n"
          ]
        },
        {
          "name": "stderr",
          "output_type": "stream",
          "text": [
            "Optimizing Weights: (0.6000000000000001, 0.2, 0.8, 0.8, 0.8):  56%|█████▌    | 575/1024 [1:56:09<1:31:59, 12.29s/it]               "
          ]
        },
        {
          "name": "stdout",
          "output_type": "stream",
          "text": [
            "Weights: (0.6000000000000001, 0.2, 0.8, 0.8, 0.6000000000000001), F1 Score = 0.6672142634419872\n"
          ]
        },
        {
          "name": "stderr",
          "output_type": "stream",
          "text": [
            "Optimizing Weights: (0.6000000000000001, 0.4, 0.2, 0.2, 0.2):  56%|█████▋    | 576/1024 [1:56:21<1:32:22, 12.37s/it]"
          ]
        },
        {
          "name": "stdout",
          "output_type": "stream",
          "text": [
            "Weights: (0.6000000000000001, 0.2, 0.8, 0.8, 0.8), F1 Score = 0.6644308384091877\n"
          ]
        },
        {
          "name": "stderr",
          "output_type": "stream",
          "text": [
            "Optimizing Weights: (0.6000000000000001, 0.4, 0.2, 0.2, 0.4):  56%|█████▋    | 577/1024 [1:56:34<1:32:42, 12.44s/it]"
          ]
        },
        {
          "name": "stdout",
          "output_type": "stream",
          "text": [
            "Weights: (0.6000000000000001, 0.4, 0.2, 0.2, 0.2), F1 Score = 0.5098097131534758\n"
          ]
        },
        {
          "name": "stderr",
          "output_type": "stream",
          "text": [
            "Optimizing Weights: (0.6000000000000001, 0.4, 0.2, 0.2, 0.6000000000000001):  56%|█████▋    | 578/1024 [1:56:46<1:32:13, 12.41s/it]"
          ]
        },
        {
          "name": "stdout",
          "output_type": "stream",
          "text": [
            "Weights: (0.6000000000000001, 0.4, 0.2, 0.2, 0.4), F1 Score = 0.4673418156077122\n"
          ]
        },
        {
          "name": "stderr",
          "output_type": "stream",
          "text": [
            "Optimizing Weights: (0.6000000000000001, 0.4, 0.2, 0.2, 0.8):  57%|█████▋    | 579/1024 [1:56:59<1:32:21, 12.45s/it]               "
          ]
        },
        {
          "name": "stdout",
          "output_type": "stream",
          "text": [
            "Weights: (0.6000000000000001, 0.4, 0.2, 0.2, 0.6000000000000001), F1 Score = 0.43081602853023215\n"
          ]
        },
        {
          "name": "stderr",
          "output_type": "stream",
          "text": [
            "Optimizing Weights: (0.6000000000000001, 0.4, 0.2, 0.4, 0.2):  57%|█████▋    | 580/1024 [1:57:11<1:31:18, 12.34s/it]"
          ]
        },
        {
          "name": "stdout",
          "output_type": "stream",
          "text": [
            "Weights: (0.6000000000000001, 0.4, 0.2, 0.2, 0.8), F1 Score = 0.37096129871771305\n"
          ]
        },
        {
          "name": "stderr",
          "output_type": "stream",
          "text": [
            "Optimizing Weights: (0.6000000000000001, 0.4, 0.2, 0.4, 0.4):  57%|█████▋    | 581/1024 [1:57:23<1:30:27, 12.25s/it]"
          ]
        },
        {
          "name": "stdout",
          "output_type": "stream",
          "text": [
            "Weights: (0.6000000000000001, 0.4, 0.2, 0.4, 0.2), F1 Score = 0.5447455006601348\n"
          ]
        },
        {
          "name": "stderr",
          "output_type": "stream",
          "text": [
            "Optimizing Weights: (0.6000000000000001, 0.4, 0.2, 0.4, 0.6000000000000001):  57%|█████▋    | 582/1024 [1:57:35<1:30:11, 12.24s/it]"
          ]
        },
        {
          "name": "stdout",
          "output_type": "stream",
          "text": [
            "Weights: (0.6000000000000001, 0.4, 0.2, 0.4, 0.4), F1 Score = 0.529817882173443\n"
          ]
        },
        {
          "name": "stderr",
          "output_type": "stream",
          "text": [
            "Optimizing Weights: (0.6000000000000001, 0.4, 0.2, 0.4, 0.8):  57%|█████▋    | 583/1024 [1:57:47<1:30:33, 12.32s/it]               "
          ]
        },
        {
          "name": "stdout",
          "output_type": "stream",
          "text": [
            "Weights: (0.6000000000000001, 0.4, 0.2, 0.4, 0.6000000000000001), F1 Score = 0.4935371718902454\n"
          ]
        },
        {
          "name": "stderr",
          "output_type": "stream",
          "text": [
            "Optimizing Weights: (0.6000000000000001, 0.4, 0.2, 0.6000000000000001, 0.2):  57%|█████▋    | 584/1024 [1:58:00<1:30:49, 12.38s/it]"
          ]
        },
        {
          "name": "stdout",
          "output_type": "stream",
          "text": [
            "Weights: (0.6000000000000001, 0.4, 0.2, 0.4, 0.8), F1 Score = 0.4534091705316545\n"
          ]
        },
        {
          "name": "stderr",
          "output_type": "stream",
          "text": [
            "Optimizing Weights: (0.6000000000000001, 0.4, 0.2, 0.6000000000000001, 0.4):  57%|█████▋    | 585/1024 [1:58:13<1:30:51, 12.42s/it]"
          ]
        },
        {
          "name": "stdout",
          "output_type": "stream",
          "text": [
            "Weights: (0.6000000000000001, 0.4, 0.2, 0.6000000000000001, 0.2), F1 Score = 0.6414185268091174\n"
          ]
        },
        {
          "name": "stderr",
          "output_type": "stream",
          "text": [
            "Optimizing Weights: (0.6000000000000001, 0.4, 0.2, 0.6000000000000001, 0.6000000000000001):  57%|█████▋    | 586/1024 [1:58:25<1:30:33, 12.40s/it]"
          ]
        },
        {
          "name": "stdout",
          "output_type": "stream",
          "text": [
            "Weights: (0.6000000000000001, 0.4, 0.2, 0.6000000000000001, 0.4), F1 Score = 0.5948459697529065\n"
          ]
        },
        {
          "name": "stderr",
          "output_type": "stream",
          "text": [
            "Optimizing Weights: (0.6000000000000001, 0.4, 0.2, 0.6000000000000001, 0.8):  57%|█████▋    | 587/1024 [1:58:37<1:30:10, 12.38s/it]               "
          ]
        },
        {
          "name": "stdout",
          "output_type": "stream",
          "text": [
            "Weights: (0.6000000000000001, 0.4, 0.2, 0.6000000000000001, 0.6000000000000001), F1 Score = 0.5424925443019738\n"
          ]
        },
        {
          "name": "stderr",
          "output_type": "stream",
          "text": [
            "Optimizing Weights: (0.6000000000000001, 0.4, 0.2, 0.8, 0.2):  57%|█████▋    | 588/1024 [1:58:50<1:30:08, 12.40s/it]               "
          ]
        },
        {
          "name": "stdout",
          "output_type": "stream",
          "text": [
            "Weights: (0.6000000000000001, 0.4, 0.2, 0.6000000000000001, 0.8), F1 Score = 0.5200697645681087\n"
          ]
        },
        {
          "name": "stderr",
          "output_type": "stream",
          "text": [
            "Optimizing Weights: (0.6000000000000001, 0.4, 0.2, 0.8, 0.4):  58%|█████▊    | 589/1024 [1:59:01<1:28:38, 12.23s/it]"
          ]
        },
        {
          "name": "stdout",
          "output_type": "stream",
          "text": [
            "Weights: (0.6000000000000001, 0.4, 0.2, 0.8, 0.2), F1 Score = 0.6662614503816794\n"
          ]
        },
        {
          "name": "stderr",
          "output_type": "stream",
          "text": [
            "Optimizing Weights: (0.6000000000000001, 0.4, 0.2, 0.8, 0.6000000000000001):  58%|█████▊    | 590/1024 [1:59:14<1:28:02, 12.17s/it]"
          ]
        },
        {
          "name": "stdout",
          "output_type": "stream",
          "text": [
            "Weights: (0.6000000000000001, 0.4, 0.2, 0.8, 0.4), F1 Score = 0.6534432921694573\n"
          ]
        },
        {
          "name": "stderr",
          "output_type": "stream",
          "text": [
            "Optimizing Weights: (0.6000000000000001, 0.4, 0.2, 0.8, 0.8):  58%|█████▊    | 591/1024 [1:59:26<1:28:37, 12.28s/it]               "
          ]
        },
        {
          "name": "stdout",
          "output_type": "stream",
          "text": [
            "Weights: (0.6000000000000001, 0.4, 0.2, 0.8, 0.6000000000000001), F1 Score = 0.6268581024298886\n"
          ]
        },
        {
          "name": "stderr",
          "output_type": "stream",
          "text": [
            "Optimizing Weights: (0.6000000000000001, 0.4, 0.4, 0.2, 0.2):  58%|█████▊    | 592/1024 [1:59:39<1:28:59, 12.36s/it]"
          ]
        },
        {
          "name": "stdout",
          "output_type": "stream",
          "text": [
            "Weights: (0.6000000000000001, 0.4, 0.2, 0.8, 0.8), F1 Score = 0.5844435143766562\n"
          ]
        },
        {
          "name": "stderr",
          "output_type": "stream",
          "text": [
            "Optimizing Weights: (0.6000000000000001, 0.4, 0.4, 0.2, 0.4):  58%|█████▊    | 593/1024 [1:59:51<1:28:38, 12.34s/it]"
          ]
        },
        {
          "name": "stdout",
          "output_type": "stream",
          "text": [
            "Weights: (0.6000000000000001, 0.4, 0.4, 0.2, 0.2), F1 Score = 0.5369113883660713\n"
          ]
        },
        {
          "name": "stderr",
          "output_type": "stream",
          "text": [
            "Optimizing Weights: (0.6000000000000001, 0.4, 0.4, 0.2, 0.6000000000000001):  58%|█████▊    | 594/1024 [2:00:03<1:28:29, 12.35s/it]"
          ]
        },
        {
          "name": "stdout",
          "output_type": "stream",
          "text": [
            "Weights: (0.6000000000000001, 0.4, 0.4, 0.2, 0.4), F1 Score = 0.516355246738514\n"
          ]
        },
        {
          "name": "stderr",
          "output_type": "stream",
          "text": [
            "Optimizing Weights: (0.6000000000000001, 0.4, 0.4, 0.2, 0.8):  58%|█████▊    | 595/1024 [2:00:16<1:28:28, 12.37s/it]               "
          ]
        },
        {
          "name": "stdout",
          "output_type": "stream",
          "text": [
            "Weights: (0.6000000000000001, 0.4, 0.4, 0.2, 0.6000000000000001), F1 Score = 0.47911096091761995\n"
          ]
        },
        {
          "name": "stderr",
          "output_type": "stream",
          "text": [
            "Optimizing Weights: (0.6000000000000001, 0.4, 0.4, 0.4, 0.2):  58%|█████▊    | 596/1024 [2:00:28<1:28:25, 12.40s/it]"
          ]
        },
        {
          "name": "stdout",
          "output_type": "stream",
          "text": [
            "Weights: (0.6000000000000001, 0.4, 0.4, 0.2, 0.8), F1 Score = 0.44679729245801836\n"
          ]
        },
        {
          "name": "stderr",
          "output_type": "stream",
          "text": [
            "Optimizing Weights: (0.6000000000000001, 0.4, 0.4, 0.4, 0.4):  58%|█████▊    | 597/1024 [2:00:40<1:27:42, 12.32s/it]"
          ]
        },
        {
          "name": "stdout",
          "output_type": "stream",
          "text": [
            "Weights: (0.6000000000000001, 0.4, 0.4, 0.4, 0.2), F1 Score = 0.6121337340345605\n"
          ]
        },
        {
          "name": "stderr",
          "output_type": "stream",
          "text": [
            "Optimizing Weights: (0.6000000000000001, 0.4, 0.4, 0.4, 0.6000000000000001):  58%|█████▊    | 598/1024 [2:00:52<1:26:28, 12.18s/it]"
          ]
        },
        {
          "name": "stdout",
          "output_type": "stream",
          "text": [
            "Weights: (0.6000000000000001, 0.4, 0.4, 0.4, 0.4), F1 Score = 0.5696696161301987\n"
          ]
        },
        {
          "name": "stderr",
          "output_type": "stream",
          "text": [
            "Optimizing Weights: (0.6000000000000001, 0.4, 0.4, 0.4, 0.8):  58%|█████▊    | 599/1024 [2:01:04<1:26:07, 12.16s/it]               "
          ]
        },
        {
          "name": "stdout",
          "output_type": "stream",
          "text": [
            "Weights: (0.6000000000000001, 0.4, 0.4, 0.4, 0.6000000000000001), F1 Score = 0.5255973896820113\n"
          ]
        },
        {
          "name": "stderr",
          "output_type": "stream",
          "text": [
            "Optimizing Weights: (0.6000000000000001, 0.4, 0.4, 0.6000000000000001, 0.2):  59%|█████▊    | 600/1024 [2:01:17<1:26:15, 12.21s/it]"
          ]
        },
        {
          "name": "stdout",
          "output_type": "stream",
          "text": [
            "Weights: (0.6000000000000001, 0.4, 0.4, 0.4, 0.8), F1 Score = 0.5049542953335988\n"
          ]
        },
        {
          "name": "stderr",
          "output_type": "stream",
          "text": [
            "Optimizing Weights: (0.6000000000000001, 0.4, 0.4, 0.6000000000000001, 0.4):  59%|█████▊    | 601/1024 [2:01:29<1:26:50, 12.32s/it]"
          ]
        },
        {
          "name": "stdout",
          "output_type": "stream",
          "text": [
            "Weights: (0.6000000000000001, 0.4, 0.4, 0.6000000000000001, 0.2), F1 Score = 0.6519854788614806\n"
          ]
        },
        {
          "name": "stderr",
          "output_type": "stream",
          "text": [
            "Optimizing Weights: (0.6000000000000001, 0.4, 0.4, 0.6000000000000001, 0.6000000000000001):  59%|█████▉    | 602/1024 [2:01:41<1:26:36, 12.31s/it]"
          ]
        },
        {
          "name": "stdout",
          "output_type": "stream",
          "text": [
            "Weights: (0.6000000000000001, 0.4, 0.4, 0.6000000000000001, 0.4), F1 Score = 0.6284401353962871\n"
          ]
        },
        {
          "name": "stderr",
          "output_type": "stream",
          "text": [
            "Optimizing Weights: (0.6000000000000001, 0.4, 0.4, 0.6000000000000001, 0.8):  59%|█████▉    | 603/1024 [2:01:54<1:26:42, 12.36s/it]               "
          ]
        },
        {
          "name": "stdout",
          "output_type": "stream",
          "text": [
            "Weights: (0.6000000000000001, 0.4, 0.4, 0.6000000000000001, 0.6000000000000001), F1 Score = 0.6017791408585904\n"
          ]
        },
        {
          "name": "stderr",
          "output_type": "stream",
          "text": [
            "Optimizing Weights: (0.6000000000000001, 0.4, 0.4, 0.8, 0.2):  59%|█████▉    | 604/1024 [2:02:06<1:26:55, 12.42s/it]               "
          ]
        },
        {
          "name": "stdout",
          "output_type": "stream",
          "text": [
            "Weights: (0.6000000000000001, 0.4, 0.4, 0.6000000000000001, 0.8), F1 Score = 0.5562187387143372\n"
          ]
        },
        {
          "name": "stderr",
          "output_type": "stream",
          "text": [
            "Optimizing Weights: (0.6000000000000001, 0.4, 0.4, 0.8, 0.4):  59%|█████▉    | 605/1024 [2:02:19<1:26:16, 12.35s/it]"
          ]
        },
        {
          "name": "stdout",
          "output_type": "stream",
          "text": [
            "Weights: (0.6000000000000001, 0.4, 0.4, 0.8, 0.2), F1 Score = 0.6658269708581159\n"
          ]
        },
        {
          "name": "stderr",
          "output_type": "stream",
          "text": [
            "Optimizing Weights: (0.6000000000000001, 0.4, 0.4, 0.8, 0.6000000000000001):  59%|█████▉    | 606/1024 [2:02:30<1:24:54, 12.19s/it]"
          ]
        },
        {
          "name": "stdout",
          "output_type": "stream",
          "text": [
            "Weights: (0.6000000000000001, 0.4, 0.4, 0.8, 0.4), F1 Score = 0.6579365767045453\n"
          ]
        },
        {
          "name": "stderr",
          "output_type": "stream",
          "text": [
            "Optimizing Weights: (0.6000000000000001, 0.4, 0.4, 0.8, 0.8):  59%|█████▉    | 607/1024 [2:02:42<1:24:18, 12.13s/it]               "
          ]
        },
        {
          "name": "stdout",
          "output_type": "stream",
          "text": [
            "Weights: (0.6000000000000001, 0.4, 0.4, 0.8, 0.6000000000000001), F1 Score = 0.6458753154046265\n"
          ]
        },
        {
          "name": "stderr",
          "output_type": "stream",
          "text": [
            "Optimizing Weights: (0.6000000000000001, 0.4, 0.6000000000000001, 0.2, 0.2):  59%|█████▉    | 608/1024 [2:02:55<1:24:52, 12.24s/it]"
          ]
        },
        {
          "name": "stdout",
          "output_type": "stream",
          "text": [
            "Weights: (0.6000000000000001, 0.4, 0.4, 0.8, 0.8), F1 Score = 0.6240414896226489\n"
          ]
        },
        {
          "name": "stderr",
          "output_type": "stream",
          "text": [
            "Optimizing Weights: (0.6000000000000001, 0.4, 0.6000000000000001, 0.2, 0.4):  59%|█████▉    | 609/1024 [2:03:07<1:25:02, 12.29s/it]"
          ]
        },
        {
          "name": "stdout",
          "output_type": "stream",
          "text": [
            "Weights: (0.6000000000000001, 0.4, 0.6000000000000001, 0.2, 0.2), F1 Score = 0.608593277966825\n"
          ]
        },
        {
          "name": "stderr",
          "output_type": "stream",
          "text": [
            "Optimizing Weights: (0.6000000000000001, 0.4, 0.6000000000000001, 0.2, 0.6000000000000001):  60%|█████▉    | 610/1024 [2:03:20<1:25:24, 12.38s/it]"
          ]
        },
        {
          "name": "stdout",
          "output_type": "stream",
          "text": [
            "Weights: (0.6000000000000001, 0.4, 0.6000000000000001, 0.2, 0.4), F1 Score = 0.5674932756800927\n"
          ]
        },
        {
          "name": "stderr",
          "output_type": "stream",
          "text": [
            "Optimizing Weights: (0.6000000000000001, 0.4, 0.6000000000000001, 0.2, 0.8):  60%|█████▉    | 611/1024 [2:03:32<1:25:25, 12.41s/it]               "
          ]
        },
        {
          "name": "stdout",
          "output_type": "stream",
          "text": [
            "Weights: (0.6000000000000001, 0.4, 0.6000000000000001, 0.2, 0.6000000000000001), F1 Score = 0.526726889493352\n"
          ]
        },
        {
          "name": "stderr",
          "output_type": "stream",
          "text": [
            "Optimizing Weights: (0.6000000000000001, 0.4, 0.6000000000000001, 0.4, 0.2):  60%|█████▉    | 612/1024 [2:03:45<1:25:26, 12.44s/it]"
          ]
        },
        {
          "name": "stdout",
          "output_type": "stream",
          "text": [
            "Weights: (0.6000000000000001, 0.4, 0.6000000000000001, 0.2, 0.8), F1 Score = 0.498683342035486\n"
          ]
        },
        {
          "name": "stderr",
          "output_type": "stream",
          "text": [
            "Optimizing Weights: (0.6000000000000001, 0.4, 0.6000000000000001, 0.4, 0.4):  60%|█████▉    | 613/1024 [2:03:57<1:25:06, 12.42s/it]"
          ]
        },
        {
          "name": "stdout",
          "output_type": "stream",
          "text": [
            "Weights: (0.6000000000000001, 0.4, 0.6000000000000001, 0.4, 0.2), F1 Score = 0.6367365948388953\n"
          ]
        },
        {
          "name": "stderr",
          "output_type": "stream",
          "text": [
            "Optimizing Weights: (0.6000000000000001, 0.4, 0.6000000000000001, 0.4, 0.6000000000000001):  60%|█████▉    | 614/1024 [2:04:10<1:25:22, 12.49s/it]"
          ]
        },
        {
          "name": "stdout",
          "output_type": "stream",
          "text": [
            "Weights: (0.6000000000000001, 0.4, 0.6000000000000001, 0.4, 0.4), F1 Score = 0.6151984937511226\n"
          ]
        },
        {
          "name": "stderr",
          "output_type": "stream",
          "text": [
            "Optimizing Weights: (0.6000000000000001, 0.4, 0.6000000000000001, 0.4, 0.8):  60%|██████    | 615/1024 [2:04:22<1:23:28, 12.25s/it]               "
          ]
        },
        {
          "name": "stdout",
          "output_type": "stream",
          "text": [
            "Weights: (0.6000000000000001, 0.4, 0.6000000000000001, 0.4, 0.6000000000000001), F1 Score = 0.5897006951646995\n"
          ]
        },
        {
          "name": "stderr",
          "output_type": "stream",
          "text": [
            "Optimizing Weights: (0.6000000000000001, 0.4, 0.6000000000000001, 0.6000000000000001, 0.2):  60%|██████    | 616/1024 [2:04:34<1:22:59, 12.20s/it]"
          ]
        },
        {
          "name": "stdout",
          "output_type": "stream",
          "text": [
            "Weights: (0.6000000000000001, 0.4, 0.6000000000000001, 0.4, 0.8), F1 Score = 0.5481233214093671\n"
          ]
        },
        {
          "name": "stderr",
          "output_type": "stream",
          "text": [
            "Optimizing Weights: (0.6000000000000001, 0.4, 0.6000000000000001, 0.6000000000000001, 0.4):  60%|██████    | 617/1024 [2:04:46<1:22:59, 12.23s/it]"
          ]
        },
        {
          "name": "stdout",
          "output_type": "stream",
          "text": [
            "Weights: (0.6000000000000001, 0.4, 0.6000000000000001, 0.6000000000000001, 0.2), F1 Score = 0.6556078570035114\n"
          ]
        },
        {
          "name": "stderr",
          "output_type": "stream",
          "text": [
            "Optimizing Weights: (0.6000000000000001, 0.4, 0.6000000000000001, 0.6000000000000001, 0.6000000000000001):  60%|██████    | 618/1024 [2:04:58<1:22:59, 12.26s/it]"
          ]
        },
        {
          "name": "stdout",
          "output_type": "stream",
          "text": [
            "Weights: (0.6000000000000001, 0.4, 0.6000000000000001, 0.6000000000000001, 0.4), F1 Score = 0.6457643863520625\n"
          ]
        },
        {
          "name": "stderr",
          "output_type": "stream",
          "text": [
            "Optimizing Weights: (0.6000000000000001, 0.4, 0.6000000000000001, 0.6000000000000001, 0.8):  60%|██████    | 619/1024 [2:05:11<1:23:17, 12.34s/it]               "
          ]
        },
        {
          "name": "stdout",
          "output_type": "stream",
          "text": [
            "Weights: (0.6000000000000001, 0.4, 0.6000000000000001, 0.6000000000000001, 0.6000000000000001), F1 Score = 0.630782181486126\n"
          ]
        },
        {
          "name": "stderr",
          "output_type": "stream",
          "text": [
            "Optimizing Weights: (0.6000000000000001, 0.4, 0.6000000000000001, 0.8, 0.2):  61%|██████    | 620/1024 [2:05:23<1:23:24, 12.39s/it]               "
          ]
        },
        {
          "name": "stdout",
          "output_type": "stream",
          "text": [
            "Weights: (0.6000000000000001, 0.4, 0.6000000000000001, 0.6000000000000001, 0.8), F1 Score = 0.6075500306322951\n"
          ]
        },
        {
          "name": "stderr",
          "output_type": "stream",
          "text": [
            "Optimizing Weights: (0.6000000000000001, 0.4, 0.6000000000000001, 0.8, 0.4):  61%|██████    | 621/1024 [2:05:36<1:23:22, 12.41s/it]"
          ]
        },
        {
          "name": "stdout",
          "output_type": "stream",
          "text": [
            "Weights: (0.6000000000000001, 0.4, 0.6000000000000001, 0.8, 0.2), F1 Score = 0.6685824635637048\n"
          ]
        },
        {
          "name": "stderr",
          "output_type": "stream",
          "text": [
            "Optimizing Weights: (0.6000000000000001, 0.4, 0.6000000000000001, 0.8, 0.6000000000000001):  61%|██████    | 622/1024 [2:05:48<1:23:11, 12.42s/it]"
          ]
        },
        {
          "name": "stdout",
          "output_type": "stream",
          "text": [
            "Weights: (0.6000000000000001, 0.4, 0.6000000000000001, 0.8, 0.4), F1 Score = 0.6595640265106902\n"
          ]
        },
        {
          "name": "stderr",
          "output_type": "stream",
          "text": [
            "Optimizing Weights: (0.6000000000000001, 0.4, 0.6000000000000001, 0.8, 0.8):  61%|██████    | 623/1024 [2:06:01<1:22:40, 12.37s/it]               "
          ]
        },
        {
          "name": "stdout",
          "output_type": "stream",
          "text": [
            "Weights: (0.6000000000000001, 0.4, 0.6000000000000001, 0.8, 0.6000000000000001), F1 Score = 0.6540152516236631\n"
          ]
        },
        {
          "name": "stderr",
          "output_type": "stream",
          "text": [
            "Optimizing Weights: (0.6000000000000001, 0.4, 0.8, 0.2, 0.2):  61%|██████    | 624/1024 [2:06:13<1:21:40, 12.25s/it]               "
          ]
        },
        {
          "name": "stdout",
          "output_type": "stream",
          "text": [
            "Weights: (0.6000000000000001, 0.4, 0.6000000000000001, 0.8, 0.8), F1 Score = 0.6425986219229961\n"
          ]
        },
        {
          "name": "stderr",
          "output_type": "stream",
          "text": [
            "Optimizing Weights: (0.6000000000000001, 0.4, 0.8, 0.2, 0.4):  61%|██████    | 625/1024 [2:06:25<1:21:25, 12.24s/it]"
          ]
        },
        {
          "name": "stdout",
          "output_type": "stream",
          "text": [
            "Weights: (0.6000000000000001, 0.4, 0.8, 0.2, 0.2), F1 Score = 0.6448279622482641\n"
          ]
        },
        {
          "name": "stderr",
          "output_type": "stream",
          "text": [
            "Optimizing Weights: (0.6000000000000001, 0.4, 0.8, 0.2, 0.6000000000000001):  61%|██████    | 626/1024 [2:06:37<1:21:50, 12.34s/it]"
          ]
        },
        {
          "name": "stdout",
          "output_type": "stream",
          "text": [
            "Weights: (0.6000000000000001, 0.4, 0.8, 0.2, 0.4), F1 Score = 0.6212491246498599\n"
          ]
        },
        {
          "name": "stderr",
          "output_type": "stream",
          "text": [
            "Optimizing Weights: (0.6000000000000001, 0.4, 0.8, 0.2, 0.8):  61%|██████    | 627/1024 [2:06:50<1:22:22, 12.45s/it]               "
          ]
        },
        {
          "name": "stdout",
          "output_type": "stream",
          "text": [
            "Weights: (0.6000000000000001, 0.4, 0.8, 0.2, 0.6000000000000001), F1 Score = 0.5951157740993184\n"
          ]
        },
        {
          "name": "stderr",
          "output_type": "stream",
          "text": [
            "Optimizing Weights: (0.6000000000000001, 0.4, 0.8, 0.4, 0.2):  61%|██████▏   | 628/1024 [2:07:03<1:22:19, 12.47s/it]"
          ]
        },
        {
          "name": "stdout",
          "output_type": "stream",
          "text": [
            "Weights: (0.6000000000000001, 0.4, 0.8, 0.2, 0.8), F1 Score = 0.5510966116193114\n"
          ]
        },
        {
          "name": "stderr",
          "output_type": "stream",
          "text": [
            "Optimizing Weights: (0.6000000000000001, 0.4, 0.8, 0.4, 0.4):  61%|██████▏   | 629/1024 [2:07:15<1:22:21, 12.51s/it]"
          ]
        },
        {
          "name": "stdout",
          "output_type": "stream",
          "text": [
            "Weights: (0.6000000000000001, 0.4, 0.8, 0.4, 0.2), F1 Score = 0.6571886769554566\n"
          ]
        },
        {
          "name": "stderr",
          "output_type": "stream",
          "text": [
            "Optimizing Weights: (0.6000000000000001, 0.4, 0.8, 0.4, 0.6000000000000001):  62%|██████▏   | 630/1024 [2:07:28<1:22:54, 12.62s/it]"
          ]
        },
        {
          "name": "stdout",
          "output_type": "stream",
          "text": [
            "Weights: (0.6000000000000001, 0.4, 0.8, 0.4, 0.4), F1 Score = 0.6410158581523586\n"
          ]
        },
        {
          "name": "stderr",
          "output_type": "stream",
          "text": [
            "Optimizing Weights: (0.6000000000000001, 0.4, 0.8, 0.4, 0.8):  62%|██████▏   | 631/1024 [2:07:41<1:22:27, 12.59s/it]               "
          ]
        },
        {
          "name": "stdout",
          "output_type": "stream",
          "text": [
            "Weights: (0.6000000000000001, 0.4, 0.8, 0.4, 0.6000000000000001), F1 Score = 0.6229931264728986\n"
          ]
        },
        {
          "name": "stderr",
          "output_type": "stream",
          "text": [
            "Optimizing Weights: (0.6000000000000001, 0.4, 0.8, 0.6000000000000001, 0.2):  62%|██████▏   | 632/1024 [2:07:53<1:21:00, 12.40s/it]"
          ]
        },
        {
          "name": "stdout",
          "output_type": "stream",
          "text": [
            "Weights: (0.6000000000000001, 0.4, 0.8, 0.4, 0.8), F1 Score = 0.6004787354724084\n"
          ]
        },
        {
          "name": "stderr",
          "output_type": "stream",
          "text": [
            "Optimizing Weights: (0.6000000000000001, 0.4, 0.8, 0.6000000000000001, 0.4):  62%|██████▏   | 633/1024 [2:08:05<1:20:21, 12.33s/it]"
          ]
        },
        {
          "name": "stdout",
          "output_type": "stream",
          "text": [
            "Weights: (0.6000000000000001, 0.4, 0.8, 0.6000000000000001, 0.2), F1 Score = 0.6628877351035246\n"
          ]
        },
        {
          "name": "stderr",
          "output_type": "stream",
          "text": [
            "Optimizing Weights: (0.6000000000000001, 0.4, 0.8, 0.6000000000000001, 0.6000000000000001):  62%|██████▏   | 634/1024 [2:08:17<1:20:59, 12.46s/it]"
          ]
        },
        {
          "name": "stdout",
          "output_type": "stream",
          "text": [
            "Weights: (0.6000000000000001, 0.4, 0.8, 0.6000000000000001, 0.4), F1 Score = 0.6578128205308247\n"
          ]
        },
        {
          "name": "stderr",
          "output_type": "stream",
          "text": [
            "Optimizing Weights: (0.6000000000000001, 0.4, 0.8, 0.6000000000000001, 0.8):  62%|██████▏   | 635/1024 [2:08:30<1:21:17, 12.54s/it]               "
          ]
        },
        {
          "name": "stdout",
          "output_type": "stream",
          "text": [
            "Weights: (0.6000000000000001, 0.4, 0.8, 0.6000000000000001, 0.6000000000000001), F1 Score = 0.6448058155445625\n"
          ]
        },
        {
          "name": "stderr",
          "output_type": "stream",
          "text": [
            "Optimizing Weights: (0.6000000000000001, 0.4, 0.8, 0.8, 0.2):  62%|██████▏   | 636/1024 [2:08:43<1:21:24, 12.59s/it]               "
          ]
        },
        {
          "name": "stdout",
          "output_type": "stream",
          "text": [
            "Weights: (0.6000000000000001, 0.4, 0.8, 0.6000000000000001, 0.8), F1 Score = 0.6364120362485245\n"
          ]
        },
        {
          "name": "stderr",
          "output_type": "stream",
          "text": [
            "Optimizing Weights: (0.6000000000000001, 0.4, 0.8, 0.8, 0.4):  62%|██████▏   | 637/1024 [2:08:55<1:21:05, 12.57s/it]"
          ]
        },
        {
          "name": "stdout",
          "output_type": "stream",
          "text": [
            "Weights: (0.6000000000000001, 0.4, 0.8, 0.8, 0.2), F1 Score = 0.6662772507723773\n"
          ]
        },
        {
          "name": "stderr",
          "output_type": "stream",
          "text": [
            "Optimizing Weights: (0.6000000000000001, 0.4, 0.8, 0.8, 0.6000000000000001):  62%|██████▏   | 638/1024 [2:09:08<1:20:58, 12.59s/it]"
          ]
        },
        {
          "name": "stdout",
          "output_type": "stream",
          "text": [
            "Weights: (0.6000000000000001, 0.4, 0.8, 0.8, 0.4), F1 Score = 0.6659712029804085\n"
          ]
        },
        {
          "name": "stderr",
          "output_type": "stream",
          "text": [
            "Optimizing Weights: (0.6000000000000001, 0.4, 0.8, 0.8, 0.8):  62%|██████▏   | 639/1024 [2:09:21<1:20:35, 12.56s/it]               "
          ]
        },
        {
          "name": "stdout",
          "output_type": "stream",
          "text": [
            "Weights: (0.6000000000000001, 0.4, 0.8, 0.8, 0.6000000000000001), F1 Score = 0.6614302918453092\n"
          ]
        },
        {
          "name": "stderr",
          "output_type": "stream",
          "text": [
            "Optimizing Weights: (0.6000000000000001, 0.6000000000000001, 0.2, 0.2, 0.2):  62%|██████▎   | 640/1024 [2:09:32<1:18:54, 12.33s/it]"
          ]
        },
        {
          "name": "stdout",
          "output_type": "stream",
          "text": [
            "Weights: (0.6000000000000001, 0.4, 0.8, 0.8, 0.8), F1 Score = 0.6542498217543999\n"
          ]
        },
        {
          "name": "stderr",
          "output_type": "stream",
          "text": [
            "Optimizing Weights: (0.6000000000000001, 0.6000000000000001, 0.2, 0.2, 0.4):  63%|██████▎   | 641/1024 [2:09:44<1:18:00, 12.22s/it]"
          ]
        },
        {
          "name": "stdout",
          "output_type": "stream",
          "text": [
            "Weights: (0.6000000000000001, 0.6000000000000001, 0.2, 0.2, 0.2), F1 Score = 0.4795225209916033\n"
          ]
        },
        {
          "name": "stderr",
          "output_type": "stream",
          "text": [
            "Optimizing Weights: (0.6000000000000001, 0.6000000000000001, 0.2, 0.2, 0.6000000000000001):  63%|██████▎   | 642/1024 [2:09:57<1:18:18, 12.30s/it]"
          ]
        },
        {
          "name": "stdout",
          "output_type": "stream",
          "text": [
            "Weights: (0.6000000000000001, 0.6000000000000001, 0.2, 0.2, 0.4), F1 Score = 0.4483211477900857\n"
          ]
        },
        {
          "name": "stderr",
          "output_type": "stream",
          "text": [
            "Optimizing Weights: (0.6000000000000001, 0.6000000000000001, 0.2, 0.2, 0.8):  63%|██████▎   | 643/1024 [2:10:09<1:18:40, 12.39s/it]               "
          ]
        },
        {
          "name": "stdout",
          "output_type": "stream",
          "text": [
            "Weights: (0.6000000000000001, 0.6000000000000001, 0.2, 0.2, 0.6000000000000001), F1 Score = 0.41173209844279435\n"
          ]
        },
        {
          "name": "stderr",
          "output_type": "stream",
          "text": [
            "Optimizing Weights: (0.6000000000000001, 0.6000000000000001, 0.2, 0.4, 0.2):  63%|██████▎   | 644/1024 [2:10:22<1:18:51, 12.45s/it]"
          ]
        },
        {
          "name": "stdout",
          "output_type": "stream",
          "text": [
            "Weights: (0.6000000000000001, 0.6000000000000001, 0.2, 0.2, 0.8), F1 Score = 0.36159505677634385\n"
          ]
        },
        {
          "name": "stderr",
          "output_type": "stream",
          "text": [
            "Optimizing Weights: (0.6000000000000001, 0.6000000000000001, 0.2, 0.4, 0.4):  63%|██████▎   | 645/1024 [2:10:34<1:18:34, 12.44s/it]"
          ]
        },
        {
          "name": "stdout",
          "output_type": "stream",
          "text": [
            "Weights: (0.6000000000000001, 0.6000000000000001, 0.2, 0.4, 0.2), F1 Score = 0.5341596797972278\n"
          ]
        },
        {
          "name": "stderr",
          "output_type": "stream",
          "text": [
            "Optimizing Weights: (0.6000000000000001, 0.6000000000000001, 0.2, 0.4, 0.6000000000000001):  63%|██████▎   | 646/1024 [2:10:47<1:18:05, 12.39s/it]"
          ]
        },
        {
          "name": "stdout",
          "output_type": "stream",
          "text": [
            "Weights: (0.6000000000000001, 0.6000000000000001, 0.2, 0.4, 0.4), F1 Score = 0.5005124683297337\n"
          ]
        },
        {
          "name": "stderr",
          "output_type": "stream",
          "text": [
            "Optimizing Weights: (0.6000000000000001, 0.6000000000000001, 0.2, 0.4, 0.8):  63%|██████▎   | 647/1024 [2:10:59<1:17:45, 12.38s/it]               "
          ]
        },
        {
          "name": "stdout",
          "output_type": "stream",
          "text": [
            "Weights: (0.6000000000000001, 0.6000000000000001, 0.2, 0.4, 0.6000000000000001), F1 Score = 0.46828449430953484\n"
          ]
        },
        {
          "name": "stderr",
          "output_type": "stream",
          "text": [
            "Optimizing Weights: (0.6000000000000001, 0.6000000000000001, 0.2, 0.6000000000000001, 0.2):  63%|██████▎   | 648/1024 [2:11:11<1:16:53, 12.27s/it]"
          ]
        },
        {
          "name": "stdout",
          "output_type": "stream",
          "text": [
            "Weights: (0.6000000000000001, 0.6000000000000001, 0.2, 0.4, 0.8), F1 Score = 0.441355952504497\n"
          ]
        },
        {
          "name": "stderr",
          "output_type": "stream",
          "text": [
            "Optimizing Weights: (0.6000000000000001, 0.6000000000000001, 0.2, 0.6000000000000001, 0.4):  63%|██████▎   | 649/1024 [2:11:23<1:16:11, 12.19s/it]"
          ]
        },
        {
          "name": "stdout",
          "output_type": "stream",
          "text": [
            "Weights: (0.6000000000000001, 0.6000000000000001, 0.2, 0.6000000000000001, 0.2), F1 Score = 0.5952129214747195\n"
          ]
        },
        {
          "name": "stderr",
          "output_type": "stream",
          "text": [
            "Optimizing Weights: (0.6000000000000001, 0.6000000000000001, 0.2, 0.6000000000000001, 0.6000000000000001):  63%|██████▎   | 650/1024 [2:11:35<1:15:54, 12.18s/it]"
          ]
        },
        {
          "name": "stdout",
          "output_type": "stream",
          "text": [
            "Weights: (0.6000000000000001, 0.6000000000000001, 0.2, 0.6000000000000001, 0.4), F1 Score = 0.5440813529022954\n"
          ]
        },
        {
          "name": "stderr",
          "output_type": "stream",
          "text": [
            "Optimizing Weights: (0.6000000000000001, 0.6000000000000001, 0.2, 0.6000000000000001, 0.8):  64%|██████▎   | 651/1024 [2:11:48<1:16:10, 12.25s/it]               "
          ]
        },
        {
          "name": "stdout",
          "output_type": "stream",
          "text": [
            "Weights: (0.6000000000000001, 0.6000000000000001, 0.2, 0.6000000000000001, 0.6000000000000001), F1 Score = 0.5316301687228312\n"
          ]
        },
        {
          "name": "stderr",
          "output_type": "stream",
          "text": [
            "Optimizing Weights: (0.6000000000000001, 0.6000000000000001, 0.2, 0.8, 0.2):  64%|██████▎   | 652/1024 [2:12:00<1:16:38, 12.36s/it]               "
          ]
        },
        {
          "name": "stdout",
          "output_type": "stream",
          "text": [
            "Weights: (0.6000000000000001, 0.6000000000000001, 0.2, 0.6000000000000001, 0.8), F1 Score = 0.49078807788481116\n"
          ]
        },
        {
          "name": "stderr",
          "output_type": "stream",
          "text": [
            "Optimizing Weights: (0.6000000000000001, 0.6000000000000001, 0.2, 0.8, 0.4):  64%|██████▍   | 653/1024 [2:12:13<1:16:26, 12.36s/it]"
          ]
        },
        {
          "name": "stdout",
          "output_type": "stream",
          "text": [
            "Weights: (0.6000000000000001, 0.6000000000000001, 0.2, 0.8, 0.2), F1 Score = 0.6526010037873268\n"
          ]
        },
        {
          "name": "stderr",
          "output_type": "stream",
          "text": [
            "Optimizing Weights: (0.6000000000000001, 0.6000000000000001, 0.2, 0.8, 0.6000000000000001):  64%|██████▍   | 654/1024 [2:12:25<1:16:13, 12.36s/it]"
          ]
        },
        {
          "name": "stdout",
          "output_type": "stream",
          "text": [
            "Weights: (0.6000000000000001, 0.6000000000000001, 0.2, 0.8, 0.4), F1 Score = 0.6290223429141583\n"
          ]
        },
        {
          "name": "stderr",
          "output_type": "stream",
          "text": [
            "Optimizing Weights: (0.6000000000000001, 0.6000000000000001, 0.2, 0.8, 0.8):  64%|██████▍   | 655/1024 [2:12:37<1:16:00, 12.36s/it]               "
          ]
        },
        {
          "name": "stdout",
          "output_type": "stream",
          "text": [
            "Weights: (0.6000000000000001, 0.6000000000000001, 0.2, 0.8, 0.6000000000000001), F1 Score = 0.585808467463983\n"
          ]
        },
        {
          "name": "stderr",
          "output_type": "stream",
          "text": [
            "Optimizing Weights: (0.6000000000000001, 0.6000000000000001, 0.4, 0.2, 0.2):  64%|██████▍   | 656/1024 [2:12:50<1:15:58, 12.39s/it]"
          ]
        },
        {
          "name": "stdout",
          "output_type": "stream",
          "text": [
            "Weights: (0.6000000000000001, 0.6000000000000001, 0.2, 0.8, 0.8), F1 Score = 0.5397273592085235\n"
          ]
        },
        {
          "name": "stderr",
          "output_type": "stream",
          "text": [
            "Optimizing Weights: (0.6000000000000001, 0.6000000000000001, 0.4, 0.2, 0.4):  64%|██████▍   | 657/1024 [2:13:01<1:14:10, 12.13s/it]"
          ]
        },
        {
          "name": "stdout",
          "output_type": "stream",
          "text": [
            "Weights: (0.6000000000000001, 0.6000000000000001, 0.4, 0.2, 0.2), F1 Score = 0.5257808334097775\n"
          ]
        },
        {
          "name": "stderr",
          "output_type": "stream",
          "text": [
            "Optimizing Weights: (0.6000000000000001, 0.6000000000000001, 0.4, 0.2, 0.6000000000000001):  64%|██████▍   | 658/1024 [2:13:13<1:13:18, 12.02s/it]"
          ]
        },
        {
          "name": "stdout",
          "output_type": "stream",
          "text": [
            "Weights: (0.6000000000000001, 0.6000000000000001, 0.4, 0.2, 0.4), F1 Score = 0.4883182648879092\n"
          ]
        },
        {
          "name": "stderr",
          "output_type": "stream",
          "text": [
            "Optimizing Weights: (0.6000000000000001, 0.6000000000000001, 0.4, 0.2, 0.8):  64%|██████▍   | 659/1024 [2:13:25<1:13:39, 12.11s/it]               "
          ]
        },
        {
          "name": "stdout",
          "output_type": "stream",
          "text": [
            "Weights: (0.6000000000000001, 0.6000000000000001, 0.4, 0.2, 0.6000000000000001), F1 Score = 0.46123197833400825\n"
          ]
        },
        {
          "name": "stderr",
          "output_type": "stream",
          "text": [
            "Optimizing Weights: (0.6000000000000001, 0.6000000000000001, 0.4, 0.4, 0.2):  64%|██████▍   | 660/1024 [2:13:38<1:13:30, 12.12s/it]"
          ]
        },
        {
          "name": "stdout",
          "output_type": "stream",
          "text": [
            "Weights: (0.6000000000000001, 0.6000000000000001, 0.4, 0.2, 0.8), F1 Score = 0.4351497677182368\n"
          ]
        },
        {
          "name": "stderr",
          "output_type": "stream",
          "text": [
            "Optimizing Weights: (0.6000000000000001, 0.6000000000000001, 0.4, 0.4, 0.4):  65%|██████▍   | 661/1024 [2:13:50<1:13:22, 12.13s/it]"
          ]
        },
        {
          "name": "stdout",
          "output_type": "stream",
          "text": [
            "Weights: (0.6000000000000001, 0.6000000000000001, 0.4, 0.4, 0.2), F1 Score = 0.5761517276508417\n"
          ]
        },
        {
          "name": "stderr",
          "output_type": "stream",
          "text": [
            "Optimizing Weights: (0.6000000000000001, 0.6000000000000001, 0.4, 0.4, 0.6000000000000001):  65%|██████▍   | 662/1024 [2:14:02<1:13:20, 12.16s/it]"
          ]
        },
        {
          "name": "stdout",
          "output_type": "stream",
          "text": [
            "Weights: (0.6000000000000001, 0.6000000000000001, 0.4, 0.4, 0.4), F1 Score = 0.527821734803246\n"
          ]
        },
        {
          "name": "stderr",
          "output_type": "stream",
          "text": [
            "Optimizing Weights: (0.6000000000000001, 0.6000000000000001, 0.4, 0.4, 0.8):  65%|██████▍   | 663/1024 [2:14:14<1:12:48, 12.10s/it]               "
          ]
        },
        {
          "name": "stdout",
          "output_type": "stream",
          "text": [
            "Weights: (0.6000000000000001, 0.6000000000000001, 0.4, 0.4, 0.6000000000000001), F1 Score = 0.5100069011815251\n"
          ]
        },
        {
          "name": "stderr",
          "output_type": "stream",
          "text": [
            "Optimizing Weights: (0.6000000000000001, 0.6000000000000001, 0.4, 0.6000000000000001, 0.2):  65%|██████▍   | 664/1024 [2:14:25<1:11:22, 11.90s/it]"
          ]
        },
        {
          "name": "stdout",
          "output_type": "stream",
          "text": [
            "Weights: (0.6000000000000001, 0.6000000000000001, 0.4, 0.4, 0.8), F1 Score = 0.46961808822271645\n"
          ]
        },
        {
          "name": "stderr",
          "output_type": "stream",
          "text": [
            "Optimizing Weights: (0.6000000000000001, 0.6000000000000001, 0.4, 0.6000000000000001, 0.4):  65%|██████▍   | 665/1024 [2:14:38<1:11:54, 12.02s/it]"
          ]
        },
        {
          "name": "stdout",
          "output_type": "stream",
          "text": [
            "Weights: (0.6000000000000001, 0.6000000000000001, 0.4, 0.6000000000000001, 0.2), F1 Score = 0.6283277071621289\n"
          ]
        },
        {
          "name": "stderr",
          "output_type": "stream",
          "text": [
            "Optimizing Weights: (0.6000000000000001, 0.6000000000000001, 0.4, 0.6000000000000001, 0.6000000000000001):  65%|██████▌   | 666/1024 [2:14:50<1:11:56, 12.06s/it]"
          ]
        },
        {
          "name": "stdout",
          "output_type": "stream",
          "text": [
            "Weights: (0.6000000000000001, 0.6000000000000001, 0.4, 0.6000000000000001, 0.4), F1 Score = 0.6046879330638113\n"
          ]
        },
        {
          "name": "stderr",
          "output_type": "stream",
          "text": [
            "Optimizing Weights: (0.6000000000000001, 0.6000000000000001, 0.4, 0.6000000000000001, 0.8):  65%|██████▌   | 667/1024 [2:15:02<1:11:49, 12.07s/it]               "
          ]
        },
        {
          "name": "stdout",
          "output_type": "stream",
          "text": [
            "Weights: (0.6000000000000001, 0.6000000000000001, 0.4, 0.6000000000000001, 0.6000000000000001), F1 Score = 0.5611855750328509\n"
          ]
        },
        {
          "name": "stderr",
          "output_type": "stream",
          "text": [
            "Optimizing Weights: (0.6000000000000001, 0.6000000000000001, 0.4, 0.8, 0.2):  65%|██████▌   | 668/1024 [2:15:14<1:12:04, 12.15s/it]               "
          ]
        },
        {
          "name": "stdout",
          "output_type": "stream",
          "text": [
            "Weights: (0.6000000000000001, 0.6000000000000001, 0.4, 0.6000000000000001, 0.8), F1 Score = 0.525051393728223\n"
          ]
        },
        {
          "name": "stderr",
          "output_type": "stream",
          "text": [
            "Optimizing Weights: (0.6000000000000001, 0.6000000000000001, 0.4, 0.8, 0.4):  65%|██████▌   | 669/1024 [2:15:26<1:12:00, 12.17s/it]"
          ]
        },
        {
          "name": "stdout",
          "output_type": "stream",
          "text": [
            "Weights: (0.6000000000000001, 0.6000000000000001, 0.4, 0.8, 0.2), F1 Score = 0.6571084748120585\n"
          ]
        },
        {
          "name": "stderr",
          "output_type": "stream",
          "text": [
            "Optimizing Weights: (0.6000000000000001, 0.6000000000000001, 0.4, 0.8, 0.6000000000000001):  65%|██████▌   | 670/1024 [2:15:39<1:11:50, 12.18s/it]"
          ]
        },
        {
          "name": "stdout",
          "output_type": "stream",
          "text": [
            "Weights: (0.6000000000000001, 0.6000000000000001, 0.4, 0.8, 0.4), F1 Score = 0.647700587404396\n"
          ]
        },
        {
          "name": "stderr",
          "output_type": "stream",
          "text": [
            "Optimizing Weights: (0.6000000000000001, 0.6000000000000001, 0.4, 0.8, 0.8):  66%|██████▌   | 671/1024 [2:15:50<1:11:09, 12.10s/it]               "
          ]
        },
        {
          "name": "stdout",
          "output_type": "stream",
          "text": [
            "Weights: (0.6000000000000001, 0.6000000000000001, 0.4, 0.8, 0.6000000000000001), F1 Score = 0.6258031337527017\n"
          ]
        },
        {
          "name": "stderr",
          "output_type": "stream",
          "text": [
            "Optimizing Weights: (0.6000000000000001, 0.6000000000000001, 0.6000000000000001, 0.2, 0.2):  66%|██████▌   | 672/1024 [2:16:02<1:09:54, 11.92s/it]"
          ]
        },
        {
          "name": "stdout",
          "output_type": "stream",
          "text": [
            "Weights: (0.6000000000000001, 0.6000000000000001, 0.4, 0.8, 0.8), F1 Score = 0.5977411994784876\n"
          ]
        },
        {
          "name": "stderr",
          "output_type": "stream",
          "text": [
            "Optimizing Weights: (0.6000000000000001, 0.6000000000000001, 0.6000000000000001, 0.2, 0.4):  66%|██████▌   | 673/1024 [2:16:14<1:10:20, 12.03s/it]"
          ]
        },
        {
          "name": "stdout",
          "output_type": "stream",
          "text": [
            "Weights: (0.6000000000000001, 0.6000000000000001, 0.6000000000000001, 0.2, 0.2), F1 Score = 0.5678056008285006\n"
          ]
        },
        {
          "name": "stderr",
          "output_type": "stream",
          "text": [
            "Optimizing Weights: (0.6000000000000001, 0.6000000000000001, 0.6000000000000001, 0.2, 0.6000000000000001):  66%|██████▌   | 674/1024 [2:16:27<1:10:46, 12.13s/it]"
          ]
        },
        {
          "name": "stdout",
          "output_type": "stream",
          "text": [
            "Weights: (0.6000000000000001, 0.6000000000000001, 0.6000000000000001, 0.2, 0.4), F1 Score = 0.5303786190476191\n"
          ]
        },
        {
          "name": "stderr",
          "output_type": "stream",
          "text": [
            "Optimizing Weights: (0.6000000000000001, 0.6000000000000001, 0.6000000000000001, 0.2, 0.8):  66%|██████▌   | 675/1024 [2:16:39<1:10:54, 12.19s/it]               "
          ]
        },
        {
          "name": "stdout",
          "output_type": "stream",
          "text": [
            "Weights: (0.6000000000000001, 0.6000000000000001, 0.6000000000000001, 0.2, 0.6000000000000001), F1 Score = 0.5077738887997433\n"
          ]
        },
        {
          "name": "stderr",
          "output_type": "stream",
          "text": [
            "Optimizing Weights: (0.6000000000000001, 0.6000000000000001, 0.6000000000000001, 0.4, 0.2):  66%|██████▌   | 676/1024 [2:16:51<1:10:40, 12.19s/it]"
          ]
        },
        {
          "name": "stdout",
          "output_type": "stream",
          "text": [
            "Weights: (0.6000000000000001, 0.6000000000000001, 0.6000000000000001, 0.2, 0.8), F1 Score = 0.47295829230381103\n"
          ]
        },
        {
          "name": "stderr",
          "output_type": "stream",
          "text": [
            "Optimizing Weights: (0.6000000000000001, 0.6000000000000001, 0.6000000000000001, 0.4, 0.4):  66%|██████▌   | 677/1024 [2:17:03<1:10:31, 12.19s/it]"
          ]
        },
        {
          "name": "stdout",
          "output_type": "stream",
          "text": [
            "Weights: (0.6000000000000001, 0.6000000000000001, 0.6000000000000001, 0.4, 0.2), F1 Score = 0.6175638050866267\n"
          ]
        },
        {
          "name": "stderr",
          "output_type": "stream",
          "text": [
            "Optimizing Weights: (0.6000000000000001, 0.6000000000000001, 0.6000000000000001, 0.4, 0.6000000000000001):  66%|██████▌   | 678/1024 [2:17:16<1:10:31, 12.23s/it]"
          ]
        },
        {
          "name": "stdout",
          "output_type": "stream",
          "text": [
            "Weights: (0.6000000000000001, 0.6000000000000001, 0.6000000000000001, 0.4, 0.4), F1 Score = 0.5891203721850929\n"
          ]
        },
        {
          "name": "stderr",
          "output_type": "stream",
          "text": [
            "Optimizing Weights: (0.6000000000000001, 0.6000000000000001, 0.6000000000000001, 0.4, 0.8):  66%|██████▋   | 679/1024 [2:17:27<1:09:15, 12.04s/it]               "
          ]
        },
        {
          "name": "stdout",
          "output_type": "stream",
          "text": [
            "Weights: (0.6000000000000001, 0.6000000000000001, 0.6000000000000001, 0.4, 0.6000000000000001), F1 Score = 0.5479689038462356\n"
          ]
        },
        {
          "name": "stderr",
          "output_type": "stream",
          "text": [
            "Optimizing Weights: (0.6000000000000001, 0.6000000000000001, 0.6000000000000001, 0.6000000000000001, 0.2):  66%|██████▋   | 680/1024 [2:17:39<1:08:12, 11.90s/it]"
          ]
        },
        {
          "name": "stdout",
          "output_type": "stream",
          "text": [
            "Weights: (0.6000000000000001, 0.6000000000000001, 0.6000000000000001, 0.4, 0.8), F1 Score = 0.5163097288038737\n"
          ]
        },
        {
          "name": "stderr",
          "output_type": "stream",
          "text": [
            "Optimizing Weights: (0.6000000000000001, 0.6000000000000001, 0.6000000000000001, 0.6000000000000001, 0.4):  67%|██████▋   | 681/1024 [2:17:51<1:08:20, 11.96s/it]"
          ]
        },
        {
          "name": "stdout",
          "output_type": "stream",
          "text": [
            "Weights: (0.6000000000000001, 0.6000000000000001, 0.6000000000000001, 0.6000000000000001, 0.2), F1 Score = 0.6480428416437073\n"
          ]
        },
        {
          "name": "stderr",
          "output_type": "stream",
          "text": [
            "Optimizing Weights: (0.6000000000000001, 0.6000000000000001, 0.6000000000000001, 0.6000000000000001, 0.6000000000000001):  67%|██████▋   | 682/1024 [2:18:03<1:08:42, 12.05s/it]"
          ]
        },
        {
          "name": "stdout",
          "output_type": "stream",
          "text": [
            "Weights: (0.6000000000000001, 0.6000000000000001, 0.6000000000000001, 0.6000000000000001, 0.4), F1 Score = 0.6312927492762707\n"
          ]
        },
        {
          "name": "stderr",
          "output_type": "stream",
          "text": [
            "Optimizing Weights: (0.6000000000000001, 0.6000000000000001, 0.6000000000000001, 0.6000000000000001, 0.8):  67%|██████▋   | 683/1024 [2:18:16<1:08:58, 12.14s/it]               "
          ]
        },
        {
          "name": "stdout",
          "output_type": "stream",
          "text": [
            "Weights: (0.6000000000000001, 0.6000000000000001, 0.6000000000000001, 0.6000000000000001, 0.6000000000000001), F1 Score = 0.6080108988419091\n"
          ]
        },
        {
          "name": "stderr",
          "output_type": "stream",
          "text": [
            "Optimizing Weights: (0.6000000000000001, 0.6000000000000001, 0.6000000000000001, 0.8, 0.2):  67%|██████▋   | 684/1024 [2:18:28<1:09:03, 12.19s/it]               "
          ]
        },
        {
          "name": "stdout",
          "output_type": "stream",
          "text": [
            "Weights: (0.6000000000000001, 0.6000000000000001, 0.6000000000000001, 0.6000000000000001, 0.8), F1 Score = 0.5835258208728764\n"
          ]
        },
        {
          "name": "stderr",
          "output_type": "stream",
          "text": [
            "Optimizing Weights: (0.6000000000000001, 0.6000000000000001, 0.6000000000000001, 0.8, 0.4):  67%|██████▋   | 685/1024 [2:18:40<1:08:49, 12.18s/it]"
          ]
        },
        {
          "name": "stdout",
          "output_type": "stream",
          "text": [
            "Weights: (0.6000000000000001, 0.6000000000000001, 0.6000000000000001, 0.8, 0.2), F1 Score = 0.6609904331576157\n"
          ]
        },
        {
          "name": "stderr",
          "output_type": "stream",
          "text": [
            "Optimizing Weights: (0.6000000000000001, 0.6000000000000001, 0.6000000000000001, 0.8, 0.6000000000000001):  67%|██████▋   | 686/1024 [2:18:52<1:08:17, 12.12s/it]"
          ]
        },
        {
          "name": "stdout",
          "output_type": "stream",
          "text": [
            "Weights: (0.6000000000000001, 0.6000000000000001, 0.6000000000000001, 0.8, 0.4), F1 Score = 0.65501007247904\n"
          ]
        },
        {
          "name": "stderr",
          "output_type": "stream",
          "text": [
            "Optimizing Weights: (0.6000000000000001, 0.6000000000000001, 0.6000000000000001, 0.8, 0.8):  67%|██████▋   | 687/1024 [2:19:04<1:07:12, 11.96s/it]               "
          ]
        },
        {
          "name": "stdout",
          "output_type": "stream",
          "text": [
            "Weights: (0.6000000000000001, 0.6000000000000001, 0.6000000000000001, 0.8, 0.6000000000000001), F1 Score = 0.6435138322173901\n"
          ]
        },
        {
          "name": "stderr",
          "output_type": "stream",
          "text": [
            "Optimizing Weights: (0.6000000000000001, 0.6000000000000001, 0.8, 0.2, 0.2):  67%|██████▋   | 688/1024 [2:19:16<1:06:56, 11.95s/it]               "
          ]
        },
        {
          "name": "stdout",
          "output_type": "stream",
          "text": [
            "Weights: (0.6000000000000001, 0.6000000000000001, 0.6000000000000001, 0.8, 0.8), F1 Score = 0.6242592045232941\n"
          ]
        },
        {
          "name": "stderr",
          "output_type": "stream",
          "text": [
            "Optimizing Weights: (0.6000000000000001, 0.6000000000000001, 0.8, 0.2, 0.4):  67%|██████▋   | 689/1024 [2:19:28<1:07:25, 12.08s/it]"
          ]
        },
        {
          "name": "stdout",
          "output_type": "stream",
          "text": [
            "Weights: (0.6000000000000001, 0.6000000000000001, 0.8, 0.2, 0.2), F1 Score = 0.622424741692686\n"
          ]
        },
        {
          "name": "stderr",
          "output_type": "stream",
          "text": [
            "Optimizing Weights: (0.6000000000000001, 0.6000000000000001, 0.8, 0.2, 0.6000000000000001):  67%|██████▋   | 690/1024 [2:19:40<1:07:45, 12.17s/it]"
          ]
        },
        {
          "name": "stdout",
          "output_type": "stream",
          "text": [
            "Weights: (0.6000000000000001, 0.6000000000000001, 0.8, 0.2, 0.4), F1 Score = 0.5917284235151439\n"
          ]
        },
        {
          "name": "stderr",
          "output_type": "stream",
          "text": [
            "Optimizing Weights: (0.6000000000000001, 0.6000000000000001, 0.8, 0.2, 0.8):  67%|██████▋   | 691/1024 [2:19:53<1:07:49, 12.22s/it]               "
          ]
        },
        {
          "name": "stdout",
          "output_type": "stream",
          "text": [
            "Weights: (0.6000000000000001, 0.6000000000000001, 0.8, 0.2, 0.6000000000000001), F1 Score = 0.5525296901081764\n"
          ]
        },
        {
          "name": "stderr",
          "output_type": "stream",
          "text": [
            "Optimizing Weights: (0.6000000000000001, 0.6000000000000001, 0.8, 0.4, 0.2):  68%|██████▊   | 692/1024 [2:20:05<1:07:43, 12.24s/it]"
          ]
        },
        {
          "name": "stdout",
          "output_type": "stream",
          "text": [
            "Weights: (0.6000000000000001, 0.6000000000000001, 0.8, 0.2, 0.8), F1 Score = 0.5188115840801265\n"
          ]
        },
        {
          "name": "stderr",
          "output_type": "stream",
          "text": [
            "Optimizing Weights: (0.6000000000000001, 0.6000000000000001, 0.8, 0.4, 0.4):  68%|██████▊   | 693/1024 [2:20:17<1:07:20, 12.21s/it]"
          ]
        },
        {
          "name": "stdout",
          "output_type": "stream",
          "text": [
            "Weights: (0.6000000000000001, 0.6000000000000001, 0.8, 0.4, 0.2), F1 Score = 0.6437442190968722\n"
          ]
        },
        {
          "name": "stderr",
          "output_type": "stream",
          "text": [
            "Optimizing Weights: (0.6000000000000001, 0.6000000000000001, 0.8, 0.4, 0.6000000000000001):  68%|██████▊   | 694/1024 [2:20:29<1:06:14, 12.04s/it]"
          ]
        },
        {
          "name": "stdout",
          "output_type": "stream",
          "text": [
            "Weights: (0.6000000000000001, 0.6000000000000001, 0.8, 0.4, 0.4), F1 Score = 0.6278383954981167\n"
          ]
        },
        {
          "name": "stderr",
          "output_type": "stream",
          "text": [
            "Optimizing Weights: (0.6000000000000001, 0.6000000000000001, 0.8, 0.4, 0.8):  68%|██████▊   | 695/1024 [2:20:41<1:05:51, 12.01s/it]               "
          ]
        },
        {
          "name": "stdout",
          "output_type": "stream",
          "text": [
            "Weights: (0.6000000000000001, 0.6000000000000001, 0.8, 0.4, 0.6000000000000001), F1 Score = 0.5988535228973936\n"
          ]
        },
        {
          "name": "stderr",
          "output_type": "stream",
          "text": [
            "Optimizing Weights: (0.6000000000000001, 0.6000000000000001, 0.8, 0.6000000000000001, 0.2):  68%|██████▊   | 696/1024 [2:20:53<1:06:07, 12.09s/it]"
          ]
        },
        {
          "name": "stdout",
          "output_type": "stream",
          "text": [
            "Weights: (0.6000000000000001, 0.6000000000000001, 0.8, 0.4, 0.8), F1 Score = 0.5749373106348482\n"
          ]
        },
        {
          "name": "stderr",
          "output_type": "stream",
          "text": [
            "Optimizing Weights: (0.6000000000000001, 0.6000000000000001, 0.8, 0.6000000000000001, 0.4):  68%|██████▊   | 697/1024 [2:21:05<1:06:19, 12.17s/it]"
          ]
        },
        {
          "name": "stdout",
          "output_type": "stream",
          "text": [
            "Weights: (0.6000000000000001, 0.6000000000000001, 0.8, 0.6000000000000001, 0.2), F1 Score = 0.6552678144428503\n"
          ]
        },
        {
          "name": "stderr",
          "output_type": "stream",
          "text": [
            "Optimizing Weights: (0.6000000000000001, 0.6000000000000001, 0.8, 0.6000000000000001, 0.6000000000000001):  68%|██████▊   | 698/1024 [2:21:17<1:06:12, 12.18s/it]"
          ]
        },
        {
          "name": "stdout",
          "output_type": "stream",
          "text": [
            "Weights: (0.6000000000000001, 0.6000000000000001, 0.8, 0.6000000000000001, 0.4), F1 Score = 0.6438825456170412\n"
          ]
        },
        {
          "name": "stderr",
          "output_type": "stream",
          "text": [
            "Optimizing Weights: (0.6000000000000001, 0.6000000000000001, 0.8, 0.6000000000000001, 0.8):  68%|██████▊   | 699/1024 [2:21:30<1:05:57, 12.18s/it]               "
          ]
        },
        {
          "name": "stdout",
          "output_type": "stream",
          "text": [
            "Weights: (0.6000000000000001, 0.6000000000000001, 0.8, 0.6000000000000001, 0.6000000000000001), F1 Score = 0.6358546577038408\n"
          ]
        },
        {
          "name": "stderr",
          "output_type": "stream",
          "text": [
            "Optimizing Weights: (0.6000000000000001, 0.6000000000000001, 0.8, 0.8, 0.2):  68%|██████▊   | 700/1024 [2:21:42<1:06:10, 12.26s/it]               "
          ]
        },
        {
          "name": "stdout",
          "output_type": "stream",
          "text": [
            "Weights: (0.6000000000000001, 0.6000000000000001, 0.8, 0.6000000000000001, 0.8), F1 Score = 0.613287661549939\n"
          ]
        },
        {
          "name": "stderr",
          "output_type": "stream",
          "text": [
            "Optimizing Weights: (0.6000000000000001, 0.6000000000000001, 0.8, 0.8, 0.4):  68%|██████▊   | 701/1024 [2:21:54<1:05:09, 12.10s/it]"
          ]
        },
        {
          "name": "stdout",
          "output_type": "stream",
          "text": [
            "Weights: (0.6000000000000001, 0.6000000000000001, 0.8, 0.8, 0.2), F1 Score = 0.6644009519709146\n"
          ]
        },
        {
          "name": "stderr",
          "output_type": "stream",
          "text": [
            "Optimizing Weights: (0.6000000000000001, 0.6000000000000001, 0.8, 0.8, 0.6000000000000001):  69%|██████▊   | 702/1024 [2:22:05<1:04:06, 11.95s/it]"
          ]
        },
        {
          "name": "stdout",
          "output_type": "stream",
          "text": [
            "Weights: (0.6000000000000001, 0.6000000000000001, 0.8, 0.8, 0.4), F1 Score = 0.6572880281766109\n"
          ]
        },
        {
          "name": "stderr",
          "output_type": "stream",
          "text": [
            "Optimizing Weights: (0.6000000000000001, 0.6000000000000001, 0.8, 0.8, 0.8):  69%|██████▊   | 703/1024 [2:22:17<1:04:04, 11.98s/it]               "
          ]
        },
        {
          "name": "stdout",
          "output_type": "stream",
          "text": [
            "Weights: (0.6000000000000001, 0.6000000000000001, 0.8, 0.8, 0.6000000000000001), F1 Score = 0.6516321327629668\n"
          ]
        },
        {
          "name": "stderr",
          "output_type": "stream",
          "text": [
            "Optimizing Weights: (0.6000000000000001, 0.8, 0.2, 0.2, 0.2):  69%|██████▉   | 704/1024 [2:22:30<1:04:23, 12.07s/it]               "
          ]
        },
        {
          "name": "stdout",
          "output_type": "stream",
          "text": [
            "Weights: (0.6000000000000001, 0.6000000000000001, 0.8, 0.8, 0.8), F1 Score = 0.6410619838361533\n"
          ]
        },
        {
          "name": "stderr",
          "output_type": "stream",
          "text": [
            "Optimizing Weights: (0.6000000000000001, 0.8, 0.2, 0.2, 0.4):  69%|██████▉   | 705/1024 [2:22:42<1:04:37, 12.15s/it]"
          ]
        },
        {
          "name": "stdout",
          "output_type": "stream",
          "text": [
            "Weights: (0.6000000000000001, 0.8, 0.2, 0.2, 0.2), F1 Score = 0.4602573280987602\n"
          ]
        },
        {
          "name": "stderr",
          "output_type": "stream",
          "text": [
            "Optimizing Weights: (0.6000000000000001, 0.8, 0.2, 0.2, 0.6000000000000001):  69%|██████▉   | 706/1024 [2:22:54<1:04:20, 12.14s/it]"
          ]
        },
        {
          "name": "stdout",
          "output_type": "stream",
          "text": [
            "Weights: (0.6000000000000001, 0.8, 0.2, 0.2, 0.4), F1 Score = 0.43148746330724064\n"
          ]
        },
        {
          "name": "stderr",
          "output_type": "stream",
          "text": [
            "Optimizing Weights: (0.6000000000000001, 0.8, 0.2, 0.2, 0.8):  69%|██████▉   | 707/1024 [2:23:06<1:04:12, 12.15s/it]               "
          ]
        },
        {
          "name": "stdout",
          "output_type": "stream",
          "text": [
            "Weights: (0.6000000000000001, 0.8, 0.2, 0.2, 0.6000000000000001), F1 Score = 0.39546754914455645\n"
          ]
        },
        {
          "name": "stderr",
          "output_type": "stream",
          "text": [
            "Optimizing Weights: (0.6000000000000001, 0.8, 0.2, 0.4, 0.2):  69%|██████▉   | 708/1024 [2:23:19<1:03:59, 12.15s/it]"
          ]
        },
        {
          "name": "stdout",
          "output_type": "stream",
          "text": [
            "Weights: (0.6000000000000001, 0.8, 0.2, 0.2, 0.8), F1 Score = 0.357447262893346\n"
          ]
        },
        {
          "name": "stderr",
          "output_type": "stream",
          "text": [
            "Optimizing Weights: (0.6000000000000001, 0.8, 0.2, 0.4, 0.4):  69%|██████▉   | 709/1024 [2:23:30<1:02:48, 11.96s/it]"
          ]
        },
        {
          "name": "stdout",
          "output_type": "stream",
          "text": [
            "Weights: (0.6000000000000001, 0.8, 0.2, 0.4, 0.2), F1 Score = 0.5093240433215753\n"
          ]
        },
        {
          "name": "stderr",
          "output_type": "stream",
          "text": [
            "Optimizing Weights: (0.6000000000000001, 0.8, 0.2, 0.4, 0.6000000000000001):  69%|██████▉   | 710/1024 [2:23:42<1:02:48, 12.00s/it]"
          ]
        },
        {
          "name": "stdout",
          "output_type": "stream",
          "text": [
            "Weights: (0.6000000000000001, 0.8, 0.2, 0.4, 0.4), F1 Score = 0.4740274126361514\n"
          ]
        },
        {
          "name": "stderr",
          "output_type": "stream",
          "text": [
            "Optimizing Weights: (0.6000000000000001, 0.8, 0.2, 0.4, 0.8):  69%|██████▉   | 711/1024 [2:23:54<1:03:04, 12.09s/it]               "
          ]
        },
        {
          "name": "stdout",
          "output_type": "stream",
          "text": [
            "Weights: (0.6000000000000001, 0.8, 0.2, 0.4, 0.6000000000000001), F1 Score = 0.449969616724857\n"
          ]
        },
        {
          "name": "stderr",
          "output_type": "stream",
          "text": [
            "Optimizing Weights: (0.6000000000000001, 0.8, 0.2, 0.6000000000000001, 0.2):  70%|██████▉   | 712/1024 [2:24:07<1:03:16, 12.17s/it]"
          ]
        },
        {
          "name": "stdout",
          "output_type": "stream",
          "text": [
            "Weights: (0.6000000000000001, 0.8, 0.2, 0.4, 0.8), F1 Score = 0.42068252094752767\n"
          ]
        },
        {
          "name": "stderr",
          "output_type": "stream",
          "text": [
            "Optimizing Weights: (0.6000000000000001, 0.8, 0.2, 0.6000000000000001, 0.4):  70%|██████▉   | 713/1024 [2:24:19<1:03:11, 12.19s/it]"
          ]
        },
        {
          "name": "stdout",
          "output_type": "stream",
          "text": [
            "Weights: (0.6000000000000001, 0.8, 0.2, 0.6000000000000001, 0.2), F1 Score = 0.5480470402981242\n"
          ]
        },
        {
          "name": "stderr",
          "output_type": "stream",
          "text": [
            "Optimizing Weights: (0.6000000000000001, 0.8, 0.2, 0.6000000000000001, 0.6000000000000001):  70%|██████▉   | 714/1024 [2:24:31<1:03:05, 12.21s/it]"
          ]
        },
        {
          "name": "stdout",
          "output_type": "stream",
          "text": [
            "Weights: (0.6000000000000001, 0.8, 0.2, 0.6000000000000001, 0.4), F1 Score = 0.5321094276094276\n"
          ]
        },
        {
          "name": "stderr",
          "output_type": "stream",
          "text": [
            "Optimizing Weights: (0.6000000000000001, 0.8, 0.2, 0.6000000000000001, 0.8):  70%|██████▉   | 715/1024 [2:24:43<1:02:44, 12.18s/it]               "
          ]
        },
        {
          "name": "stdout",
          "output_type": "stream",
          "text": [
            "Weights: (0.6000000000000001, 0.8, 0.2, 0.6000000000000001, 0.6000000000000001), F1 Score = 0.49581892093794094\n"
          ]
        },
        {
          "name": "stderr",
          "output_type": "stream",
          "text": [
            "Optimizing Weights: (0.6000000000000001, 0.8, 0.2, 0.8, 0.2):  70%|██████▉   | 716/1024 [2:24:56<1:02:31, 12.18s/it]               "
          ]
        },
        {
          "name": "stdout",
          "output_type": "stream",
          "text": [
            "Weights: (0.6000000000000001, 0.8, 0.2, 0.6000000000000001, 0.8), F1 Score = 0.46666926491571104\n"
          ]
        },
        {
          "name": "stderr",
          "output_type": "stream",
          "text": [
            "Optimizing Weights: (0.6000000000000001, 0.8, 0.2, 0.8, 0.4):  70%|███████   | 717/1024 [2:25:07<1:01:36, 12.04s/it]"
          ]
        },
        {
          "name": "stdout",
          "output_type": "stream",
          "text": [
            "Weights: (0.6000000000000001, 0.8, 0.2, 0.8, 0.2), F1 Score = 0.6287423026154683\n"
          ]
        },
        {
          "name": "stderr",
          "output_type": "stream",
          "text": [
            "Optimizing Weights: (0.6000000000000001, 0.8, 0.2, 0.8, 0.6000000000000001):  70%|███████   | 718/1024 [2:25:20<1:01:55, 12.14s/it]"
          ]
        },
        {
          "name": "stdout",
          "output_type": "stream",
          "text": [
            "Weights: (0.6000000000000001, 0.8, 0.2, 0.8, 0.4), F1 Score = 0.5887015687419679\n"
          ]
        },
        {
          "name": "stderr",
          "output_type": "stream",
          "text": [
            "Optimizing Weights: (0.6000000000000001, 0.8, 0.2, 0.8, 0.8):  70%|███████   | 719/1024 [2:25:32<1:01:55, 12.18s/it]               "
          ]
        },
        {
          "name": "stdout",
          "output_type": "stream",
          "text": [
            "Weights: (0.6000000000000001, 0.8, 0.2, 0.8, 0.6000000000000001), F1 Score = 0.5446667743788596\n"
          ]
        },
        {
          "name": "stderr",
          "output_type": "stream",
          "text": [
            "Optimizing Weights: (0.6000000000000001, 0.8, 0.4, 0.2, 0.2):  70%|███████   | 720/1024 [2:25:44<1:01:52, 12.21s/it]"
          ]
        },
        {
          "name": "stdout",
          "output_type": "stream",
          "text": [
            "Weights: (0.6000000000000001, 0.8, 0.2, 0.8, 0.8), F1 Score = 0.5246473068394024\n"
          ]
        },
        {
          "name": "stderr",
          "output_type": "stream",
          "text": [
            "Optimizing Weights: (0.6000000000000001, 0.8, 0.4, 0.2, 0.4):  70%|███████   | 721/1024 [2:25:56<1:01:34, 12.19s/it]"
          ]
        },
        {
          "name": "stdout",
          "output_type": "stream",
          "text": [
            "Weights: (0.6000000000000001, 0.8, 0.4, 0.2, 0.2), F1 Score = 0.49907793059068384\n"
          ]
        },
        {
          "name": "stderr",
          "output_type": "stream",
          "text": [
            "Optimizing Weights: (0.6000000000000001, 0.8, 0.4, 0.2, 0.6000000000000001):  71%|███████   | 722/1024 [2:26:09<1:01:29, 12.22s/it]"
          ]
        },
        {
          "name": "stdout",
          "output_type": "stream",
          "text": [
            "Weights: (0.6000000000000001, 0.8, 0.4, 0.2, 0.4), F1 Score = 0.4702798663324979\n"
          ]
        },
        {
          "name": "stderr",
          "output_type": "stream",
          "text": [
            "Optimizing Weights: (0.6000000000000001, 0.8, 0.4, 0.2, 0.8):  71%|███████   | 723/1024 [2:26:21<1:01:25, 12.25s/it]               "
          ]
        },
        {
          "name": "stdout",
          "output_type": "stream",
          "text": [
            "Weights: (0.6000000000000001, 0.8, 0.4, 0.2, 0.6000000000000001), F1 Score = 0.4436482206320648\n"
          ]
        },
        {
          "name": "stderr",
          "output_type": "stream",
          "text": [
            "Optimizing Weights: (0.6000000000000001, 0.8, 0.4, 0.4, 0.2):  71%|███████   | 724/1024 [2:26:33<1:00:19, 12.06s/it]"
          ]
        },
        {
          "name": "stdout",
          "output_type": "stream",
          "text": [
            "Weights: (0.6000000000000001, 0.8, 0.4, 0.2, 0.8), F1 Score = 0.41396472031323617\n"
          ]
        },
        {
          "name": "stderr",
          "output_type": "stream",
          "text": [
            "Optimizing Weights: (0.6000000000000001, 0.8, 0.4, 0.4, 0.4):  71%|███████   | 725/1024 [2:26:45<1:00:09, 12.07s/it]"
          ]
        },
        {
          "name": "stdout",
          "output_type": "stream",
          "text": [
            "Weights: (0.6000000000000001, 0.8, 0.4, 0.4, 0.2), F1 Score = 0.5358969262575437\n"
          ]
        },
        {
          "name": "stderr",
          "output_type": "stream",
          "text": [
            "Optimizing Weights: (0.6000000000000001, 0.8, 0.4, 0.4, 0.6000000000000001):  71%|███████   | 726/1024 [2:26:57<1:00:07, 12.11s/it]"
          ]
        },
        {
          "name": "stdout",
          "output_type": "stream",
          "text": [
            "Weights: (0.6000000000000001, 0.8, 0.4, 0.4, 0.4), F1 Score = 0.5170010711079933\n"
          ]
        },
        {
          "name": "stderr",
          "output_type": "stream",
          "text": [
            "Optimizing Weights: (0.6000000000000001, 0.8, 0.4, 0.4, 0.8):  71%|███████   | 727/1024 [2:27:09<1:00:17, 12.18s/it]               "
          ]
        },
        {
          "name": "stdout",
          "output_type": "stream",
          "text": [
            "Weights: (0.6000000000000001, 0.8, 0.4, 0.4, 0.6000000000000001), F1 Score = 0.48242022751553515\n"
          ]
        },
        {
          "name": "stderr",
          "output_type": "stream",
          "text": [
            "Optimizing Weights: (0.6000000000000001, 0.8, 0.4, 0.6000000000000001, 0.2):  71%|███████   | 728/1024 [2:27:21<1:00:10, 12.20s/it]"
          ]
        },
        {
          "name": "stdout",
          "output_type": "stream",
          "text": [
            "Weights: (0.6000000000000001, 0.8, 0.4, 0.4, 0.8), F1 Score = 0.45631657399343467\n"
          ]
        },
        {
          "name": "stderr",
          "output_type": "stream",
          "text": [
            "Optimizing Weights: (0.6000000000000001, 0.8, 0.4, 0.6000000000000001, 0.4):  71%|███████   | 729/1024 [2:27:34<1:00:07, 12.23s/it]"
          ]
        },
        {
          "name": "stdout",
          "output_type": "stream",
          "text": [
            "Weights: (0.6000000000000001, 0.8, 0.4, 0.6000000000000001, 0.2), F1 Score = 0.6018121162606457\n"
          ]
        },
        {
          "name": "stderr",
          "output_type": "stream",
          "text": [
            "Optimizing Weights: (0.6000000000000001, 0.8, 0.4, 0.6000000000000001, 0.6000000000000001):  71%|███████▏  | 730/1024 [2:27:46<1:00:15, 12.30s/it]"
          ]
        },
        {
          "name": "stdout",
          "output_type": "stream",
          "text": [
            "Weights: (0.6000000000000001, 0.8, 0.4, 0.6000000000000001, 0.4), F1 Score = 0.5648266385989921\n"
          ]
        },
        {
          "name": "stderr",
          "output_type": "stream",
          "text": [
            "Optimizing Weights: (0.6000000000000001, 0.8, 0.4, 0.6000000000000001, 0.8):  71%|███████▏  | 731/1024 [2:27:58<59:19, 12.15s/it]               "
          ]
        },
        {
          "name": "stdout",
          "output_type": "stream",
          "text": [
            "Weights: (0.6000000000000001, 0.8, 0.4, 0.6000000000000001, 0.6000000000000001), F1 Score = 0.5284589587297723\n"
          ]
        },
        {
          "name": "stderr",
          "output_type": "stream",
          "text": [
            "Optimizing Weights: (0.6000000000000001, 0.8, 0.4, 0.8, 0.2):  71%|███████▏  | 732/1024 [2:28:10<58:14, 11.97s/it]               "
          ]
        },
        {
          "name": "stdout",
          "output_type": "stream",
          "text": [
            "Weights: (0.6000000000000001, 0.8, 0.4, 0.6000000000000001, 0.8), F1 Score = 0.5093736296822408\n"
          ]
        },
        {
          "name": "stderr",
          "output_type": "stream",
          "text": [
            "Optimizing Weights: (0.6000000000000001, 0.8, 0.4, 0.8, 0.4):  72%|███████▏  | 733/1024 [2:28:22<58:14, 12.01s/it]"
          ]
        },
        {
          "name": "stdout",
          "output_type": "stream",
          "text": [
            "Weights: (0.6000000000000001, 0.8, 0.4, 0.8, 0.2), F1 Score = 0.6461096715942509\n"
          ]
        },
        {
          "name": "stderr",
          "output_type": "stream",
          "text": [
            "Optimizing Weights: (0.6000000000000001, 0.8, 0.4, 0.8, 0.6000000000000001):  72%|███████▏  | 734/1024 [2:28:34<58:26, 12.09s/it]"
          ]
        },
        {
          "name": "stdout",
          "output_type": "stream",
          "text": [
            "Weights: (0.6000000000000001, 0.8, 0.4, 0.8, 0.4), F1 Score = 0.6245366535804497\n"
          ]
        },
        {
          "name": "stderr",
          "output_type": "stream",
          "text": [
            "Optimizing Weights: (0.6000000000000001, 0.8, 0.4, 0.8, 0.8):  72%|███████▏  | 735/1024 [2:28:46<58:42, 12.19s/it]               "
          ]
        },
        {
          "name": "stdout",
          "output_type": "stream",
          "text": [
            "Weights: (0.6000000000000001, 0.8, 0.4, 0.8, 0.6000000000000001), F1 Score = 0.5976109654220473\n"
          ]
        },
        {
          "name": "stderr",
          "output_type": "stream",
          "text": [
            "Optimizing Weights: (0.6000000000000001, 0.8, 0.6000000000000001, 0.2, 0.2):  72%|███████▏  | 736/1024 [2:28:59<58:45, 12.24s/it]"
          ]
        },
        {
          "name": "stdout",
          "output_type": "stream",
          "text": [
            "Weights: (0.6000000000000001, 0.8, 0.4, 0.8, 0.8), F1 Score = 0.5530920714729813\n"
          ]
        },
        {
          "name": "stderr",
          "output_type": "stream",
          "text": [
            "Optimizing Weights: (0.6000000000000001, 0.8, 0.6000000000000001, 0.2, 0.4):  72%|███████▏  | 737/1024 [2:29:11<58:54, 12.31s/it]"
          ]
        },
        {
          "name": "stdout",
          "output_type": "stream",
          "text": [
            "Weights: (0.6000000000000001, 0.8, 0.6000000000000001, 0.2, 0.2), F1 Score = 0.5303486653454422\n"
          ]
        },
        {
          "name": "stderr",
          "output_type": "stream",
          "text": [
            "Optimizing Weights: (0.6000000000000001, 0.8, 0.6000000000000001, 0.2, 0.6000000000000001):  72%|███████▏  | 738/1024 [2:29:24<58:40, 12.31s/it]"
          ]
        },
        {
          "name": "stdout",
          "output_type": "stream",
          "text": [
            "Weights: (0.6000000000000001, 0.8, 0.6000000000000001, 0.2, 0.4), F1 Score = 0.5108542708989728\n"
          ]
        },
        {
          "name": "stderr",
          "output_type": "stream",
          "text": [
            "Optimizing Weights: (0.6000000000000001, 0.8, 0.6000000000000001, 0.2, 0.8):  72%|███████▏  | 739/1024 [2:29:35<57:27, 12.10s/it]               "
          ]
        },
        {
          "name": "stdout",
          "output_type": "stream",
          "text": [
            "Weights: (0.6000000000000001, 0.8, 0.6000000000000001, 0.2, 0.6000000000000001), F1 Score = 0.4836035014328982\n"
          ]
        },
        {
          "name": "stderr",
          "output_type": "stream",
          "text": [
            "Optimizing Weights: (0.6000000000000001, 0.8, 0.6000000000000001, 0.4, 0.2):  72%|███████▏  | 740/1024 [2:29:47<56:56, 12.03s/it]"
          ]
        },
        {
          "name": "stdout",
          "output_type": "stream",
          "text": [
            "Weights: (0.6000000000000001, 0.8, 0.6000000000000001, 0.2, 0.8), F1 Score = 0.45976894899971826\n"
          ]
        },
        {
          "name": "stderr",
          "output_type": "stream",
          "text": [
            "Optimizing Weights: (0.6000000000000001, 0.8, 0.6000000000000001, 0.4, 0.4):  72%|███████▏  | 741/1024 [2:29:59<57:18, 12.15s/it]"
          ]
        },
        {
          "name": "stdout",
          "output_type": "stream",
          "text": [
            "Weights: (0.6000000000000001, 0.8, 0.6000000000000001, 0.4, 0.2), F1 Score = 0.5918318147551211\n"
          ]
        },
        {
          "name": "stderr",
          "output_type": "stream",
          "text": [
            "Optimizing Weights: (0.6000000000000001, 0.8, 0.6000000000000001, 0.4, 0.6000000000000001):  72%|███████▏  | 742/1024 [2:30:12<57:15, 12.18s/it]"
          ]
        },
        {
          "name": "stdout",
          "output_type": "stream",
          "text": [
            "Weights: (0.6000000000000001, 0.8, 0.6000000000000001, 0.4, 0.4), F1 Score = 0.548798603090799\n"
          ]
        },
        {
          "name": "stderr",
          "output_type": "stream",
          "text": [
            "Optimizing Weights: (0.6000000000000001, 0.8, 0.6000000000000001, 0.4, 0.8):  73%|███████▎  | 743/1024 [2:30:24<57:26, 12.27s/it]               "
          ]
        },
        {
          "name": "stdout",
          "output_type": "stream",
          "text": [
            "Weights: (0.6000000000000001, 0.8, 0.6000000000000001, 0.4, 0.6000000000000001), F1 Score = 0.5186784532298342\n"
          ]
        },
        {
          "name": "stderr",
          "output_type": "stream",
          "text": [
            "Optimizing Weights: (0.6000000000000001, 0.8, 0.6000000000000001, 0.6000000000000001, 0.2):  73%|███████▎  | 744/1024 [2:30:36<57:19, 12.28s/it]"
          ]
        },
        {
          "name": "stdout",
          "output_type": "stream",
          "text": [
            "Weights: (0.6000000000000001, 0.8, 0.6000000000000001, 0.4, 0.8), F1 Score = 0.4976944648407285\n"
          ]
        },
        {
          "name": "stderr",
          "output_type": "stream",
          "text": [
            "Optimizing Weights: (0.6000000000000001, 0.8, 0.6000000000000001, 0.6000000000000001, 0.4):  73%|███████▎  | 745/1024 [2:30:49<57:11, 12.30s/it]"
          ]
        },
        {
          "name": "stdout",
          "output_type": "stream",
          "text": [
            "Weights: (0.6000000000000001, 0.8, 0.6000000000000001, 0.6000000000000001, 0.2), F1 Score = 0.6340560787671232\n"
          ]
        },
        {
          "name": "stderr",
          "output_type": "stream",
          "text": [
            "Optimizing Weights: (0.6000000000000001, 0.8, 0.6000000000000001, 0.6000000000000001, 0.6000000000000001):  73%|███████▎  | 746/1024 [2:31:01<56:57, 12.29s/it]"
          ]
        },
        {
          "name": "stdout",
          "output_type": "stream",
          "text": [
            "Weights: (0.6000000000000001, 0.8, 0.6000000000000001, 0.6000000000000001, 0.4), F1 Score = 0.608604219012218\n"
          ]
        },
        {
          "name": "stderr",
          "output_type": "stream",
          "text": [
            "Optimizing Weights: (0.6000000000000001, 0.8, 0.6000000000000001, 0.6000000000000001, 0.8):  73%|███████▎  | 747/1024 [2:31:13<55:37, 12.05s/it]               "
          ]
        },
        {
          "name": "stdout",
          "output_type": "stream",
          "text": [
            "Weights: (0.6000000000000001, 0.8, 0.6000000000000001, 0.6000000000000001, 0.6000000000000001), F1 Score = 0.5821978922716627\n"
          ]
        },
        {
          "name": "stderr",
          "output_type": "stream",
          "text": [
            "Optimizing Weights: (0.6000000000000001, 0.8, 0.6000000000000001, 0.8, 0.2):  73%|███████▎  | 748/1024 [2:31:25<55:19, 12.03s/it]               "
          ]
        },
        {
          "name": "stdout",
          "output_type": "stream",
          "text": [
            "Weights: (0.6000000000000001, 0.8, 0.6000000000000001, 0.6000000000000001, 0.8), F1 Score = 0.5383899603355414\n"
          ]
        },
        {
          "name": "stderr",
          "output_type": "stream",
          "text": [
            "Optimizing Weights: (0.6000000000000001, 0.8, 0.6000000000000001, 0.8, 0.4):  73%|███████▎  | 749/1024 [2:31:37<55:36, 12.13s/it]"
          ]
        },
        {
          "name": "stdout",
          "output_type": "stream",
          "text": [
            "Weights: (0.6000000000000001, 0.8, 0.6000000000000001, 0.8, 0.2), F1 Score = 0.6560647173153501\n"
          ]
        },
        {
          "name": "stderr",
          "output_type": "stream",
          "text": [
            "Optimizing Weights: (0.6000000000000001, 0.8, 0.6000000000000001, 0.8, 0.6000000000000001):  73%|███████▎  | 750/1024 [2:31:49<55:34, 12.17s/it]"
          ]
        },
        {
          "name": "stdout",
          "output_type": "stream",
          "text": [
            "Weights: (0.6000000000000001, 0.8, 0.6000000000000001, 0.8, 0.4), F1 Score = 0.6444416854797569\n"
          ]
        },
        {
          "name": "stderr",
          "output_type": "stream",
          "text": [
            "Optimizing Weights: (0.6000000000000001, 0.8, 0.6000000000000001, 0.8, 0.8):  73%|███████▎  | 751/1024 [2:32:02<55:44, 12.25s/it]               "
          ]
        },
        {
          "name": "stdout",
          "output_type": "stream",
          "text": [
            "Weights: (0.6000000000000001, 0.8, 0.6000000000000001, 0.8, 0.6000000000000001), F1 Score = 0.6266753225797629\n"
          ]
        },
        {
          "name": "stderr",
          "output_type": "stream",
          "text": [
            "Optimizing Weights: (0.6000000000000001, 0.8, 0.8, 0.2, 0.2):  73%|███████▎  | 752/1024 [2:32:14<55:37, 12.27s/it]               "
          ]
        },
        {
          "name": "stdout",
          "output_type": "stream",
          "text": [
            "Weights: (0.6000000000000001, 0.8, 0.6000000000000001, 0.8, 0.8), F1 Score = 0.6027881819201975\n"
          ]
        },
        {
          "name": "stderr",
          "output_type": "stream",
          "text": [
            "Optimizing Weights: (0.6000000000000001, 0.8, 0.8, 0.2, 0.4):  74%|███████▎  | 753/1024 [2:32:26<55:17, 12.24s/it]"
          ]
        },
        {
          "name": "stdout",
          "output_type": "stream",
          "text": [
            "Weights: (0.6000000000000001, 0.8, 0.8, 0.2, 0.2), F1 Score = 0.5945971970997462\n"
          ]
        },
        {
          "name": "stderr",
          "output_type": "stream",
          "text": [
            "Optimizing Weights: (0.6000000000000001, 0.8, 0.8, 0.2, 0.6000000000000001):  74%|███████▎  | 754/1024 [2:32:38<54:23, 12.09s/it]"
          ]
        },
        {
          "name": "stdout",
          "output_type": "stream",
          "text": [
            "Weights: (0.6000000000000001, 0.8, 0.8, 0.2, 0.4), F1 Score = 0.5515496495849834\n"
          ]
        },
        {
          "name": "stderr",
          "output_type": "stream",
          "text": [
            "Optimizing Weights: (0.6000000000000001, 0.8, 0.8, 0.2, 0.8):  74%|███████▎  | 755/1024 [2:32:50<53:56, 12.03s/it]               "
          ]
        },
        {
          "name": "stdout",
          "output_type": "stream",
          "text": [
            "Weights: (0.6000000000000001, 0.8, 0.8, 0.2, 0.6000000000000001), F1 Score = 0.5231718385824696\n"
          ]
        },
        {
          "name": "stderr",
          "output_type": "stream",
          "text": [
            "Optimizing Weights: (0.6000000000000001, 0.8, 0.8, 0.4, 0.2):  74%|███████▍  | 756/1024 [2:33:02<54:19, 12.16s/it]"
          ]
        },
        {
          "name": "stdout",
          "output_type": "stream",
          "text": [
            "Weights: (0.6000000000000001, 0.8, 0.8, 0.2, 0.8), F1 Score = 0.5006481625305028\n"
          ]
        },
        {
          "name": "stderr",
          "output_type": "stream",
          "text": [
            "Optimizing Weights: (0.6000000000000001, 0.8, 0.8, 0.4, 0.4):  74%|███████▍  | 757/1024 [2:33:15<54:23, 12.22s/it]"
          ]
        },
        {
          "name": "stdout",
          "output_type": "stream",
          "text": [
            "Weights: (0.6000000000000001, 0.8, 0.8, 0.4, 0.2), F1 Score = 0.6294059153607993\n"
          ]
        },
        {
          "name": "stderr",
          "output_type": "stream",
          "text": [
            "Optimizing Weights: (0.6000000000000001, 0.8, 0.8, 0.4, 0.6000000000000001):  74%|███████▍  | 758/1024 [2:33:27<54:23, 12.27s/it]"
          ]
        },
        {
          "name": "stdout",
          "output_type": "stream",
          "text": [
            "Weights: (0.6000000000000001, 0.8, 0.8, 0.4, 0.4), F1 Score = 0.6032384900607684\n"
          ]
        },
        {
          "name": "stderr",
          "output_type": "stream",
          "text": [
            "Optimizing Weights: (0.6000000000000001, 0.8, 0.8, 0.4, 0.8):  74%|███████▍  | 759/1024 [2:33:39<54:17, 12.29s/it]               "
          ]
        },
        {
          "name": "stdout",
          "output_type": "stream",
          "text": [
            "Weights: (0.6000000000000001, 0.8, 0.8, 0.4, 0.6000000000000001), F1 Score = 0.5759760729570413\n"
          ]
        },
        {
          "name": "stderr",
          "output_type": "stream",
          "text": [
            "Optimizing Weights: (0.6000000000000001, 0.8, 0.8, 0.6000000000000001, 0.2):  74%|███████▍  | 760/1024 [2:33:52<54:18, 12.34s/it]"
          ]
        },
        {
          "name": "stdout",
          "output_type": "stream",
          "text": [
            "Weights: (0.6000000000000001, 0.8, 0.8, 0.4, 0.8), F1 Score = 0.532192532838378\n"
          ]
        },
        {
          "name": "stderr",
          "output_type": "stream",
          "text": [
            "Optimizing Weights: (0.6000000000000001, 0.8, 0.8, 0.6000000000000001, 0.4):  74%|███████▍  | 761/1024 [2:34:04<54:07, 12.35s/it]"
          ]
        },
        {
          "name": "stdout",
          "output_type": "stream",
          "text": [
            "Weights: (0.6000000000000001, 0.8, 0.8, 0.6000000000000001, 0.2), F1 Score = 0.6445533920433661\n"
          ]
        },
        {
          "name": "stderr",
          "output_type": "stream",
          "text": [
            "Optimizing Weights: (0.6000000000000001, 0.8, 0.8, 0.6000000000000001, 0.6000000000000001):  74%|███████▍  | 762/1024 [2:34:16<53:02, 12.15s/it]"
          ]
        },
        {
          "name": "stdout",
          "output_type": "stream",
          "text": [
            "Weights: (0.6000000000000001, 0.8, 0.8, 0.6000000000000001, 0.4), F1 Score = 0.636345141266557\n"
          ]
        },
        {
          "name": "stderr",
          "output_type": "stream",
          "text": [
            "Optimizing Weights: (0.6000000000000001, 0.8, 0.8, 0.6000000000000001, 0.8):  75%|███████▍  | 763/1024 [2:34:28<52:46, 12.13s/it]               "
          ]
        },
        {
          "name": "stdout",
          "output_type": "stream",
          "text": [
            "Weights: (0.6000000000000001, 0.8, 0.8, 0.6000000000000001, 0.6000000000000001), F1 Score = 0.6142774967456984\n"
          ]
        },
        {
          "name": "stderr",
          "output_type": "stream",
          "text": [
            "Optimizing Weights: (0.6000000000000001, 0.8, 0.8, 0.8, 0.2):  75%|███████▍  | 764/1024 [2:34:40<52:59, 12.23s/it]               "
          ]
        },
        {
          "name": "stdout",
          "output_type": "stream",
          "text": [
            "Weights: (0.6000000000000001, 0.8, 0.8, 0.6000000000000001, 0.8), F1 Score = 0.5901384755982764\n"
          ]
        },
        {
          "name": "stderr",
          "output_type": "stream",
          "text": [
            "Optimizing Weights: (0.6000000000000001, 0.8, 0.8, 0.8, 0.4):  75%|███████▍  | 765/1024 [2:34:53<53:02, 12.29s/it]"
          ]
        },
        {
          "name": "stdout",
          "output_type": "stream",
          "text": [
            "Weights: (0.6000000000000001, 0.8, 0.8, 0.8, 0.2), F1 Score = 0.6581234768502742\n"
          ]
        },
        {
          "name": "stderr",
          "output_type": "stream",
          "text": [
            "Optimizing Weights: (0.6000000000000001, 0.8, 0.8, 0.8, 0.6000000000000001):  75%|███████▍  | 766/1024 [2:35:05<53:16, 12.39s/it]"
          ]
        },
        {
          "name": "stdout",
          "output_type": "stream",
          "text": [
            "Weights: (0.6000000000000001, 0.8, 0.8, 0.8, 0.4), F1 Score = 0.6519694768086626\n"
          ]
        },
        {
          "name": "stderr",
          "output_type": "stream",
          "text": [
            "Optimizing Weights: (0.6000000000000001, 0.8, 0.8, 0.8, 0.8):  75%|███████▍  | 767/1024 [2:35:18<53:06, 12.40s/it]               "
          ]
        },
        {
          "name": "stdout",
          "output_type": "stream",
          "text": [
            "Weights: (0.6000000000000001, 0.8, 0.8, 0.8, 0.6000000000000001), F1 Score = 0.6404052017859465\n"
          ]
        },
        {
          "name": "stderr",
          "output_type": "stream",
          "text": [
            "Optimizing Weights: (0.8, 0.2, 0.2, 0.2, 0.2):  75%|███████▌  | 768/1024 [2:35:30<52:59, 12.42s/it]               "
          ]
        },
        {
          "name": "stdout",
          "output_type": "stream",
          "text": [
            "Weights: (0.6000000000000001, 0.8, 0.8, 0.8, 0.8), F1 Score = 0.6298543924294954\n"
          ]
        },
        {
          "name": "stderr",
          "output_type": "stream",
          "text": [
            "Optimizing Weights: (0.8, 0.2, 0.2, 0.2, 0.4):  75%|███████▌  | 769/1024 [2:35:42<52:12, 12.28s/it]"
          ]
        },
        {
          "name": "stdout",
          "output_type": "stream",
          "text": [
            "Weights: (0.8, 0.2, 0.2, 0.2, 0.2), F1 Score = 0.5275655618854149\n"
          ]
        },
        {
          "name": "stderr",
          "output_type": "stream",
          "text": [
            "Optimizing Weights: (0.8, 0.2, 0.2, 0.2, 0.6000000000000001):  75%|███████▌  | 770/1024 [2:35:54<51:25, 12.15s/it]"
          ]
        },
        {
          "name": "stdout",
          "output_type": "stream",
          "text": [
            "Weights: (0.8, 0.2, 0.2, 0.2, 0.4), F1 Score = 0.49197642573447403\n"
          ]
        },
        {
          "name": "stderr",
          "output_type": "stream",
          "text": [
            "Optimizing Weights: (0.8, 0.2, 0.2, 0.2, 0.8):  75%|███████▌  | 771/1024 [2:36:06<51:02, 12.11s/it]               "
          ]
        },
        {
          "name": "stdout",
          "output_type": "stream",
          "text": [
            "Weights: (0.8, 0.2, 0.2, 0.2, 0.6000000000000001), F1 Score = 0.458189092522974\n"
          ]
        },
        {
          "name": "stderr",
          "output_type": "stream",
          "text": [
            "Optimizing Weights: (0.8, 0.2, 0.2, 0.4, 0.2):  75%|███████▌  | 772/1024 [2:36:19<51:13, 12.20s/it]"
          ]
        },
        {
          "name": "stdout",
          "output_type": "stream",
          "text": [
            "Weights: (0.8, 0.2, 0.2, 0.2, 0.8), F1 Score = 0.4178929331205957\n"
          ]
        },
        {
          "name": "stderr",
          "output_type": "stream",
          "text": [
            "Optimizing Weights: (0.8, 0.2, 0.2, 0.4, 0.4):  75%|███████▌  | 773/1024 [2:36:31<51:18, 12.27s/it]"
          ]
        },
        {
          "name": "stdout",
          "output_type": "stream",
          "text": [
            "Weights: (0.8, 0.2, 0.2, 0.4, 0.2), F1 Score = 0.548459242183972\n"
          ]
        },
        {
          "name": "stderr",
          "output_type": "stream",
          "text": [
            "Optimizing Weights: (0.8, 0.2, 0.2, 0.4, 0.6000000000000001):  76%|███████▌  | 774/1024 [2:36:43<51:15, 12.30s/it]"
          ]
        },
        {
          "name": "stdout",
          "output_type": "stream",
          "text": [
            "Weights: (0.8, 0.2, 0.2, 0.4, 0.4), F1 Score = 0.5321100003374255\n"
          ]
        },
        {
          "name": "stderr",
          "output_type": "stream",
          "text": [
            "Optimizing Weights: (0.8, 0.2, 0.2, 0.4, 0.8):  76%|███████▌  | 775/1024 [2:36:56<51:10, 12.33s/it]               "
          ]
        },
        {
          "name": "stdout",
          "output_type": "stream",
          "text": [
            "Weights: (0.8, 0.2, 0.2, 0.4, 0.6000000000000001), F1 Score = 0.5143900590412461\n"
          ]
        },
        {
          "name": "stderr",
          "output_type": "stream",
          "text": [
            "Optimizing Weights: (0.8, 0.2, 0.2, 0.6000000000000001, 0.2):  76%|███████▌  | 776/1024 [2:37:08<51:00, 12.34s/it]"
          ]
        },
        {
          "name": "stdout",
          "output_type": "stream",
          "text": [
            "Weights: (0.8, 0.2, 0.2, 0.4, 0.8), F1 Score = 0.4774153874584506\n"
          ]
        },
        {
          "name": "stderr",
          "output_type": "stream",
          "text": [
            "Optimizing Weights: (0.8, 0.2, 0.2, 0.6000000000000001, 0.4):  76%|███████▌  | 777/1024 [2:37:20<49:53, 12.12s/it]"
          ]
        },
        {
          "name": "stdout",
          "output_type": "stream",
          "text": [
            "Weights: (0.8, 0.2, 0.2, 0.6000000000000001, 0.2), F1 Score = 0.6441170259659637\n"
          ]
        },
        {
          "name": "stderr",
          "output_type": "stream",
          "text": [
            "Optimizing Weights: (0.8, 0.2, 0.2, 0.6000000000000001, 0.6000000000000001):  76%|███████▌  | 778/1024 [2:37:32<49:21, 12.04s/it]"
          ]
        },
        {
          "name": "stdout",
          "output_type": "stream",
          "text": [
            "Weights: (0.8, 0.2, 0.2, 0.6000000000000001, 0.4), F1 Score = 0.6001802220878806\n"
          ]
        },
        {
          "name": "stderr",
          "output_type": "stream",
          "text": [
            "Optimizing Weights: (0.8, 0.2, 0.2, 0.6000000000000001, 0.8):  76%|███████▌  | 779/1024 [2:37:44<49:31, 12.13s/it]               "
          ]
        },
        {
          "name": "stdout",
          "output_type": "stream",
          "text": [
            "Weights: (0.8, 0.2, 0.2, 0.6000000000000001, 0.6000000000000001), F1 Score = 0.5442974298408373\n"
          ]
        },
        {
          "name": "stderr",
          "output_type": "stream",
          "text": [
            "Optimizing Weights: (0.8, 0.2, 0.2, 0.8, 0.2):  76%|███████▌  | 780/1024 [2:37:56<49:40, 12.22s/it]               "
          ]
        },
        {
          "name": "stdout",
          "output_type": "stream",
          "text": [
            "Weights: (0.8, 0.2, 0.2, 0.6000000000000001, 0.8), F1 Score = 0.5261869468348831\n"
          ]
        },
        {
          "name": "stderr",
          "output_type": "stream",
          "text": [
            "Optimizing Weights: (0.8, 0.2, 0.2, 0.8, 0.4):  76%|███████▋  | 781/1024 [2:38:09<49:32, 12.23s/it]"
          ]
        },
        {
          "name": "stdout",
          "output_type": "stream",
          "text": [
            "Weights: (0.8, 0.2, 0.2, 0.8, 0.2), F1 Score = 0.6590833422782773\n"
          ]
        },
        {
          "name": "stderr",
          "output_type": "stream",
          "text": [
            "Optimizing Weights: (0.8, 0.2, 0.2, 0.8, 0.6000000000000001):  76%|███████▋  | 782/1024 [2:38:21<49:39, 12.31s/it]"
          ]
        },
        {
          "name": "stdout",
          "output_type": "stream",
          "text": [
            "Weights: (0.8, 0.2, 0.2, 0.8, 0.4), F1 Score = 0.6519086037966931\n"
          ]
        },
        {
          "name": "stderr",
          "output_type": "stream",
          "text": [
            "Optimizing Weights: (0.8, 0.2, 0.2, 0.8, 0.8):  76%|███████▋  | 783/1024 [2:38:33<49:32, 12.33s/it]               "
          ]
        },
        {
          "name": "stdout",
          "output_type": "stream",
          "text": [
            "Weights: (0.8, 0.2, 0.2, 0.8, 0.6000000000000001), F1 Score = 0.6307184457715844\n"
          ]
        },
        {
          "name": "stderr",
          "output_type": "stream",
          "text": [
            "Optimizing Weights: (0.8, 0.2, 0.4, 0.2, 0.2):  77%|███████▋  | 784/1024 [2:38:46<49:04, 12.27s/it]"
          ]
        },
        {
          "name": "stdout",
          "output_type": "stream",
          "text": [
            "Weights: (0.8, 0.2, 0.2, 0.8, 0.8), F1 Score = 0.5887890840845581\n"
          ]
        },
        {
          "name": "stderr",
          "output_type": "stream",
          "text": [
            "Optimizing Weights: (0.8, 0.2, 0.4, 0.2, 0.4):  77%|███████▋  | 785/1024 [2:38:57<48:00, 12.05s/it]"
          ]
        },
        {
          "name": "stdout",
          "output_type": "stream",
          "text": [
            "Weights: (0.8, 0.2, 0.4, 0.2, 0.2), F1 Score = 0.541827400553611\n"
          ]
        },
        {
          "name": "stderr",
          "output_type": "stream",
          "text": [
            "Optimizing Weights: (0.8, 0.2, 0.4, 0.2, 0.6000000000000001):  77%|███████▋  | 786/1024 [2:39:09<47:39, 12.02s/it]"
          ]
        },
        {
          "name": "stdout",
          "output_type": "stream",
          "text": [
            "Weights: (0.8, 0.2, 0.4, 0.2, 0.4), F1 Score = 0.5262783183200523\n"
          ]
        },
        {
          "name": "stderr",
          "output_type": "stream",
          "text": [
            "Optimizing Weights: (0.8, 0.2, 0.4, 0.2, 0.8):  77%|███████▋  | 787/1024 [2:39:21<47:45, 12.09s/it]               "
          ]
        },
        {
          "name": "stdout",
          "output_type": "stream",
          "text": [
            "Weights: (0.8, 0.2, 0.4, 0.2, 0.6000000000000001), F1 Score = 0.5086286896355608\n"
          ]
        },
        {
          "name": "stderr",
          "output_type": "stream",
          "text": [
            "Optimizing Weights: (0.8, 0.2, 0.4, 0.4, 0.2):  77%|███████▋  | 788/1024 [2:39:34<47:41, 12.13s/it]"
          ]
        },
        {
          "name": "stdout",
          "output_type": "stream",
          "text": [
            "Weights: (0.8, 0.2, 0.4, 0.2, 0.8), F1 Score = 0.4675080281367077\n"
          ]
        },
        {
          "name": "stderr",
          "output_type": "stream",
          "text": [
            "Optimizing Weights: (0.8, 0.2, 0.4, 0.4, 0.4):  77%|███████▋  | 789/1024 [2:39:46<47:36, 12.16s/it]"
          ]
        },
        {
          "name": "stdout",
          "output_type": "stream",
          "text": [
            "Weights: (0.8, 0.2, 0.4, 0.4, 0.2), F1 Score = 0.6098111445970298\n"
          ]
        },
        {
          "name": "stderr",
          "output_type": "stream",
          "text": [
            "Optimizing Weights: (0.8, 0.2, 0.4, 0.4, 0.6000000000000001):  77%|███████▋  | 790/1024 [2:39:58<47:54, 12.28s/it]"
          ]
        },
        {
          "name": "stdout",
          "output_type": "stream",
          "text": [
            "Weights: (0.8, 0.2, 0.4, 0.4, 0.4), F1 Score = 0.5745907175388637\n"
          ]
        },
        {
          "name": "stderr",
          "output_type": "stream",
          "text": [
            "Optimizing Weights: (0.8, 0.2, 0.4, 0.4, 0.8):  77%|███████▋  | 791/1024 [2:40:11<47:39, 12.27s/it]               "
          ]
        },
        {
          "name": "stdout",
          "output_type": "stream",
          "text": [
            "Weights: (0.8, 0.2, 0.4, 0.4, 0.6000000000000001), F1 Score = 0.5254956378540692\n"
          ]
        },
        {
          "name": "stderr",
          "output_type": "stream",
          "text": [
            "Optimizing Weights: (0.8, 0.2, 0.4, 0.6000000000000001, 0.2):  77%|███████▋  | 792/1024 [2:40:23<47:36, 12.31s/it]"
          ]
        },
        {
          "name": "stdout",
          "output_type": "stream",
          "text": [
            "Weights: (0.8, 0.2, 0.4, 0.4, 0.8), F1 Score = 0.5104467556303734\n"
          ]
        },
        {
          "name": "stderr",
          "output_type": "stream",
          "text": [
            "Optimizing Weights: (0.8, 0.2, 0.4, 0.6000000000000001, 0.4):  77%|███████▋  | 793/1024 [2:40:35<46:38, 12.11s/it]"
          ]
        },
        {
          "name": "stdout",
          "output_type": "stream",
          "text": [
            "Weights: (0.8, 0.2, 0.4, 0.6000000000000001, 0.2), F1 Score = 0.6492396554576838\n"
          ]
        },
        {
          "name": "stderr",
          "output_type": "stream",
          "text": [
            "Optimizing Weights: (0.8, 0.2, 0.4, 0.6000000000000001, 0.6000000000000001):  78%|███████▊  | 794/1024 [2:40:47<46:33, 12.15s/it]"
          ]
        },
        {
          "name": "stdout",
          "output_type": "stream",
          "text": [
            "Weights: (0.8, 0.2, 0.4, 0.6000000000000001, 0.4), F1 Score = 0.6278749326871297\n"
          ]
        },
        {
          "name": "stderr",
          "output_type": "stream",
          "text": [
            "Optimizing Weights: (0.8, 0.2, 0.4, 0.6000000000000001, 0.8):  78%|███████▊  | 795/1024 [2:40:59<46:32, 12.20s/it]               "
          ]
        },
        {
          "name": "stdout",
          "output_type": "stream",
          "text": [
            "Weights: (0.8, 0.2, 0.4, 0.6000000000000001, 0.6000000000000001), F1 Score = 0.6046657435701553\n"
          ]
        },
        {
          "name": "stderr",
          "output_type": "stream",
          "text": [
            "Optimizing Weights: (0.8, 0.2, 0.4, 0.8, 0.2):  78%|███████▊  | 796/1024 [2:41:11<46:23, 12.21s/it]               "
          ]
        },
        {
          "name": "stdout",
          "output_type": "stream",
          "text": [
            "Weights: (0.8, 0.2, 0.4, 0.6000000000000001, 0.8), F1 Score = 0.5593125000000001\n"
          ]
        },
        {
          "name": "stderr",
          "output_type": "stream",
          "text": [
            "Optimizing Weights: (0.8, 0.2, 0.4, 0.8, 0.4):  78%|███████▊  | 797/1024 [2:41:24<46:29, 12.29s/it]"
          ]
        },
        {
          "name": "stdout",
          "output_type": "stream",
          "text": [
            "Weights: (0.8, 0.2, 0.4, 0.8, 0.2), F1 Score = 0.6688911065581755\n"
          ]
        },
        {
          "name": "stderr",
          "output_type": "stream",
          "text": [
            "Optimizing Weights: (0.8, 0.2, 0.4, 0.8, 0.6000000000000001):  78%|███████▊  | 798/1024 [2:41:36<46:15, 12.28s/it]"
          ]
        },
        {
          "name": "stdout",
          "output_type": "stream",
          "text": [
            "Weights: (0.8, 0.2, 0.4, 0.8, 0.4), F1 Score = 0.6557979221955577\n"
          ]
        },
        {
          "name": "stderr",
          "output_type": "stream",
          "text": [
            "Optimizing Weights: (0.8, 0.2, 0.4, 0.8, 0.8):  78%|███████▊  | 799/1024 [2:41:49<46:11, 12.32s/it]               "
          ]
        },
        {
          "name": "stdout",
          "output_type": "stream",
          "text": [
            "Weights: (0.8, 0.2, 0.4, 0.8, 0.6000000000000001), F1 Score = 0.6437741666896593\n"
          ]
        },
        {
          "name": "stderr",
          "output_type": "stream",
          "text": [
            "Optimizing Weights: (0.8, 0.2, 0.6000000000000001, 0.2, 0.2):  78%|███████▊  | 800/1024 [2:42:01<45:46, 12.26s/it]"
          ]
        },
        {
          "name": "stdout",
          "output_type": "stream",
          "text": [
            "Weights: (0.8, 0.2, 0.4, 0.8, 0.8), F1 Score = 0.6228045712355857\n"
          ]
        },
        {
          "name": "stderr",
          "output_type": "stream",
          "text": [
            "Optimizing Weights: (0.8, 0.2, 0.6000000000000001, 0.2, 0.4):  78%|███████▊  | 801/1024 [2:42:12<44:56, 12.09s/it]"
          ]
        },
        {
          "name": "stdout",
          "output_type": "stream",
          "text": [
            "Weights: (0.8, 0.2, 0.6000000000000001, 0.2, 0.2), F1 Score = 0.6174546349628317\n"
          ]
        },
        {
          "name": "stderr",
          "output_type": "stream",
          "text": [
            "Optimizing Weights: (0.8, 0.2, 0.6000000000000001, 0.2, 0.6000000000000001):  78%|███████▊  | 802/1024 [2:42:24<44:45, 12.10s/it]"
          ]
        },
        {
          "name": "stdout",
          "output_type": "stream",
          "text": [
            "Weights: (0.8, 0.2, 0.6000000000000001, 0.2, 0.4), F1 Score = 0.5760449821773156\n"
          ]
        },
        {
          "name": "stderr",
          "output_type": "stream",
          "text": [
            "Optimizing Weights: (0.8, 0.2, 0.6000000000000001, 0.2, 0.8):  78%|███████▊  | 803/1024 [2:42:37<44:47, 12.16s/it]               "
          ]
        },
        {
          "name": "stdout",
          "output_type": "stream",
          "text": [
            "Weights: (0.8, 0.2, 0.6000000000000001, 0.2, 0.6000000000000001), F1 Score = 0.5333895772472381\n"
          ]
        },
        {
          "name": "stderr",
          "output_type": "stream",
          "text": [
            "Optimizing Weights: (0.8, 0.2, 0.6000000000000001, 0.4, 0.2):  79%|███████▊  | 804/1024 [2:42:49<44:55, 12.25s/it]"
          ]
        },
        {
          "name": "stdout",
          "output_type": "stream",
          "text": [
            "Weights: (0.8, 0.2, 0.6000000000000001, 0.2, 0.8), F1 Score = 0.5165205137956608\n"
          ]
        },
        {
          "name": "stderr",
          "output_type": "stream",
          "text": [
            "Optimizing Weights: (0.8, 0.2, 0.6000000000000001, 0.4, 0.4):  79%|███████▊  | 805/1024 [2:43:02<45:02, 12.34s/it]"
          ]
        },
        {
          "name": "stdout",
          "output_type": "stream",
          "text": [
            "Weights: (0.8, 0.2, 0.6000000000000001, 0.4, 0.2), F1 Score = 0.6347748794434451\n"
          ]
        },
        {
          "name": "stderr",
          "output_type": "stream",
          "text": [
            "Optimizing Weights: (0.8, 0.2, 0.6000000000000001, 0.4, 0.6000000000000001):  79%|███████▊  | 806/1024 [2:43:14<44:41, 12.30s/it]"
          ]
        },
        {
          "name": "stdout",
          "output_type": "stream",
          "text": [
            "Weights: (0.8, 0.2, 0.6000000000000001, 0.4, 0.4), F1 Score = 0.6167293942650283\n"
          ]
        },
        {
          "name": "stderr",
          "output_type": "stream",
          "text": [
            "Optimizing Weights: (0.8, 0.2, 0.6000000000000001, 0.4, 0.8):  79%|███████▉  | 807/1024 [2:43:26<44:36, 12.33s/it]               "
          ]
        },
        {
          "name": "stdout",
          "output_type": "stream",
          "text": [
            "Weights: (0.8, 0.2, 0.6000000000000001, 0.4, 0.6000000000000001), F1 Score = 0.5927497466751521\n"
          ]
        },
        {
          "name": "stderr",
          "output_type": "stream",
          "text": [
            "Optimizing Weights: (0.8, 0.2, 0.6000000000000001, 0.6000000000000001, 0.2):  79%|███████▉  | 808/1024 [2:43:39<44:16, 12.30s/it]"
          ]
        },
        {
          "name": "stdout",
          "output_type": "stream",
          "text": [
            "Weights: (0.8, 0.2, 0.6000000000000001, 0.4, 0.8), F1 Score = 0.5503333582238153\n"
          ]
        },
        {
          "name": "stderr",
          "output_type": "stream",
          "text": [
            "Optimizing Weights: (0.8, 0.2, 0.6000000000000001, 0.6000000000000001, 0.4):  79%|███████▉  | 809/1024 [2:43:50<43:24, 12.11s/it]"
          ]
        },
        {
          "name": "stdout",
          "output_type": "stream",
          "text": [
            "Weights: (0.8, 0.2, 0.6000000000000001, 0.6000000000000001, 0.2), F1 Score = 0.6531844611296839\n"
          ]
        },
        {
          "name": "stderr",
          "output_type": "stream",
          "text": [
            "Optimizing Weights: (0.8, 0.2, 0.6000000000000001, 0.6000000000000001, 0.6000000000000001):  79%|███████▉  | 810/1024 [2:44:02<43:00, 12.06s/it]"
          ]
        },
        {
          "name": "stdout",
          "output_type": "stream",
          "text": [
            "Weights: (0.8, 0.2, 0.6000000000000001, 0.6000000000000001, 0.4), F1 Score = 0.6431276679900467\n"
          ]
        },
        {
          "name": "stderr",
          "output_type": "stream",
          "text": [
            "Optimizing Weights: (0.8, 0.2, 0.6000000000000001, 0.6000000000000001, 0.8):  79%|███████▉  | 811/1024 [2:44:15<43:01, 12.12s/it]               "
          ]
        },
        {
          "name": "stdout",
          "output_type": "stream",
          "text": [
            "Weights: (0.8, 0.2, 0.6000000000000001, 0.6000000000000001, 0.6000000000000001), F1 Score = 0.625883504731827\n"
          ]
        },
        {
          "name": "stderr",
          "output_type": "stream",
          "text": [
            "Optimizing Weights: (0.8, 0.2, 0.6000000000000001, 0.8, 0.2):  79%|███████▉  | 812/1024 [2:44:27<43:14, 12.24s/it]               "
          ]
        },
        {
          "name": "stdout",
          "output_type": "stream",
          "text": [
            "Weights: (0.8, 0.2, 0.6000000000000001, 0.6000000000000001, 0.8), F1 Score = 0.6065157917051625\n"
          ]
        },
        {
          "name": "stderr",
          "output_type": "stream",
          "text": [
            "Optimizing Weights: (0.8, 0.2, 0.6000000000000001, 0.8, 0.4):  79%|███████▉  | 813/1024 [2:44:39<43:12, 12.29s/it]"
          ]
        },
        {
          "name": "stdout",
          "output_type": "stream",
          "text": [
            "Weights: (0.8, 0.2, 0.6000000000000001, 0.8, 0.2), F1 Score = 0.667418248569696\n"
          ]
        },
        {
          "name": "stderr",
          "output_type": "stream",
          "text": [
            "Optimizing Weights: (0.8, 0.2, 0.6000000000000001, 0.8, 0.6000000000000001):  79%|███████▉  | 814/1024 [2:44:52<43:02, 12.30s/it]"
          ]
        },
        {
          "name": "stdout",
          "output_type": "stream",
          "text": [
            "Weights: (0.8, 0.2, 0.6000000000000001, 0.8, 0.4), F1 Score = 0.6607570615829923\n"
          ]
        },
        {
          "name": "stderr",
          "output_type": "stream",
          "text": [
            "Optimizing Weights: (0.8, 0.2, 0.6000000000000001, 0.8, 0.8):  80%|███████▉  | 815/1024 [2:45:06<44:23, 12.74s/it]               "
          ]
        },
        {
          "name": "stdout",
          "output_type": "stream",
          "text": [
            "Weights: (0.8, 0.2, 0.6000000000000001, 0.8, 0.6000000000000001), F1 Score = 0.6497407875722544\n"
          ]
        },
        {
          "name": "stderr",
          "output_type": "stream",
          "text": [
            "Optimizing Weights: (0.8, 0.2, 0.8, 0.2, 0.2):  80%|███████▉  | 816/1024 [2:45:19<44:56, 12.96s/it]               "
          ]
        },
        {
          "name": "stdout",
          "output_type": "stream",
          "text": [
            "Weights: (0.8, 0.2, 0.6000000000000001, 0.8, 0.8), F1 Score = 0.6381246640055322\n"
          ]
        },
        {
          "name": "stderr",
          "output_type": "stream",
          "text": [
            "Optimizing Weights: (0.8, 0.2, 0.8, 0.2, 0.4):  80%|███████▉  | 817/1024 [2:45:38<51:04, 14.80s/it]"
          ]
        },
        {
          "name": "stdout",
          "output_type": "stream",
          "text": [
            "Weights: (0.8, 0.2, 0.8, 0.2, 0.2), F1 Score = 0.6460235092878502\n"
          ]
        },
        {
          "name": "stderr",
          "output_type": "stream",
          "text": [
            "Optimizing Weights: (0.8, 0.2, 0.8, 0.2, 0.6000000000000001):  80%|███████▉  | 818/1024 [2:45:56<53:39, 15.63s/it]"
          ]
        },
        {
          "name": "stdout",
          "output_type": "stream",
          "text": [
            "Weights: (0.8, 0.2, 0.8, 0.2, 0.4), F1 Score = 0.6243955514822752\n"
          ]
        },
        {
          "name": "stderr",
          "output_type": "stream",
          "text": [
            "Optimizing Weights: (0.8, 0.2, 0.8, 0.2, 0.8):  80%|███████▉  | 819/1024 [2:46:08<49:57, 14.62s/it]               "
          ]
        },
        {
          "name": "stdout",
          "output_type": "stream",
          "text": [
            "Weights: (0.8, 0.2, 0.8, 0.2, 0.6000000000000001), F1 Score = 0.5992332121899173\n"
          ]
        },
        {
          "name": "stderr",
          "output_type": "stream",
          "text": [
            "Optimizing Weights: (0.8, 0.2, 0.8, 0.4, 0.2):  80%|████████  | 820/1024 [2:46:20<47:17, 13.91s/it]"
          ]
        },
        {
          "name": "stdout",
          "output_type": "stream",
          "text": [
            "Weights: (0.8, 0.2, 0.8, 0.2, 0.8), F1 Score = 0.5571111686238424\n"
          ]
        },
        {
          "name": "stderr",
          "output_type": "stream",
          "text": [
            "Optimizing Weights: (0.8, 0.2, 0.8, 0.4, 0.4):  80%|████████  | 821/1024 [2:46:32<45:16, 13.38s/it]"
          ]
        },
        {
          "name": "stdout",
          "output_type": "stream",
          "text": [
            "Weights: (0.8, 0.2, 0.8, 0.4, 0.2), F1 Score = 0.6565767163500916\n"
          ]
        },
        {
          "name": "stderr",
          "output_type": "stream",
          "text": [
            "Optimizing Weights: (0.8, 0.2, 0.8, 0.4, 0.6000000000000001):  80%|████████  | 822/1024 [2:46:45<43:56, 13.05s/it]"
          ]
        },
        {
          "name": "stdout",
          "output_type": "stream",
          "text": [
            "Weights: (0.8, 0.2, 0.8, 0.4, 0.4), F1 Score = 0.6390529302027413\n"
          ]
        },
        {
          "name": "stderr",
          "output_type": "stream",
          "text": [
            "Optimizing Weights: (0.8, 0.2, 0.8, 0.4, 0.8):  80%|████████  | 823/1024 [2:46:57<42:57, 12.82s/it]               "
          ]
        },
        {
          "name": "stdout",
          "output_type": "stream",
          "text": [
            "Weights: (0.8, 0.2, 0.8, 0.4, 0.6000000000000001), F1 Score = 0.6220897719212092\n"
          ]
        },
        {
          "name": "stderr",
          "output_type": "stream",
          "text": [
            "Optimizing Weights: (0.8, 0.2, 0.8, 0.6000000000000001, 0.2):  80%|████████  | 824/1024 [2:47:08<41:20, 12.40s/it]"
          ]
        },
        {
          "name": "stdout",
          "output_type": "stream",
          "text": [
            "Weights: (0.8, 0.2, 0.8, 0.4, 0.8), F1 Score = 0.6027590332273293\n"
          ]
        },
        {
          "name": "stderr",
          "output_type": "stream",
          "text": [
            "Optimizing Weights: (0.8, 0.2, 0.8, 0.6000000000000001, 0.4):  81%|████████  | 825/1024 [2:47:20<40:44, 12.28s/it]"
          ]
        },
        {
          "name": "stdout",
          "output_type": "stream",
          "text": [
            "Weights: (0.8, 0.2, 0.8, 0.6000000000000001, 0.2), F1 Score = 0.6628644664033707\n"
          ]
        },
        {
          "name": "stderr",
          "output_type": "stream",
          "text": [
            "Optimizing Weights: (0.8, 0.2, 0.8, 0.6000000000000001, 0.6000000000000001):  81%|████████  | 826/1024 [2:47:33<40:44, 12.35s/it]"
          ]
        },
        {
          "name": "stdout",
          "output_type": "stream",
          "text": [
            "Weights: (0.8, 0.2, 0.8, 0.6000000000000001, 0.4), F1 Score = 0.6564388353160134\n"
          ]
        },
        {
          "name": "stderr",
          "output_type": "stream",
          "text": [
            "Optimizing Weights: (0.8, 0.2, 0.8, 0.6000000000000001, 0.8):  81%|████████  | 827/1024 [2:47:46<40:52, 12.45s/it]               "
          ]
        },
        {
          "name": "stdout",
          "output_type": "stream",
          "text": [
            "Weights: (0.8, 0.2, 0.8, 0.6000000000000001, 0.6000000000000001), F1 Score = 0.6405897474201205\n"
          ]
        },
        {
          "name": "stderr",
          "output_type": "stream",
          "text": [
            "Optimizing Weights: (0.8, 0.2, 0.8, 0.8, 0.2):  81%|████████  | 828/1024 [2:47:58<40:41, 12.46s/it]               "
          ]
        },
        {
          "name": "stdout",
          "output_type": "stream",
          "text": [
            "Weights: (0.8, 0.2, 0.8, 0.6000000000000001, 0.8), F1 Score = 0.6300234489386427\n"
          ]
        },
        {
          "name": "stderr",
          "output_type": "stream",
          "text": [
            "Optimizing Weights: (0.8, 0.2, 0.8, 0.8, 0.4):  81%|████████  | 829/1024 [2:48:10<40:21, 12.42s/it]"
          ]
        },
        {
          "name": "stdout",
          "output_type": "stream",
          "text": [
            "Weights: (0.8, 0.2, 0.8, 0.8, 0.2), F1 Score = 0.6650536980749746\n"
          ]
        },
        {
          "name": "stderr",
          "output_type": "stream",
          "text": [
            "Optimizing Weights: (0.8, 0.2, 0.8, 0.8, 0.6000000000000001):  81%|████████  | 830/1024 [2:48:23<40:04, 12.39s/it]"
          ]
        },
        {
          "name": "stdout",
          "output_type": "stream",
          "text": [
            "Weights: (0.8, 0.2, 0.8, 0.8, 0.4), F1 Score = 0.6607897319653224\n"
          ]
        },
        {
          "name": "stderr",
          "output_type": "stream",
          "text": [
            "Optimizing Weights: (0.8, 0.2, 0.8, 0.8, 0.8):  81%|████████  | 831/1024 [2:48:35<39:28, 12.27s/it]               "
          ]
        },
        {
          "name": "stdout",
          "output_type": "stream",
          "text": [
            "Weights: (0.8, 0.2, 0.8, 0.8, 0.6000000000000001), F1 Score = 0.6603961675025399\n"
          ]
        },
        {
          "name": "stderr",
          "output_type": "stream",
          "text": [
            "Optimizing Weights: (0.8, 0.4, 0.2, 0.2, 0.2):  81%|████████▏ | 832/1024 [2:48:47<38:55, 12.16s/it]"
          ]
        },
        {
          "name": "stdout",
          "output_type": "stream",
          "text": [
            "Weights: (0.8, 0.2, 0.8, 0.8, 0.8), F1 Score = 0.6526498473282442\n"
          ]
        },
        {
          "name": "stderr",
          "output_type": "stream",
          "text": [
            "Optimizing Weights: (0.8, 0.4, 0.2, 0.2, 0.4):  81%|████████▏ | 833/1024 [2:48:59<39:04, 12.28s/it]"
          ]
        },
        {
          "name": "stdout",
          "output_type": "stream",
          "text": [
            "Weights: (0.8, 0.4, 0.2, 0.2, 0.2), F1 Score = 0.5120599633179505\n"
          ]
        },
        {
          "name": "stderr",
          "output_type": "stream",
          "text": [
            "Optimizing Weights: (0.8, 0.4, 0.2, 0.2, 0.6000000000000001):  81%|████████▏ | 834/1024 [2:49:12<39:00, 12.32s/it]"
          ]
        },
        {
          "name": "stdout",
          "output_type": "stream",
          "text": [
            "Weights: (0.8, 0.4, 0.2, 0.2, 0.4), F1 Score = 0.47392575889104543\n"
          ]
        },
        {
          "name": "stderr",
          "output_type": "stream",
          "text": [
            "Optimizing Weights: (0.8, 0.4, 0.2, 0.2, 0.8):  82%|████████▏ | 835/1024 [2:49:24<39:07, 12.42s/it]               "
          ]
        },
        {
          "name": "stdout",
          "output_type": "stream",
          "text": [
            "Weights: (0.8, 0.4, 0.2, 0.2, 0.6000000000000001), F1 Score = 0.4424722446980666\n"
          ]
        },
        {
          "name": "stderr",
          "output_type": "stream",
          "text": [
            "Optimizing Weights: (0.8, 0.4, 0.2, 0.4, 0.2):  82%|████████▏ | 836/1024 [2:49:37<38:59, 12.44s/it]"
          ]
        },
        {
          "name": "stdout",
          "output_type": "stream",
          "text": [
            "Weights: (0.8, 0.4, 0.2, 0.2, 0.8), F1 Score = 0.3979145162236265\n"
          ]
        },
        {
          "name": "stderr",
          "output_type": "stream",
          "text": [
            "Optimizing Weights: (0.8, 0.4, 0.2, 0.4, 0.4):  82%|████████▏ | 837/1024 [2:49:49<38:42, 12.42s/it]"
          ]
        },
        {
          "name": "stdout",
          "output_type": "stream",
          "text": [
            "Weights: (0.8, 0.4, 0.2, 0.4, 0.2), F1 Score = 0.5367794337359577\n"
          ]
        },
        {
          "name": "stderr",
          "output_type": "stream",
          "text": [
            "Optimizing Weights: (0.8, 0.4, 0.2, 0.4, 0.6000000000000001):  82%|████████▏ | 838/1024 [2:50:02<38:35, 12.45s/it]"
          ]
        },
        {
          "name": "stdout",
          "output_type": "stream",
          "text": [
            "Weights: (0.8, 0.4, 0.2, 0.4, 0.4), F1 Score = 0.5203310351049992\n"
          ]
        },
        {
          "name": "stderr",
          "output_type": "stream",
          "text": [
            "Optimizing Weights: (0.8, 0.4, 0.2, 0.4, 0.8):  82%|████████▏ | 839/1024 [2:50:13<37:52, 12.28s/it]               "
          ]
        },
        {
          "name": "stdout",
          "output_type": "stream",
          "text": [
            "Weights: (0.8, 0.4, 0.2, 0.4, 0.6000000000000001), F1 Score = 0.49336270491803275\n"
          ]
        },
        {
          "name": "stderr",
          "output_type": "stream",
          "text": [
            "Optimizing Weights: (0.8, 0.4, 0.2, 0.6000000000000001, 0.2):  82%|████████▏ | 840/1024 [2:50:25<37:19, 12.17s/it]"
          ]
        },
        {
          "name": "stdout",
          "output_type": "stream",
          "text": [
            "Weights: (0.8, 0.4, 0.2, 0.4, 0.8), F1 Score = 0.4589962926566309\n"
          ]
        },
        {
          "name": "stderr",
          "output_type": "stream",
          "text": [
            "Optimizing Weights: (0.8, 0.4, 0.2, 0.6000000000000001, 0.4):  82%|████████▏ | 841/1024 [2:50:38<37:20, 12.24s/it]"
          ]
        },
        {
          "name": "stdout",
          "output_type": "stream",
          "text": [
            "Weights: (0.8, 0.4, 0.2, 0.6000000000000001, 0.2), F1 Score = 0.5986361785514327\n"
          ]
        },
        {
          "name": "stderr",
          "output_type": "stream",
          "text": [
            "Optimizing Weights: (0.8, 0.4, 0.2, 0.6000000000000001, 0.6000000000000001):  82%|████████▏ | 842/1024 [2:50:50<37:07, 12.24s/it]"
          ]
        },
        {
          "name": "stdout",
          "output_type": "stream",
          "text": [
            "Weights: (0.8, 0.4, 0.2, 0.6000000000000001, 0.4), F1 Score = 0.550938969386367\n"
          ]
        },
        {
          "name": "stderr",
          "output_type": "stream",
          "text": [
            "Optimizing Weights: (0.8, 0.4, 0.2, 0.6000000000000001, 0.8):  82%|████████▏ | 843/1024 [2:51:02<37:01, 12.27s/it]               "
          ]
        },
        {
          "name": "stdout",
          "output_type": "stream",
          "text": [
            "Weights: (0.8, 0.4, 0.2, 0.6000000000000001, 0.6000000000000001), F1 Score = 0.5340132531609804\n"
          ]
        },
        {
          "name": "stderr",
          "output_type": "stream",
          "text": [
            "Optimizing Weights: (0.8, 0.4, 0.2, 0.8, 0.2):  82%|████████▏ | 844/1024 [2:51:15<36:48, 12.27s/it]               "
          ]
        },
        {
          "name": "stdout",
          "output_type": "stream",
          "text": [
            "Weights: (0.8, 0.4, 0.2, 0.6000000000000001, 0.8), F1 Score = 0.5165953097409259\n"
          ]
        },
        {
          "name": "stderr",
          "output_type": "stream",
          "text": [
            "Optimizing Weights: (0.8, 0.4, 0.2, 0.8, 0.4):  83%|████████▎ | 845/1024 [2:51:27<36:34, 12.26s/it]"
          ]
        },
        {
          "name": "stdout",
          "output_type": "stream",
          "text": [
            "Weights: (0.8, 0.4, 0.2, 0.8, 0.2), F1 Score = 0.6533045364640004\n"
          ]
        },
        {
          "name": "stderr",
          "output_type": "stream",
          "text": [
            "Optimizing Weights: (0.8, 0.4, 0.2, 0.8, 0.6000000000000001):  83%|████████▎ | 846/1024 [2:51:39<36:27, 12.29s/it]"
          ]
        },
        {
          "name": "stdout",
          "output_type": "stream",
          "text": [
            "Weights: (0.8, 0.4, 0.2, 0.8, 0.4), F1 Score = 0.6302734835095778\n"
          ]
        },
        {
          "name": "stderr",
          "output_type": "stream",
          "text": [
            "Optimizing Weights: (0.8, 0.4, 0.2, 0.8, 0.8):  83%|████████▎ | 847/1024 [2:51:51<36:08, 12.25s/it]               "
          ]
        },
        {
          "name": "stdout",
          "output_type": "stream",
          "text": [
            "Weights: (0.8, 0.4, 0.2, 0.8, 0.6000000000000001), F1 Score = 0.5906115826039775\n"
          ]
        },
        {
          "name": "stderr",
          "output_type": "stream",
          "text": [
            "Optimizing Weights: (0.8, 0.4, 0.4, 0.2, 0.2):  83%|████████▎ | 848/1024 [2:52:03<35:25, 12.07s/it]"
          ]
        },
        {
          "name": "stdout",
          "output_type": "stream",
          "text": [
            "Weights: (0.8, 0.4, 0.2, 0.8, 0.8), F1 Score = 0.5450976285065093\n"
          ]
        },
        {
          "name": "stderr",
          "output_type": "stream",
          "text": [
            "Optimizing Weights: (0.8, 0.4, 0.4, 0.2, 0.4):  83%|████████▎ | 849/1024 [2:52:15<35:05, 12.03s/it]"
          ]
        },
        {
          "name": "stdout",
          "output_type": "stream",
          "text": [
            "Weights: (0.8, 0.4, 0.4, 0.2, 0.2), F1 Score = 0.5313162873619676\n"
          ]
        },
        {
          "name": "stderr",
          "output_type": "stream",
          "text": [
            "Optimizing Weights: (0.8, 0.4, 0.4, 0.2, 0.6000000000000001):  83%|████████▎ | 850/1024 [2:52:27<35:13, 12.15s/it]"
          ]
        },
        {
          "name": "stdout",
          "output_type": "stream",
          "text": [
            "Weights: (0.8, 0.4, 0.4, 0.2, 0.4), F1 Score = 0.5142140498718707\n"
          ]
        },
        {
          "name": "stderr",
          "output_type": "stream",
          "text": [
            "Optimizing Weights: (0.8, 0.4, 0.4, 0.2, 0.8):  83%|████████▎ | 851/1024 [2:52:40<35:22, 12.27s/it]               "
          ]
        },
        {
          "name": "stdout",
          "output_type": "stream",
          "text": [
            "Weights: (0.8, 0.4, 0.4, 0.2, 0.6000000000000001), F1 Score = 0.4828454597157916\n"
          ]
        },
        {
          "name": "stderr",
          "output_type": "stream",
          "text": [
            "Optimizing Weights: (0.8, 0.4, 0.4, 0.4, 0.2):  83%|████████▎ | 852/1024 [2:52:52<35:22, 12.34s/it]"
          ]
        },
        {
          "name": "stdout",
          "output_type": "stream",
          "text": [
            "Weights: (0.8, 0.4, 0.4, 0.2, 0.8), F1 Score = 0.45047046946882036\n"
          ]
        },
        {
          "name": "stderr",
          "output_type": "stream",
          "text": [
            "Optimizing Weights: (0.8, 0.4, 0.4, 0.4, 0.4):  83%|████████▎ | 853/1024 [2:53:05<35:18, 12.39s/it]"
          ]
        },
        {
          "name": "stdout",
          "output_type": "stream",
          "text": [
            "Weights: (0.8, 0.4, 0.4, 0.4, 0.2), F1 Score = 0.5763913021649195\n"
          ]
        },
        {
          "name": "stderr",
          "output_type": "stream",
          "text": [
            "Optimizing Weights: (0.8, 0.4, 0.4, 0.4, 0.6000000000000001):  83%|████████▎ | 854/1024 [2:53:17<35:03, 12.37s/it]"
          ]
        },
        {
          "name": "stdout",
          "output_type": "stream",
          "text": [
            "Weights: (0.8, 0.4, 0.4, 0.4, 0.4), F1 Score = 0.5331775650346572\n"
          ]
        },
        {
          "name": "stderr",
          "output_type": "stream",
          "text": [
            "Optimizing Weights: (0.8, 0.4, 0.4, 0.4, 0.8):  83%|████████▎ | 855/1024 [2:53:29<34:40, 12.31s/it]               "
          ]
        },
        {
          "name": "stdout",
          "output_type": "stream",
          "text": [
            "Weights: (0.8, 0.4, 0.4, 0.4, 0.6000000000000001), F1 Score = 0.5171977133021883\n"
          ]
        },
        {
          "name": "stderr",
          "output_type": "stream",
          "text": [
            "Optimizing Weights: (0.8, 0.4, 0.4, 0.6000000000000001, 0.2):  84%|████████▎ | 856/1024 [2:53:41<33:59, 12.14s/it]"
          ]
        },
        {
          "name": "stdout",
          "output_type": "stream",
          "text": [
            "Weights: (0.8, 0.4, 0.4, 0.4, 0.8), F1 Score = 0.5002462982093664\n"
          ]
        },
        {
          "name": "stderr",
          "output_type": "stream",
          "text": [
            "Optimizing Weights: (0.8, 0.4, 0.4, 0.6000000000000001, 0.4):  84%|████████▎ | 857/1024 [2:53:53<33:46, 12.14s/it]"
          ]
        },
        {
          "name": "stdout",
          "output_type": "stream",
          "text": [
            "Weights: (0.8, 0.4, 0.4, 0.6000000000000001, 0.2), F1 Score = 0.6330999216876606\n"
          ]
        },
        {
          "name": "stderr",
          "output_type": "stream",
          "text": [
            "Optimizing Weights: (0.8, 0.4, 0.4, 0.6000000000000001, 0.6000000000000001):  84%|████████▍ | 858/1024 [2:54:06<33:50, 12.23s/it]"
          ]
        },
        {
          "name": "stdout",
          "output_type": "stream",
          "text": [
            "Weights: (0.8, 0.4, 0.4, 0.6000000000000001, 0.4), F1 Score = 0.6072093926094871\n"
          ]
        },
        {
          "name": "stderr",
          "output_type": "stream",
          "text": [
            "Optimizing Weights: (0.8, 0.4, 0.4, 0.6000000000000001, 0.8):  84%|████████▍ | 859/1024 [2:54:18<33:47, 12.29s/it]               "
          ]
        },
        {
          "name": "stdout",
          "output_type": "stream",
          "text": [
            "Weights: (0.8, 0.4, 0.4, 0.6000000000000001, 0.6000000000000001), F1 Score = 0.5622363803614738\n"
          ]
        },
        {
          "name": "stderr",
          "output_type": "stream",
          "text": [
            "Optimizing Weights: (0.8, 0.4, 0.4, 0.8, 0.2):  84%|████████▍ | 860/1024 [2:54:30<33:33, 12.28s/it]               "
          ]
        },
        {
          "name": "stdout",
          "output_type": "stream",
          "text": [
            "Weights: (0.8, 0.4, 0.4, 0.6000000000000001, 0.8), F1 Score = 0.5288513212698863\n"
          ]
        },
        {
          "name": "stderr",
          "output_type": "stream",
          "text": [
            "Optimizing Weights: (0.8, 0.4, 0.4, 0.8, 0.4):  84%|████████▍ | 861/1024 [2:54:43<33:29, 12.33s/it]"
          ]
        },
        {
          "name": "stdout",
          "output_type": "stream",
          "text": [
            "Weights: (0.8, 0.4, 0.4, 0.8, 0.2), F1 Score = 0.6575253060641753\n"
          ]
        },
        {
          "name": "stderr",
          "output_type": "stream",
          "text": [
            "Optimizing Weights: (0.8, 0.4, 0.4, 0.8, 0.6000000000000001):  84%|████████▍ | 862/1024 [2:54:55<33:10, 12.29s/it]"
          ]
        },
        {
          "name": "stdout",
          "output_type": "stream",
          "text": [
            "Weights: (0.8, 0.4, 0.4, 0.8, 0.4), F1 Score = 0.6455662051812925\n"
          ]
        },
        {
          "name": "stderr",
          "output_type": "stream",
          "text": [
            "Optimizing Weights: (0.8, 0.4, 0.4, 0.8, 0.8):  84%|████████▍ | 863/1024 [2:55:07<32:55, 12.27s/it]               "
          ]
        },
        {
          "name": "stdout",
          "output_type": "stream",
          "text": [
            "Weights: (0.8, 0.4, 0.4, 0.8, 0.6000000000000001), F1 Score = 0.6281438342094132\n"
          ]
        },
        {
          "name": "stderr",
          "output_type": "stream",
          "text": [
            "Optimizing Weights: (0.8, 0.4, 0.6000000000000001, 0.2, 0.2):  84%|████████▍ | 864/1024 [2:55:19<32:19, 12.12s/it]"
          ]
        },
        {
          "name": "stdout",
          "output_type": "stream",
          "text": [
            "Weights: (0.8, 0.4, 0.4, 0.8, 0.8), F1 Score = 0.5977199387796274\n"
          ]
        },
        {
          "name": "stderr",
          "output_type": "stream",
          "text": [
            "Optimizing Weights: (0.8, 0.4, 0.6000000000000001, 0.2, 0.4):  84%|████████▍ | 865/1024 [2:55:31<32:10, 12.14s/it]"
          ]
        },
        {
          "name": "stdout",
          "output_type": "stream",
          "text": [
            "Weights: (0.8, 0.4, 0.6000000000000001, 0.2, 0.2), F1 Score = 0.5738952191993607\n"
          ]
        },
        {
          "name": "stderr",
          "output_type": "stream",
          "text": [
            "Optimizing Weights: (0.8, 0.4, 0.6000000000000001, 0.2, 0.6000000000000001):  85%|████████▍ | 866/1024 [2:55:44<32:09, 12.21s/it]"
          ]
        },
        {
          "name": "stdout",
          "output_type": "stream",
          "text": [
            "Weights: (0.8, 0.4, 0.6000000000000001, 0.2, 0.4), F1 Score = 0.5399963666049026\n"
          ]
        },
        {
          "name": "stderr",
          "output_type": "stream",
          "text": [
            "Optimizing Weights: (0.8, 0.4, 0.6000000000000001, 0.2, 0.8):  85%|████████▍ | 867/1024 [2:55:56<32:18, 12.35s/it]               "
          ]
        },
        {
          "name": "stdout",
          "output_type": "stream",
          "text": [
            "Weights: (0.8, 0.4, 0.6000000000000001, 0.2, 0.6000000000000001), F1 Score = 0.5228414866629584\n"
          ]
        },
        {
          "name": "stderr",
          "output_type": "stream",
          "text": [
            "Optimizing Weights: (0.8, 0.4, 0.6000000000000001, 0.4, 0.2):  85%|████████▍ | 868/1024 [2:56:09<32:10, 12.37s/it]"
          ]
        },
        {
          "name": "stdout",
          "output_type": "stream",
          "text": [
            "Weights: (0.8, 0.4, 0.6000000000000001, 0.2, 0.8), F1 Score = 0.49973112399499797\n"
          ]
        },
        {
          "name": "stderr",
          "output_type": "stream",
          "text": [
            "Optimizing Weights: (0.8, 0.4, 0.6000000000000001, 0.4, 0.4):  85%|████████▍ | 869/1024 [2:56:21<31:56, 12.36s/it]"
          ]
        },
        {
          "name": "stdout",
          "output_type": "stream",
          "text": [
            "Weights: (0.8, 0.4, 0.6000000000000001, 0.4, 0.2), F1 Score = 0.619406160685932\n"
          ]
        },
        {
          "name": "stderr",
          "output_type": "stream",
          "text": [
            "Optimizing Weights: (0.8, 0.4, 0.6000000000000001, 0.4, 0.6000000000000001):  85%|████████▍ | 870/1024 [2:56:33<31:45, 12.37s/it]"
          ]
        },
        {
          "name": "stdout",
          "output_type": "stream",
          "text": [
            "Weights: (0.8, 0.4, 0.6000000000000001, 0.4, 0.4), F1 Score = 0.5954721788023434\n"
          ]
        },
        {
          "name": "stderr",
          "output_type": "stream",
          "text": [
            "Optimizing Weights: (0.8, 0.4, 0.6000000000000001, 0.4, 0.8):  85%|████████▌ | 871/1024 [2:56:46<31:20, 12.29s/it]               "
          ]
        },
        {
          "name": "stdout",
          "output_type": "stream",
          "text": [
            "Weights: (0.8, 0.4, 0.6000000000000001, 0.4, 0.6000000000000001), F1 Score = 0.5514050353356891\n"
          ]
        },
        {
          "name": "stderr",
          "output_type": "stream",
          "text": [
            "Optimizing Weights: (0.8, 0.4, 0.6000000000000001, 0.6000000000000001, 0.2):  85%|████████▌ | 872/1024 [2:56:57<30:34, 12.07s/it]"
          ]
        },
        {
          "name": "stdout",
          "output_type": "stream",
          "text": [
            "Weights: (0.8, 0.4, 0.6000000000000001, 0.4, 0.8), F1 Score = 0.5231022677952605\n"
          ]
        },
        {
          "name": "stderr",
          "output_type": "stream",
          "text": [
            "Optimizing Weights: (0.8, 0.4, 0.6000000000000001, 0.6000000000000001, 0.4):  85%|████████▌ | 873/1024 [2:57:09<30:27, 12.10s/it]"
          ]
        },
        {
          "name": "stdout",
          "output_type": "stream",
          "text": [
            "Weights: (0.8, 0.4, 0.6000000000000001, 0.6000000000000001, 0.2), F1 Score = 0.6448867328749681\n"
          ]
        },
        {
          "name": "stderr",
          "output_type": "stream",
          "text": [
            "Optimizing Weights: (0.8, 0.4, 0.6000000000000001, 0.6000000000000001, 0.6000000000000001):  85%|████████▌ | 874/1024 [2:57:22<30:29, 12.20s/it]"
          ]
        },
        {
          "name": "stdout",
          "output_type": "stream",
          "text": [
            "Weights: (0.8, 0.4, 0.6000000000000001, 0.6000000000000001, 0.4), F1 Score = 0.627790790742469\n"
          ]
        },
        {
          "name": "stderr",
          "output_type": "stream",
          "text": [
            "Optimizing Weights: (0.8, 0.4, 0.6000000000000001, 0.6000000000000001, 0.8):  85%|████████▌ | 875/1024 [2:57:34<30:21, 12.22s/it]               "
          ]
        },
        {
          "name": "stdout",
          "output_type": "stream",
          "text": [
            "Weights: (0.8, 0.4, 0.6000000000000001, 0.6000000000000001, 0.6000000000000001), F1 Score = 0.6063706009731868\n"
          ]
        },
        {
          "name": "stderr",
          "output_type": "stream",
          "text": [
            "Optimizing Weights: (0.8, 0.4, 0.6000000000000001, 0.8, 0.2):  86%|████████▌ | 876/1024 [2:57:46<30:16, 12.27s/it]               "
          ]
        },
        {
          "name": "stdout",
          "output_type": "stream",
          "text": [
            "Weights: (0.8, 0.4, 0.6000000000000001, 0.6000000000000001, 0.8), F1 Score = 0.5858939464907198\n"
          ]
        },
        {
          "name": "stderr",
          "output_type": "stream",
          "text": [
            "Optimizing Weights: (0.8, 0.4, 0.6000000000000001, 0.8, 0.4):  86%|████████▌ | 877/1024 [2:57:59<30:04, 12.27s/it]"
          ]
        },
        {
          "name": "stdout",
          "output_type": "stream",
          "text": [
            "Weights: (0.8, 0.4, 0.6000000000000001, 0.8, 0.2), F1 Score = 0.6577093060902928\n"
          ]
        },
        {
          "name": "stderr",
          "output_type": "stream",
          "text": [
            "Optimizing Weights: (0.8, 0.4, 0.6000000000000001, 0.8, 0.6000000000000001):  86%|████████▌ | 878/1024 [2:58:11<30:00, 12.33s/it]"
          ]
        },
        {
          "name": "stdout",
          "output_type": "stream",
          "text": [
            "Weights: (0.8, 0.4, 0.6000000000000001, 0.8, 0.4), F1 Score = 0.6537838759471808\n"
          ]
        },
        {
          "name": "stderr",
          "output_type": "stream",
          "text": [
            "Optimizing Weights: (0.8, 0.4, 0.6000000000000001, 0.8, 0.8):  86%|████████▌ | 879/1024 [2:58:24<29:50, 12.35s/it]               "
          ]
        },
        {
          "name": "stdout",
          "output_type": "stream",
          "text": [
            "Weights: (0.8, 0.4, 0.6000000000000001, 0.8, 0.6000000000000001), F1 Score = 0.6395707416806609\n"
          ]
        },
        {
          "name": "stderr",
          "output_type": "stream",
          "text": [
            "Optimizing Weights: (0.8, 0.4, 0.8, 0.2, 0.2):  86%|████████▌ | 880/1024 [2:58:35<29:11, 12.16s/it]               "
          ]
        },
        {
          "name": "stdout",
          "output_type": "stream",
          "text": [
            "Weights: (0.8, 0.4, 0.6000000000000001, 0.8, 0.8), F1 Score = 0.6202908603000469\n"
          ]
        },
        {
          "name": "stderr",
          "output_type": "stream",
          "text": [
            "Optimizing Weights: (0.8, 0.4, 0.8, 0.2, 0.4):  86%|████████▌ | 881/1024 [2:58:47<28:46, 12.07s/it]"
          ]
        },
        {
          "name": "stdout",
          "output_type": "stream",
          "text": [
            "Weights: (0.8, 0.4, 0.8, 0.2, 0.2), F1 Score = 0.627624579933363\n"
          ]
        },
        {
          "name": "stderr",
          "output_type": "stream",
          "text": [
            "Optimizing Weights: (0.8, 0.4, 0.8, 0.2, 0.6000000000000001):  86%|████████▌ | 882/1024 [2:58:59<28:38, 12.11s/it]"
          ]
        },
        {
          "name": "stdout",
          "output_type": "stream",
          "text": [
            "Weights: (0.8, 0.4, 0.8, 0.2, 0.4), F1 Score = 0.6026211227465536\n"
          ]
        },
        {
          "name": "stderr",
          "output_type": "stream",
          "text": [
            "Optimizing Weights: (0.8, 0.4, 0.8, 0.2, 0.8):  86%|████████▌ | 883/1024 [2:59:12<28:38, 12.19s/it]               "
          ]
        },
        {
          "name": "stdout",
          "output_type": "stream",
          "text": [
            "Weights: (0.8, 0.4, 0.8, 0.2, 0.6000000000000001), F1 Score = 0.5580060726360305\n"
          ]
        },
        {
          "name": "stderr",
          "output_type": "stream",
          "text": [
            "Optimizing Weights: (0.8, 0.4, 0.8, 0.4, 0.2):  86%|████████▋ | 884/1024 [2:59:24<28:35, 12.26s/it]"
          ]
        },
        {
          "name": "stdout",
          "output_type": "stream",
          "text": [
            "Weights: (0.8, 0.4, 0.8, 0.2, 0.8), F1 Score = 0.5287029368497623\n"
          ]
        },
        {
          "name": "stderr",
          "output_type": "stream",
          "text": [
            "Optimizing Weights: (0.8, 0.4, 0.8, 0.4, 0.4):  86%|████████▋ | 885/1024 [2:59:36<28:27, 12.29s/it]"
          ]
        },
        {
          "name": "stdout",
          "output_type": "stream",
          "text": [
            "Weights: (0.8, 0.4, 0.8, 0.4, 0.2), F1 Score = 0.6427014150607978\n"
          ]
        },
        {
          "name": "stderr",
          "output_type": "stream",
          "text": [
            "Optimizing Weights: (0.8, 0.4, 0.8, 0.4, 0.6000000000000001):  87%|████████▋ | 886/1024 [2:59:49<28:09, 12.25s/it]"
          ]
        },
        {
          "name": "stdout",
          "output_type": "stream",
          "text": [
            "Weights: (0.8, 0.4, 0.8, 0.4, 0.4), F1 Score = 0.6263909356725147\n"
          ]
        },
        {
          "name": "stderr",
          "output_type": "stream",
          "text": [
            "Optimizing Weights: (0.8, 0.4, 0.8, 0.4, 0.8):  87%|████████▋ | 887/1024 [3:00:01<27:59, 12.26s/it]               "
          ]
        },
        {
          "name": "stdout",
          "output_type": "stream",
          "text": [
            "Weights: (0.8, 0.4, 0.8, 0.4, 0.6000000000000001), F1 Score = 0.6029416860441502\n"
          ]
        },
        {
          "name": "stderr",
          "output_type": "stream",
          "text": [
            "Optimizing Weights: (0.8, 0.4, 0.8, 0.6000000000000001, 0.2):  87%|████████▋ | 888/1024 [3:00:12<27:18, 12.05s/it]"
          ]
        },
        {
          "name": "stdout",
          "output_type": "stream",
          "text": [
            "Weights: (0.8, 0.4, 0.8, 0.4, 0.8), F1 Score = 0.5794199517951144\n"
          ]
        },
        {
          "name": "stderr",
          "output_type": "stream",
          "text": [
            "Optimizing Weights: (0.8, 0.4, 0.8, 0.6000000000000001, 0.4):  87%|████████▋ | 889/1024 [3:00:24<26:55, 11.97s/it]"
          ]
        },
        {
          "name": "stdout",
          "output_type": "stream",
          "text": [
            "Weights: (0.8, 0.4, 0.8, 0.6000000000000001, 0.2), F1 Score = 0.6540671429272842\n"
          ]
        },
        {
          "name": "stderr",
          "output_type": "stream",
          "text": [
            "Optimizing Weights: (0.8, 0.4, 0.8, 0.6000000000000001, 0.6000000000000001):  87%|████████▋ | 890/1024 [3:00:37<27:01, 12.10s/it]"
          ]
        },
        {
          "name": "stdout",
          "output_type": "stream",
          "text": [
            "Weights: (0.8, 0.4, 0.8, 0.6000000000000001, 0.4), F1 Score = 0.6425306876091906\n"
          ]
        },
        {
          "name": "stderr",
          "output_type": "stream",
          "text": [
            "Optimizing Weights: (0.8, 0.4, 0.8, 0.6000000000000001, 0.8):  87%|████████▋ | 891/1024 [3:00:49<27:01, 12.19s/it]               "
          ]
        },
        {
          "name": "stdout",
          "output_type": "stream",
          "text": [
            "Weights: (0.8, 0.4, 0.8, 0.6000000000000001, 0.6000000000000001), F1 Score = 0.631824114058456\n"
          ]
        },
        {
          "name": "stderr",
          "output_type": "stream",
          "text": [
            "Optimizing Weights: (0.8, 0.4, 0.8, 0.8, 0.2):  87%|████████▋ | 892/1024 [3:01:02<27:00, 12.27s/it]               "
          ]
        },
        {
          "name": "stdout",
          "output_type": "stream",
          "text": [
            "Weights: (0.8, 0.4, 0.8, 0.6000000000000001, 0.8), F1 Score = 0.611949118855587\n"
          ]
        },
        {
          "name": "stderr",
          "output_type": "stream",
          "text": [
            "Optimizing Weights: (0.8, 0.4, 0.8, 0.8, 0.4):  87%|████████▋ | 893/1024 [3:01:14<26:56, 12.34s/it]"
          ]
        },
        {
          "name": "stdout",
          "output_type": "stream",
          "text": [
            "Weights: (0.8, 0.4, 0.8, 0.8, 0.2), F1 Score = 0.6616873625764171\n"
          ]
        },
        {
          "name": "stderr",
          "output_type": "stream",
          "text": [
            "Optimizing Weights: (0.8, 0.4, 0.8, 0.8, 0.6000000000000001):  87%|████████▋ | 894/1024 [3:01:26<26:41, 12.32s/it]"
          ]
        },
        {
          "name": "stdout",
          "output_type": "stream",
          "text": [
            "Weights: (0.8, 0.4, 0.8, 0.8, 0.4), F1 Score = 0.6563555800304018\n"
          ]
        },
        {
          "name": "stderr",
          "output_type": "stream",
          "text": [
            "Optimizing Weights: (0.8, 0.4, 0.8, 0.8, 0.8):  87%|████████▋ | 895/1024 [3:01:38<26:19, 12.24s/it]               "
          ]
        },
        {
          "name": "stdout",
          "output_type": "stream",
          "text": [
            "Weights: (0.8, 0.4, 0.8, 0.8, 0.6000000000000001), F1 Score = 0.6500184551516405\n"
          ]
        },
        {
          "name": "stderr",
          "output_type": "stream",
          "text": [
            "Optimizing Weights: (0.8, 0.6000000000000001, 0.2, 0.2, 0.2):  88%|████████▊ | 896/1024 [3:01:50<25:42, 12.05s/it]"
          ]
        },
        {
          "name": "stdout",
          "output_type": "stream",
          "text": [
            "Weights: (0.8, 0.4, 0.8, 0.8, 0.8), F1 Score = 0.6374723056547136\n"
          ]
        },
        {
          "name": "stderr",
          "output_type": "stream",
          "text": [
            "Optimizing Weights: (0.8, 0.6000000000000001, 0.2, 0.2, 0.4):  88%|████████▊ | 897/1024 [3:02:02<25:29, 12.05s/it]"
          ]
        },
        {
          "name": "stdout",
          "output_type": "stream",
          "text": [
            "Weights: (0.8, 0.6000000000000001, 0.2, 0.2, 0.2), F1 Score = 0.48504784855222594\n"
          ]
        },
        {
          "name": "stderr",
          "output_type": "stream",
          "text": [
            "Optimizing Weights: (0.8, 0.6000000000000001, 0.2, 0.2, 0.6000000000000001):  88%|████████▊ | 898/1024 [3:02:14<25:33, 12.17s/it]"
          ]
        },
        {
          "name": "stdout",
          "output_type": "stream",
          "text": [
            "Weights: (0.8, 0.6000000000000001, 0.2, 0.2, 0.4), F1 Score = 0.4533760450767963\n"
          ]
        },
        {
          "name": "stderr",
          "output_type": "stream",
          "text": [
            "Optimizing Weights: (0.8, 0.6000000000000001, 0.2, 0.2, 0.8):  88%|████████▊ | 899/1024 [3:02:27<25:24, 12.20s/it]               "
          ]
        },
        {
          "name": "stdout",
          "output_type": "stream",
          "text": [
            "Weights: (0.8, 0.6000000000000001, 0.2, 0.2, 0.6000000000000001), F1 Score = 0.4291114286213265\n"
          ]
        },
        {
          "name": "stderr",
          "output_type": "stream",
          "text": [
            "Optimizing Weights: (0.8, 0.6000000000000001, 0.2, 0.4, 0.2):  88%|████████▊ | 900/1024 [3:02:39<25:21, 12.27s/it]"
          ]
        },
        {
          "name": "stdout",
          "output_type": "stream",
          "text": [
            "Weights: (0.8, 0.6000000000000001, 0.2, 0.2, 0.8), F1 Score = 0.3837763879529799\n"
          ]
        },
        {
          "name": "stderr",
          "output_type": "stream",
          "text": [
            "Optimizing Weights: (0.8, 0.6000000000000001, 0.2, 0.4, 0.4):  88%|████████▊ | 901/1024 [3:02:52<25:13, 12.31s/it]"
          ]
        },
        {
          "name": "stdout",
          "output_type": "stream",
          "text": [
            "Weights: (0.8, 0.6000000000000001, 0.2, 0.4, 0.2), F1 Score = 0.5256105736573069\n"
          ]
        },
        {
          "name": "stderr",
          "output_type": "stream",
          "text": [
            "Optimizing Weights: (0.8, 0.6000000000000001, 0.2, 0.4, 0.6000000000000001):  88%|████████▊ | 902/1024 [3:03:04<25:04, 12.33s/it]"
          ]
        },
        {
          "name": "stdout",
          "output_type": "stream",
          "text": [
            "Weights: (0.8, 0.6000000000000001, 0.2, 0.4, 0.4), F1 Score = 0.4985136108439221\n"
          ]
        },
        {
          "name": "stderr",
          "output_type": "stream",
          "text": [
            "Optimizing Weights: (0.8, 0.6000000000000001, 0.2, 0.4, 0.8):  88%|████████▊ | 903/1024 [3:03:16<24:55, 12.36s/it]               "
          ]
        },
        {
          "name": "stdout",
          "output_type": "stream",
          "text": [
            "Weights: (0.8, 0.6000000000000001, 0.2, 0.4, 0.6000000000000001), F1 Score = 0.47156231681250915\n"
          ]
        },
        {
          "name": "stderr",
          "output_type": "stream",
          "text": [
            "Optimizing Weights: (0.8, 0.6000000000000001, 0.2, 0.6000000000000001, 0.2):  88%|████████▊ | 904/1024 [3:03:28<24:14, 12.12s/it]"
          ]
        },
        {
          "name": "stdout",
          "output_type": "stream",
          "text": [
            "Weights: (0.8, 0.6000000000000001, 0.2, 0.4, 0.8), F1 Score = 0.4434896718774051\n"
          ]
        },
        {
          "name": "stderr",
          "output_type": "stream",
          "text": [
            "Optimizing Weights: (0.8, 0.6000000000000001, 0.2, 0.6000000000000001, 0.4):  88%|████████▊ | 905/1024 [3:03:40<24:08, 12.17s/it]"
          ]
        },
        {
          "name": "stdout",
          "output_type": "stream",
          "text": [
            "Weights: (0.8, 0.6000000000000001, 0.2, 0.6000000000000001, 0.2), F1 Score = 0.5523787365456472\n"
          ]
        },
        {
          "name": "stderr",
          "output_type": "stream",
          "text": [
            "Optimizing Weights: (0.8, 0.6000000000000001, 0.2, 0.6000000000000001, 0.6000000000000001):  88%|████████▊ | 906/1024 [3:03:53<24:01, 12.21s/it]"
          ]
        },
        {
          "name": "stdout",
          "output_type": "stream",
          "text": [
            "Weights: (0.8, 0.6000000000000001, 0.2, 0.6000000000000001, 0.4), F1 Score = 0.5389022444946359\n"
          ]
        },
        {
          "name": "stderr",
          "output_type": "stream",
          "text": [
            "Optimizing Weights: (0.8, 0.6000000000000001, 0.2, 0.6000000000000001, 0.8):  89%|████████▊ | 907/1024 [3:04:05<23:51, 12.23s/it]               "
          ]
        },
        {
          "name": "stdout",
          "output_type": "stream",
          "text": [
            "Weights: (0.8, 0.6000000000000001, 0.2, 0.6000000000000001, 0.6000000000000001), F1 Score = 0.5214680561660764\n"
          ]
        },
        {
          "name": "stderr",
          "output_type": "stream",
          "text": [
            "Optimizing Weights: (0.8, 0.6000000000000001, 0.2, 0.8, 0.2):  89%|████████▊ | 908/1024 [3:04:17<23:42, 12.27s/it]               "
          ]
        },
        {
          "name": "stdout",
          "output_type": "stream",
          "text": [
            "Weights: (0.8, 0.6000000000000001, 0.2, 0.6000000000000001, 0.8), F1 Score = 0.4929017086402155\n"
          ]
        },
        {
          "name": "stderr",
          "output_type": "stream",
          "text": [
            "Optimizing Weights: (0.8, 0.6000000000000001, 0.2, 0.8, 0.4):  89%|████████▉ | 909/1024 [3:04:29<23:27, 12.24s/it]"
          ]
        },
        {
          "name": "stdout",
          "output_type": "stream",
          "text": [
            "Weights: (0.8, 0.6000000000000001, 0.2, 0.8, 0.2), F1 Score = 0.630083955317485\n"
          ]
        },
        {
          "name": "stderr",
          "output_type": "stream",
          "text": [
            "Optimizing Weights: (0.8, 0.6000000000000001, 0.2, 0.8, 0.6000000000000001):  89%|████████▉ | 910/1024 [3:04:42<23:14, 12.23s/it]"
          ]
        },
        {
          "name": "stdout",
          "output_type": "stream",
          "text": [
            "Weights: (0.8, 0.6000000000000001, 0.2, 0.8, 0.4), F1 Score = 0.5903164093258034\n"
          ]
        },
        {
          "name": "stderr",
          "output_type": "stream",
          "text": [
            "Optimizing Weights: (0.8, 0.6000000000000001, 0.2, 0.8, 0.8):  89%|████████▉ | 911/1024 [3:04:53<22:48, 12.11s/it]               "
          ]
        },
        {
          "name": "stdout",
          "output_type": "stream",
          "text": [
            "Weights: (0.8, 0.6000000000000001, 0.2, 0.8, 0.6000000000000001), F1 Score = 0.5488498447777905\n"
          ]
        },
        {
          "name": "stderr",
          "output_type": "stream",
          "text": [
            "Optimizing Weights: (0.8, 0.6000000000000001, 0.4, 0.2, 0.2):  89%|████████▉ | 912/1024 [3:05:05<22:21, 11.97s/it]"
          ]
        },
        {
          "name": "stdout",
          "output_type": "stream",
          "text": [
            "Weights: (0.8, 0.6000000000000001, 0.2, 0.8, 0.8), F1 Score = 0.5360839942980372\n"
          ]
        },
        {
          "name": "stderr",
          "output_type": "stream",
          "text": [
            "Optimizing Weights: (0.8, 0.6000000000000001, 0.4, 0.2, 0.4):  89%|████████▉ | 913/1024 [3:05:17<22:19, 12.06s/it]"
          ]
        },
        {
          "name": "stdout",
          "output_type": "stream",
          "text": [
            "Weights: (0.8, 0.6000000000000001, 0.4, 0.2, 0.2), F1 Score = 0.5191789217891167\n"
          ]
        },
        {
          "name": "stderr",
          "output_type": "stream",
          "text": [
            "Optimizing Weights: (0.8, 0.6000000000000001, 0.4, 0.2, 0.6000000000000001):  89%|████████▉ | 914/1024 [3:05:30<22:17, 12.16s/it]"
          ]
        },
        {
          "name": "stdout",
          "output_type": "stream",
          "text": [
            "Weights: (0.8, 0.6000000000000001, 0.4, 0.2, 0.4), F1 Score = 0.491919790581019\n"
          ]
        },
        {
          "name": "stderr",
          "output_type": "stream",
          "text": [
            "Optimizing Weights: (0.8, 0.6000000000000001, 0.4, 0.2, 0.8):  89%|████████▉ | 915/1024 [3:05:42<22:11, 12.22s/it]               "
          ]
        },
        {
          "name": "stdout",
          "output_type": "stream",
          "text": [
            "Weights: (0.8, 0.6000000000000001, 0.4, 0.2, 0.6000000000000001), F1 Score = 0.4613930571386094\n"
          ]
        },
        {
          "name": "stderr",
          "output_type": "stream",
          "text": [
            "Optimizing Weights: (0.8, 0.6000000000000001, 0.4, 0.4, 0.2):  89%|████████▉ | 916/1024 [3:05:54<22:01, 12.24s/it]"
          ]
        },
        {
          "name": "stdout",
          "output_type": "stream",
          "text": [
            "Weights: (0.8, 0.6000000000000001, 0.4, 0.2, 0.8), F1 Score = 0.4386239725661828\n"
          ]
        },
        {
          "name": "stderr",
          "output_type": "stream",
          "text": [
            "Optimizing Weights: (0.8, 0.6000000000000001, 0.4, 0.4, 0.4):  90%|████████▉ | 917/1024 [3:06:07<22:04, 12.38s/it]"
          ]
        },
        {
          "name": "stdout",
          "output_type": "stream",
          "text": [
            "Weights: (0.8, 0.6000000000000001, 0.4, 0.4, 0.2), F1 Score = 0.5389468152718417\n"
          ]
        },
        {
          "name": "stderr",
          "output_type": "stream",
          "text": [
            "Optimizing Weights: (0.8, 0.6000000000000001, 0.4, 0.4, 0.6000000000000001):  90%|████████▉ | 918/1024 [3:06:19<21:54, 12.40s/it]"
          ]
        },
        {
          "name": "stdout",
          "output_type": "stream",
          "text": [
            "Weights: (0.8, 0.6000000000000001, 0.4, 0.4, 0.4), F1 Score = 0.5262809801870617\n"
          ]
        },
        {
          "name": "stderr",
          "output_type": "stream",
          "text": [
            "Optimizing Weights: (0.8, 0.6000000000000001, 0.4, 0.4, 0.8):  90%|████████▉ | 919/1024 [3:06:32<21:42, 12.40s/it]               "
          ]
        },
        {
          "name": "stdout",
          "output_type": "stream",
          "text": [
            "Weights: (0.8, 0.6000000000000001, 0.4, 0.4, 0.6000000000000001), F1 Score = 0.5068058804518453\n"
          ]
        },
        {
          "name": "stderr",
          "output_type": "stream",
          "text": [
            "Optimizing Weights: (0.8, 0.6000000000000001, 0.4, 0.6000000000000001, 0.2):  90%|████████▉ | 920/1024 [3:06:43<21:04, 12.16s/it]"
          ]
        },
        {
          "name": "stdout",
          "output_type": "stream",
          "text": [
            "Weights: (0.8, 0.6000000000000001, 0.4, 0.4, 0.8), F1 Score = 0.4737509217613822\n"
          ]
        },
        {
          "name": "stderr",
          "output_type": "stream",
          "text": [
            "Optimizing Weights: (0.8, 0.6000000000000001, 0.4, 0.6000000000000001, 0.4):  90%|████████▉ | 921/1024 [3:06:55<20:48, 12.12s/it]"
          ]
        },
        {
          "name": "stdout",
          "output_type": "stream",
          "text": [
            "Weights: (0.8, 0.6000000000000001, 0.4, 0.6000000000000001, 0.2), F1 Score = 0.6082160869619793\n"
          ]
        },
        {
          "name": "stderr",
          "output_type": "stream",
          "text": [
            "Optimizing Weights: (0.8, 0.6000000000000001, 0.4, 0.6000000000000001, 0.6000000000000001):  90%|█████████ | 922/1024 [3:07:08<20:43, 12.19s/it]"
          ]
        },
        {
          "name": "stdout",
          "output_type": "stream",
          "text": [
            "Weights: (0.8, 0.6000000000000001, 0.4, 0.6000000000000001, 0.4), F1 Score = 0.5670880240722989\n"
          ]
        },
        {
          "name": "stderr",
          "output_type": "stream",
          "text": [
            "Optimizing Weights: (0.8, 0.6000000000000001, 0.4, 0.6000000000000001, 0.8):  90%|█████████ | 923/1024 [3:07:20<20:36, 12.25s/it]               "
          ]
        },
        {
          "name": "stdout",
          "output_type": "stream",
          "text": [
            "Weights: (0.8, 0.6000000000000001, 0.4, 0.6000000000000001, 0.6000000000000001), F1 Score = 0.5355621913428161\n"
          ]
        },
        {
          "name": "stderr",
          "output_type": "stream",
          "text": [
            "Optimizing Weights: (0.8, 0.6000000000000001, 0.4, 0.8, 0.2):  90%|█████████ | 924/1024 [3:07:32<20:25, 12.26s/it]               "
          ]
        },
        {
          "name": "stdout",
          "output_type": "stream",
          "text": [
            "Weights: (0.8, 0.6000000000000001, 0.4, 0.6000000000000001, 0.8), F1 Score = 0.5198514824771399\n"
          ]
        },
        {
          "name": "stderr",
          "output_type": "stream",
          "text": [
            "Optimizing Weights: (0.8, 0.6000000000000001, 0.4, 0.8, 0.4):  90%|█████████ | 925/1024 [3:07:45<20:11, 12.24s/it]"
          ]
        },
        {
          "name": "stdout",
          "output_type": "stream",
          "text": [
            "Weights: (0.8, 0.6000000000000001, 0.4, 0.8, 0.2), F1 Score = 0.6445487450626548\n"
          ]
        },
        {
          "name": "stderr",
          "output_type": "stream",
          "text": [
            "Optimizing Weights: (0.8, 0.6000000000000001, 0.4, 0.8, 0.6000000000000001):  90%|█████████ | 926/1024 [3:07:57<20:01, 12.26s/it]"
          ]
        },
        {
          "name": "stdout",
          "output_type": "stream",
          "text": [
            "Weights: (0.8, 0.6000000000000001, 0.4, 0.8, 0.4), F1 Score = 0.6278994748221982\n"
          ]
        },
        {
          "name": "stderr",
          "output_type": "stream",
          "text": [
            "Optimizing Weights: (0.8, 0.6000000000000001, 0.4, 0.8, 0.8):  91%|█████████ | 927/1024 [3:08:09<19:46, 12.23s/it]               "
          ]
        },
        {
          "name": "stdout",
          "output_type": "stream",
          "text": [
            "Weights: (0.8, 0.6000000000000001, 0.4, 0.8, 0.6000000000000001), F1 Score = 0.6003501774423506\n"
          ]
        },
        {
          "name": "stderr",
          "output_type": "stream",
          "text": [
            "Optimizing Weights: (0.8, 0.6000000000000001, 0.6000000000000001, 0.2, 0.2):  91%|█████████ | 928/1024 [3:08:21<19:17, 12.06s/it]"
          ]
        },
        {
          "name": "stdout",
          "output_type": "stream",
          "text": [
            "Weights: (0.8, 0.6000000000000001, 0.4, 0.8, 0.8), F1 Score = 0.5548890403458944\n"
          ]
        },
        {
          "name": "stderr",
          "output_type": "stream",
          "text": [
            "Optimizing Weights: (0.8, 0.6000000000000001, 0.6000000000000001, 0.2, 0.4):  91%|█████████ | 929/1024 [3:08:33<19:08, 12.09s/it]"
          ]
        },
        {
          "name": "stdout",
          "output_type": "stream",
          "text": [
            "Weights: (0.8, 0.6000000000000001, 0.6000000000000001, 0.2, 0.2), F1 Score = 0.5399845260454217\n"
          ]
        },
        {
          "name": "stderr",
          "output_type": "stream",
          "text": [
            "Optimizing Weights: (0.8, 0.6000000000000001, 0.6000000000000001, 0.2, 0.6000000000000001):  91%|█████████ | 930/1024 [3:08:45<19:06, 12.20s/it]"
          ]
        },
        {
          "name": "stdout",
          "output_type": "stream",
          "text": [
            "Weights: (0.8, 0.6000000000000001, 0.6000000000000001, 0.2, 0.4), F1 Score = 0.5285517247493853\n"
          ]
        },
        {
          "name": "stderr",
          "output_type": "stream",
          "text": [
            "Optimizing Weights: (0.8, 0.6000000000000001, 0.6000000000000001, 0.2, 0.8):  91%|█████████ | 931/1024 [3:08:58<18:57, 12.23s/it]               "
          ]
        },
        {
          "name": "stdout",
          "output_type": "stream",
          "text": [
            "Weights: (0.8, 0.6000000000000001, 0.6000000000000001, 0.2, 0.6000000000000001), F1 Score = 0.5063553515278467\n"
          ]
        },
        {
          "name": "stderr",
          "output_type": "stream",
          "text": [
            "Optimizing Weights: (0.8, 0.6000000000000001, 0.6000000000000001, 0.4, 0.2):  91%|█████████ | 932/1024 [3:09:10<18:46, 12.25s/it]"
          ]
        },
        {
          "name": "stdout",
          "output_type": "stream",
          "text": [
            "Weights: (0.8, 0.6000000000000001, 0.6000000000000001, 0.2, 0.8), F1 Score = 0.4741585083478897\n"
          ]
        },
        {
          "name": "stderr",
          "output_type": "stream",
          "text": [
            "Optimizing Weights: (0.8, 0.6000000000000001, 0.6000000000000001, 0.4, 0.4):  91%|█████████ | 933/1024 [3:09:22<18:36, 12.27s/it]"
          ]
        },
        {
          "name": "stdout",
          "output_type": "stream",
          "text": [
            "Weights: (0.8, 0.6000000000000001, 0.6000000000000001, 0.4, 0.2), F1 Score = 0.5957891025776961\n"
          ]
        },
        {
          "name": "stderr",
          "output_type": "stream",
          "text": [
            "Optimizing Weights: (0.8, 0.6000000000000001, 0.6000000000000001, 0.4, 0.6000000000000001):  91%|█████████ | 934/1024 [3:09:35<18:26, 12.29s/it]"
          ]
        },
        {
          "name": "stdout",
          "output_type": "stream",
          "text": [
            "Weights: (0.8, 0.6000000000000001, 0.6000000000000001, 0.4, 0.4), F1 Score = 0.5507345814977974\n"
          ]
        },
        {
          "name": "stderr",
          "output_type": "stream",
          "text": [
            "Optimizing Weights: (0.8, 0.6000000000000001, 0.6000000000000001, 0.4, 0.8):  91%|█████████▏| 935/1024 [3:09:47<18:03, 12.17s/it]               "
          ]
        },
        {
          "name": "stdout",
          "output_type": "stream",
          "text": [
            "Weights: (0.8, 0.6000000000000001, 0.6000000000000001, 0.4, 0.6000000000000001), F1 Score = 0.5266551988670765\n"
          ]
        },
        {
          "name": "stderr",
          "output_type": "stream",
          "text": [
            "Optimizing Weights: (0.8, 0.6000000000000001, 0.6000000000000001, 0.6000000000000001, 0.2):  91%|█████████▏| 936/1024 [3:09:58<17:38, 12.03s/it]"
          ]
        },
        {
          "name": "stdout",
          "output_type": "stream",
          "text": [
            "Weights: (0.8, 0.6000000000000001, 0.6000000000000001, 0.4, 0.8), F1 Score = 0.513468319655295\n"
          ]
        },
        {
          "name": "stderr",
          "output_type": "stream",
          "text": [
            "Optimizing Weights: (0.8, 0.6000000000000001, 0.6000000000000001, 0.6000000000000001, 0.4):  92%|█████████▏| 937/1024 [3:10:11<17:32, 12.10s/it]"
          ]
        },
        {
          "name": "stdout",
          "output_type": "stream",
          "text": [
            "Weights: (0.8, 0.6000000000000001, 0.6000000000000001, 0.6000000000000001, 0.2), F1 Score = 0.6314583333333332\n"
          ]
        },
        {
          "name": "stderr",
          "output_type": "stream",
          "text": [
            "Optimizing Weights: (0.8, 0.6000000000000001, 0.6000000000000001, 0.6000000000000001, 0.6000000000000001):  92%|█████████▏| 938/1024 [3:10:23<17:23, 12.14s/it]"
          ]
        },
        {
          "name": "stdout",
          "output_type": "stream",
          "text": [
            "Weights: (0.8, 0.6000000000000001, 0.6000000000000001, 0.6000000000000001, 0.4), F1 Score = 0.6089241388309466\n"
          ]
        },
        {
          "name": "stderr",
          "output_type": "stream",
          "text": [
            "Optimizing Weights: (0.8, 0.6000000000000001, 0.6000000000000001, 0.6000000000000001, 0.8):  92%|█████████▏| 939/1024 [3:10:35<17:18, 12.21s/it]               "
          ]
        },
        {
          "name": "stdout",
          "output_type": "stream",
          "text": [
            "Weights: (0.8, 0.6000000000000001, 0.6000000000000001, 0.6000000000000001, 0.6000000000000001), F1 Score = 0.5858139980818194\n"
          ]
        },
        {
          "name": "stderr",
          "output_type": "stream",
          "text": [
            "Optimizing Weights: (0.8, 0.6000000000000001, 0.6000000000000001, 0.8, 0.2):  92%|█████████▏| 940/1024 [3:10:48<17:09, 12.25s/it]               "
          ]
        },
        {
          "name": "stdout",
          "output_type": "stream",
          "text": [
            "Weights: (0.8, 0.6000000000000001, 0.6000000000000001, 0.6000000000000001, 0.8), F1 Score = 0.5394205844061912\n"
          ]
        },
        {
          "name": "stderr",
          "output_type": "stream",
          "text": [
            "Optimizing Weights: (0.8, 0.6000000000000001, 0.6000000000000001, 0.8, 0.4):  92%|█████████▏| 941/1024 [3:11:00<17:02, 12.31s/it]"
          ]
        },
        {
          "name": "stdout",
          "output_type": "stream",
          "text": [
            "Weights: (0.8, 0.6000000000000001, 0.6000000000000001, 0.8, 0.2), F1 Score = 0.6553975333542325\n"
          ]
        },
        {
          "name": "stderr",
          "output_type": "stream",
          "text": [
            "Optimizing Weights: (0.8, 0.6000000000000001, 0.6000000000000001, 0.8, 0.6000000000000001):  92%|█████████▏| 942/1024 [3:11:12<16:48, 12.30s/it]"
          ]
        },
        {
          "name": "stdout",
          "output_type": "stream",
          "text": [
            "Weights: (0.8, 0.6000000000000001, 0.6000000000000001, 0.8, 0.4), F1 Score = 0.642380444221661\n"
          ]
        },
        {
          "name": "stderr",
          "output_type": "stream",
          "text": [
            "Optimizing Weights: (0.8, 0.6000000000000001, 0.6000000000000001, 0.8, 0.8):  92%|█████████▏| 943/1024 [3:11:24<16:20, 12.11s/it]               "
          ]
        },
        {
          "name": "stdout",
          "output_type": "stream",
          "text": [
            "Weights: (0.8, 0.6000000000000001, 0.6000000000000001, 0.8, 0.6000000000000001), F1 Score = 0.6222327479553741\n"
          ]
        },
        {
          "name": "stderr",
          "output_type": "stream",
          "text": [
            "Optimizing Weights: (0.8, 0.6000000000000001, 0.8, 0.2, 0.2):  92%|█████████▏| 944/1024 [3:11:36<16:07, 12.10s/it]               "
          ]
        },
        {
          "name": "stdout",
          "output_type": "stream",
          "text": [
            "Weights: (0.8, 0.6000000000000001, 0.6000000000000001, 0.8, 0.8), F1 Score = 0.6041120146686711\n"
          ]
        },
        {
          "name": "stderr",
          "output_type": "stream",
          "text": [
            "Optimizing Weights: (0.8, 0.6000000000000001, 0.8, 0.2, 0.4):  92%|█████████▏| 945/1024 [3:11:48<15:59, 12.15s/it]"
          ]
        },
        {
          "name": "stdout",
          "output_type": "stream",
          "text": [
            "Weights: (0.8, 0.6000000000000001, 0.8, 0.2, 0.2), F1 Score = 0.5970347915124914\n"
          ]
        },
        {
          "name": "stderr",
          "output_type": "stream",
          "text": [
            "Optimizing Weights: (0.8, 0.6000000000000001, 0.8, 0.2, 0.6000000000000001):  92%|█████████▏| 946/1024 [3:12:01<15:53, 12.23s/it]"
          ]
        },
        {
          "name": "stdout",
          "output_type": "stream",
          "text": [
            "Weights: (0.8, 0.6000000000000001, 0.8, 0.2, 0.4), F1 Score = 0.5595247270446921\n"
          ]
        },
        {
          "name": "stderr",
          "output_type": "stream",
          "text": [
            "Optimizing Weights: (0.8, 0.6000000000000001, 0.8, 0.2, 0.8):  92%|█████████▏| 947/1024 [3:12:13<15:47, 12.30s/it]               "
          ]
        },
        {
          "name": "stdout",
          "output_type": "stream",
          "text": [
            "Weights: (0.8, 0.6000000000000001, 0.8, 0.2, 0.6000000000000001), F1 Score = 0.5335673952641166\n"
          ]
        },
        {
          "name": "stderr",
          "output_type": "stream",
          "text": [
            "Optimizing Weights: (0.8, 0.6000000000000001, 0.8, 0.4, 0.2):  93%|█████████▎| 948/1024 [3:12:26<15:38, 12.35s/it]"
          ]
        },
        {
          "name": "stdout",
          "output_type": "stream",
          "text": [
            "Weights: (0.8, 0.6000000000000001, 0.8, 0.2, 0.8), F1 Score = 0.5135723178656937\n"
          ]
        },
        {
          "name": "stderr",
          "output_type": "stream",
          "text": [
            "Optimizing Weights: (0.8, 0.6000000000000001, 0.8, 0.4, 0.4):  93%|█████████▎| 949/1024 [3:12:38<15:24, 12.32s/it]"
          ]
        },
        {
          "name": "stdout",
          "output_type": "stream",
          "text": [
            "Weights: (0.8, 0.6000000000000001, 0.8, 0.4, 0.2), F1 Score = 0.6298965936739659\n"
          ]
        },
        {
          "name": "stderr",
          "output_type": "stream",
          "text": [
            "Optimizing Weights: (0.8, 0.6000000000000001, 0.8, 0.4, 0.6000000000000001):  93%|█████████▎| 950/1024 [3:12:50<15:01, 12.18s/it]"
          ]
        },
        {
          "name": "stdout",
          "output_type": "stream",
          "text": [
            "Weights: (0.8, 0.6000000000000001, 0.8, 0.4, 0.4), F1 Score = 0.6056187422655444\n"
          ]
        },
        {
          "name": "stderr",
          "output_type": "stream",
          "text": [
            "Optimizing Weights: (0.8, 0.6000000000000001, 0.8, 0.4, 0.8):  93%|█████████▎| 951/1024 [3:13:01<14:38, 12.04s/it]               "
          ]
        },
        {
          "name": "stdout",
          "output_type": "stream",
          "text": [
            "Weights: (0.8, 0.6000000000000001, 0.8, 0.4, 0.6000000000000001), F1 Score = 0.5773013207973305\n"
          ]
        },
        {
          "name": "stderr",
          "output_type": "stream",
          "text": [
            "Optimizing Weights: (0.8, 0.6000000000000001, 0.8, 0.6000000000000001, 0.2):  93%|█████████▎| 952/1024 [3:13:14<14:30, 12.09s/it]"
          ]
        },
        {
          "name": "stdout",
          "output_type": "stream",
          "text": [
            "Weights: (0.8, 0.6000000000000001, 0.8, 0.4, 0.8), F1 Score = 0.5413172500527156\n"
          ]
        },
        {
          "name": "stderr",
          "output_type": "stream",
          "text": [
            "Optimizing Weights: (0.8, 0.6000000000000001, 0.8, 0.6000000000000001, 0.4):  93%|█████████▎| 953/1024 [3:13:26<14:28, 12.23s/it]"
          ]
        },
        {
          "name": "stdout",
          "output_type": "stream",
          "text": [
            "Weights: (0.8, 0.6000000000000001, 0.8, 0.6000000000000001, 0.2), F1 Score = 0.6444080608726328\n"
          ]
        },
        {
          "name": "stderr",
          "output_type": "stream",
          "text": [
            "Optimizing Weights: (0.8, 0.6000000000000001, 0.8, 0.6000000000000001, 0.6000000000000001):  93%|█████████▎| 954/1024 [3:13:38<14:17, 12.25s/it]"
          ]
        },
        {
          "name": "stdout",
          "output_type": "stream",
          "text": [
            "Weights: (0.8, 0.6000000000000001, 0.8, 0.6000000000000001, 0.4), F1 Score = 0.631683308678501\n"
          ]
        },
        {
          "name": "stderr",
          "output_type": "stream",
          "text": [
            "Optimizing Weights: (0.8, 0.6000000000000001, 0.8, 0.6000000000000001, 0.8):  93%|█████████▎| 955/1024 [3:13:51<14:03, 12.23s/it]               "
          ]
        },
        {
          "name": "stdout",
          "output_type": "stream",
          "text": [
            "Weights: (0.8, 0.6000000000000001, 0.8, 0.6000000000000001, 0.6000000000000001), F1 Score = 0.6123761815727573\n"
          ]
        },
        {
          "name": "stderr",
          "output_type": "stream",
          "text": [
            "Optimizing Weights: (0.8, 0.6000000000000001, 0.8, 0.8, 0.2):  93%|█████████▎| 956/1024 [3:14:03<13:52, 12.25s/it]               "
          ]
        },
        {
          "name": "stdout",
          "output_type": "stream",
          "text": [
            "Weights: (0.8, 0.6000000000000001, 0.8, 0.6000000000000001, 0.8), F1 Score = 0.5922231416122373\n"
          ]
        },
        {
          "name": "stderr",
          "output_type": "stream",
          "text": [
            "Optimizing Weights: (0.8, 0.6000000000000001, 0.8, 0.8, 0.4):  93%|█████████▎| 957/1024 [3:14:15<13:40, 12.24s/it]"
          ]
        },
        {
          "name": "stdout",
          "output_type": "stream",
          "text": [
            "Weights: (0.8, 0.6000000000000001, 0.8, 0.8, 0.2), F1 Score = 0.6550758393630889\n"
          ]
        },
        {
          "name": "stderr",
          "output_type": "stream",
          "text": [
            "Optimizing Weights: (0.8, 0.6000000000000001, 0.8, 0.8, 0.6000000000000001):  94%|█████████▎| 958/1024 [3:14:27<13:16, 12.06s/it]"
          ]
        },
        {
          "name": "stdout",
          "output_type": "stream",
          "text": [
            "Weights: (0.8, 0.6000000000000001, 0.8, 0.8, 0.4), F1 Score = 0.651051625081892\n"
          ]
        },
        {
          "name": "stderr",
          "output_type": "stream",
          "text": [
            "Optimizing Weights: (0.8, 0.6000000000000001, 0.8, 0.8, 0.8):  94%|█████████▎| 959/1024 [3:14:39<13:02, 12.04s/it]               "
          ]
        },
        {
          "name": "stdout",
          "output_type": "stream",
          "text": [
            "Weights: (0.8, 0.6000000000000001, 0.8, 0.8, 0.6000000000000001), F1 Score = 0.6363124790426692\n"
          ]
        },
        {
          "name": "stderr",
          "output_type": "stream",
          "text": [
            "Optimizing Weights: (0.8, 0.8, 0.2, 0.2, 0.2):  94%|█████████▍| 960/1024 [3:14:51<12:58, 12.16s/it]               "
          ]
        },
        {
          "name": "stdout",
          "output_type": "stream",
          "text": [
            "Weights: (0.8, 0.6000000000000001, 0.8, 0.8, 0.8), F1 Score = 0.6242818184354424\n"
          ]
        },
        {
          "name": "stderr",
          "output_type": "stream",
          "text": [
            "Optimizing Weights: (0.8, 0.8, 0.2, 0.2, 0.4):  94%|█████████▍| 961/1024 [3:15:04<12:49, 12.21s/it]"
          ]
        },
        {
          "name": "stdout",
          "output_type": "stream",
          "text": [
            "Weights: (0.8, 0.8, 0.2, 0.2, 0.2), F1 Score = 0.4653146538220551\n"
          ]
        },
        {
          "name": "stderr",
          "output_type": "stream",
          "text": [
            "Optimizing Weights: (0.8, 0.8, 0.2, 0.2, 0.6000000000000001):  94%|█████████▍| 962/1024 [3:15:16<12:40, 12.27s/it]"
          ]
        },
        {
          "name": "stdout",
          "output_type": "stream",
          "text": [
            "Weights: (0.8, 0.8, 0.2, 0.2, 0.4), F1 Score = 0.445698444092827\n"
          ]
        },
        {
          "name": "stderr",
          "output_type": "stream",
          "text": [
            "Optimizing Weights: (0.8, 0.8, 0.2, 0.2, 0.8):  94%|█████████▍| 963/1024 [3:15:28<12:30, 12.30s/it]               "
          ]
        },
        {
          "name": "stdout",
          "output_type": "stream",
          "text": [
            "Weights: (0.8, 0.8, 0.2, 0.2, 0.6000000000000001), F1 Score = 0.40986221478033835\n"
          ]
        },
        {
          "name": "stderr",
          "output_type": "stream",
          "text": [
            "Optimizing Weights: (0.8, 0.8, 0.2, 0.4, 0.2):  94%|█████████▍| 964/1024 [3:15:41<12:18, 12.31s/it]"
          ]
        },
        {
          "name": "stdout",
          "output_type": "stream",
          "text": [
            "Weights: (0.8, 0.8, 0.2, 0.2, 0.8), F1 Score = 0.37579856486178576\n"
          ]
        },
        {
          "name": "stderr",
          "output_type": "stream",
          "text": [
            "Optimizing Weights: (0.8, 0.8, 0.2, 0.4, 0.4):  94%|█████████▍| 965/1024 [3:15:52<11:57, 12.16s/it]"
          ]
        },
        {
          "name": "stdout",
          "output_type": "stream",
          "text": [
            "Weights: (0.8, 0.8, 0.2, 0.4, 0.2), F1 Score = 0.5040102213643637\n"
          ]
        },
        {
          "name": "stderr",
          "output_type": "stream",
          "text": [
            "Optimizing Weights: (0.8, 0.8, 0.2, 0.4, 0.6000000000000001):  94%|█████████▍| 966/1024 [3:16:04<11:38, 12.05s/it]"
          ]
        },
        {
          "name": "stdout",
          "output_type": "stream",
          "text": [
            "Weights: (0.8, 0.8, 0.2, 0.4, 0.4), F1 Score = 0.4795978941717594\n"
          ]
        },
        {
          "name": "stderr",
          "output_type": "stream",
          "text": [
            "Optimizing Weights: (0.8, 0.8, 0.2, 0.4, 0.8):  94%|█████████▍| 967/1024 [3:16:17<11:37, 12.24s/it]               "
          ]
        },
        {
          "name": "stdout",
          "output_type": "stream",
          "text": [
            "Weights: (0.8, 0.8, 0.2, 0.4, 0.6000000000000001), F1 Score = 0.4506563126252505\n"
          ]
        },
        {
          "name": "stderr",
          "output_type": "stream",
          "text": [
            "Optimizing Weights: (0.8, 0.8, 0.2, 0.6000000000000001, 0.2):  95%|█████████▍| 968/1024 [3:16:29<11:29, 12.31s/it]"
          ]
        },
        {
          "name": "stdout",
          "output_type": "stream",
          "text": [
            "Weights: (0.8, 0.8, 0.2, 0.4, 0.8), F1 Score = 0.43269214631569297\n"
          ]
        },
        {
          "name": "stderr",
          "output_type": "stream",
          "text": [
            "Optimizing Weights: (0.8, 0.8, 0.2, 0.6000000000000001, 0.4):  95%|█████████▍| 969/1024 [3:16:42<11:16, 12.30s/it]"
          ]
        },
        {
          "name": "stdout",
          "output_type": "stream",
          "text": [
            "Weights: (0.8, 0.8, 0.2, 0.6000000000000001, 0.2), F1 Score = 0.5406909487903411\n"
          ]
        },
        {
          "name": "stderr",
          "output_type": "stream",
          "text": [
            "Optimizing Weights: (0.8, 0.8, 0.2, 0.6000000000000001, 0.6000000000000001):  95%|█████████▍| 970/1024 [3:16:54<11:06, 12.34s/it]"
          ]
        },
        {
          "name": "stdout",
          "output_type": "stream",
          "text": [
            "Weights: (0.8, 0.8, 0.2, 0.6000000000000001, 0.4), F1 Score = 0.5244482084416344\n"
          ]
        },
        {
          "name": "stderr",
          "output_type": "stream",
          "text": [
            "Optimizing Weights: (0.8, 0.8, 0.2, 0.6000000000000001, 0.8):  95%|█████████▍| 971/1024 [3:17:06<10:53, 12.34s/it]               "
          ]
        },
        {
          "name": "stdout",
          "output_type": "stream",
          "text": [
            "Weights: (0.8, 0.8, 0.2, 0.6000000000000001, 0.6000000000000001), F1 Score = 0.4975795934903867\n"
          ]
        },
        {
          "name": "stderr",
          "output_type": "stream",
          "text": [
            "Optimizing Weights: (0.8, 0.8, 0.2, 0.8, 0.2):  95%|█████████▍| 972/1024 [3:17:19<10:44, 12.39s/it]               "
          ]
        },
        {
          "name": "stdout",
          "output_type": "stream",
          "text": [
            "Weights: (0.8, 0.8, 0.2, 0.6000000000000001, 0.8), F1 Score = 0.4716493587330642\n"
          ]
        },
        {
          "name": "stderr",
          "output_type": "stream",
          "text": [
            "Optimizing Weights: (0.8, 0.8, 0.2, 0.8, 0.4):  95%|█████████▌| 973/1024 [3:17:31<10:20, 12.16s/it]"
          ]
        },
        {
          "name": "stdout",
          "output_type": "stream",
          "text": [
            "Weights: (0.8, 0.8, 0.2, 0.8, 0.2), F1 Score = 0.5931650750076578\n"
          ]
        },
        {
          "name": "stderr",
          "output_type": "stream",
          "text": [
            "Optimizing Weights: (0.8, 0.8, 0.2, 0.8, 0.6000000000000001):  95%|█████████▌| 974/1024 [3:17:42<10:01, 12.03s/it]"
          ]
        },
        {
          "name": "stdout",
          "output_type": "stream",
          "text": [
            "Weights: (0.8, 0.8, 0.2, 0.8, 0.4), F1 Score = 0.549380503728196\n"
          ]
        },
        {
          "name": "stderr",
          "output_type": "stream",
          "text": [
            "Optimizing Weights: (0.8, 0.8, 0.2, 0.8, 0.8):  95%|█████████▌| 975/1024 [3:17:55<09:55, 12.16s/it]               "
          ]
        },
        {
          "name": "stdout",
          "output_type": "stream",
          "text": [
            "Weights: (0.8, 0.8, 0.2, 0.8, 0.6000000000000001), F1 Score = 0.5406341925602511\n"
          ]
        },
        {
          "name": "stderr",
          "output_type": "stream",
          "text": [
            "Optimizing Weights: (0.8, 0.8, 0.4, 0.2, 0.2):  95%|█████████▌| 976/1024 [3:18:07<09:43, 12.16s/it]"
          ]
        },
        {
          "name": "stdout",
          "output_type": "stream",
          "text": [
            "Weights: (0.8, 0.8, 0.2, 0.8, 0.8), F1 Score = 0.5194040952643072\n"
          ]
        },
        {
          "name": "stderr",
          "output_type": "stream",
          "text": [
            "Optimizing Weights: (0.8, 0.8, 0.4, 0.2, 0.4):  95%|█████████▌| 977/1024 [3:18:19<09:35, 12.24s/it]"
          ]
        },
        {
          "name": "stdout",
          "output_type": "stream",
          "text": [
            "Weights: (0.8, 0.8, 0.4, 0.2, 0.2), F1 Score = 0.49862796796570974\n"
          ]
        },
        {
          "name": "stderr",
          "output_type": "stream",
          "text": [
            "Optimizing Weights: (0.8, 0.8, 0.4, 0.2, 0.6000000000000001):  96%|█████████▌| 978/1024 [3:18:32<09:26, 12.32s/it]"
          ]
        },
        {
          "name": "stdout",
          "output_type": "stream",
          "text": [
            "Weights: (0.8, 0.8, 0.4, 0.2, 0.4), F1 Score = 0.4701553110813985\n"
          ]
        },
        {
          "name": "stderr",
          "output_type": "stream",
          "text": [
            "Optimizing Weights: (0.8, 0.8, 0.4, 0.2, 0.8):  96%|█████████▌| 979/1024 [3:18:44<09:15, 12.34s/it]               "
          ]
        },
        {
          "name": "stdout",
          "output_type": "stream",
          "text": [
            "Weights: (0.8, 0.8, 0.4, 0.2, 0.6000000000000001), F1 Score = 0.44896872358410816\n"
          ]
        },
        {
          "name": "stderr",
          "output_type": "stream",
          "text": [
            "Optimizing Weights: (0.8, 0.8, 0.4, 0.4, 0.2):  96%|█████████▌| 980/1024 [3:18:56<08:57, 12.21s/it]"
          ]
        },
        {
          "name": "stdout",
          "output_type": "stream",
          "text": [
            "Weights: (0.8, 0.8, 0.4, 0.2, 0.8), F1 Score = 0.42852406670498266\n"
          ]
        },
        {
          "name": "stderr",
          "output_type": "stream",
          "text": [
            "Optimizing Weights: (0.8, 0.8, 0.4, 0.4, 0.4):  96%|█████████▌| 981/1024 [3:19:08<08:37, 12.03s/it]"
          ]
        },
        {
          "name": "stdout",
          "output_type": "stream",
          "text": [
            "Weights: (0.8, 0.8, 0.4, 0.4, 0.2), F1 Score = 0.5302009665269514\n"
          ]
        },
        {
          "name": "stderr",
          "output_type": "stream",
          "text": [
            "Optimizing Weights: (0.8, 0.8, 0.4, 0.4, 0.6000000000000001):  96%|█████████▌| 982/1024 [3:19:20<08:27, 12.07s/it]"
          ]
        },
        {
          "name": "stdout",
          "output_type": "stream",
          "text": [
            "Weights: (0.8, 0.8, 0.4, 0.4, 0.4), F1 Score = 0.512063421265027\n"
          ]
        },
        {
          "name": "stderr",
          "output_type": "stream",
          "text": [
            "Optimizing Weights: (0.8, 0.8, 0.4, 0.4, 0.8):  96%|█████████▌| 983/1024 [3:19:32<08:19, 12.19s/it]               "
          ]
        },
        {
          "name": "stdout",
          "output_type": "stream",
          "text": [
            "Weights: (0.8, 0.8, 0.4, 0.4, 0.6000000000000001), F1 Score = 0.48381130791005744\n"
          ]
        },
        {
          "name": "stderr",
          "output_type": "stream",
          "text": [
            "Optimizing Weights: (0.8, 0.8, 0.4, 0.6000000000000001, 0.2):  96%|█████████▌| 984/1024 [3:19:45<08:08, 12.21s/it]"
          ]
        },
        {
          "name": "stdout",
          "output_type": "stream",
          "text": [
            "Weights: (0.8, 0.8, 0.4, 0.4, 0.8), F1 Score = 0.4634017898261205\n"
          ]
        },
        {
          "name": "stderr",
          "output_type": "stream",
          "text": [
            "Optimizing Weights: (0.8, 0.8, 0.4, 0.6000000000000001, 0.4):  96%|█████████▌| 985/1024 [3:19:57<07:58, 12.26s/it]"
          ]
        },
        {
          "name": "stdout",
          "output_type": "stream",
          "text": [
            "Weights: (0.8, 0.8, 0.4, 0.6000000000000001, 0.2), F1 Score = 0.5702837094792272\n"
          ]
        },
        {
          "name": "stderr",
          "output_type": "stream",
          "text": [
            "Optimizing Weights: (0.8, 0.8, 0.4, 0.6000000000000001, 0.6000000000000001):  96%|█████████▋| 986/1024 [3:20:09<07:46, 12.27s/it]"
          ]
        },
        {
          "name": "stdout",
          "output_type": "stream",
          "text": [
            "Weights: (0.8, 0.8, 0.4, 0.6000000000000001, 0.4), F1 Score = 0.5349747570914076\n"
          ]
        },
        {
          "name": "stderr",
          "output_type": "stream",
          "text": [
            "Optimizing Weights: (0.8, 0.8, 0.4, 0.6000000000000001, 0.8):  96%|█████████▋| 987/1024 [3:20:22<07:34, 12.28s/it]               "
          ]
        },
        {
          "name": "stdout",
          "output_type": "stream",
          "text": [
            "Weights: (0.8, 0.8, 0.4, 0.6000000000000001, 0.6000000000000001), F1 Score = 0.5281126913074704\n"
          ]
        },
        {
          "name": "stderr",
          "output_type": "stream",
          "text": [
            "Optimizing Weights: (0.8, 0.8, 0.4, 0.8, 0.2):  96%|█████████▋| 988/1024 [3:20:34<07:18, 12.19s/it]               "
          ]
        },
        {
          "name": "stdout",
          "output_type": "stream",
          "text": [
            "Weights: (0.8, 0.8, 0.4, 0.6000000000000001, 0.8), F1 Score = 0.5042638422035481\n"
          ]
        },
        {
          "name": "stderr",
          "output_type": "stream",
          "text": [
            "Optimizing Weights: (0.8, 0.8, 0.4, 0.8, 0.4):  97%|█████████▋| 989/1024 [3:20:46<07:03, 12.09s/it]"
          ]
        },
        {
          "name": "stdout",
          "output_type": "stream",
          "text": [
            "Weights: (0.8, 0.8, 0.4, 0.8, 0.2), F1 Score = 0.6258900098736142\n"
          ]
        },
        {
          "name": "stderr",
          "output_type": "stream",
          "text": [
            "Optimizing Weights: (0.8, 0.8, 0.4, 0.8, 0.6000000000000001):  97%|█████████▋| 990/1024 [3:20:58<06:52, 12.14s/it]"
          ]
        },
        {
          "name": "stdout",
          "output_type": "stream",
          "text": [
            "Weights: (0.8, 0.8, 0.4, 0.8, 0.4), F1 Score = 0.602824908453966\n"
          ]
        },
        {
          "name": "stderr",
          "output_type": "stream",
          "text": [
            "Optimizing Weights: (0.8, 0.8, 0.4, 0.8, 0.8):  97%|█████████▋| 991/1024 [3:21:10<06:41, 12.17s/it]               "
          ]
        },
        {
          "name": "stdout",
          "output_type": "stream",
          "text": [
            "Weights: (0.8, 0.8, 0.4, 0.8, 0.6000000000000001), F1 Score = 0.5592828686022792\n"
          ]
        },
        {
          "name": "stderr",
          "output_type": "stream",
          "text": [
            "Optimizing Weights: (0.8, 0.8, 0.6000000000000001, 0.2, 0.2):  97%|█████████▋| 992/1024 [3:21:23<06:32, 12.27s/it]"
          ]
        },
        {
          "name": "stdout",
          "output_type": "stream",
          "text": [
            "Weights: (0.8, 0.8, 0.4, 0.8, 0.8), F1 Score = 0.5326590078497732\n"
          ]
        },
        {
          "name": "stderr",
          "output_type": "stream",
          "text": [
            "Optimizing Weights: (0.8, 0.8, 0.6000000000000001, 0.2, 0.4):  97%|█████████▋| 993/1024 [3:21:35<06:21, 12.32s/it]"
          ]
        },
        {
          "name": "stdout",
          "output_type": "stream",
          "text": [
            "Weights: (0.8, 0.8, 0.6000000000000001, 0.2, 0.2), F1 Score = 0.5295945710437681\n"
          ]
        },
        {
          "name": "stderr",
          "output_type": "stream",
          "text": [
            "Optimizing Weights: (0.8, 0.8, 0.6000000000000001, 0.2, 0.6000000000000001):  97%|█████████▋| 994/1024 [3:21:47<06:08, 12.28s/it]"
          ]
        },
        {
          "name": "stdout",
          "output_type": "stream",
          "text": [
            "Weights: (0.8, 0.8, 0.6000000000000001, 0.2, 0.4), F1 Score = 0.5103002614253405\n"
          ]
        },
        {
          "name": "stderr",
          "output_type": "stream",
          "text": [
            "Optimizing Weights: (0.8, 0.8, 0.6000000000000001, 0.2, 0.8):  97%|█████████▋| 995/1024 [3:21:59<05:56, 12.30s/it]               "
          ]
        },
        {
          "name": "stdout",
          "output_type": "stream",
          "text": [
            "Weights: (0.8, 0.8, 0.6000000000000001, 0.2, 0.6000000000000001), F1 Score = 0.4795554184268856\n"
          ]
        },
        {
          "name": "stderr",
          "output_type": "stream",
          "text": [
            "Optimizing Weights: (0.8, 0.8, 0.6000000000000001, 0.4, 0.2):  97%|█████████▋| 996/1024 [3:22:11<05:39, 12.11s/it]"
          ]
        },
        {
          "name": "stdout",
          "output_type": "stream",
          "text": [
            "Weights: (0.8, 0.8, 0.6000000000000001, 0.2, 0.8), F1 Score = 0.46367416718841087\n"
          ]
        },
        {
          "name": "stderr",
          "output_type": "stream",
          "text": [
            "Optimizing Weights: (0.8, 0.8, 0.6000000000000001, 0.4, 0.4):  97%|█████████▋| 997/1024 [3:22:23<05:24, 12.02s/it]"
          ]
        },
        {
          "name": "stdout",
          "output_type": "stream",
          "text": [
            "Weights: (0.8, 0.8, 0.6000000000000001, 0.4, 0.2), F1 Score = 0.5568175044588379\n"
          ]
        },
        {
          "name": "stderr",
          "output_type": "stream",
          "text": [
            "Optimizing Weights: (0.8, 0.8, 0.6000000000000001, 0.4, 0.6000000000000001):  97%|█████████▋| 998/1024 [3:22:35<05:14, 12.11s/it]"
          ]
        },
        {
          "name": "stdout",
          "output_type": "stream",
          "text": [
            "Weights: (0.8, 0.8, 0.6000000000000001, 0.4, 0.4), F1 Score = 0.5291323292931541\n"
          ]
        },
        {
          "name": "stderr",
          "output_type": "stream",
          "text": [
            "Optimizing Weights: (0.8, 0.8, 0.6000000000000001, 0.4, 0.8):  98%|█████████▊| 999/1024 [3:22:48<05:04, 12.19s/it]               "
          ]
        },
        {
          "name": "stdout",
          "output_type": "stream",
          "text": [
            "Weights: (0.8, 0.8, 0.6000000000000001, 0.4, 0.6000000000000001), F1 Score = 0.5169573384592077\n"
          ]
        },
        {
          "name": "stderr",
          "output_type": "stream",
          "text": [
            "Optimizing Weights: (0.8, 0.8, 0.6000000000000001, 0.6000000000000001, 0.2):  98%|█████████▊| 1000/1024 [3:23:00<04:53, 12.24s/it]"
          ]
        },
        {
          "name": "stdout",
          "output_type": "stream",
          "text": [
            "Weights: (0.8, 0.8, 0.6000000000000001, 0.4, 0.8), F1 Score = 0.4937276884263639\n"
          ]
        },
        {
          "name": "stderr",
          "output_type": "stream",
          "text": [
            "Optimizing Weights: (0.8, 0.8, 0.6000000000000001, 0.6000000000000001, 0.4):  98%|█████████▊| 1001/1024 [3:23:12<04:42, 12.28s/it]"
          ]
        },
        {
          "name": "stdout",
          "output_type": "stream",
          "text": [
            "Weights: (0.8, 0.8, 0.6000000000000001, 0.6000000000000001, 0.2), F1 Score = 0.6101810340808429\n"
          ]
        },
        {
          "name": "stderr",
          "output_type": "stream",
          "text": [
            "Optimizing Weights: (0.8, 0.8, 0.6000000000000001, 0.6000000000000001, 0.6000000000000001):  98%|█████████▊| 1002/1024 [3:23:25<04:31, 12.32s/it]"
          ]
        },
        {
          "name": "stdout",
          "output_type": "stream",
          "text": [
            "Weights: (0.8, 0.8, 0.6000000000000001, 0.6000000000000001, 0.4), F1 Score = 0.5905950616052504\n"
          ]
        },
        {
          "name": "stderr",
          "output_type": "stream",
          "text": [
            "Optimizing Weights: (0.8, 0.8, 0.6000000000000001, 0.6000000000000001, 0.8):  98%|█████████▊| 1003/1024 [3:23:37<04:16, 12.22s/it]               "
          ]
        },
        {
          "name": "stdout",
          "output_type": "stream",
          "text": [
            "Weights: (0.8, 0.8, 0.6000000000000001, 0.6000000000000001, 0.6000000000000001), F1 Score = 0.5429593079643997\n"
          ]
        },
        {
          "name": "stderr",
          "output_type": "stream",
          "text": [
            "Optimizing Weights: (0.8, 0.8, 0.6000000000000001, 0.8, 0.2):  98%|█████████▊| 1004/1024 [3:23:49<04:02, 12.12s/it]               "
          ]
        },
        {
          "name": "stdout",
          "output_type": "stream",
          "text": [
            "Weights: (0.8, 0.8, 0.6000000000000001, 0.6000000000000001, 0.8), F1 Score = 0.5225067005393318\n"
          ]
        },
        {
          "name": "stderr",
          "output_type": "stream",
          "text": [
            "Optimizing Weights: (0.8, 0.8, 0.6000000000000001, 0.8, 0.4):  98%|█████████▊| 1005/1024 [3:24:01<03:50, 12.15s/it]"
          ]
        },
        {
          "name": "stdout",
          "output_type": "stream",
          "text": [
            "Weights: (0.8, 0.8, 0.6000000000000001, 0.8, 0.2), F1 Score = 0.6414990369833212\n"
          ]
        },
        {
          "name": "stderr",
          "output_type": "stream",
          "text": [
            "Optimizing Weights: (0.8, 0.8, 0.6000000000000001, 0.8, 0.6000000000000001):  98%|█████████▊| 1006/1024 [3:24:13<03:39, 12.17s/it]"
          ]
        },
        {
          "name": "stdout",
          "output_type": "stream",
          "text": [
            "Weights: (0.8, 0.8, 0.6000000000000001, 0.8, 0.4), F1 Score = 0.6258443434079746\n"
          ]
        },
        {
          "name": "stderr",
          "output_type": "stream",
          "text": [
            "Optimizing Weights: (0.8, 0.8, 0.6000000000000001, 0.8, 0.8):  98%|█████████▊| 1007/1024 [3:24:26<03:28, 12.25s/it]               "
          ]
        },
        {
          "name": "stdout",
          "output_type": "stream",
          "text": [
            "Weights: (0.8, 0.8, 0.6000000000000001, 0.8, 0.6000000000000001), F1 Score = 0.6058867744926419\n"
          ]
        },
        {
          "name": "stderr",
          "output_type": "stream",
          "text": [
            "Optimizing Weights: (0.8, 0.8, 0.8, 0.2, 0.2):  98%|█████████▊| 1008/1024 [3:24:38<03:16, 12.31s/it]               "
          ]
        },
        {
          "name": "stdout",
          "output_type": "stream",
          "text": [
            "Weights: (0.8, 0.8, 0.6000000000000001, 0.8, 0.8), F1 Score = 0.5812014456805172\n"
          ]
        },
        {
          "name": "stderr",
          "output_type": "stream",
          "text": [
            "Optimizing Weights: (0.8, 0.8, 0.8, 0.2, 0.4):  99%|█████████▊| 1009/1024 [3:24:50<03:04, 12.29s/it]"
          ]
        },
        {
          "name": "stdout",
          "output_type": "stream",
          "text": [
            "Weights: (0.8, 0.8, 0.8, 0.2, 0.2), F1 Score = 0.5626987722987181\n"
          ]
        },
        {
          "name": "stderr",
          "output_type": "stream",
          "text": [
            "Optimizing Weights: (0.8, 0.8, 0.8, 0.2, 0.6000000000000001):  99%|█████████▊| 1010/1024 [3:25:03<02:52, 12.32s/it]"
          ]
        },
        {
          "name": "stdout",
          "output_type": "stream",
          "text": [
            "Weights: (0.8, 0.8, 0.8, 0.2, 0.4), F1 Score = 0.5307779636944846\n"
          ]
        },
        {
          "name": "stderr",
          "output_type": "stream",
          "text": [
            "Optimizing Weights: (0.8, 0.8, 0.8, 0.2, 0.8):  99%|█████████▊| 1011/1024 [3:25:15<02:39, 12.25s/it]               "
          ]
        },
        {
          "name": "stdout",
          "output_type": "stream",
          "text": [
            "Weights: (0.8, 0.8, 0.8, 0.2, 0.6000000000000001), F1 Score = 0.5220703457673309\n"
          ]
        },
        {
          "name": "stderr",
          "output_type": "stream",
          "text": [
            "Optimizing Weights: (0.8, 0.8, 0.8, 0.4, 0.2):  99%|█████████▉| 1012/1024 [3:25:27<02:25, 12.13s/it]"
          ]
        },
        {
          "name": "stdout",
          "output_type": "stream",
          "text": [
            "Weights: (0.8, 0.8, 0.8, 0.2, 0.8), F1 Score = 0.494976698613444\n"
          ]
        },
        {
          "name": "stderr",
          "output_type": "stream",
          "text": [
            "Optimizing Weights: (0.8, 0.8, 0.8, 0.4, 0.4):  99%|█████████▉| 1013/1024 [3:25:39<02:13, 12.17s/it]"
          ]
        },
        {
          "name": "stdout",
          "output_type": "stream",
          "text": [
            "Weights: (0.8, 0.8, 0.8, 0.4, 0.2), F1 Score = 0.6077667294029079\n"
          ]
        },
        {
          "name": "stderr",
          "output_type": "stream",
          "text": [
            "Optimizing Weights: (0.8, 0.8, 0.8, 0.4, 0.6000000000000001):  99%|█████████▉| 1014/1024 [3:25:51<02:01, 12.19s/it]"
          ]
        },
        {
          "name": "stdout",
          "output_type": "stream",
          "text": [
            "Weights: (0.8, 0.8, 0.8, 0.4, 0.4), F1 Score = 0.5790519345905103\n"
          ]
        },
        {
          "name": "stderr",
          "output_type": "stream",
          "text": [
            "Optimizing Weights: (0.8, 0.8, 0.8, 0.4, 0.8):  99%|█████████▉| 1015/1024 [3:26:03<01:49, 12.20s/it]               "
          ]
        },
        {
          "name": "stdout",
          "output_type": "stream",
          "text": [
            "Weights: (0.8, 0.8, 0.8, 0.4, 0.6000000000000001), F1 Score = 0.541740125\n"
          ]
        },
        {
          "name": "stderr",
          "output_type": "stream",
          "text": [
            "Optimizing Weights: (0.8, 0.8, 0.8, 0.6000000000000001, 0.2):  99%|█████████▉| 1016/1024 [3:26:15<01:37, 12.18s/it]"
          ]
        },
        {
          "name": "stdout",
          "output_type": "stream",
          "text": [
            "Weights: (0.8, 0.8, 0.8, 0.4, 0.8), F1 Score = 0.5205907222843547\n"
          ]
        },
        {
          "name": "stderr",
          "output_type": "stream",
          "text": [
            "Optimizing Weights: (0.8, 0.8, 0.8, 0.6000000000000001, 0.4):  99%|█████████▉| 1017/1024 [3:26:28<01:25, 12.20s/it]"
          ]
        },
        {
          "name": "stdout",
          "output_type": "stream",
          "text": [
            "Weights: (0.8, 0.8, 0.8, 0.6000000000000001, 0.2), F1 Score = 0.6319461654704557\n"
          ]
        },
        {
          "name": "stderr",
          "output_type": "stream",
          "text": [
            "Optimizing Weights: (0.8, 0.8, 0.8, 0.6000000000000001, 0.6000000000000001):  99%|█████████▉| 1018/1024 [3:26:40<01:14, 12.36s/it]"
          ]
        },
        {
          "name": "stdout",
          "output_type": "stream",
          "text": [
            "Weights: (0.8, 0.8, 0.8, 0.6000000000000001, 0.4), F1 Score = 0.6131670128287611\n"
          ]
        },
        {
          "name": "stderr",
          "output_type": "stream",
          "text": [
            "Optimizing Weights: (0.8, 0.8, 0.8, 0.6000000000000001, 0.8): 100%|█████████▉| 1019/1024 [3:26:53<01:01, 12.32s/it]               "
          ]
        },
        {
          "name": "stdout",
          "output_type": "stream",
          "text": [
            "Weights: (0.8, 0.8, 0.8, 0.6000000000000001, 0.6000000000000001), F1 Score = 0.5931628787878788\n"
          ]
        },
        {
          "name": "stderr",
          "output_type": "stream",
          "text": [
            "Optimizing Weights: (0.8, 0.8, 0.8, 0.8, 0.2): 100%|█████████▉| 1020/1024 [3:27:04<00:48, 12.10s/it]               "
          ]
        },
        {
          "name": "stdout",
          "output_type": "stream",
          "text": [
            "Weights: (0.8, 0.8, 0.8, 0.6000000000000001, 0.8), F1 Score = 0.5690679053003649\n"
          ]
        },
        {
          "name": "stderr",
          "output_type": "stream",
          "text": [
            "Optimizing Weights: (0.8, 0.8, 0.8, 0.8, 0.4): 100%|█████████▉| 1021/1024 [3:27:16<00:36, 12.02s/it]"
          ]
        },
        {
          "name": "stdout",
          "output_type": "stream",
          "text": [
            "Weights: (0.8, 0.8, 0.8, 0.8, 0.2), F1 Score = 0.6522916319046973\n"
          ]
        },
        {
          "name": "stderr",
          "output_type": "stream",
          "text": [
            "Optimizing Weights: (0.8, 0.8, 0.8, 0.8, 0.6000000000000001): 100%|█████████▉| 1022/1024 [3:27:28<00:24, 12.12s/it]"
          ]
        },
        {
          "name": "stdout",
          "output_type": "stream",
          "text": [
            "Weights: (0.8, 0.8, 0.8, 0.8, 0.4), F1 Score = 0.6385059266815695\n"
          ]
        },
        {
          "name": "stderr",
          "output_type": "stream",
          "text": [
            "Optimizing Weights: (0.8, 0.8, 0.8, 0.8, 0.8): 100%|█████████▉| 1023/1024 [3:27:41<00:12, 12.17s/it]               "
          ]
        },
        {
          "name": "stdout",
          "output_type": "stream",
          "text": [
            "Weights: (0.8, 0.8, 0.8, 0.8, 0.6000000000000001), F1 Score = 0.6269337337810218\n"
          ]
        },
        {
          "name": "stderr",
          "output_type": "stream",
          "text": [
            "Optimizing Weights: (0.8, 0.8, 0.8, 0.8, 0.8): 100%|██████████| 1024/1024 [3:27:53<00:00, 12.18s/it]\n"
          ]
        },
        {
          "name": "stdout",
          "output_type": "stream",
          "text": [
            "Weights: (0.8, 0.8, 0.8, 0.8, 0.8), F1 Score = 0.6080108988419091\n",
            "Optimized Weights: (0.2, 0.2, 0.2, 0.8, 0.2)\n",
            "F1 Score on Test Set: 0.7147118136555133\n"
          ]
        },
        {
          "name": "stderr",
          "output_type": "stream",
          "text": [
            "Applying Sentiment Analysis:  32%|███▏      | 23674/73227 [03:53<07:43, 106.88it/s]"
          ]
        }
      ],
      "source": [
        "print(\"Optimizing weights...\")\n",
        "optimized_weights = optimize_weights(train_df, initial_weights, weight_range=(0.2, 0.8), step=0.2)\n",
        "print(f\"Optimized Weights: {optimized_weights}\")\n",
        "\n",
        "test_f1 = evaluate_model(test_df, optimized_weights)\n",
        "print(f\"F1 Score on Test Set: {test_f1}\")\n",
        "\n",
        "your_file_path = \"/content/drive/MyDrive/preprocessed_data/predicted_genders_filtered.csv\"\n",
        "output_path = \"/content/drive/MyDrive/preprocessed_data/predicted_sentimentOptimized.csv\"\n",
        "process_file_with_optimized_weights(your_file_path, output_path, optimized_weights)"
      ]
    },
    {
      "cell_type": "code",
      "execution_count": null,
      "metadata": {
        "id": "U--1kYOHuQ1M"
      },
      "outputs": [],
      "source": [
        "def optimize_weights_refined(df, initial_weights, weight_range_width=0.2, step=0.1):\n",
        "    \"\"\"\n",
        "    Refined optimization of weights around initial values.\n",
        "\n",
        "    Args:\n",
        "        df: The DataFrame containing the tweets and sentiment labels.\n",
        "        initial_weights: The initial weights (center of search space).\n",
        "        weight_range_width: The total width of the search range around each weight.\n",
        "        step: The step size for iterating through the weight range.\n",
        "\n",
        "    Returns:\n",
        "        The optimized weights that yield the highest F1 score.\n",
        "    \"\"\"\n",
        "\n",
        "    best_f1 = 0\n",
        "    best_weights = initial_weights\n",
        "\n",
        "    weight_ranges = [\n",
        "        (max(0, w - weight_range_width / 2), min(1, w + weight_range_width / 2))\n",
        "        for w in initial_weights\n",
        "    ]\n",
        "\n",
        "    weight_values = [\n",
        "        np.arange(r[0], r[1] + step, step) for r in weight_ranges\n",
        "    ]\n",
        "\n",
        "    all_weight_combinations = list(itertools.product(*weight_values))\n",
        "\n",
        "    with tqdm(total=len(all_weight_combinations), desc=\"Refining Weights\") as pbar:\n",
        "        for weights in all_weight_combinations:\n",
        "            pbar.set_description(f\"Refining Weights: {weights}\")\n",
        "\n",
        "            current_f1 = evaluate_model(df, weights)\n",
        "            pbar.write(f\"Weights: {weights}, F1 Score = {current_f1}\")\n",
        "\n",
        "            if current_f1 > best_f1:\n",
        "                best_f1 = current_f1\n",
        "                best_weights = weights\n",
        "\n",
        "            pbar.update(1)\n",
        "\n",
        "    return best_weights"
      ]
    },
    {
      "cell_type": "code",
      "execution_count": null,
      "metadata": {
        "colab": {
          "base_uri": "https://localhost:8080/"
        },
        "collapsed": true,
        "id": "33TfMMe3uqVe",
        "outputId": "e5d90906-5526-4c24-b729-1288ed9a3791"
      },
      "outputs": [
        {
          "name": "stderr",
          "output_type": "stream",
          "text": [
            "Refining Weights: (0.1, 0.1, 0.1, 0.7000000000000001, 0.2):   0%|          | 1/768 [00:13<2:51:05, 13.38s/it]"
          ]
        },
        {
          "name": "stdout",
          "output_type": "stream",
          "text": [
            "Weights: (0.1, 0.1, 0.1, 0.7000000000000001, 0.1), F1 Score = 0.7081058987255773\n"
          ]
        },
        {
          "name": "stderr",
          "output_type": "stream",
          "text": [
            "Refining Weights: (0.1, 0.1, 0.1, 0.7000000000000001, 0.30000000000000004):   0%|          | 2/768 [00:25<2:41:57, 12.69s/it]"
          ]
        },
        {
          "name": "stdout",
          "output_type": "stream",
          "text": [
            "Weights: (0.1, 0.1, 0.1, 0.7000000000000001, 0.2), F1 Score = 0.7061151159119583\n"
          ]
        },
        {
          "name": "stderr",
          "output_type": "stream",
          "text": [
            "Refining Weights: (0.1, 0.1, 0.1, 0.7000000000000001, 0.4):   0%|          | 3/768 [00:37<2:37:34, 12.36s/it]                "
          ]
        },
        {
          "name": "stdout",
          "output_type": "stream",
          "text": [
            "Weights: (0.1, 0.1, 0.1, 0.7000000000000001, 0.30000000000000004), F1 Score = 0.704610993698623\n"
          ]
        },
        {
          "name": "stderr",
          "output_type": "stream",
          "text": [
            "Refining Weights: (0.1, 0.1, 0.1, 0.8, 0.1):   1%|          | 4/768 [00:48<2:31:45, 11.92s/it]               "
          ]
        },
        {
          "name": "stdout",
          "output_type": "stream",
          "text": [
            "Weights: (0.1, 0.1, 0.1, 0.7000000000000001, 0.4), F1 Score = 0.7080506894908376\n"
          ]
        },
        {
          "name": "stderr",
          "output_type": "stream",
          "text": [
            "Refining Weights: (0.1, 0.1, 0.1, 0.8, 0.2):   1%|          | 5/768 [01:00<2:30:44, 11.85s/it]"
          ]
        },
        {
          "name": "stdout",
          "output_type": "stream",
          "text": [
            "Weights: (0.1, 0.1, 0.1, 0.8, 0.1), F1 Score = 0.7079044151641238\n"
          ]
        },
        {
          "name": "stderr",
          "output_type": "stream",
          "text": [
            "Refining Weights: (0.1, 0.1, 0.1, 0.8, 0.30000000000000004):   1%|          | 6/768 [01:12<2:32:01, 11.97s/it]"
          ]
        },
        {
          "name": "stdout",
          "output_type": "stream",
          "text": [
            "Weights: (0.1, 0.1, 0.1, 0.8, 0.2), F1 Score = 0.7081757709260057\n"
          ]
        },
        {
          "name": "stderr",
          "output_type": "stream",
          "text": [
            "Refining Weights: (0.1, 0.1, 0.1, 0.8, 0.4):   1%|          | 7/768 [01:24<2:32:32, 12.03s/it]                "
          ]
        },
        {
          "name": "stdout",
          "output_type": "stream",
          "text": [
            "Weights: (0.1, 0.1, 0.1, 0.8, 0.30000000000000004), F1 Score = 0.7063645079845315\n"
          ]
        },
        {
          "name": "stderr",
          "output_type": "stream",
          "text": [
            "Refining Weights: (0.1, 0.1, 0.1, 0.9, 0.1):   1%|          | 8/768 [01:36<2:32:23, 12.03s/it]"
          ]
        },
        {
          "name": "stdout",
          "output_type": "stream",
          "text": [
            "Weights: (0.1, 0.1, 0.1, 0.8, 0.4), F1 Score = 0.7047132646598855\n"
          ]
        },
        {
          "name": "stderr",
          "output_type": "stream",
          "text": [
            "Refining Weights: (0.1, 0.1, 0.1, 0.9, 0.2):   1%|          | 9/768 [01:49<2:32:56, 12.09s/it]"
          ]
        },
        {
          "name": "stdout",
          "output_type": "stream",
          "text": [
            "Weights: (0.1, 0.1, 0.1, 0.9, 0.1), F1 Score = 0.7067455695149346\n"
          ]
        },
        {
          "name": "stderr",
          "output_type": "stream",
          "text": [
            "Refining Weights: (0.1, 0.1, 0.1, 0.9, 0.30000000000000004):   1%|▏         | 10/768 [02:00<2:31:49, 12.02s/it]"
          ]
        },
        {
          "name": "stdout",
          "output_type": "stream",
          "text": [
            "Weights: (0.1, 0.1, 0.1, 0.9, 0.2), F1 Score = 0.7077095870752709\n"
          ]
        },
        {
          "name": "stderr",
          "output_type": "stream",
          "text": [
            "Refining Weights: (0.1, 0.1, 0.1, 0.9, 0.4):   1%|▏         | 11/768 [02:12<2:29:14, 11.83s/it]                "
          ]
        },
        {
          "name": "stdout",
          "output_type": "stream",
          "text": [
            "Weights: (0.1, 0.1, 0.1, 0.9, 0.30000000000000004), F1 Score = 0.7084057471713328\n"
          ]
        },
        {
          "name": "stderr",
          "output_type": "stream",
          "text": [
            "Refining Weights: (0.1, 0.1, 0.2, 0.7000000000000001, 0.1):   2%|▏         | 12/768 [02:24<2:29:53, 11.90s/it]"
          ]
        },
        {
          "name": "stdout",
          "output_type": "stream",
          "text": [
            "Weights: (0.1, 0.1, 0.1, 0.9, 0.4), F1 Score = 0.7070727260187764\n"
          ]
        },
        {
          "name": "stderr",
          "output_type": "stream",
          "text": [
            "Refining Weights: (0.1, 0.1, 0.2, 0.7000000000000001, 0.2):   2%|▏         | 13/768 [02:36<2:30:04, 11.93s/it]"
          ]
        },
        {
          "name": "stdout",
          "output_type": "stream",
          "text": [
            "Weights: (0.1, 0.1, 0.2, 0.7000000000000001, 0.1), F1 Score = 0.7064128212520994\n"
          ]
        },
        {
          "name": "stderr",
          "output_type": "stream",
          "text": [
            "Refining Weights: (0.1, 0.1, 0.2, 0.7000000000000001, 0.30000000000000004):   2%|▏         | 14/768 [02:48<2:30:20, 11.96s/it]"
          ]
        },
        {
          "name": "stdout",
          "output_type": "stream",
          "text": [
            "Weights: (0.1, 0.1, 0.2, 0.7000000000000001, 0.2), F1 Score = 0.7053035234669198\n"
          ]
        },
        {
          "name": "stderr",
          "output_type": "stream",
          "text": [
            "Refining Weights: (0.1, 0.1, 0.2, 0.7000000000000001, 0.4):   2%|▏         | 15/768 [03:00<2:30:51, 12.02s/it]                "
          ]
        },
        {
          "name": "stdout",
          "output_type": "stream",
          "text": [
            "Weights: (0.1, 0.1, 0.2, 0.7000000000000001, 0.30000000000000004), F1 Score = 0.700433188238228\n"
          ]
        },
        {
          "name": "stderr",
          "output_type": "stream",
          "text": [
            "Refining Weights: (0.1, 0.1, 0.2, 0.8, 0.1):   2%|▏         | 16/768 [03:12<2:31:16, 12.07s/it]               "
          ]
        },
        {
          "name": "stdout",
          "output_type": "stream",
          "text": [
            "Weights: (0.1, 0.1, 0.2, 0.7000000000000001, 0.4), F1 Score = 0.6977962898297686\n"
          ]
        },
        {
          "name": "stderr",
          "output_type": "stream",
          "text": [
            "Refining Weights: (0.1, 0.1, 0.2, 0.8, 0.2):   2%|▏         | 17/768 [03:24<2:30:00, 11.99s/it]"
          ]
        },
        {
          "name": "stdout",
          "output_type": "stream",
          "text": [
            "Weights: (0.1, 0.1, 0.2, 0.8, 0.1), F1 Score = 0.7055617472877475\n"
          ]
        },
        {
          "name": "stderr",
          "output_type": "stream",
          "text": [
            "Refining Weights: (0.1, 0.1, 0.2, 0.8, 0.30000000000000004):   2%|▏         | 18/768 [03:36<2:27:36, 11.81s/it]"
          ]
        },
        {
          "name": "stdout",
          "output_type": "stream",
          "text": [
            "Weights: (0.1, 0.1, 0.2, 0.8, 0.2), F1 Score = 0.7069301307479514\n"
          ]
        },
        {
          "name": "stderr",
          "output_type": "stream",
          "text": [
            "Refining Weights: (0.1, 0.1, 0.2, 0.8, 0.4):   2%|▏         | 19/768 [03:48<2:28:06, 11.86s/it]                "
          ]
        },
        {
          "name": "stdout",
          "output_type": "stream",
          "text": [
            "Weights: (0.1, 0.1, 0.2, 0.8, 0.30000000000000004), F1 Score = 0.7069138118821218\n"
          ]
        },
        {
          "name": "stderr",
          "output_type": "stream",
          "text": [
            "Refining Weights: (0.1, 0.1, 0.2, 0.9, 0.1):   3%|▎         | 20/768 [04:00<2:28:38, 11.92s/it]"
          ]
        },
        {
          "name": "stdout",
          "output_type": "stream",
          "text": [
            "Weights: (0.1, 0.1, 0.2, 0.8, 0.4), F1 Score = 0.7043144511292283\n"
          ]
        },
        {
          "name": "stderr",
          "output_type": "stream",
          "text": [
            "Refining Weights: (0.1, 0.1, 0.2, 0.9, 0.2):   3%|▎         | 21/768 [04:12<2:30:20, 12.08s/it]"
          ]
        },
        {
          "name": "stdout",
          "output_type": "stream",
          "text": [
            "Weights: (0.1, 0.1, 0.2, 0.9, 0.1), F1 Score = 0.7065811493103031\n"
          ]
        },
        {
          "name": "stderr",
          "output_type": "stream",
          "text": [
            "Refining Weights: (0.1, 0.1, 0.2, 0.9, 0.30000000000000004):   3%|▎         | 22/768 [04:24<2:30:11, 12.08s/it]"
          ]
        },
        {
          "name": "stdout",
          "output_type": "stream",
          "text": [
            "Weights: (0.1, 0.1, 0.2, 0.9, 0.2), F1 Score = 0.7050151137305127\n"
          ]
        },
        {
          "name": "stderr",
          "output_type": "stream",
          "text": [
            "Refining Weights: (0.1, 0.1, 0.2, 0.9, 0.4):   3%|▎         | 23/768 [04:36<2:30:11, 12.10s/it]                "
          ]
        },
        {
          "name": "stdout",
          "output_type": "stream",
          "text": [
            "Weights: (0.1, 0.1, 0.2, 0.9, 0.30000000000000004), F1 Score = 0.7061901628697\n"
          ]
        },
        {
          "name": "stderr",
          "output_type": "stream",
          "text": [
            "Refining Weights: (0.1, 0.1, 0.30000000000000004, 0.7000000000000001, 0.1):   3%|▎         | 24/768 [04:48<2:28:32, 11.98s/it]"
          ]
        },
        {
          "name": "stdout",
          "output_type": "stream",
          "text": [
            "Weights: (0.1, 0.1, 0.2, 0.9, 0.4), F1 Score = 0.7060568166141374\n"
          ]
        },
        {
          "name": "stderr",
          "output_type": "stream",
          "text": [
            "Refining Weights: (0.1, 0.1, 0.30000000000000004, 0.7000000000000001, 0.2):   3%|▎         | 25/768 [04:59<2:26:17, 11.81s/it]"
          ]
        },
        {
          "name": "stdout",
          "output_type": "stream",
          "text": [
            "Weights: (0.1, 0.1, 0.30000000000000004, 0.7000000000000001, 0.1), F1 Score = 0.699423265212113\n"
          ]
        },
        {
          "name": "stderr",
          "output_type": "stream",
          "text": [
            "Refining Weights: (0.1, 0.1, 0.30000000000000004, 0.7000000000000001, 0.30000000000000004):   3%|▎         | 26/768 [05:11<2:26:07, 11.82s/it]"
          ]
        },
        {
          "name": "stdout",
          "output_type": "stream",
          "text": [
            "Weights: (0.1, 0.1, 0.30000000000000004, 0.7000000000000001, 0.2), F1 Score = 0.6931783765408739\n"
          ]
        },
        {
          "name": "stderr",
          "output_type": "stream",
          "text": [
            "Refining Weights: (0.1, 0.1, 0.30000000000000004, 0.7000000000000001, 0.4):   4%|▎         | 27/768 [05:23<2:27:14, 11.92s/it]                "
          ]
        },
        {
          "name": "stdout",
          "output_type": "stream",
          "text": [
            "Weights: (0.1, 0.1, 0.30000000000000004, 0.7000000000000001, 0.30000000000000004), F1 Score = 0.6871864883556613\n"
          ]
        },
        {
          "name": "stderr",
          "output_type": "stream",
          "text": [
            "Refining Weights: (0.1, 0.1, 0.30000000000000004, 0.8, 0.1):   4%|▎         | 28/768 [05:35<2:27:31, 11.96s/it]               "
          ]
        },
        {
          "name": "stdout",
          "output_type": "stream",
          "text": [
            "Weights: (0.1, 0.1, 0.30000000000000004, 0.7000000000000001, 0.4), F1 Score = 0.6790640459088918\n"
          ]
        },
        {
          "name": "stderr",
          "output_type": "stream",
          "text": [
            "Refining Weights: (0.1, 0.1, 0.30000000000000004, 0.8, 0.2):   4%|▍         | 29/768 [05:48<2:27:58, 12.01s/it]"
          ]
        },
        {
          "name": "stdout",
          "output_type": "stream",
          "text": [
            "Weights: (0.1, 0.1, 0.30000000000000004, 0.8, 0.1), F1 Score = 0.703089952402446\n"
          ]
        },
        {
          "name": "stderr",
          "output_type": "stream",
          "text": [
            "Refining Weights: (0.1, 0.1, 0.30000000000000004, 0.8, 0.30000000000000004):   4%|▍         | 30/768 [06:00<2:28:12, 12.05s/it]"
          ]
        },
        {
          "name": "stdout",
          "output_type": "stream",
          "text": [
            "Weights: (0.1, 0.1, 0.30000000000000004, 0.8, 0.2), F1 Score = 0.699267601144067\n"
          ]
        },
        {
          "name": "stderr",
          "output_type": "stream",
          "text": [
            "Refining Weights: (0.1, 0.1, 0.30000000000000004, 0.8, 0.4):   4%|▍         | 31/768 [06:12<2:27:31, 12.01s/it]                "
          ]
        },
        {
          "name": "stdout",
          "output_type": "stream",
          "text": [
            "Weights: (0.1, 0.1, 0.30000000000000004, 0.8, 0.30000000000000004), F1 Score = 0.6988463281895649\n"
          ]
        },
        {
          "name": "stderr",
          "output_type": "stream",
          "text": [
            "Refining Weights: (0.1, 0.1, 0.30000000000000004, 0.9, 0.1):   4%|▍         | 32/768 [06:23<2:24:48, 11.80s/it]"
          ]
        },
        {
          "name": "stdout",
          "output_type": "stream",
          "text": [
            "Weights: (0.1, 0.1, 0.30000000000000004, 0.8, 0.4), F1 Score = 0.6930750755041177\n"
          ]
        },
        {
          "name": "stderr",
          "output_type": "stream",
          "text": [
            "Refining Weights: (0.1, 0.1, 0.30000000000000004, 0.9, 0.2):   4%|▍         | 33/768 [06:35<2:24:21, 11.78s/it]"
          ]
        },
        {
          "name": "stdout",
          "output_type": "stream",
          "text": [
            "Weights: (0.1, 0.1, 0.30000000000000004, 0.9, 0.1), F1 Score = 0.7061375707932379\n"
          ]
        },
        {
          "name": "stderr",
          "output_type": "stream",
          "text": [
            "Refining Weights: (0.1, 0.1, 0.30000000000000004, 0.9, 0.30000000000000004):   4%|▍         | 34/768 [06:47<2:25:39, 11.91s/it]"
          ]
        },
        {
          "name": "stdout",
          "output_type": "stream",
          "text": [
            "Weights: (0.1, 0.1, 0.30000000000000004, 0.9, 0.2), F1 Score = 0.7057378424858061\n"
          ]
        },
        {
          "name": "stderr",
          "output_type": "stream",
          "text": [
            "Refining Weights: (0.1, 0.1, 0.30000000000000004, 0.9, 0.4):   5%|▍         | 35/768 [06:59<2:26:05, 11.96s/it]                "
          ]
        },
        {
          "name": "stdout",
          "output_type": "stream",
          "text": [
            "Weights: (0.1, 0.1, 0.30000000000000004, 0.9, 0.30000000000000004), F1 Score = 0.6992381869809126\n"
          ]
        },
        {
          "name": "stderr",
          "output_type": "stream",
          "text": [
            "Refining Weights: (0.1, 0.1, 0.4, 0.7000000000000001, 0.1):   5%|▍         | 36/768 [07:11<2:26:47, 12.03s/it] "
          ]
        },
        {
          "name": "stdout",
          "output_type": "stream",
          "text": [
            "Weights: (0.1, 0.1, 0.30000000000000004, 0.9, 0.4), F1 Score = 0.6987472563659793\n"
          ]
        },
        {
          "name": "stderr",
          "output_type": "stream",
          "text": [
            "Refining Weights: (0.1, 0.1, 0.4, 0.7000000000000001, 0.2):   5%|▍         | 37/768 [07:23<2:26:19, 12.01s/it]"
          ]
        },
        {
          "name": "stdout",
          "output_type": "stream",
          "text": [
            "Weights: (0.1, 0.1, 0.4, 0.7000000000000001, 0.1), F1 Score = 0.6820472479350053\n"
          ]
        },
        {
          "name": "stderr",
          "output_type": "stream",
          "text": [
            "Refining Weights: (0.1, 0.1, 0.4, 0.7000000000000001, 0.30000000000000004):   5%|▍         | 38/768 [07:35<2:26:28, 12.04s/it]"
          ]
        },
        {
          "name": "stdout",
          "output_type": "stream",
          "text": [
            "Weights: (0.1, 0.1, 0.4, 0.7000000000000001, 0.2), F1 Score = 0.675572492869452\n"
          ]
        },
        {
          "name": "stderr",
          "output_type": "stream",
          "text": [
            "Refining Weights: (0.1, 0.1, 0.4, 0.7000000000000001, 0.4):   5%|▌         | 39/768 [07:47<2:24:40, 11.91s/it]                "
          ]
        },
        {
          "name": "stdout",
          "output_type": "stream",
          "text": [
            "Weights: (0.1, 0.1, 0.4, 0.7000000000000001, 0.30000000000000004), F1 Score = 0.6741960750897655\n"
          ]
        },
        {
          "name": "stderr",
          "output_type": "stream",
          "text": [
            "Refining Weights: (0.1, 0.1, 0.4, 0.8, 0.1):   5%|▌         | 40/768 [07:58<2:23:11, 11.80s/it]               "
          ]
        },
        {
          "name": "stdout",
          "output_type": "stream",
          "text": [
            "Weights: (0.1, 0.1, 0.4, 0.7000000000000001, 0.4), F1 Score = 0.6742081000409782\n"
          ]
        },
        {
          "name": "stderr",
          "output_type": "stream",
          "text": [
            "Refining Weights: (0.1, 0.1, 0.4, 0.8, 0.2):   5%|▌         | 41/768 [08:10<2:23:46, 11.87s/it]"
          ]
        },
        {
          "name": "stdout",
          "output_type": "stream",
          "text": [
            "Weights: (0.1, 0.1, 0.4, 0.8, 0.1), F1 Score = 0.6930444910862354\n"
          ]
        },
        {
          "name": "stderr",
          "output_type": "stream",
          "text": [
            "Refining Weights: (0.1, 0.1, 0.4, 0.8, 0.30000000000000004):   5%|▌         | 42/768 [08:23<2:24:44, 11.96s/it]"
          ]
        },
        {
          "name": "stdout",
          "output_type": "stream",
          "text": [
            "Weights: (0.1, 0.1, 0.4, 0.8, 0.2), F1 Score = 0.6867657766667038\n"
          ]
        },
        {
          "name": "stderr",
          "output_type": "stream",
          "text": [
            "Refining Weights: (0.1, 0.1, 0.4, 0.8, 0.4):   6%|▌         | 43/768 [08:35<2:25:08, 12.01s/it]                "
          ]
        },
        {
          "name": "stdout",
          "output_type": "stream",
          "text": [
            "Weights: (0.1, 0.1, 0.4, 0.8, 0.30000000000000004), F1 Score = 0.6797515287805262\n"
          ]
        },
        {
          "name": "stderr",
          "output_type": "stream",
          "text": [
            "Refining Weights: (0.1, 0.1, 0.4, 0.9, 0.1):   6%|▌         | 44/768 [08:47<2:25:16, 12.04s/it]"
          ]
        },
        {
          "name": "stdout",
          "output_type": "stream",
          "text": [
            "Weights: (0.1, 0.1, 0.4, 0.8, 0.4), F1 Score = 0.6751245653479312\n"
          ]
        },
        {
          "name": "stderr",
          "output_type": "stream",
          "text": [
            "Refining Weights: (0.1, 0.1, 0.4, 0.9, 0.2):   6%|▌         | 45/768 [08:59<2:25:49, 12.10s/it]"
          ]
        },
        {
          "name": "stdout",
          "output_type": "stream",
          "text": [
            "Weights: (0.1, 0.1, 0.4, 0.9, 0.1), F1 Score = 0.6976708781143581\n"
          ]
        },
        {
          "name": "stderr",
          "output_type": "stream",
          "text": [
            "Refining Weights: (0.1, 0.1, 0.4, 0.9, 0.30000000000000004):   6%|▌         | 46/768 [09:11<2:23:59, 11.97s/it]"
          ]
        },
        {
          "name": "stdout",
          "output_type": "stream",
          "text": [
            "Weights: (0.1, 0.1, 0.4, 0.9, 0.2), F1 Score = 0.6969150732826861\n"
          ]
        },
        {
          "name": "stderr",
          "output_type": "stream",
          "text": [
            "Refining Weights: (0.1, 0.1, 0.4, 0.9, 0.4):   6%|▌         | 47/768 [09:22<2:22:03, 11.82s/it]                "
          ]
        },
        {
          "name": "stdout",
          "output_type": "stream",
          "text": [
            "Weights: (0.1, 0.1, 0.4, 0.9, 0.30000000000000004), F1 Score = 0.6917600761608053\n"
          ]
        },
        {
          "name": "stderr",
          "output_type": "stream",
          "text": [
            "Refining Weights: (0.1, 0.2, 0.1, 0.7000000000000001, 0.1):   6%|▋         | 48/768 [09:34<2:23:16, 11.94s/it]"
          ]
        },
        {
          "name": "stdout",
          "output_type": "stream",
          "text": [
            "Weights: (0.1, 0.1, 0.4, 0.9, 0.4), F1 Score = 0.6863427325498103\n"
          ]
        },
        {
          "name": "stderr",
          "output_type": "stream",
          "text": [
            "Refining Weights: (0.1, 0.2, 0.1, 0.7000000000000001, 0.2):   6%|▋         | 49/768 [09:47<2:23:44, 11.99s/it]"
          ]
        },
        {
          "name": "stdout",
          "output_type": "stream",
          "text": [
            "Weights: (0.1, 0.2, 0.1, 0.7000000000000001, 0.1), F1 Score = 0.7060568132615822\n"
          ]
        },
        {
          "name": "stderr",
          "output_type": "stream",
          "text": [
            "Refining Weights: (0.1, 0.2, 0.1, 0.7000000000000001, 0.30000000000000004):   7%|▋         | 50/768 [09:59<2:24:17, 12.06s/it]"
          ]
        },
        {
          "name": "stdout",
          "output_type": "stream",
          "text": [
            "Weights: (0.1, 0.2, 0.1, 0.7000000000000001, 0.2), F1 Score = 0.7062519418665159\n"
          ]
        },
        {
          "name": "stderr",
          "output_type": "stream",
          "text": [
            "Refining Weights: (0.1, 0.2, 0.1, 0.7000000000000001, 0.4):   7%|▋         | 51/768 [10:11<2:24:18, 12.08s/it]                "
          ]
        },
        {
          "name": "stdout",
          "output_type": "stream",
          "text": [
            "Weights: (0.1, 0.2, 0.1, 0.7000000000000001, 0.30000000000000004), F1 Score = 0.7071335211898528\n"
          ]
        },
        {
          "name": "stderr",
          "output_type": "stream",
          "text": [
            "Refining Weights: (0.1, 0.2, 0.1, 0.8, 0.1):   7%|▋         | 52/768 [10:23<2:23:19, 12.01s/it]               "
          ]
        },
        {
          "name": "stdout",
          "output_type": "stream",
          "text": [
            "Weights: (0.1, 0.2, 0.1, 0.7000000000000001, 0.4), F1 Score = 0.7020507893555855\n"
          ]
        },
        {
          "name": "stderr",
          "output_type": "stream",
          "text": [
            "Refining Weights: (0.1, 0.2, 0.1, 0.8, 0.2):   7%|▋         | 53/768 [10:34<2:21:39, 11.89s/it]"
          ]
        },
        {
          "name": "stdout",
          "output_type": "stream",
          "text": [
            "Weights: (0.1, 0.2, 0.1, 0.8, 0.1), F1 Score = 0.7072549016818945\n"
          ]
        },
        {
          "name": "stderr",
          "output_type": "stream",
          "text": [
            "Refining Weights: (0.1, 0.2, 0.1, 0.8, 0.30000000000000004):   7%|▋         | 54/768 [10:46<2:20:11, 11.78s/it]"
          ]
        },
        {
          "name": "stdout",
          "output_type": "stream",
          "text": [
            "Weights: (0.1, 0.2, 0.1, 0.8, 0.2), F1 Score = 0.7058333456964122\n"
          ]
        },
        {
          "name": "stderr",
          "output_type": "stream",
          "text": [
            "Refining Weights: (0.1, 0.2, 0.1, 0.8, 0.4):   7%|▋         | 55/768 [10:58<2:21:54, 11.94s/it]                "
          ]
        },
        {
          "name": "stdout",
          "output_type": "stream",
          "text": [
            "Weights: (0.1, 0.2, 0.1, 0.8, 0.30000000000000004), F1 Score = 0.7063682730829507\n"
          ]
        },
        {
          "name": "stderr",
          "output_type": "stream",
          "text": [
            "Refining Weights: (0.1, 0.2, 0.1, 0.9, 0.1):   7%|▋         | 56/768 [11:10<2:22:44, 12.03s/it]"
          ]
        },
        {
          "name": "stdout",
          "output_type": "stream",
          "text": [
            "Weights: (0.1, 0.2, 0.1, 0.8, 0.4), F1 Score = 0.707244323233258\n"
          ]
        },
        {
          "name": "stderr",
          "output_type": "stream",
          "text": [
            "Refining Weights: (0.1, 0.2, 0.1, 0.9, 0.2):   7%|▋         | 57/768 [11:22<2:22:36, 12.03s/it]"
          ]
        },
        {
          "name": "stdout",
          "output_type": "stream",
          "text": [
            "Weights: (0.1, 0.2, 0.1, 0.9, 0.1), F1 Score = 0.7075055983729653\n"
          ]
        },
        {
          "name": "stderr",
          "output_type": "stream",
          "text": [
            "Refining Weights: (0.1, 0.2, 0.1, 0.9, 0.30000000000000004):   8%|▊         | 58/768 [11:35<2:22:47, 12.07s/it]"
          ]
        },
        {
          "name": "stdout",
          "output_type": "stream",
          "text": [
            "Weights: (0.1, 0.2, 0.1, 0.9, 0.2), F1 Score = 0.7066593495521173\n"
          ]
        },
        {
          "name": "stderr",
          "output_type": "stream",
          "text": [
            "Refining Weights: (0.1, 0.2, 0.1, 0.9, 0.4):   8%|▊         | 59/768 [11:47<2:22:12, 12.03s/it]                "
          ]
        },
        {
          "name": "stdout",
          "output_type": "stream",
          "text": [
            "Weights: (0.1, 0.2, 0.1, 0.9, 0.30000000000000004), F1 Score = 0.7058066047591555\n"
          ]
        },
        {
          "name": "stderr",
          "output_type": "stream",
          "text": [
            "Refining Weights: (0.1, 0.2, 0.2, 0.7000000000000001, 0.1):   8%|▊         | 60/768 [11:59<2:21:51, 12.02s/it]"
          ]
        },
        {
          "name": "stdout",
          "output_type": "stream",
          "text": [
            "Weights: (0.1, 0.2, 0.1, 0.9, 0.4), F1 Score = 0.704583988957902\n"
          ]
        },
        {
          "name": "stderr",
          "output_type": "stream",
          "text": [
            "Refining Weights: (0.1, 0.2, 0.2, 0.7000000000000001, 0.2):   8%|▊         | 61/768 [12:10<2:19:34, 11.85s/it]"
          ]
        },
        {
          "name": "stdout",
          "output_type": "stream",
          "text": [
            "Weights: (0.1, 0.2, 0.2, 0.7000000000000001, 0.1), F1 Score = 0.7044767641374432\n"
          ]
        },
        {
          "name": "stderr",
          "output_type": "stream",
          "text": [
            "Refining Weights: (0.1, 0.2, 0.2, 0.7000000000000001, 0.30000000000000004):   8%|▊         | 62/768 [12:22<2:19:48, 11.88s/it]"
          ]
        },
        {
          "name": "stdout",
          "output_type": "stream",
          "text": [
            "Weights: (0.1, 0.2, 0.2, 0.7000000000000001, 0.2), F1 Score = 0.7013207761612571\n"
          ]
        },
        {
          "name": "stderr",
          "output_type": "stream",
          "text": [
            "Refining Weights: (0.1, 0.2, 0.2, 0.7000000000000001, 0.4):   8%|▊         | 63/768 [12:34<2:20:15, 11.94s/it]                "
          ]
        },
        {
          "name": "stdout",
          "output_type": "stream",
          "text": [
            "Weights: (0.1, 0.2, 0.2, 0.7000000000000001, 0.30000000000000004), F1 Score = 0.6968759770881738\n"
          ]
        },
        {
          "name": "stderr",
          "output_type": "stream",
          "text": [
            "Refining Weights: (0.1, 0.2, 0.2, 0.8, 0.1):   8%|▊         | 64/768 [12:46<2:20:14, 11.95s/it]               "
          ]
        },
        {
          "name": "stdout",
          "output_type": "stream",
          "text": [
            "Weights: (0.1, 0.2, 0.2, 0.7000000000000001, 0.4), F1 Score = 0.6935149218154081\n"
          ]
        },
        {
          "name": "stderr",
          "output_type": "stream",
          "text": [
            "Refining Weights: (0.1, 0.2, 0.2, 0.8, 0.2):   8%|▊         | 65/768 [12:58<2:21:24, 12.07s/it]"
          ]
        },
        {
          "name": "stdout",
          "output_type": "stream",
          "text": [
            "Weights: (0.1, 0.2, 0.2, 0.8, 0.1), F1 Score = 0.7079342683918857\n"
          ]
        },
        {
          "name": "stderr",
          "output_type": "stream",
          "text": [
            "Refining Weights: (0.1, 0.2, 0.2, 0.8, 0.30000000000000004):   9%|▊         | 66/768 [13:11<2:21:41, 12.11s/it]"
          ]
        },
        {
          "name": "stdout",
          "output_type": "stream",
          "text": [
            "Weights: (0.1, 0.2, 0.2, 0.8, 0.2), F1 Score = 0.7054458376781931\n"
          ]
        },
        {
          "name": "stderr",
          "output_type": "stream",
          "text": [
            "Refining Weights: (0.1, 0.2, 0.2, 0.8, 0.4):   9%|▊         | 67/768 [13:22<2:20:55, 12.06s/it]                "
          ]
        },
        {
          "name": "stdout",
          "output_type": "stream",
          "text": [
            "Weights: (0.1, 0.2, 0.2, 0.8, 0.30000000000000004), F1 Score = 0.7029071530491257\n"
          ]
        },
        {
          "name": "stderr",
          "output_type": "stream",
          "text": [
            "Refining Weights: (0.1, 0.2, 0.2, 0.9, 0.1):   9%|▉         | 68/768 [13:34<2:18:22, 11.86s/it]"
          ]
        },
        {
          "name": "stdout",
          "output_type": "stream",
          "text": [
            "Weights: (0.1, 0.2, 0.2, 0.8, 0.4), F1 Score = 0.699247404977167\n"
          ]
        },
        {
          "name": "stderr",
          "output_type": "stream",
          "text": [
            "Refining Weights: (0.1, 0.2, 0.2, 0.9, 0.2):   9%|▉         | 69/768 [13:46<2:18:07, 11.86s/it]"
          ]
        },
        {
          "name": "stdout",
          "output_type": "stream",
          "text": [
            "Weights: (0.1, 0.2, 0.2, 0.9, 0.1), F1 Score = 0.706821265054245\n"
          ]
        },
        {
          "name": "stderr",
          "output_type": "stream",
          "text": [
            "Refining Weights: (0.1, 0.2, 0.2, 0.9, 0.30000000000000004):   9%|▉         | 70/768 [13:58<2:18:30, 11.91s/it]"
          ]
        },
        {
          "name": "stdout",
          "output_type": "stream",
          "text": [
            "Weights: (0.1, 0.2, 0.2, 0.9, 0.2), F1 Score = 0.7073667275216795\n"
          ]
        },
        {
          "name": "stderr",
          "output_type": "stream",
          "text": [
            "Refining Weights: (0.1, 0.2, 0.2, 0.9, 0.4):   9%|▉         | 71/768 [14:10<2:19:26, 12.00s/it]                "
          ]
        },
        {
          "name": "stdout",
          "output_type": "stream",
          "text": [
            "Weights: (0.1, 0.2, 0.2, 0.9, 0.30000000000000004), F1 Score = 0.7078910098522166\n"
          ]
        },
        {
          "name": "stderr",
          "output_type": "stream",
          "text": [
            "Refining Weights: (0.1, 0.2, 0.30000000000000004, 0.7000000000000001, 0.1):   9%|▉         | 72/768 [14:22<2:20:43, 12.13s/it]"
          ]
        },
        {
          "name": "stdout",
          "output_type": "stream",
          "text": [
            "Weights: (0.1, 0.2, 0.2, 0.9, 0.4), F1 Score = 0.7020151970955035\n"
          ]
        },
        {
          "name": "stderr",
          "output_type": "stream",
          "text": [
            "Refining Weights: (0.1, 0.2, 0.30000000000000004, 0.7000000000000001, 0.2):  10%|▉         | 73/768 [14:35<2:20:44, 12.15s/it]"
          ]
        },
        {
          "name": "stdout",
          "output_type": "stream",
          "text": [
            "Weights: (0.1, 0.2, 0.30000000000000004, 0.7000000000000001, 0.1), F1 Score = 0.6938141869095815\n"
          ]
        },
        {
          "name": "stderr",
          "output_type": "stream",
          "text": [
            "Refining Weights: (0.1, 0.2, 0.30000000000000004, 0.7000000000000001, 0.30000000000000004):  10%|▉         | 74/768 [14:47<2:20:40, 12.16s/it]"
          ]
        },
        {
          "name": "stdout",
          "output_type": "stream",
          "text": [
            "Weights: (0.1, 0.2, 0.30000000000000004, 0.7000000000000001, 0.2), F1 Score = 0.6898681102116552\n"
          ]
        },
        {
          "name": "stderr",
          "output_type": "stream",
          "text": [
            "Refining Weights: (0.1, 0.2, 0.30000000000000004, 0.7000000000000001, 0.4):  10%|▉         | 75/768 [14:58<2:18:14, 11.97s/it]                "
          ]
        },
        {
          "name": "stdout",
          "output_type": "stream",
          "text": [
            "Weights: (0.1, 0.2, 0.30000000000000004, 0.7000000000000001, 0.30000000000000004), F1 Score = 0.6819723448404115\n"
          ]
        },
        {
          "name": "stderr",
          "output_type": "stream",
          "text": [
            "Refining Weights: (0.1, 0.2, 0.30000000000000004, 0.8, 0.1):  10%|▉         | 76/768 [15:10<2:17:09, 11.89s/it]               "
          ]
        },
        {
          "name": "stdout",
          "output_type": "stream",
          "text": [
            "Weights: (0.1, 0.2, 0.30000000000000004, 0.7000000000000001, 0.4), F1 Score = 0.6771668444266159\n"
          ]
        },
        {
          "name": "stderr",
          "output_type": "stream",
          "text": [
            "Refining Weights: (0.1, 0.2, 0.30000000000000004, 0.8, 0.2):  10%|█         | 77/768 [15:22<2:17:45, 11.96s/it]"
          ]
        },
        {
          "name": "stdout",
          "output_type": "stream",
          "text": [
            "Weights: (0.1, 0.2, 0.30000000000000004, 0.8, 0.1), F1 Score = 0.6999040509740496\n"
          ]
        },
        {
          "name": "stderr",
          "output_type": "stream",
          "text": [
            "Refining Weights: (0.1, 0.2, 0.30000000000000004, 0.8, 0.30000000000000004):  10%|█         | 78/768 [15:34<2:18:35, 12.05s/it]"
          ]
        },
        {
          "name": "stdout",
          "output_type": "stream",
          "text": [
            "Weights: (0.1, 0.2, 0.30000000000000004, 0.8, 0.2), F1 Score = 0.697792331725247\n"
          ]
        },
        {
          "name": "stderr",
          "output_type": "stream",
          "text": [
            "Refining Weights: (0.1, 0.2, 0.30000000000000004, 0.8, 0.4):  10%|█         | 79/768 [15:46<2:18:19, 12.05s/it]                "
          ]
        },
        {
          "name": "stdout",
          "output_type": "stream",
          "text": [
            "Weights: (0.1, 0.2, 0.30000000000000004, 0.8, 0.30000000000000004), F1 Score = 0.6936745126290514\n"
          ]
        },
        {
          "name": "stderr",
          "output_type": "stream",
          "text": [
            "Refining Weights: (0.1, 0.2, 0.30000000000000004, 0.9, 0.1):  10%|█         | 80/768 [15:59<2:18:58, 12.12s/it]"
          ]
        },
        {
          "name": "stdout",
          "output_type": "stream",
          "text": [
            "Weights: (0.1, 0.2, 0.30000000000000004, 0.8, 0.4), F1 Score = 0.6876048868532019\n"
          ]
        },
        {
          "name": "stderr",
          "output_type": "stream",
          "text": [
            "Refining Weights: (0.1, 0.2, 0.30000000000000004, 0.9, 0.2):  11%|█         | 81/768 [16:11<2:18:40, 12.11s/it]"
          ]
        },
        {
          "name": "stdout",
          "output_type": "stream",
          "text": [
            "Weights: (0.1, 0.2, 0.30000000000000004, 0.9, 0.1), F1 Score = 0.7032029661453287\n"
          ]
        },
        {
          "name": "stderr",
          "output_type": "stream",
          "text": [
            "Refining Weights: (0.1, 0.2, 0.30000000000000004, 0.9, 0.30000000000000004):  11%|█         | 82/768 [16:22<2:16:42, 11.96s/it]"
          ]
        },
        {
          "name": "stdout",
          "output_type": "stream",
          "text": [
            "Weights: (0.1, 0.2, 0.30000000000000004, 0.9, 0.2), F1 Score = 0.7001486627094802\n"
          ]
        },
        {
          "name": "stderr",
          "output_type": "stream",
          "text": [
            "Refining Weights: (0.1, 0.2, 0.30000000000000004, 0.9, 0.4):  11%|█         | 83/768 [16:34<2:14:54, 11.82s/it]                "
          ]
        },
        {
          "name": "stdout",
          "output_type": "stream",
          "text": [
            "Weights: (0.1, 0.2, 0.30000000000000004, 0.9, 0.30000000000000004), F1 Score = 0.6989342527246536\n"
          ]
        },
        {
          "name": "stderr",
          "output_type": "stream",
          "text": [
            "Refining Weights: (0.1, 0.2, 0.4, 0.7000000000000001, 0.1):  11%|█         | 84/768 [16:46<2:15:17, 11.87s/it] "
          ]
        },
        {
          "name": "stdout",
          "output_type": "stream",
          "text": [
            "Weights: (0.1, 0.2, 0.30000000000000004, 0.9, 0.4), F1 Score = 0.6966354231800687\n"
          ]
        },
        {
          "name": "stderr",
          "output_type": "stream",
          "text": [
            "Refining Weights: (0.1, 0.2, 0.4, 0.7000000000000001, 0.2):  11%|█         | 85/768 [16:58<2:16:29, 11.99s/it]"
          ]
        },
        {
          "name": "stdout",
          "output_type": "stream",
          "text": [
            "Weights: (0.1, 0.2, 0.4, 0.7000000000000001, 0.1), F1 Score = 0.6792557419644575\n"
          ]
        },
        {
          "name": "stderr",
          "output_type": "stream",
          "text": [
            "Refining Weights: (0.1, 0.2, 0.4, 0.7000000000000001, 0.30000000000000004):  11%|█         | 86/768 [17:10<2:16:39, 12.02s/it]"
          ]
        },
        {
          "name": "stdout",
          "output_type": "stream",
          "text": [
            "Weights: (0.1, 0.2, 0.4, 0.7000000000000001, 0.2), F1 Score = 0.6767464234754482\n"
          ]
        },
        {
          "name": "stderr",
          "output_type": "stream",
          "text": [
            "Refining Weights: (0.1, 0.2, 0.4, 0.7000000000000001, 0.4):  11%|█▏        | 87/768 [17:22<2:16:52, 12.06s/it]                "
          ]
        },
        {
          "name": "stdout",
          "output_type": "stream",
          "text": [
            "Weights: (0.1, 0.2, 0.4, 0.7000000000000001, 0.30000000000000004), F1 Score = 0.6758270171350774\n"
          ]
        },
        {
          "name": "stderr",
          "output_type": "stream",
          "text": [
            "Refining Weights: (0.1, 0.2, 0.4, 0.8, 0.1):  11%|█▏        | 88/768 [17:35<2:16:54, 12.08s/it]               "
          ]
        },
        {
          "name": "stdout",
          "output_type": "stream",
          "text": [
            "Weights: (0.1, 0.2, 0.4, 0.7000000000000001, 0.4), F1 Score = 0.674437837167701\n"
          ]
        },
        {
          "name": "stderr",
          "output_type": "stream",
          "text": [
            "Refining Weights: (0.1, 0.2, 0.4, 0.8, 0.2):  12%|█▏        | 89/768 [17:47<2:16:37, 12.07s/it]"
          ]
        },
        {
          "name": "stdout",
          "output_type": "stream",
          "text": [
            "Weights: (0.1, 0.2, 0.4, 0.8, 0.1), F1 Score = 0.6885024645910027\n"
          ]
        },
        {
          "name": "stderr",
          "output_type": "stream",
          "text": [
            "Refining Weights: (0.1, 0.2, 0.4, 0.8, 0.30000000000000004):  12%|█▏        | 90/768 [17:58<2:14:31, 11.90s/it]"
          ]
        },
        {
          "name": "stdout",
          "output_type": "stream",
          "text": [
            "Weights: (0.1, 0.2, 0.4, 0.8, 0.2), F1 Score = 0.6840681104186801\n"
          ]
        },
        {
          "name": "stderr",
          "output_type": "stream",
          "text": [
            "Refining Weights: (0.1, 0.2, 0.4, 0.8, 0.4):  12%|█▏        | 91/768 [18:10<2:14:46, 11.94s/it]                "
          ]
        },
        {
          "name": "stdout",
          "output_type": "stream",
          "text": [
            "Weights: (0.1, 0.2, 0.4, 0.8, 0.30000000000000004), F1 Score = 0.6776510644040599\n"
          ]
        },
        {
          "name": "stderr",
          "output_type": "stream",
          "text": [
            "Refining Weights: (0.1, 0.2, 0.4, 0.9, 0.1):  12%|█▏        | 92/768 [18:22<2:15:08, 11.99s/it]"
          ]
        },
        {
          "name": "stdout",
          "output_type": "stream",
          "text": [
            "Weights: (0.1, 0.2, 0.4, 0.8, 0.4), F1 Score = 0.676986111401838\n"
          ]
        },
        {
          "name": "stderr",
          "output_type": "stream",
          "text": [
            "Refining Weights: (0.1, 0.2, 0.4, 0.9, 0.2):  12%|█▏        | 93/768 [18:34<2:14:53, 11.99s/it]"
          ]
        },
        {
          "name": "stdout",
          "output_type": "stream",
          "text": [
            "Weights: (0.1, 0.2, 0.4, 0.9, 0.1), F1 Score = 0.6974780044065043\n"
          ]
        },
        {
          "name": "stderr",
          "output_type": "stream",
          "text": [
            "Refining Weights: (0.1, 0.2, 0.4, 0.9, 0.30000000000000004):  12%|█▏        | 94/768 [18:46<2:15:11, 12.03s/it]"
          ]
        },
        {
          "name": "stdout",
          "output_type": "stream",
          "text": [
            "Weights: (0.1, 0.2, 0.4, 0.9, 0.2), F1 Score = 0.6919249022417432\n"
          ]
        },
        {
          "name": "stderr",
          "output_type": "stream",
          "text": [
            "Refining Weights: (0.1, 0.2, 0.4, 0.9, 0.4):  12%|█▏        | 95/768 [18:59<2:15:43, 12.10s/it]                "
          ]
        },
        {
          "name": "stdout",
          "output_type": "stream",
          "text": [
            "Weights: (0.1, 0.2, 0.4, 0.9, 0.30000000000000004), F1 Score = 0.6876207776001679\n"
          ]
        },
        {
          "name": "stderr",
          "output_type": "stream",
          "text": [
            "Refining Weights: (0.1, 0.30000000000000004, 0.1, 0.7000000000000001, 0.1):  12%|█▎        | 96/768 [19:11<2:15:02, 12.06s/it]"
          ]
        },
        {
          "name": "stdout",
          "output_type": "stream",
          "text": [
            "Weights: (0.1, 0.2, 0.4, 0.9, 0.4), F1 Score = 0.6822532922180278\n"
          ]
        },
        {
          "name": "stderr",
          "output_type": "stream",
          "text": [
            "Refining Weights: (0.1, 0.30000000000000004, 0.1, 0.7000000000000001, 0.2):  13%|█▎        | 97/768 [19:22<2:12:25, 11.84s/it]"
          ]
        },
        {
          "name": "stdout",
          "output_type": "stream",
          "text": [
            "Weights: (0.1, 0.30000000000000004, 0.1, 0.7000000000000001, 0.1), F1 Score = 0.7047665666857402\n"
          ]
        },
        {
          "name": "stderr",
          "output_type": "stream",
          "text": [
            "Refining Weights: (0.1, 0.30000000000000004, 0.1, 0.7000000000000001, 0.30000000000000004):  13%|█▎        | 98/768 [19:34<2:13:00, 11.91s/it]"
          ]
        },
        {
          "name": "stdout",
          "output_type": "stream",
          "text": [
            "Weights: (0.1, 0.30000000000000004, 0.1, 0.7000000000000001, 0.2), F1 Score = 0.7016171372009476\n"
          ]
        },
        {
          "name": "stderr",
          "output_type": "stream",
          "text": [
            "Refining Weights: (0.1, 0.30000000000000004, 0.1, 0.7000000000000001, 0.4):  13%|█▎        | 99/768 [19:46<2:13:46, 12.00s/it]                "
          ]
        },
        {
          "name": "stdout",
          "output_type": "stream",
          "text": [
            "Weights: (0.1, 0.30000000000000004, 0.1, 0.7000000000000001, 0.30000000000000004), F1 Score = 0.7002857162030368\n"
          ]
        },
        {
          "name": "stderr",
          "output_type": "stream",
          "text": [
            "Refining Weights: (0.1, 0.30000000000000004, 0.1, 0.8, 0.1):  13%|█▎        | 100/768 [19:58<2:14:22, 12.07s/it]               "
          ]
        },
        {
          "name": "stdout",
          "output_type": "stream",
          "text": [
            "Weights: (0.1, 0.30000000000000004, 0.1, 0.7000000000000001, 0.4), F1 Score = 0.6955746803289751\n"
          ]
        },
        {
          "name": "stderr",
          "output_type": "stream",
          "text": [
            "Refining Weights: (0.1, 0.30000000000000004, 0.1, 0.8, 0.2):  13%|█▎        | 101/768 [20:11<2:14:54, 12.14s/it]"
          ]
        },
        {
          "name": "stdout",
          "output_type": "stream",
          "text": [
            "Weights: (0.1, 0.30000000000000004, 0.1, 0.8, 0.1), F1 Score = 0.7065566550989135\n"
          ]
        },
        {
          "name": "stderr",
          "output_type": "stream",
          "text": [
            "Refining Weights: (0.1, 0.30000000000000004, 0.1, 0.8, 0.30000000000000004):  13%|█▎        | 102/768 [20:23<2:14:34, 12.12s/it]"
          ]
        },
        {
          "name": "stdout",
          "output_type": "stream",
          "text": [
            "Weights: (0.1, 0.30000000000000004, 0.1, 0.8, 0.2), F1 Score = 0.7079287927654463\n"
          ]
        },
        {
          "name": "stderr",
          "output_type": "stream",
          "text": [
            "Refining Weights: (0.1, 0.30000000000000004, 0.1, 0.8, 0.4):  13%|█▎        | 103/768 [20:35<2:14:13, 12.11s/it]                "
          ]
        },
        {
          "name": "stdout",
          "output_type": "stream",
          "text": [
            "Weights: (0.1, 0.30000000000000004, 0.1, 0.8, 0.30000000000000004), F1 Score = 0.7033703259827421\n"
          ]
        },
        {
          "name": "stderr",
          "output_type": "stream",
          "text": [
            "Refining Weights: (0.1, 0.30000000000000004, 0.1, 0.9, 0.1):  14%|█▎        | 104/768 [20:46<2:11:22, 11.87s/it]"
          ]
        },
        {
          "name": "stdout",
          "output_type": "stream",
          "text": [
            "Weights: (0.1, 0.30000000000000004, 0.1, 0.8, 0.4), F1 Score = 0.6994560247471668\n"
          ]
        },
        {
          "name": "stderr",
          "output_type": "stream",
          "text": [
            "Refining Weights: (0.1, 0.30000000000000004, 0.1, 0.9, 0.2):  14%|█▎        | 105/768 [20:58<2:10:41, 11.83s/it]"
          ]
        },
        {
          "name": "stdout",
          "output_type": "stream",
          "text": [
            "Weights: (0.1, 0.30000000000000004, 0.1, 0.9, 0.1), F1 Score = 0.7057293823916762\n"
          ]
        },
        {
          "name": "stderr",
          "output_type": "stream",
          "text": [
            "Refining Weights: (0.1, 0.30000000000000004, 0.1, 0.9, 0.30000000000000004):  14%|█▍        | 106/768 [21:10<2:11:54, 11.96s/it]"
          ]
        },
        {
          "name": "stdout",
          "output_type": "stream",
          "text": [
            "Weights: (0.1, 0.30000000000000004, 0.1, 0.9, 0.2), F1 Score = 0.7063183132744314\n"
          ]
        },
        {
          "name": "stderr",
          "output_type": "stream",
          "text": [
            "Refining Weights: (0.1, 0.30000000000000004, 0.1, 0.9, 0.4):  14%|█▍        | 107/768 [21:22<2:12:22, 12.02s/it]                "
          ]
        },
        {
          "name": "stdout",
          "output_type": "stream",
          "text": [
            "Weights: (0.1, 0.30000000000000004, 0.1, 0.9, 0.30000000000000004), F1 Score = 0.7061811105750365\n"
          ]
        },
        {
          "name": "stderr",
          "output_type": "stream",
          "text": [
            "Refining Weights: (0.1, 0.30000000000000004, 0.2, 0.7000000000000001, 0.1):  14%|█▍        | 108/768 [21:35<2:12:42, 12.06s/it]"
          ]
        },
        {
          "name": "stdout",
          "output_type": "stream",
          "text": [
            "Weights: (0.1, 0.30000000000000004, 0.1, 0.9, 0.4), F1 Score = 0.7057094012326742\n"
          ]
        },
        {
          "name": "stderr",
          "output_type": "stream",
          "text": [
            "Refining Weights: (0.1, 0.30000000000000004, 0.2, 0.7000000000000001, 0.2):  14%|█▍        | 109/768 [21:47<2:12:55, 12.10s/it]"
          ]
        },
        {
          "name": "stdout",
          "output_type": "stream",
          "text": [
            "Weights: (0.1, 0.30000000000000004, 0.2, 0.7000000000000001, 0.1), F1 Score = 0.7012937545651812\n"
          ]
        },
        {
          "name": "stderr",
          "output_type": "stream",
          "text": [
            "Refining Weights: (0.1, 0.30000000000000004, 0.2, 0.7000000000000001, 0.30000000000000004):  14%|█▍        | 110/768 [21:59<2:12:21, 12.07s/it]"
          ]
        },
        {
          "name": "stdout",
          "output_type": "stream",
          "text": [
            "Weights: (0.1, 0.30000000000000004, 0.2, 0.7000000000000001, 0.2), F1 Score = 0.6979844000785537\n"
          ]
        },
        {
          "name": "stderr",
          "output_type": "stream",
          "text": [
            "Refining Weights: (0.1, 0.30000000000000004, 0.2, 0.7000000000000001, 0.4):  14%|█▍        | 111/768 [22:10<2:09:56, 11.87s/it]                "
          ]
        },
        {
          "name": "stdout",
          "output_type": "stream",
          "text": [
            "Weights: (0.1, 0.30000000000000004, 0.2, 0.7000000000000001, 0.30000000000000004), F1 Score = 0.6917811231393776\n"
          ]
        },
        {
          "name": "stderr",
          "output_type": "stream",
          "text": [
            "Refining Weights: (0.1, 0.30000000000000004, 0.2, 0.8, 0.1):  15%|█▍        | 112/768 [22:22<2:09:00, 11.80s/it]               "
          ]
        },
        {
          "name": "stdout",
          "output_type": "stream",
          "text": [
            "Weights: (0.1, 0.30000000000000004, 0.2, 0.7000000000000001, 0.4), F1 Score = 0.6865975936486087\n"
          ]
        },
        {
          "name": "stderr",
          "output_type": "stream",
          "text": [
            "Refining Weights: (0.1, 0.30000000000000004, 0.2, 0.8, 0.2):  15%|█▍        | 113/768 [22:34<2:10:09, 11.92s/it]"
          ]
        },
        {
          "name": "stdout",
          "output_type": "stream",
          "text": [
            "Weights: (0.1, 0.30000000000000004, 0.2, 0.8, 0.1), F1 Score = 0.7031633135004626\n"
          ]
        },
        {
          "name": "stderr",
          "output_type": "stream",
          "text": [
            "Refining Weights: (0.1, 0.30000000000000004, 0.2, 0.8, 0.30000000000000004):  15%|█▍        | 114/768 [22:46<2:10:42, 11.99s/it]"
          ]
        },
        {
          "name": "stdout",
          "output_type": "stream",
          "text": [
            "Weights: (0.1, 0.30000000000000004, 0.2, 0.8, 0.2), F1 Score = 0.7031679202092872\n"
          ]
        },
        {
          "name": "stderr",
          "output_type": "stream",
          "text": [
            "Refining Weights: (0.1, 0.30000000000000004, 0.2, 0.8, 0.4):  15%|█▍        | 115/768 [22:58<2:11:11, 12.05s/it]                "
          ]
        },
        {
          "name": "stdout",
          "output_type": "stream",
          "text": [
            "Weights: (0.1, 0.30000000000000004, 0.2, 0.8, 0.30000000000000004), F1 Score = 0.7010250002815981\n"
          ]
        },
        {
          "name": "stderr",
          "output_type": "stream",
          "text": [
            "Refining Weights: (0.1, 0.30000000000000004, 0.2, 0.9, 0.1):  15%|█▌        | 116/768 [23:11<2:11:50, 12.13s/it]"
          ]
        },
        {
          "name": "stdout",
          "output_type": "stream",
          "text": [
            "Weights: (0.1, 0.30000000000000004, 0.2, 0.8, 0.4), F1 Score = 0.6967928395889186\n"
          ]
        },
        {
          "name": "stderr",
          "output_type": "stream",
          "text": [
            "Refining Weights: (0.1, 0.30000000000000004, 0.2, 0.9, 0.2):  15%|█▌        | 117/768 [23:23<2:11:16, 12.10s/it]"
          ]
        },
        {
          "name": "stdout",
          "output_type": "stream",
          "text": [
            "Weights: (0.1, 0.30000000000000004, 0.2, 0.9, 0.1), F1 Score = 0.7070013174687696\n"
          ]
        },
        {
          "name": "stderr",
          "output_type": "stream",
          "text": [
            "Refining Weights: (0.1, 0.30000000000000004, 0.2, 0.9, 0.30000000000000004):  15%|█▌        | 118/768 [23:34<2:08:48, 11.89s/it]"
          ]
        },
        {
          "name": "stdout",
          "output_type": "stream",
          "text": [
            "Weights: (0.1, 0.30000000000000004, 0.2, 0.9, 0.2), F1 Score = 0.7034246643825284\n"
          ]
        },
        {
          "name": "stderr",
          "output_type": "stream",
          "text": [
            "Refining Weights: (0.1, 0.30000000000000004, 0.2, 0.9, 0.4):  15%|█▌        | 119/768 [23:46<2:07:33, 11.79s/it]                "
          ]
        },
        {
          "name": "stdout",
          "output_type": "stream",
          "text": [
            "Weights: (0.1, 0.30000000000000004, 0.2, 0.9, 0.30000000000000004), F1 Score = 0.7025806084874558\n"
          ]
        },
        {
          "name": "stderr",
          "output_type": "stream",
          "text": [
            "Refining Weights: (0.1, 0.30000000000000004, 0.30000000000000004, 0.7000000000000001, 0.1):  16%|█▌        | 120/768 [23:58<2:08:32, 11.90s/it]"
          ]
        },
        {
          "name": "stdout",
          "output_type": "stream",
          "text": [
            "Weights: (0.1, 0.30000000000000004, 0.2, 0.9, 0.4), F1 Score = 0.7029053353159148\n"
          ]
        },
        {
          "name": "stderr",
          "output_type": "stream",
          "text": [
            "Refining Weights: (0.1, 0.30000000000000004, 0.30000000000000004, 0.7000000000000001, 0.2):  16%|█▌        | 121/768 [24:10<2:09:24, 12.00s/it]"
          ]
        },
        {
          "name": "stdout",
          "output_type": "stream",
          "text": [
            "Weights: (0.1, 0.30000000000000004, 0.30000000000000004, 0.7000000000000001, 0.1), F1 Score = 0.6906610426490062\n"
          ]
        },
        {
          "name": "stderr",
          "output_type": "stream",
          "text": [
            "Refining Weights: (0.1, 0.30000000000000004, 0.30000000000000004, 0.7000000000000001, 0.30000000000000004):  16%|█▌        | 122/768 [24:22<2:10:40, 12.14s/it]"
          ]
        },
        {
          "name": "stdout",
          "output_type": "stream",
          "text": [
            "Weights: (0.1, 0.30000000000000004, 0.30000000000000004, 0.7000000000000001, 0.2), F1 Score = 0.682573641004247\n"
          ]
        },
        {
          "name": "stderr",
          "output_type": "stream",
          "text": [
            "Refining Weights: (0.1, 0.30000000000000004, 0.30000000000000004, 0.7000000000000001, 0.4):  16%|█▌        | 123/768 [24:35<2:10:31, 12.14s/it]                "
          ]
        },
        {
          "name": "stdout",
          "output_type": "stream",
          "text": [
            "Weights: (0.1, 0.30000000000000004, 0.30000000000000004, 0.7000000000000001, 0.30000000000000004), F1 Score = 0.6806010566329489\n"
          ]
        },
        {
          "name": "stderr",
          "output_type": "stream",
          "text": [
            "Refining Weights: (0.1, 0.30000000000000004, 0.30000000000000004, 0.8, 0.1):  16%|█▌        | 124/768 [24:47<2:10:12, 12.13s/it]               "
          ]
        },
        {
          "name": "stdout",
          "output_type": "stream",
          "text": [
            "Weights: (0.1, 0.30000000000000004, 0.30000000000000004, 0.7000000000000001, 0.4), F1 Score = 0.6755384982512791\n"
          ]
        },
        {
          "name": "stderr",
          "output_type": "stream",
          "text": [
            "Refining Weights: (0.1, 0.30000000000000004, 0.30000000000000004, 0.8, 0.2):  16%|█▋        | 125/768 [24:58<2:07:25, 11.89s/it]"
          ]
        },
        {
          "name": "stdout",
          "output_type": "stream",
          "text": [
            "Weights: (0.1, 0.30000000000000004, 0.30000000000000004, 0.8, 0.1), F1 Score = 0.6969203752260625\n"
          ]
        },
        {
          "name": "stderr",
          "output_type": "stream",
          "text": [
            "Refining Weights: (0.1, 0.30000000000000004, 0.30000000000000004, 0.8, 0.30000000000000004):  16%|█▋        | 126/768 [25:10<2:06:29, 11.82s/it]"
          ]
        },
        {
          "name": "stdout",
          "output_type": "stream",
          "text": [
            "Weights: (0.1, 0.30000000000000004, 0.30000000000000004, 0.8, 0.2), F1 Score = 0.6929629107186518\n"
          ]
        },
        {
          "name": "stderr",
          "output_type": "stream",
          "text": [
            "Refining Weights: (0.1, 0.30000000000000004, 0.30000000000000004, 0.8, 0.4):  17%|█▋        | 127/768 [25:22<2:06:47, 11.87s/it]                "
          ]
        },
        {
          "name": "stdout",
          "output_type": "stream",
          "text": [
            "Weights: (0.1, 0.30000000000000004, 0.30000000000000004, 0.8, 0.30000000000000004), F1 Score = 0.6877350980567212\n"
          ]
        },
        {
          "name": "stderr",
          "output_type": "stream",
          "text": [
            "Refining Weights: (0.1, 0.30000000000000004, 0.30000000000000004, 0.9, 0.1):  17%|█▋        | 128/768 [25:34<2:06:59, 11.91s/it]"
          ]
        },
        {
          "name": "stdout",
          "output_type": "stream",
          "text": [
            "Weights: (0.1, 0.30000000000000004, 0.30000000000000004, 0.8, 0.4), F1 Score = 0.6821415986024353\n"
          ]
        },
        {
          "name": "stderr",
          "output_type": "stream",
          "text": [
            "Refining Weights: (0.1, 0.30000000000000004, 0.30000000000000004, 0.9, 0.2):  17%|█▋        | 129/768 [25:46<2:07:31, 11.97s/it]"
          ]
        },
        {
          "name": "stdout",
          "output_type": "stream",
          "text": [
            "Weights: (0.1, 0.30000000000000004, 0.30000000000000004, 0.9, 0.1), F1 Score = 0.7021418032982729\n"
          ]
        },
        {
          "name": "stderr",
          "output_type": "stream",
          "text": [
            "Refining Weights: (0.1, 0.30000000000000004, 0.30000000000000004, 0.9, 0.30000000000000004):  17%|█▋        | 130/768 [25:58<2:07:50, 12.02s/it]"
          ]
        },
        {
          "name": "stdout",
          "output_type": "stream",
          "text": [
            "Weights: (0.1, 0.30000000000000004, 0.30000000000000004, 0.9, 0.2), F1 Score = 0.7002607709673687\n"
          ]
        },
        {
          "name": "stderr",
          "output_type": "stream",
          "text": [
            "Refining Weights: (0.1, 0.30000000000000004, 0.30000000000000004, 0.9, 0.4):  17%|█▋        | 131/768 [26:10<2:08:09, 12.07s/it]                "
          ]
        },
        {
          "name": "stdout",
          "output_type": "stream",
          "text": [
            "Weights: (0.1, 0.30000000000000004, 0.30000000000000004, 0.9, 0.30000000000000004), F1 Score = 0.6958735494464043\n"
          ]
        },
        {
          "name": "stderr",
          "output_type": "stream",
          "text": [
            "Refining Weights: (0.1, 0.30000000000000004, 0.4, 0.7000000000000001, 0.1):  17%|█▋        | 132/768 [26:22<2:05:50, 11.87s/it] "
          ]
        },
        {
          "name": "stdout",
          "output_type": "stream",
          "text": [
            "Weights: (0.1, 0.30000000000000004, 0.30000000000000004, 0.9, 0.4), F1 Score = 0.6923238187043893\n"
          ]
        },
        {
          "name": "stderr",
          "output_type": "stream",
          "text": [
            "Refining Weights: (0.1, 0.30000000000000004, 0.4, 0.7000000000000001, 0.2):  17%|█▋        | 133/768 [26:33<2:04:20, 11.75s/it]"
          ]
        },
        {
          "name": "stdout",
          "output_type": "stream",
          "text": [
            "Weights: (0.1, 0.30000000000000004, 0.4, 0.7000000000000001, 0.1), F1 Score = 0.6788022423182448\n"
          ]
        },
        {
          "name": "stderr",
          "output_type": "stream",
          "text": [
            "Refining Weights: (0.1, 0.30000000000000004, 0.4, 0.7000000000000001, 0.30000000000000004):  17%|█▋        | 134/768 [26:45<2:04:38, 11.80s/it]"
          ]
        },
        {
          "name": "stdout",
          "output_type": "stream",
          "text": [
            "Weights: (0.1, 0.30000000000000004, 0.4, 0.7000000000000001, 0.2), F1 Score = 0.6772090843848636\n"
          ]
        },
        {
          "name": "stderr",
          "output_type": "stream",
          "text": [
            "Refining Weights: (0.1, 0.30000000000000004, 0.4, 0.7000000000000001, 0.4):  18%|█▊        | 135/768 [26:57<2:05:22, 11.88s/it]                "
          ]
        },
        {
          "name": "stdout",
          "output_type": "stream",
          "text": [
            "Weights: (0.1, 0.30000000000000004, 0.4, 0.7000000000000001, 0.30000000000000004), F1 Score = 0.6755669279318508\n"
          ]
        },
        {
          "name": "stderr",
          "output_type": "stream",
          "text": [
            "Refining Weights: (0.1, 0.30000000000000004, 0.4, 0.8, 0.1):  18%|█▊        | 136/768 [27:09<2:05:42, 11.93s/it]               "
          ]
        },
        {
          "name": "stdout",
          "output_type": "stream",
          "text": [
            "Weights: (0.1, 0.30000000000000004, 0.4, 0.7000000000000001, 0.4), F1 Score = 0.6744084769334219\n"
          ]
        },
        {
          "name": "stderr",
          "output_type": "stream",
          "text": [
            "Refining Weights: (0.1, 0.30000000000000004, 0.4, 0.8, 0.2):  18%|█▊        | 137/768 [27:21<2:05:56, 11.98s/it]"
          ]
        },
        {
          "name": "stdout",
          "output_type": "stream",
          "text": [
            "Weights: (0.1, 0.30000000000000004, 0.4, 0.8, 0.1), F1 Score = 0.6846609361107767\n"
          ]
        },
        {
          "name": "stderr",
          "output_type": "stream",
          "text": [
            "Refining Weights: (0.1, 0.30000000000000004, 0.4, 0.8, 0.30000000000000004):  18%|█▊        | 138/768 [27:33<2:05:48, 11.98s/it]"
          ]
        },
        {
          "name": "stdout",
          "output_type": "stream",
          "text": [
            "Weights: (0.1, 0.30000000000000004, 0.4, 0.8, 0.2), F1 Score = 0.6810707275330077\n"
          ]
        },
        {
          "name": "stderr",
          "output_type": "stream",
          "text": [
            "Refining Weights: (0.1, 0.30000000000000004, 0.4, 0.8, 0.4):  18%|█▊        | 139/768 [27:45<2:04:11, 11.85s/it]                "
          ]
        },
        {
          "name": "stdout",
          "output_type": "stream",
          "text": [
            "Weights: (0.1, 0.30000000000000004, 0.4, 0.8, 0.30000000000000004), F1 Score = 0.6771938793247303\n"
          ]
        },
        {
          "name": "stderr",
          "output_type": "stream",
          "text": [
            "Refining Weights: (0.1, 0.30000000000000004, 0.4, 0.9, 0.1):  18%|█▊        | 140/768 [27:56<2:02:42, 11.72s/it]"
          ]
        },
        {
          "name": "stdout",
          "output_type": "stream",
          "text": [
            "Weights: (0.1, 0.30000000000000004, 0.4, 0.8, 0.4), F1 Score = 0.6750901069077715\n"
          ]
        },
        {
          "name": "stderr",
          "output_type": "stream",
          "text": [
            "Refining Weights: (0.1, 0.30000000000000004, 0.4, 0.9, 0.2):  18%|█▊        | 141/768 [28:08<2:03:48, 11.85s/it]"
          ]
        },
        {
          "name": "stdout",
          "output_type": "stream",
          "text": [
            "Weights: (0.1, 0.30000000000000004, 0.4, 0.9, 0.1), F1 Score = 0.6936335188267599\n"
          ]
        },
        {
          "name": "stderr",
          "output_type": "stream",
          "text": [
            "Refining Weights: (0.1, 0.30000000000000004, 0.4, 0.9, 0.30000000000000004):  18%|█▊        | 142/768 [28:20<2:04:40, 11.95s/it]"
          ]
        },
        {
          "name": "stdout",
          "output_type": "stream",
          "text": [
            "Weights: (0.1, 0.30000000000000004, 0.4, 0.9, 0.2), F1 Score = 0.6884699668890508\n"
          ]
        },
        {
          "name": "stderr",
          "output_type": "stream",
          "text": [
            "Refining Weights: (0.1, 0.30000000000000004, 0.4, 0.9, 0.4):  19%|█▊        | 143/768 [28:32<2:04:58, 12.00s/it]                "
          ]
        },
        {
          "name": "stdout",
          "output_type": "stream",
          "text": [
            "Weights: (0.1, 0.30000000000000004, 0.4, 0.9, 0.30000000000000004), F1 Score = 0.6833215045976361\n"
          ]
        },
        {
          "name": "stderr",
          "output_type": "stream",
          "text": [
            "Refining Weights: (0.1, 0.4, 0.1, 0.7000000000000001, 0.1):  19%|█▉        | 144/768 [28:44<2:04:43, 11.99s/it] "
          ]
        },
        {
          "name": "stdout",
          "output_type": "stream",
          "text": [
            "Weights: (0.1, 0.30000000000000004, 0.4, 0.9, 0.4), F1 Score = 0.6799282247992687\n"
          ]
        },
        {
          "name": "stderr",
          "output_type": "stream",
          "text": [
            "Refining Weights: (0.1, 0.4, 0.1, 0.7000000000000001, 0.2):  19%|█▉        | 145/768 [28:56<2:04:26, 11.98s/it]"
          ]
        },
        {
          "name": "stdout",
          "output_type": "stream",
          "text": [
            "Weights: (0.1, 0.4, 0.1, 0.7000000000000001, 0.1), F1 Score = 0.701230798787966\n"
          ]
        },
        {
          "name": "stderr",
          "output_type": "stream",
          "text": [
            "Refining Weights: (0.1, 0.4, 0.1, 0.7000000000000001, 0.30000000000000004):  19%|█▉        | 146/768 [29:08<2:02:30, 11.82s/it]"
          ]
        },
        {
          "name": "stdout",
          "output_type": "stream",
          "text": [
            "Weights: (0.1, 0.4, 0.1, 0.7000000000000001, 0.2), F1 Score = 0.6971153454570355\n"
          ]
        },
        {
          "name": "stderr",
          "output_type": "stream",
          "text": [
            "Refining Weights: (0.1, 0.4, 0.1, 0.7000000000000001, 0.4):  19%|█▉        | 147/768 [29:19<2:01:13, 11.71s/it]                "
          ]
        },
        {
          "name": "stdout",
          "output_type": "stream",
          "text": [
            "Weights: (0.1, 0.4, 0.1, 0.7000000000000001, 0.30000000000000004), F1 Score = 0.6935474381687848\n"
          ]
        },
        {
          "name": "stderr",
          "output_type": "stream",
          "text": [
            "Refining Weights: (0.1, 0.4, 0.1, 0.8, 0.1):  19%|█▉        | 148/768 [29:31<2:01:52, 11.79s/it]               "
          ]
        },
        {
          "name": "stdout",
          "output_type": "stream",
          "text": [
            "Weights: (0.1, 0.4, 0.1, 0.7000000000000001, 0.4), F1 Score = 0.6828347054358617\n"
          ]
        },
        {
          "name": "stderr",
          "output_type": "stream",
          "text": [
            "Refining Weights: (0.1, 0.4, 0.1, 0.8, 0.2):  19%|█▉        | 149/768 [29:43<2:02:30, 11.87s/it]"
          ]
        },
        {
          "name": "stdout",
          "output_type": "stream",
          "text": [
            "Weights: (0.1, 0.4, 0.1, 0.8, 0.1), F1 Score = 0.702511449422093\n"
          ]
        },
        {
          "name": "stderr",
          "output_type": "stream",
          "text": [
            "Refining Weights: (0.1, 0.4, 0.1, 0.8, 0.30000000000000004):  20%|█▉        | 150/768 [29:55<2:02:32, 11.90s/it]"
          ]
        },
        {
          "name": "stdout",
          "output_type": "stream",
          "text": [
            "Weights: (0.1, 0.4, 0.1, 0.8, 0.2), F1 Score = 0.7009081118469783\n"
          ]
        },
        {
          "name": "stderr",
          "output_type": "stream",
          "text": [
            "Refining Weights: (0.1, 0.4, 0.1, 0.8, 0.4):  20%|█▉        | 151/768 [30:07<2:02:57, 11.96s/it]                "
          ]
        },
        {
          "name": "stdout",
          "output_type": "stream",
          "text": [
            "Weights: (0.1, 0.4, 0.1, 0.8, 0.30000000000000004), F1 Score = 0.6992225038446837\n"
          ]
        },
        {
          "name": "stderr",
          "output_type": "stream",
          "text": [
            "Refining Weights: (0.1, 0.4, 0.1, 0.9, 0.1):  20%|█▉        | 152/768 [30:19<2:02:45, 11.96s/it]"
          ]
        },
        {
          "name": "stdout",
          "output_type": "stream",
          "text": [
            "Weights: (0.1, 0.4, 0.1, 0.8, 0.4), F1 Score = 0.6948365502472078\n"
          ]
        },
        {
          "name": "stderr",
          "output_type": "stream",
          "text": [
            "Refining Weights: (0.1, 0.4, 0.1, 0.9, 0.2):  20%|█▉        | 153/768 [30:31<2:00:20, 11.74s/it]"
          ]
        },
        {
          "name": "stdout",
          "output_type": "stream",
          "text": [
            "Weights: (0.1, 0.4, 0.1, 0.9, 0.1), F1 Score = 0.7072413964599485\n"
          ]
        },
        {
          "name": "stderr",
          "output_type": "stream",
          "text": [
            "Refining Weights: (0.1, 0.4, 0.1, 0.9, 0.30000000000000004):  20%|██        | 154/768 [30:42<2:00:02, 11.73s/it]"
          ]
        },
        {
          "name": "stdout",
          "output_type": "stream",
          "text": [
            "Weights: (0.1, 0.4, 0.1, 0.9, 0.2), F1 Score = 0.7053878827227849\n"
          ]
        },
        {
          "name": "stderr",
          "output_type": "stream",
          "text": [
            "Refining Weights: (0.1, 0.4, 0.1, 0.9, 0.4):  20%|██        | 155/768 [30:54<2:00:50, 11.83s/it]                "
          ]
        },
        {
          "name": "stdout",
          "output_type": "stream",
          "text": [
            "Weights: (0.1, 0.4, 0.1, 0.9, 0.30000000000000004), F1 Score = 0.7033008088243569\n"
          ]
        },
        {
          "name": "stderr",
          "output_type": "stream",
          "text": [
            "Refining Weights: (0.1, 0.4, 0.2, 0.7000000000000001, 0.1):  20%|██        | 156/768 [31:06<2:01:22, 11.90s/it]"
          ]
        },
        {
          "name": "stdout",
          "output_type": "stream",
          "text": [
            "Weights: (0.1, 0.4, 0.1, 0.9, 0.4), F1 Score = 0.6978268677906495\n"
          ]
        },
        {
          "name": "stderr",
          "output_type": "stream",
          "text": [
            "Refining Weights: (0.1, 0.4, 0.2, 0.7000000000000001, 0.2):  20%|██        | 157/768 [31:19<2:01:57, 11.98s/it]"
          ]
        },
        {
          "name": "stdout",
          "output_type": "stream",
          "text": [
            "Weights: (0.1, 0.4, 0.2, 0.7000000000000001, 0.1), F1 Score = 0.697295803130581\n"
          ]
        },
        {
          "name": "stderr",
          "output_type": "stream",
          "text": [
            "Refining Weights: (0.1, 0.4, 0.2, 0.7000000000000001, 0.30000000000000004):  21%|██        | 158/768 [31:31<2:01:33, 11.96s/it]"
          ]
        },
        {
          "name": "stdout",
          "output_type": "stream",
          "text": [
            "Weights: (0.1, 0.4, 0.2, 0.7000000000000001, 0.2), F1 Score = 0.6901205325425509\n"
          ]
        },
        {
          "name": "stderr",
          "output_type": "stream",
          "text": [
            "Refining Weights: (0.1, 0.4, 0.2, 0.7000000000000001, 0.4):  21%|██        | 159/768 [31:42<2:00:27, 11.87s/it]                "
          ]
        },
        {
          "name": "stdout",
          "output_type": "stream",
          "text": [
            "Weights: (0.1, 0.4, 0.2, 0.7000000000000001, 0.30000000000000004), F1 Score = 0.6858076229662945\n"
          ]
        },
        {
          "name": "stderr",
          "output_type": "stream",
          "text": [
            "Refining Weights: (0.1, 0.4, 0.2, 0.8, 0.1):  21%|██        | 160/768 [31:53<1:58:17, 11.67s/it]               "
          ]
        },
        {
          "name": "stdout",
          "output_type": "stream",
          "text": [
            "Weights: (0.1, 0.4, 0.2, 0.7000000000000001, 0.4), F1 Score = 0.678121833338051\n"
          ]
        },
        {
          "name": "stderr",
          "output_type": "stream",
          "text": [
            "Refining Weights: (0.1, 0.4, 0.2, 0.8, 0.2):  21%|██        | 161/768 [32:05<1:58:44, 11.74s/it]"
          ]
        },
        {
          "name": "stdout",
          "output_type": "stream",
          "text": [
            "Weights: (0.1, 0.4, 0.2, 0.8, 0.1), F1 Score = 0.7029771184268031\n"
          ]
        },
        {
          "name": "stderr",
          "output_type": "stream",
          "text": [
            "Refining Weights: (0.1, 0.4, 0.2, 0.8, 0.30000000000000004):  21%|██        | 162/768 [32:17<1:59:40, 11.85s/it]"
          ]
        },
        {
          "name": "stdout",
          "output_type": "stream",
          "text": [
            "Weights: (0.1, 0.4, 0.2, 0.8, 0.2), F1 Score = 0.6987616698313667\n"
          ]
        },
        {
          "name": "stderr",
          "output_type": "stream",
          "text": [
            "Refining Weights: (0.1, 0.4, 0.2, 0.8, 0.4):  21%|██        | 163/768 [32:29<1:59:58, 11.90s/it]                "
          ]
        },
        {
          "name": "stdout",
          "output_type": "stream",
          "text": [
            "Weights: (0.1, 0.4, 0.2, 0.8, 0.30000000000000004), F1 Score = 0.6958931655909518\n"
          ]
        },
        {
          "name": "stderr",
          "output_type": "stream",
          "text": [
            "Refining Weights: (0.1, 0.4, 0.2, 0.9, 0.1):  21%|██▏       | 164/768 [32:41<1:59:57, 11.92s/it]"
          ]
        },
        {
          "name": "stdout",
          "output_type": "stream",
          "text": [
            "Weights: (0.1, 0.4, 0.2, 0.8, 0.4), F1 Score = 0.6895533548713746\n"
          ]
        },
        {
          "name": "stderr",
          "output_type": "stream",
          "text": [
            "Refining Weights: (0.1, 0.4, 0.2, 0.9, 0.2):  21%|██▏       | 165/768 [32:53<2:00:06, 11.95s/it]"
          ]
        },
        {
          "name": "stdout",
          "output_type": "stream",
          "text": [
            "Weights: (0.1, 0.4, 0.2, 0.9, 0.1), F1 Score = 0.7027998550911511\n"
          ]
        },
        {
          "name": "stderr",
          "output_type": "stream",
          "text": [
            "Refining Weights: (0.1, 0.4, 0.2, 0.9, 0.30000000000000004):  22%|██▏       | 166/768 [33:05<1:58:24, 11.80s/it]"
          ]
        },
        {
          "name": "stdout",
          "output_type": "stream",
          "text": [
            "Weights: (0.1, 0.4, 0.2, 0.9, 0.2), F1 Score = 0.7026733759611308\n"
          ]
        },
        {
          "name": "stderr",
          "output_type": "stream",
          "text": [
            "Refining Weights: (0.1, 0.4, 0.2, 0.9, 0.4):  22%|██▏       | 167/768 [33:16<1:56:49, 11.66s/it]                "
          ]
        },
        {
          "name": "stdout",
          "output_type": "stream",
          "text": [
            "Weights: (0.1, 0.4, 0.2, 0.9, 0.30000000000000004), F1 Score = 0.7006249047016826\n"
          ]
        },
        {
          "name": "stderr",
          "output_type": "stream",
          "text": [
            "Refining Weights: (0.1, 0.4, 0.30000000000000004, 0.7000000000000001, 0.1):  22%|██▏       | 168/768 [33:28<1:57:56, 11.79s/it]"
          ]
        },
        {
          "name": "stdout",
          "output_type": "stream",
          "text": [
            "Weights: (0.1, 0.4, 0.2, 0.9, 0.4), F1 Score = 0.6964773109776959\n"
          ]
        },
        {
          "name": "stderr",
          "output_type": "stream",
          "text": [
            "Refining Weights: (0.1, 0.4, 0.30000000000000004, 0.7000000000000001, 0.2):  22%|██▏       | 169/768 [33:40<1:58:38, 11.88s/it]"
          ]
        },
        {
          "name": "stdout",
          "output_type": "stream",
          "text": [
            "Weights: (0.1, 0.4, 0.30000000000000004, 0.7000000000000001, 0.1), F1 Score = 0.6841209069627676\n"
          ]
        },
        {
          "name": "stderr",
          "output_type": "stream",
          "text": [
            "Refining Weights: (0.1, 0.4, 0.30000000000000004, 0.7000000000000001, 0.30000000000000004):  22%|██▏       | 170/768 [33:52<1:59:02, 11.94s/it]"
          ]
        },
        {
          "name": "stdout",
          "output_type": "stream",
          "text": [
            "Weights: (0.1, 0.4, 0.30000000000000004, 0.7000000000000001, 0.2), F1 Score = 0.6807172207561419\n"
          ]
        },
        {
          "name": "stderr",
          "output_type": "stream",
          "text": [
            "Refining Weights: (0.1, 0.4, 0.30000000000000004, 0.7000000000000001, 0.4):  22%|██▏       | 171/768 [34:04<1:58:37, 11.92s/it]                "
          ]
        },
        {
          "name": "stdout",
          "output_type": "stream",
          "text": [
            "Weights: (0.1, 0.4, 0.30000000000000004, 0.7000000000000001, 0.30000000000000004), F1 Score = 0.6761233713305822\n"
          ]
        },
        {
          "name": "stderr",
          "output_type": "stream",
          "text": [
            "Refining Weights: (0.1, 0.4, 0.30000000000000004, 0.8, 0.1):  22%|██▏       | 172/768 [34:17<2:00:20, 12.11s/it]               "
          ]
        },
        {
          "name": "stdout",
          "output_type": "stream",
          "text": [
            "Weights: (0.1, 0.4, 0.30000000000000004, 0.7000000000000001, 0.4), F1 Score = 0.6711677640223482\n"
          ]
        },
        {
          "name": "stderr",
          "output_type": "stream",
          "text": [
            "Refining Weights: (0.1, 0.4, 0.30000000000000004, 0.8, 0.2):  23%|██▎       | 173/768 [34:28<1:58:15, 11.92s/it]"
          ]
        },
        {
          "name": "stdout",
          "output_type": "stream",
          "text": [
            "Weights: (0.1, 0.4, 0.30000000000000004, 0.8, 0.1), F1 Score = 0.6933836979590151\n"
          ]
        },
        {
          "name": "stderr",
          "output_type": "stream",
          "text": [
            "Refining Weights: (0.1, 0.4, 0.30000000000000004, 0.8, 0.30000000000000004):  23%|██▎       | 174/768 [34:40<1:56:09, 11.73s/it]"
          ]
        },
        {
          "name": "stdout",
          "output_type": "stream",
          "text": [
            "Weights: (0.1, 0.4, 0.30000000000000004, 0.8, 0.2), F1 Score = 0.6867743385248982\n"
          ]
        },
        {
          "name": "stderr",
          "output_type": "stream",
          "text": [
            "Refining Weights: (0.1, 0.4, 0.30000000000000004, 0.8, 0.4):  23%|██▎       | 175/768 [34:52<1:56:32, 11.79s/it]                "
          ]
        },
        {
          "name": "stdout",
          "output_type": "stream",
          "text": [
            "Weights: (0.1, 0.4, 0.30000000000000004, 0.8, 0.30000000000000004), F1 Score = 0.6829548115736602\n"
          ]
        },
        {
          "name": "stderr",
          "output_type": "stream",
          "text": [
            "Refining Weights: (0.1, 0.4, 0.30000000000000004, 0.9, 0.1):  23%|██▎       | 176/768 [35:04<1:56:46, 11.84s/it]"
          ]
        },
        {
          "name": "stdout",
          "output_type": "stream",
          "text": [
            "Weights: (0.1, 0.4, 0.30000000000000004, 0.8, 0.4), F1 Score = 0.6781907337226499\n"
          ]
        },
        {
          "name": "stderr",
          "output_type": "stream",
          "text": [
            "Refining Weights: (0.1, 0.4, 0.30000000000000004, 0.9, 0.2):  23%|██▎       | 177/768 [35:15<1:56:54, 11.87s/it]"
          ]
        },
        {
          "name": "stdout",
          "output_type": "stream",
          "text": [
            "Weights: (0.1, 0.4, 0.30000000000000004, 0.9, 0.1), F1 Score = 0.6991107320510958\n"
          ]
        },
        {
          "name": "stderr",
          "output_type": "stream",
          "text": [
            "Refining Weights: (0.1, 0.4, 0.30000000000000004, 0.9, 0.30000000000000004):  23%|██▎       | 178/768 [35:27<1:56:57, 11.89s/it]"
          ]
        },
        {
          "name": "stdout",
          "output_type": "stream",
          "text": [
            "Weights: (0.1, 0.4, 0.30000000000000004, 0.9, 0.2), F1 Score = 0.6972164456233421\n"
          ]
        },
        {
          "name": "stderr",
          "output_type": "stream",
          "text": [
            "Refining Weights: (0.1, 0.4, 0.30000000000000004, 0.9, 0.4):  23%|██▎       | 179/768 [35:39<1:57:08, 11.93s/it]                "
          ]
        },
        {
          "name": "stdout",
          "output_type": "stream",
          "text": [
            "Weights: (0.1, 0.4, 0.30000000000000004, 0.9, 0.30000000000000004), F1 Score = 0.6921024575018478\n"
          ]
        },
        {
          "name": "stderr",
          "output_type": "stream",
          "text": [
            "Refining Weights: (0.1, 0.4, 0.4, 0.7000000000000001, 0.1):  23%|██▎       | 180/768 [35:51<1:55:56, 11.83s/it] "
          ]
        },
        {
          "name": "stdout",
          "output_type": "stream",
          "text": [
            "Weights: (0.1, 0.4, 0.30000000000000004, 0.9, 0.4), F1 Score = 0.6868650929535051\n"
          ]
        },
        {
          "name": "stderr",
          "output_type": "stream",
          "text": [
            "Refining Weights: (0.1, 0.4, 0.4, 0.7000000000000001, 0.2):  24%|██▎       | 181/768 [36:02<1:54:03, 11.66s/it]"
          ]
        },
        {
          "name": "stdout",
          "output_type": "stream",
          "text": [
            "Weights: (0.1, 0.4, 0.4, 0.7000000000000001, 0.1), F1 Score = 0.6769246085510807\n"
          ]
        },
        {
          "name": "stderr",
          "output_type": "stream",
          "text": [
            "Refining Weights: (0.1, 0.4, 0.4, 0.7000000000000001, 0.30000000000000004):  24%|██▎       | 182/768 [36:14<1:54:47, 11.75s/it]"
          ]
        },
        {
          "name": "stdout",
          "output_type": "stream",
          "text": [
            "Weights: (0.1, 0.4, 0.4, 0.7000000000000001, 0.2), F1 Score = 0.6755370719340921\n"
          ]
        },
        {
          "name": "stderr",
          "output_type": "stream",
          "text": [
            "Refining Weights: (0.1, 0.4, 0.4, 0.7000000000000001, 0.4):  24%|██▍       | 183/768 [36:26<1:55:22, 11.83s/it]                "
          ]
        },
        {
          "name": "stdout",
          "output_type": "stream",
          "text": [
            "Weights: (0.1, 0.4, 0.4, 0.7000000000000001, 0.30000000000000004), F1 Score = 0.6741377382532119\n"
          ]
        },
        {
          "name": "stderr",
          "output_type": "stream",
          "text": [
            "Refining Weights: (0.1, 0.4, 0.4, 0.8, 0.1):  24%|██▍       | 184/768 [36:38<1:55:29, 11.87s/it]               "
          ]
        },
        {
          "name": "stdout",
          "output_type": "stream",
          "text": [
            "Weights: (0.1, 0.4, 0.4, 0.7000000000000001, 0.4), F1 Score = 0.6722172582578804\n"
          ]
        },
        {
          "name": "stderr",
          "output_type": "stream",
          "text": [
            "Refining Weights: (0.1, 0.4, 0.4, 0.8, 0.2):  24%|██▍       | 185/768 [36:50<1:55:16, 11.86s/it]"
          ]
        },
        {
          "name": "stdout",
          "output_type": "stream",
          "text": [
            "Weights: (0.1, 0.4, 0.4, 0.8, 0.1), F1 Score = 0.6823614623647518\n"
          ]
        },
        {
          "name": "stderr",
          "output_type": "stream",
          "text": [
            "Refining Weights: (0.1, 0.4, 0.4, 0.8, 0.30000000000000004):  24%|██▍       | 186/768 [37:02<1:55:15, 11.88s/it]"
          ]
        },
        {
          "name": "stdout",
          "output_type": "stream",
          "text": [
            "Weights: (0.1, 0.4, 0.4, 0.8, 0.2), F1 Score = 0.6796993225478684\n"
          ]
        },
        {
          "name": "stderr",
          "output_type": "stream",
          "text": [
            "Refining Weights: (0.1, 0.4, 0.4, 0.8, 0.4):  24%|██▍       | 187/768 [37:14<1:54:31, 11.83s/it]                "
          ]
        },
        {
          "name": "stdout",
          "output_type": "stream",
          "text": [
            "Weights: (0.1, 0.4, 0.4, 0.8, 0.30000000000000004), F1 Score = 0.6757567330999191\n"
          ]
        },
        {
          "name": "stderr",
          "output_type": "stream",
          "text": [
            "Refining Weights: (0.1, 0.4, 0.4, 0.9, 0.1):  24%|██▍       | 188/768 [37:25<1:52:35, 11.65s/it]"
          ]
        },
        {
          "name": "stdout",
          "output_type": "stream",
          "text": [
            "Weights: (0.1, 0.4, 0.4, 0.8, 0.4), F1 Score = 0.6736750666639781\n"
          ]
        },
        {
          "name": "stderr",
          "output_type": "stream",
          "text": [
            "Refining Weights: (0.1, 0.4, 0.4, 0.9, 0.2):  25%|██▍       | 189/768 [37:37<1:52:52, 11.70s/it]"
          ]
        },
        {
          "name": "stdout",
          "output_type": "stream",
          "text": [
            "Weights: (0.1, 0.4, 0.4, 0.9, 0.1), F1 Score = 0.6897638768049578\n"
          ]
        },
        {
          "name": "stderr",
          "output_type": "stream",
          "text": [
            "Refining Weights: (0.1, 0.4, 0.4, 0.9, 0.30000000000000004):  25%|██▍       | 190/768 [37:49<1:53:42, 11.80s/it]"
          ]
        },
        {
          "name": "stdout",
          "output_type": "stream",
          "text": [
            "Weights: (0.1, 0.4, 0.4, 0.9, 0.2), F1 Score = 0.6836937920283269\n"
          ]
        },
        {
          "name": "stderr",
          "output_type": "stream",
          "text": [
            "Refining Weights: (0.1, 0.4, 0.4, 0.9, 0.4):  25%|██▍       | 191/768 [38:01<1:53:42, 11.82s/it]                "
          ]
        },
        {
          "name": "stdout",
          "output_type": "stream",
          "text": [
            "Weights: (0.1, 0.4, 0.4, 0.9, 0.30000000000000004), F1 Score = 0.6819448621775592\n"
          ]
        },
        {
          "name": "stderr",
          "output_type": "stream",
          "text": [
            "Refining Weights: (0.2, 0.1, 0.1, 0.7000000000000001, 0.1):  25%|██▌       | 192/768 [38:13<1:54:09, 11.89s/it]"
          ]
        },
        {
          "name": "stdout",
          "output_type": "stream",
          "text": [
            "Weights: (0.1, 0.4, 0.4, 0.9, 0.4), F1 Score = 0.677846772499781\n"
          ]
        },
        {
          "name": "stderr",
          "output_type": "stream",
          "text": [
            "Refining Weights: (0.2, 0.1, 0.1, 0.7000000000000001, 0.2):  25%|██▌       | 193/768 [38:25<1:54:18, 11.93s/it]"
          ]
        },
        {
          "name": "stdout",
          "output_type": "stream",
          "text": [
            "Weights: (0.2, 0.1, 0.1, 0.7000000000000001, 0.1), F1 Score = 0.7075554005252791\n"
          ]
        },
        {
          "name": "stderr",
          "output_type": "stream",
          "text": [
            "Refining Weights: (0.2, 0.1, 0.1, 0.7000000000000001, 0.30000000000000004):  25%|██▌       | 194/768 [38:36<1:53:08, 11.83s/it]"
          ]
        },
        {
          "name": "stdout",
          "output_type": "stream",
          "text": [
            "Weights: (0.2, 0.1, 0.1, 0.7000000000000001, 0.2), F1 Score = 0.7075717964129055\n"
          ]
        },
        {
          "name": "stderr",
          "output_type": "stream",
          "text": [
            "Refining Weights: (0.2, 0.1, 0.1, 0.7000000000000001, 0.4):  25%|██▌       | 195/768 [38:48<1:51:48, 11.71s/it]                "
          ]
        },
        {
          "name": "stdout",
          "output_type": "stream",
          "text": [
            "Weights: (0.2, 0.1, 0.1, 0.7000000000000001, 0.30000000000000004), F1 Score = 0.7067140730418526\n"
          ]
        },
        {
          "name": "stderr",
          "output_type": "stream",
          "text": [
            "Refining Weights: (0.2, 0.1, 0.1, 0.8, 0.1):  26%|██▌       | 196/768 [39:00<1:52:04, 11.76s/it]               "
          ]
        },
        {
          "name": "stdout",
          "output_type": "stream",
          "text": [
            "Weights: (0.2, 0.1, 0.1, 0.7000000000000001, 0.4), F1 Score = 0.7064260595853884\n"
          ]
        },
        {
          "name": "stderr",
          "output_type": "stream",
          "text": [
            "Refining Weights: (0.2, 0.1, 0.1, 0.8, 0.2):  26%|██▌       | 197/768 [39:12<1:52:58, 11.87s/it]"
          ]
        },
        {
          "name": "stdout",
          "output_type": "stream",
          "text": [
            "Weights: (0.2, 0.1, 0.1, 0.8, 0.1), F1 Score = 0.7064815628656342\n"
          ]
        },
        {
          "name": "stderr",
          "output_type": "stream",
          "text": [
            "Refining Weights: (0.2, 0.1, 0.1, 0.8, 0.30000000000000004):  26%|██▌       | 198/768 [39:24<1:52:51, 11.88s/it]"
          ]
        },
        {
          "name": "stdout",
          "output_type": "stream",
          "text": [
            "Weights: (0.2, 0.1, 0.1, 0.8, 0.2), F1 Score = 0.7075485613920187\n"
          ]
        },
        {
          "name": "stderr",
          "output_type": "stream",
          "text": [
            "Refining Weights: (0.2, 0.1, 0.1, 0.8, 0.4):  26%|██▌       | 199/768 [39:36<1:53:15, 11.94s/it]                "
          ]
        },
        {
          "name": "stdout",
          "output_type": "stream",
          "text": [
            "Weights: (0.2, 0.1, 0.1, 0.8, 0.30000000000000004), F1 Score = 0.7072292120294108\n"
          ]
        },
        {
          "name": "stderr",
          "output_type": "stream",
          "text": [
            "Refining Weights: (0.2, 0.1, 0.1, 0.9, 0.1):  26%|██▌       | 200/768 [39:48<1:53:13, 11.96s/it]"
          ]
        },
        {
          "name": "stdout",
          "output_type": "stream",
          "text": [
            "Weights: (0.2, 0.1, 0.1, 0.8, 0.4), F1 Score = 0.707524244374513\n"
          ]
        },
        {
          "name": "stderr",
          "output_type": "stream",
          "text": [
            "Refining Weights: (0.2, 0.1, 0.1, 0.9, 0.2):  26%|██▌       | 201/768 [39:59<1:51:13, 11.77s/it]"
          ]
        },
        {
          "name": "stdout",
          "output_type": "stream",
          "text": [
            "Weights: (0.2, 0.1, 0.1, 0.9, 0.1), F1 Score = 0.7071360916534556\n"
          ]
        },
        {
          "name": "stderr",
          "output_type": "stream",
          "text": [
            "Refining Weights: (0.2, 0.1, 0.1, 0.9, 0.30000000000000004):  26%|██▋       | 202/768 [40:11<1:50:41, 11.73s/it]"
          ]
        },
        {
          "name": "stdout",
          "output_type": "stream",
          "text": [
            "Weights: (0.2, 0.1, 0.1, 0.9, 0.2), F1 Score = 0.707332417640695\n"
          ]
        },
        {
          "name": "stderr",
          "output_type": "stream",
          "text": [
            "Refining Weights: (0.2, 0.1, 0.1, 0.9, 0.4):  26%|██▋       | 203/768 [40:23<1:50:56, 11.78s/it]                "
          ]
        },
        {
          "name": "stdout",
          "output_type": "stream",
          "text": [
            "Weights: (0.2, 0.1, 0.1, 0.9, 0.30000000000000004), F1 Score = 0.7053905144889464\n"
          ]
        },
        {
          "name": "stderr",
          "output_type": "stream",
          "text": [
            "Refining Weights: (0.2, 0.1, 0.2, 0.7000000000000001, 0.1):  27%|██▋       | 204/768 [40:35<1:51:58, 11.91s/it]"
          ]
        },
        {
          "name": "stdout",
          "output_type": "stream",
          "text": [
            "Weights: (0.2, 0.1, 0.1, 0.9, 0.4), F1 Score = 0.7073462144565756\n"
          ]
        },
        {
          "name": "stderr",
          "output_type": "stream",
          "text": [
            "Refining Weights: (0.2, 0.1, 0.2, 0.7000000000000001, 0.2):  27%|██▋       | 205/768 [40:47<1:51:59, 11.93s/it]"
          ]
        },
        {
          "name": "stdout",
          "output_type": "stream",
          "text": [
            "Weights: (0.2, 0.1, 0.2, 0.7000000000000001, 0.1), F1 Score = 0.7052898913494962\n"
          ]
        },
        {
          "name": "stderr",
          "output_type": "stream",
          "text": [
            "Refining Weights: (0.2, 0.1, 0.2, 0.7000000000000001, 0.30000000000000004):  27%|██▋       | 206/768 [40:59<1:52:12, 11.98s/it]"
          ]
        },
        {
          "name": "stdout",
          "output_type": "stream",
          "text": [
            "Weights: (0.2, 0.1, 0.2, 0.7000000000000001, 0.2), F1 Score = 0.7045264383248585\n"
          ]
        },
        {
          "name": "stderr",
          "output_type": "stream",
          "text": [
            "Refining Weights: (0.2, 0.1, 0.2, 0.7000000000000001, 0.4):  27%|██▋       | 207/768 [41:11<1:52:14, 12.00s/it]                "
          ]
        },
        {
          "name": "stdout",
          "output_type": "stream",
          "text": [
            "Weights: (0.2, 0.1, 0.2, 0.7000000000000001, 0.30000000000000004), F1 Score = 0.7009760981561448\n"
          ]
        },
        {
          "name": "stderr",
          "output_type": "stream",
          "text": [
            "Refining Weights: (0.2, 0.1, 0.2, 0.8, 0.1):  27%|██▋       | 208/768 [41:22<1:50:26, 11.83s/it]               "
          ]
        },
        {
          "name": "stdout",
          "output_type": "stream",
          "text": [
            "Weights: (0.2, 0.1, 0.2, 0.7000000000000001, 0.4), F1 Score = 0.6916888411700464\n"
          ]
        },
        {
          "name": "stderr",
          "output_type": "stream",
          "text": [
            "Refining Weights: (0.2, 0.1, 0.2, 0.8, 0.2):  27%|██▋       | 209/768 [41:34<1:49:38, 11.77s/it]"
          ]
        },
        {
          "name": "stdout",
          "output_type": "stream",
          "text": [
            "Weights: (0.2, 0.1, 0.2, 0.8, 0.1), F1 Score = 0.7066713011290308\n"
          ]
        },
        {
          "name": "stderr",
          "output_type": "stream",
          "text": [
            "Refining Weights: (0.2, 0.1, 0.2, 0.8, 0.30000000000000004):  27%|██▋       | 210/768 [41:46<1:50:01, 11.83s/it]"
          ]
        },
        {
          "name": "stdout",
          "output_type": "stream",
          "text": [
            "Weights: (0.2, 0.1, 0.2, 0.8, 0.2), F1 Score = 0.7064097177966806\n"
          ]
        },
        {
          "name": "stderr",
          "output_type": "stream",
          "text": [
            "Refining Weights: (0.2, 0.1, 0.2, 0.8, 0.4):  27%|██▋       | 211/768 [41:58<1:50:13, 11.87s/it]                "
          ]
        },
        {
          "name": "stdout",
          "output_type": "stream",
          "text": [
            "Weights: (0.2, 0.1, 0.2, 0.8, 0.30000000000000004), F1 Score = 0.7029900869230906\n"
          ]
        },
        {
          "name": "stderr",
          "output_type": "stream",
          "text": [
            "Refining Weights: (0.2, 0.1, 0.2, 0.9, 0.1):  28%|██▊       | 212/768 [42:10<1:50:24, 11.92s/it]"
          ]
        },
        {
          "name": "stdout",
          "output_type": "stream",
          "text": [
            "Weights: (0.2, 0.1, 0.2, 0.8, 0.4), F1 Score = 0.7018773371674715\n"
          ]
        },
        {
          "name": "stderr",
          "output_type": "stream",
          "text": [
            "Refining Weights: (0.2, 0.1, 0.2, 0.9, 0.2):  28%|██▊       | 213/768 [42:22<1:50:29, 11.95s/it]"
          ]
        },
        {
          "name": "stdout",
          "output_type": "stream",
          "text": [
            "Weights: (0.2, 0.1, 0.2, 0.9, 0.1), F1 Score = 0.7076908953164956\n"
          ]
        },
        {
          "name": "stderr",
          "output_type": "stream",
          "text": [
            "Refining Weights: (0.2, 0.1, 0.2, 0.9, 0.30000000000000004):  28%|██▊       | 214/768 [42:34<1:50:55, 12.01s/it]"
          ]
        },
        {
          "name": "stdout",
          "output_type": "stream",
          "text": [
            "Weights: (0.2, 0.1, 0.2, 0.9, 0.2), F1 Score = 0.7073700232662041\n"
          ]
        },
        {
          "name": "stderr",
          "output_type": "stream",
          "text": [
            "Refining Weights: (0.2, 0.1, 0.2, 0.9, 0.4):  28%|██▊       | 215/768 [42:46<1:49:07, 11.84s/it]                "
          ]
        },
        {
          "name": "stdout",
          "output_type": "stream",
          "text": [
            "Weights: (0.2, 0.1, 0.2, 0.9, 0.30000000000000004), F1 Score = 0.7064370315524318\n"
          ]
        },
        {
          "name": "stderr",
          "output_type": "stream",
          "text": [
            "Refining Weights: (0.2, 0.1, 0.30000000000000004, 0.7000000000000001, 0.1):  28%|██▊       | 216/768 [42:57<1:47:54, 11.73s/it]"
          ]
        },
        {
          "name": "stdout",
          "output_type": "stream",
          "text": [
            "Weights: (0.2, 0.1, 0.2, 0.9, 0.4), F1 Score = 0.7045513067650364\n"
          ]
        },
        {
          "name": "stderr",
          "output_type": "stream",
          "text": [
            "Refining Weights: (0.2, 0.1, 0.30000000000000004, 0.7000000000000001, 0.2):  28%|██▊       | 217/768 [43:09<1:48:28, 11.81s/it]"
          ]
        },
        {
          "name": "stdout",
          "output_type": "stream",
          "text": [
            "Weights: (0.2, 0.1, 0.30000000000000004, 0.7000000000000001, 0.1), F1 Score = 0.6947379109902981\n"
          ]
        },
        {
          "name": "stderr",
          "output_type": "stream",
          "text": [
            "Refining Weights: (0.2, 0.1, 0.30000000000000004, 0.7000000000000001, 0.30000000000000004):  28%|██▊       | 218/768 [43:21<1:49:14, 11.92s/it]"
          ]
        },
        {
          "name": "stdout",
          "output_type": "stream",
          "text": [
            "Weights: (0.2, 0.1, 0.30000000000000004, 0.7000000000000001, 0.2), F1 Score = 0.6900164233026743\n"
          ]
        },
        {
          "name": "stderr",
          "output_type": "stream",
          "text": [
            "Refining Weights: (0.2, 0.1, 0.30000000000000004, 0.7000000000000001, 0.4):  29%|██▊       | 219/768 [43:33<1:49:47, 12.00s/it]                "
          ]
        },
        {
          "name": "stdout",
          "output_type": "stream",
          "text": [
            "Weights: (0.2, 0.1, 0.30000000000000004, 0.7000000000000001, 0.30000000000000004), F1 Score = 0.686261719870736\n"
          ]
        },
        {
          "name": "stderr",
          "output_type": "stream",
          "text": [
            "Refining Weights: (0.2, 0.1, 0.30000000000000004, 0.8, 0.1):  29%|██▊       | 220/768 [43:46<1:49:59, 12.04s/it]               "
          ]
        },
        {
          "name": "stdout",
          "output_type": "stream",
          "text": [
            "Weights: (0.2, 0.1, 0.30000000000000004, 0.7000000000000001, 0.4), F1 Score = 0.6831582598313514\n"
          ]
        },
        {
          "name": "stderr",
          "output_type": "stream",
          "text": [
            "Refining Weights: (0.2, 0.1, 0.30000000000000004, 0.8, 0.2):  29%|██▉       | 221/768 [43:58<1:50:22, 12.11s/it]"
          ]
        },
        {
          "name": "stdout",
          "output_type": "stream",
          "text": [
            "Weights: (0.2, 0.1, 0.30000000000000004, 0.8, 0.1), F1 Score = 0.70132342392505\n"
          ]
        },
        {
          "name": "stderr",
          "output_type": "stream",
          "text": [
            "Refining Weights: (0.2, 0.1, 0.30000000000000004, 0.8, 0.30000000000000004):  29%|██▉       | 222/768 [44:09<1:47:56, 11.86s/it]"
          ]
        },
        {
          "name": "stdout",
          "output_type": "stream",
          "text": [
            "Weights: (0.2, 0.1, 0.30000000000000004, 0.8, 0.2), F1 Score = 0.6999182401639193\n"
          ]
        },
        {
          "name": "stderr",
          "output_type": "stream",
          "text": [
            "Refining Weights: (0.2, 0.1, 0.30000000000000004, 0.8, 0.4):  29%|██▉       | 223/768 [44:21<1:48:55, 11.99s/it]                "
          ]
        },
        {
          "name": "stdout",
          "output_type": "stream",
          "text": [
            "Weights: (0.2, 0.1, 0.30000000000000004, 0.8, 0.30000000000000004), F1 Score = 0.6939653170279092\n"
          ]
        },
        {
          "name": "stderr",
          "output_type": "stream",
          "text": [
            "Refining Weights: (0.2, 0.1, 0.30000000000000004, 0.9, 0.1):  29%|██▉       | 224/768 [44:33<1:48:45, 12.00s/it]"
          ]
        },
        {
          "name": "stdout",
          "output_type": "stream",
          "text": [
            "Weights: (0.2, 0.1, 0.30000000000000004, 0.8, 0.4), F1 Score = 0.6886754854603258\n"
          ]
        },
        {
          "name": "stderr",
          "output_type": "stream",
          "text": [
            "Refining Weights: (0.2, 0.1, 0.30000000000000004, 0.9, 0.2):  29%|██▉       | 225/768 [44:46<1:49:02, 12.05s/it]"
          ]
        },
        {
          "name": "stdout",
          "output_type": "stream",
          "text": [
            "Weights: (0.2, 0.1, 0.30000000000000004, 0.9, 0.1), F1 Score = 0.7034919279332883\n"
          ]
        },
        {
          "name": "stderr",
          "output_type": "stream",
          "text": [
            "Refining Weights: (0.2, 0.1, 0.30000000000000004, 0.9, 0.30000000000000004):  29%|██▉       | 226/768 [44:58<1:48:57, 12.06s/it]"
          ]
        },
        {
          "name": "stdout",
          "output_type": "stream",
          "text": [
            "Weights: (0.2, 0.1, 0.30000000000000004, 0.9, 0.2), F1 Score = 0.7026808053983845\n"
          ]
        },
        {
          "name": "stderr",
          "output_type": "stream",
          "text": [
            "Refining Weights: (0.2, 0.1, 0.30000000000000004, 0.9, 0.4):  30%|██▉       | 227/768 [45:10<1:49:02, 12.09s/it]                "
          ]
        },
        {
          "name": "stdout",
          "output_type": "stream",
          "text": [
            "Weights: (0.2, 0.1, 0.30000000000000004, 0.9, 0.30000000000000004), F1 Score = 0.7014629390338573\n"
          ]
        },
        {
          "name": "stderr",
          "output_type": "stream",
          "text": [
            "Refining Weights: (0.2, 0.1, 0.4, 0.7000000000000001, 0.1):  30%|██▉       | 228/768 [45:22<1:48:00, 12.00s/it] "
          ]
        },
        {
          "name": "stdout",
          "output_type": "stream",
          "text": [
            "Weights: (0.2, 0.1, 0.30000000000000004, 0.9, 0.4), F1 Score = 0.6977423919992313\n"
          ]
        },
        {
          "name": "stderr",
          "output_type": "stream",
          "text": [
            "Refining Weights: (0.2, 0.1, 0.4, 0.7000000000000001, 0.2):  30%|██▉       | 229/768 [45:33<1:46:21, 11.84s/it]"
          ]
        },
        {
          "name": "stdout",
          "output_type": "stream",
          "text": [
            "Weights: (0.2, 0.1, 0.4, 0.7000000000000001, 0.1), F1 Score = 0.6831339984350546\n"
          ]
        },
        {
          "name": "stderr",
          "output_type": "stream",
          "text": [
            "Refining Weights: (0.2, 0.1, 0.4, 0.7000000000000001, 0.30000000000000004):  30%|██▉       | 230/768 [45:45<1:46:21, 11.86s/it]"
          ]
        },
        {
          "name": "stdout",
          "output_type": "stream",
          "text": [
            "Weights: (0.2, 0.1, 0.4, 0.7000000000000001, 0.2), F1 Score = 0.6781197485749578\n"
          ]
        },
        {
          "name": "stderr",
          "output_type": "stream",
          "text": [
            "Refining Weights: (0.2, 0.1, 0.4, 0.7000000000000001, 0.4):  30%|███       | 231/768 [45:57<1:46:45, 11.93s/it]                "
          ]
        },
        {
          "name": "stdout",
          "output_type": "stream",
          "text": [
            "Weights: (0.2, 0.1, 0.4, 0.7000000000000001, 0.30000000000000004), F1 Score = 0.6751335649146781\n"
          ]
        },
        {
          "name": "stderr",
          "output_type": "stream",
          "text": [
            "Refining Weights: (0.2, 0.1, 0.4, 0.8, 0.1):  30%|███       | 232/768 [46:09<1:46:48, 11.96s/it]               "
          ]
        },
        {
          "name": "stdout",
          "output_type": "stream",
          "text": [
            "Weights: (0.2, 0.1, 0.4, 0.7000000000000001, 0.4), F1 Score = 0.6744460593877519\n"
          ]
        },
        {
          "name": "stderr",
          "output_type": "stream",
          "text": [
            "Refining Weights: (0.2, 0.1, 0.4, 0.8, 0.2):  30%|███       | 233/768 [46:21<1:46:49, 11.98s/it]"
          ]
        },
        {
          "name": "stdout",
          "output_type": "stream",
          "text": [
            "Weights: (0.2, 0.1, 0.4, 0.8, 0.1), F1 Score = 0.6893345665961945\n"
          ]
        },
        {
          "name": "stderr",
          "output_type": "stream",
          "text": [
            "Refining Weights: (0.2, 0.1, 0.4, 0.8, 0.30000000000000004):  30%|███       | 234/768 [46:33<1:46:13, 11.93s/it]"
          ]
        },
        {
          "name": "stdout",
          "output_type": "stream",
          "text": [
            "Weights: (0.2, 0.1, 0.4, 0.8, 0.2), F1 Score = 0.6865492545002138\n"
          ]
        },
        {
          "name": "stderr",
          "output_type": "stream",
          "text": [
            "Refining Weights: (0.2, 0.1, 0.4, 0.8, 0.4):  31%|███       | 235/768 [46:45<1:45:12, 11.84s/it]                "
          ]
        },
        {
          "name": "stdout",
          "output_type": "stream",
          "text": [
            "Weights: (0.2, 0.1, 0.4, 0.8, 0.30000000000000004), F1 Score = 0.6822532922180278\n"
          ]
        },
        {
          "name": "stderr",
          "output_type": "stream",
          "text": [
            "Refining Weights: (0.2, 0.1, 0.4, 0.9, 0.1):  31%|███       | 236/768 [46:56<1:43:38, 11.69s/it]"
          ]
        },
        {
          "name": "stdout",
          "output_type": "stream",
          "text": [
            "Weights: (0.2, 0.1, 0.4, 0.8, 0.4), F1 Score = 0.6769804756204565\n"
          ]
        },
        {
          "name": "stderr",
          "output_type": "stream",
          "text": [
            "Refining Weights: (0.2, 0.1, 0.4, 0.9, 0.2):  31%|███       | 237/768 [47:08<1:44:46, 11.84s/it]"
          ]
        },
        {
          "name": "stdout",
          "output_type": "stream",
          "text": [
            "Weights: (0.2, 0.1, 0.4, 0.9, 0.1), F1 Score = 0.698900299667355\n"
          ]
        },
        {
          "name": "stderr",
          "output_type": "stream",
          "text": [
            "Refining Weights: (0.2, 0.1, 0.4, 0.9, 0.30000000000000004):  31%|███       | 238/768 [47:20<1:45:19, 11.92s/it]"
          ]
        },
        {
          "name": "stdout",
          "output_type": "stream",
          "text": [
            "Weights: (0.2, 0.1, 0.4, 0.9, 0.2), F1 Score = 0.6935242251883835\n"
          ]
        },
        {
          "name": "stderr",
          "output_type": "stream",
          "text": [
            "Refining Weights: (0.2, 0.1, 0.4, 0.9, 0.4):  31%|███       | 239/768 [47:32<1:45:14, 11.94s/it]                "
          ]
        },
        {
          "name": "stdout",
          "output_type": "stream",
          "text": [
            "Weights: (0.2, 0.1, 0.4, 0.9, 0.30000000000000004), F1 Score = 0.6898088418430884\n"
          ]
        },
        {
          "name": "stderr",
          "output_type": "stream",
          "text": [
            "Refining Weights: (0.2, 0.2, 0.1, 0.7000000000000001, 0.1):  31%|███▏      | 240/768 [47:44<1:45:33, 12.00s/it]"
          ]
        },
        {
          "name": "stdout",
          "output_type": "stream",
          "text": [
            "Weights: (0.2, 0.1, 0.4, 0.9, 0.4), F1 Score = 0.6858733505148615\n"
          ]
        },
        {
          "name": "stderr",
          "output_type": "stream",
          "text": [
            "Refining Weights: (0.2, 0.2, 0.1, 0.7000000000000001, 0.2):  31%|███▏      | 241/768 [47:56<1:45:33, 12.02s/it]"
          ]
        },
        {
          "name": "stdout",
          "output_type": "stream",
          "text": [
            "Weights: (0.2, 0.2, 0.1, 0.7000000000000001, 0.1), F1 Score = 0.7061431179759136\n"
          ]
        },
        {
          "name": "stderr",
          "output_type": "stream",
          "text": [
            "Refining Weights: (0.2, 0.2, 0.1, 0.7000000000000001, 0.30000000000000004):  32%|███▏      | 242/768 [48:08<1:43:19, 11.79s/it]"
          ]
        },
        {
          "name": "stdout",
          "output_type": "stream",
          "text": [
            "Weights: (0.2, 0.2, 0.1, 0.7000000000000001, 0.2), F1 Score = 0.7066096237067495\n"
          ]
        },
        {
          "name": "stderr",
          "output_type": "stream",
          "text": [
            "Refining Weights: (0.2, 0.2, 0.1, 0.7000000000000001, 0.4):  32%|███▏      | 243/768 [48:19<1:42:59, 11.77s/it]                "
          ]
        },
        {
          "name": "stdout",
          "output_type": "stream",
          "text": [
            "Weights: (0.2, 0.2, 0.1, 0.7000000000000001, 0.30000000000000004), F1 Score = 0.7014557524581968\n"
          ]
        },
        {
          "name": "stderr",
          "output_type": "stream",
          "text": [
            "Refining Weights: (0.2, 0.2, 0.1, 0.8, 0.1):  32%|███▏      | 244/768 [48:31<1:43:33, 11.86s/it]               "
          ]
        },
        {
          "name": "stdout",
          "output_type": "stream",
          "text": [
            "Weights: (0.2, 0.2, 0.1, 0.7000000000000001, 0.4), F1 Score = 0.6981862436243625\n"
          ]
        },
        {
          "name": "stderr",
          "output_type": "stream",
          "text": [
            "Refining Weights: (0.2, 0.2, 0.1, 0.8, 0.2):  32%|███▏      | 245/768 [48:44<1:44:04, 11.94s/it]"
          ]
        },
        {
          "name": "stdout",
          "output_type": "stream",
          "text": [
            "Weights: (0.2, 0.2, 0.1, 0.8, 0.1), F1 Score = 0.7067775945754754\n"
          ]
        },
        {
          "name": "stderr",
          "output_type": "stream",
          "text": [
            "Refining Weights: (0.2, 0.2, 0.1, 0.8, 0.30000000000000004):  32%|███▏      | 246/768 [48:56<1:44:20, 11.99s/it]"
          ]
        },
        {
          "name": "stdout",
          "output_type": "stream",
          "text": [
            "Weights: (0.2, 0.2, 0.1, 0.8, 0.2), F1 Score = 0.7097226738765932\n"
          ]
        },
        {
          "name": "stderr",
          "output_type": "stream",
          "text": [
            "Refining Weights: (0.2, 0.2, 0.1, 0.8, 0.4):  32%|███▏      | 247/768 [49:08<1:44:42, 12.06s/it]                "
          ]
        },
        {
          "name": "stdout",
          "output_type": "stream",
          "text": [
            "Weights: (0.2, 0.2, 0.1, 0.8, 0.30000000000000004), F1 Score = 0.7038941102756892\n"
          ]
        },
        {
          "name": "stderr",
          "output_type": "stream",
          "text": [
            "Refining Weights: (0.2, 0.2, 0.1, 0.9, 0.1):  32%|███▏      | 248/768 [49:19<1:42:50, 11.87s/it]"
          ]
        },
        {
          "name": "stdout",
          "output_type": "stream",
          "text": [
            "Weights: (0.2, 0.2, 0.1, 0.8, 0.4), F1 Score = 0.702659582237803\n"
          ]
        },
        {
          "name": "stderr",
          "output_type": "stream",
          "text": [
            "Refining Weights: (0.2, 0.2, 0.1, 0.9, 0.2):  32%|███▏      | 249/768 [49:31<1:41:47, 11.77s/it]"
          ]
        },
        {
          "name": "stdout",
          "output_type": "stream",
          "text": [
            "Weights: (0.2, 0.2, 0.1, 0.9, 0.1), F1 Score = 0.706974677247385\n"
          ]
        },
        {
          "name": "stderr",
          "output_type": "stream",
          "text": [
            "Refining Weights: (0.2, 0.2, 0.1, 0.9, 0.30000000000000004):  33%|███▎      | 250/768 [49:43<1:42:40, 11.89s/it]"
          ]
        },
        {
          "name": "stdout",
          "output_type": "stream",
          "text": [
            "Weights: (0.2, 0.2, 0.1, 0.9, 0.2), F1 Score = 0.7065526481715005\n"
          ]
        },
        {
          "name": "stderr",
          "output_type": "stream",
          "text": [
            "Refining Weights: (0.2, 0.2, 0.1, 0.9, 0.4):  33%|███▎      | 251/768 [49:55<1:42:48, 11.93s/it]                "
          ]
        },
        {
          "name": "stdout",
          "output_type": "stream",
          "text": [
            "Weights: (0.2, 0.2, 0.1, 0.9, 0.30000000000000004), F1 Score = 0.7098319074916856\n"
          ]
        },
        {
          "name": "stderr",
          "output_type": "stream",
          "text": [
            "Refining Weights: (0.2, 0.2, 0.2, 0.7000000000000001, 0.1):  33%|███▎      | 252/768 [50:07<1:42:49, 11.96s/it]"
          ]
        },
        {
          "name": "stdout",
          "output_type": "stream",
          "text": [
            "Weights: (0.2, 0.2, 0.1, 0.9, 0.4), F1 Score = 0.7064855943389372\n"
          ]
        },
        {
          "name": "stderr",
          "output_type": "stream",
          "text": [
            "Refining Weights: (0.2, 0.2, 0.2, 0.7000000000000001, 0.2):  33%|███▎      | 253/768 [50:19<1:42:57, 11.99s/it]"
          ]
        },
        {
          "name": "stdout",
          "output_type": "stream",
          "text": [
            "Weights: (0.2, 0.2, 0.2, 0.7000000000000001, 0.1), F1 Score = 0.7044989372115663\n"
          ]
        },
        {
          "name": "stderr",
          "output_type": "stream",
          "text": [
            "Refining Weights: (0.2, 0.2, 0.2, 0.7000000000000001, 0.30000000000000004):  33%|███▎      | 254/768 [50:31<1:42:09, 11.92s/it]"
          ]
        },
        {
          "name": "stdout",
          "output_type": "stream",
          "text": [
            "Weights: (0.2, 0.2, 0.2, 0.7000000000000001, 0.2), F1 Score = 0.7006453680909677\n"
          ]
        },
        {
          "name": "stderr",
          "output_type": "stream",
          "text": [
            "Refining Weights: (0.2, 0.2, 0.2, 0.7000000000000001, 0.4):  33%|███▎      | 255/768 [50:42<1:40:14, 11.73s/it]                "
          ]
        },
        {
          "name": "stdout",
          "output_type": "stream",
          "text": [
            "Weights: (0.2, 0.2, 0.2, 0.7000000000000001, 0.30000000000000004), F1 Score = 0.6930691578854158\n"
          ]
        },
        {
          "name": "stderr",
          "output_type": "stream",
          "text": [
            "Refining Weights: (0.2, 0.2, 0.2, 0.8, 0.1):  33%|███▎      | 256/768 [50:54<1:39:52, 11.70s/it]               "
          ]
        },
        {
          "name": "stdout",
          "output_type": "stream",
          "text": [
            "Weights: (0.2, 0.2, 0.2, 0.7000000000000001, 0.4), F1 Score = 0.6872811126373626\n"
          ]
        },
        {
          "name": "stderr",
          "output_type": "stream",
          "text": [
            "Refining Weights: (0.2, 0.2, 0.2, 0.8, 0.2):  33%|███▎      | 257/768 [51:06<1:40:21, 11.78s/it]"
          ]
        },
        {
          "name": "stdout",
          "output_type": "stream",
          "text": [
            "Weights: (0.2, 0.2, 0.2, 0.8, 0.1), F1 Score = 0.7045068021001358\n"
          ]
        },
        {
          "name": "stderr",
          "output_type": "stream",
          "text": [
            "Refining Weights: (0.2, 0.2, 0.2, 0.8, 0.30000000000000004):  34%|███▎      | 258/768 [51:18<1:40:39, 11.84s/it]"
          ]
        },
        {
          "name": "stdout",
          "output_type": "stream",
          "text": [
            "Weights: (0.2, 0.2, 0.2, 0.8, 0.2), F1 Score = 0.704532324476043\n"
          ]
        },
        {
          "name": "stderr",
          "output_type": "stream",
          "text": [
            "Refining Weights: (0.2, 0.2, 0.2, 0.8, 0.4):  34%|███▎      | 259/768 [51:30<1:40:48, 11.88s/it]                "
          ]
        },
        {
          "name": "stdout",
          "output_type": "stream",
          "text": [
            "Weights: (0.2, 0.2, 0.2, 0.8, 0.30000000000000004), F1 Score = 0.7024707341409259\n"
          ]
        },
        {
          "name": "stderr",
          "output_type": "stream",
          "text": [
            "Refining Weights: (0.2, 0.2, 0.2, 0.9, 0.1):  34%|███▍      | 260/768 [51:42<1:41:01, 11.93s/it]"
          ]
        },
        {
          "name": "stdout",
          "output_type": "stream",
          "text": [
            "Weights: (0.2, 0.2, 0.2, 0.8, 0.4), F1 Score = 0.6981645776429781\n"
          ]
        },
        {
          "name": "stderr",
          "output_type": "stream",
          "text": [
            "Refining Weights: (0.2, 0.2, 0.2, 0.9, 0.2):  34%|███▍      | 261/768 [51:54<1:40:44, 11.92s/it]"
          ]
        },
        {
          "name": "stdout",
          "output_type": "stream",
          "text": [
            "Weights: (0.2, 0.2, 0.2, 0.9, 0.1), F1 Score = 0.7066325082525765\n"
          ]
        },
        {
          "name": "stderr",
          "output_type": "stream",
          "text": [
            "Refining Weights: (0.2, 0.2, 0.2, 0.9, 0.30000000000000004):  34%|███▍      | 262/768 [52:05<1:38:40, 11.70s/it]"
          ]
        },
        {
          "name": "stdout",
          "output_type": "stream",
          "text": [
            "Weights: (0.2, 0.2, 0.2, 0.9, 0.2), F1 Score = 0.7046413494249009\n"
          ]
        },
        {
          "name": "stderr",
          "output_type": "stream",
          "text": [
            "Refining Weights: (0.2, 0.2, 0.2, 0.9, 0.4):  34%|███▍      | 263/768 [52:17<1:38:39, 11.72s/it]                "
          ]
        },
        {
          "name": "stdout",
          "output_type": "stream",
          "text": [
            "Weights: (0.2, 0.2, 0.2, 0.9, 0.30000000000000004), F1 Score = 0.70437466960594\n"
          ]
        },
        {
          "name": "stderr",
          "output_type": "stream",
          "text": [
            "Refining Weights: (0.2, 0.2, 0.30000000000000004, 0.7000000000000001, 0.1):  34%|███▍      | 264/768 [52:29<1:39:20, 11.83s/it]"
          ]
        },
        {
          "name": "stdout",
          "output_type": "stream",
          "text": [
            "Weights: (0.2, 0.2, 0.2, 0.9, 0.4), F1 Score = 0.7049564071960875\n"
          ]
        },
        {
          "name": "stderr",
          "output_type": "stream",
          "text": [
            "Refining Weights: (0.2, 0.2, 0.30000000000000004, 0.7000000000000001, 0.2):  35%|███▍      | 265/768 [52:41<1:39:57, 11.92s/it]"
          ]
        },
        {
          "name": "stdout",
          "output_type": "stream",
          "text": [
            "Weights: (0.2, 0.2, 0.30000000000000004, 0.7000000000000001, 0.1), F1 Score = 0.6904209351358055\n"
          ]
        },
        {
          "name": "stderr",
          "output_type": "stream",
          "text": [
            "Refining Weights: (0.2, 0.2, 0.30000000000000004, 0.7000000000000001, 0.30000000000000004):  35%|███▍      | 266/768 [52:53<1:39:43, 11.92s/it]"
          ]
        },
        {
          "name": "stdout",
          "output_type": "stream",
          "text": [
            "Weights: (0.2, 0.2, 0.30000000000000004, 0.7000000000000001, 0.2), F1 Score = 0.6866890786460695\n"
          ]
        },
        {
          "name": "stderr",
          "output_type": "stream",
          "text": [
            "Refining Weights: (0.2, 0.2, 0.30000000000000004, 0.7000000000000001, 0.4):  35%|███▍      | 267/768 [53:05<1:39:35, 11.93s/it]                "
          ]
        },
        {
          "name": "stdout",
          "output_type": "stream",
          "text": [
            "Weights: (0.2, 0.2, 0.30000000000000004, 0.7000000000000001, 0.30000000000000004), F1 Score = 0.6830885887611466\n"
          ]
        },
        {
          "name": "stderr",
          "output_type": "stream",
          "text": [
            "Refining Weights: (0.2, 0.2, 0.30000000000000004, 0.8, 0.1):  35%|███▍      | 268/768 [53:17<1:39:20, 11.92s/it]               "
          ]
        },
        {
          "name": "stdout",
          "output_type": "stream",
          "text": [
            "Weights: (0.2, 0.2, 0.30000000000000004, 0.7000000000000001, 0.4), F1 Score = 0.6799466285114465\n"
          ]
        },
        {
          "name": "stderr",
          "output_type": "stream",
          "text": [
            "Refining Weights: (0.2, 0.2, 0.30000000000000004, 0.8, 0.2):  35%|███▌      | 269/768 [53:28<1:37:13, 11.69s/it]"
          ]
        },
        {
          "name": "stdout",
          "output_type": "stream",
          "text": [
            "Weights: (0.2, 0.2, 0.30000000000000004, 0.8, 0.1), F1 Score = 0.6998427069425901\n"
          ]
        },
        {
          "name": "stderr",
          "output_type": "stream",
          "text": [
            "Refining Weights: (0.2, 0.2, 0.30000000000000004, 0.8, 0.30000000000000004):  35%|███▌      | 270/768 [53:40<1:37:38, 11.76s/it]"
          ]
        },
        {
          "name": "stdout",
          "output_type": "stream",
          "text": [
            "Weights: (0.2, 0.2, 0.30000000000000004, 0.8, 0.2), F1 Score = 0.694094752001654\n"
          ]
        },
        {
          "name": "stderr",
          "output_type": "stream",
          "text": [
            "Refining Weights: (0.2, 0.2, 0.30000000000000004, 0.8, 0.4):  35%|███▌      | 271/768 [53:52<1:37:51, 11.81s/it]                "
          ]
        },
        {
          "name": "stdout",
          "output_type": "stream",
          "text": [
            "Weights: (0.2, 0.2, 0.30000000000000004, 0.8, 0.30000000000000004), F1 Score = 0.6895601499774324\n"
          ]
        },
        {
          "name": "stderr",
          "output_type": "stream",
          "text": [
            "Refining Weights: (0.2, 0.2, 0.30000000000000004, 0.9, 0.1):  35%|███▌      | 272/768 [54:04<1:38:09, 11.87s/it]"
          ]
        },
        {
          "name": "stdout",
          "output_type": "stream",
          "text": [
            "Weights: (0.2, 0.2, 0.30000000000000004, 0.8, 0.4), F1 Score = 0.6879058660232158\n"
          ]
        },
        {
          "name": "stderr",
          "output_type": "stream",
          "text": [
            "Refining Weights: (0.2, 0.2, 0.30000000000000004, 0.9, 0.2):  36%|███▌      | 273/768 [54:16<1:39:33, 12.07s/it]"
          ]
        },
        {
          "name": "stdout",
          "output_type": "stream",
          "text": [
            "Weights: (0.2, 0.2, 0.30000000000000004, 0.9, 0.1), F1 Score = 0.7032903938428535\n"
          ]
        },
        {
          "name": "stderr",
          "output_type": "stream",
          "text": [
            "Refining Weights: (0.2, 0.2, 0.30000000000000004, 0.9, 0.30000000000000004):  36%|███▌      | 274/768 [54:28<1:38:43, 11.99s/it]"
          ]
        },
        {
          "name": "stdout",
          "output_type": "stream",
          "text": [
            "Weights: (0.2, 0.2, 0.30000000000000004, 0.9, 0.2), F1 Score = 0.7012129146532733\n"
          ]
        },
        {
          "name": "stderr",
          "output_type": "stream",
          "text": [
            "Refining Weights: (0.2, 0.2, 0.30000000000000004, 0.9, 0.4):  36%|███▌      | 275/768 [54:40<1:38:25, 11.98s/it]                "
          ]
        },
        {
          "name": "stdout",
          "output_type": "stream",
          "text": [
            "Weights: (0.2, 0.2, 0.30000000000000004, 0.9, 0.30000000000000004), F1 Score = 0.6970480432742141\n"
          ]
        },
        {
          "name": "stderr",
          "output_type": "stream",
          "text": [
            "Refining Weights: (0.2, 0.2, 0.4, 0.7000000000000001, 0.1):  36%|███▌      | 276/768 [54:51<1:36:05, 11.72s/it] "
          ]
        },
        {
          "name": "stdout",
          "output_type": "stream",
          "text": [
            "Weights: (0.2, 0.2, 0.30000000000000004, 0.9, 0.4), F1 Score = 0.6925607423297141\n"
          ]
        },
        {
          "name": "stderr",
          "output_type": "stream",
          "text": [
            "Refining Weights: (0.2, 0.2, 0.4, 0.7000000000000001, 0.2):  36%|███▌      | 277/768 [55:03<1:35:58, 11.73s/it]"
          ]
        },
        {
          "name": "stdout",
          "output_type": "stream",
          "text": [
            "Weights: (0.2, 0.2, 0.4, 0.7000000000000001, 0.1), F1 Score = 0.6813105677132734\n"
          ]
        },
        {
          "name": "stderr",
          "output_type": "stream",
          "text": [
            "Refining Weights: (0.2, 0.2, 0.4, 0.7000000000000001, 0.30000000000000004):  36%|███▌      | 278/768 [55:15<1:36:48, 11.85s/it]"
          ]
        },
        {
          "name": "stdout",
          "output_type": "stream",
          "text": [
            "Weights: (0.2, 0.2, 0.4, 0.7000000000000001, 0.2), F1 Score = 0.678804411517257\n"
          ]
        },
        {
          "name": "stderr",
          "output_type": "stream",
          "text": [
            "Refining Weights: (0.2, 0.2, 0.4, 0.7000000000000001, 0.4):  36%|███▋      | 279/768 [55:27<1:36:56, 11.89s/it]                "
          ]
        },
        {
          "name": "stdout",
          "output_type": "stream",
          "text": [
            "Weights: (0.2, 0.2, 0.4, 0.7000000000000001, 0.30000000000000004), F1 Score = 0.6762895142444316\n"
          ]
        },
        {
          "name": "stderr",
          "output_type": "stream",
          "text": [
            "Refining Weights: (0.2, 0.2, 0.4, 0.8, 0.1):  36%|███▋      | 280/768 [55:39<1:37:04, 11.94s/it]               "
          ]
        },
        {
          "name": "stdout",
          "output_type": "stream",
          "text": [
            "Weights: (0.2, 0.2, 0.4, 0.7000000000000001, 0.4), F1 Score = 0.6730148432404204\n"
          ]
        },
        {
          "name": "stderr",
          "output_type": "stream",
          "text": [
            "Refining Weights: (0.2, 0.2, 0.4, 0.8, 0.2):  37%|███▋      | 281/768 [55:51<1:37:12, 11.98s/it]"
          ]
        },
        {
          "name": "stdout",
          "output_type": "stream",
          "text": [
            "Weights: (0.2, 0.2, 0.4, 0.8, 0.1), F1 Score = 0.6876131467129477\n"
          ]
        },
        {
          "name": "stderr",
          "output_type": "stream",
          "text": [
            "Refining Weights: (0.2, 0.2, 0.4, 0.8, 0.30000000000000004):  37%|███▋      | 282/768 [56:02<1:35:26, 11.78s/it]"
          ]
        },
        {
          "name": "stdout",
          "output_type": "stream",
          "text": [
            "Weights: (0.2, 0.2, 0.4, 0.8, 0.2), F1 Score = 0.6844866780377343\n"
          ]
        },
        {
          "name": "stderr",
          "output_type": "stream",
          "text": [
            "Refining Weights: (0.2, 0.2, 0.4, 0.8, 0.4):  37%|███▋      | 283/768 [56:14<1:34:37, 11.71s/it]                "
          ]
        },
        {
          "name": "stdout",
          "output_type": "stream",
          "text": [
            "Weights: (0.2, 0.2, 0.4, 0.8, 0.30000000000000004), F1 Score = 0.6801704402087991\n"
          ]
        },
        {
          "name": "stderr",
          "output_type": "stream",
          "text": [
            "Refining Weights: (0.2, 0.2, 0.4, 0.9, 0.1):  37%|███▋      | 284/768 [56:26<1:35:13, 11.81s/it]"
          ]
        },
        {
          "name": "stdout",
          "output_type": "stream",
          "text": [
            "Weights: (0.2, 0.2, 0.4, 0.8, 0.4), F1 Score = 0.67649836061168\n"
          ]
        },
        {
          "name": "stderr",
          "output_type": "stream",
          "text": [
            "Refining Weights: (0.2, 0.2, 0.4, 0.9, 0.2):  37%|███▋      | 285/768 [56:38<1:35:50, 11.90s/it]"
          ]
        },
        {
          "name": "stdout",
          "output_type": "stream",
          "text": [
            "Weights: (0.2, 0.2, 0.4, 0.9, 0.1), F1 Score = 0.6923236974720234\n"
          ]
        },
        {
          "name": "stderr",
          "output_type": "stream",
          "text": [
            "Refining Weights: (0.2, 0.2, 0.4, 0.9, 0.30000000000000004):  37%|███▋      | 286/768 [56:50<1:35:56, 11.94s/it]"
          ]
        },
        {
          "name": "stdout",
          "output_type": "stream",
          "text": [
            "Weights: (0.2, 0.2, 0.4, 0.9, 0.2), F1 Score = 0.6906790687994746\n"
          ]
        },
        {
          "name": "stderr",
          "output_type": "stream",
          "text": [
            "Refining Weights: (0.2, 0.2, 0.4, 0.9, 0.4):  37%|███▋      | 287/768 [57:02<1:35:38, 11.93s/it]                "
          ]
        },
        {
          "name": "stdout",
          "output_type": "stream",
          "text": [
            "Weights: (0.2, 0.2, 0.4, 0.9, 0.30000000000000004), F1 Score = 0.6856094321864\n"
          ]
        },
        {
          "name": "stderr",
          "output_type": "stream",
          "text": [
            "Refining Weights: (0.2, 0.30000000000000004, 0.1, 0.7000000000000001, 0.1):  38%|███▊      | 288/768 [57:14<1:35:46, 11.97s/it]"
          ]
        },
        {
          "name": "stdout",
          "output_type": "stream",
          "text": [
            "Weights: (0.2, 0.2, 0.4, 0.9, 0.4), F1 Score = 0.6840364102088258\n"
          ]
        },
        {
          "name": "stderr",
          "output_type": "stream",
          "text": [
            "Refining Weights: (0.2, 0.30000000000000004, 0.1, 0.7000000000000001, 0.2):  38%|███▊      | 289/768 [57:25<1:33:47, 11.75s/it]"
          ]
        },
        {
          "name": "stdout",
          "output_type": "stream",
          "text": [
            "Weights: (0.2, 0.30000000000000004, 0.1, 0.7000000000000001, 0.1), F1 Score = 0.703085034866859\n"
          ]
        },
        {
          "name": "stderr",
          "output_type": "stream",
          "text": [
            "Refining Weights: (0.2, 0.30000000000000004, 0.1, 0.7000000000000001, 0.30000000000000004):  38%|███▊      | 290/768 [57:37<1:33:11, 11.70s/it]"
          ]
        },
        {
          "name": "stdout",
          "output_type": "stream",
          "text": [
            "Weights: (0.2, 0.30000000000000004, 0.1, 0.7000000000000001, 0.2), F1 Score = 0.7010030535938815\n"
          ]
        },
        {
          "name": "stderr",
          "output_type": "stream",
          "text": [
            "Refining Weights: (0.2, 0.30000000000000004, 0.1, 0.7000000000000001, 0.4):  38%|███▊      | 291/768 [57:49<1:33:18, 11.74s/it]                "
          ]
        },
        {
          "name": "stdout",
          "output_type": "stream",
          "text": [
            "Weights: (0.2, 0.30000000000000004, 0.1, 0.7000000000000001, 0.30000000000000004), F1 Score = 0.6958821140556211\n"
          ]
        },
        {
          "name": "stderr",
          "output_type": "stream",
          "text": [
            "Refining Weights: (0.2, 0.30000000000000004, 0.1, 0.8, 0.1):  38%|███▊      | 292/768 [58:01<1:33:44, 11.82s/it]               "
          ]
        },
        {
          "name": "stdout",
          "output_type": "stream",
          "text": [
            "Weights: (0.2, 0.30000000000000004, 0.1, 0.7000000000000001, 0.4), F1 Score = 0.6864384333888972\n"
          ]
        },
        {
          "name": "stderr",
          "output_type": "stream",
          "text": [
            "Refining Weights: (0.2, 0.30000000000000004, 0.1, 0.8, 0.2):  38%|███▊      | 293/768 [58:13<1:33:51, 11.86s/it]"
          ]
        },
        {
          "name": "stdout",
          "output_type": "stream",
          "text": [
            "Weights: (0.2, 0.30000000000000004, 0.1, 0.8, 0.1), F1 Score = 0.7050421142008975\n"
          ]
        },
        {
          "name": "stderr",
          "output_type": "stream",
          "text": [
            "Refining Weights: (0.2, 0.30000000000000004, 0.1, 0.8, 0.30000000000000004):  38%|███▊      | 294/768 [58:25<1:34:03, 11.91s/it]"
          ]
        },
        {
          "name": "stdout",
          "output_type": "stream",
          "text": [
            "Weights: (0.2, 0.30000000000000004, 0.1, 0.8, 0.2), F1 Score = 0.7041230882959824\n"
          ]
        },
        {
          "name": "stderr",
          "output_type": "stream",
          "text": [
            "Refining Weights: (0.2, 0.30000000000000004, 0.1, 0.8, 0.4):  38%|███▊      | 295/768 [58:36<1:33:26, 11.85s/it]                "
          ]
        },
        {
          "name": "stdout",
          "output_type": "stream",
          "text": [
            "Weights: (0.2, 0.30000000000000004, 0.1, 0.8, 0.30000000000000004), F1 Score = 0.7001619577231278\n"
          ]
        },
        {
          "name": "stderr",
          "output_type": "stream",
          "text": [
            "Refining Weights: (0.2, 0.30000000000000004, 0.1, 0.9, 0.1):  39%|███▊      | 296/768 [58:48<1:31:47, 11.67s/it]"
          ]
        },
        {
          "name": "stdout",
          "output_type": "stream",
          "text": [
            "Weights: (0.2, 0.30000000000000004, 0.1, 0.8, 0.4), F1 Score = 0.6981957981333572\n"
          ]
        },
        {
          "name": "stderr",
          "output_type": "stream",
          "text": [
            "Refining Weights: (0.2, 0.30000000000000004, 0.1, 0.9, 0.2):  39%|███▊      | 297/768 [58:59<1:31:34, 11.67s/it]"
          ]
        },
        {
          "name": "stdout",
          "output_type": "stream",
          "text": [
            "Weights: (0.2, 0.30000000000000004, 0.1, 0.9, 0.1), F1 Score = 0.7066927373181321\n"
          ]
        },
        {
          "name": "stderr",
          "output_type": "stream",
          "text": [
            "Refining Weights: (0.2, 0.30000000000000004, 0.1, 0.9, 0.30000000000000004):  39%|███▉      | 298/768 [59:11<1:32:22, 11.79s/it]"
          ]
        },
        {
          "name": "stdout",
          "output_type": "stream",
          "text": [
            "Weights: (0.2, 0.30000000000000004, 0.1, 0.9, 0.2), F1 Score = 0.7083981438159124\n"
          ]
        },
        {
          "name": "stderr",
          "output_type": "stream",
          "text": [
            "Refining Weights: (0.2, 0.30000000000000004, 0.1, 0.9, 0.4):  39%|███▉      | 299/768 [59:23<1:32:33, 11.84s/it]                "
          ]
        },
        {
          "name": "stdout",
          "output_type": "stream",
          "text": [
            "Weights: (0.2, 0.30000000000000004, 0.1, 0.9, 0.30000000000000004), F1 Score = 0.7040721487000242\n"
          ]
        },
        {
          "name": "stderr",
          "output_type": "stream",
          "text": [
            "Refining Weights: (0.2, 0.30000000000000004, 0.2, 0.7000000000000001, 0.1):  39%|███▉      | 300/768 [59:35<1:32:52, 11.91s/it]"
          ]
        },
        {
          "name": "stdout",
          "output_type": "stream",
          "text": [
            "Weights: (0.2, 0.30000000000000004, 0.1, 0.9, 0.4), F1 Score = 0.7008564531283432\n"
          ]
        },
        {
          "name": "stderr",
          "output_type": "stream",
          "text": [
            "Refining Weights: (0.2, 0.30000000000000004, 0.2, 0.7000000000000001, 0.2):  39%|███▉      | 301/768 [59:47<1:32:41, 11.91s/it]"
          ]
        },
        {
          "name": "stdout",
          "output_type": "stream",
          "text": [
            "Weights: (0.2, 0.30000000000000004, 0.2, 0.7000000000000001, 0.1), F1 Score = 0.6992744034482282\n"
          ]
        },
        {
          "name": "stderr",
          "output_type": "stream",
          "text": [
            "Refining Weights: (0.2, 0.30000000000000004, 0.2, 0.7000000000000001, 0.30000000000000004):  39%|███▉      | 302/768 [59:59<1:32:24, 11.90s/it]"
          ]
        },
        {
          "name": "stdout",
          "output_type": "stream",
          "text": [
            "Weights: (0.2, 0.30000000000000004, 0.2, 0.7000000000000001, 0.2), F1 Score = 0.6929818620556337\n"
          ]
        },
        {
          "name": "stderr",
          "output_type": "stream",
          "text": [
            "Refining Weights: (0.2, 0.30000000000000004, 0.2, 0.7000000000000001, 0.4):  39%|███▉      | 303/768 [1:00:11<1:31:04, 11.75s/it]                "
          ]
        },
        {
          "name": "stdout",
          "output_type": "stream",
          "text": [
            "Weights: (0.2, 0.30000000000000004, 0.2, 0.7000000000000001, 0.30000000000000004), F1 Score = 0.6877299306436138\n"
          ]
        },
        {
          "name": "stderr",
          "output_type": "stream",
          "text": [
            "Refining Weights: (0.2, 0.30000000000000004, 0.2, 0.8, 0.1):  40%|███▉      | 304/768 [1:00:22<1:30:28, 11.70s/it]               "
          ]
        },
        {
          "name": "stdout",
          "output_type": "stream",
          "text": [
            "Weights: (0.2, 0.30000000000000004, 0.2, 0.7000000000000001, 0.4), F1 Score = 0.6819135250298425\n"
          ]
        },
        {
          "name": "stderr",
          "output_type": "stream",
          "text": [
            "Refining Weights: (0.2, 0.30000000000000004, 0.2, 0.8, 0.2):  40%|███▉      | 305/768 [1:00:34<1:31:00, 11.79s/it]"
          ]
        },
        {
          "name": "stdout",
          "output_type": "stream",
          "text": [
            "Weights: (0.2, 0.30000000000000004, 0.2, 0.8, 0.1), F1 Score = 0.7023188409319707\n"
          ]
        },
        {
          "name": "stderr",
          "output_type": "stream",
          "text": [
            "Refining Weights: (0.2, 0.30000000000000004, 0.2, 0.8, 0.30000000000000004):  40%|███▉      | 306/768 [1:00:46<1:31:35, 11.90s/it]"
          ]
        },
        {
          "name": "stdout",
          "output_type": "stream",
          "text": [
            "Weights: (0.2, 0.30000000000000004, 0.2, 0.8, 0.2), F1 Score = 0.7022002668351942\n"
          ]
        },
        {
          "name": "stderr",
          "output_type": "stream",
          "text": [
            "Refining Weights: (0.2, 0.30000000000000004, 0.2, 0.8, 0.4):  40%|███▉      | 307/768 [1:00:58<1:31:46, 11.94s/it]                "
          ]
        },
        {
          "name": "stdout",
          "output_type": "stream",
          "text": [
            "Weights: (0.2, 0.30000000000000004, 0.2, 0.8, 0.30000000000000004), F1 Score = 0.6988147019586441\n"
          ]
        },
        {
          "name": "stderr",
          "output_type": "stream",
          "text": [
            "Refining Weights: (0.2, 0.30000000000000004, 0.2, 0.9, 0.1):  40%|████      | 308/768 [1:01:11<1:31:57, 11.99s/it]"
          ]
        },
        {
          "name": "stdout",
          "output_type": "stream",
          "text": [
            "Weights: (0.2, 0.30000000000000004, 0.2, 0.8, 0.4), F1 Score = 0.6911978745515529\n"
          ]
        },
        {
          "name": "stderr",
          "output_type": "stream",
          "text": [
            "Refining Weights: (0.2, 0.30000000000000004, 0.2, 0.9, 0.2):  40%|████      | 309/768 [1:01:22<1:30:27, 11.82s/it]"
          ]
        },
        {
          "name": "stdout",
          "output_type": "stream",
          "text": [
            "Weights: (0.2, 0.30000000000000004, 0.2, 0.9, 0.1), F1 Score = 0.7039800769927339\n"
          ]
        },
        {
          "name": "stderr",
          "output_type": "stream",
          "text": [
            "Refining Weights: (0.2, 0.30000000000000004, 0.2, 0.9, 0.30000000000000004):  40%|████      | 310/768 [1:01:33<1:28:51, 11.64s/it]"
          ]
        },
        {
          "name": "stdout",
          "output_type": "stream",
          "text": [
            "Weights: (0.2, 0.30000000000000004, 0.2, 0.9, 0.2), F1 Score = 0.703722312703583\n"
          ]
        },
        {
          "name": "stderr",
          "output_type": "stream",
          "text": [
            "Refining Weights: (0.2, 0.30000000000000004, 0.2, 0.9, 0.4):  40%|████      | 311/768 [1:01:45<1:29:41, 11.78s/it]                "
          ]
        },
        {
          "name": "stdout",
          "output_type": "stream",
          "text": [
            "Weights: (0.2, 0.30000000000000004, 0.2, 0.9, 0.30000000000000004), F1 Score = 0.7045079010110427\n"
          ]
        },
        {
          "name": "stderr",
          "output_type": "stream",
          "text": [
            "Refining Weights: (0.2, 0.30000000000000004, 0.30000000000000004, 0.7000000000000001, 0.1):  41%|████      | 312/768 [1:01:57<1:29:44, 11.81s/it]"
          ]
        },
        {
          "name": "stdout",
          "output_type": "stream",
          "text": [
            "Weights: (0.2, 0.30000000000000004, 0.2, 0.9, 0.4), F1 Score = 0.7008087414441947\n"
          ]
        },
        {
          "name": "stderr",
          "output_type": "stream",
          "text": [
            "Refining Weights: (0.2, 0.30000000000000004, 0.30000000000000004, 0.7000000000000001, 0.2):  41%|████      | 313/768 [1:02:09<1:30:11, 11.89s/it]"
          ]
        },
        {
          "name": "stdout",
          "output_type": "stream",
          "text": [
            "Weights: (0.2, 0.30000000000000004, 0.30000000000000004, 0.7000000000000001, 0.1), F1 Score = 0.6871440994451558\n"
          ]
        },
        {
          "name": "stderr",
          "output_type": "stream",
          "text": [
            "Refining Weights: (0.2, 0.30000000000000004, 0.30000000000000004, 0.7000000000000001, 0.30000000000000004):  41%|████      | 314/768 [1:02:21<1:30:25, 11.95s/it]"
          ]
        },
        {
          "name": "stdout",
          "output_type": "stream",
          "text": [
            "Weights: (0.2, 0.30000000000000004, 0.30000000000000004, 0.7000000000000001, 0.2), F1 Score = 0.6809001576506073\n"
          ]
        },
        {
          "name": "stderr",
          "output_type": "stream",
          "text": [
            "Refining Weights: (0.2, 0.30000000000000004, 0.30000000000000004, 0.7000000000000001, 0.4):  41%|████      | 315/768 [1:02:33<1:30:07, 11.94s/it]                "
          ]
        },
        {
          "name": "stdout",
          "output_type": "stream",
          "text": [
            "Weights: (0.2, 0.30000000000000004, 0.30000000000000004, 0.7000000000000001, 0.30000000000000004), F1 Score = 0.6791248256624826\n"
          ]
        },
        {
          "name": "stderr",
          "output_type": "stream",
          "text": [
            "Refining Weights: (0.2, 0.30000000000000004, 0.30000000000000004, 0.8, 0.1):  41%|████      | 316/768 [1:02:45<1:28:35, 11.76s/it]               "
          ]
        },
        {
          "name": "stdout",
          "output_type": "stream",
          "text": [
            "Weights: (0.2, 0.30000000000000004, 0.30000000000000004, 0.7000000000000001, 0.4), F1 Score = 0.6768898720606467\n"
          ]
        },
        {
          "name": "stderr",
          "output_type": "stream",
          "text": [
            "Refining Weights: (0.2, 0.30000000000000004, 0.30000000000000004, 0.8, 0.2):  41%|████▏     | 317/768 [1:02:56<1:27:53, 11.69s/it]"
          ]
        },
        {
          "name": "stdout",
          "output_type": "stream",
          "text": [
            "Weights: (0.2, 0.30000000000000004, 0.30000000000000004, 0.8, 0.1), F1 Score = 0.6933153798817454\n"
          ]
        },
        {
          "name": "stderr",
          "output_type": "stream",
          "text": [
            "Refining Weights: (0.2, 0.30000000000000004, 0.30000000000000004, 0.8, 0.30000000000000004):  41%|████▏     | 318/768 [1:03:08<1:28:23, 11.79s/it]"
          ]
        },
        {
          "name": "stdout",
          "output_type": "stream",
          "text": [
            "Weights: (0.2, 0.30000000000000004, 0.30000000000000004, 0.8, 0.2), F1 Score = 0.6912948573462245\n"
          ]
        },
        {
          "name": "stderr",
          "output_type": "stream",
          "text": [
            "Refining Weights: (0.2, 0.30000000000000004, 0.30000000000000004, 0.8, 0.4):  42%|████▏     | 319/768 [1:03:20<1:28:22, 11.81s/it]                "
          ]
        },
        {
          "name": "stdout",
          "output_type": "stream",
          "text": [
            "Weights: (0.2, 0.30000000000000004, 0.30000000000000004, 0.8, 0.30000000000000004), F1 Score = 0.6866987665554544\n"
          ]
        },
        {
          "name": "stderr",
          "output_type": "stream",
          "text": [
            "Refining Weights: (0.2, 0.30000000000000004, 0.30000000000000004, 0.9, 0.1):  42%|████▏     | 320/768 [1:03:32<1:28:08, 11.80s/it]"
          ]
        },
        {
          "name": "stdout",
          "output_type": "stream",
          "text": [
            "Weights: (0.2, 0.30000000000000004, 0.30000000000000004, 0.8, 0.4), F1 Score = 0.681411545680765\n"
          ]
        },
        {
          "name": "stderr",
          "output_type": "stream",
          "text": [
            "Refining Weights: (0.2, 0.30000000000000004, 0.30000000000000004, 0.9, 0.2):  42%|████▏     | 321/768 [1:03:44<1:28:28, 11.87s/it]"
          ]
        },
        {
          "name": "stdout",
          "output_type": "stream",
          "text": [
            "Weights: (0.2, 0.30000000000000004, 0.30000000000000004, 0.9, 0.1), F1 Score = 0.7018811545936203\n"
          ]
        },
        {
          "name": "stderr",
          "output_type": "stream",
          "text": [
            "Refining Weights: (0.2, 0.30000000000000004, 0.30000000000000004, 0.9, 0.30000000000000004):  42%|████▏     | 322/768 [1:03:56<1:27:46, 11.81s/it]"
          ]
        },
        {
          "name": "stdout",
          "output_type": "stream",
          "text": [
            "Weights: (0.2, 0.30000000000000004, 0.30000000000000004, 0.9, 0.2), F1 Score = 0.6981238661919992\n"
          ]
        },
        {
          "name": "stderr",
          "output_type": "stream",
          "text": [
            "Refining Weights: (0.2, 0.30000000000000004, 0.30000000000000004, 0.9, 0.4):  42%|████▏     | 323/768 [1:04:07<1:26:09, 11.62s/it]                "
          ]
        },
        {
          "name": "stdout",
          "output_type": "stream",
          "text": [
            "Weights: (0.2, 0.30000000000000004, 0.30000000000000004, 0.9, 0.30000000000000004), F1 Score = 0.6925103916678061\n"
          ]
        },
        {
          "name": "stderr",
          "output_type": "stream",
          "text": [
            "Refining Weights: (0.2, 0.30000000000000004, 0.4, 0.7000000000000001, 0.1):  42%|████▏     | 324/768 [1:04:19<1:27:16, 11.79s/it] "
          ]
        },
        {
          "name": "stdout",
          "output_type": "stream",
          "text": [
            "Weights: (0.2, 0.30000000000000004, 0.30000000000000004, 0.9, 0.4), F1 Score = 0.6887005103675229\n"
          ]
        },
        {
          "name": "stderr",
          "output_type": "stream",
          "text": [
            "Refining Weights: (0.2, 0.30000000000000004, 0.4, 0.7000000000000001, 0.2):  42%|████▏     | 325/768 [1:04:31<1:27:05, 11.79s/it]"
          ]
        },
        {
          "name": "stdout",
          "output_type": "stream",
          "text": [
            "Weights: (0.2, 0.30000000000000004, 0.4, 0.7000000000000001, 0.1), F1 Score = 0.6808441347711923\n"
          ]
        },
        {
          "name": "stderr",
          "output_type": "stream",
          "text": [
            "Refining Weights: (0.2, 0.30000000000000004, 0.4, 0.7000000000000001, 0.30000000000000004):  42%|████▏     | 326/768 [1:04:43<1:27:26, 11.87s/it]"
          ]
        },
        {
          "name": "stdout",
          "output_type": "stream",
          "text": [
            "Weights: (0.2, 0.30000000000000004, 0.4, 0.7000000000000001, 0.2), F1 Score = 0.6774053752939085\n"
          ]
        },
        {
          "name": "stderr",
          "output_type": "stream",
          "text": [
            "Refining Weights: (0.2, 0.30000000000000004, 0.4, 0.7000000000000001, 0.4):  43%|████▎     | 327/768 [1:04:55<1:27:11, 11.86s/it]                "
          ]
        },
        {
          "name": "stdout",
          "output_type": "stream",
          "text": [
            "Weights: (0.2, 0.30000000000000004, 0.4, 0.7000000000000001, 0.30000000000000004), F1 Score = 0.6743596619980724\n"
          ]
        },
        {
          "name": "stderr",
          "output_type": "stream",
          "text": [
            "Refining Weights: (0.2, 0.30000000000000004, 0.4, 0.8, 0.1):  43%|████▎     | 328/768 [1:05:06<1:26:56, 11.85s/it]               "
          ]
        },
        {
          "name": "stdout",
          "output_type": "stream",
          "text": [
            "Weights: (0.2, 0.30000000000000004, 0.4, 0.7000000000000001, 0.4), F1 Score = 0.6744105330936371\n"
          ]
        },
        {
          "name": "stderr",
          "output_type": "stream",
          "text": [
            "Refining Weights: (0.2, 0.30000000000000004, 0.4, 0.8, 0.2):  43%|████▎     | 329/768 [1:05:18<1:26:47, 11.86s/it]"
          ]
        },
        {
          "name": "stdout",
          "output_type": "stream",
          "text": [
            "Weights: (0.2, 0.30000000000000004, 0.4, 0.8, 0.1), F1 Score = 0.6837514853992559\n"
          ]
        },
        {
          "name": "stderr",
          "output_type": "stream",
          "text": [
            "Refining Weights: (0.2, 0.30000000000000004, 0.4, 0.8, 0.30000000000000004):  43%|████▎     | 330/768 [1:05:30<1:25:14, 11.68s/it]"
          ]
        },
        {
          "name": "stdout",
          "output_type": "stream",
          "text": [
            "Weights: (0.2, 0.30000000000000004, 0.4, 0.8, 0.2), F1 Score = 0.6815087691875822\n"
          ]
        },
        {
          "name": "stderr",
          "output_type": "stream",
          "text": [
            "Refining Weights: (0.2, 0.30000000000000004, 0.4, 0.8, 0.4):  43%|████▎     | 331/768 [1:05:41<1:25:24, 11.73s/it]                "
          ]
        },
        {
          "name": "stdout",
          "output_type": "stream",
          "text": [
            "Weights: (0.2, 0.30000000000000004, 0.4, 0.8, 0.30000000000000004), F1 Score = 0.678065499798216\n"
          ]
        },
        {
          "name": "stderr",
          "output_type": "stream",
          "text": [
            "Refining Weights: (0.2, 0.30000000000000004, 0.4, 0.9, 0.1):  43%|████▎     | 332/768 [1:05:53<1:25:36, 11.78s/it]"
          ]
        },
        {
          "name": "stdout",
          "output_type": "stream",
          "text": [
            "Weights: (0.2, 0.30000000000000004, 0.4, 0.8, 0.4), F1 Score = 0.6762734585326328\n"
          ]
        },
        {
          "name": "stderr",
          "output_type": "stream",
          "text": [
            "Refining Weights: (0.2, 0.30000000000000004, 0.4, 0.9, 0.2):  43%|████▎     | 333/768 [1:06:05<1:25:34, 11.80s/it]"
          ]
        },
        {
          "name": "stdout",
          "output_type": "stream",
          "text": [
            "Weights: (0.2, 0.30000000000000004, 0.4, 0.9, 0.1), F1 Score = 0.6913222998772932\n"
          ]
        },
        {
          "name": "stderr",
          "output_type": "stream",
          "text": [
            "Refining Weights: (0.2, 0.30000000000000004, 0.4, 0.9, 0.30000000000000004):  43%|████▎     | 334/768 [1:06:17<1:25:43, 11.85s/it]"
          ]
        },
        {
          "name": "stdout",
          "output_type": "stream",
          "text": [
            "Weights: (0.2, 0.30000000000000004, 0.4, 0.9, 0.2), F1 Score = 0.6869409299842139\n"
          ]
        },
        {
          "name": "stderr",
          "output_type": "stream",
          "text": [
            "Refining Weights: (0.2, 0.30000000000000004, 0.4, 0.9, 0.4):  44%|████▎     | 335/768 [1:06:29<1:25:28, 11.85s/it]                "
          ]
        },
        {
          "name": "stdout",
          "output_type": "stream",
          "text": [
            "Weights: (0.2, 0.30000000000000004, 0.4, 0.9, 0.30000000000000004), F1 Score = 0.6832814807341969\n"
          ]
        },
        {
          "name": "stderr",
          "output_type": "stream",
          "text": [
            "Refining Weights: (0.2, 0.4, 0.1, 0.7000000000000001, 0.1):  44%|████▍     | 336/768 [1:06:41<1:24:48, 11.78s/it] "
          ]
        },
        {
          "name": "stdout",
          "output_type": "stream",
          "text": [
            "Weights: (0.2, 0.30000000000000004, 0.4, 0.9, 0.4), F1 Score = 0.6805926735306049\n"
          ]
        },
        {
          "name": "stderr",
          "output_type": "stream",
          "text": [
            "Refining Weights: (0.2, 0.4, 0.1, 0.7000000000000001, 0.2):  44%|████▍     | 337/768 [1:06:52<1:23:21, 11.60s/it]"
          ]
        },
        {
          "name": "stdout",
          "output_type": "stream",
          "text": [
            "Weights: (0.2, 0.4, 0.1, 0.7000000000000001, 0.1), F1 Score = 0.6980490437973191\n"
          ]
        },
        {
          "name": "stderr",
          "output_type": "stream",
          "text": [
            "Refining Weights: (0.2, 0.4, 0.1, 0.7000000000000001, 0.30000000000000004):  44%|████▍     | 338/768 [1:07:04<1:24:06, 11.73s/it]"
          ]
        },
        {
          "name": "stdout",
          "output_type": "stream",
          "text": [
            "Weights: (0.2, 0.4, 0.1, 0.7000000000000001, 0.2), F1 Score = 0.6897135688180097\n"
          ]
        },
        {
          "name": "stderr",
          "output_type": "stream",
          "text": [
            "Refining Weights: (0.2, 0.4, 0.1, 0.7000000000000001, 0.4):  44%|████▍     | 339/768 [1:07:16<1:24:44, 11.85s/it]                "
          ]
        },
        {
          "name": "stdout",
          "output_type": "stream",
          "text": [
            "Weights: (0.2, 0.4, 0.1, 0.7000000000000001, 0.30000000000000004), F1 Score = 0.6826887414140623\n"
          ]
        },
        {
          "name": "stderr",
          "output_type": "stream",
          "text": [
            "Refining Weights: (0.2, 0.4, 0.1, 0.8, 0.1):  44%|████▍     | 340/768 [1:07:28<1:24:59, 11.91s/it]               "
          ]
        },
        {
          "name": "stdout",
          "output_type": "stream",
          "text": [
            "Weights: (0.2, 0.4, 0.1, 0.7000000000000001, 0.4), F1 Score = 0.6770211058950285\n"
          ]
        },
        {
          "name": "stderr",
          "output_type": "stream",
          "text": [
            "Refining Weights: (0.2, 0.4, 0.1, 0.8, 0.2):  44%|████▍     | 341/768 [1:07:40<1:24:41, 11.90s/it]"
          ]
        },
        {
          "name": "stdout",
          "output_type": "stream",
          "text": [
            "Weights: (0.2, 0.4, 0.1, 0.8, 0.1), F1 Score = 0.7007522792082824\n"
          ]
        },
        {
          "name": "stderr",
          "output_type": "stream",
          "text": [
            "Refining Weights: (0.2, 0.4, 0.1, 0.8, 0.30000000000000004):  45%|████▍     | 342/768 [1:07:52<1:24:32, 11.91s/it]"
          ]
        },
        {
          "name": "stdout",
          "output_type": "stream",
          "text": [
            "Weights: (0.2, 0.4, 0.1, 0.8, 0.2), F1 Score = 0.7006965947261591\n"
          ]
        },
        {
          "name": "stderr",
          "output_type": "stream",
          "text": [
            "Refining Weights: (0.2, 0.4, 0.1, 0.8, 0.4):  45%|████▍     | 343/768 [1:08:03<1:23:06, 11.73s/it]                "
          ]
        },
        {
          "name": "stdout",
          "output_type": "stream",
          "text": [
            "Weights: (0.2, 0.4, 0.1, 0.8, 0.30000000000000004), F1 Score = 0.6951311829086673\n"
          ]
        },
        {
          "name": "stderr",
          "output_type": "stream",
          "text": [
            "Refining Weights: (0.2, 0.4, 0.1, 0.9, 0.1):  45%|████▍     | 344/768 [1:08:15<1:22:15, 11.64s/it]"
          ]
        },
        {
          "name": "stdout",
          "output_type": "stream",
          "text": [
            "Weights: (0.2, 0.4, 0.1, 0.8, 0.4), F1 Score = 0.6877705088764212\n"
          ]
        },
        {
          "name": "stderr",
          "output_type": "stream",
          "text": [
            "Refining Weights: (0.2, 0.4, 0.1, 0.9, 0.2):  45%|████▍     | 345/768 [1:08:26<1:22:47, 11.74s/it]"
          ]
        },
        {
          "name": "stdout",
          "output_type": "stream",
          "text": [
            "Weights: (0.2, 0.4, 0.1, 0.9, 0.1), F1 Score = 0.7050123660619563\n"
          ]
        },
        {
          "name": "stderr",
          "output_type": "stream",
          "text": [
            "Refining Weights: (0.2, 0.4, 0.1, 0.9, 0.30000000000000004):  45%|████▌     | 346/768 [1:08:39<1:23:14, 11.84s/it]"
          ]
        },
        {
          "name": "stdout",
          "output_type": "stream",
          "text": [
            "Weights: (0.2, 0.4, 0.1, 0.9, 0.2), F1 Score = 0.70161343684034\n"
          ]
        },
        {
          "name": "stderr",
          "output_type": "stream",
          "text": [
            "Refining Weights: (0.2, 0.4, 0.1, 0.9, 0.4):  45%|████▌     | 347/768 [1:08:51<1:23:28, 11.90s/it]                "
          ]
        },
        {
          "name": "stdout",
          "output_type": "stream",
          "text": [
            "Weights: (0.2, 0.4, 0.1, 0.9, 0.30000000000000004), F1 Score = 0.6989742179014654\n"
          ]
        },
        {
          "name": "stderr",
          "output_type": "stream",
          "text": [
            "Refining Weights: (0.2, 0.4, 0.2, 0.7000000000000001, 0.1):  45%|████▌     | 348/768 [1:09:03<1:23:36, 11.94s/it]"
          ]
        },
        {
          "name": "stdout",
          "output_type": "stream",
          "text": [
            "Weights: (0.2, 0.4, 0.1, 0.9, 0.4), F1 Score = 0.6994909619387858\n"
          ]
        },
        {
          "name": "stderr",
          "output_type": "stream",
          "text": [
            "Refining Weights: (0.2, 0.4, 0.2, 0.7000000000000001, 0.2):  45%|████▌     | 349/768 [1:09:14<1:22:42, 11.84s/it]"
          ]
        },
        {
          "name": "stdout",
          "output_type": "stream",
          "text": [
            "Weights: (0.2, 0.4, 0.2, 0.7000000000000001, 0.1), F1 Score = 0.6919837638927171\n"
          ]
        },
        {
          "name": "stderr",
          "output_type": "stream",
          "text": [
            "Refining Weights: (0.2, 0.4, 0.2, 0.7000000000000001, 0.30000000000000004):  46%|████▌     | 350/768 [1:09:26<1:21:16, 11.67s/it]"
          ]
        },
        {
          "name": "stdout",
          "output_type": "stream",
          "text": [
            "Weights: (0.2, 0.4, 0.2, 0.7000000000000001, 0.2), F1 Score = 0.6881074335213141\n"
          ]
        },
        {
          "name": "stderr",
          "output_type": "stream",
          "text": [
            "Refining Weights: (0.2, 0.4, 0.2, 0.7000000000000001, 0.4):  46%|████▌     | 351/768 [1:09:37<1:21:43, 11.76s/it]                "
          ]
        },
        {
          "name": "stdout",
          "output_type": "stream",
          "text": [
            "Weights: (0.2, 0.4, 0.2, 0.7000000000000001, 0.30000000000000004), F1 Score = 0.6788641804788214\n"
          ]
        },
        {
          "name": "stderr",
          "output_type": "stream",
          "text": [
            "Refining Weights: (0.2, 0.4, 0.2, 0.8, 0.1):  46%|████▌     | 352/768 [1:09:50<1:22:19, 11.87s/it]               "
          ]
        },
        {
          "name": "stdout",
          "output_type": "stream",
          "text": [
            "Weights: (0.2, 0.4, 0.2, 0.7000000000000001, 0.4), F1 Score = 0.6691803055547755\n"
          ]
        },
        {
          "name": "stderr",
          "output_type": "stream",
          "text": [
            "Refining Weights: (0.2, 0.4, 0.2, 0.8, 0.2):  46%|████▌     | 353/768 [1:10:02<1:22:47, 11.97s/it]"
          ]
        },
        {
          "name": "stdout",
          "output_type": "stream",
          "text": [
            "Weights: (0.2, 0.4, 0.2, 0.8, 0.1), F1 Score = 0.6992531004460706\n"
          ]
        },
        {
          "name": "stderr",
          "output_type": "stream",
          "text": [
            "Refining Weights: (0.2, 0.4, 0.2, 0.8, 0.30000000000000004):  46%|████▌     | 354/768 [1:10:14<1:22:59, 12.03s/it]"
          ]
        },
        {
          "name": "stdout",
          "output_type": "stream",
          "text": [
            "Weights: (0.2, 0.4, 0.2, 0.8, 0.2), F1 Score = 0.6970066433278572\n"
          ]
        },
        {
          "name": "stderr",
          "output_type": "stream",
          "text": [
            "Refining Weights: (0.2, 0.4, 0.2, 0.8, 0.4):  46%|████▌     | 355/768 [1:10:26<1:22:35, 12.00s/it]                "
          ]
        },
        {
          "name": "stdout",
          "output_type": "stream",
          "text": [
            "Weights: (0.2, 0.4, 0.2, 0.8, 0.30000000000000004), F1 Score = 0.69133680079674\n"
          ]
        },
        {
          "name": "stderr",
          "output_type": "stream",
          "text": [
            "Refining Weights: (0.2, 0.4, 0.2, 0.9, 0.1):  46%|████▋     | 356/768 [1:10:37<1:21:07, 11.82s/it]"
          ]
        },
        {
          "name": "stdout",
          "output_type": "stream",
          "text": [
            "Weights: (0.2, 0.4, 0.2, 0.8, 0.4), F1 Score = 0.6838226496780873\n"
          ]
        },
        {
          "name": "stderr",
          "output_type": "stream",
          "text": [
            "Refining Weights: (0.2, 0.4, 0.2, 0.9, 0.2):  46%|████▋     | 357/768 [1:10:49<1:20:26, 11.74s/it]"
          ]
        },
        {
          "name": "stdout",
          "output_type": "stream",
          "text": [
            "Weights: (0.2, 0.4, 0.2, 0.9, 0.1), F1 Score = 0.7021744115526013\n"
          ]
        },
        {
          "name": "stderr",
          "output_type": "stream",
          "text": [
            "Refining Weights: (0.2, 0.4, 0.2, 0.9, 0.30000000000000004):  47%|████▋     | 358/768 [1:11:01<1:20:35, 11.79s/it]"
          ]
        },
        {
          "name": "stdout",
          "output_type": "stream",
          "text": [
            "Weights: (0.2, 0.4, 0.2, 0.9, 0.2), F1 Score = 0.7018220767538125\n"
          ]
        },
        {
          "name": "stderr",
          "output_type": "stream",
          "text": [
            "Refining Weights: (0.2, 0.4, 0.2, 0.9, 0.4):  47%|████▋     | 359/768 [1:11:13<1:21:13, 11.92s/it]                "
          ]
        },
        {
          "name": "stdout",
          "output_type": "stream",
          "text": [
            "Weights: (0.2, 0.4, 0.2, 0.9, 0.30000000000000004), F1 Score = 0.6983812459974523\n"
          ]
        },
        {
          "name": "stderr",
          "output_type": "stream",
          "text": [
            "Refining Weights: (0.2, 0.4, 0.30000000000000004, 0.7000000000000001, 0.1):  47%|████▋     | 360/768 [1:11:25<1:21:25, 11.97s/it]"
          ]
        },
        {
          "name": "stdout",
          "output_type": "stream",
          "text": [
            "Weights: (0.2, 0.4, 0.2, 0.9, 0.4), F1 Score = 0.6927508138502516\n"
          ]
        },
        {
          "name": "stderr",
          "output_type": "stream",
          "text": [
            "Refining Weights: (0.2, 0.4, 0.30000000000000004, 0.7000000000000001, 0.2):  47%|████▋     | 361/768 [1:11:37<1:21:29, 12.01s/it]"
          ]
        },
        {
          "name": "stdout",
          "output_type": "stream",
          "text": [
            "Weights: (0.2, 0.4, 0.30000000000000004, 0.7000000000000001, 0.1), F1 Score = 0.6815611010893099\n"
          ]
        },
        {
          "name": "stderr",
          "output_type": "stream",
          "text": [
            "Refining Weights: (0.2, 0.4, 0.30000000000000004, 0.7000000000000001, 0.30000000000000004):  47%|████▋     | 362/768 [1:11:49<1:21:04, 11.98s/it]"
          ]
        },
        {
          "name": "stdout",
          "output_type": "stream",
          "text": [
            "Weights: (0.2, 0.4, 0.30000000000000004, 0.7000000000000001, 0.2), F1 Score = 0.678338808051932\n"
          ]
        },
        {
          "name": "stderr",
          "output_type": "stream",
          "text": [
            "Refining Weights: (0.2, 0.4, 0.30000000000000004, 0.7000000000000001, 0.4):  47%|████▋     | 363/768 [1:12:00<1:19:20, 11.75s/it]                "
          ]
        },
        {
          "name": "stdout",
          "output_type": "stream",
          "text": [
            "Weights: (0.2, 0.4, 0.30000000000000004, 0.7000000000000001, 0.30000000000000004), F1 Score = 0.6752686725383387\n"
          ]
        },
        {
          "name": "stderr",
          "output_type": "stream",
          "text": [
            "Refining Weights: (0.2, 0.4, 0.30000000000000004, 0.8, 0.1):  47%|████▋     | 364/768 [1:12:12<1:19:07, 11.75s/it]               "
          ]
        },
        {
          "name": "stdout",
          "output_type": "stream",
          "text": [
            "Weights: (0.2, 0.4, 0.30000000000000004, 0.7000000000000001, 0.4), F1 Score = 0.6722073690273569\n"
          ]
        },
        {
          "name": "stderr",
          "output_type": "stream",
          "text": [
            "Refining Weights: (0.2, 0.4, 0.30000000000000004, 0.8, 0.2):  48%|████▊     | 365/768 [1:12:24<1:19:26, 11.83s/it]"
          ]
        },
        {
          "name": "stdout",
          "output_type": "stream",
          "text": [
            "Weights: (0.2, 0.4, 0.30000000000000004, 0.8, 0.1), F1 Score = 0.6891531956905661\n"
          ]
        },
        {
          "name": "stderr",
          "output_type": "stream",
          "text": [
            "Refining Weights: (0.2, 0.4, 0.30000000000000004, 0.8, 0.30000000000000004):  48%|████▊     | 366/768 [1:12:36<1:19:42, 11.90s/it]"
          ]
        },
        {
          "name": "stdout",
          "output_type": "stream",
          "text": [
            "Weights: (0.2, 0.4, 0.30000000000000004, 0.8, 0.2), F1 Score = 0.6865822712314943\n"
          ]
        },
        {
          "name": "stderr",
          "output_type": "stream",
          "text": [
            "Refining Weights: (0.2, 0.4, 0.30000000000000004, 0.8, 0.4):  48%|████▊     | 367/768 [1:12:48<1:19:34, 11.91s/it]                "
          ]
        },
        {
          "name": "stdout",
          "output_type": "stream",
          "text": [
            "Weights: (0.2, 0.4, 0.30000000000000004, 0.8, 0.30000000000000004), F1 Score = 0.6811105336105336\n"
          ]
        },
        {
          "name": "stderr",
          "output_type": "stream",
          "text": [
            "Refining Weights: (0.2, 0.4, 0.30000000000000004, 0.9, 0.1):  48%|████▊     | 368/768 [1:13:00<1:19:42, 11.96s/it]"
          ]
        },
        {
          "name": "stdout",
          "output_type": "stream",
          "text": [
            "Weights: (0.2, 0.4, 0.30000000000000004, 0.8, 0.4), F1 Score = 0.6768952953577118\n"
          ]
        },
        {
          "name": "stderr",
          "output_type": "stream",
          "text": [
            "Refining Weights: (0.2, 0.4, 0.30000000000000004, 0.9, 0.2):  48%|████▊     | 369/768 [1:13:12<1:18:41, 11.83s/it]"
          ]
        },
        {
          "name": "stdout",
          "output_type": "stream",
          "text": [
            "Weights: (0.2, 0.4, 0.30000000000000004, 0.9, 0.1), F1 Score = 0.6985562510128017\n"
          ]
        },
        {
          "name": "stderr",
          "output_type": "stream",
          "text": [
            "Refining Weights: (0.2, 0.4, 0.30000000000000004, 0.9, 0.30000000000000004):  48%|████▊     | 370/768 [1:13:23<1:17:32, 11.69s/it]"
          ]
        },
        {
          "name": "stdout",
          "output_type": "stream",
          "text": [
            "Weights: (0.2, 0.4, 0.30000000000000004, 0.9, 0.2), F1 Score = 0.6919986631016043\n"
          ]
        },
        {
          "name": "stderr",
          "output_type": "stream",
          "text": [
            "Refining Weights: (0.2, 0.4, 0.30000000000000004, 0.9, 0.4):  48%|████▊     | 371/768 [1:13:35<1:18:03, 11.80s/it]                "
          ]
        },
        {
          "name": "stdout",
          "output_type": "stream",
          "text": [
            "Weights: (0.2, 0.4, 0.30000000000000004, 0.9, 0.30000000000000004), F1 Score = 0.6886073581919722\n"
          ]
        },
        {
          "name": "stderr",
          "output_type": "stream",
          "text": [
            "Refining Weights: (0.2, 0.4, 0.4, 0.7000000000000001, 0.1):  48%|████▊     | 372/768 [1:13:47<1:18:29, 11.89s/it] "
          ]
        },
        {
          "name": "stdout",
          "output_type": "stream",
          "text": [
            "Weights: (0.2, 0.4, 0.30000000000000004, 0.9, 0.4), F1 Score = 0.684612585151545\n"
          ]
        },
        {
          "name": "stderr",
          "output_type": "stream",
          "text": [
            "Refining Weights: (0.2, 0.4, 0.4, 0.7000000000000001, 0.2):  49%|████▊     | 373/768 [1:13:59<1:18:37, 11.94s/it]"
          ]
        },
        {
          "name": "stdout",
          "output_type": "stream",
          "text": [
            "Weights: (0.2, 0.4, 0.4, 0.7000000000000001, 0.1), F1 Score = 0.6775707106124357\n"
          ]
        },
        {
          "name": "stderr",
          "output_type": "stream",
          "text": [
            "Refining Weights: (0.2, 0.4, 0.4, 0.7000000000000001, 0.30000000000000004):  49%|████▊     | 374/768 [1:14:11<1:18:25, 11.94s/it]"
          ]
        },
        {
          "name": "stdout",
          "output_type": "stream",
          "text": [
            "Weights: (0.2, 0.4, 0.4, 0.7000000000000001, 0.2), F1 Score = 0.6752571350379233\n"
          ]
        },
        {
          "name": "stderr",
          "output_type": "stream",
          "text": [
            "Refining Weights: (0.2, 0.4, 0.4, 0.7000000000000001, 0.4):  49%|████▉     | 375/768 [1:14:24<1:19:40, 12.16s/it]                "
          ]
        },
        {
          "name": "stdout",
          "output_type": "stream",
          "text": [
            "Weights: (0.2, 0.4, 0.4, 0.7000000000000001, 0.30000000000000004), F1 Score = 0.672915779032777\n"
          ]
        },
        {
          "name": "stderr",
          "output_type": "stream",
          "text": [
            "Refining Weights: (0.2, 0.4, 0.4, 0.8, 0.1):  49%|████▉     | 376/768 [1:14:35<1:17:32, 11.87s/it]               "
          ]
        },
        {
          "name": "stdout",
          "output_type": "stream",
          "text": [
            "Weights: (0.2, 0.4, 0.4, 0.7000000000000001, 0.4), F1 Score = 0.669740197625849\n"
          ]
        },
        {
          "name": "stderr",
          "output_type": "stream",
          "text": [
            "Refining Weights: (0.2, 0.4, 0.4, 0.8, 0.2):  49%|████▉     | 377/768 [1:14:47<1:17:06, 11.83s/it]"
          ]
        },
        {
          "name": "stdout",
          "output_type": "stream",
          "text": [
            "Weights: (0.2, 0.4, 0.4, 0.8, 0.1), F1 Score = 0.6811851835322229\n"
          ]
        },
        {
          "name": "stderr",
          "output_type": "stream",
          "text": [
            "Refining Weights: (0.2, 0.4, 0.4, 0.8, 0.30000000000000004):  49%|████▉     | 378/768 [1:14:59<1:17:21, 11.90s/it]"
          ]
        },
        {
          "name": "stdout",
          "output_type": "stream",
          "text": [
            "Weights: (0.2, 0.4, 0.4, 0.8, 0.2), F1 Score = 0.6784573724668064\n"
          ]
        },
        {
          "name": "stderr",
          "output_type": "stream",
          "text": [
            "Refining Weights: (0.2, 0.4, 0.4, 0.8, 0.4):  49%|████▉     | 379/768 [1:15:11<1:17:30, 11.96s/it]                "
          ]
        },
        {
          "name": "stdout",
          "output_type": "stream",
          "text": [
            "Weights: (0.2, 0.4, 0.4, 0.8, 0.30000000000000004), F1 Score = 0.6761980471498944\n"
          ]
        },
        {
          "name": "stderr",
          "output_type": "stream",
          "text": [
            "Refining Weights: (0.2, 0.4, 0.4, 0.9, 0.1):  49%|████▉     | 380/768 [1:15:23<1:17:32, 11.99s/it]"
          ]
        },
        {
          "name": "stdout",
          "output_type": "stream",
          "text": [
            "Weights: (0.2, 0.4, 0.4, 0.8, 0.4), F1 Score = 0.6747908203782937\n"
          ]
        },
        {
          "name": "stderr",
          "output_type": "stream",
          "text": [
            "Refining Weights: (0.2, 0.4, 0.4, 0.9, 0.2):  50%|████▉     | 381/768 [1:15:35<1:17:10, 11.97s/it]"
          ]
        },
        {
          "name": "stdout",
          "output_type": "stream",
          "text": [
            "Weights: (0.2, 0.4, 0.4, 0.9, 0.1), F1 Score = 0.6878211190796354\n"
          ]
        },
        {
          "name": "stderr",
          "output_type": "stream",
          "text": [
            "Refining Weights: (0.2, 0.4, 0.4, 0.9, 0.30000000000000004):  50%|████▉     | 382/768 [1:15:47<1:16:22, 11.87s/it]"
          ]
        },
        {
          "name": "stdout",
          "output_type": "stream",
          "text": [
            "Weights: (0.2, 0.4, 0.4, 0.9, 0.2), F1 Score = 0.6816303114958281\n"
          ]
        },
        {
          "name": "stderr",
          "output_type": "stream",
          "text": [
            "Refining Weights: (0.2, 0.4, 0.4, 0.9, 0.4):  50%|████▉     | 383/768 [1:15:58<1:14:40, 11.64s/it]                "
          ]
        },
        {
          "name": "stdout",
          "output_type": "stream",
          "text": [
            "Weights: (0.2, 0.4, 0.4, 0.9, 0.30000000000000004), F1 Score = 0.6819052451477003\n"
          ]
        },
        {
          "name": "stderr",
          "output_type": "stream",
          "text": [
            "Refining Weights: (0.30000000000000004, 0.1, 0.1, 0.7000000000000001, 0.1):  50%|█████     | 384/768 [1:16:10<1:15:18, 11.77s/it]"
          ]
        },
        {
          "name": "stdout",
          "output_type": "stream",
          "text": [
            "Weights: (0.2, 0.4, 0.4, 0.9, 0.4), F1 Score = 0.6778105263157894\n"
          ]
        },
        {
          "name": "stderr",
          "output_type": "stream",
          "text": [
            "Refining Weights: (0.30000000000000004, 0.1, 0.1, 0.7000000000000001, 0.2):  50%|█████     | 385/768 [1:16:22<1:15:31, 11.83s/it]"
          ]
        },
        {
          "name": "stdout",
          "output_type": "stream",
          "text": [
            "Weights: (0.30000000000000004, 0.1, 0.1, 0.7000000000000001, 0.1), F1 Score = 0.7073321593034061\n"
          ]
        },
        {
          "name": "stderr",
          "output_type": "stream",
          "text": [
            "Refining Weights: (0.30000000000000004, 0.1, 0.1, 0.7000000000000001, 0.30000000000000004):  50%|█████     | 386/768 [1:16:34<1:15:32, 11.87s/it]"
          ]
        },
        {
          "name": "stdout",
          "output_type": "stream",
          "text": [
            "Weights: (0.30000000000000004, 0.1, 0.1, 0.7000000000000001, 0.2), F1 Score = 0.7084823773581599\n"
          ]
        },
        {
          "name": "stderr",
          "output_type": "stream",
          "text": [
            "Refining Weights: (0.30000000000000004, 0.1, 0.1, 0.7000000000000001, 0.4):  50%|█████     | 387/768 [1:16:46<1:15:50, 11.94s/it]                "
          ]
        },
        {
          "name": "stdout",
          "output_type": "stream",
          "text": [
            "Weights: (0.30000000000000004, 0.1, 0.1, 0.7000000000000001, 0.30000000000000004), F1 Score = 0.7020342204466741\n"
          ]
        },
        {
          "name": "stderr",
          "output_type": "stream",
          "text": [
            "Refining Weights: (0.30000000000000004, 0.1, 0.1, 0.8, 0.1):  51%|█████     | 388/768 [1:16:58<1:15:20, 11.90s/it]               "
          ]
        },
        {
          "name": "stdout",
          "output_type": "stream",
          "text": [
            "Weights: (0.30000000000000004, 0.1, 0.1, 0.7000000000000001, 0.4), F1 Score = 0.6981090216609533\n"
          ]
        },
        {
          "name": "stderr",
          "output_type": "stream",
          "text": [
            "Refining Weights: (0.30000000000000004, 0.1, 0.1, 0.8, 0.2):  51%|█████     | 389/768 [1:17:09<1:13:51, 11.69s/it]"
          ]
        },
        {
          "name": "stdout",
          "output_type": "stream",
          "text": [
            "Weights: (0.30000000000000004, 0.1, 0.1, 0.8, 0.1), F1 Score = 0.7096912900464847\n"
          ]
        },
        {
          "name": "stderr",
          "output_type": "stream",
          "text": [
            "Refining Weights: (0.30000000000000004, 0.1, 0.1, 0.8, 0.30000000000000004):  51%|█████     | 390/768 [1:17:21<1:14:03, 11.76s/it]"
          ]
        },
        {
          "name": "stdout",
          "output_type": "stream",
          "text": [
            "Weights: (0.30000000000000004, 0.1, 0.1, 0.8, 0.2), F1 Score = 0.7091331176015047\n"
          ]
        },
        {
          "name": "stderr",
          "output_type": "stream",
          "text": [
            "Refining Weights: (0.30000000000000004, 0.1, 0.1, 0.8, 0.4):  51%|█████     | 391/768 [1:17:33<1:14:14, 11.82s/it]                "
          ]
        },
        {
          "name": "stdout",
          "output_type": "stream",
          "text": [
            "Weights: (0.30000000000000004, 0.1, 0.1, 0.8, 0.30000000000000004), F1 Score = 0.7068644753052489\n"
          ]
        },
        {
          "name": "stderr",
          "output_type": "stream",
          "text": [
            "Refining Weights: (0.30000000000000004, 0.1, 0.1, 0.9, 0.1):  51%|█████     | 392/768 [1:17:45<1:14:30, 11.89s/it]"
          ]
        },
        {
          "name": "stdout",
          "output_type": "stream",
          "text": [
            "Weights: (0.30000000000000004, 0.1, 0.1, 0.8, 0.4), F1 Score = 0.7038409457899267\n"
          ]
        },
        {
          "name": "stderr",
          "output_type": "stream",
          "text": [
            "Refining Weights: (0.30000000000000004, 0.1, 0.1, 0.9, 0.2):  51%|█████     | 393/768 [1:17:57<1:14:28, 11.92s/it]"
          ]
        },
        {
          "name": "stdout",
          "output_type": "stream",
          "text": [
            "Weights: (0.30000000000000004, 0.1, 0.1, 0.9, 0.1), F1 Score = 0.7068625959727655\n"
          ]
        },
        {
          "name": "stderr",
          "output_type": "stream",
          "text": [
            "Refining Weights: (0.30000000000000004, 0.1, 0.1, 0.9, 0.30000000000000004):  51%|█████▏    | 394/768 [1:18:09<1:14:34, 11.96s/it]"
          ]
        },
        {
          "name": "stdout",
          "output_type": "stream",
          "text": [
            "Weights: (0.30000000000000004, 0.1, 0.1, 0.9, 0.2), F1 Score = 0.7089896528301571\n"
          ]
        },
        {
          "name": "stderr",
          "output_type": "stream",
          "text": [
            "Refining Weights: (0.30000000000000004, 0.1, 0.1, 0.9, 0.4):  51%|█████▏    | 395/768 [1:18:20<1:13:05, 11.76s/it]                "
          ]
        },
        {
          "name": "stdout",
          "output_type": "stream",
          "text": [
            "Weights: (0.30000000000000004, 0.1, 0.1, 0.9, 0.30000000000000004), F1 Score = 0.7101108936891148\n"
          ]
        },
        {
          "name": "stderr",
          "output_type": "stream",
          "text": [
            "Refining Weights: (0.30000000000000004, 0.1, 0.2, 0.7000000000000001, 0.1):  52%|█████▏    | 396/768 [1:18:31<1:12:18, 11.66s/it]"
          ]
        },
        {
          "name": "stdout",
          "output_type": "stream",
          "text": [
            "Weights: (0.30000000000000004, 0.1, 0.1, 0.9, 0.4), F1 Score = 0.7074804707568577\n"
          ]
        },
        {
          "name": "stderr",
          "output_type": "stream",
          "text": [
            "Refining Weights: (0.30000000000000004, 0.1, 0.2, 0.7000000000000001, 0.2):  52%|█████▏    | 397/768 [1:18:43<1:12:40, 11.75s/it]"
          ]
        },
        {
          "name": "stdout",
          "output_type": "stream",
          "text": [
            "Weights: (0.30000000000000004, 0.1, 0.2, 0.7000000000000001, 0.1), F1 Score = 0.7034223777870077\n"
          ]
        },
        {
          "name": "stderr",
          "output_type": "stream",
          "text": [
            "Refining Weights: (0.30000000000000004, 0.1, 0.2, 0.7000000000000001, 0.30000000000000004):  52%|█████▏    | 398/768 [1:18:55<1:12:34, 11.77s/it]"
          ]
        },
        {
          "name": "stdout",
          "output_type": "stream",
          "text": [
            "Weights: (0.30000000000000004, 0.1, 0.2, 0.7000000000000001, 0.2), F1 Score = 0.7025559189867636\n"
          ]
        },
        {
          "name": "stderr",
          "output_type": "stream",
          "text": [
            "Refining Weights: (0.30000000000000004, 0.1, 0.2, 0.7000000000000001, 0.4):  52%|█████▏    | 399/768 [1:19:07<1:12:34, 11.80s/it]                "
          ]
        },
        {
          "name": "stdout",
          "output_type": "stream",
          "text": [
            "Weights: (0.30000000000000004, 0.1, 0.2, 0.7000000000000001, 0.30000000000000004), F1 Score = 0.6926268321795177\n"
          ]
        },
        {
          "name": "stderr",
          "output_type": "stream",
          "text": [
            "Refining Weights: (0.30000000000000004, 0.1, 0.2, 0.8, 0.1):  52%|█████▏    | 400/768 [1:19:19<1:12:41, 11.85s/it]               "
          ]
        },
        {
          "name": "stdout",
          "output_type": "stream",
          "text": [
            "Weights: (0.30000000000000004, 0.1, 0.2, 0.7000000000000001, 0.4), F1 Score = 0.6867750464596816\n"
          ]
        },
        {
          "name": "stderr",
          "output_type": "stream",
          "text": [
            "Refining Weights: (0.30000000000000004, 0.1, 0.2, 0.8, 0.2):  52%|█████▏    | 401/768 [1:19:31<1:12:36, 11.87s/it]"
          ]
        },
        {
          "name": "stdout",
          "output_type": "stream",
          "text": [
            "Weights: (0.30000000000000004, 0.1, 0.2, 0.8, 0.1), F1 Score = 0.7050373579234471\n"
          ]
        },
        {
          "name": "stderr",
          "output_type": "stream",
          "text": [
            "Refining Weights: (0.30000000000000004, 0.1, 0.2, 0.8, 0.30000000000000004):  52%|█████▏    | 402/768 [1:19:42<1:11:35, 11.74s/it]"
          ]
        },
        {
          "name": "stdout",
          "output_type": "stream",
          "text": [
            "Weights: (0.30000000000000004, 0.1, 0.2, 0.8, 0.2), F1 Score = 0.7052872065532284\n"
          ]
        },
        {
          "name": "stderr",
          "output_type": "stream",
          "text": [
            "Refining Weights: (0.30000000000000004, 0.1, 0.2, 0.8, 0.4):  52%|█████▏    | 403/768 [1:19:54<1:10:33, 11.60s/it]                "
          ]
        },
        {
          "name": "stdout",
          "output_type": "stream",
          "text": [
            "Weights: (0.30000000000000004, 0.1, 0.2, 0.8, 0.30000000000000004), F1 Score = 0.7031711018282326\n"
          ]
        },
        {
          "name": "stderr",
          "output_type": "stream",
          "text": [
            "Refining Weights: (0.30000000000000004, 0.1, 0.2, 0.9, 0.1):  53%|█████▎    | 404/768 [1:20:06<1:11:15, 11.75s/it]"
          ]
        },
        {
          "name": "stdout",
          "output_type": "stream",
          "text": [
            "Weights: (0.30000000000000004, 0.1, 0.2, 0.8, 0.4), F1 Score = 0.700056711695266\n"
          ]
        },
        {
          "name": "stderr",
          "output_type": "stream",
          "text": [
            "Refining Weights: (0.30000000000000004, 0.1, 0.2, 0.9, 0.2):  53%|█████▎    | 405/768 [1:20:18<1:11:45, 11.86s/it]"
          ]
        },
        {
          "name": "stdout",
          "output_type": "stream",
          "text": [
            "Weights: (0.30000000000000004, 0.1, 0.2, 0.9, 0.1), F1 Score = 0.7070933010692714\n"
          ]
        },
        {
          "name": "stderr",
          "output_type": "stream",
          "text": [
            "Refining Weights: (0.30000000000000004, 0.1, 0.2, 0.9, 0.30000000000000004):  53%|█████▎    | 406/768 [1:20:30<1:11:47, 11.90s/it]"
          ]
        },
        {
          "name": "stdout",
          "output_type": "stream",
          "text": [
            "Weights: (0.30000000000000004, 0.1, 0.2, 0.9, 0.2), F1 Score = 0.7061747759712386\n"
          ]
        },
        {
          "name": "stderr",
          "output_type": "stream",
          "text": [
            "Refining Weights: (0.30000000000000004, 0.1, 0.2, 0.9, 0.4):  53%|█████▎    | 407/768 [1:20:42<1:11:41, 11.91s/it]                "
          ]
        },
        {
          "name": "stdout",
          "output_type": "stream",
          "text": [
            "Weights: (0.30000000000000004, 0.1, 0.2, 0.9, 0.30000000000000004), F1 Score = 0.7058143309491436\n"
          ]
        },
        {
          "name": "stderr",
          "output_type": "stream",
          "text": [
            "Refining Weights: (0.30000000000000004, 0.1, 0.30000000000000004, 0.7000000000000001, 0.1):  53%|█████▎    | 408/768 [1:20:54<1:11:18, 11.89s/it]"
          ]
        },
        {
          "name": "stdout",
          "output_type": "stream",
          "text": [
            "Weights: (0.30000000000000004, 0.1, 0.2, 0.9, 0.4), F1 Score = 0.7053224147901832\n"
          ]
        },
        {
          "name": "stderr",
          "output_type": "stream",
          "text": [
            "Refining Weights: (0.30000000000000004, 0.1, 0.30000000000000004, 0.7000000000000001, 0.2):  53%|█████▎    | 409/768 [1:21:05<1:09:47, 11.66s/it]"
          ]
        },
        {
          "name": "stdout",
          "output_type": "stream",
          "text": [
            "Weights: (0.30000000000000004, 0.1, 0.30000000000000004, 0.7000000000000001, 0.1), F1 Score = 0.6912943884803164\n"
          ]
        },
        {
          "name": "stderr",
          "output_type": "stream",
          "text": [
            "Refining Weights: (0.30000000000000004, 0.1, 0.30000000000000004, 0.7000000000000001, 0.30000000000000004):  53%|█████▎    | 410/768 [1:21:16<1:09:31, 11.65s/it]"
          ]
        },
        {
          "name": "stdout",
          "output_type": "stream",
          "text": [
            "Weights: (0.30000000000000004, 0.1, 0.30000000000000004, 0.7000000000000001, 0.2), F1 Score = 0.6875510590215935\n"
          ]
        },
        {
          "name": "stderr",
          "output_type": "stream",
          "text": [
            "Refining Weights: (0.30000000000000004, 0.1, 0.30000000000000004, 0.7000000000000001, 0.4):  54%|█████▎    | 411/768 [1:21:28<1:09:57, 11.76s/it]                "
          ]
        },
        {
          "name": "stdout",
          "output_type": "stream",
          "text": [
            "Weights: (0.30000000000000004, 0.1, 0.30000000000000004, 0.7000000000000001, 0.30000000000000004), F1 Score = 0.6851227100386583\n"
          ]
        },
        {
          "name": "stderr",
          "output_type": "stream",
          "text": [
            "Refining Weights: (0.30000000000000004, 0.1, 0.30000000000000004, 0.8, 0.1):  54%|█████▎    | 412/768 [1:21:40<1:09:58, 11.79s/it]               "
          ]
        },
        {
          "name": "stdout",
          "output_type": "stream",
          "text": [
            "Weights: (0.30000000000000004, 0.1, 0.30000000000000004, 0.7000000000000001, 0.4), F1 Score = 0.682886747253229\n"
          ]
        },
        {
          "name": "stderr",
          "output_type": "stream",
          "text": [
            "Refining Weights: (0.30000000000000004, 0.1, 0.30000000000000004, 0.8, 0.2):  54%|█████▍    | 413/768 [1:21:52<1:09:53, 11.81s/it]"
          ]
        },
        {
          "name": "stdout",
          "output_type": "stream",
          "text": [
            "Weights: (0.30000000000000004, 0.1, 0.30000000000000004, 0.8, 0.1), F1 Score = 0.7005640854472631\n"
          ]
        },
        {
          "name": "stderr",
          "output_type": "stream",
          "text": [
            "Refining Weights: (0.30000000000000004, 0.1, 0.30000000000000004, 0.8, 0.30000000000000004):  54%|█████▍    | 414/768 [1:22:04<1:09:46, 11.83s/it]"
          ]
        },
        {
          "name": "stdout",
          "output_type": "stream",
          "text": [
            "Weights: (0.30000000000000004, 0.1, 0.30000000000000004, 0.8, 0.2), F1 Score = 0.6934595223092599\n"
          ]
        },
        {
          "name": "stderr",
          "output_type": "stream",
          "text": [
            "Refining Weights: (0.30000000000000004, 0.1, 0.30000000000000004, 0.8, 0.4):  54%|█████▍    | 415/768 [1:22:16<1:09:38, 11.84s/it]                "
          ]
        },
        {
          "name": "stdout",
          "output_type": "stream",
          "text": [
            "Weights: (0.30000000000000004, 0.1, 0.30000000000000004, 0.8, 0.30000000000000004), F1 Score = 0.6897440965249781\n"
          ]
        },
        {
          "name": "stderr",
          "output_type": "stream",
          "text": [
            "Refining Weights: (0.30000000000000004, 0.1, 0.30000000000000004, 0.9, 0.1):  54%|█████▍    | 416/768 [1:22:27<1:08:11, 11.62s/it]"
          ]
        },
        {
          "name": "stdout",
          "output_type": "stream",
          "text": [
            "Weights: (0.30000000000000004, 0.1, 0.30000000000000004, 0.8, 0.4), F1 Score = 0.6873871413004351\n"
          ]
        },
        {
          "name": "stderr",
          "output_type": "stream",
          "text": [
            "Refining Weights: (0.30000000000000004, 0.1, 0.30000000000000004, 0.9, 0.2):  54%|█████▍    | 417/768 [1:22:39<1:08:11, 11.66s/it]"
          ]
        },
        {
          "name": "stdout",
          "output_type": "stream",
          "text": [
            "Weights: (0.30000000000000004, 0.1, 0.30000000000000004, 0.9, 0.1), F1 Score = 0.7047295423394511\n"
          ]
        },
        {
          "name": "stderr",
          "output_type": "stream",
          "text": [
            "Refining Weights: (0.30000000000000004, 0.1, 0.30000000000000004, 0.9, 0.30000000000000004):  54%|█████▍    | 418/768 [1:22:51<1:08:42, 11.78s/it]"
          ]
        },
        {
          "name": "stdout",
          "output_type": "stream",
          "text": [
            "Weights: (0.30000000000000004, 0.1, 0.30000000000000004, 0.9, 0.2), F1 Score = 0.7010616789574337\n"
          ]
        },
        {
          "name": "stderr",
          "output_type": "stream",
          "text": [
            "Refining Weights: (0.30000000000000004, 0.1, 0.30000000000000004, 0.9, 0.4):  55%|█████▍    | 419/768 [1:23:03<1:08:43, 11.82s/it]                "
          ]
        },
        {
          "name": "stdout",
          "output_type": "stream",
          "text": [
            "Weights: (0.30000000000000004, 0.1, 0.30000000000000004, 0.9, 0.30000000000000004), F1 Score = 0.6992939896406588\n"
          ]
        },
        {
          "name": "stderr",
          "output_type": "stream",
          "text": [
            "Refining Weights: (0.30000000000000004, 0.1, 0.4, 0.7000000000000001, 0.1):  55%|█████▍    | 420/768 [1:23:15<1:09:06, 11.92s/it] "
          ]
        },
        {
          "name": "stdout",
          "output_type": "stream",
          "text": [
            "Weights: (0.30000000000000004, 0.1, 0.30000000000000004, 0.9, 0.4), F1 Score = 0.6916935891819728\n"
          ]
        },
        {
          "name": "stderr",
          "output_type": "stream",
          "text": [
            "Refining Weights: (0.30000000000000004, 0.1, 0.4, 0.7000000000000001, 0.2):  55%|█████▍    | 421/768 [1:23:27<1:09:05, 11.95s/it]"
          ]
        },
        {
          "name": "stdout",
          "output_type": "stream",
          "text": [
            "Weights: (0.30000000000000004, 0.1, 0.4, 0.7000000000000001, 0.1), F1 Score = 0.6831339984350546\n"
          ]
        },
        {
          "name": "stderr",
          "output_type": "stream",
          "text": [
            "Refining Weights: (0.30000000000000004, 0.1, 0.4, 0.7000000000000001, 0.30000000000000004):  55%|█████▍    | 422/768 [1:23:38<1:07:51, 11.77s/it]"
          ]
        },
        {
          "name": "stdout",
          "output_type": "stream",
          "text": [
            "Weights: (0.30000000000000004, 0.1, 0.4, 0.7000000000000001, 0.2), F1 Score = 0.6808657687360469\n"
          ]
        },
        {
          "name": "stderr",
          "output_type": "stream",
          "text": [
            "Refining Weights: (0.30000000000000004, 0.1, 0.4, 0.7000000000000001, 0.4):  55%|█████▌    | 423/768 [1:23:50<1:07:12, 11.69s/it]                "
          ]
        },
        {
          "name": "stdout",
          "output_type": "stream",
          "text": [
            "Weights: (0.30000000000000004, 0.1, 0.4, 0.7000000000000001, 0.30000000000000004), F1 Score = 0.677200948954443\n"
          ]
        },
        {
          "name": "stderr",
          "output_type": "stream",
          "text": [
            "Refining Weights: (0.30000000000000004, 0.1, 0.4, 0.8, 0.1):  55%|█████▌    | 424/768 [1:24:02<1:07:29, 11.77s/it]               "
          ]
        },
        {
          "name": "stdout",
          "output_type": "stream",
          "text": [
            "Weights: (0.30000000000000004, 0.1, 0.4, 0.7000000000000001, 0.4), F1 Score = 0.6737376037065624\n"
          ]
        },
        {
          "name": "stderr",
          "output_type": "stream",
          "text": [
            "Refining Weights: (0.30000000000000004, 0.1, 0.4, 0.8, 0.2):  55%|█████▌    | 425/768 [1:24:14<1:08:28, 11.98s/it]"
          ]
        },
        {
          "name": "stdout",
          "output_type": "stream",
          "text": [
            "Weights: (0.30000000000000004, 0.1, 0.4, 0.8, 0.1), F1 Score = 0.688025593778156\n"
          ]
        },
        {
          "name": "stderr",
          "output_type": "stream",
          "text": [
            "Refining Weights: (0.30000000000000004, 0.1, 0.4, 0.8, 0.30000000000000004):  55%|█████▌    | 426/768 [1:24:26<1:08:19, 11.99s/it]"
          ]
        },
        {
          "name": "stdout",
          "output_type": "stream",
          "text": [
            "Weights: (0.30000000000000004, 0.1, 0.4, 0.8, 0.2), F1 Score = 0.6864996566360421\n"
          ]
        },
        {
          "name": "stderr",
          "output_type": "stream",
          "text": [
            "Refining Weights: (0.30000000000000004, 0.1, 0.4, 0.8, 0.4):  56%|█████▌    | 427/768 [1:24:38<1:08:08, 11.99s/it]                "
          ]
        },
        {
          "name": "stdout",
          "output_type": "stream",
          "text": [
            "Weights: (0.30000000000000004, 0.1, 0.4, 0.8, 0.30000000000000004), F1 Score = 0.682930787536206\n"
          ]
        },
        {
          "name": "stderr",
          "output_type": "stream",
          "text": [
            "Refining Weights: (0.30000000000000004, 0.1, 0.4, 0.9, 0.1):  56%|█████▌    | 428/768 [1:24:50<1:07:34, 11.93s/it]"
          ]
        },
        {
          "name": "stdout",
          "output_type": "stream",
          "text": [
            "Weights: (0.30000000000000004, 0.1, 0.4, 0.8, 0.4), F1 Score = 0.679064831027059\n"
          ]
        },
        {
          "name": "stderr",
          "output_type": "stream",
          "text": [
            "Refining Weights: (0.30000000000000004, 0.1, 0.4, 0.9, 0.2):  56%|█████▌    | 429/768 [1:25:01<1:06:03, 11.69s/it]"
          ]
        },
        {
          "name": "stdout",
          "output_type": "stream",
          "text": [
            "Weights: (0.30000000000000004, 0.1, 0.4, 0.9, 0.1), F1 Score = 0.6936740803303303\n"
          ]
        },
        {
          "name": "stderr",
          "output_type": "stream",
          "text": [
            "Refining Weights: (0.30000000000000004, 0.1, 0.4, 0.9, 0.30000000000000004):  56%|█████▌    | 430/768 [1:25:13<1:05:49, 11.69s/it]"
          ]
        },
        {
          "name": "stdout",
          "output_type": "stream",
          "text": [
            "Weights: (0.30000000000000004, 0.1, 0.4, 0.9, 0.2), F1 Score = 0.6906817426767938\n"
          ]
        },
        {
          "name": "stderr",
          "output_type": "stream",
          "text": [
            "Refining Weights: (0.30000000000000004, 0.1, 0.4, 0.9, 0.4):  56%|█████▌    | 431/768 [1:25:25<1:06:17, 11.80s/it]                "
          ]
        },
        {
          "name": "stdout",
          "output_type": "stream",
          "text": [
            "Weights: (0.30000000000000004, 0.1, 0.4, 0.9, 0.30000000000000004), F1 Score = 0.6859742806090935\n"
          ]
        },
        {
          "name": "stderr",
          "output_type": "stream",
          "text": [
            "Refining Weights: (0.30000000000000004, 0.2, 0.1, 0.7000000000000001, 0.1):  56%|█████▋    | 432/768 [1:25:37<1:06:24, 11.86s/it]"
          ]
        },
        {
          "name": "stdout",
          "output_type": "stream",
          "text": [
            "Weights: (0.30000000000000004, 0.1, 0.4, 0.9, 0.4), F1 Score = 0.6867503697377719\n"
          ]
        },
        {
          "name": "stderr",
          "output_type": "stream",
          "text": [
            "Refining Weights: (0.30000000000000004, 0.2, 0.1, 0.7000000000000001, 0.2):  56%|█████▋    | 433/768 [1:25:49<1:06:15, 11.87s/it]"
          ]
        },
        {
          "name": "stdout",
          "output_type": "stream",
          "text": [
            "Weights: (0.30000000000000004, 0.2, 0.1, 0.7000000000000001, 0.1), F1 Score = 0.7065149172735099\n"
          ]
        },
        {
          "name": "stderr",
          "output_type": "stream",
          "text": [
            "Refining Weights: (0.30000000000000004, 0.2, 0.1, 0.7000000000000001, 0.30000000000000004):  57%|█████▋    | 434/768 [1:26:01<1:05:56, 11.85s/it]"
          ]
        },
        {
          "name": "stdout",
          "output_type": "stream",
          "text": [
            "Weights: (0.30000000000000004, 0.2, 0.1, 0.7000000000000001, 0.2), F1 Score = 0.701976579266586\n"
          ]
        },
        {
          "name": "stderr",
          "output_type": "stream",
          "text": [
            "Refining Weights: (0.30000000000000004, 0.2, 0.1, 0.7000000000000001, 0.4):  57%|█████▋    | 435/768 [1:26:12<1:05:04, 11.73s/it]                "
          ]
        },
        {
          "name": "stdout",
          "output_type": "stream",
          "text": [
            "Weights: (0.30000000000000004, 0.2, 0.1, 0.7000000000000001, 0.30000000000000004), F1 Score = 0.6954944967172374\n"
          ]
        },
        {
          "name": "stderr",
          "output_type": "stream",
          "text": [
            "Refining Weights: (0.30000000000000004, 0.2, 0.1, 0.8, 0.1):  57%|█████▋    | 436/768 [1:26:23<1:04:08, 11.59s/it]               "
          ]
        },
        {
          "name": "stdout",
          "output_type": "stream",
          "text": [
            "Weights: (0.30000000000000004, 0.2, 0.1, 0.7000000000000001, 0.4), F1 Score = 0.6850953596862854\n"
          ]
        },
        {
          "name": "stderr",
          "output_type": "stream",
          "text": [
            "Refining Weights: (0.30000000000000004, 0.2, 0.1, 0.8, 0.2):  57%|█████▋    | 437/768 [1:26:35<1:04:24, 11.68s/it]"
          ]
        },
        {
          "name": "stdout",
          "output_type": "stream",
          "text": [
            "Weights: (0.30000000000000004, 0.2, 0.1, 0.8, 0.1), F1 Score = 0.705538430834798\n"
          ]
        },
        {
          "name": "stderr",
          "output_type": "stream",
          "text": [
            "Refining Weights: (0.30000000000000004, 0.2, 0.1, 0.8, 0.30000000000000004):  57%|█████▋    | 438/768 [1:26:47<1:04:49, 11.79s/it]"
          ]
        },
        {
          "name": "stdout",
          "output_type": "stream",
          "text": [
            "Weights: (0.30000000000000004, 0.2, 0.1, 0.8, 0.2), F1 Score = 0.7048916280434916\n"
          ]
        },
        {
          "name": "stderr",
          "output_type": "stream",
          "text": [
            "Refining Weights: (0.30000000000000004, 0.2, 0.1, 0.8, 0.4):  57%|█████▋    | 439/768 [1:26:59<1:04:48, 11.82s/it]                "
          ]
        },
        {
          "name": "stdout",
          "output_type": "stream",
          "text": [
            "Weights: (0.30000000000000004, 0.2, 0.1, 0.8, 0.30000000000000004), F1 Score = 0.7049607872313766\n"
          ]
        },
        {
          "name": "stderr",
          "output_type": "stream",
          "text": [
            "Refining Weights: (0.30000000000000004, 0.2, 0.1, 0.9, 0.1):  57%|█████▋    | 440/768 [1:27:11<1:04:57, 11.88s/it]"
          ]
        },
        {
          "name": "stdout",
          "output_type": "stream",
          "text": [
            "Weights: (0.30000000000000004, 0.2, 0.1, 0.8, 0.4), F1 Score = 0.6963475061318934\n"
          ]
        },
        {
          "name": "stderr",
          "output_type": "stream",
          "text": [
            "Refining Weights: (0.30000000000000004, 0.2, 0.1, 0.9, 0.2):  57%|█████▋    | 441/768 [1:27:23<1:04:41, 11.87s/it]"
          ]
        },
        {
          "name": "stdout",
          "output_type": "stream",
          "text": [
            "Weights: (0.30000000000000004, 0.2, 0.1, 0.9, 0.1), F1 Score = 0.7099985141442562\n"
          ]
        },
        {
          "name": "stderr",
          "output_type": "stream",
          "text": [
            "Refining Weights: (0.30000000000000004, 0.2, 0.1, 0.9, 0.30000000000000004):  58%|█████▊    | 442/768 [1:27:34<1:03:21, 11.66s/it]"
          ]
        },
        {
          "name": "stdout",
          "output_type": "stream",
          "text": [
            "Weights: (0.30000000000000004, 0.2, 0.1, 0.9, 0.2), F1 Score = 0.7079911433618008\n"
          ]
        },
        {
          "name": "stderr",
          "output_type": "stream",
          "text": [
            "Refining Weights: (0.30000000000000004, 0.2, 0.1, 0.9, 0.4):  58%|█████▊    | 443/768 [1:27:46<1:02:45, 11.59s/it]                "
          ]
        },
        {
          "name": "stdout",
          "output_type": "stream",
          "text": [
            "Weights: (0.30000000000000004, 0.2, 0.1, 0.9, 0.30000000000000004), F1 Score = 0.7054520659602482\n"
          ]
        },
        {
          "name": "stderr",
          "output_type": "stream",
          "text": [
            "Refining Weights: (0.30000000000000004, 0.2, 0.2, 0.7000000000000001, 0.1):  58%|█████▊    | 444/768 [1:27:57<1:03:01, 11.67s/it]"
          ]
        },
        {
          "name": "stdout",
          "output_type": "stream",
          "text": [
            "Weights: (0.30000000000000004, 0.2, 0.1, 0.9, 0.4), F1 Score = 0.7036017664753089\n"
          ]
        },
        {
          "name": "stderr",
          "output_type": "stream",
          "text": [
            "Refining Weights: (0.30000000000000004, 0.2, 0.2, 0.7000000000000001, 0.2):  58%|█████▊    | 445/768 [1:28:09<1:02:59, 11.70s/it]"
          ]
        },
        {
          "name": "stdout",
          "output_type": "stream",
          "text": [
            "Weights: (0.30000000000000004, 0.2, 0.2, 0.7000000000000001, 0.1), F1 Score = 0.6987776480560766\n"
          ]
        },
        {
          "name": "stderr",
          "output_type": "stream",
          "text": [
            "Refining Weights: (0.30000000000000004, 0.2, 0.2, 0.7000000000000001, 0.30000000000000004):  58%|█████▊    | 446/768 [1:28:21<1:03:18, 11.80s/it]"
          ]
        },
        {
          "name": "stdout",
          "output_type": "stream",
          "text": [
            "Weights: (0.30000000000000004, 0.2, 0.2, 0.7000000000000001, 0.2), F1 Score = 0.690912248053138\n"
          ]
        },
        {
          "name": "stderr",
          "output_type": "stream",
          "text": [
            "Refining Weights: (0.30000000000000004, 0.2, 0.2, 0.7000000000000001, 0.4):  58%|█████▊    | 447/768 [1:28:33<1:03:20, 11.84s/it]                "
          ]
        },
        {
          "name": "stdout",
          "output_type": "stream",
          "text": [
            "Weights: (0.30000000000000004, 0.2, 0.2, 0.7000000000000001, 0.30000000000000004), F1 Score = 0.6881448797096661\n"
          ]
        },
        {
          "name": "stderr",
          "output_type": "stream",
          "text": [
            "Refining Weights: (0.30000000000000004, 0.2, 0.2, 0.8, 0.1):  58%|█████▊    | 448/768 [1:28:45<1:03:03, 11.82s/it]               "
          ]
        },
        {
          "name": "stdout",
          "output_type": "stream",
          "text": [
            "Weights: (0.30000000000000004, 0.2, 0.2, 0.7000000000000001, 0.4), F1 Score = 0.6805916907185172\n"
          ]
        },
        {
          "name": "stderr",
          "output_type": "stream",
          "text": [
            "Refining Weights: (0.30000000000000004, 0.2, 0.2, 0.8, 0.2):  58%|█████▊    | 449/768 [1:28:56<1:01:44, 11.61s/it]"
          ]
        },
        {
          "name": "stdout",
          "output_type": "stream",
          "text": [
            "Weights: (0.30000000000000004, 0.2, 0.2, 0.8, 0.1), F1 Score = 0.7050884628183514\n"
          ]
        },
        {
          "name": "stderr",
          "output_type": "stream",
          "text": [
            "Refining Weights: (0.30000000000000004, 0.2, 0.2, 0.8, 0.30000000000000004):  59%|█████▊    | 450/768 [1:29:08<1:01:25, 11.59s/it]"
          ]
        },
        {
          "name": "stdout",
          "output_type": "stream",
          "text": [
            "Weights: (0.30000000000000004, 0.2, 0.2, 0.8, 0.2), F1 Score = 0.7024330968527149\n"
          ]
        },
        {
          "name": "stderr",
          "output_type": "stream",
          "text": [
            "Refining Weights: (0.30000000000000004, 0.2, 0.2, 0.8, 0.4):  59%|█████▊    | 451/768 [1:29:19<1:01:40, 11.67s/it]                "
          ]
        },
        {
          "name": "stdout",
          "output_type": "stream",
          "text": [
            "Weights: (0.30000000000000004, 0.2, 0.2, 0.8, 0.30000000000000004), F1 Score = 0.699543114973262\n"
          ]
        },
        {
          "name": "stderr",
          "output_type": "stream",
          "text": [
            "Refining Weights: (0.30000000000000004, 0.2, 0.2, 0.9, 0.1):  59%|█████▉    | 452/768 [1:29:31<1:01:53, 11.75s/it]"
          ]
        },
        {
          "name": "stdout",
          "output_type": "stream",
          "text": [
            "Weights: (0.30000000000000004, 0.2, 0.2, 0.8, 0.4), F1 Score = 0.6902699267063673\n"
          ]
        },
        {
          "name": "stderr",
          "output_type": "stream",
          "text": [
            "Refining Weights: (0.30000000000000004, 0.2, 0.2, 0.9, 0.2):  59%|█████▉    | 453/768 [1:29:43<1:01:48, 11.77s/it]"
          ]
        },
        {
          "name": "stdout",
          "output_type": "stream",
          "text": [
            "Weights: (0.30000000000000004, 0.2, 0.2, 0.9, 0.1), F1 Score = 0.7055654551149658\n"
          ]
        },
        {
          "name": "stderr",
          "output_type": "stream",
          "text": [
            "Refining Weights: (0.30000000000000004, 0.2, 0.2, 0.9, 0.30000000000000004):  59%|█████▉    | 454/768 [1:29:55<1:01:37, 11.78s/it]"
          ]
        },
        {
          "name": "stdout",
          "output_type": "stream",
          "text": [
            "Weights: (0.30000000000000004, 0.2, 0.2, 0.9, 0.2), F1 Score = 0.7044924834384579\n"
          ]
        },
        {
          "name": "stderr",
          "output_type": "stream",
          "text": [
            "Refining Weights: (0.30000000000000004, 0.2, 0.2, 0.9, 0.4):  59%|█████▉    | 455/768 [1:30:07<1:01:24, 11.77s/it]                "
          ]
        },
        {
          "name": "stdout",
          "output_type": "stream",
          "text": [
            "Weights: (0.30000000000000004, 0.2, 0.2, 0.9, 0.30000000000000004), F1 Score = 0.705309097324303\n"
          ]
        },
        {
          "name": "stderr",
          "output_type": "stream",
          "text": [
            "Refining Weights: (0.30000000000000004, 0.2, 0.30000000000000004, 0.7000000000000001, 0.1):  59%|█████▉    | 456/768 [1:30:18<1:00:19, 11.60s/it]"
          ]
        },
        {
          "name": "stdout",
          "output_type": "stream",
          "text": [
            "Weights: (0.30000000000000004, 0.2, 0.2, 0.9, 0.4), F1 Score = 0.7015412746316351\n"
          ]
        },
        {
          "name": "stderr",
          "output_type": "stream",
          "text": [
            "Refining Weights: (0.30000000000000004, 0.2, 0.30000000000000004, 0.7000000000000001, 0.2):  60%|█████▉    | 457/768 [1:30:30<1:00:20, 11.64s/it]"
          ]
        },
        {
          "name": "stdout",
          "output_type": "stream",
          "text": [
            "Weights: (0.30000000000000004, 0.2, 0.30000000000000004, 0.7000000000000001, 0.1), F1 Score = 0.6868222998718926\n"
          ]
        },
        {
          "name": "stderr",
          "output_type": "stream",
          "text": [
            "Refining Weights: (0.30000000000000004, 0.2, 0.30000000000000004, 0.7000000000000001, 0.30000000000000004):  60%|█████▉    | 458/768 [1:30:42<1:00:28, 11.71s/it]"
          ]
        },
        {
          "name": "stdout",
          "output_type": "stream",
          "text": [
            "Weights: (0.30000000000000004, 0.2, 0.30000000000000004, 0.7000000000000001, 0.2), F1 Score = 0.6859951885661144\n"
          ]
        }
      ],
      "source": [
        "refined_weights = optimize_weights_refined(\n",
        "    train_df,\n",
        "    initial_weights = [0.2, 0.2, 0.2, 0.8, 0.2],  \n",
        "    weight_range_width=0.2,  \n",
        "    step=0.1\n",
        ")\n",
        "print(f\"Refined Weights: {refined_weights}\")"
      ]
    },
    {
      "cell_type": "code",
      "execution_count": null,
      "metadata": {
        "colab": {
          "base_uri": "https://localhost:8080/"
        },
        "id": "uKJ7BRlyu1Vr",
        "outputId": "1d6569f4-22c7-4745-f052-11add1c5a215"
      },
      "outputs": [
        {
          "name": "stdout",
          "output_type": "stream",
          "text": [
            "F1 Score on Test Set: 0.7147118136555133\n"
          ]
        },
        {
          "name": "stderr",
          "output_type": "stream",
          "text": [
            "Applying Sentiment Analysis: 100%|██████████| 73227/73227 [11:06<00:00, 109.90it/s]\n"
          ]
        },
        {
          "name": "stdout",
          "output_type": "stream",
          "text": [
            "Sentiment analysis completed. Results saved to /content/drive/MyDrive/preprocessed_data/predicted_sentimentOptimizedAndRefined.csv.\n"
          ]
        }
      ],
      "source": [
        "test_f1 = evaluate_model(test_df, weights=[0.2, 0.2, 0.2, 0.8, 0.2])\n",
        "print(f\"F1 Score on Test Set: {test_f1}\")\n",
        "\n",
        "your_file_path = \"/content/drive/MyDrive/preprocessed_data/predicted_genders_filtered.csv\"\n",
        "output_path = \"/content/drive/MyDrive/preprocessed_data/predicted_sentimentOptimizedAndRefined.csv\"\n",
        "process_file_with_optimized_weights(your_file_path, output_path, optimized_weights=[0.2, 0.2, 0.2, 0.8, 0.2])"
      ]
    }
  ],
  "metadata": {
    "accelerator": "GPU",
    "colab": {
      "gpuType": "T4",
      "provenance": []
    },
    "kernelspec": {
      "display_name": "Python 3",
      "name": "python3"
    },
    "language_info": {
      "name": "python"
    },
    "widgets": {
      "application/vnd.jupyter.widget-state+json": {
        "03a3300b616f4360ab9621c665670c14": {
          "model_module": "@jupyter-widgets/controls",
          "model_module_version": "1.5.0",
          "model_name": "FloatProgressModel",
          "state": {
            "_dom_classes": [],
            "_model_module": "@jupyter-widgets/controls",
            "_model_module_version": "1.5.0",
            "_model_name": "FloatProgressModel",
            "_view_count": null,
            "_view_module": "@jupyter-widgets/controls",
            "_view_module_version": "1.5.0",
            "_view_name": "ProgressView",
            "bar_style": "success",
            "description": "",
            "description_tooltip": null,
            "layout": "IPY_MODEL_e8d433a385a94abd92e9b68a29d6aeb7",
            "max": 466062,
            "min": 0,
            "orientation": "horizontal",
            "style": "IPY_MODEL_73a3f936b1894bfcb36d3d6e0f630a07",
            "value": 466062
          }
        },
        "13b20bccaaef4fa0a3c666676d604611": {
          "model_module": "@jupyter-widgets/base",
          "model_module_version": "1.2.0",
          "model_name": "LayoutModel",
          "state": {
            "_model_module": "@jupyter-widgets/base",
            "_model_module_version": "1.2.0",
            "_model_name": "LayoutModel",
            "_view_count": null,
            "_view_module": "@jupyter-widgets/base",
            "_view_module_version": "1.2.0",
            "_view_name": "LayoutView",
            "align_content": null,
            "align_items": null,
            "align_self": null,
            "border": null,
            "bottom": null,
            "display": null,
            "flex": null,
            "flex_flow": null,
            "grid_area": null,
            "grid_auto_columns": null,
            "grid_auto_flow": null,
            "grid_auto_rows": null,
            "grid_column": null,
            "grid_gap": null,
            "grid_row": null,
            "grid_template_areas": null,
            "grid_template_columns": null,
            "grid_template_rows": null,
            "height": null,
            "justify_content": null,
            "justify_items": null,
            "left": null,
            "margin": null,
            "max_height": null,
            "max_width": null,
            "min_height": null,
            "min_width": null,
            "object_fit": null,
            "object_position": null,
            "order": null,
            "overflow": null,
            "overflow_x": null,
            "overflow_y": null,
            "padding": null,
            "right": null,
            "top": null,
            "visibility": null,
            "width": null
          }
        },
        "1626cbb353044592aedb926688e13e40": {
          "model_module": "@jupyter-widgets/base",
          "model_module_version": "1.2.0",
          "model_name": "LayoutModel",
          "state": {
            "_model_module": "@jupyter-widgets/base",
            "_model_module_version": "1.2.0",
            "_model_name": "LayoutModel",
            "_view_count": null,
            "_view_module": "@jupyter-widgets/base",
            "_view_module_version": "1.2.0",
            "_view_name": "LayoutView",
            "align_content": null,
            "align_items": null,
            "align_self": null,
            "border": null,
            "bottom": null,
            "display": null,
            "flex": null,
            "flex_flow": null,
            "grid_area": null,
            "grid_auto_columns": null,
            "grid_auto_flow": null,
            "grid_auto_rows": null,
            "grid_column": null,
            "grid_gap": null,
            "grid_row": null,
            "grid_template_areas": null,
            "grid_template_columns": null,
            "grid_template_rows": null,
            "height": null,
            "justify_content": null,
            "justify_items": null,
            "left": null,
            "margin": null,
            "max_height": null,
            "max_width": null,
            "min_height": null,
            "min_width": null,
            "object_fit": null,
            "object_position": null,
            "order": null,
            "overflow": null,
            "overflow_x": null,
            "overflow_y": null,
            "padding": null,
            "right": null,
            "top": null,
            "visibility": null,
            "width": null
          }
        },
        "169e87d2874f4e43bc7cf9d60d3a42b7": {
          "model_module": "@jupyter-widgets/base",
          "model_module_version": "1.2.0",
          "model_name": "LayoutModel",
          "state": {
            "_model_module": "@jupyter-widgets/base",
            "_model_module_version": "1.2.0",
            "_model_name": "LayoutModel",
            "_view_count": null,
            "_view_module": "@jupyter-widgets/base",
            "_view_module_version": "1.2.0",
            "_view_name": "LayoutView",
            "align_content": null,
            "align_items": null,
            "align_self": null,
            "border": null,
            "bottom": null,
            "display": null,
            "flex": null,
            "flex_flow": null,
            "grid_area": null,
            "grid_auto_columns": null,
            "grid_auto_flow": null,
            "grid_auto_rows": null,
            "grid_column": null,
            "grid_gap": null,
            "grid_row": null,
            "grid_template_areas": null,
            "grid_template_columns": null,
            "grid_template_rows": null,
            "height": null,
            "justify_content": null,
            "justify_items": null,
            "left": null,
            "margin": null,
            "max_height": null,
            "max_width": null,
            "min_height": null,
            "min_width": null,
            "object_fit": null,
            "object_position": null,
            "order": null,
            "overflow": null,
            "overflow_x": null,
            "overflow_y": null,
            "padding": null,
            "right": null,
            "top": null,
            "visibility": null,
            "width": null
          }
        },
        "1b631fc5c32940dbb40425c0b0fc451a": {
          "model_module": "@jupyter-widgets/controls",
          "model_module_version": "1.5.0",
          "model_name": "HBoxModel",
          "state": {
            "_dom_classes": [],
            "_model_module": "@jupyter-widgets/controls",
            "_model_module_version": "1.5.0",
            "_model_name": "HBoxModel",
            "_view_count": null,
            "_view_module": "@jupyter-widgets/controls",
            "_view_module_version": "1.5.0",
            "_view_name": "HBoxView",
            "box_style": "",
            "children": [
              "IPY_MODEL_ea3da59cf9b740b789cdd8a903230eb9",
              "IPY_MODEL_f4e90b0af7bb4bf396847512a0665ae4",
              "IPY_MODEL_48ae192ff39449ff98bc2b9bb33684c4"
            ],
            "layout": "IPY_MODEL_fd890f59a10f48739217859c3af0a67f"
          }
        },
        "27c880c51dae46a4a17912c1dd5c03eb": {
          "model_module": "@jupyter-widgets/base",
          "model_module_version": "1.2.0",
          "model_name": "LayoutModel",
          "state": {
            "_model_module": "@jupyter-widgets/base",
            "_model_module_version": "1.2.0",
            "_model_name": "LayoutModel",
            "_view_count": null,
            "_view_module": "@jupyter-widgets/base",
            "_view_module_version": "1.2.0",
            "_view_name": "LayoutView",
            "align_content": null,
            "align_items": null,
            "align_self": null,
            "border": null,
            "bottom": null,
            "display": null,
            "flex": null,
            "flex_flow": null,
            "grid_area": null,
            "grid_auto_columns": null,
            "grid_auto_flow": null,
            "grid_auto_rows": null,
            "grid_column": null,
            "grid_gap": null,
            "grid_row": null,
            "grid_template_areas": null,
            "grid_template_columns": null,
            "grid_template_rows": null,
            "height": null,
            "justify_content": null,
            "justify_items": null,
            "left": null,
            "margin": null,
            "max_height": null,
            "max_width": null,
            "min_height": null,
            "min_width": null,
            "object_fit": null,
            "object_position": null,
            "order": null,
            "overflow": null,
            "overflow_x": null,
            "overflow_y": null,
            "padding": null,
            "right": null,
            "top": null,
            "visibility": null,
            "width": null
          }
        },
        "2859f012adde43058b7853e77f7295e6": {
          "model_module": "@jupyter-widgets/controls",
          "model_module_version": "1.5.0",
          "model_name": "HTMLModel",
          "state": {
            "_dom_classes": [],
            "_model_module": "@jupyter-widgets/controls",
            "_model_module_version": "1.5.0",
            "_model_name": "HTMLModel",
            "_view_count": null,
            "_view_module": "@jupyter-widgets/controls",
            "_view_module_version": "1.5.0",
            "_view_name": "HTMLView",
            "description": "",
            "description_tooltip": null,
            "layout": "IPY_MODEL_13b20bccaaef4fa0a3c666676d604611",
            "placeholder": "​",
            "style": "IPY_MODEL_371a0cd773b44c1dbb93be87408ecbbe",
            "value": " 48.0/48.0 [00:00&lt;00:00, 3.18kB/s]"
          }
        },
        "371a0cd773b44c1dbb93be87408ecbbe": {
          "model_module": "@jupyter-widgets/controls",
          "model_module_version": "1.5.0",
          "model_name": "DescriptionStyleModel",
          "state": {
            "_model_module": "@jupyter-widgets/controls",
            "_model_module_version": "1.5.0",
            "_model_name": "DescriptionStyleModel",
            "_view_count": null,
            "_view_module": "@jupyter-widgets/base",
            "_view_module_version": "1.2.0",
            "_view_name": "StyleView",
            "description_width": ""
          }
        },
        "37e9d75f33ed41a4a2147bf08428fc54": {
          "model_module": "@jupyter-widgets/controls",
          "model_module_version": "1.5.0",
          "model_name": "HTMLModel",
          "state": {
            "_dom_classes": [],
            "_model_module": "@jupyter-widgets/controls",
            "_model_module_version": "1.5.0",
            "_model_name": "HTMLModel",
            "_view_count": null,
            "_view_module": "@jupyter-widgets/controls",
            "_view_module_version": "1.5.0",
            "_view_name": "HTMLView",
            "description": "",
            "description_tooltip": null,
            "layout": "IPY_MODEL_b44d0684ab2c44cba6899e02a3256aea",
            "placeholder": "​",
            "style": "IPY_MODEL_d430991dcf324d1abedfa9afdd063195",
            "value": "config.json: 100%"
          }
        },
        "384725e47e47484cb22bb4fd58117220": {
          "model_module": "@jupyter-widgets/base",
          "model_module_version": "1.2.0",
          "model_name": "LayoutModel",
          "state": {
            "_model_module": "@jupyter-widgets/base",
            "_model_module_version": "1.2.0",
            "_model_name": "LayoutModel",
            "_view_count": null,
            "_view_module": "@jupyter-widgets/base",
            "_view_module_version": "1.2.0",
            "_view_name": "LayoutView",
            "align_content": null,
            "align_items": null,
            "align_self": null,
            "border": null,
            "bottom": null,
            "display": null,
            "flex": null,
            "flex_flow": null,
            "grid_area": null,
            "grid_auto_columns": null,
            "grid_auto_flow": null,
            "grid_auto_rows": null,
            "grid_column": null,
            "grid_gap": null,
            "grid_row": null,
            "grid_template_areas": null,
            "grid_template_columns": null,
            "grid_template_rows": null,
            "height": null,
            "justify_content": null,
            "justify_items": null,
            "left": null,
            "margin": null,
            "max_height": null,
            "max_width": null,
            "min_height": null,
            "min_width": null,
            "object_fit": null,
            "object_position": null,
            "order": null,
            "overflow": null,
            "overflow_x": null,
            "overflow_y": null,
            "padding": null,
            "right": null,
            "top": null,
            "visibility": null,
            "width": null
          }
        },
        "470f756dc8024b8eaad6891936d15eec": {
          "model_module": "@jupyter-widgets/controls",
          "model_module_version": "1.5.0",
          "model_name": "HTMLModel",
          "state": {
            "_dom_classes": [],
            "_model_module": "@jupyter-widgets/controls",
            "_model_module_version": "1.5.0",
            "_model_name": "HTMLModel",
            "_view_count": null,
            "_view_module": "@jupyter-widgets/controls",
            "_view_module_version": "1.5.0",
            "_view_name": "HTMLView",
            "description": "",
            "description_tooltip": null,
            "layout": "IPY_MODEL_65d65fe59cd345368fd090483df5f84d",
            "placeholder": "​",
            "style": "IPY_MODEL_b983daea781f4ac1a13497da190dba41",
            "value": " 483/483 [00:00&lt;00:00, 35.4kB/s]"
          }
        },
        "48ae192ff39449ff98bc2b9bb33684c4": {
          "model_module": "@jupyter-widgets/controls",
          "model_module_version": "1.5.0",
          "model_name": "HTMLModel",
          "state": {
            "_dom_classes": [],
            "_model_module": "@jupyter-widgets/controls",
            "_model_module_version": "1.5.0",
            "_model_name": "HTMLModel",
            "_view_count": null,
            "_view_module": "@jupyter-widgets/controls",
            "_view_module_version": "1.5.0",
            "_view_name": "HTMLView",
            "description": "",
            "description_tooltip": null,
            "layout": "IPY_MODEL_55cdab9971bf4ff5a9bc073e839ae14c",
            "placeholder": "​",
            "style": "IPY_MODEL_e2e4074afd794847b8f5815d3e4c6d96",
            "value": " 232k/232k [00:00&lt;00:00, 9.79MB/s]"
          }
        },
        "4a8d45f93f1941ff84b0d622eb0f9e4d": {
          "model_module": "@jupyter-widgets/controls",
          "model_module_version": "1.5.0",
          "model_name": "HTMLModel",
          "state": {
            "_dom_classes": [],
            "_model_module": "@jupyter-widgets/controls",
            "_model_module_version": "1.5.0",
            "_model_name": "HTMLModel",
            "_view_count": null,
            "_view_module": "@jupyter-widgets/controls",
            "_view_module_version": "1.5.0",
            "_view_name": "HTMLView",
            "description": "",
            "description_tooltip": null,
            "layout": "IPY_MODEL_1626cbb353044592aedb926688e13e40",
            "placeholder": "​",
            "style": "IPY_MODEL_a7a1642c0464434489d50ec115ea9cf0",
            "value": "tokenizer_config.json: 100%"
          }
        },
        "4ccbda6c734542499e2667bbb721ce42": {
          "model_module": "@jupyter-widgets/controls",
          "model_module_version": "1.5.0",
          "model_name": "ProgressStyleModel",
          "state": {
            "_model_module": "@jupyter-widgets/controls",
            "_model_module_version": "1.5.0",
            "_model_name": "ProgressStyleModel",
            "_view_count": null,
            "_view_module": "@jupyter-widgets/base",
            "_view_module_version": "1.2.0",
            "_view_name": "StyleView",
            "bar_color": null,
            "description_width": ""
          }
        },
        "5553c57530734a69aeadaa0eefec30f2": {
          "model_module": "@jupyter-widgets/controls",
          "model_module_version": "1.5.0",
          "model_name": "FloatProgressModel",
          "state": {
            "_dom_classes": [],
            "_model_module": "@jupyter-widgets/controls",
            "_model_module_version": "1.5.0",
            "_model_name": "FloatProgressModel",
            "_view_count": null,
            "_view_module": "@jupyter-widgets/controls",
            "_view_module_version": "1.5.0",
            "_view_name": "ProgressView",
            "bar_style": "success",
            "description": "",
            "description_tooltip": null,
            "layout": "IPY_MODEL_169e87d2874f4e43bc7cf9d60d3a42b7",
            "max": 483,
            "min": 0,
            "orientation": "horizontal",
            "style": "IPY_MODEL_71f9221b389549b1a376e809e7cd296f",
            "value": 483
          }
        },
        "55cdab9971bf4ff5a9bc073e839ae14c": {
          "model_module": "@jupyter-widgets/base",
          "model_module_version": "1.2.0",
          "model_name": "LayoutModel",
          "state": {
            "_model_module": "@jupyter-widgets/base",
            "_model_module_version": "1.2.0",
            "_model_name": "LayoutModel",
            "_view_count": null,
            "_view_module": "@jupyter-widgets/base",
            "_view_module_version": "1.2.0",
            "_view_name": "LayoutView",
            "align_content": null,
            "align_items": null,
            "align_self": null,
            "border": null,
            "bottom": null,
            "display": null,
            "flex": null,
            "flex_flow": null,
            "grid_area": null,
            "grid_auto_columns": null,
            "grid_auto_flow": null,
            "grid_auto_rows": null,
            "grid_column": null,
            "grid_gap": null,
            "grid_row": null,
            "grid_template_areas": null,
            "grid_template_columns": null,
            "grid_template_rows": null,
            "height": null,
            "justify_content": null,
            "justify_items": null,
            "left": null,
            "margin": null,
            "max_height": null,
            "max_width": null,
            "min_height": null,
            "min_width": null,
            "object_fit": null,
            "object_position": null,
            "order": null,
            "overflow": null,
            "overflow_x": null,
            "overflow_y": null,
            "padding": null,
            "right": null,
            "top": null,
            "visibility": null,
            "width": null
          }
        },
        "5d42f988e29042d581de05a13307aeb3": {
          "model_module": "@jupyter-widgets/controls",
          "model_module_version": "1.5.0",
          "model_name": "ProgressStyleModel",
          "state": {
            "_model_module": "@jupyter-widgets/controls",
            "_model_module_version": "1.5.0",
            "_model_name": "ProgressStyleModel",
            "_view_count": null,
            "_view_module": "@jupyter-widgets/base",
            "_view_module_version": "1.2.0",
            "_view_name": "StyleView",
            "bar_color": null,
            "description_width": ""
          }
        },
        "5f6cb8e79a24456b83cfd2627ab0ce14": {
          "model_module": "@jupyter-widgets/controls",
          "model_module_version": "1.5.0",
          "model_name": "HTMLModel",
          "state": {
            "_dom_classes": [],
            "_model_module": "@jupyter-widgets/controls",
            "_model_module_version": "1.5.0",
            "_model_name": "HTMLModel",
            "_view_count": null,
            "_view_module": "@jupyter-widgets/controls",
            "_view_module_version": "1.5.0",
            "_view_name": "HTMLView",
            "description": "",
            "description_tooltip": null,
            "layout": "IPY_MODEL_27c880c51dae46a4a17912c1dd5c03eb",
            "placeholder": "​",
            "style": "IPY_MODEL_c4dae6cd35774d868784b39c50d43df3",
            "value": " 466k/466k [00:00&lt;00:00, 7.15MB/s]"
          }
        },
        "65d65fe59cd345368fd090483df5f84d": {
          "model_module": "@jupyter-widgets/base",
          "model_module_version": "1.2.0",
          "model_name": "LayoutModel",
          "state": {
            "_model_module": "@jupyter-widgets/base",
            "_model_module_version": "1.2.0",
            "_model_name": "LayoutModel",
            "_view_count": null,
            "_view_module": "@jupyter-widgets/base",
            "_view_module_version": "1.2.0",
            "_view_name": "LayoutView",
            "align_content": null,
            "align_items": null,
            "align_self": null,
            "border": null,
            "bottom": null,
            "display": null,
            "flex": null,
            "flex_flow": null,
            "grid_area": null,
            "grid_auto_columns": null,
            "grid_auto_flow": null,
            "grid_auto_rows": null,
            "grid_column": null,
            "grid_gap": null,
            "grid_row": null,
            "grid_template_areas": null,
            "grid_template_columns": null,
            "grid_template_rows": null,
            "height": null,
            "justify_content": null,
            "justify_items": null,
            "left": null,
            "margin": null,
            "max_height": null,
            "max_width": null,
            "min_height": null,
            "min_width": null,
            "object_fit": null,
            "object_position": null,
            "order": null,
            "overflow": null,
            "overflow_x": null,
            "overflow_y": null,
            "padding": null,
            "right": null,
            "top": null,
            "visibility": null,
            "width": null
          }
        },
        "70a026d3c67a43e0b231a7c9ef70d845": {
          "model_module": "@jupyter-widgets/controls",
          "model_module_version": "1.5.0",
          "model_name": "HBoxModel",
          "state": {
            "_dom_classes": [],
            "_model_module": "@jupyter-widgets/controls",
            "_model_module_version": "1.5.0",
            "_model_name": "HBoxModel",
            "_view_count": null,
            "_view_module": "@jupyter-widgets/controls",
            "_view_module_version": "1.5.0",
            "_view_name": "HBoxView",
            "box_style": "",
            "children": [
              "IPY_MODEL_4a8d45f93f1941ff84b0d622eb0f9e4d",
              "IPY_MODEL_b2facebfd4ec47b9ba64095dc9eb2045",
              "IPY_MODEL_2859f012adde43058b7853e77f7295e6"
            ],
            "layout": "IPY_MODEL_f2bfbbfd407d4d2284eeb097f13206dd"
          }
        },
        "71f9221b389549b1a376e809e7cd296f": {
          "model_module": "@jupyter-widgets/controls",
          "model_module_version": "1.5.0",
          "model_name": "ProgressStyleModel",
          "state": {
            "_model_module": "@jupyter-widgets/controls",
            "_model_module_version": "1.5.0",
            "_model_name": "ProgressStyleModel",
            "_view_count": null,
            "_view_module": "@jupyter-widgets/base",
            "_view_module_version": "1.2.0",
            "_view_name": "StyleView",
            "bar_color": null,
            "description_width": ""
          }
        },
        "73a3f936b1894bfcb36d3d6e0f630a07": {
          "model_module": "@jupyter-widgets/controls",
          "model_module_version": "1.5.0",
          "model_name": "ProgressStyleModel",
          "state": {
            "_model_module": "@jupyter-widgets/controls",
            "_model_module_version": "1.5.0",
            "_model_name": "ProgressStyleModel",
            "_view_count": null,
            "_view_module": "@jupyter-widgets/base",
            "_view_module_version": "1.2.0",
            "_view_name": "StyleView",
            "bar_color": null,
            "description_width": ""
          }
        },
        "7b9840e5f0a9412ea15f7f46f2533f25": {
          "model_module": "@jupyter-widgets/base",
          "model_module_version": "1.2.0",
          "model_name": "LayoutModel",
          "state": {
            "_model_module": "@jupyter-widgets/base",
            "_model_module_version": "1.2.0",
            "_model_name": "LayoutModel",
            "_view_count": null,
            "_view_module": "@jupyter-widgets/base",
            "_view_module_version": "1.2.0",
            "_view_name": "LayoutView",
            "align_content": null,
            "align_items": null,
            "align_self": null,
            "border": null,
            "bottom": null,
            "display": null,
            "flex": null,
            "flex_flow": null,
            "grid_area": null,
            "grid_auto_columns": null,
            "grid_auto_flow": null,
            "grid_auto_rows": null,
            "grid_column": null,
            "grid_gap": null,
            "grid_row": null,
            "grid_template_areas": null,
            "grid_template_columns": null,
            "grid_template_rows": null,
            "height": null,
            "justify_content": null,
            "justify_items": null,
            "left": null,
            "margin": null,
            "max_height": null,
            "max_width": null,
            "min_height": null,
            "min_width": null,
            "object_fit": null,
            "object_position": null,
            "order": null,
            "overflow": null,
            "overflow_x": null,
            "overflow_y": null,
            "padding": null,
            "right": null,
            "top": null,
            "visibility": null,
            "width": null
          }
        },
        "981b2e9dc8c0455b828fb3fa8b708b6b": {
          "model_module": "@jupyter-widgets/controls",
          "model_module_version": "1.5.0",
          "model_name": "HBoxModel",
          "state": {
            "_dom_classes": [],
            "_model_module": "@jupyter-widgets/controls",
            "_model_module_version": "1.5.0",
            "_model_name": "HBoxModel",
            "_view_count": null,
            "_view_module": "@jupyter-widgets/controls",
            "_view_module_version": "1.5.0",
            "_view_name": "HBoxView",
            "box_style": "",
            "children": [
              "IPY_MODEL_37e9d75f33ed41a4a2147bf08428fc54",
              "IPY_MODEL_5553c57530734a69aeadaa0eefec30f2",
              "IPY_MODEL_470f756dc8024b8eaad6891936d15eec"
            ],
            "layout": "IPY_MODEL_7b9840e5f0a9412ea15f7f46f2533f25"
          }
        },
        "9c004d87149340f2acde6168ea409d36": {
          "model_module": "@jupyter-widgets/controls",
          "model_module_version": "1.5.0",
          "model_name": "DescriptionStyleModel",
          "state": {
            "_model_module": "@jupyter-widgets/controls",
            "_model_module_version": "1.5.0",
            "_model_name": "DescriptionStyleModel",
            "_view_count": null,
            "_view_module": "@jupyter-widgets/base",
            "_view_module_version": "1.2.0",
            "_view_name": "StyleView",
            "description_width": ""
          }
        },
        "9cff47499ecc49638bbee888c5f708aa": {
          "model_module": "@jupyter-widgets/base",
          "model_module_version": "1.2.0",
          "model_name": "LayoutModel",
          "state": {
            "_model_module": "@jupyter-widgets/base",
            "_model_module_version": "1.2.0",
            "_model_name": "LayoutModel",
            "_view_count": null,
            "_view_module": "@jupyter-widgets/base",
            "_view_module_version": "1.2.0",
            "_view_name": "LayoutView",
            "align_content": null,
            "align_items": null,
            "align_self": null,
            "border": null,
            "bottom": null,
            "display": null,
            "flex": null,
            "flex_flow": null,
            "grid_area": null,
            "grid_auto_columns": null,
            "grid_auto_flow": null,
            "grid_auto_rows": null,
            "grid_column": null,
            "grid_gap": null,
            "grid_row": null,
            "grid_template_areas": null,
            "grid_template_columns": null,
            "grid_template_rows": null,
            "height": null,
            "justify_content": null,
            "justify_items": null,
            "left": null,
            "margin": null,
            "max_height": null,
            "max_width": null,
            "min_height": null,
            "min_width": null,
            "object_fit": null,
            "object_position": null,
            "order": null,
            "overflow": null,
            "overflow_x": null,
            "overflow_y": null,
            "padding": null,
            "right": null,
            "top": null,
            "visibility": null,
            "width": null
          }
        },
        "a0740012cf654b2eb073a1c4cce11630": {
          "model_module": "@jupyter-widgets/controls",
          "model_module_version": "1.5.0",
          "model_name": "HBoxModel",
          "state": {
            "_dom_classes": [],
            "_model_module": "@jupyter-widgets/controls",
            "_model_module_version": "1.5.0",
            "_model_name": "HBoxModel",
            "_view_count": null,
            "_view_module": "@jupyter-widgets/controls",
            "_view_module_version": "1.5.0",
            "_view_name": "HBoxView",
            "box_style": "",
            "children": [
              "IPY_MODEL_af798ab9880c41cbb4c98ea8ddc9f8b2",
              "IPY_MODEL_03a3300b616f4360ab9621c665670c14",
              "IPY_MODEL_5f6cb8e79a24456b83cfd2627ab0ce14"
            ],
            "layout": "IPY_MODEL_c6daddf8a69c4d5aad232bc615a78e8c"
          }
        },
        "a3136d71e9e9430dbca08f2389196aa7": {
          "model_module": "@jupyter-widgets/base",
          "model_module_version": "1.2.0",
          "model_name": "LayoutModel",
          "state": {
            "_model_module": "@jupyter-widgets/base",
            "_model_module_version": "1.2.0",
            "_model_name": "LayoutModel",
            "_view_count": null,
            "_view_module": "@jupyter-widgets/base",
            "_view_module_version": "1.2.0",
            "_view_name": "LayoutView",
            "align_content": null,
            "align_items": null,
            "align_self": null,
            "border": null,
            "bottom": null,
            "display": null,
            "flex": null,
            "flex_flow": null,
            "grid_area": null,
            "grid_auto_columns": null,
            "grid_auto_flow": null,
            "grid_auto_rows": null,
            "grid_column": null,
            "grid_gap": null,
            "grid_row": null,
            "grid_template_areas": null,
            "grid_template_columns": null,
            "grid_template_rows": null,
            "height": null,
            "justify_content": null,
            "justify_items": null,
            "left": null,
            "margin": null,
            "max_height": null,
            "max_width": null,
            "min_height": null,
            "min_width": null,
            "object_fit": null,
            "object_position": null,
            "order": null,
            "overflow": null,
            "overflow_x": null,
            "overflow_y": null,
            "padding": null,
            "right": null,
            "top": null,
            "visibility": null,
            "width": null
          }
        },
        "a7a1642c0464434489d50ec115ea9cf0": {
          "model_module": "@jupyter-widgets/controls",
          "model_module_version": "1.5.0",
          "model_name": "DescriptionStyleModel",
          "state": {
            "_model_module": "@jupyter-widgets/controls",
            "_model_module_version": "1.5.0",
            "_model_name": "DescriptionStyleModel",
            "_view_count": null,
            "_view_module": "@jupyter-widgets/base",
            "_view_module_version": "1.2.0",
            "_view_name": "StyleView",
            "description_width": ""
          }
        },
        "af798ab9880c41cbb4c98ea8ddc9f8b2": {
          "model_module": "@jupyter-widgets/controls",
          "model_module_version": "1.5.0",
          "model_name": "HTMLModel",
          "state": {
            "_dom_classes": [],
            "_model_module": "@jupyter-widgets/controls",
            "_model_module_version": "1.5.0",
            "_model_name": "HTMLModel",
            "_view_count": null,
            "_view_module": "@jupyter-widgets/controls",
            "_view_module_version": "1.5.0",
            "_view_name": "HTMLView",
            "description": "",
            "description_tooltip": null,
            "layout": "IPY_MODEL_384725e47e47484cb22bb4fd58117220",
            "placeholder": "​",
            "style": "IPY_MODEL_daea035328b34a9c86d1ea8ab9bb8471",
            "value": "tokenizer.json: 100%"
          }
        },
        "b2facebfd4ec47b9ba64095dc9eb2045": {
          "model_module": "@jupyter-widgets/controls",
          "model_module_version": "1.5.0",
          "model_name": "FloatProgressModel",
          "state": {
            "_dom_classes": [],
            "_model_module": "@jupyter-widgets/controls",
            "_model_module_version": "1.5.0",
            "_model_name": "FloatProgressModel",
            "_view_count": null,
            "_view_module": "@jupyter-widgets/controls",
            "_view_module_version": "1.5.0",
            "_view_name": "ProgressView",
            "bar_style": "success",
            "description": "",
            "description_tooltip": null,
            "layout": "IPY_MODEL_a3136d71e9e9430dbca08f2389196aa7",
            "max": 48,
            "min": 0,
            "orientation": "horizontal",
            "style": "IPY_MODEL_4ccbda6c734542499e2667bbb721ce42",
            "value": 48
          }
        },
        "b44d0684ab2c44cba6899e02a3256aea": {
          "model_module": "@jupyter-widgets/base",
          "model_module_version": "1.2.0",
          "model_name": "LayoutModel",
          "state": {
            "_model_module": "@jupyter-widgets/base",
            "_model_module_version": "1.2.0",
            "_model_name": "LayoutModel",
            "_view_count": null,
            "_view_module": "@jupyter-widgets/base",
            "_view_module_version": "1.2.0",
            "_view_name": "LayoutView",
            "align_content": null,
            "align_items": null,
            "align_self": null,
            "border": null,
            "bottom": null,
            "display": null,
            "flex": null,
            "flex_flow": null,
            "grid_area": null,
            "grid_auto_columns": null,
            "grid_auto_flow": null,
            "grid_auto_rows": null,
            "grid_column": null,
            "grid_gap": null,
            "grid_row": null,
            "grid_template_areas": null,
            "grid_template_columns": null,
            "grid_template_rows": null,
            "height": null,
            "justify_content": null,
            "justify_items": null,
            "left": null,
            "margin": null,
            "max_height": null,
            "max_width": null,
            "min_height": null,
            "min_width": null,
            "object_fit": null,
            "object_position": null,
            "order": null,
            "overflow": null,
            "overflow_x": null,
            "overflow_y": null,
            "padding": null,
            "right": null,
            "top": null,
            "visibility": null,
            "width": null
          }
        },
        "b983daea781f4ac1a13497da190dba41": {
          "model_module": "@jupyter-widgets/controls",
          "model_module_version": "1.5.0",
          "model_name": "DescriptionStyleModel",
          "state": {
            "_model_module": "@jupyter-widgets/controls",
            "_model_module_version": "1.5.0",
            "_model_name": "DescriptionStyleModel",
            "_view_count": null,
            "_view_module": "@jupyter-widgets/base",
            "_view_module_version": "1.2.0",
            "_view_name": "StyleView",
            "description_width": ""
          }
        },
        "c4dae6cd35774d868784b39c50d43df3": {
          "model_module": "@jupyter-widgets/controls",
          "model_module_version": "1.5.0",
          "model_name": "DescriptionStyleModel",
          "state": {
            "_model_module": "@jupyter-widgets/controls",
            "_model_module_version": "1.5.0",
            "_model_name": "DescriptionStyleModel",
            "_view_count": null,
            "_view_module": "@jupyter-widgets/base",
            "_view_module_version": "1.2.0",
            "_view_name": "StyleView",
            "description_width": ""
          }
        },
        "c6daddf8a69c4d5aad232bc615a78e8c": {
          "model_module": "@jupyter-widgets/base",
          "model_module_version": "1.2.0",
          "model_name": "LayoutModel",
          "state": {
            "_model_module": "@jupyter-widgets/base",
            "_model_module_version": "1.2.0",
            "_model_name": "LayoutModel",
            "_view_count": null,
            "_view_module": "@jupyter-widgets/base",
            "_view_module_version": "1.2.0",
            "_view_name": "LayoutView",
            "align_content": null,
            "align_items": null,
            "align_self": null,
            "border": null,
            "bottom": null,
            "display": null,
            "flex": null,
            "flex_flow": null,
            "grid_area": null,
            "grid_auto_columns": null,
            "grid_auto_flow": null,
            "grid_auto_rows": null,
            "grid_column": null,
            "grid_gap": null,
            "grid_row": null,
            "grid_template_areas": null,
            "grid_template_columns": null,
            "grid_template_rows": null,
            "height": null,
            "justify_content": null,
            "justify_items": null,
            "left": null,
            "margin": null,
            "max_height": null,
            "max_width": null,
            "min_height": null,
            "min_width": null,
            "object_fit": null,
            "object_position": null,
            "order": null,
            "overflow": null,
            "overflow_x": null,
            "overflow_y": null,
            "padding": null,
            "right": null,
            "top": null,
            "visibility": null,
            "width": null
          }
        },
        "c987e2eaeb1a4f4dbbb400b7a1bc7313": {
          "model_module": "@jupyter-widgets/base",
          "model_module_version": "1.2.0",
          "model_name": "LayoutModel",
          "state": {
            "_model_module": "@jupyter-widgets/base",
            "_model_module_version": "1.2.0",
            "_model_name": "LayoutModel",
            "_view_count": null,
            "_view_module": "@jupyter-widgets/base",
            "_view_module_version": "1.2.0",
            "_view_name": "LayoutView",
            "align_content": null,
            "align_items": null,
            "align_self": null,
            "border": null,
            "bottom": null,
            "display": null,
            "flex": null,
            "flex_flow": null,
            "grid_area": null,
            "grid_auto_columns": null,
            "grid_auto_flow": null,
            "grid_auto_rows": null,
            "grid_column": null,
            "grid_gap": null,
            "grid_row": null,
            "grid_template_areas": null,
            "grid_template_columns": null,
            "grid_template_rows": null,
            "height": null,
            "justify_content": null,
            "justify_items": null,
            "left": null,
            "margin": null,
            "max_height": null,
            "max_width": null,
            "min_height": null,
            "min_width": null,
            "object_fit": null,
            "object_position": null,
            "order": null,
            "overflow": null,
            "overflow_x": null,
            "overflow_y": null,
            "padding": null,
            "right": null,
            "top": null,
            "visibility": null,
            "width": null
          }
        },
        "d430991dcf324d1abedfa9afdd063195": {
          "model_module": "@jupyter-widgets/controls",
          "model_module_version": "1.5.0",
          "model_name": "DescriptionStyleModel",
          "state": {
            "_model_module": "@jupyter-widgets/controls",
            "_model_module_version": "1.5.0",
            "_model_name": "DescriptionStyleModel",
            "_view_count": null,
            "_view_module": "@jupyter-widgets/base",
            "_view_module_version": "1.2.0",
            "_view_name": "StyleView",
            "description_width": ""
          }
        },
        "daea035328b34a9c86d1ea8ab9bb8471": {
          "model_module": "@jupyter-widgets/controls",
          "model_module_version": "1.5.0",
          "model_name": "DescriptionStyleModel",
          "state": {
            "_model_module": "@jupyter-widgets/controls",
            "_model_module_version": "1.5.0",
            "_model_name": "DescriptionStyleModel",
            "_view_count": null,
            "_view_module": "@jupyter-widgets/base",
            "_view_module_version": "1.2.0",
            "_view_name": "StyleView",
            "description_width": ""
          }
        },
        "e2e4074afd794847b8f5815d3e4c6d96": {
          "model_module": "@jupyter-widgets/controls",
          "model_module_version": "1.5.0",
          "model_name": "DescriptionStyleModel",
          "state": {
            "_model_module": "@jupyter-widgets/controls",
            "_model_module_version": "1.5.0",
            "_model_name": "DescriptionStyleModel",
            "_view_count": null,
            "_view_module": "@jupyter-widgets/base",
            "_view_module_version": "1.2.0",
            "_view_name": "StyleView",
            "description_width": ""
          }
        },
        "e8d433a385a94abd92e9b68a29d6aeb7": {
          "model_module": "@jupyter-widgets/base",
          "model_module_version": "1.2.0",
          "model_name": "LayoutModel",
          "state": {
            "_model_module": "@jupyter-widgets/base",
            "_model_module_version": "1.2.0",
            "_model_name": "LayoutModel",
            "_view_count": null,
            "_view_module": "@jupyter-widgets/base",
            "_view_module_version": "1.2.0",
            "_view_name": "LayoutView",
            "align_content": null,
            "align_items": null,
            "align_self": null,
            "border": null,
            "bottom": null,
            "display": null,
            "flex": null,
            "flex_flow": null,
            "grid_area": null,
            "grid_auto_columns": null,
            "grid_auto_flow": null,
            "grid_auto_rows": null,
            "grid_column": null,
            "grid_gap": null,
            "grid_row": null,
            "grid_template_areas": null,
            "grid_template_columns": null,
            "grid_template_rows": null,
            "height": null,
            "justify_content": null,
            "justify_items": null,
            "left": null,
            "margin": null,
            "max_height": null,
            "max_width": null,
            "min_height": null,
            "min_width": null,
            "object_fit": null,
            "object_position": null,
            "order": null,
            "overflow": null,
            "overflow_x": null,
            "overflow_y": null,
            "padding": null,
            "right": null,
            "top": null,
            "visibility": null,
            "width": null
          }
        },
        "ea3da59cf9b740b789cdd8a903230eb9": {
          "model_module": "@jupyter-widgets/controls",
          "model_module_version": "1.5.0",
          "model_name": "HTMLModel",
          "state": {
            "_dom_classes": [],
            "_model_module": "@jupyter-widgets/controls",
            "_model_module_version": "1.5.0",
            "_model_name": "HTMLModel",
            "_view_count": null,
            "_view_module": "@jupyter-widgets/controls",
            "_view_module_version": "1.5.0",
            "_view_name": "HTMLView",
            "description": "",
            "description_tooltip": null,
            "layout": "IPY_MODEL_9cff47499ecc49638bbee888c5f708aa",
            "placeholder": "​",
            "style": "IPY_MODEL_9c004d87149340f2acde6168ea409d36",
            "value": "vocab.txt: 100%"
          }
        },
        "f2bfbbfd407d4d2284eeb097f13206dd": {
          "model_module": "@jupyter-widgets/base",
          "model_module_version": "1.2.0",
          "model_name": "LayoutModel",
          "state": {
            "_model_module": "@jupyter-widgets/base",
            "_model_module_version": "1.2.0",
            "_model_name": "LayoutModel",
            "_view_count": null,
            "_view_module": "@jupyter-widgets/base",
            "_view_module_version": "1.2.0",
            "_view_name": "LayoutView",
            "align_content": null,
            "align_items": null,
            "align_self": null,
            "border": null,
            "bottom": null,
            "display": null,
            "flex": null,
            "flex_flow": null,
            "grid_area": null,
            "grid_auto_columns": null,
            "grid_auto_flow": null,
            "grid_auto_rows": null,
            "grid_column": null,
            "grid_gap": null,
            "grid_row": null,
            "grid_template_areas": null,
            "grid_template_columns": null,
            "grid_template_rows": null,
            "height": null,
            "justify_content": null,
            "justify_items": null,
            "left": null,
            "margin": null,
            "max_height": null,
            "max_width": null,
            "min_height": null,
            "min_width": null,
            "object_fit": null,
            "object_position": null,
            "order": null,
            "overflow": null,
            "overflow_x": null,
            "overflow_y": null,
            "padding": null,
            "right": null,
            "top": null,
            "visibility": null,
            "width": null
          }
        },
        "f4e90b0af7bb4bf396847512a0665ae4": {
          "model_module": "@jupyter-widgets/controls",
          "model_module_version": "1.5.0",
          "model_name": "FloatProgressModel",
          "state": {
            "_dom_classes": [],
            "_model_module": "@jupyter-widgets/controls",
            "_model_module_version": "1.5.0",
            "_model_name": "FloatProgressModel",
            "_view_count": null,
            "_view_module": "@jupyter-widgets/controls",
            "_view_module_version": "1.5.0",
            "_view_name": "ProgressView",
            "bar_style": "success",
            "description": "",
            "description_tooltip": null,
            "layout": "IPY_MODEL_c987e2eaeb1a4f4dbbb400b7a1bc7313",
            "max": 231508,
            "min": 0,
            "orientation": "horizontal",
            "style": "IPY_MODEL_5d42f988e29042d581de05a13307aeb3",
            "value": 231508
          }
        },
        "fd890f59a10f48739217859c3af0a67f": {
          "model_module": "@jupyter-widgets/base",
          "model_module_version": "1.2.0",
          "model_name": "LayoutModel",
          "state": {
            "_model_module": "@jupyter-widgets/base",
            "_model_module_version": "1.2.0",
            "_model_name": "LayoutModel",
            "_view_count": null,
            "_view_module": "@jupyter-widgets/base",
            "_view_module_version": "1.2.0",
            "_view_name": "LayoutView",
            "align_content": null,
            "align_items": null,
            "align_self": null,
            "border": null,
            "bottom": null,
            "display": null,
            "flex": null,
            "flex_flow": null,
            "grid_area": null,
            "grid_auto_columns": null,
            "grid_auto_flow": null,
            "grid_auto_rows": null,
            "grid_column": null,
            "grid_gap": null,
            "grid_row": null,
            "grid_template_areas": null,
            "grid_template_columns": null,
            "grid_template_rows": null,
            "height": null,
            "justify_content": null,
            "justify_items": null,
            "left": null,
            "margin": null,
            "max_height": null,
            "max_width": null,
            "min_height": null,
            "min_width": null,
            "object_fit": null,
            "object_position": null,
            "order": null,
            "overflow": null,
            "overflow_x": null,
            "overflow_y": null,
            "padding": null,
            "right": null,
            "top": null,
            "visibility": null,
            "width": null
          }
        }
      }
    }
  },
  "nbformat": 4,
  "nbformat_minor": 0
}
