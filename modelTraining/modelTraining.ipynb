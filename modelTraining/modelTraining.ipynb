{
  "cells": [
    {
      "cell_type": "code",
      "execution_count": 1,
      "metadata": {
        "colab": {
          "base_uri": "https://localhost:8080/"
        },
        "id": "3utlliT_dVgF",
        "outputId": "cb29d30a-e88b-4b80-8669-62fc49ee2f32"
      },
      "outputs": [
        {
          "name": "stdout",
          "output_type": "stream",
          "text": [
            "Drive already mounted at /content/drive; to attempt to forcibly remount, call drive.mount(\"/content/drive\", force_remount=True).\n"
          ]
        }
      ],
      "source": [
        "# Imports\n",
        "import os\n",
        "import torch\n",
        "from torch.utils.data import DataLoader, TensorDataset\n",
        "from transformers import BertTokenizer, AdamW\n",
        "from sklearn.metrics import f1_score\n",
        "from tqdm import tqdm\n",
        "\n",
        "\n",
        "from google.colab import drive\n",
        "drive.mount('/content/drive')\n",
        "SAVE_PATH = '/content/drive/MyDrive/stance_detection_model'\n",
        "\n",
        "\n",
        "import pandas as pd\n",
        "train_df = pd.read_csv('/content/drive/MyDrive/preprocessed_data_split/train_split.csv')\n",
        "val_df = pd.read_csv('/content/drive/MyDrive/preprocessed_data_split/val_split.csv')\n"
      ]
    },
    {
      "cell_type": "code",
      "execution_count": 2,
      "metadata": {
        "colab": {
          "base_uri": "https://localhost:8080/"
        },
        "id": "ufciSRNsMv53",
        "outputId": "5525246a-b77f-4059-e262-40225169ae1d"
      },
      "outputs": [
        {
          "name": "stderr",
          "output_type": "stream",
          "text": [
            "/usr/local/lib/python3.10/dist-packages/huggingface_hub/utils/_auth.py:94: UserWarning: \n",
            "The secret `HF_TOKEN` does not exist in your Colab secrets.\n",
            "To authenticate with the Hugging Face Hub, create a token in your settings tab (https://huggingface.co/settings/tokens), set it as secret in your Google Colab and restart your session.\n",
            "You will be able to reuse this secret in all of your notebooks.\n",
            "Please note that authentication is recommended but still optional to access public models or datasets.\n",
            "  warnings.warn(\n"
          ]
        }
      ],
      "source": [
        "\n",
        "\n",
        "\n",
        "tokenizer = BertTokenizer.from_pretrained(\"bert-base-uncased\")\n",
        "\n",
        "def preprocess_and_tokenize(data):\n",
        "    data['cleaned_tweet'] = data['cleaned_tweet'].astype(str)\n",
        "    inputs = tokenizer(\n",
        "        list(data['cleaned_tweet']),\n",
        "        padding=True,\n",
        "        truncation=True,\n",
        "        max_length=128,\n",
        "        return_tensors=\"pt\"\n",
        "    )\n",
        "    labels = torch.tensor(data['stance'].values, dtype=torch.long)\n",
        "    dataset = TensorDataset(inputs['input_ids'], inputs['attention_mask'], labels)\n",
        "    return DataLoader(dataset, batch_size=32, shuffle=True)\n",
        "\n",
        "train_loader = preprocess_and_tokenize(train_df)\n",
        "val_loader = preprocess_and_tokenize(val_df)\n",
        "\n",
        "\n"
      ]
    },
    {
      "cell_type": "code",
      "execution_count": 3,
      "metadata": {
        "id": "NJ2GiSaUd4jc"
      },
      "outputs": [],
      "source": [
        "\n",
        "\n",
        "class CustomBERTModel(torch.nn.Module):\n",
        "    def __init__(self, num_labels):\n",
        "        super(CustomBERTModel, self).__init__()\n",
        "        from transformers import BertModel\n",
        "        self.bert = BertModel.from_pretrained(\"bert-base-uncased\")\n",
        "        self.dropout1 = torch.nn.Dropout(0.1)\n",
        "        self.fc1 = torch.nn.Linear(self.bert.config.hidden_size, 64)\n",
        "        self.dropout2 = torch.nn.Dropout(0.1)\n",
        "        self.fc2 = torch.nn.Linear(64, 32)\n",
        "        self.dropout3 = torch.nn.Dropout(0.1)\n",
        "        self.fc3 = torch.nn.Linear(32, num_labels)\n",
        "\n",
        "    def forward(self, input_ids, attention_mask):\n",
        "        outputs = self.bert(input_ids=input_ids, attention_mask=attention_mask)\n",
        "        x = self.dropout1(outputs.pooler_output)\n",
        "        x = torch.nn.ReLU()(self.fc1(x))\n",
        "        x = self.dropout2(x)\n",
        "        x = torch.nn.ReLU()(self.fc2(x))\n",
        "        x = self.dropout3(x)\n",
        "        return self.fc3(x)\n",
        "\n"
      ]
    },
    {
      "cell_type": "code",
      "execution_count": 4,
      "metadata": {
        "colab": {
          "base_uri": "https://localhost:8080/"
        },
        "id": "9Ydkofdxex8_",
        "outputId": "016c6dd0-782c-482b-8481-3e603005ce2f"
      },
      "outputs": [
        {
          "name": "stderr",
          "output_type": "stream",
          "text": [
            "/usr/local/lib/python3.10/dist-packages/transformers/optimization.py:591: FutureWarning: This implementation of AdamW is deprecated and will be removed in a future version. Use the PyTorch implementation torch.optim.AdamW instead, or set `no_deprecation_warning=True` to disable this warning\n",
            "  warnings.warn(\n"
          ]
        }
      ],
      "source": [
        "\n",
        "device = torch.device(\"cuda\" if torch.cuda.is_available() else \"cpu\")\n",
        "model = CustomBERTModel(num_labels=3).to(device)\n",
        "\n",
        "optimizer = AdamW(model.parameters(), lr=1e-5)\n",
        "criterion = torch.nn.CrossEntropyLoss()\n"
      ]
    },
    {
      "cell_type": "code",
      "execution_count": 5,
      "metadata": {
        "colab": {
          "base_uri": "https://localhost:8080/"
        },
        "id": "lT-bmUp4fGxw",
        "outputId": "e621d918-549a-4bc1-91b7-11e72377bffb"
      },
      "outputs": [
        {
          "name": "stdout",
          "output_type": "stream",
          "text": [
            "Using device: cuda\n"
          ]
        }
      ],
      "source": [
        "print(f\"Using device: {device}\")"
      ]
    },
    {
      "cell_type": "code",
      "execution_count": 12,
      "metadata": {
        "colab": {
          "base_uri": "https://localhost:8080/"
        },
        "id": "BAKOh46-ezr4",
        "outputId": "185bf54f-c1e1-4bd0-9a6a-886bf67236c5"
      },
      "outputs": [
        {
          "name": "stderr",
          "output_type": "stream",
          "text": [
            "Training Epoch 1: 100%|██████████| 694/694 [07:01<00:00,  1.64it/s]\n"
          ]
        },
        {
          "name": "stdout",
          "output_type": "stream",
          "text": [
            "Epoch 1 Training Loss: 0.5980\n"
          ]
        },
        {
          "name": "stderr",
          "output_type": "stream",
          "text": [
            "Validating Epoch 1: 100%|██████████| 174/174 [00:29<00:00,  5.89it/s]\n"
          ]
        },
        {
          "name": "stdout",
          "output_type": "stream",
          "text": [
            "Epoch 1 Validation F1: 0.7480, Loss: 0.5842\n",
            "Model saved to /content/drive/MyDrive/stance_detection_model with F1: 0.7480\n"
          ]
        },
        {
          "name": "stderr",
          "output_type": "stream",
          "text": [
            "Training Epoch 2: 100%|██████████| 694/694 [07:01<00:00,  1.65it/s]\n"
          ]
        },
        {
          "name": "stdout",
          "output_type": "stream",
          "text": [
            "Epoch 2 Training Loss: 0.4670\n"
          ]
        },
        {
          "name": "stderr",
          "output_type": "stream",
          "text": [
            "Validating Epoch 2: 100%|██████████| 174/174 [00:29<00:00,  5.87it/s]\n"
          ]
        },
        {
          "name": "stdout",
          "output_type": "stream",
          "text": [
            "Epoch 2 Validation F1: 0.7719, Loss: 0.5781\n",
            "Model saved to /content/drive/MyDrive/stance_detection_model with F1: 0.7719\n"
          ]
        },
        {
          "name": "stderr",
          "output_type": "stream",
          "text": [
            "Training Epoch 3: 100%|██████████| 694/694 [07:01<00:00,  1.65it/s]\n"
          ]
        },
        {
          "name": "stdout",
          "output_type": "stream",
          "text": [
            "Epoch 3 Training Loss: 0.3521\n"
          ]
        },
        {
          "name": "stderr",
          "output_type": "stream",
          "text": [
            "Validating Epoch 3: 100%|██████████| 174/174 [00:29<00:00,  5.88it/s]\n"
          ]
        },
        {
          "name": "stdout",
          "output_type": "stream",
          "text": [
            "Epoch 3 Validation F1: 0.7872, Loss: 0.6232\n",
            "Model saved to /content/drive/MyDrive/stance_detection_model with F1: 0.7872\n"
          ]
        }
      ],
      "source": [
        "\n",
        "\n",
        "def train_and_save_model(model, train_loader, val_loader, optimizer, criterion, epochs, save_path):\n",
        "    best_f1 = 0\n",
        "    for epoch in range(epochs):\n",
        "        model.train()\n",
        "        train_loss = 0\n",
        "        for batch in tqdm(train_loader, desc=f\"Training Epoch {epoch + 1}\"):\n",
        "            input_ids, attention_mask, labels = [x.to(device) for x in batch]\n",
        "            optimizer.zero_grad()\n",
        "            logits = model(input_ids, attention_mask)\n",
        "            loss = criterion(logits, labels)\n",
        "            loss.backward()\n",
        "            optimizer.step()\n",
        "            train_loss += loss.item()\n",
        "\n",
        "        print(f\"Epoch {epoch + 1} Training Loss: {train_loss / len(train_loader):.4f}\")\n",
        "\n",
        "       \n",
        "        model.eval()\n",
        "        val_loss, all_preds, all_labels = 0, [], []\n",
        "        with torch.no_grad():\n",
        "            for batch in tqdm(val_loader, desc=f\"Validating Epoch {epoch + 1}\"):\n",
        "                input_ids, attention_mask, labels = [x.to(device) for x in batch]\n",
        "                logits = model(input_ids, attention_mask)\n",
        "                loss = criterion(logits, labels)\n",
        "                val_loss += loss.item()\n",
        "                preds = torch.argmax(logits, dim=1)\n",
        "                all_preds.extend(preds.cpu().numpy())\n",
        "                all_labels.extend(labels.cpu().numpy())\n",
        "\n",
        "        val_f1 = f1_score(all_labels, all_preds, average='weighted')\n",
        "        print(f\"Epoch {epoch + 1} Validation F1: {val_f1:.4f}, Loss: {val_loss / len(val_loader):.4f}\")\n",
        "\n",
        "       \n",
        "        if val_f1 > best_f1:\n",
        "            best_f1 = val_f1\n",
        "            torch.save(model.state_dict(), f\"{save_path}/model_weights.pth\")\n",
        "            tokenizer.save_pretrained(save_path)\n",
        "            print(f\"Model saved to {save_path} with F1: {best_f1:.4f}\")\n",
        "\n",
        "\n",
        "train_and_save_model(model, train_loader, val_loader, optimizer, criterion, epochs=3, save_path=SAVE_PATH)"
      ]
    },
    {
      "cell_type": "code",
      "execution_count": 10,
      "metadata": {
        "colab": {
          "base_uri": "https://localhost:8080/"
        },
        "id": "e5JJXQZxs1z9",
        "outputId": "b45acaef-b423-4fcc-a55f-b3f71bb5aae3"
      },
      "outputs": [
        {
          "name": "stderr",
          "output_type": "stream",
          "text": [
            "<ipython-input-10-5617cf35fe68>:6: FutureWarning: You are using `torch.load` with `weights_only=False` (the current default value), which uses the default pickle module implicitly. It is possible to construct malicious pickle data which will execute arbitrary code during unpickling (See https://github.com/pytorch/pytorch/blob/main/SECURITY.md#untrusted-models for more details). In a future release, the default value for `weights_only` will be flipped to `True`. This limits the functions that could be executed during unpickling. Arbitrary objects will no longer be allowed to be loaded via this mode unless they are explicitly allowlisted by the user via `torch.serialization.add_safe_globals`. We recommend you start setting `weights_only=True` for any use case where you don't have full control of the loaded file. Please open an issue on GitHub for any issues related to this experimental feature.\n",
            "  model.load_state_dict(torch.load(\"/content/drive/MyDrive/stance_detection_model/model_weights.pth\"))\n"
          ]
        },
        {
          "name": "stdout",
          "output_type": "stream",
          "text": [
            "Model and tokenizer loaded successfully.\n"
          ]
        }
      ],
      "source": [
        "from transformers import BertTokenizer\n",
        "import torch\n",
        "\n",
        "\n",
        "model = CustomBERTModel(num_labels=3)  \n",
        "model.load_state_dict(torch.load(\"/content/drive/MyDrive/stance_detection_model/model_weights.pth\"))\n",
        "model.to(device)\n",
        "model.eval()\n",
        "\n",
        "\n",
        "tokenizer = BertTokenizer.from_pretrained(\"/content/drive/MyDrive/stance_detection_model\")\n",
        "print(\"Model and tokenizer loaded successfully.\")\n"
      ]
    },
    {
      "cell_type": "code",
      "execution_count": 11,
      "metadata": {
        "id": "xy2ZPAz6uP8G"
      },
      "outputs": [],
      "source": [
        "\n",
        "df = pd.read_parquet(\"/content/drive/MyDrive/preprocessed_data/merged_global_warming_tweets.parquet\")\n",
        "\n",
        "\n",
        "def preprocess_tweet(tweet):\n",
        "    import re\n",
        "    tweet = re.sub(r\"http\\S+|@\\S+|#\\S+\", \"\", tweet)  \n",
        "    tweet = re.sub(r\"[^\\w\\s]\", \"\", tweet)  \n",
        "    return tweet.lower().strip()\n",
        "\n",
        "df['cleaned_tweet'] = df['tweet'].apply(preprocess_tweet) \n",
        "\n",
        "\n",
        "inputs = tokenizer(\n",
        "    list(df['cleaned_tweet']),\n",
        "    padding=True,\n",
        "    truncation=True,\n",
        "    max_length=128,\n",
        "    return_tensors=\"pt\"\n",
        ")\n"
      ]
    },
    {
      "cell_type": "code",
      "execution_count": 12,
      "metadata": {
        "id": "gkh-xrMEzMsh"
      },
      "outputs": [],
      "source": [
        "from torch.utils.data import DataLoader, TensorDataset\n",
        "\n",
        "\n",
        "inference_dataset = TensorDataset(\n",
        "    inputs['input_ids'],\n",
        "    inputs['attention_mask']\n",
        ")\n",
        "\n",
        "\n",
        "inference_loader = DataLoader(inference_dataset, batch_size=32, shuffle=False)\n"
      ]
    },
    {
      "cell_type": "code",
      "execution_count": 13,
      "metadata": {
        "colab": {
          "base_uri": "https://localhost:8080/"
        },
        "id": "F6CFWbKsvSfL",
        "outputId": "e6a236f3-46a5-48dd-d998-0a0ea842fbf6"
      },
      "outputs": [
        {
          "name": "stdout",
          "output_type": "stream",
          "text": [
            "Predictions saved to 'predicted_stances.csv'.\n"
          ]
        }
      ],
      "source": [
        "\n",
        "all_predictions = []\n",
        "\n",
        "model.eval()\n",
        "with torch.no_grad():\n",
        "    for batch in inference_loader:\n",
        "        input_ids, attention_mask = [x.to(device) for x in batch]\n",
        "        logits = model(input_ids=input_ids, attention_mask=attention_mask)\n",
        "        batch_predictions = torch.argmax(logits, dim=1).cpu().numpy()\n",
        "        all_predictions.extend(batch_predictions)  \n",
        "\n",
        "\n",
        "stance_mapping = {0: \"Anti\", 1: \"Pro\", 2: \"Neutral\"}\n",
        "df['predicted_stance'] = [stance_mapping[pred] for pred in all_predictions]\n",
        "\n",
        "\n",
        "df.to_csv(\"/content/drive/MyDrive/preprocessed_data/predicted_stances.csv\", index=False)\n",
        "print(\"Predictions saved to 'predicted_stances.csv'.\")\n"
      ]
    },
    {
      "cell_type": "code",
      "execution_count": 24,
      "metadata": {
        "colab": {
          "base_uri": "https://localhost:8080/"
        },
        "id": "htYE6tkL-MoT",
        "outputId": "203eb323-b246-4892-8fa3-4310decf3e84"
      },
      "outputs": [
        {
          "name": "stdout",
          "output_type": "stream",
          "text": [
            "          user                   id  \\\n",
            "0  RetirePedia  1203086131946041346   \n",
            "1  RetirePedia  1158088972997931014   \n",
            "2  RetirePedia  1140358200216182787   \n",
            "3  RetirePedia  1107651714218369024   \n",
            "4  RetirePedia  1043895529791533056   \n",
            "\n",
            "                                               tweet  replies  retweets likes  \\\n",
            "0  .@TimmermansEU @vonderleyen Ich bin besorgt, d...      0.0       0.0     0   \n",
            "1  Suffering from the current #heatwave? 😥 No Air...      0.0       0.0     0   \n",
            "2  .@AngelMerkelCDU Als Europäer müssen wir voran...      0.0       0.0     0   \n",
            "3  Hurricane season in Belize is typically from S...      0.0       0.0     0   \n",
            "4  3 Places for a Beachfront #Retirement Outside ...      0.0       1.0     0   \n",
            "\n",
            "  quotes                       date  \\\n",
            "0      0  2019-12-06T22:57:40+00:00   \n",
            "1      0  2019-08-04T18:55:02+00:00   \n",
            "2      0  2019-06-16T20:39:16+00:00   \n",
            "3      0  2019-03-18T14:35:22+00:00   \n",
            "4      0  2018-09-23T16:11:03+00:00   \n",
            "\n",
            "                                       cleaned_tweet predicted_stance  \n",
            "0  ich bin besorgt dass ihr  nicht reicht emissio...          Neutral  \n",
            "1  suffering from the current   no air conditione...          Neutral  \n",
            "2  als europäer müssen wir vorangehen und die  an...          Neutral  \n",
            "3  hurricane season in belize is typically from s...          Neutral  \n",
            "4  3 places for a beachfront  outside the  zone  via              Pro  \n"
          ]
        }
      ],
      "source": [
        "import pandas as pd\n",
        "\n",
        "\n",
        "dff = pd.read_csv(\"/content/drive/MyDrive/preprocessed_data/predicted_stances.csv\", on_bad_lines='skip', engine=\"python\")\n",
        "print(dff.head())  "
      ]
    },
    {
      "cell_type": "code",
      "execution_count": 25,
      "metadata": {
        "colab": {
          "base_uri": "https://localhost:8080/"
        },
        "id": "HFObkGnyBkli",
        "outputId": "b678e877-a92b-4e4c-fca8-0d8648b457c0"
      },
      "outputs": [
        {
          "name": "stdout",
          "output_type": "stream",
          "text": [
            "Updated file saved to '/content/drive/MyDrive/preprocessed_data/updated_predicted_stances.csv'.\n"
          ]
        }
      ],
      "source": [
        "import pandas as pd\n",
        "\n",
        "\n",
        "\n",
        "dff = dff[dff['cleaned_tweet'].str.strip().astype(bool)]\n",
        "\n",
        "\n",
        "updated_file_path = \"/content/drive/MyDrive/preprocessed_data/updated_predicted_stances.csv\"\n",
        "dff.to_csv(updated_file_path, index=False)\n",
        "\n",
        "print(f\"Updated file saved to '{updated_file_path}'.\")\n"
      ]
    },
    {
      "cell_type": "code",
      "execution_count": 26,
      "metadata": {
        "colab": {
          "base_uri": "https://localhost:8080/"
        },
        "id": "2C05iRMh4Wl0",
        "outputId": "c9cb1b63-8868-432c-daa4-90037dc90c06"
      },
      "outputs": [
        {
          "name": "stdout",
          "output_type": "stream",
          "text": [
            "predicted_stance\n",
            "Pro        84391\n",
            "Neutral    18770\n",
            "Anti        1380\n",
            "Name: count, dtype: int64\n"
          ]
        }
      ],
      "source": [
        "print(dff['predicted_stance'].value_counts())\n"
      ]
    },
    {
      "cell_type": "code",
      "execution_count": 27,
      "metadata": {
        "colab": {
          "base_uri": "https://localhost:8080/",
          "height": 509
        },
        "id": "u0o3DFvb4aRF",
        "outputId": "2e0aed49-b004-479a-ad63-ab149db28028"
      },
      "outputs": [
        {
          "data": {
            "image/png": "[encoded data removed]",
            "text/plain": [
              "<Figure size 640x480 with 1 Axes>"
            ]
          },
          "metadata": {},
          "output_type": "display_data"
        }
      ],
      "source": [
        "import matplotlib.pyplot as plt\n",
        "\n",
        "stance_counts = dff['predicted_stance'].value_counts()\n",
        "stance_counts.plot(kind='bar', color=['green', 'gray', 'red'])\n",
        "plt.title(\"Stance Distribution\")\n",
        "plt.xlabel(\"Stance\")\n",
        "plt.ylabel(\"Number of Tweets\")\n",
        "plt.show()\n"
      ]
    },
    {
      "cell_type": "code",
      "execution_count": 29,
      "metadata": {
        "id": "Jqz049Bd6X88"
      },
      "outputs": [],
      "source": [
        "\n",
        "dff['date'] = pd.to_datetime(dff['date'])\n",
        "\n",
        "\n",
        "dff['year'] = dff['date'].dt.year\n"
      ]
    },
    {
      "cell_type": "code",
      "execution_count": 30,
      "metadata": {
        "colab": {
          "base_uri": "https://localhost:8080/",
          "height": 455
        },
        "id": "FB216iul6Zoq",
        "outputId": "10ba4e13-128e-4058-b02c-e852bc18c5de"
      },
      "outputs": [
        {
          "data": {
            "image/png": "[encoded data removed]",
            "text/plain": [
              "<Figure size 1200x600 with 1 Axes>"
            ]
          },
          "metadata": {},
          "output_type": "display_data"
        }
      ],
      "source": [
        "\n",
        "stance_by_year = dff.groupby(['year', 'predicted_stance']).size().reset_index(name='count')\n",
        "\n",
        "import matplotlib.pyplot as plt\n",
        "import seaborn as sns\n",
        "\n",
        "\n",
        "plt.figure(figsize=(12, 6))\n",
        "sns.lineplot(data=stance_by_year, x='year', y='count', hue='predicted_stance', marker='o')\n",
        "\n",
        "plt.title(\"Temporal Stance Distribution Over Time\", fontsize=16)\n",
        "plt.xlabel(\"Year\", fontsize=14)\n",
        "plt.ylabel(\"Tweet Count\", fontsize=14)\n",
        "plt.legend(title=\"Stance\", labels=[\"Pro\", \"Neutral\", \"Anti\"])\n",
        "plt.grid(True)\n",
        "plt.tight_layout()\n",
        "\n",
        "\n",
        "plt.show()\n"
      ]
    }
  ],
  "metadata": {
    "accelerator": "GPU",
    "colab": {
      "gpuType": "T4",
      "provenance": []
    },
    "kernelspec": {
      "display_name": "Python 3",
      "name": "python3"
    },
    "language_info": {
      "name": "python"
    }
  },
  "nbformat": 4,
  "nbformat_minor": 0
}
