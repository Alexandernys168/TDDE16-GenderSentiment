{
 "cells": [
  {
   "cell_type": "code",
   "execution_count": 3,
   "metadata": {},
   "outputs": [
    {
     "name": "stdout",
     "output_type": "stream",
     "text": [
      "Filtered file saved to ../dataset/predicted_genders/predicted_genders_filtered.csv\n"
     ]
    }
   ],
   "source": [
    "import pandas as pd\n",
    "\n",
    "\n",
    "input_file = \"../dataset/predicted_genders/predicted_genders_87.csv\"\n",
    "output_file = \"../dataset/predicted_genders/predicted_genders_filtered.csv\"\n",
    "\n",
    "try:\n",
    "  \n",
    "    data = pd.read_csv(input_file)\n",
    "\n",
    "    \n",
    "    filtered_data = data[data['gender'] != 'unknown']\n",
    "      \n",
    "    filtered_data = filtered_data.dropna()\n",
    "\n",
    "   \n",
    "    filtered_data.to_csv(output_file, index=False)\n",
    "    print(\"Filtered file saved to {}\".format(output_file))\n",
    "except Exception as e:\n",
    "    print(\"Error:\", e)\n"
   ]
  }
 ],
 "metadata": {
  "kernelspec": {
   "display_name": "textMining2",
   "language": "python",
   "name": "python3"
  },
  "language_info": {
   "codemirror_mode": {
    "name": "ipython",
    "version": 3
   },
   "file_extension": ".py",
   "mimetype": "text/x-python",
   "name": "python",
   "nbconvert_exporter": "python",
   "pygments_lexer": "ipython3",
   "version": "3.11.10"
  }
 },
 "nbformat": 4,
 "nbformat_minor": 2
}
