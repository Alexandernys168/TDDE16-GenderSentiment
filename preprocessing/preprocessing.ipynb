{
 "cells": [
  {
   "cell_type": "code",
   "execution_count": 43,
   "metadata": {},
   "outputs": [],
   "source": [
    "import os\n",
    "import pandas as pd\n",
    "import random\n",
    "from langid.langid import LanguageIdentifier, model\n",
    "from tqdm import tqdm\n",
    "import re"
   ]
  },
  {
   "cell_type": "code",
   "execution_count": 44,
   "metadata": {},
   "outputs": [],
   "source": [
    "\n",
    "identifier = LanguageIdentifier.from_modelstring(model, norm_probs=True)\n",
    "\n",
    "\n",
    "input_folder = \"../dataset/twitter100m_tweets/data\"\n",
    "output_folder = \"../dataset/twitter100m_tweets_filtered/data\"\n",
    "os.makedirs(output_folder, exist_ok=True)"
   ]
  },
  {
   "cell_type": "code",
   "execution_count": 45,
   "metadata": {},
   "outputs": [],
   "source": [
    "\n",
    "def preprocess_tweet(tweet):\n",
    "    \n",
    "   \n",
    "    tweet = re.sub(r\"http\\S+|@\\S+|#\\S+\", \"\", tweet)  \n",
    "    tweet = re.sub(r\"[^\\w\\s]\", \"\", tweet) \n",
    "    return tweet.strip()\n",
    "\n",
    "\n",
    "def detect_language(tweet):\n",
    "    try:\n",
    "        if isinstance(tweet, str):\n",
    "\n",
    "            cleaned_tweet = tweet.strip()\n",
    "            if re.fullmatch(r\"http\\S+\", cleaned_tweet):  \n",
    "                return \"unknown\"  \n",
    "            \n",
    "            tweet = preprocess_tweet(tweet)  \n",
    "            lang, _ = identifier.classify(tweet)\n",
    "            return lang\n",
    "    except:\n",
    "        return \"unknown\"\n",
    "\n",
    "\n",
    "def is_non_english_or_spam_user(user_tweets, sample_size=20, threshold=17, spam_threshold=17):\n",
    "    \"\"\"\n",
    "    Determine if a user is predominantly non-English or spamming links.\n",
    "\n",
    "    Parameters:\n",
    "        user_tweets (list): List of tweets by the user.\n",
    "        sample_size (int): Number of tweets to sample for analysis.\n",
    "        threshold (int): Number of non-English tweets needed to classify as non-English.\n",
    "        spam_threshold (int): Number of \"link\" tweets needed to classify as spam.\n",
    "\n",
    "    Returns:\n",
    "        bool: True if the user is predominantly non-English or spamming, False otherwise.\n",
    "    \"\"\"\n",
    "    \n",
    "    sampled_tweets = random.sample(list(user_tweets), min(len(user_tweets), sample_size))\n",
    "    detected_languages = [detect_language(tweet) for tweet in sampled_tweets]\n",
    "\n",
    "   \n",
    "    non_english_count = sum(1 for lang in detected_languages if lang not in {\"en\", \"link\"})\n",
    "    \n",
    "   \n",
    "    spam_count = sum(1 for lang in detected_languages if lang == \"link\")\n",
    "\n",
    "   \n",
    "    return non_english_count >= threshold or spam_count >= spam_threshold\n",
    "\n",
    "\n",
    "\n",
    "def is_filtered(file):\n",
    "    filtered_file = os.path.join(output_folder, f\"filtered_{file}\")\n",
    "    return os.path.exists(filtered_file)"
   ]
  },
  {
   "cell_type": "code",
   "execution_count": null,
   "metadata": {},
   "outputs": [
    {
     "name": "stderr",
     "output_type": "stream",
     "text": [
      "Checking Files:   0%|          | 0/41 [00:00<?, ?it/s]"
     ]
    },
    {
     "name": "stdout",
     "output_type": "stream",
     "text": [
      "Processing ../dataset/twitter100m_tweets/data\\train-00001-of-00041-4491d6daeecba187.parquet...\n"
     ]
    },
    {
     "name": "stderr",
     "output_type": "stream",
     "text": [
      "Filtering Users: 100%|██████████| 3328/3328 [02:41<00:00, 20.54it/s]\n",
      "Checking Files:   5%|▍         | 2/41 [02:48<54:48, 84.32s/it]"
     ]
    },
    {
     "name": "stdout",
     "output_type": "stream",
     "text": [
      "Saved filtered file: ../dataset/twitter100m_tweets_filtered/data\\filtered_train-00001-of-00041-4491d6daeecba187.parquet\n",
      "Processing ../dataset/twitter100m_tweets/data\\train-00002-of-00041-6f8b4e61b330413a.parquet...\n"
     ]
    },
    {
     "name": "stderr",
     "output_type": "stream",
     "text": [
      "Filtering Users: 100%|██████████| 3375/3375 [02:22<00:00, 23.66it/s]\n",
      "Checking Files:   7%|▋         | 3/41 [05:16<1:10:16, 110.97s/it]"
     ]
    },
    {
     "name": "stdout",
     "output_type": "stream",
     "text": [
      "Saved filtered file: ../dataset/twitter100m_tweets_filtered/data\\filtered_train-00002-of-00041-6f8b4e61b330413a.parquet\n",
      "Processing ../dataset/twitter100m_tweets/data\\train-00003-of-00041-0697f448acaad204.parquet...\n"
     ]
    },
    {
     "name": "stderr",
     "output_type": "stream",
     "text": [
      "Filtering Users: 100%|██████████| 3421/3421 [02:20<00:00, 24.38it/s]\n",
      "Checking Files:  10%|▉         | 4/41 [07:42<1:16:21, 123.82s/it]"
     ]
    },
    {
     "name": "stdout",
     "output_type": "stream",
     "text": [
      "Saved filtered file: ../dataset/twitter100m_tweets_filtered/data\\filtered_train-00003-of-00041-0697f448acaad204.parquet\n",
      "Processing ../dataset/twitter100m_tweets/data\\train-00004-of-00041-93670d3f00e7702a.parquet...\n"
     ]
    },
    {
     "name": "stderr",
     "output_type": "stream",
     "text": [
      "Filtering Users: 100%|██████████| 3414/3414 [02:17<00:00, 24.77it/s]\n",
      "Checking Files:  12%|█▏        | 5/41 [10:05<1:18:16, 130.45s/it]"
     ]
    },
    {
     "name": "stdout",
     "output_type": "stream",
     "text": [
      "Saved filtered file: ../dataset/twitter100m_tweets_filtered/data\\filtered_train-00004-of-00041-93670d3f00e7702a.parquet\n",
      "Processing ../dataset/twitter100m_tweets/data\\train-00005-of-00041-bd0a45674af16df9.parquet...\n"
     ]
    },
    {
     "name": "stderr",
     "output_type": "stream",
     "text": [
      "Filtering Users: 100%|██████████| 3395/3395 [02:23<00:00, 23.66it/s]\n",
      "Checking Files:  15%|█▍        | 6/41 [12:35<1:19:50, 136.88s/it]"
     ]
    },
    {
     "name": "stdout",
     "output_type": "stream",
     "text": [
      "Saved filtered file: ../dataset/twitter100m_tweets_filtered/data\\filtered_train-00005-of-00041-bd0a45674af16df9.parquet\n",
      "Processing ../dataset/twitter100m_tweets/data\\train-00006-of-00041-1eba3fa272d4cc5a.parquet...\n"
     ]
    },
    {
     "name": "stderr",
     "output_type": "stream",
     "text": [
      "Filtering Users: 100%|██████████| 3377/3377 [02:22<00:00, 23.67it/s]\n",
      "Checking Files:  17%|█▋        | 7/41 [15:02<1:19:32, 140.37s/it]"
     ]
    },
    {
     "name": "stdout",
     "output_type": "stream",
     "text": [
      "Saved filtered file: ../dataset/twitter100m_tweets_filtered/data\\filtered_train-00006-of-00041-1eba3fa272d4cc5a.parquet\n",
      "Processing ../dataset/twitter100m_tweets/data\\train-00007-of-00041-83618ac42672cdb2.parquet...\n"
     ]
    },
    {
     "name": "stderr",
     "output_type": "stream",
     "text": [
      "Filtering Users: 100%|██████████| 3348/3348 [02:21<00:00, 23.67it/s]\n",
      "Checking Files:  20%|█▉        | 8/41 [17:29<1:18:18, 142.38s/it]"
     ]
    },
    {
     "name": "stdout",
     "output_type": "stream",
     "text": [
      "Saved filtered file: ../dataset/twitter100m_tweets_filtered/data\\filtered_train-00007-of-00041-83618ac42672cdb2.parquet\n",
      "Processing ../dataset/twitter100m_tweets/data\\train-00008-of-00041-13bc872663c28c2c.parquet...\n"
     ]
    },
    {
     "name": "stderr",
     "output_type": "stream",
     "text": [
      "Filtering Users: 100%|██████████| 3349/3349 [02:13<00:00, 25.10it/s]\n",
      "Checking Files:  22%|██▏       | 9/41 [19:47<1:15:16, 141.14s/it]"
     ]
    },
    {
     "name": "stdout",
     "output_type": "stream",
     "text": [
      "Saved filtered file: ../dataset/twitter100m_tweets_filtered/data\\filtered_train-00008-of-00041-13bc872663c28c2c.parquet\n",
      "Processing ../dataset/twitter100m_tweets/data\\train-00009-of-00041-832bcbc6df883d94.parquet...\n"
     ]
    },
    {
     "name": "stderr",
     "output_type": "stream",
     "text": [
      "Filtering Users: 100%|██████████| 3309/3309 [02:27<00:00, 22.47it/s]\n",
      "Checking Files:  24%|██▍       | 10/41 [22:21<1:14:50, 144.85s/it]"
     ]
    },
    {
     "name": "stdout",
     "output_type": "stream",
     "text": [
      "Saved filtered file: ../dataset/twitter100m_tweets_filtered/data\\filtered_train-00009-of-00041-832bcbc6df883d94.parquet\n",
      "Processing ../dataset/twitter100m_tweets/data\\train-00010-of-00041-39a461f69a92fa95.parquet...\n"
     ]
    },
    {
     "name": "stderr",
     "output_type": "stream",
     "text": [
      "Filtering Users: 100%|██████████| 3336/3336 [02:15<00:00, 24.64it/s]\n",
      "Checking Files:  27%|██▋       | 11/41 [24:41<1:11:45, 143.51s/it]"
     ]
    },
    {
     "name": "stdout",
     "output_type": "stream",
     "text": [
      "Saved filtered file: ../dataset/twitter100m_tweets_filtered/data\\filtered_train-00010-of-00041-39a461f69a92fa95.parquet\n",
      "Processing ../dataset/twitter100m_tweets/data\\train-00011-of-00041-d348ab50c204b5fe.parquet...\n"
     ]
    },
    {
     "name": "stderr",
     "output_type": "stream",
     "text": [
      "Filtering Users: 100%|██████████| 3325/3325 [02:16<00:00, 24.35it/s]\n",
      "Checking Files:  29%|██▉       | 12/41 [27:02<1:09:02, 142.84s/it]"
     ]
    },
    {
     "name": "stdout",
     "output_type": "stream",
     "text": [
      "Saved filtered file: ../dataset/twitter100m_tweets_filtered/data\\filtered_train-00011-of-00041-d348ab50c204b5fe.parquet\n",
      "Processing ../dataset/twitter100m_tweets/data\\train-00012-of-00041-6e54d5bc32e33932.parquet...\n"
     ]
    },
    {
     "name": "stderr",
     "output_type": "stream",
     "text": [
      "Filtering Users: 100%|██████████| 3331/3331 [02:21<00:00, 23.53it/s]\n",
      "Checking Files:  32%|███▏      | 13/41 [29:29<1:07:09, 143.89s/it]"
     ]
    },
    {
     "name": "stdout",
     "output_type": "stream",
     "text": [
      "Saved filtered file: ../dataset/twitter100m_tweets_filtered/data\\filtered_train-00012-of-00041-6e54d5bc32e33932.parquet\n",
      "Processing ../dataset/twitter100m_tweets/data\\train-00013-of-00041-0d2774f64ea97a49.parquet...\n"
     ]
    },
    {
     "name": "stderr",
     "output_type": "stream",
     "text": [
      "Filtering Users: 100%|██████████| 3369/3369 [02:11<00:00, 25.70it/s]\n",
      "Checking Files:  34%|███▍      | 14/41 [31:45<1:03:40, 141.51s/it]"
     ]
    },
    {
     "name": "stdout",
     "output_type": "stream",
     "text": [
      "Saved filtered file: ../dataset/twitter100m_tweets_filtered/data\\filtered_train-00013-of-00041-0d2774f64ea97a49.parquet\n",
      "Processing ../dataset/twitter100m_tweets/data\\train-00014-of-00041-f7aba38896b21cac.parquet...\n"
     ]
    },
    {
     "name": "stderr",
     "output_type": "stream",
     "text": [
      "Filtering Users: 100%|██████████| 3348/3348 [02:02<00:00, 27.22it/s]\n",
      "Checking Files:  37%|███▋      | 15/41 [33:52<59:28, 137.26s/it]  "
     ]
    },
    {
     "name": "stdout",
     "output_type": "stream",
     "text": [
      "Saved filtered file: ../dataset/twitter100m_tweets_filtered/data\\filtered_train-00014-of-00041-f7aba38896b21cac.parquet\n",
      "Processing ../dataset/twitter100m_tweets/data\\train-00015-of-00041-74ec967e210e13de.parquet...\n"
     ]
    },
    {
     "name": "stderr",
     "output_type": "stream",
     "text": [
      "Filtering Users: 100%|██████████| 3376/3376 [02:05<00:00, 26.87it/s]\n",
      "Checking Files:  39%|███▉      | 16/41 [36:02<56:16, 135.08s/it]"
     ]
    },
    {
     "name": "stdout",
     "output_type": "stream",
     "text": [
      "Saved filtered file: ../dataset/twitter100m_tweets_filtered/data\\filtered_train-00015-of-00041-74ec967e210e13de.parquet\n",
      "Processing ../dataset/twitter100m_tweets/data\\train-00016-of-00041-98ae0cf4e8a10ffa.parquet...\n"
     ]
    },
    {
     "name": "stderr",
     "output_type": "stream",
     "text": [
      "Filtering Users: 100%|██████████| 3329/3329 [02:05<00:00, 26.57it/s]\n",
      "Checking Files:  41%|████▏     | 17/41 [38:12<53:22, 133.44s/it]"
     ]
    },
    {
     "name": "stdout",
     "output_type": "stream",
     "text": [
      "Saved filtered file: ../dataset/twitter100m_tweets_filtered/data\\filtered_train-00016-of-00041-98ae0cf4e8a10ffa.parquet\n",
      "Processing ../dataset/twitter100m_tweets/data\\train-00017-of-00041-a3582ea51ad90339.parquet...\n"
     ]
    },
    {
     "name": "stderr",
     "output_type": "stream",
     "text": [
      "Filtering Users: 100%|██████████| 3373/3373 [02:06<00:00, 26.73it/s]\n",
      "Checking Files:  44%|████▍     | 18/41 [40:22<50:49, 132.60s/it]"
     ]
    },
    {
     "name": "stdout",
     "output_type": "stream",
     "text": [
      "Saved filtered file: ../dataset/twitter100m_tweets_filtered/data\\filtered_train-00017-of-00041-a3582ea51ad90339.parquet\n",
      "Processing ../dataset/twitter100m_tweets/data\\train-00018-of-00041-64af2b13d642caac.parquet...\n"
     ]
    },
    {
     "name": "stderr",
     "output_type": "stream",
     "text": [
      "Filtering Users: 100%|██████████| 3383/3383 [02:05<00:00, 27.01it/s]\n",
      "Checking Files:  46%|████▋     | 19/41 [42:32<48:18, 131.74s/it]"
     ]
    },
    {
     "name": "stdout",
     "output_type": "stream",
     "text": [
      "Saved filtered file: ../dataset/twitter100m_tweets_filtered/data\\filtered_train-00018-of-00041-64af2b13d642caac.parquet\n",
      "Processing ../dataset/twitter100m_tweets/data\\train-00019-of-00041-294207d1b5c8e9e4.parquet...\n"
     ]
    },
    {
     "name": "stderr",
     "output_type": "stream",
     "text": [
      "Filtering Users: 100%|██████████| 3436/3436 [02:06<00:00, 27.14it/s]\n",
      "Checking Files:  49%|████▉     | 20/41 [44:43<46:01, 131.50s/it]"
     ]
    },
    {
     "name": "stdout",
     "output_type": "stream",
     "text": [
      "Saved filtered file: ../dataset/twitter100m_tweets_filtered/data\\filtered_train-00019-of-00041-294207d1b5c8e9e4.parquet\n",
      "Processing ../dataset/twitter100m_tweets/data\\train-00020-of-00041-cb49f7a05f4c5137.parquet...\n"
     ]
    },
    {
     "name": "stderr",
     "output_type": "stream",
     "text": [
      "Filtering Users: 100%|██████████| 3346/3346 [02:00<00:00, 27.75it/s]\n",
      "Checking Files:  51%|█████     | 21/41 [46:48<43:10, 129.53s/it]"
     ]
    },
    {
     "name": "stdout",
     "output_type": "stream",
     "text": [
      "Saved filtered file: ../dataset/twitter100m_tweets_filtered/data\\filtered_train-00020-of-00041-cb49f7a05f4c5137.parquet\n",
      "Processing ../dataset/twitter100m_tweets/data\\train-00021-of-00041-8349c19216ba168c.parquet...\n"
     ]
    },
    {
     "name": "stderr",
     "output_type": "stream",
     "text": [
      "Filtering Users: 100%|██████████| 3289/3289 [02:08<00:00, 25.54it/s]\n",
      "Checking Files:  54%|█████▎    | 22/41 [49:01<41:22, 130.64s/it]"
     ]
    },
    {
     "name": "stdout",
     "output_type": "stream",
     "text": [
      "Saved filtered file: ../dataset/twitter100m_tweets_filtered/data\\filtered_train-00021-of-00041-8349c19216ba168c.parquet\n",
      "Processing ../dataset/twitter100m_tweets/data\\train-00022-of-00041-35bee338f1d42d15.parquet...\n"
     ]
    },
    {
     "name": "stderr",
     "output_type": "stream",
     "text": [
      "Filtering Users: 100%|██████████| 3363/3363 [02:04<00:00, 27.08it/s]\n",
      "Checking Files:  56%|█████▌    | 23/41 [51:10<39:01, 130.06s/it]"
     ]
    },
    {
     "name": "stdout",
     "output_type": "stream",
     "text": [
      "Saved filtered file: ../dataset/twitter100m_tweets_filtered/data\\filtered_train-00022-of-00041-35bee338f1d42d15.parquet\n",
      "Processing ../dataset/twitter100m_tweets/data\\train-00023-of-00041-51d644a4e2bc84cc.parquet...\n"
     ]
    },
    {
     "name": "stderr",
     "output_type": "stream",
     "text": [
      "Filtering Users: 100%|██████████| 3303/3303 [02:10<00:00, 25.32it/s]\n",
      "Checking Files:  59%|█████▊    | 24/41 [53:25<37:16, 131.55s/it]"
     ]
    },
    {
     "name": "stdout",
     "output_type": "stream",
     "text": [
      "Saved filtered file: ../dataset/twitter100m_tweets_filtered/data\\filtered_train-00023-of-00041-51d644a4e2bc84cc.parquet\n",
      "Processing ../dataset/twitter100m_tweets/data\\train-00024-of-00041-dc45f0762d8ed082.parquet...\n"
     ]
    },
    {
     "name": "stderr",
     "output_type": "stream",
     "text": [
      "Filtering Users: 100%|██████████| 3357/3357 [02:09<00:00, 25.92it/s]\n",
      "Checking Files:  61%|██████    | 25/41 [55:39<35:17, 132.32s/it]"
     ]
    },
    {
     "name": "stdout",
     "output_type": "stream",
     "text": [
      "Saved filtered file: ../dataset/twitter100m_tweets_filtered/data\\filtered_train-00024-of-00041-dc45f0762d8ed082.parquet\n",
      "Processing ../dataset/twitter100m_tweets/data\\train-00025-of-00041-e40d409e31b7a7fd.parquet...\n"
     ]
    },
    {
     "name": "stderr",
     "output_type": "stream",
     "text": [
      "Filtering Users: 100%|██████████| 3393/3393 [02:12<00:00, 25.58it/s]\n",
      "Checking Files:  63%|██████▎   | 26/41 [57:56<33:26, 133.79s/it]"
     ]
    },
    {
     "name": "stdout",
     "output_type": "stream",
     "text": [
      "Saved filtered file: ../dataset/twitter100m_tweets_filtered/data\\filtered_train-00025-of-00041-e40d409e31b7a7fd.parquet\n",
      "Processing ../dataset/twitter100m_tweets/data\\train-00026-of-00041-5accc8f1a8490c8c.parquet...\n"
     ]
    },
    {
     "name": "stderr",
     "output_type": "stream",
     "text": [
      "Filtering Users: 100%|██████████| 3337/3337 [02:12<00:00, 25.22it/s]\n",
      "Checking Files:  66%|██████▌   | 27/41 [1:00:14<31:27, 134.84s/it]"
     ]
    },
    {
     "name": "stdout",
     "output_type": "stream",
     "text": [
      "Saved filtered file: ../dataset/twitter100m_tweets_filtered/data\\filtered_train-00026-of-00041-5accc8f1a8490c8c.parquet\n",
      "Processing ../dataset/twitter100m_tweets/data\\train-00027-of-00041-fe8fe3a7157e75a9.parquet...\n"
     ]
    },
    {
     "name": "stderr",
     "output_type": "stream",
     "text": [
      "Filtering Users: 100%|██████████| 3325/3325 [02:27<00:00, 22.49it/s]\n",
      "Checking Files:  68%|██████▊   | 28/41 [1:02:46<30:21, 140.15s/it]"
     ]
    },
    {
     "name": "stdout",
     "output_type": "stream",
     "text": [
      "Saved filtered file: ../dataset/twitter100m_tweets_filtered/data\\filtered_train-00027-of-00041-fe8fe3a7157e75a9.parquet\n",
      "Processing ../dataset/twitter100m_tweets/data\\train-00028-of-00041-97cccb9f87e490bf.parquet...\n"
     ]
    },
    {
     "name": "stderr",
     "output_type": "stream",
     "text": [
      "Filtering Users: 100%|██████████| 3367/3367 [02:16<00:00, 24.59it/s]\n",
      "Checking Files:  71%|███████   | 29/41 [1:05:08<28:07, 140.65s/it]"
     ]
    },
    {
     "name": "stdout",
     "output_type": "stream",
     "text": [
      "Saved filtered file: ../dataset/twitter100m_tweets_filtered/data\\filtered_train-00028-of-00041-97cccb9f87e490bf.parquet\n",
      "Processing ../dataset/twitter100m_tweets/data\\train-00029-of-00041-4f5d24be1d2cba2f.parquet...\n"
     ]
    },
    {
     "name": "stderr",
     "output_type": "stream",
     "text": [
      "Filtering Users: 100%|██████████| 3376/3376 [02:12<00:00, 25.43it/s]\n",
      "Checking Files:  73%|███████▎  | 30/41 [1:07:25<25:36, 139.66s/it]"
     ]
    },
    {
     "name": "stdout",
     "output_type": "stream",
     "text": [
      "Saved filtered file: ../dataset/twitter100m_tweets_filtered/data\\filtered_train-00029-of-00041-4f5d24be1d2cba2f.parquet\n",
      "Processing ../dataset/twitter100m_tweets/data\\train-00030-of-00041-9712df7d5c3d07f0.parquet...\n"
     ]
    },
    {
     "name": "stderr",
     "output_type": "stream",
     "text": [
      "Filtering Users: 100%|██████████| 3370/3370 [02:25<00:00, 23.23it/s]\n",
      "Checking Files:  76%|███████▌  | 31/41 [1:09:55<23:47, 142.71s/it]"
     ]
    },
    {
     "name": "stdout",
     "output_type": "stream",
     "text": [
      "Saved filtered file: ../dataset/twitter100m_tweets_filtered/data\\filtered_train-00030-of-00041-9712df7d5c3d07f0.parquet\n",
      "Processing ../dataset/twitter100m_tweets/data\\train-00031-of-00041-14095d507331f9db.parquet...\n"
     ]
    },
    {
     "name": "stderr",
     "output_type": "stream",
     "text": [
      "Filtering Users: 100%|██████████| 3310/3310 [02:23<00:00, 23.12it/s]\n",
      "Checking Files:  78%|███████▊  | 32/41 [1:12:23<21:39, 144.34s/it]"
     ]
    },
    {
     "name": "stdout",
     "output_type": "stream",
     "text": [
      "Saved filtered file: ../dataset/twitter100m_tweets_filtered/data\\filtered_train-00031-of-00041-14095d507331f9db.parquet\n",
      "Processing ../dataset/twitter100m_tweets/data\\train-00032-of-00041-c948e5d06f7cc0d5.parquet...\n"
     ]
    },
    {
     "name": "stderr",
     "output_type": "stream",
     "text": [
      "Filtering Users: 100%|██████████| 3333/3333 [02:13<00:00, 24.99it/s]\n",
      "Checking Files:  80%|████████  | 33/41 [1:14:42<19:00, 142.53s/it]"
     ]
    },
    {
     "name": "stdout",
     "output_type": "stream",
     "text": [
      "Saved filtered file: ../dataset/twitter100m_tweets_filtered/data\\filtered_train-00032-of-00041-c948e5d06f7cc0d5.parquet\n",
      "Processing ../dataset/twitter100m_tweets/data\\train-00033-of-00041-0ddd38722e42faea.parquet...\n"
     ]
    },
    {
     "name": "stderr",
     "output_type": "stream",
     "text": [
      "Filtering Users: 100%|██████████| 3319/3319 [02:15<00:00, 24.51it/s]\n",
      "Checking Files:  83%|████████▎ | 34/41 [1:17:02<16:32, 141.79s/it]"
     ]
    },
    {
     "name": "stdout",
     "output_type": "stream",
     "text": [
      "Saved filtered file: ../dataset/twitter100m_tweets_filtered/data\\filtered_train-00033-of-00041-0ddd38722e42faea.parquet\n",
      "Processing ../dataset/twitter100m_tweets/data\\train-00034-of-00041-261953080646e6a9.parquet...\n"
     ]
    },
    {
     "name": "stderr",
     "output_type": "stream",
     "text": [
      "Filtering Users: 100%|██████████| 3291/3291 [02:11<00:00, 25.01it/s]\n",
      "Checking Files:  85%|████████▌ | 35/41 [1:19:18<14:00, 140.13s/it]"
     ]
    },
    {
     "name": "stdout",
     "output_type": "stream",
     "text": [
      "Saved filtered file: ../dataset/twitter100m_tweets_filtered/data\\filtered_train-00034-of-00041-261953080646e6a9.parquet\n",
      "Processing ../dataset/twitter100m_tweets/data\\train-00035-of-00041-811009fd57e6e0d0.parquet...\n"
     ]
    },
    {
     "name": "stderr",
     "output_type": "stream",
     "text": [
      "Filtering Users: 100%|██████████| 3332/3332 [02:10<00:00, 25.47it/s]\n",
      "Checking Files:  88%|████████▊ | 36/41 [1:21:33<11:33, 138.74s/it]"
     ]
    },
    {
     "name": "stdout",
     "output_type": "stream",
     "text": [
      "Saved filtered file: ../dataset/twitter100m_tweets_filtered/data\\filtered_train-00035-of-00041-811009fd57e6e0d0.parquet\n",
      "Processing ../dataset/twitter100m_tweets/data\\train-00036-of-00041-98ebfbfe9826272d.parquet...\n"
     ]
    },
    {
     "name": "stderr",
     "output_type": "stream",
     "text": [
      "Filtering Users: 100%|██████████| 3345/3345 [02:13<00:00, 25.05it/s]\n",
      "Checking Files:  90%|█████████ | 37/41 [1:23:52<09:14, 138.63s/it]"
     ]
    },
    {
     "name": "stdout",
     "output_type": "stream",
     "text": [
      "Saved filtered file: ../dataset/twitter100m_tweets_filtered/data\\filtered_train-00036-of-00041-98ebfbfe9826272d.parquet\n",
      "Processing ../dataset/twitter100m_tweets/data\\train-00037-of-00041-02c67001499091d9.parquet...\n"
     ]
    },
    {
     "name": "stderr",
     "output_type": "stream",
     "text": [
      "Filtering Users: 100%|██████████| 3379/3379 [02:20<00:00, 24.13it/s]\n",
      "Checking Files:  93%|█████████▎| 38/41 [1:26:17<07:01, 140.52s/it]"
     ]
    },
    {
     "name": "stdout",
     "output_type": "stream",
     "text": [
      "Saved filtered file: ../dataset/twitter100m_tweets_filtered/data\\filtered_train-00037-of-00041-02c67001499091d9.parquet\n",
      "Processing ../dataset/twitter100m_tweets/data\\train-00038-of-00041-08d9366060cda96a.parquet...\n"
     ]
    },
    {
     "name": "stderr",
     "output_type": "stream",
     "text": [
      "Filtering Users: 100%|██████████| 3447/3447 [02:16<00:00, 25.28it/s]\n",
      "Checking Files:  95%|█████████▌| 39/41 [1:28:38<04:41, 140.74s/it]"
     ]
    },
    {
     "name": "stdout",
     "output_type": "stream",
     "text": [
      "Saved filtered file: ../dataset/twitter100m_tweets_filtered/data\\filtered_train-00038-of-00041-08d9366060cda96a.parquet\n",
      "Processing ../dataset/twitter100m_tweets/data\\train-00039-of-00041-d3dbd276c36d5b35.parquet...\n"
     ]
    },
    {
     "name": "stderr",
     "output_type": "stream",
     "text": [
      "Filtering Users: 100%|██████████| 3322/3322 [02:19<00:00, 23.89it/s]\n",
      "Checking Files:  98%|█████████▊| 40/41 [1:31:02<02:21, 141.85s/it]"
     ]
    },
    {
     "name": "stdout",
     "output_type": "stream",
     "text": [
      "Saved filtered file: ../dataset/twitter100m_tweets_filtered/data\\filtered_train-00039-of-00041-d3dbd276c36d5b35.parquet\n",
      "Processing ../dataset/twitter100m_tweets/data\\train-00040-of-00041-9a723429a2a70e30.parquet...\n"
     ]
    },
    {
     "name": "stderr",
     "output_type": "stream",
     "text": [
      "Filtering Users: 100%|██████████| 3307/3307 [02:18<00:00, 23.85it/s]\n",
      "Checking Files: 100%|██████████| 41/41 [1:33:27<00:00, 136.76s/it]"
     ]
    },
    {
     "name": "stdout",
     "output_type": "stream",
     "text": [
      "Saved filtered file: ../dataset/twitter100m_tweets_filtered/data\\filtered_train-00040-of-00041-9a723429a2a70e30.parquet\n"
     ]
    },
    {
     "name": "stderr",
     "output_type": "stream",
     "text": [
      "\n"
     ]
    }
   ],
   "source": [
    "\n",
    "for file in tqdm(os.listdir(input_folder), desc=\"Checking Files\"):\n",
    "    if file.endswith(\".parquet\") and not is_filtered(file):\n",
    "        file_path = os.path.join(input_folder, file)\n",
    "        print(f\"Processing {file_path}...\")\n",
    "\n",
    "        \n",
    "        df = pd.read_parquet(file_path)\n",
    "\n",
    "        \n",
    "        tqdm.pandas(desc=\"Filtering Users\")\n",
    "        user_groups = df.groupby(\"user\")  \n",
    "        non_english_users = user_groups[\"tweet\"].progress_apply(is_non_english_or_spam_user)\n",
    "        non_english_users = non_english_users[non_english_users].index  \n",
    "        \n",
    "        \n",
    "        english_user_tweets = df[~df[\"user\"].isin(non_english_users)]\n",
    "        \n",
    "        \n",
    "        output_file = os.path.join(output_folder, f\"filtered_{file}\")\n",
    "        english_user_tweets.to_parquet(output_file, index=False)\n",
    "        print(f\"Saved filtered file: {output_file}\")\n",
    "\n",
    "        "
   ]
  }
 ],
 "metadata": {
  "kernelspec": {
   "display_name": "textMining",
   "language": "python",
   "name": "python3"
  },
  "language_info": {
   "codemirror_mode": {
    "name": "ipython",
    "version": 3
   },
   "file_extension": ".py",
   "mimetype": "text/x-python",
   "name": "python",
   "nbconvert_exporter": "python",
   "pygments_lexer": "ipython3",
   "version": "3.11.10"
  }
 },
 "nbformat": 4,
 "nbformat_minor": 2
}
