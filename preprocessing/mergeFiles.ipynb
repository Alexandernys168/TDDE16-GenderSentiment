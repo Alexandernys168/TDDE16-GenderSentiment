{
 "cells": [
  {
   "cell_type": "code",
   "execution_count": 1,
   "metadata": {},
   "outputs": [
    {
     "name": "stdout",
     "output_type": "stream",
     "text": [
      "Merged file saved to: ../dataset/twitter100m_tweets_globalWarming_filtered/data\\merged_global_warming_tweets.parquet\n"
     ]
    }
   ],
   "source": [
    "import os\n",
    "import pandas as pd\n",
    "\n",
    "\n",
    "folder_path = \"../dataset/twitter100m_tweets_globalWarming_filtered/data\"\n",
    "\n",
    "\n",
    "files = [os.path.join(folder_path, file) for file in os.listdir(folder_path) if file.endswith(\".parquet\")]\n",
    "\n",
    "\n",
    "merged_df = pd.concat([pd.read_parquet(file) for file in files], ignore_index=True)\n",
    "\n",
    "\n",
    "output_file = os.path.join(folder_path, \"merged_global_warming_tweets.parquet\")\n",
    "merged_df.to_parquet(output_file, index=False)\n",
    "\n",
    "print(f\"Merged file saved to: {output_file}\")\n"
   ]
  }
 ],
 "metadata": {
  "kernelspec": {
   "display_name": "textMining",
   "language": "python",
   "name": "python3"
  },
  "language_info": {
   "codemirror_mode": {
    "name": "ipython",
    "version": 3
   },
   "file_extension": ".py",
   "mimetype": "text/x-python",
   "name": "python",
   "nbconvert_exporter": "python",
   "pygments_lexer": "ipython3",
   "version": "3.11.10"
  }
 },
 "nbformat": 4,
 "nbformat_minor": 2
}
