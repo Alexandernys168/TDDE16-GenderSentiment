{
 "cells": [
  {
   "cell_type": "code",
   "execution_count": 1,
   "metadata": {},
   "outputs": [],
   "source": [
    "import os\n",
    "import pandas as pd\n",
    "import random\n",
    "\n",
    "from tqdm import tqdm\n",
    "import re"
   ]
  },
  {
   "cell_type": "code",
   "execution_count": 2,
   "metadata": {},
   "outputs": [],
   "source": [
    "output_folder = \"../dataset/twitter100m_tweets_filtered/data\"\n",
    "os.makedirs(output_folder, exist_ok=True)"
   ]
  },
  {
   "cell_type": "code",
   "execution_count": 3,
   "metadata": {},
   "outputs": [],
   "source": [
    "\n",
    "keywords = [\n",
    "   \n",
    "    \"climatechange\", \"climatechangeisreal\", \"actonclimate\", \"globalwarming\",\n",
    "    \"savetheplanet\", \"climatejustice\", \"climateaction\", \"climatecrisis\", \"climatemarch\",\n",
    "    \"renewableenergy\", \"fossilfree\", \"netzero\", \"sustainablefuture\", \"climatepolicy\",\n",
    "    \"greennewdeal\", \"environmentaljustice\", \"keepitintheground\", \"climateemergency\",\n",
    "    \n",
    "   \n",
    "    \"climatechangehoax\", \"climatedeniers\", \"climatechangeisfalse\", \"globalwarminghoax\",\n",
    "    \"climatechangenotreal\", \"climatealarmism\", \"climatescammers\", \"globalcooling\",\n",
    "    \"carbonhoax\", \"climatescam\", \"greenhoax\", \"warmingmyth\", \"fakenewsclimate\",\n",
    "    \n",
    "    \n",
    "    \"greenhouse gases\", \"carbon footprint\", \"extreme weather\", \"sea level rise\",\n",
    "    \"melting ice caps\", \"global temperature\", \"carbon dioxide emissions\", \"Paris Agreement\",\n",
    "    \"IPCC report\", \"biodiversity loss\", \"deforestation\", \"renewable resources\",\n",
    "    \"climate adaptation\", \"climate mitigation\", \"ecological disaster\", \"climate economy\",\n",
    "    \n",
    "   \n",
    "    \"hurricane\", \"wildfires\", \"drought\", \"floods\", \"polar vortex\", \"heatwave\",\n",
    "]\n",
    "\n",
    "\n",
    "pattern = re.compile(r\"\\b(\" + \"|\".join(keywords) + r\")\\b\", flags=re.IGNORECASE)\n",
    "\n",
    "\n",
    "def filter_relevant_tweets(tweet):\n",
    "    if pattern.search(tweet):\n",
    "        return True\n",
    "    return False\n",
    "\n"
   ]
  },
  {
   "cell_type": "code",
   "execution_count": 5,
   "metadata": {},
   "outputs": [
    {
     "name": "stderr",
     "output_type": "stream",
     "text": [
      "Processing Parquet Files:   2%|▌                                 [Elapsed: 00:38 | Remaining: 36:33]"
     ]
    },
    {
     "name": "stdout",
     "output_type": "stream",
     "text": [
      "\n",
      "File: filtered_train-00000-of-00041-3f49db2da17edd5a.parquet | Total tweets: 1453627 | Relevant tweets: 3053\n",
      "Relevant tweets saved: ../dataset/twitter100m_tweets_filtered/data\\relevant_filtered_train-00000-of-00041-3f49db2da17edd5a.parquet\n"
     ]
    },
    {
     "name": "stderr",
     "output_type": "stream",
     "text": [
      "Processing Parquet Files:   3%|█▏                                [Elapsed: 01:16 | Remaining: 35:46]"
     ]
    },
    {
     "name": "stdout",
     "output_type": "stream",
     "text": [
      "\n",
      "File: filtered_train-00001-of-00041-4491d6daeecba187.parquet | Total tweets: 1477237 | Relevant tweets: 2227\n",
      "Relevant tweets saved: ../dataset/twitter100m_tweets_filtered/data\\relevant_filtered_train-00001-of-00041-4491d6daeecba187.parquet\n"
     ]
    },
    {
     "name": "stderr",
     "output_type": "stream",
     "text": [
      "Processing Parquet Files:   5%|█▋                                [Elapsed: 01:56 | Remaining: 35:37]"
     ]
    },
    {
     "name": "stdout",
     "output_type": "stream",
     "text": [
      "\n",
      "File: filtered_train-00002-of-00041-6f8b4e61b330413a.parquet | Total tweets: 1491880 | Relevant tweets: 2345\n",
      "Relevant tweets saved: ../dataset/twitter100m_tweets_filtered/data\\relevant_filtered_train-00002-of-00041-6f8b4e61b330413a.parquet\n"
     ]
    },
    {
     "name": "stderr",
     "output_type": "stream",
     "text": [
      "Processing Parquet Files:   7%|██▎                               [Elapsed: 02:35 | Remaining: 35:08]"
     ]
    },
    {
     "name": "stdout",
     "output_type": "stream",
     "text": [
      "\n",
      "File: filtered_train-00003-of-00041-0697f448acaad204.parquet | Total tweets: 1487113 | Relevant tweets: 2076\n",
      "Relevant tweets saved: ../dataset/twitter100m_tweets_filtered/data\\relevant_filtered_train-00003-of-00041-0697f448acaad204.parquet\n"
     ]
    },
    {
     "name": "stderr",
     "output_type": "stream",
     "text": [
      "Processing Parquet Files:   9%|██▊                               [Elapsed: 03:16 | Remaining: 34:58]"
     ]
    },
    {
     "name": "stdout",
     "output_type": "stream",
     "text": [
      "\n",
      "File: filtered_train-00004-of-00041-93670d3f00e7702a.parquet | Total tweets: 1498448 | Relevant tweets: 2302\n",
      "Relevant tweets saved: ../dataset/twitter100m_tweets_filtered/data\\relevant_filtered_train-00004-of-00041-93670d3f00e7702a.parquet\n"
     ]
    },
    {
     "name": "stderr",
     "output_type": "stream",
     "text": [
      "Processing Parquet Files:  10%|███▍                              [Elapsed: 03:53 | Remaining: 33:42]"
     ]
    },
    {
     "name": "stdout",
     "output_type": "stream",
     "text": [
      "\n",
      "File: filtered_train-00005-of-00041-bd0a45674af16df9.parquet | Total tweets: 1446150 | Relevant tweets: 2277\n",
      "Relevant tweets saved: ../dataset/twitter100m_tweets_filtered/data\\relevant_filtered_train-00005-of-00041-bd0a45674af16df9.parquet\n"
     ]
    },
    {
     "name": "stderr",
     "output_type": "stream",
     "text": [
      "Processing Parquet Files:  12%|███▉                              [Elapsed: 04:33 | Remaining: 33:13]"
     ]
    },
    {
     "name": "stdout",
     "output_type": "stream",
     "text": [
      "\n",
      "File: filtered_train-00006-of-00041-1eba3fa272d4cc5a.parquet | Total tweets: 1494555 | Relevant tweets: 2143\n",
      "Relevant tweets saved: ../dataset/twitter100m_tweets_filtered/data\\relevant_filtered_train-00006-of-00041-1eba3fa272d4cc5a.parquet\n"
     ]
    },
    {
     "name": "stderr",
     "output_type": "stream",
     "text": [
      "Processing Parquet Files:  14%|████▌                             [Elapsed: 05:10 | Remaining: 32:01]"
     ]
    },
    {
     "name": "stdout",
     "output_type": "stream",
     "text": [
      "\n",
      "File: filtered_train-00007-of-00041-83618ac42672cdb2.parquet | Total tweets: 1464380 | Relevant tweets: 2440\n",
      "Relevant tweets saved: ../dataset/twitter100m_tweets_filtered/data\\relevant_filtered_train-00007-of-00041-83618ac42672cdb2.parquet\n"
     ]
    },
    {
     "name": "stderr",
     "output_type": "stream",
     "text": [
      "Processing Parquet Files:  16%|█████                             [Elapsed: 05:47 | Remaining: 31:00]"
     ]
    },
    {
     "name": "stdout",
     "output_type": "stream",
     "text": [
      "\n",
      "File: filtered_train-00008-of-00041-13bc872663c28c2c.parquet | Total tweets: 1462986 | Relevant tweets: 2403\n",
      "Relevant tweets saved: ../dataset/twitter100m_tweets_filtered/data\\relevant_filtered_train-00008-of-00041-13bc872663c28c2c.parquet\n"
     ]
    },
    {
     "name": "stderr",
     "output_type": "stream",
     "text": [
      "Processing Parquet Files:  17%|█████▋                            [Elapsed: 06:24 | Remaining: 30:14]"
     ]
    },
    {
     "name": "stdout",
     "output_type": "stream",
     "text": [
      "\n",
      "File: filtered_train-00009-of-00041-832bcbc6df883d94.parquet | Total tweets: 1446194 | Relevant tweets: 1830\n",
      "Relevant tweets saved: ../dataset/twitter100m_tweets_filtered/data\\relevant_filtered_train-00009-of-00041-832bcbc6df883d94.parquet\n"
     ]
    },
    {
     "name": "stderr",
     "output_type": "stream",
     "text": [
      "Processing Parquet Files:  19%|██████▎                           [Elapsed: 07:00 | Remaining: 29:12]"
     ]
    },
    {
     "name": "stdout",
     "output_type": "stream",
     "text": [
      "\n",
      "File: filtered_train-00010-of-00041-39a461f69a92fa95.parquet | Total tweets: 1454482 | Relevant tweets: 2171\n",
      "Relevant tweets saved: ../dataset/twitter100m_tweets_filtered/data\\relevant_filtered_train-00010-of-00041-39a461f69a92fa95.parquet\n"
     ]
    },
    {
     "name": "stderr",
     "output_type": "stream",
     "text": [
      "Processing Parquet Files:  21%|██████▊                           [Elapsed: 07:36 | Remaining: 28:17]"
     ]
    },
    {
     "name": "stdout",
     "output_type": "stream",
     "text": [
      "\n",
      "File: filtered_train-00011-of-00041-d348ab50c204b5fe.parquet | Total tweets: 1466034 | Relevant tweets: 3365\n",
      "Relevant tweets saved: ../dataset/twitter100m_tweets_filtered/data\\relevant_filtered_train-00011-of-00041-d348ab50c204b5fe.parquet\n"
     ]
    },
    {
     "name": "stderr",
     "output_type": "stream",
     "text": [
      "Processing Parquet Files:  22%|███████▍                          [Elapsed: 08:13 | Remaining: 27:38]"
     ]
    },
    {
     "name": "stdout",
     "output_type": "stream",
     "text": [
      "\n",
      "File: filtered_train-00012-of-00041-6e54d5bc32e33932.parquet | Total tweets: 1507293 | Relevant tweets: 2257\n",
      "Relevant tweets saved: ../dataset/twitter100m_tweets_filtered/data\\relevant_filtered_train-00012-of-00041-6e54d5bc32e33932.parquet\n"
     ]
    },
    {
     "name": "stderr",
     "output_type": "stream",
     "text": [
      "Processing Parquet Files:  24%|███████▉                          [Elapsed: 08:50 | Remaining: 27:01]"
     ]
    },
    {
     "name": "stdout",
     "output_type": "stream",
     "text": [
      "\n",
      "File: filtered_train-00013-of-00041-0d2774f64ea97a49.parquet | Total tweets: 1489580 | Relevant tweets: 2499\n",
      "Relevant tweets saved: ../dataset/twitter100m_tweets_filtered/data\\relevant_filtered_train-00013-of-00041-0d2774f64ea97a49.parquet\n"
     ]
    },
    {
     "name": "stderr",
     "output_type": "stream",
     "text": [
      "Processing Parquet Files:  26%|████████▌                         [Elapsed: 09:26 | Remaining: 26:16]"
     ]
    },
    {
     "name": "stdout",
     "output_type": "stream",
     "text": [
      "\n",
      "File: filtered_train-00014-of-00041-f7aba38896b21cac.parquet | Total tweets: 1450605 | Relevant tweets: 3064\n",
      "Relevant tweets saved: ../dataset/twitter100m_tweets_filtered/data\\relevant_filtered_train-00014-of-00041-f7aba38896b21cac.parquet\n"
     ]
    },
    {
     "name": "stderr",
     "output_type": "stream",
     "text": [
      "Processing Parquet Files:  28%|█████████                         [Elapsed: 10:03 | Remaining: 25:37]"
     ]
    },
    {
     "name": "stdout",
     "output_type": "stream",
     "text": [
      "\n",
      "File: filtered_train-00015-of-00041-74ec967e210e13de.parquet | Total tweets: 1449995 | Relevant tweets: 2922\n",
      "Relevant tweets saved: ../dataset/twitter100m_tweets_filtered/data\\relevant_filtered_train-00015-of-00041-74ec967e210e13de.parquet\n"
     ]
    },
    {
     "name": "stderr",
     "output_type": "stream",
     "text": [
      "Processing Parquet Files:  29%|█████████▋                        [Elapsed: 10:38 | Remaining: 24:50]"
     ]
    },
    {
     "name": "stdout",
     "output_type": "stream",
     "text": [
      "\n",
      "File: filtered_train-00016-of-00041-98ae0cf4e8a10ffa.parquet | Total tweets: 1449255 | Relevant tweets: 2210\n",
      "Relevant tweets saved: ../dataset/twitter100m_tweets_filtered/data\\relevant_filtered_train-00016-of-00041-98ae0cf4e8a10ffa.parquet\n"
     ]
    },
    {
     "name": "stderr",
     "output_type": "stream",
     "text": [
      "Processing Parquet Files:  31%|██████████▏                       [Elapsed: 11:14 | Remaining: 24:04]"
     ]
    },
    {
     "name": "stdout",
     "output_type": "stream",
     "text": [
      "\n",
      "File: filtered_train-00017-of-00041-a3582ea51ad90339.parquet | Total tweets: 1441643 | Relevant tweets: 2449\n",
      "Relevant tweets saved: ../dataset/twitter100m_tweets_filtered/data\\relevant_filtered_train-00017-of-00041-a3582ea51ad90339.parquet\n"
     ]
    },
    {
     "name": "stderr",
     "output_type": "stream",
     "text": [
      "Processing Parquet Files:  33%|██████████▊                       [Elapsed: 11:51 | Remaining: 23:43]"
     ]
    },
    {
     "name": "stdout",
     "output_type": "stream",
     "text": [
      "\n",
      "File: filtered_train-00018-of-00041-64af2b13d642caac.parquet | Total tweets: 1482168 | Relevant tweets: 2548\n",
      "Relevant tweets saved: ../dataset/twitter100m_tweets_filtered/data\\relevant_filtered_train-00018-of-00041-64af2b13d642caac.parquet\n"
     ]
    },
    {
     "name": "stderr",
     "output_type": "stream",
     "text": [
      "Processing Parquet Files:  34%|███████████▍                      [Elapsed: 12:27 | Remaining: 22:54]"
     ]
    },
    {
     "name": "stdout",
     "output_type": "stream",
     "text": [
      "\n",
      "File: filtered_train-00019-of-00041-294207d1b5c8e9e4.parquet | Total tweets: 1445759 | Relevant tweets: 2268\n",
      "Relevant tweets saved: ../dataset/twitter100m_tweets_filtered/data\\relevant_filtered_train-00019-of-00041-294207d1b5c8e9e4.parquet\n"
     ]
    },
    {
     "name": "stderr",
     "output_type": "stream",
     "text": [
      "Processing Parquet Files:  36%|███████████▉                      [Elapsed: 13:07 | Remaining: 23:00]"
     ]
    },
    {
     "name": "stdout",
     "output_type": "stream",
     "text": [
      "\n",
      "File: filtered_train-00020-of-00041-cb49f7a05f4c5137.parquet | Total tweets: 1492458 | Relevant tweets: 3958\n",
      "Relevant tweets saved: ../dataset/twitter100m_tweets_filtered/data\\relevant_filtered_train-00020-of-00041-cb49f7a05f4c5137.parquet\n"
     ]
    },
    {
     "name": "stderr",
     "output_type": "stream",
     "text": [
      "Processing Parquet Files:  38%|████████████▌                     [Elapsed: 13:45 | Remaining: 22:30]"
     ]
    },
    {
     "name": "stdout",
     "output_type": "stream",
     "text": [
      "\n",
      "File: filtered_train-00021-of-00041-8349c19216ba168c.parquet | Total tweets: 1461163 | Relevant tweets: 2606\n",
      "Relevant tweets saved: ../dataset/twitter100m_tweets_filtered/data\\relevant_filtered_train-00021-of-00041-8349c19216ba168c.parquet\n"
     ]
    },
    {
     "name": "stderr",
     "output_type": "stream",
     "text": [
      "Processing Parquet Files:  40%|█████████████                     [Elapsed: 14:23 | Remaining: 22:04]"
     ]
    },
    {
     "name": "stdout",
     "output_type": "stream",
     "text": [
      "\n",
      "File: filtered_train-00022-of-00041-35bee338f1d42d15.parquet | Total tweets: 1474783 | Relevant tweets: 2870\n",
      "Relevant tweets saved: ../dataset/twitter100m_tweets_filtered/data\\relevant_filtered_train-00022-of-00041-35bee338f1d42d15.parquet\n"
     ]
    },
    {
     "name": "stderr",
     "output_type": "stream",
     "text": [
      "Processing Parquet Files:  41%|█████████████▋                    [Elapsed: 15:00 | Remaining: 21:18]"
     ]
    },
    {
     "name": "stdout",
     "output_type": "stream",
     "text": [
      "\n",
      "File: filtered_train-00023-of-00041-51d644a4e2bc84cc.parquet | Total tweets: 1433393 | Relevant tweets: 2275\n",
      "Relevant tweets saved: ../dataset/twitter100m_tweets_filtered/data\\relevant_filtered_train-00023-of-00041-51d644a4e2bc84cc.parquet\n"
     ]
    },
    {
     "name": "stderr",
     "output_type": "stream",
     "text": [
      "Processing Parquet Files:  43%|██████████████▏                   [Elapsed: 15:38 | Remaining: 20:47]"
     ]
    },
    {
     "name": "stdout",
     "output_type": "stream",
     "text": [
      "\n",
      "File: filtered_train-00024-of-00041-dc45f0762d8ed082.parquet | Total tweets: 1458181 | Relevant tweets: 2916\n",
      "Relevant tweets saved: ../dataset/twitter100m_tweets_filtered/data\\relevant_filtered_train-00024-of-00041-dc45f0762d8ed082.parquet\n"
     ]
    },
    {
     "name": "stderr",
     "output_type": "stream",
     "text": [
      "Processing Parquet Files:  45%|██████████████▊                   [Elapsed: 16:17 | Remaining: 20:16]"
     ]
    },
    {
     "name": "stdout",
     "output_type": "stream",
     "text": [
      "\n",
      "File: filtered_train-00025-of-00041-e40d409e31b7a7fd.parquet | Total tweets: 1479044 | Relevant tweets: 2254\n",
      "Relevant tweets saved: ../dataset/twitter100m_tweets_filtered/data\\relevant_filtered_train-00025-of-00041-e40d409e31b7a7fd.parquet\n"
     ]
    },
    {
     "name": "stderr",
     "output_type": "stream",
     "text": [
      "Processing Parquet Files:  47%|███████████████▎                  [Elapsed: 16:56 | Remaining: 19:52]"
     ]
    },
    {
     "name": "stdout",
     "output_type": "stream",
     "text": [
      "\n",
      "File: filtered_train-00026-of-00041-5accc8f1a8490c8c.parquet | Total tweets: 1493491 | Relevant tweets: 2152\n",
      "Relevant tweets saved: ../dataset/twitter100m_tweets_filtered/data\\relevant_filtered_train-00026-of-00041-5accc8f1a8490c8c.parquet\n"
     ]
    },
    {
     "name": "stderr",
     "output_type": "stream",
     "text": [
      "Processing Parquet Files:  48%|███████████████▉                  [Elapsed: 17:32 | Remaining: 18:50]"
     ]
    },
    {
     "name": "stdout",
     "output_type": "stream",
     "text": [
      "\n",
      "File: filtered_train-00027-of-00041-fe8fe3a7157e75a9.parquet | Total tweets: 1446775 | Relevant tweets: 3073\n",
      "Relevant tweets saved: ../dataset/twitter100m_tweets_filtered/data\\relevant_filtered_train-00027-of-00041-fe8fe3a7157e75a9.parquet\n"
     ]
    },
    {
     "name": "stderr",
     "output_type": "stream",
     "text": [
      "Processing Parquet Files:  50%|████████████████▌                 [Elapsed: 18:11 | Remaining: 18:20]"
     ]
    },
    {
     "name": "stdout",
     "output_type": "stream",
     "text": [
      "\n",
      "File: filtered_train-00028-of-00041-97cccb9f87e490bf.parquet | Total tweets: 1463477 | Relevant tweets: 1940\n",
      "Relevant tweets saved: ../dataset/twitter100m_tweets_filtered/data\\relevant_filtered_train-00028-of-00041-97cccb9f87e490bf.parquet\n"
     ]
    },
    {
     "name": "stderr",
     "output_type": "stream",
     "text": [
      "Processing Parquet Files:  52%|█████████████████                 [Elapsed: 18:47 | Remaining: 17:24]"
     ]
    },
    {
     "name": "stdout",
     "output_type": "stream",
     "text": [
      "\n",
      "File: filtered_train-00029-of-00041-4f5d24be1d2cba2f.parquet | Total tweets: 1426950 | Relevant tweets: 2384\n",
      "Relevant tweets saved: ../dataset/twitter100m_tweets_filtered/data\\relevant_filtered_train-00029-of-00041-4f5d24be1d2cba2f.parquet\n"
     ]
    },
    {
     "name": "stderr",
     "output_type": "stream",
     "text": [
      "Processing Parquet Files:  53%|█████████████████▋                [Elapsed: 19:24 | Remaining: 16:45]"
     ]
    },
    {
     "name": "stdout",
     "output_type": "stream",
     "text": [
      "\n",
      "File: filtered_train-00030-of-00041-9712df7d5c3d07f0.parquet | Total tweets: 1491851 | Relevant tweets: 2401\n",
      "Relevant tweets saved: ../dataset/twitter100m_tweets_filtered/data\\relevant_filtered_train-00030-of-00041-9712df7d5c3d07f0.parquet\n"
     ]
    },
    {
     "name": "stderr",
     "output_type": "stream",
     "text": [
      "Processing Parquet Files:  55%|██████████████████▏               [Elapsed: 20:01 | Remaining: 16:09]"
     ]
    },
    {
     "name": "stdout",
     "output_type": "stream",
     "text": [
      "\n",
      "File: filtered_train-00031-of-00041-14095d507331f9db.parquet | Total tweets: 1472817 | Relevant tweets: 2876\n",
      "Relevant tweets saved: ../dataset/twitter100m_tweets_filtered/data\\relevant_filtered_train-00031-of-00041-14095d507331f9db.parquet\n"
     ]
    },
    {
     "name": "stderr",
     "output_type": "stream",
     "text": [
      "Processing Parquet Files:  57%|██████████████████▊               [Elapsed: 20:39 | Remaining: 15:34]"
     ]
    },
    {
     "name": "stdout",
     "output_type": "stream",
     "text": [
      "\n",
      "File: filtered_train-00032-of-00041-c948e5d06f7cc0d5.parquet | Total tweets: 1474152 | Relevant tweets: 3222\n",
      "Relevant tweets saved: ../dataset/twitter100m_tweets_filtered/data\\relevant_filtered_train-00032-of-00041-c948e5d06f7cc0d5.parquet\n"
     ]
    },
    {
     "name": "stderr",
     "output_type": "stream",
     "text": [
      "Processing Parquet Files:  59%|███████████████████▎              [Elapsed: 21:15 | Remaining: 14:49]"
     ]
    },
    {
     "name": "stdout",
     "output_type": "stream",
     "text": [
      "\n",
      "File: filtered_train-00033-of-00041-0ddd38722e42faea.parquet | Total tweets: 1468271 | Relevant tweets: 3116\n",
      "Relevant tweets saved: ../dataset/twitter100m_tweets_filtered/data\\relevant_filtered_train-00033-of-00041-0ddd38722e42faea.parquet\n"
     ]
    },
    {
     "name": "stderr",
     "output_type": "stream",
     "text": [
      "Processing Parquet Files:  60%|███████████████████▉              [Elapsed: 21:51 | Remaining: 14:06]"
     ]
    },
    {
     "name": "stdout",
     "output_type": "stream",
     "text": [
      "\n",
      "File: filtered_train-00034-of-00041-261953080646e6a9.parquet | Total tweets: 1435950 | Relevant tweets: 2428\n",
      "Relevant tweets saved: ../dataset/twitter100m_tweets_filtered/data\\relevant_filtered_train-00034-of-00041-261953080646e6a9.parquet\n"
     ]
    },
    {
     "name": "stderr",
     "output_type": "stream",
     "text": [
      "Processing Parquet Files:  62%|████████████████████▍             [Elapsed: 22:28 | Remaining: 13:28]"
     ]
    },
    {
     "name": "stdout",
     "output_type": "stream",
     "text": [
      "\n",
      "File: filtered_train-00035-of-00041-811009fd57e6e0d0.parquet | Total tweets: 1453873 | Relevant tweets: 2138\n",
      "Relevant tweets saved: ../dataset/twitter100m_tweets_filtered/data\\relevant_filtered_train-00035-of-00041-811009fd57e6e0d0.parquet\n"
     ]
    },
    {
     "name": "stderr",
     "output_type": "stream",
     "text": [
      "Processing Parquet Files:  64%|█████████████████████             [Elapsed: 23:04 | Remaining: 12:50]"
     ]
    },
    {
     "name": "stdout",
     "output_type": "stream",
     "text": [
      "\n",
      "File: filtered_train-00036-of-00041-98ebfbfe9826272d.parquet | Total tweets: 1469448 | Relevant tweets: 2872\n",
      "Relevant tweets saved: ../dataset/twitter100m_tweets_filtered/data\\relevant_filtered_train-00036-of-00041-98ebfbfe9826272d.parquet\n"
     ]
    },
    {
     "name": "stderr",
     "output_type": "stream",
     "text": [
      "Processing Parquet Files:  66%|█████████████████████▌            [Elapsed: 23:42 | Remaining: 12:16]"
     ]
    },
    {
     "name": "stdout",
     "output_type": "stream",
     "text": [
      "\n",
      "File: filtered_train-00037-of-00041-02c67001499091d9.parquet | Total tweets: 1493047 | Relevant tweets: 2082\n",
      "Relevant tweets saved: ../dataset/twitter100m_tweets_filtered/data\\relevant_filtered_train-00037-of-00041-02c67001499091d9.parquet\n"
     ]
    },
    {
     "name": "stderr",
     "output_type": "stream",
     "text": [
      "Processing Parquet Files:  67%|██████████████████████▏           [Elapsed: 24:19 | Remaining: 11:41]"
     ]
    },
    {
     "name": "stdout",
     "output_type": "stream",
     "text": [
      "\n",
      "File: filtered_train-00038-of-00041-08d9366060cda96a.parquet | Total tweets: 1461921 | Relevant tweets: 2507\n",
      "Relevant tweets saved: ../dataset/twitter100m_tweets_filtered/data\\relevant_filtered_train-00038-of-00041-08d9366060cda96a.parquet\n"
     ]
    },
    {
     "name": "stderr",
     "output_type": "stream",
     "text": [
      "Processing Parquet Files:  69%|██████████████████████▊           [Elapsed: 24:56 | Remaining: 11:07]"
     ]
    },
    {
     "name": "stdout",
     "output_type": "stream",
     "text": [
      "\n",
      "File: filtered_train-00039-of-00041-d3dbd276c36d5b35.parquet | Total tweets: 1482133 | Relevant tweets: 3251\n",
      "Relevant tweets saved: ../dataset/twitter100m_tweets_filtered/data\\relevant_filtered_train-00039-of-00041-d3dbd276c36d5b35.parquet\n"
     ]
    },
    {
     "name": "stderr",
     "output_type": "stream",
     "text": [
      "Processing Parquet Files:  71%|███████████████████████▎          [Elapsed: 25:32 | Remaining: 10:35]"
     ]
    },
    {
     "name": "stdout",
     "output_type": "stream",
     "text": [
      "\n",
      "File: filtered_train-00040-of-00041-9a723429a2a70e30.parquet | Total tweets: 1456145 | Relevant tweets: 2375\n",
      "Relevant tweets saved: ../dataset/twitter100m_tweets_filtered/data\\relevant_filtered_train-00040-of-00041-9a723429a2a70e30.parquet\n"
     ]
    },
    {
     "name": "stderr",
     "output_type": "stream",
     "text": [
      "\n"
     ]
    },
    {
     "ename": "FileNotFoundError",
     "evalue": "[Errno 2] No such file or directory: '../dataset/twitter100m_tweets_filtered/data\\\\processed_filtered_train-00000-of-00041-3f49db2da17edd5a.parquet'",
     "output_type": "error",
     "traceback": [
      "\u001b[1;31m---------------------------------------------------------------------------\u001b[0m",
      "\u001b[1;31mFileNotFoundError\u001b[0m                         Traceback (most recent call last)",
      "Cell \u001b[1;32mIn[5], line 9\u001b[0m\n\u001b[0;32m      6\u001b[0m file_path \u001b[38;5;241m=\u001b[39m os\u001b[38;5;241m.\u001b[39mpath\u001b[38;5;241m.\u001b[39mjoin(output_folder, file)\n\u001b[0;32m      8\u001b[0m \u001b[38;5;66;03m# Load the Parquet file into a DataFrame\u001b[39;00m\n\u001b[1;32m----> 9\u001b[0m df \u001b[38;5;241m=\u001b[39m \u001b[43mpd\u001b[49m\u001b[38;5;241;43m.\u001b[39;49m\u001b[43mread_parquet\u001b[49m\u001b[43m(\u001b[49m\u001b[43mfile_path\u001b[49m\u001b[43m)\u001b[49m\n\u001b[0;32m     11\u001b[0m \u001b[38;5;66;03m# Perform filtering for relevant tweets\u001b[39;00m\n\u001b[0;32m     12\u001b[0m relevant_tweets \u001b[38;5;241m=\u001b[39m df[df[\u001b[38;5;124m'\u001b[39m\u001b[38;5;124mtweet\u001b[39m\u001b[38;5;124m'\u001b[39m]\u001b[38;5;241m.\u001b[39mapply(filter_relevant_tweets)]\n",
      "File \u001b[1;32mc:\\Users\\alexa\\anaconda3\\envs\\textMining\\Lib\\site-packages\\pandas\\io\\parquet.py:667\u001b[0m, in \u001b[0;36mread_parquet\u001b[1;34m(path, engine, columns, storage_options, use_nullable_dtypes, dtype_backend, filesystem, filters, **kwargs)\u001b[0m\n\u001b[0;32m    664\u001b[0m     use_nullable_dtypes \u001b[38;5;241m=\u001b[39m \u001b[38;5;28;01mFalse\u001b[39;00m\n\u001b[0;32m    665\u001b[0m check_dtype_backend(dtype_backend)\n\u001b[1;32m--> 667\u001b[0m \u001b[38;5;28;01mreturn\u001b[39;00m \u001b[43mimpl\u001b[49m\u001b[38;5;241;43m.\u001b[39;49m\u001b[43mread\u001b[49m\u001b[43m(\u001b[49m\n\u001b[0;32m    668\u001b[0m \u001b[43m    \u001b[49m\u001b[43mpath\u001b[49m\u001b[43m,\u001b[49m\n\u001b[0;32m    669\u001b[0m \u001b[43m    \u001b[49m\u001b[43mcolumns\u001b[49m\u001b[38;5;241;43m=\u001b[39;49m\u001b[43mcolumns\u001b[49m\u001b[43m,\u001b[49m\n\u001b[0;32m    670\u001b[0m \u001b[43m    \u001b[49m\u001b[43mfilters\u001b[49m\u001b[38;5;241;43m=\u001b[39;49m\u001b[43mfilters\u001b[49m\u001b[43m,\u001b[49m\n\u001b[0;32m    671\u001b[0m \u001b[43m    \u001b[49m\u001b[43mstorage_options\u001b[49m\u001b[38;5;241;43m=\u001b[39;49m\u001b[43mstorage_options\u001b[49m\u001b[43m,\u001b[49m\n\u001b[0;32m    672\u001b[0m \u001b[43m    \u001b[49m\u001b[43muse_nullable_dtypes\u001b[49m\u001b[38;5;241;43m=\u001b[39;49m\u001b[43muse_nullable_dtypes\u001b[49m\u001b[43m,\u001b[49m\n\u001b[0;32m    673\u001b[0m \u001b[43m    \u001b[49m\u001b[43mdtype_backend\u001b[49m\u001b[38;5;241;43m=\u001b[39;49m\u001b[43mdtype_backend\u001b[49m\u001b[43m,\u001b[49m\n\u001b[0;32m    674\u001b[0m \u001b[43m    \u001b[49m\u001b[43mfilesystem\u001b[49m\u001b[38;5;241;43m=\u001b[39;49m\u001b[43mfilesystem\u001b[49m\u001b[43m,\u001b[49m\n\u001b[0;32m    675\u001b[0m \u001b[43m    \u001b[49m\u001b[38;5;241;43m*\u001b[39;49m\u001b[38;5;241;43m*\u001b[39;49m\u001b[43mkwargs\u001b[49m\u001b[43m,\u001b[49m\n\u001b[0;32m    676\u001b[0m \u001b[43m\u001b[49m\u001b[43m)\u001b[49m\n",
      "File \u001b[1;32mc:\\Users\\alexa\\anaconda3\\envs\\textMining\\Lib\\site-packages\\pandas\\io\\parquet.py:267\u001b[0m, in \u001b[0;36mPyArrowImpl.read\u001b[1;34m(self, path, columns, filters, use_nullable_dtypes, dtype_backend, storage_options, filesystem, **kwargs)\u001b[0m\n\u001b[0;32m    264\u001b[0m \u001b[38;5;28;01mif\u001b[39;00m manager \u001b[38;5;241m==\u001b[39m \u001b[38;5;124m\"\u001b[39m\u001b[38;5;124marray\u001b[39m\u001b[38;5;124m\"\u001b[39m:\n\u001b[0;32m    265\u001b[0m     to_pandas_kwargs[\u001b[38;5;124m\"\u001b[39m\u001b[38;5;124msplit_blocks\u001b[39m\u001b[38;5;124m\"\u001b[39m] \u001b[38;5;241m=\u001b[39m \u001b[38;5;28;01mTrue\u001b[39;00m  \u001b[38;5;66;03m# type: ignore[assignment]\u001b[39;00m\n\u001b[1;32m--> 267\u001b[0m path_or_handle, handles, filesystem \u001b[38;5;241m=\u001b[39m \u001b[43m_get_path_or_handle\u001b[49m\u001b[43m(\u001b[49m\n\u001b[0;32m    268\u001b[0m \u001b[43m    \u001b[49m\u001b[43mpath\u001b[49m\u001b[43m,\u001b[49m\n\u001b[0;32m    269\u001b[0m \u001b[43m    \u001b[49m\u001b[43mfilesystem\u001b[49m\u001b[43m,\u001b[49m\n\u001b[0;32m    270\u001b[0m \u001b[43m    \u001b[49m\u001b[43mstorage_options\u001b[49m\u001b[38;5;241;43m=\u001b[39;49m\u001b[43mstorage_options\u001b[49m\u001b[43m,\u001b[49m\n\u001b[0;32m    271\u001b[0m \u001b[43m    \u001b[49m\u001b[43mmode\u001b[49m\u001b[38;5;241;43m=\u001b[39;49m\u001b[38;5;124;43m\"\u001b[39;49m\u001b[38;5;124;43mrb\u001b[39;49m\u001b[38;5;124;43m\"\u001b[39;49m\u001b[43m,\u001b[49m\n\u001b[0;32m    272\u001b[0m \u001b[43m\u001b[49m\u001b[43m)\u001b[49m\n\u001b[0;32m    273\u001b[0m \u001b[38;5;28;01mtry\u001b[39;00m:\n\u001b[0;32m    274\u001b[0m     pa_table \u001b[38;5;241m=\u001b[39m \u001b[38;5;28mself\u001b[39m\u001b[38;5;241m.\u001b[39mapi\u001b[38;5;241m.\u001b[39mparquet\u001b[38;5;241m.\u001b[39mread_table(\n\u001b[0;32m    275\u001b[0m         path_or_handle,\n\u001b[0;32m    276\u001b[0m         columns\u001b[38;5;241m=\u001b[39mcolumns,\n\u001b[1;32m   (...)\u001b[0m\n\u001b[0;32m    279\u001b[0m         \u001b[38;5;241m*\u001b[39m\u001b[38;5;241m*\u001b[39mkwargs,\n\u001b[0;32m    280\u001b[0m     )\n",
      "File \u001b[1;32mc:\\Users\\alexa\\anaconda3\\envs\\textMining\\Lib\\site-packages\\pandas\\io\\parquet.py:140\u001b[0m, in \u001b[0;36m_get_path_or_handle\u001b[1;34m(path, fs, storage_options, mode, is_dir)\u001b[0m\n\u001b[0;32m    130\u001b[0m handles \u001b[38;5;241m=\u001b[39m \u001b[38;5;28;01mNone\u001b[39;00m\n\u001b[0;32m    131\u001b[0m \u001b[38;5;28;01mif\u001b[39;00m (\n\u001b[0;32m    132\u001b[0m     \u001b[38;5;129;01mnot\u001b[39;00m fs\n\u001b[0;32m    133\u001b[0m     \u001b[38;5;129;01mand\u001b[39;00m \u001b[38;5;129;01mnot\u001b[39;00m is_dir\n\u001b[1;32m   (...)\u001b[0m\n\u001b[0;32m    138\u001b[0m     \u001b[38;5;66;03m# fsspec resources can also point to directories\u001b[39;00m\n\u001b[0;32m    139\u001b[0m     \u001b[38;5;66;03m# this branch is used for example when reading from non-fsspec URLs\u001b[39;00m\n\u001b[1;32m--> 140\u001b[0m     handles \u001b[38;5;241m=\u001b[39m \u001b[43mget_handle\u001b[49m\u001b[43m(\u001b[49m\n\u001b[0;32m    141\u001b[0m \u001b[43m        \u001b[49m\u001b[43mpath_or_handle\u001b[49m\u001b[43m,\u001b[49m\u001b[43m \u001b[49m\u001b[43mmode\u001b[49m\u001b[43m,\u001b[49m\u001b[43m \u001b[49m\u001b[43mis_text\u001b[49m\u001b[38;5;241;43m=\u001b[39;49m\u001b[38;5;28;43;01mFalse\u001b[39;49;00m\u001b[43m,\u001b[49m\u001b[43m \u001b[49m\u001b[43mstorage_options\u001b[49m\u001b[38;5;241;43m=\u001b[39;49m\u001b[43mstorage_options\u001b[49m\n\u001b[0;32m    142\u001b[0m \u001b[43m    \u001b[49m\u001b[43m)\u001b[49m\n\u001b[0;32m    143\u001b[0m     fs \u001b[38;5;241m=\u001b[39m \u001b[38;5;28;01mNone\u001b[39;00m\n\u001b[0;32m    144\u001b[0m     path_or_handle \u001b[38;5;241m=\u001b[39m handles\u001b[38;5;241m.\u001b[39mhandle\n",
      "File \u001b[1;32mc:\\Users\\alexa\\anaconda3\\envs\\textMining\\Lib\\site-packages\\pandas\\io\\common.py:882\u001b[0m, in \u001b[0;36mget_handle\u001b[1;34m(path_or_buf, mode, encoding, compression, memory_map, is_text, errors, storage_options)\u001b[0m\n\u001b[0;32m    873\u001b[0m         handle \u001b[38;5;241m=\u001b[39m \u001b[38;5;28mopen\u001b[39m(\n\u001b[0;32m    874\u001b[0m             handle,\n\u001b[0;32m    875\u001b[0m             ioargs\u001b[38;5;241m.\u001b[39mmode,\n\u001b[1;32m   (...)\u001b[0m\n\u001b[0;32m    878\u001b[0m             newline\u001b[38;5;241m=\u001b[39m\u001b[38;5;124m\"\u001b[39m\u001b[38;5;124m\"\u001b[39m,\n\u001b[0;32m    879\u001b[0m         )\n\u001b[0;32m    880\u001b[0m     \u001b[38;5;28;01melse\u001b[39;00m:\n\u001b[0;32m    881\u001b[0m         \u001b[38;5;66;03m# Binary mode\u001b[39;00m\n\u001b[1;32m--> 882\u001b[0m         handle \u001b[38;5;241m=\u001b[39m \u001b[38;5;28mopen\u001b[39m(handle, ioargs\u001b[38;5;241m.\u001b[39mmode)\n\u001b[0;32m    883\u001b[0m     handles\u001b[38;5;241m.\u001b[39mappend(handle)\n\u001b[0;32m    885\u001b[0m \u001b[38;5;66;03m# Convert BytesIO or file objects passed with an encoding\u001b[39;00m\n",
      "\u001b[1;31mFileNotFoundError\u001b[0m: [Errno 2] No such file or directory: '../dataset/twitter100m_tweets_filtered/data\\\\processed_filtered_train-00000-of-00041-3f49db2da17edd5a.parquet'"
     ]
    }
   ],
   "source": [
    "\n",
    "files = [file for file in os.listdir(output_folder) if file.endswith(\".parquet\")]\n",
    "\n",
    "\n",
    "for file in tqdm(files, desc=\"Processing Parquet Files\", ncols=100, bar_format=\"{l_bar}{bar} [Elapsed: {elapsed} | Remaining: {remaining}]\"):\n",
    "    file_path = os.path.join(output_folder, file)\n",
    "    \n",
    "    \n",
    "    df = pd.read_parquet(file_path)\n",
    "    \n",
    "   \n",
    "    relevant_tweets = df[df['tweet'].apply(filter_relevant_tweets)]\n",
    "    \n",
    "   \n",
    "    print(f\"\\nFile: {file} | Total tweets: {len(df)} | Relevant tweets: {len(relevant_tweets)}\")\n",
    "    \n",
    "    \n",
    "    relevant_file_path = os.path.join(output_folder, f\"relevant_{file}\")\n",
    "    relevant_tweets.to_parquet(relevant_file_path, index=False)\n",
    "    print(f\"Relevant tweets saved: {relevant_file_path}\")"
   ]
  }
 ],
 "metadata": {
  "kernelspec": {
   "display_name": "textMining",
   "language": "python",
   "name": "python3"
  },
  "language_info": {
   "codemirror_mode": {
    "name": "ipython",
    "version": 3
   },
   "file_extension": ".py",
   "mimetype": "text/x-python",
   "name": "python",
   "nbconvert_exporter": "python",
   "pygments_lexer": "ipython3",
   "version": "3.11.10"
  }
 },
 "nbformat": 4,
 "nbformat_minor": 2
}
